{
  "nbformat": 4,
  "nbformat_minor": 0,
  "metadata": {
    "colab": {
      "provenance": [],
      "gpuType": "T4",
      "authorship_tag": "ABX9TyOJ2gT4QkY1bTOaPkpCawRx",
      "include_colab_link": true
    },
    "kernelspec": {
      "name": "python3",
      "display_name": "Python 3"
    },
    "language_info": {
      "name": "python"
    },
    "accelerator": "GPU"
  },
  "cells": [
    {
      "cell_type": "markdown",
      "metadata": {
        "id": "view-in-github",
        "colab_type": "text"
      },
      "source": [
        "<a href=\"https://colab.research.google.com/github/rkgupta7463/ML-projects-code/blob/main/FakeNews_Classifications(Bidirectional_LSTM).ipynb\" target=\"_parent\"><img src=\"https://colab.research.google.com/assets/colab-badge.svg\" alt=\"Open In Colab\"/></a>"
      ]
    },
    {
      "cell_type": "markdown",
      "source": [
        "### How to use this project to in your colab notebook\n",
        "**Follow the steps:-**\n",
        "1. Download Your Kaggle APIs Key and password file from your kaggle account in setting section\n",
        "2. Upload APIs key json file in your colab notebook and then run 3 cell of line which start from 2 upto 4 (these cell should only one time)"
      ],
      "metadata": {
        "id": "ceAB4xU64KX7"
      }
    },
    {
      "cell_type": "code",
      "execution_count": 6,
      "metadata": {
        "id": "Sbcxs5S2M5Cu"
      },
      "outputs": [],
      "source": [
        "# This Python 3 environment comes with many helpful analytics libraries installed\n",
        "# It is defined by the kaggle/python Docker image: https://github.com/kaggle/docker-python\n",
        "# For example, here's several helpful packages to load\n",
        "\n",
        "import numpy as np # linear algebra\n",
        "import pandas as pd # data processing, CSV file I/O (e.g. pd.read_csv)\n",
        "import re"
      ]
    },
    {
      "cell_type": "code",
      "source": [
        "# !mkdir -p ~/.kaggle\n",
        "# !cp kaggle.json ~/.kaggle/"
      ],
      "metadata": {
        "id": "leqQxE5VNDsm"
      },
      "execution_count": 7,
      "outputs": []
    },
    {
      "cell_type": "code",
      "source": [
        "# !kaggle datasets download -d algord/fake-news"
      ],
      "metadata": {
        "id": "IhMFYlNiNKGe"
      },
      "execution_count": 8,
      "outputs": []
    },
    {
      "cell_type": "code",
      "source": [
        "# import zipfile\n",
        "# zip = zipfile.ZipFile(\"/content/fake-news.zip\",'r')\n",
        "# zip.extractall(\"/content\")\n",
        "# zip.close()"
      ],
      "metadata": {
        "id": "RvLMo-x3NLRO"
      },
      "execution_count": 9,
      "outputs": []
    },
    {
      "cell_type": "code",
      "source": [
        "df=pd.read_csv('FakeNewsNet.csv')"
      ],
      "metadata": {
        "id": "LZ2v7RVxNMWD"
      },
      "execution_count": 10,
      "outputs": []
    },
    {
      "cell_type": "code",
      "source": [
        "df.shape"
      ],
      "metadata": {
        "colab": {
          "base_uri": "https://localhost:8080/",
          "height": 0
        },
        "id": "rslZyk7-NQgC",
        "outputId": "3a5198f8-3eca-4568-c172-c4d613f3da0e"
      },
      "execution_count": 11,
      "outputs": [
        {
          "output_type": "execute_result",
          "data": {
            "text/plain": [
              "(23196, 5)"
            ]
          },
          "metadata": {},
          "execution_count": 11
        }
      ]
    },
    {
      "cell_type": "code",
      "source": [
        "df.head()"
      ],
      "metadata": {
        "colab": {
          "base_uri": "https://localhost:8080/",
          "height": 206
        },
        "id": "I06yTmGeNXcD",
        "outputId": "c122f356-a67a-474d-d457-3318ce783284"
      },
      "execution_count": 12,
      "outputs": [
        {
          "output_type": "execute_result",
          "data": {
            "text/plain": [
              "                                               title  \\\n",
              "0  Kandi Burruss Explodes Over Rape Accusation on...   \n",
              "1  People's Choice Awards 2018: The best red carp...   \n",
              "2  Sophia Bush Sends Sweet Birthday Message to 'O...   \n",
              "3  Colombian singer Maluma sparks rumours of inap...   \n",
              "4  Gossip Girl 10 Years Later: How Upper East Sid...   \n",
              "\n",
              "                                            news_url        source_domain  \\\n",
              "0  http://toofab.com/2017/05/08/real-housewives-a...           toofab.com   \n",
              "1  https://www.today.com/style/see-people-s-choic...        www.today.com   \n",
              "2  https://www.etonline.com/news/220806_sophia_bu...     www.etonline.com   \n",
              "3  https://www.dailymail.co.uk/news/article-33655...  www.dailymail.co.uk   \n",
              "4  https://www.zerchoo.com/entertainment/gossip-g...      www.zerchoo.com   \n",
              "\n",
              "   tweet_num  real  \n",
              "0         42     1  \n",
              "1          0     1  \n",
              "2         63     1  \n",
              "3         20     1  \n",
              "4         38     1  "
            ],
            "text/html": [
              "\n",
              "\n",
              "  <div id=\"df-67976ee4-7650-4d9e-93af-13ffd528eb8b\">\n",
              "    <div class=\"colab-df-container\">\n",
              "      <div>\n",
              "<style scoped>\n",
              "    .dataframe tbody tr th:only-of-type {\n",
              "        vertical-align: middle;\n",
              "    }\n",
              "\n",
              "    .dataframe tbody tr th {\n",
              "        vertical-align: top;\n",
              "    }\n",
              "\n",
              "    .dataframe thead th {\n",
              "        text-align: right;\n",
              "    }\n",
              "</style>\n",
              "<table border=\"1\" class=\"dataframe\">\n",
              "  <thead>\n",
              "    <tr style=\"text-align: right;\">\n",
              "      <th></th>\n",
              "      <th>title</th>\n",
              "      <th>news_url</th>\n",
              "      <th>source_domain</th>\n",
              "      <th>tweet_num</th>\n",
              "      <th>real</th>\n",
              "    </tr>\n",
              "  </thead>\n",
              "  <tbody>\n",
              "    <tr>\n",
              "      <th>0</th>\n",
              "      <td>Kandi Burruss Explodes Over Rape Accusation on...</td>\n",
              "      <td>http://toofab.com/2017/05/08/real-housewives-a...</td>\n",
              "      <td>toofab.com</td>\n",
              "      <td>42</td>\n",
              "      <td>1</td>\n",
              "    </tr>\n",
              "    <tr>\n",
              "      <th>1</th>\n",
              "      <td>People's Choice Awards 2018: The best red carp...</td>\n",
              "      <td>https://www.today.com/style/see-people-s-choic...</td>\n",
              "      <td>www.today.com</td>\n",
              "      <td>0</td>\n",
              "      <td>1</td>\n",
              "    </tr>\n",
              "    <tr>\n",
              "      <th>2</th>\n",
              "      <td>Sophia Bush Sends Sweet Birthday Message to 'O...</td>\n",
              "      <td>https://www.etonline.com/news/220806_sophia_bu...</td>\n",
              "      <td>www.etonline.com</td>\n",
              "      <td>63</td>\n",
              "      <td>1</td>\n",
              "    </tr>\n",
              "    <tr>\n",
              "      <th>3</th>\n",
              "      <td>Colombian singer Maluma sparks rumours of inap...</td>\n",
              "      <td>https://www.dailymail.co.uk/news/article-33655...</td>\n",
              "      <td>www.dailymail.co.uk</td>\n",
              "      <td>20</td>\n",
              "      <td>1</td>\n",
              "    </tr>\n",
              "    <tr>\n",
              "      <th>4</th>\n",
              "      <td>Gossip Girl 10 Years Later: How Upper East Sid...</td>\n",
              "      <td>https://www.zerchoo.com/entertainment/gossip-g...</td>\n",
              "      <td>www.zerchoo.com</td>\n",
              "      <td>38</td>\n",
              "      <td>1</td>\n",
              "    </tr>\n",
              "  </tbody>\n",
              "</table>\n",
              "</div>\n",
              "      <button class=\"colab-df-convert\" onclick=\"convertToInteractive('df-67976ee4-7650-4d9e-93af-13ffd528eb8b')\"\n",
              "              title=\"Convert this dataframe to an interactive table.\"\n",
              "              style=\"display:none;\">\n",
              "\n",
              "  <svg xmlns=\"http://www.w3.org/2000/svg\" height=\"24px\"viewBox=\"0 0 24 24\"\n",
              "       width=\"24px\">\n",
              "    <path d=\"M0 0h24v24H0V0z\" fill=\"none\"/>\n",
              "    <path d=\"M18.56 5.44l.94 2.06.94-2.06 2.06-.94-2.06-.94-.94-2.06-.94 2.06-2.06.94zm-11 1L8.5 8.5l.94-2.06 2.06-.94-2.06-.94L8.5 2.5l-.94 2.06-2.06.94zm10 10l.94 2.06.94-2.06 2.06-.94-2.06-.94-.94-2.06-.94 2.06-2.06.94z\"/><path d=\"M17.41 7.96l-1.37-1.37c-.4-.4-.92-.59-1.43-.59-.52 0-1.04.2-1.43.59L10.3 9.45l-7.72 7.72c-.78.78-.78 2.05 0 2.83L4 21.41c.39.39.9.59 1.41.59.51 0 1.02-.2 1.41-.59l7.78-7.78 2.81-2.81c.8-.78.8-2.07 0-2.86zM5.41 20L4 18.59l7.72-7.72 1.47 1.35L5.41 20z\"/>\n",
              "  </svg>\n",
              "      </button>\n",
              "\n",
              "\n",
              "\n",
              "    <div id=\"df-1cbd5b5a-b94b-4508-8f05-1a082aa3fd92\">\n",
              "      <button class=\"colab-df-quickchart\" onclick=\"quickchart('df-1cbd5b5a-b94b-4508-8f05-1a082aa3fd92')\"\n",
              "              title=\"Suggest charts.\"\n",
              "              style=\"display:none;\">\n",
              "\n",
              "<svg xmlns=\"http://www.w3.org/2000/svg\" height=\"24px\"viewBox=\"0 0 24 24\"\n",
              "     width=\"24px\">\n",
              "    <g>\n",
              "        <path d=\"M19 3H5c-1.1 0-2 .9-2 2v14c0 1.1.9 2 2 2h14c1.1 0 2-.9 2-2V5c0-1.1-.9-2-2-2zM9 17H7v-7h2v7zm4 0h-2V7h2v10zm4 0h-2v-4h2v4z\"/>\n",
              "    </g>\n",
              "</svg>\n",
              "      </button>\n",
              "    </div>\n",
              "\n",
              "<style>\n",
              "  .colab-df-quickchart {\n",
              "    background-color: #E8F0FE;\n",
              "    border: none;\n",
              "    border-radius: 50%;\n",
              "    cursor: pointer;\n",
              "    display: none;\n",
              "    fill: #1967D2;\n",
              "    height: 32px;\n",
              "    padding: 0 0 0 0;\n",
              "    width: 32px;\n",
              "  }\n",
              "\n",
              "  .colab-df-quickchart:hover {\n",
              "    background-color: #E2EBFA;\n",
              "    box-shadow: 0px 1px 2px rgba(60, 64, 67, 0.3), 0px 1px 3px 1px rgba(60, 64, 67, 0.15);\n",
              "    fill: #174EA6;\n",
              "  }\n",
              "\n",
              "  [theme=dark] .colab-df-quickchart {\n",
              "    background-color: #3B4455;\n",
              "    fill: #D2E3FC;\n",
              "  }\n",
              "\n",
              "  [theme=dark] .colab-df-quickchart:hover {\n",
              "    background-color: #434B5C;\n",
              "    box-shadow: 0px 1px 3px 1px rgba(0, 0, 0, 0.15);\n",
              "    filter: drop-shadow(0px 1px 2px rgba(0, 0, 0, 0.3));\n",
              "    fill: #FFFFFF;\n",
              "  }\n",
              "</style>\n",
              "\n",
              "    <script>\n",
              "      async function quickchart(key) {\n",
              "        const containerElement = document.querySelector('#' + key);\n",
              "        const charts = await google.colab.kernel.invokeFunction(\n",
              "            'suggestCharts', [key], {});\n",
              "      }\n",
              "    </script>\n",
              "\n",
              "      <script>\n",
              "\n",
              "function displayQuickchartButton(domScope) {\n",
              "  let quickchartButtonEl =\n",
              "    domScope.querySelector('#df-1cbd5b5a-b94b-4508-8f05-1a082aa3fd92 button.colab-df-quickchart');\n",
              "  quickchartButtonEl.style.display =\n",
              "    google.colab.kernel.accessAllowed ? 'block' : 'none';\n",
              "}\n",
              "\n",
              "        displayQuickchartButton(document);\n",
              "      </script>\n",
              "      <style>\n",
              "    .colab-df-container {\n",
              "      display:flex;\n",
              "      flex-wrap:wrap;\n",
              "      gap: 12px;\n",
              "    }\n",
              "\n",
              "    .colab-df-convert {\n",
              "      background-color: #E8F0FE;\n",
              "      border: none;\n",
              "      border-radius: 50%;\n",
              "      cursor: pointer;\n",
              "      display: none;\n",
              "      fill: #1967D2;\n",
              "      height: 32px;\n",
              "      padding: 0 0 0 0;\n",
              "      width: 32px;\n",
              "    }\n",
              "\n",
              "    .colab-df-convert:hover {\n",
              "      background-color: #E2EBFA;\n",
              "      box-shadow: 0px 1px 2px rgba(60, 64, 67, 0.3), 0px 1px 3px 1px rgba(60, 64, 67, 0.15);\n",
              "      fill: #174EA6;\n",
              "    }\n",
              "\n",
              "    [theme=dark] .colab-df-convert {\n",
              "      background-color: #3B4455;\n",
              "      fill: #D2E3FC;\n",
              "    }\n",
              "\n",
              "    [theme=dark] .colab-df-convert:hover {\n",
              "      background-color: #434B5C;\n",
              "      box-shadow: 0px 1px 3px 1px rgba(0, 0, 0, 0.15);\n",
              "      filter: drop-shadow(0px 1px 2px rgba(0, 0, 0, 0.3));\n",
              "      fill: #FFFFFF;\n",
              "    }\n",
              "  </style>\n",
              "\n",
              "      <script>\n",
              "        const buttonEl =\n",
              "          document.querySelector('#df-67976ee4-7650-4d9e-93af-13ffd528eb8b button.colab-df-convert');\n",
              "        buttonEl.style.display =\n",
              "          google.colab.kernel.accessAllowed ? 'block' : 'none';\n",
              "\n",
              "        async function convertToInteractive(key) {\n",
              "          const element = document.querySelector('#df-67976ee4-7650-4d9e-93af-13ffd528eb8b');\n",
              "          const dataTable =\n",
              "            await google.colab.kernel.invokeFunction('convertToInteractive',\n",
              "                                                     [key], {});\n",
              "          if (!dataTable) return;\n",
              "\n",
              "          const docLinkHtml = 'Like what you see? Visit the ' +\n",
              "            '<a target=\"_blank\" href=https://colab.research.google.com/notebooks/data_table.ipynb>data table notebook</a>'\n",
              "            + ' to learn more about interactive tables.';\n",
              "          element.innerHTML = '';\n",
              "          dataTable['output_type'] = 'display_data';\n",
              "          await google.colab.output.renderOutput(dataTable, element);\n",
              "          const docLink = document.createElement('div');\n",
              "          docLink.innerHTML = docLinkHtml;\n",
              "          element.appendChild(docLink);\n",
              "        }\n",
              "      </script>\n",
              "    </div>\n",
              "  </div>\n"
            ]
          },
          "metadata": {},
          "execution_count": 12
        }
      ]
    },
    {
      "cell_type": "code",
      "source": [
        "df.tail()"
      ],
      "metadata": {
        "colab": {
          "base_uri": "https://localhost:8080/",
          "height": 206
        },
        "id": "rgoQCnqoNZDK",
        "outputId": "86b69755-6971-4c4b-f6b5-f12090203be9"
      },
      "execution_count": 13,
      "outputs": [
        {
          "output_type": "execute_result",
          "data": {
            "text/plain": [
              "                                                   title  \\\n",
              "23191  Pippa Middleton wedding: In case you missed it...   \n",
              "23192  Zayn Malik & Gigi Hadid’s Shocking Split: Why ...   \n",
              "23193  Jessica Chastain Recalls the Moment Her Mother...   \n",
              "23194  Tristan Thompson Feels \"Dumped\" After Khloé Ka...   \n",
              "23195  Kelly Clarkson Performs a Medley of Kendrick L...   \n",
              "\n",
              "                                                news_url  \\\n",
              "23191  https://www.express.co.uk/news/royal/807049/pi...   \n",
              "23192  hollywoodlife.com/2018/03/13/zayn-malik-gigi-h...   \n",
              "23193  http://www.justjared.com/2018/01/17/jessica-ch...   \n",
              "23194  www.intouchweekly.com/posts/tristan-thompson-f...   \n",
              "23195  https://www.billboard.com/articles/news/bbma/8...   \n",
              "\n",
              "               source_domain  tweet_num  real  \n",
              "23191      www.express.co.uk         52     1  \n",
              "23192      hollywoodlife.com          7     0  \n",
              "23193      www.justjared.com         26     1  \n",
              "23194  www.intouchweekly.com         24     0  \n",
              "23195      www.billboard.com         85     1  "
            ],
            "text/html": [
              "\n",
              "\n",
              "  <div id=\"df-edf40cc4-0428-42ae-8f7b-d9074b905a1a\">\n",
              "    <div class=\"colab-df-container\">\n",
              "      <div>\n",
              "<style scoped>\n",
              "    .dataframe tbody tr th:only-of-type {\n",
              "        vertical-align: middle;\n",
              "    }\n",
              "\n",
              "    .dataframe tbody tr th {\n",
              "        vertical-align: top;\n",
              "    }\n",
              "\n",
              "    .dataframe thead th {\n",
              "        text-align: right;\n",
              "    }\n",
              "</style>\n",
              "<table border=\"1\" class=\"dataframe\">\n",
              "  <thead>\n",
              "    <tr style=\"text-align: right;\">\n",
              "      <th></th>\n",
              "      <th>title</th>\n",
              "      <th>news_url</th>\n",
              "      <th>source_domain</th>\n",
              "      <th>tweet_num</th>\n",
              "      <th>real</th>\n",
              "    </tr>\n",
              "  </thead>\n",
              "  <tbody>\n",
              "    <tr>\n",
              "      <th>23191</th>\n",
              "      <td>Pippa Middleton wedding: In case you missed it...</td>\n",
              "      <td>https://www.express.co.uk/news/royal/807049/pi...</td>\n",
              "      <td>www.express.co.uk</td>\n",
              "      <td>52</td>\n",
              "      <td>1</td>\n",
              "    </tr>\n",
              "    <tr>\n",
              "      <th>23192</th>\n",
              "      <td>Zayn Malik &amp; Gigi Hadid’s Shocking Split: Why ...</td>\n",
              "      <td>hollywoodlife.com/2018/03/13/zayn-malik-gigi-h...</td>\n",
              "      <td>hollywoodlife.com</td>\n",
              "      <td>7</td>\n",
              "      <td>0</td>\n",
              "    </tr>\n",
              "    <tr>\n",
              "      <th>23193</th>\n",
              "      <td>Jessica Chastain Recalls the Moment Her Mother...</td>\n",
              "      <td>http://www.justjared.com/2018/01/17/jessica-ch...</td>\n",
              "      <td>www.justjared.com</td>\n",
              "      <td>26</td>\n",
              "      <td>1</td>\n",
              "    </tr>\n",
              "    <tr>\n",
              "      <th>23194</th>\n",
              "      <td>Tristan Thompson Feels \"Dumped\" After Khloé Ka...</td>\n",
              "      <td>www.intouchweekly.com/posts/tristan-thompson-f...</td>\n",
              "      <td>www.intouchweekly.com</td>\n",
              "      <td>24</td>\n",
              "      <td>0</td>\n",
              "    </tr>\n",
              "    <tr>\n",
              "      <th>23195</th>\n",
              "      <td>Kelly Clarkson Performs a Medley of Kendrick L...</td>\n",
              "      <td>https://www.billboard.com/articles/news/bbma/8...</td>\n",
              "      <td>www.billboard.com</td>\n",
              "      <td>85</td>\n",
              "      <td>1</td>\n",
              "    </tr>\n",
              "  </tbody>\n",
              "</table>\n",
              "</div>\n",
              "      <button class=\"colab-df-convert\" onclick=\"convertToInteractive('df-edf40cc4-0428-42ae-8f7b-d9074b905a1a')\"\n",
              "              title=\"Convert this dataframe to an interactive table.\"\n",
              "              style=\"display:none;\">\n",
              "\n",
              "  <svg xmlns=\"http://www.w3.org/2000/svg\" height=\"24px\"viewBox=\"0 0 24 24\"\n",
              "       width=\"24px\">\n",
              "    <path d=\"M0 0h24v24H0V0z\" fill=\"none\"/>\n",
              "    <path d=\"M18.56 5.44l.94 2.06.94-2.06 2.06-.94-2.06-.94-.94-2.06-.94 2.06-2.06.94zm-11 1L8.5 8.5l.94-2.06 2.06-.94-2.06-.94L8.5 2.5l-.94 2.06-2.06.94zm10 10l.94 2.06.94-2.06 2.06-.94-2.06-.94-.94-2.06-.94 2.06-2.06.94z\"/><path d=\"M17.41 7.96l-1.37-1.37c-.4-.4-.92-.59-1.43-.59-.52 0-1.04.2-1.43.59L10.3 9.45l-7.72 7.72c-.78.78-.78 2.05 0 2.83L4 21.41c.39.39.9.59 1.41.59.51 0 1.02-.2 1.41-.59l7.78-7.78 2.81-2.81c.8-.78.8-2.07 0-2.86zM5.41 20L4 18.59l7.72-7.72 1.47 1.35L5.41 20z\"/>\n",
              "  </svg>\n",
              "      </button>\n",
              "\n",
              "\n",
              "\n",
              "    <div id=\"df-d7b45c56-0b9b-403b-a11a-923445e255a1\">\n",
              "      <button class=\"colab-df-quickchart\" onclick=\"quickchart('df-d7b45c56-0b9b-403b-a11a-923445e255a1')\"\n",
              "              title=\"Suggest charts.\"\n",
              "              style=\"display:none;\">\n",
              "\n",
              "<svg xmlns=\"http://www.w3.org/2000/svg\" height=\"24px\"viewBox=\"0 0 24 24\"\n",
              "     width=\"24px\">\n",
              "    <g>\n",
              "        <path d=\"M19 3H5c-1.1 0-2 .9-2 2v14c0 1.1.9 2 2 2h14c1.1 0 2-.9 2-2V5c0-1.1-.9-2-2-2zM9 17H7v-7h2v7zm4 0h-2V7h2v10zm4 0h-2v-4h2v4z\"/>\n",
              "    </g>\n",
              "</svg>\n",
              "      </button>\n",
              "    </div>\n",
              "\n",
              "<style>\n",
              "  .colab-df-quickchart {\n",
              "    background-color: #E8F0FE;\n",
              "    border: none;\n",
              "    border-radius: 50%;\n",
              "    cursor: pointer;\n",
              "    display: none;\n",
              "    fill: #1967D2;\n",
              "    height: 32px;\n",
              "    padding: 0 0 0 0;\n",
              "    width: 32px;\n",
              "  }\n",
              "\n",
              "  .colab-df-quickchart:hover {\n",
              "    background-color: #E2EBFA;\n",
              "    box-shadow: 0px 1px 2px rgba(60, 64, 67, 0.3), 0px 1px 3px 1px rgba(60, 64, 67, 0.15);\n",
              "    fill: #174EA6;\n",
              "  }\n",
              "\n",
              "  [theme=dark] .colab-df-quickchart {\n",
              "    background-color: #3B4455;\n",
              "    fill: #D2E3FC;\n",
              "  }\n",
              "\n",
              "  [theme=dark] .colab-df-quickchart:hover {\n",
              "    background-color: #434B5C;\n",
              "    box-shadow: 0px 1px 3px 1px rgba(0, 0, 0, 0.15);\n",
              "    filter: drop-shadow(0px 1px 2px rgba(0, 0, 0, 0.3));\n",
              "    fill: #FFFFFF;\n",
              "  }\n",
              "</style>\n",
              "\n",
              "    <script>\n",
              "      async function quickchart(key) {\n",
              "        const containerElement = document.querySelector('#' + key);\n",
              "        const charts = await google.colab.kernel.invokeFunction(\n",
              "            'suggestCharts', [key], {});\n",
              "      }\n",
              "    </script>\n",
              "\n",
              "      <script>\n",
              "\n",
              "function displayQuickchartButton(domScope) {\n",
              "  let quickchartButtonEl =\n",
              "    domScope.querySelector('#df-d7b45c56-0b9b-403b-a11a-923445e255a1 button.colab-df-quickchart');\n",
              "  quickchartButtonEl.style.display =\n",
              "    google.colab.kernel.accessAllowed ? 'block' : 'none';\n",
              "}\n",
              "\n",
              "        displayQuickchartButton(document);\n",
              "      </script>\n",
              "      <style>\n",
              "    .colab-df-container {\n",
              "      display:flex;\n",
              "      flex-wrap:wrap;\n",
              "      gap: 12px;\n",
              "    }\n",
              "\n",
              "    .colab-df-convert {\n",
              "      background-color: #E8F0FE;\n",
              "      border: none;\n",
              "      border-radius: 50%;\n",
              "      cursor: pointer;\n",
              "      display: none;\n",
              "      fill: #1967D2;\n",
              "      height: 32px;\n",
              "      padding: 0 0 0 0;\n",
              "      width: 32px;\n",
              "    }\n",
              "\n",
              "    .colab-df-convert:hover {\n",
              "      background-color: #E2EBFA;\n",
              "      box-shadow: 0px 1px 2px rgba(60, 64, 67, 0.3), 0px 1px 3px 1px rgba(60, 64, 67, 0.15);\n",
              "      fill: #174EA6;\n",
              "    }\n",
              "\n",
              "    [theme=dark] .colab-df-convert {\n",
              "      background-color: #3B4455;\n",
              "      fill: #D2E3FC;\n",
              "    }\n",
              "\n",
              "    [theme=dark] .colab-df-convert:hover {\n",
              "      background-color: #434B5C;\n",
              "      box-shadow: 0px 1px 3px 1px rgba(0, 0, 0, 0.15);\n",
              "      filter: drop-shadow(0px 1px 2px rgba(0, 0, 0, 0.3));\n",
              "      fill: #FFFFFF;\n",
              "    }\n",
              "  </style>\n",
              "\n",
              "      <script>\n",
              "        const buttonEl =\n",
              "          document.querySelector('#df-edf40cc4-0428-42ae-8f7b-d9074b905a1a button.colab-df-convert');\n",
              "        buttonEl.style.display =\n",
              "          google.colab.kernel.accessAllowed ? 'block' : 'none';\n",
              "\n",
              "        async function convertToInteractive(key) {\n",
              "          const element = document.querySelector('#df-edf40cc4-0428-42ae-8f7b-d9074b905a1a');\n",
              "          const dataTable =\n",
              "            await google.colab.kernel.invokeFunction('convertToInteractive',\n",
              "                                                     [key], {});\n",
              "          if (!dataTable) return;\n",
              "\n",
              "          const docLinkHtml = 'Like what you see? Visit the ' +\n",
              "            '<a target=\"_blank\" href=https://colab.research.google.com/notebooks/data_table.ipynb>data table notebook</a>'\n",
              "            + ' to learn more about interactive tables.';\n",
              "          element.innerHTML = '';\n",
              "          dataTable['output_type'] = 'display_data';\n",
              "          await google.colab.output.renderOutput(dataTable, element);\n",
              "          const docLink = document.createElement('div');\n",
              "          docLink.innerHTML = docLinkHtml;\n",
              "          element.appendChild(docLink);\n",
              "        }\n",
              "      </script>\n",
              "    </div>\n",
              "  </div>\n"
            ]
          },
          "metadata": {},
          "execution_count": 13
        }
      ]
    },
    {
      "cell_type": "code",
      "source": [
        "final_df=df[['title','real']]"
      ],
      "metadata": {
        "id": "mJnPlXU0NZ5l"
      },
      "execution_count": 14,
      "outputs": []
    },
    {
      "cell_type": "code",
      "source": [
        "final_df.head()"
      ],
      "metadata": {
        "colab": {
          "base_uri": "https://localhost:8080/",
          "height": 206
        },
        "id": "mP0DzOgUNfIv",
        "outputId": "9528925a-26ee-44be-f911-cb1f9538cf3c"
      },
      "execution_count": 15,
      "outputs": [
        {
          "output_type": "execute_result",
          "data": {
            "text/plain": [
              "                                               title  real\n",
              "0  Kandi Burruss Explodes Over Rape Accusation on...     1\n",
              "1  People's Choice Awards 2018: The best red carp...     1\n",
              "2  Sophia Bush Sends Sweet Birthday Message to 'O...     1\n",
              "3  Colombian singer Maluma sparks rumours of inap...     1\n",
              "4  Gossip Girl 10 Years Later: How Upper East Sid...     1"
            ],
            "text/html": [
              "\n",
              "\n",
              "  <div id=\"df-b612d13b-f158-4cf9-a558-dfce7d81b8c8\">\n",
              "    <div class=\"colab-df-container\">\n",
              "      <div>\n",
              "<style scoped>\n",
              "    .dataframe tbody tr th:only-of-type {\n",
              "        vertical-align: middle;\n",
              "    }\n",
              "\n",
              "    .dataframe tbody tr th {\n",
              "        vertical-align: top;\n",
              "    }\n",
              "\n",
              "    .dataframe thead th {\n",
              "        text-align: right;\n",
              "    }\n",
              "</style>\n",
              "<table border=\"1\" class=\"dataframe\">\n",
              "  <thead>\n",
              "    <tr style=\"text-align: right;\">\n",
              "      <th></th>\n",
              "      <th>title</th>\n",
              "      <th>real</th>\n",
              "    </tr>\n",
              "  </thead>\n",
              "  <tbody>\n",
              "    <tr>\n",
              "      <th>0</th>\n",
              "      <td>Kandi Burruss Explodes Over Rape Accusation on...</td>\n",
              "      <td>1</td>\n",
              "    </tr>\n",
              "    <tr>\n",
              "      <th>1</th>\n",
              "      <td>People's Choice Awards 2018: The best red carp...</td>\n",
              "      <td>1</td>\n",
              "    </tr>\n",
              "    <tr>\n",
              "      <th>2</th>\n",
              "      <td>Sophia Bush Sends Sweet Birthday Message to 'O...</td>\n",
              "      <td>1</td>\n",
              "    </tr>\n",
              "    <tr>\n",
              "      <th>3</th>\n",
              "      <td>Colombian singer Maluma sparks rumours of inap...</td>\n",
              "      <td>1</td>\n",
              "    </tr>\n",
              "    <tr>\n",
              "      <th>4</th>\n",
              "      <td>Gossip Girl 10 Years Later: How Upper East Sid...</td>\n",
              "      <td>1</td>\n",
              "    </tr>\n",
              "  </tbody>\n",
              "</table>\n",
              "</div>\n",
              "      <button class=\"colab-df-convert\" onclick=\"convertToInteractive('df-b612d13b-f158-4cf9-a558-dfce7d81b8c8')\"\n",
              "              title=\"Convert this dataframe to an interactive table.\"\n",
              "              style=\"display:none;\">\n",
              "\n",
              "  <svg xmlns=\"http://www.w3.org/2000/svg\" height=\"24px\"viewBox=\"0 0 24 24\"\n",
              "       width=\"24px\">\n",
              "    <path d=\"M0 0h24v24H0V0z\" fill=\"none\"/>\n",
              "    <path d=\"M18.56 5.44l.94 2.06.94-2.06 2.06-.94-2.06-.94-.94-2.06-.94 2.06-2.06.94zm-11 1L8.5 8.5l.94-2.06 2.06-.94-2.06-.94L8.5 2.5l-.94 2.06-2.06.94zm10 10l.94 2.06.94-2.06 2.06-.94-2.06-.94-.94-2.06-.94 2.06-2.06.94z\"/><path d=\"M17.41 7.96l-1.37-1.37c-.4-.4-.92-.59-1.43-.59-.52 0-1.04.2-1.43.59L10.3 9.45l-7.72 7.72c-.78.78-.78 2.05 0 2.83L4 21.41c.39.39.9.59 1.41.59.51 0 1.02-.2 1.41-.59l7.78-7.78 2.81-2.81c.8-.78.8-2.07 0-2.86zM5.41 20L4 18.59l7.72-7.72 1.47 1.35L5.41 20z\"/>\n",
              "  </svg>\n",
              "      </button>\n",
              "\n",
              "\n",
              "\n",
              "    <div id=\"df-b128632d-5a06-4a20-8eef-723beebd351b\">\n",
              "      <button class=\"colab-df-quickchart\" onclick=\"quickchart('df-b128632d-5a06-4a20-8eef-723beebd351b')\"\n",
              "              title=\"Suggest charts.\"\n",
              "              style=\"display:none;\">\n",
              "\n",
              "<svg xmlns=\"http://www.w3.org/2000/svg\" height=\"24px\"viewBox=\"0 0 24 24\"\n",
              "     width=\"24px\">\n",
              "    <g>\n",
              "        <path d=\"M19 3H5c-1.1 0-2 .9-2 2v14c0 1.1.9 2 2 2h14c1.1 0 2-.9 2-2V5c0-1.1-.9-2-2-2zM9 17H7v-7h2v7zm4 0h-2V7h2v10zm4 0h-2v-4h2v4z\"/>\n",
              "    </g>\n",
              "</svg>\n",
              "      </button>\n",
              "    </div>\n",
              "\n",
              "<style>\n",
              "  .colab-df-quickchart {\n",
              "    background-color: #E8F0FE;\n",
              "    border: none;\n",
              "    border-radius: 50%;\n",
              "    cursor: pointer;\n",
              "    display: none;\n",
              "    fill: #1967D2;\n",
              "    height: 32px;\n",
              "    padding: 0 0 0 0;\n",
              "    width: 32px;\n",
              "  }\n",
              "\n",
              "  .colab-df-quickchart:hover {\n",
              "    background-color: #E2EBFA;\n",
              "    box-shadow: 0px 1px 2px rgba(60, 64, 67, 0.3), 0px 1px 3px 1px rgba(60, 64, 67, 0.15);\n",
              "    fill: #174EA6;\n",
              "  }\n",
              "\n",
              "  [theme=dark] .colab-df-quickchart {\n",
              "    background-color: #3B4455;\n",
              "    fill: #D2E3FC;\n",
              "  }\n",
              "\n",
              "  [theme=dark] .colab-df-quickchart:hover {\n",
              "    background-color: #434B5C;\n",
              "    box-shadow: 0px 1px 3px 1px rgba(0, 0, 0, 0.15);\n",
              "    filter: drop-shadow(0px 1px 2px rgba(0, 0, 0, 0.3));\n",
              "    fill: #FFFFFF;\n",
              "  }\n",
              "</style>\n",
              "\n",
              "    <script>\n",
              "      async function quickchart(key) {\n",
              "        const containerElement = document.querySelector('#' + key);\n",
              "        const charts = await google.colab.kernel.invokeFunction(\n",
              "            'suggestCharts', [key], {});\n",
              "      }\n",
              "    </script>\n",
              "\n",
              "      <script>\n",
              "\n",
              "function displayQuickchartButton(domScope) {\n",
              "  let quickchartButtonEl =\n",
              "    domScope.querySelector('#df-b128632d-5a06-4a20-8eef-723beebd351b button.colab-df-quickchart');\n",
              "  quickchartButtonEl.style.display =\n",
              "    google.colab.kernel.accessAllowed ? 'block' : 'none';\n",
              "}\n",
              "\n",
              "        displayQuickchartButton(document);\n",
              "      </script>\n",
              "      <style>\n",
              "    .colab-df-container {\n",
              "      display:flex;\n",
              "      flex-wrap:wrap;\n",
              "      gap: 12px;\n",
              "    }\n",
              "\n",
              "    .colab-df-convert {\n",
              "      background-color: #E8F0FE;\n",
              "      border: none;\n",
              "      border-radius: 50%;\n",
              "      cursor: pointer;\n",
              "      display: none;\n",
              "      fill: #1967D2;\n",
              "      height: 32px;\n",
              "      padding: 0 0 0 0;\n",
              "      width: 32px;\n",
              "    }\n",
              "\n",
              "    .colab-df-convert:hover {\n",
              "      background-color: #E2EBFA;\n",
              "      box-shadow: 0px 1px 2px rgba(60, 64, 67, 0.3), 0px 1px 3px 1px rgba(60, 64, 67, 0.15);\n",
              "      fill: #174EA6;\n",
              "    }\n",
              "\n",
              "    [theme=dark] .colab-df-convert {\n",
              "      background-color: #3B4455;\n",
              "      fill: #D2E3FC;\n",
              "    }\n",
              "\n",
              "    [theme=dark] .colab-df-convert:hover {\n",
              "      background-color: #434B5C;\n",
              "      box-shadow: 0px 1px 3px 1px rgba(0, 0, 0, 0.15);\n",
              "      filter: drop-shadow(0px 1px 2px rgba(0, 0, 0, 0.3));\n",
              "      fill: #FFFFFF;\n",
              "    }\n",
              "  </style>\n",
              "\n",
              "      <script>\n",
              "        const buttonEl =\n",
              "          document.querySelector('#df-b612d13b-f158-4cf9-a558-dfce7d81b8c8 button.colab-df-convert');\n",
              "        buttonEl.style.display =\n",
              "          google.colab.kernel.accessAllowed ? 'block' : 'none';\n",
              "\n",
              "        async function convertToInteractive(key) {\n",
              "          const element = document.querySelector('#df-b612d13b-f158-4cf9-a558-dfce7d81b8c8');\n",
              "          const dataTable =\n",
              "            await google.colab.kernel.invokeFunction('convertToInteractive',\n",
              "                                                     [key], {});\n",
              "          if (!dataTable) return;\n",
              "\n",
              "          const docLinkHtml = 'Like what you see? Visit the ' +\n",
              "            '<a target=\"_blank\" href=https://colab.research.google.com/notebooks/data_table.ipynb>data table notebook</a>'\n",
              "            + ' to learn more about interactive tables.';\n",
              "          element.innerHTML = '';\n",
              "          dataTable['output_type'] = 'display_data';\n",
              "          await google.colab.output.renderOutput(dataTable, element);\n",
              "          const docLink = document.createElement('div');\n",
              "          docLink.innerHTML = docLinkHtml;\n",
              "          element.appendChild(docLink);\n",
              "        }\n",
              "      </script>\n",
              "    </div>\n",
              "  </div>\n"
            ]
          },
          "metadata": {},
          "execution_count": 15
        }
      ]
    },
    {
      "cell_type": "code",
      "source": [
        "import nltk\n",
        "from nltk.corpus import stopwords\n",
        "from nltk.stem import PorterStemmer\n",
        "\n",
        "##only once time\n",
        "nltk.download('stopwords')\n",
        "\n",
        "ps=PorterStemmer()"
      ],
      "metadata": {
        "colab": {
          "base_uri": "https://localhost:8080/",
          "height": 0
        },
        "id": "0_hOW7l7PIER",
        "outputId": "182de4d8-a40a-4f51-8e4d-e8521b4ce00c"
      },
      "execution_count": 16,
      "outputs": [
        {
          "output_type": "stream",
          "name": "stderr",
          "text": [
            "[nltk_data] Downloading package stopwords to /root/nltk_data...\n",
            "[nltk_data]   Unzipping corpora/stopwords.zip.\n"
          ]
        }
      ]
    },
    {
      "cell_type": "code",
      "source": [
        "corpus=[]\n",
        "def text_cleaning(text):\n",
        "\n",
        "  reviews = re.sub('[^a-zA-Z]', ' ', text)\n",
        "  reviews=reviews.lower()\n",
        "  reviews=reviews.split()\n",
        "  reviews=[ps.stem(word) for word in reviews if word not in stopwords.words('english')]\n",
        "  reviews=' '.join(reviews)\n",
        "  corpus.append(reviews)"
      ],
      "metadata": {
        "id": "heHxicveNgMK"
      },
      "execution_count": 17,
      "outputs": []
    },
    {
      "cell_type": "code",
      "source": [
        "# Assuming final_df is your DataFrame\n",
        "for title in final_df['title']:\n",
        "    text_cleaning(title)"
      ],
      "metadata": {
        "id": "FBwf2lM4Nx71"
      },
      "execution_count": 18,
      "outputs": []
    },
    {
      "cell_type": "code",
      "source": [
        "print(corpus[:10])"
      ],
      "metadata": {
        "colab": {
          "base_uri": "https://localhost:8080/",
          "height": 0
        },
        "id": "5apvx_zYUPQe",
        "outputId": "96f3063f-2e3d-4be5-8e5b-c7bd0b9e7e7f"
      },
      "execution_count": 19,
      "outputs": [
        {
          "output_type": "stream",
          "name": "stdout",
          "text": [
            "['kandi burruss explod rape accus real housew atlanta reunion video', 'peopl choic award best red carpet look', 'sophia bush send sweet birthday messag one tree hill co star hilari burton breyton eva', 'colombian singer maluma spark rumour inappropri relationship aunt', 'gossip girl year later upper east sider shock world chang pop cultur forev', 'gwen stefani got dump blake shelton jealousi drama exclus', 'broward counti sheriff fire lie parkland', 'amber rose shut french montana date rumor call rapper bruvaaa', 'mindi kale make first post babi appear disneyland wrinkl time co star', 'katharin mcphee butcher toni nomin drink']\n"
          ]
        }
      ]
    },
    {
      "cell_type": "code",
      "source": [
        "y=final_df['real']"
      ],
      "metadata": {
        "id": "JZcZZtVFTSaj"
      },
      "execution_count": 20,
      "outputs": []
    },
    {
      "cell_type": "code",
      "source": [
        "from sklearn.model_selection import train_test_split\n",
        "from sklearn.feature_extraction.text import CountVectorizer,TfidfTransformer\n",
        "###importing the library which are required for evaluation the model (means evaluation metrics)\n",
        "from sklearn.metrics import classification_report,accuracy_score,confusion_matrix,ConfusionMatrixDisplay"
      ],
      "metadata": {
        "id": "gAteVxQ3SfNz"
      },
      "execution_count": 21,
      "outputs": []
    },
    {
      "cell_type": "code",
      "source": [
        "cv=CountVectorizer(max_features=5000,ngram_range=(1,3))"
      ],
      "metadata": {
        "id": "7ecxurPTSpvv"
      },
      "execution_count": 22,
      "outputs": []
    },
    {
      "cell_type": "code",
      "source": [
        "X=cv.fit_transform(corpus).toarray()"
      ],
      "metadata": {
        "id": "VaCfXnN54gnX"
      },
      "execution_count": 23,
      "outputs": []
    },
    {
      "cell_type": "code",
      "source": [
        "X.shape,y.shape"
      ],
      "metadata": {
        "colab": {
          "base_uri": "https://localhost:8080/",
          "height": 0
        },
        "id": "Wp5IWepX4loD",
        "outputId": "216f1b63-c422-41b3-fe42-fcf8ddea6d37"
      },
      "execution_count": 24,
      "outputs": [
        {
          "output_type": "execute_result",
          "data": {
            "text/plain": [
              "((23196, 5000), (23196,))"
            ]
          },
          "metadata": {},
          "execution_count": 24
        }
      ]
    },
    {
      "cell_type": "code",
      "source": [
        "X"
      ],
      "metadata": {
        "colab": {
          "base_uri": "https://localhost:8080/",
          "height": 0
        },
        "id": "UZLt-mL_4sFB",
        "outputId": "009502f3-b59e-4401-c206-706d4569691e"
      },
      "execution_count": 25,
      "outputs": [
        {
          "output_type": "execute_result",
          "data": {
            "text/plain": [
              "array([[0, 0, 0, ..., 0, 0, 0],\n",
              "       [0, 0, 0, ..., 0, 0, 0],\n",
              "       [0, 0, 0, ..., 0, 0, 0],\n",
              "       ...,\n",
              "       [0, 0, 0, ..., 0, 0, 0],\n",
              "       [0, 0, 0, ..., 0, 0, 0],\n",
              "       [0, 0, 0, ..., 0, 0, 0]])"
            ]
          },
          "metadata": {},
          "execution_count": 25
        }
      ]
    },
    {
      "cell_type": "code",
      "source": [
        "cv.get_feature_names_out()"
      ],
      "metadata": {
        "colab": {
          "base_uri": "https://localhost:8080/",
          "height": 0
        },
        "id": "vA2TH47O52iW",
        "outputId": "37e59f4b-bbf9-4a4c-b882-f3a1a0b49303"
      },
      "execution_count": 26,
      "outputs": [
        {
          "output_type": "execute_result",
          "data": {
            "text/plain": [
              "array(['aaron', 'aaron carter', 'aaron rodger', ..., 'zolciak',\n",
              "       'zolciak biermann', 'zone'], dtype=object)"
            ]
          },
          "metadata": {},
          "execution_count": 26
        }
      ]
    },
    {
      "cell_type": "code",
      "source": [
        "count_df=pd.DataFrame(X,columns=cv.get_feature_names_out())"
      ],
      "metadata": {
        "id": "BQISpJx85_8x"
      },
      "execution_count": 27,
      "outputs": []
    },
    {
      "cell_type": "code",
      "source": [
        "count_df.head()"
      ],
      "metadata": {
        "colab": {
          "base_uri": "https://localhost:8080/",
          "height": 314
        },
        "id": "CSsqUyYj6H0B",
        "outputId": "ca39083e-cbc2-42c5-9328-5ace97b99af5"
      },
      "execution_count": 28,
      "outputs": [
        {
          "output_type": "execute_result",
          "data": {
            "text/plain": [
              "   aaron  aaron carter  aaron rodger  ab  abbey  abbi  abbi lee  \\\n",
              "0      0             0             0   0      0     0         0   \n",
              "1      0             0             0   0      0     0         0   \n",
              "2      0             0             0   0      0     0         0   \n",
              "3      0             0             0   0      0     0         0   \n",
              "4      0             0             0   0      0     0         0   \n",
              "\n",
              "   abbi lee miller  abc  abc news  ...  zayn malik  zendaya  zeta  zeta jone  \\\n",
              "0                0    0         0  ...           0        0     0          0   \n",
              "1                0    0         0  ...           0        0     0          0   \n",
              "2                0    0         0  ...           0        0     0          0   \n",
              "3                0    0         0  ...           0        0     0          0   \n",
              "4                0    0         0  ...           0        0     0          0   \n",
              "\n",
              "   zig  zoe  zoe saldana  zolciak  zolciak biermann  zone  \n",
              "0    0    0            0        0                 0     0  \n",
              "1    0    0            0        0                 0     0  \n",
              "2    0    0            0        0                 0     0  \n",
              "3    0    0            0        0                 0     0  \n",
              "4    0    0            0        0                 0     0  \n",
              "\n",
              "[5 rows x 5000 columns]"
            ],
            "text/html": [
              "\n",
              "\n",
              "  <div id=\"df-acd77c07-9b01-4256-bdb6-55ac7226cd76\">\n",
              "    <div class=\"colab-df-container\">\n",
              "      <div>\n",
              "<style scoped>\n",
              "    .dataframe tbody tr th:only-of-type {\n",
              "        vertical-align: middle;\n",
              "    }\n",
              "\n",
              "    .dataframe tbody tr th {\n",
              "        vertical-align: top;\n",
              "    }\n",
              "\n",
              "    .dataframe thead th {\n",
              "        text-align: right;\n",
              "    }\n",
              "</style>\n",
              "<table border=\"1\" class=\"dataframe\">\n",
              "  <thead>\n",
              "    <tr style=\"text-align: right;\">\n",
              "      <th></th>\n",
              "      <th>aaron</th>\n",
              "      <th>aaron carter</th>\n",
              "      <th>aaron rodger</th>\n",
              "      <th>ab</th>\n",
              "      <th>abbey</th>\n",
              "      <th>abbi</th>\n",
              "      <th>abbi lee</th>\n",
              "      <th>abbi lee miller</th>\n",
              "      <th>abc</th>\n",
              "      <th>abc news</th>\n",
              "      <th>...</th>\n",
              "      <th>zayn malik</th>\n",
              "      <th>zendaya</th>\n",
              "      <th>zeta</th>\n",
              "      <th>zeta jone</th>\n",
              "      <th>zig</th>\n",
              "      <th>zoe</th>\n",
              "      <th>zoe saldana</th>\n",
              "      <th>zolciak</th>\n",
              "      <th>zolciak biermann</th>\n",
              "      <th>zone</th>\n",
              "    </tr>\n",
              "  </thead>\n",
              "  <tbody>\n",
              "    <tr>\n",
              "      <th>0</th>\n",
              "      <td>0</td>\n",
              "      <td>0</td>\n",
              "      <td>0</td>\n",
              "      <td>0</td>\n",
              "      <td>0</td>\n",
              "      <td>0</td>\n",
              "      <td>0</td>\n",
              "      <td>0</td>\n",
              "      <td>0</td>\n",
              "      <td>0</td>\n",
              "      <td>...</td>\n",
              "      <td>0</td>\n",
              "      <td>0</td>\n",
              "      <td>0</td>\n",
              "      <td>0</td>\n",
              "      <td>0</td>\n",
              "      <td>0</td>\n",
              "      <td>0</td>\n",
              "      <td>0</td>\n",
              "      <td>0</td>\n",
              "      <td>0</td>\n",
              "    </tr>\n",
              "    <tr>\n",
              "      <th>1</th>\n",
              "      <td>0</td>\n",
              "      <td>0</td>\n",
              "      <td>0</td>\n",
              "      <td>0</td>\n",
              "      <td>0</td>\n",
              "      <td>0</td>\n",
              "      <td>0</td>\n",
              "      <td>0</td>\n",
              "      <td>0</td>\n",
              "      <td>0</td>\n",
              "      <td>...</td>\n",
              "      <td>0</td>\n",
              "      <td>0</td>\n",
              "      <td>0</td>\n",
              "      <td>0</td>\n",
              "      <td>0</td>\n",
              "      <td>0</td>\n",
              "      <td>0</td>\n",
              "      <td>0</td>\n",
              "      <td>0</td>\n",
              "      <td>0</td>\n",
              "    </tr>\n",
              "    <tr>\n",
              "      <th>2</th>\n",
              "      <td>0</td>\n",
              "      <td>0</td>\n",
              "      <td>0</td>\n",
              "      <td>0</td>\n",
              "      <td>0</td>\n",
              "      <td>0</td>\n",
              "      <td>0</td>\n",
              "      <td>0</td>\n",
              "      <td>0</td>\n",
              "      <td>0</td>\n",
              "      <td>...</td>\n",
              "      <td>0</td>\n",
              "      <td>0</td>\n",
              "      <td>0</td>\n",
              "      <td>0</td>\n",
              "      <td>0</td>\n",
              "      <td>0</td>\n",
              "      <td>0</td>\n",
              "      <td>0</td>\n",
              "      <td>0</td>\n",
              "      <td>0</td>\n",
              "    </tr>\n",
              "    <tr>\n",
              "      <th>3</th>\n",
              "      <td>0</td>\n",
              "      <td>0</td>\n",
              "      <td>0</td>\n",
              "      <td>0</td>\n",
              "      <td>0</td>\n",
              "      <td>0</td>\n",
              "      <td>0</td>\n",
              "      <td>0</td>\n",
              "      <td>0</td>\n",
              "      <td>0</td>\n",
              "      <td>...</td>\n",
              "      <td>0</td>\n",
              "      <td>0</td>\n",
              "      <td>0</td>\n",
              "      <td>0</td>\n",
              "      <td>0</td>\n",
              "      <td>0</td>\n",
              "      <td>0</td>\n",
              "      <td>0</td>\n",
              "      <td>0</td>\n",
              "      <td>0</td>\n",
              "    </tr>\n",
              "    <tr>\n",
              "      <th>4</th>\n",
              "      <td>0</td>\n",
              "      <td>0</td>\n",
              "      <td>0</td>\n",
              "      <td>0</td>\n",
              "      <td>0</td>\n",
              "      <td>0</td>\n",
              "      <td>0</td>\n",
              "      <td>0</td>\n",
              "      <td>0</td>\n",
              "      <td>0</td>\n",
              "      <td>...</td>\n",
              "      <td>0</td>\n",
              "      <td>0</td>\n",
              "      <td>0</td>\n",
              "      <td>0</td>\n",
              "      <td>0</td>\n",
              "      <td>0</td>\n",
              "      <td>0</td>\n",
              "      <td>0</td>\n",
              "      <td>0</td>\n",
              "      <td>0</td>\n",
              "    </tr>\n",
              "  </tbody>\n",
              "</table>\n",
              "<p>5 rows × 5000 columns</p>\n",
              "</div>\n",
              "      <button class=\"colab-df-convert\" onclick=\"convertToInteractive('df-acd77c07-9b01-4256-bdb6-55ac7226cd76')\"\n",
              "              title=\"Convert this dataframe to an interactive table.\"\n",
              "              style=\"display:none;\">\n",
              "\n",
              "  <svg xmlns=\"http://www.w3.org/2000/svg\" height=\"24px\"viewBox=\"0 0 24 24\"\n",
              "       width=\"24px\">\n",
              "    <path d=\"M0 0h24v24H0V0z\" fill=\"none\"/>\n",
              "    <path d=\"M18.56 5.44l.94 2.06.94-2.06 2.06-.94-2.06-.94-.94-2.06-.94 2.06-2.06.94zm-11 1L8.5 8.5l.94-2.06 2.06-.94-2.06-.94L8.5 2.5l-.94 2.06-2.06.94zm10 10l.94 2.06.94-2.06 2.06-.94-2.06-.94-.94-2.06-.94 2.06-2.06.94z\"/><path d=\"M17.41 7.96l-1.37-1.37c-.4-.4-.92-.59-1.43-.59-.52 0-1.04.2-1.43.59L10.3 9.45l-7.72 7.72c-.78.78-.78 2.05 0 2.83L4 21.41c.39.39.9.59 1.41.59.51 0 1.02-.2 1.41-.59l7.78-7.78 2.81-2.81c.8-.78.8-2.07 0-2.86zM5.41 20L4 18.59l7.72-7.72 1.47 1.35L5.41 20z\"/>\n",
              "  </svg>\n",
              "      </button>\n",
              "\n",
              "\n",
              "\n",
              "    <div id=\"df-6f3ec524-101a-4c0d-8628-35fe5efe69a7\">\n",
              "      <button class=\"colab-df-quickchart\" onclick=\"quickchart('df-6f3ec524-101a-4c0d-8628-35fe5efe69a7')\"\n",
              "              title=\"Suggest charts.\"\n",
              "              style=\"display:none;\">\n",
              "\n",
              "<svg xmlns=\"http://www.w3.org/2000/svg\" height=\"24px\"viewBox=\"0 0 24 24\"\n",
              "     width=\"24px\">\n",
              "    <g>\n",
              "        <path d=\"M19 3H5c-1.1 0-2 .9-2 2v14c0 1.1.9 2 2 2h14c1.1 0 2-.9 2-2V5c0-1.1-.9-2-2-2zM9 17H7v-7h2v7zm4 0h-2V7h2v10zm4 0h-2v-4h2v4z\"/>\n",
              "    </g>\n",
              "</svg>\n",
              "      </button>\n",
              "    </div>\n",
              "\n",
              "<style>\n",
              "  .colab-df-quickchart {\n",
              "    background-color: #E8F0FE;\n",
              "    border: none;\n",
              "    border-radius: 50%;\n",
              "    cursor: pointer;\n",
              "    display: none;\n",
              "    fill: #1967D2;\n",
              "    height: 32px;\n",
              "    padding: 0 0 0 0;\n",
              "    width: 32px;\n",
              "  }\n",
              "\n",
              "  .colab-df-quickchart:hover {\n",
              "    background-color: #E2EBFA;\n",
              "    box-shadow: 0px 1px 2px rgba(60, 64, 67, 0.3), 0px 1px 3px 1px rgba(60, 64, 67, 0.15);\n",
              "    fill: #174EA6;\n",
              "  }\n",
              "\n",
              "  [theme=dark] .colab-df-quickchart {\n",
              "    background-color: #3B4455;\n",
              "    fill: #D2E3FC;\n",
              "  }\n",
              "\n",
              "  [theme=dark] .colab-df-quickchart:hover {\n",
              "    background-color: #434B5C;\n",
              "    box-shadow: 0px 1px 3px 1px rgba(0, 0, 0, 0.15);\n",
              "    filter: drop-shadow(0px 1px 2px rgba(0, 0, 0, 0.3));\n",
              "    fill: #FFFFFF;\n",
              "  }\n",
              "</style>\n",
              "\n",
              "    <script>\n",
              "      async function quickchart(key) {\n",
              "        const containerElement = document.querySelector('#' + key);\n",
              "        const charts = await google.colab.kernel.invokeFunction(\n",
              "            'suggestCharts', [key], {});\n",
              "      }\n",
              "    </script>\n",
              "\n",
              "      <script>\n",
              "\n",
              "function displayQuickchartButton(domScope) {\n",
              "  let quickchartButtonEl =\n",
              "    domScope.querySelector('#df-6f3ec524-101a-4c0d-8628-35fe5efe69a7 button.colab-df-quickchart');\n",
              "  quickchartButtonEl.style.display =\n",
              "    google.colab.kernel.accessAllowed ? 'block' : 'none';\n",
              "}\n",
              "\n",
              "        displayQuickchartButton(document);\n",
              "      </script>\n",
              "      <style>\n",
              "    .colab-df-container {\n",
              "      display:flex;\n",
              "      flex-wrap:wrap;\n",
              "      gap: 12px;\n",
              "    }\n",
              "\n",
              "    .colab-df-convert {\n",
              "      background-color: #E8F0FE;\n",
              "      border: none;\n",
              "      border-radius: 50%;\n",
              "      cursor: pointer;\n",
              "      display: none;\n",
              "      fill: #1967D2;\n",
              "      height: 32px;\n",
              "      padding: 0 0 0 0;\n",
              "      width: 32px;\n",
              "    }\n",
              "\n",
              "    .colab-df-convert:hover {\n",
              "      background-color: #E2EBFA;\n",
              "      box-shadow: 0px 1px 2px rgba(60, 64, 67, 0.3), 0px 1px 3px 1px rgba(60, 64, 67, 0.15);\n",
              "      fill: #174EA6;\n",
              "    }\n",
              "\n",
              "    [theme=dark] .colab-df-convert {\n",
              "      background-color: #3B4455;\n",
              "      fill: #D2E3FC;\n",
              "    }\n",
              "\n",
              "    [theme=dark] .colab-df-convert:hover {\n",
              "      background-color: #434B5C;\n",
              "      box-shadow: 0px 1px 3px 1px rgba(0, 0, 0, 0.15);\n",
              "      filter: drop-shadow(0px 1px 2px rgba(0, 0, 0, 0.3));\n",
              "      fill: #FFFFFF;\n",
              "    }\n",
              "  </style>\n",
              "\n",
              "      <script>\n",
              "        const buttonEl =\n",
              "          document.querySelector('#df-acd77c07-9b01-4256-bdb6-55ac7226cd76 button.colab-df-convert');\n",
              "        buttonEl.style.display =\n",
              "          google.colab.kernel.accessAllowed ? 'block' : 'none';\n",
              "\n",
              "        async function convertToInteractive(key) {\n",
              "          const element = document.querySelector('#df-acd77c07-9b01-4256-bdb6-55ac7226cd76');\n",
              "          const dataTable =\n",
              "            await google.colab.kernel.invokeFunction('convertToInteractive',\n",
              "                                                     [key], {});\n",
              "          if (!dataTable) return;\n",
              "\n",
              "          const docLinkHtml = 'Like what you see? Visit the ' +\n",
              "            '<a target=\"_blank\" href=https://colab.research.google.com/notebooks/data_table.ipynb>data table notebook</a>'\n",
              "            + ' to learn more about interactive tables.';\n",
              "          element.innerHTML = '';\n",
              "          dataTable['output_type'] = 'display_data';\n",
              "          await google.colab.output.renderOutput(dataTable, element);\n",
              "          const docLink = document.createElement('div');\n",
              "          docLink.innerHTML = docLinkHtml;\n",
              "          element.appendChild(docLink);\n",
              "        }\n",
              "      </script>\n",
              "    </div>\n",
              "  </div>\n"
            ]
          },
          "metadata": {},
          "execution_count": 28
        }
      ]
    },
    {
      "cell_type": "markdown",
      "source": [
        "**Let's Implements the LSTM Model and Bidirectional LSTM**"
      ],
      "metadata": {
        "id": "fjSATe2e8LkD"
      }
    },
    {
      "cell_type": "code",
      "source": [
        "from tensorflow import keras\n",
        "from tensorflow.keras.layers import Embedding\n",
        "from tensorflow.keras.layers import Dense,LSTM,Bidirectional,BatchNormalization,Dropout\n",
        "from tensorflow.keras.preprocessing.text import one_hot\n",
        "from tensorflow.keras.preprocessing.sequence import pad_sequences\n",
        "from tensorflow.keras.models import Sequential"
      ],
      "metadata": {
        "id": "xOmnrq896maa"
      },
      "execution_count": 29,
      "outputs": []
    },
    {
      "cell_type": "code",
      "source": [
        "##initilazition of voc. size\n",
        "voc_size=5000\n",
        "\n",
        "one_hot_rep=[one_hot(word, voc_size) for word in corpus]"
      ],
      "metadata": {
        "id": "u8SU1r5L9M25"
      },
      "execution_count": 30,
      "outputs": []
    },
    {
      "cell_type": "code",
      "source": [
        "one_hot_rep[:10]"
      ],
      "metadata": {
        "colab": {
          "base_uri": "https://localhost:8080/",
          "height": 0
        },
        "id": "y7zCRMl19pWp",
        "outputId": "b7c8da29-6adb-4a0a-9f50-3b6cbbf1ac21"
      },
      "execution_count": 31,
      "outputs": [
        {
          "output_type": "execute_result",
          "data": {
            "text/plain": [
              "[[2078, 4663, 3212, 3008, 3922, 713, 3902, 2983, 2696, 1356],\n",
              " [1270, 3909, 1237, 4828, 2740, 3357, 575],\n",
              " [1859,\n",
              "  4431,\n",
              "  2885,\n",
              "  997,\n",
              "  4305,\n",
              "  3806,\n",
              "  274,\n",
              "  561,\n",
              "  3484,\n",
              "  1446,\n",
              "  2562,\n",
              "  2330,\n",
              "  4849,\n",
              "  216,\n",
              "  4214],\n",
              " [2066, 503, 731, 1462, 3841, 2166, 806, 1908],\n",
              " [480, 485, 2630, 4864, 1532, 3675, 4219, 3875, 142, 693, 210, 517, 4896],\n",
              " [4362, 2787, 2366, 1377, 2139, 569, 514, 612, 999],\n",
              " [1201, 2300, 801, 4120, 2992, 95],\n",
              " [923, 3805, 4078, 2592, 4006, 1621, 3838, 1396, 4832, 3999],\n",
              " [1092, 2457, 2094, 2324, 1898, 2814, 3842, 2488, 3654, 635, 1446, 2562],\n",
              " [3559, 1528, 3795, 1574, 631, 4049]]"
            ]
          },
          "metadata": {},
          "execution_count": 31
        }
      ]
    },
    {
      "cell_type": "code",
      "source": [
        "sent_length=20\n",
        "embedd_doc=pad_sequences(one_hot_rep,padding='pre',maxlen=sent_length)"
      ],
      "metadata": {
        "id": "vLulpAhh9quv"
      },
      "execution_count": 32,
      "outputs": []
    },
    {
      "cell_type": "code",
      "source": [
        "print(embedd_doc,embedd_doc.shape)"
      ],
      "metadata": {
        "colab": {
          "base_uri": "https://localhost:8080/",
          "height": 0
        },
        "id": "7RDK7K7X-J2v",
        "outputId": "668ece8e-8ebf-4d3d-c257-052d6adec021"
      },
      "execution_count": 33,
      "outputs": [
        {
          "output_type": "stream",
          "name": "stdout",
          "text": [
            "[[   0    0    0 ... 2983 2696 1356]\n",
            " [   0    0    0 ... 2740 3357  575]\n",
            " [   0    0    0 ... 4849  216 4214]\n",
            " ...\n",
            " [   0    0    0 ...  549  457 4620]\n",
            " [   0    0    0 ... 4713 3312  999]\n",
            " [   0    0    0 ... 3669 3258 1237]] (23196, 20)\n"
          ]
        }
      ]
    },
    {
      "cell_type": "code",
      "source": [
        "##declaring the embedding features\n",
        "embedding_vector_features=50\n",
        "\n",
        "##model initilization\n",
        "model=Sequential()\n",
        "\n",
        "model.add(Embedding(voc_size,embedding_vector_features,input_length=sent_length))\n",
        "model.add(LSTM(100))\n",
        "\n",
        "model.add(Dense(64,activation='relu'))\n",
        "\n",
        "model.add(Dense(1,activation='sigmoid'))"
      ],
      "metadata": {
        "id": "AzRyKET5-Lpp"
      },
      "execution_count": 34,
      "outputs": []
    },
    {
      "cell_type": "code",
      "source": [
        "##compiling the model\n",
        "model.compile(loss='binary_crossentropy',\n",
        "              optimizer='adam',\n",
        "              metrics=['accuracy'])"
      ],
      "metadata": {
        "id": "QfLtGB4c-_5a"
      },
      "execution_count": 35,
      "outputs": []
    },
    {
      "cell_type": "code",
      "source": [
        "X_final=embedd_doc\n",
        "y_final=np.array(y)"
      ],
      "metadata": {
        "id": "0gX11SYW_3VU"
      },
      "execution_count": 36,
      "outputs": []
    },
    {
      "cell_type": "code",
      "source": [
        "print(X_final.shape,y_final.shape,type(y_final),type(X_final))"
      ],
      "metadata": {
        "colab": {
          "base_uri": "https://localhost:8080/",
          "height": 0
        },
        "id": "Ibc_xZ4bABl4",
        "outputId": "85f7a841-5e37-4d31-f8b0-0e9a3b5292ba"
      },
      "execution_count": 37,
      "outputs": [
        {
          "output_type": "stream",
          "name": "stdout",
          "text": [
            "(23196, 20) (23196,) <class 'numpy.ndarray'> <class 'numpy.ndarray'>\n"
          ]
        }
      ]
    },
    {
      "cell_type": "code",
      "source": [
        "X_train,X_test,y_train,y_test=train_test_split(X_final,y_final,test_size=0.33,random_state=42)"
      ],
      "metadata": {
        "id": "g5_CYzPf6NVp"
      },
      "execution_count": 38,
      "outputs": []
    },
    {
      "cell_type": "code",
      "source": [
        "history=model.fit(X_train,y_train,epochs=10,validation_data=(X_test,y_test),batch_size=64)"
      ],
      "metadata": {
        "colab": {
          "base_uri": "https://localhost:8080/",
          "height": 0
        },
        "id": "vf7vmTYc_mel",
        "outputId": "89ed5dc2-2e24-49bc-a014-9855371b980c"
      },
      "execution_count": 39,
      "outputs": [
        {
          "output_type": "stream",
          "name": "stdout",
          "text": [
            "Epoch 1/10\n",
            "243/243 [==============================] - 26s 70ms/step - loss: 0.4678 - accuracy: 0.7959 - val_loss: 0.4001 - val_accuracy: 0.8263\n",
            "Epoch 2/10\n",
            "243/243 [==============================] - 4s 15ms/step - loss: 0.3426 - accuracy: 0.8540 - val_loss: 0.3978 - val_accuracy: 0.8306\n",
            "Epoch 3/10\n",
            "243/243 [==============================] - 3s 13ms/step - loss: 0.2951 - accuracy: 0.8772 - val_loss: 0.4213 - val_accuracy: 0.8247\n",
            "Epoch 4/10\n",
            "243/243 [==============================] - 3s 12ms/step - loss: 0.2523 - accuracy: 0.8994 - val_loss: 0.4550 - val_accuracy: 0.8218\n",
            "Epoch 5/10\n",
            "243/243 [==============================] - 2s 9ms/step - loss: 0.2202 - accuracy: 0.9104 - val_loss: 0.5186 - val_accuracy: 0.8059\n",
            "Epoch 6/10\n",
            "243/243 [==============================] - 3s 11ms/step - loss: 0.1906 - accuracy: 0.9232 - val_loss: 0.5526 - val_accuracy: 0.8012\n",
            "Epoch 7/10\n",
            "243/243 [==============================] - 3s 11ms/step - loss: 0.1602 - accuracy: 0.9344 - val_loss: 0.6106 - val_accuracy: 0.8039\n",
            "Epoch 8/10\n",
            "243/243 [==============================] - 4s 16ms/step - loss: 0.1337 - accuracy: 0.9429 - val_loss: 0.7869 - val_accuracy: 0.7999\n",
            "Epoch 9/10\n",
            "243/243 [==============================] - 2s 7ms/step - loss: 0.1102 - accuracy: 0.9495 - val_loss: 0.9598 - val_accuracy: 0.7945\n",
            "Epoch 10/10\n",
            "243/243 [==============================] - 2s 9ms/step - loss: 0.0993 - accuracy: 0.9558 - val_loss: 1.0245 - val_accuracy: 0.7905\n"
          ]
        }
      ]
    },
    {
      "cell_type": "code",
      "source": [
        "## importing the  visualization library\n",
        "import matplotlib.pyplot as plt"
      ],
      "metadata": {
        "id": "Q6UffJtmBAPG"
      },
      "execution_count": 40,
      "outputs": []
    },
    {
      "cell_type": "code",
      "source": [
        "plt.plot(history.history['loss'],label='Train Loss')\n",
        "plt.plot(history.history['val_loss'],label='Test Loss')\n",
        "plt.legend()\n",
        "plt.xlabel(\"Epochs\")\n",
        "plt.ylabel(\"Loss\")\n",
        "plt.show()"
      ],
      "metadata": {
        "colab": {
          "base_uri": "https://localhost:8080/",
          "height": 449
        },
        "id": "yDZtzwOvB1Fb",
        "outputId": "b254537f-7601-4ddc-f055-f428bcbfa971"
      },
      "execution_count": 41,
      "outputs": [
        {
          "output_type": "display_data",
          "data": {
            "text/plain": [
              "<Figure size 640x480 with 1 Axes>"
            ],
            "image/png": "[encoded data removed]"
          },
          "metadata": {}
        }
      ]
    },
    {
      "cell_type": "code",
      "source": [
        "plt.plot(history.history['accuracy'],label='Train Accuracy')\n",
        "plt.plot(history.history['val_accuracy'],label='Test Accuracy')\n",
        "plt.legend()\n",
        "plt.xlabel(\"Epochs\")\n",
        "plt.ylabel(\"Accuracy\")\n",
        "plt.show()"
      ],
      "metadata": {
        "colab": {
          "base_uri": "https://localhost:8080/",
          "height": 449
        },
        "id": "T72LbEEfCbL0",
        "outputId": "411fbbda-586f-4abf-93b2-8c3597679d7c"
      },
      "execution_count": 42,
      "outputs": [
        {
          "output_type": "display_data",
          "data": {
            "text/plain": [
              "<Figure size 640x480 with 1 Axes>"
            ],
            "image/png": "[encoded data removed]"
          },
          "metadata": {}
        }
      ]
    },
    {
      "cell_type": "code",
      "source": [
        "y_pred_lstm=model.predict(X_test)\n",
        "len(y_pred_lstm)"
      ],
      "metadata": {
        "colab": {
          "base_uri": "https://localhost:8080/",
          "height": 0
        },
        "id": "C55wF9tMC2DD",
        "outputId": "5171cd23-ac15-446d-e625-b3449d1605ec"
      },
      "execution_count": 43,
      "outputs": [
        {
          "output_type": "stream",
          "name": "stdout",
          "text": [
            "240/240 [==============================] - 1s 2ms/step\n"
          ]
        },
        {
          "output_type": "execute_result",
          "data": {
            "text/plain": [
              "7655"
            ]
          },
          "metadata": {},
          "execution_count": 43
        }
      ]
    },
    {
      "cell_type": "code",
      "source": [
        "threshold = 0.5  # You can adjust this threshold based on your problem's needs\n",
        "\n",
        "# Convert probabilities to binary labels\n",
        "y_pred_binary = (y_pred_lstm >= threshold).astype(int)\n",
        "\n",
        "accuracy = accuracy_score(y_test, y_pred_binary)\n",
        "print(\"Accuracy:\", accuracy)"
      ],
      "metadata": {
        "colab": {
          "base_uri": "https://localhost:8080/",
          "height": 0
        },
        "id": "0EGKzJIzC1_n",
        "outputId": "61e22755-c945-46d6-f0cf-a4dfe4470cbc"
      },
      "execution_count": 44,
      "outputs": [
        {
          "output_type": "stream",
          "name": "stdout",
          "text": [
            "Accuracy: 0.7904637491835401\n"
          ]
        }
      ]
    },
    {
      "cell_type": "code",
      "source": [
        "ConfusionMatrixDisplay(confusion_matrix(y_test,y_pred_binary)).plot()"
      ],
      "metadata": {
        "colab": {
          "base_uri": "https://localhost:8080/",
          "height": 467
        },
        "id": "8Q8Z945YC19B",
        "outputId": "1b1cc8a0-c01b-4db7-c901-fe715366fe68"
      },
      "execution_count": 45,
      "outputs": [
        {
          "output_type": "execute_result",
          "data": {
            "text/plain": [
              "<sklearn.metrics._plot.confusion_matrix.ConfusionMatrixDisplay at 0x7fc33e3bd000>"
            ]
          },
          "metadata": {},
          "execution_count": 45
        },
        {
          "output_type": "display_data",
          "data": {
            "text/plain": [
              "<Figure size 640x480 with 2 Axes>"
            ],
            "image/png": "[encoded data removed]"
          },
          "metadata": {}
        }
      ]
    },
    {
      "cell_type": "code",
      "source": [
        "print(classification_report(y_test,y_pred_binary))"
      ],
      "metadata": {
        "colab": {
          "base_uri": "https://localhost:8080/",
          "height": 0
        },
        "id": "ZHXR7PsVC16F",
        "outputId": "c23d5fd8-b745-48d9-a20d-d8bfa2e26053"
      },
      "execution_count": 46,
      "outputs": [
        {
          "output_type": "stream",
          "name": "stdout",
          "text": [
            "              precision    recall  f1-score   support\n",
            "\n",
            "           0       0.57      0.58      0.57      1854\n",
            "           1       0.86      0.86      0.86      5801\n",
            "\n",
            "    accuracy                           0.79      7655\n",
            "   macro avg       0.72      0.72      0.72      7655\n",
            "weighted avg       0.79      0.79      0.79      7655\n",
            "\n"
          ]
        }
      ]
    },
    {
      "cell_type": "markdown",
      "source": [
        "Improving this model through Dropout or BatchNorm"
      ],
      "metadata": {
        "id": "NukAoNwECngy"
      }
    },
    {
      "cell_type": "code",
      "source": [
        "##declaring the embedding features\n",
        "embedding_vector_features=50\n",
        "\n",
        "##model initilization\n",
        "model1=Sequential()\n",
        "\n",
        "model1.add(Embedding(voc_size,embedding_vector_features,input_length=sent_length))\n",
        "\n",
        "model1.add(Dropout(0.9))\n",
        "model1.add(LSTM(100))\n",
        "model1.add(Dropout(0.9))\n",
        "\n",
        "model1.add(Dense(64,activation='relu'))\n",
        "model1.add(Dropout(0.6))\n",
        "\n",
        "model1.add(Dense(1,activation='sigmoid'))"
      ],
      "metadata": {
        "id": "mm7FTXJbCkP8"
      },
      "execution_count": 47,
      "outputs": []
    },
    {
      "cell_type": "code",
      "source": [
        "model1.compile(loss='binary_crossentropy',\n",
        "               optimizer='adam',\n",
        "               metrics=['accuracy'])"
      ],
      "metadata": {
        "id": "4Z8tDxQXDdOL"
      },
      "execution_count": 48,
      "outputs": []
    },
    {
      "cell_type": "code",
      "source": [
        "history1=model1.fit(X_train,y_train,epochs=10,validation_data=(X_test,y_test),batch_size=64)"
      ],
      "metadata": {
        "colab": {
          "base_uri": "https://localhost:8080/",
          "height": 0
        },
        "id": "732PpFSIDlIN",
        "outputId": "9fcaaa58-eb7c-4f47-cd6f-37e58d77a988"
      },
      "execution_count": 49,
      "outputs": [
        {
          "output_type": "stream",
          "name": "stdout",
          "text": [
            "Epoch 1/10\n",
            "243/243 [==============================] - 16s 51ms/step - loss: 0.5828 - accuracy: 0.7415 - val_loss: 0.5366 - val_accuracy: 0.7578\n",
            "Epoch 2/10\n",
            "243/243 [==============================] - 5s 19ms/step - loss: 0.5049 - accuracy: 0.7716 - val_loss: 0.4311 - val_accuracy: 0.8153\n",
            "Epoch 3/10\n",
            "243/243 [==============================] - 2s 10ms/step - loss: 0.4533 - accuracy: 0.8013 - val_loss: 0.4151 - val_accuracy: 0.8185\n",
            "Epoch 4/10\n",
            "243/243 [==============================] - 3s 12ms/step - loss: 0.4278 - accuracy: 0.8139 - val_loss: 0.4078 - val_accuracy: 0.8229\n",
            "Epoch 5/10\n",
            "243/243 [==============================] - 3s 12ms/step - loss: 0.4181 - accuracy: 0.8183 - val_loss: 0.4013 - val_accuracy: 0.8278\n",
            "Epoch 6/10\n",
            "243/243 [==============================] - 3s 12ms/step - loss: 0.4083 - accuracy: 0.8263 - val_loss: 0.4028 - val_accuracy: 0.8289\n",
            "Epoch 7/10\n",
            "243/243 [==============================] - 2s 7ms/step - loss: 0.3987 - accuracy: 0.8305 - val_loss: 0.3978 - val_accuracy: 0.8264\n",
            "Epoch 8/10\n",
            "243/243 [==============================] - 2s 9ms/step - loss: 0.3886 - accuracy: 0.8339 - val_loss: 0.3973 - val_accuracy: 0.8253\n",
            "Epoch 9/10\n",
            "243/243 [==============================] - 2s 8ms/step - loss: 0.3851 - accuracy: 0.8371 - val_loss: 0.3984 - val_accuracy: 0.8276\n",
            "Epoch 10/10\n",
            "243/243 [==============================] - 3s 11ms/step - loss: 0.3811 - accuracy: 0.8396 - val_loss: 0.3967 - val_accuracy: 0.8282\n"
          ]
        }
      ]
    },
    {
      "cell_type": "code",
      "source": [
        "plt.plot(history1.history['loss'],label='Train Loss')\n",
        "plt.plot(history1.history['val_loss'],label='Test Loss')\n",
        "plt.legend()\n",
        "plt.xlabel(\"Epochs\")\n",
        "plt.ylabel(\"Loss\")\n",
        "plt.show()"
      ],
      "metadata": {
        "colab": {
          "base_uri": "https://localhost:8080/",
          "height": 449
        },
        "id": "r9-jfmHcDtXv",
        "outputId": "163eb83a-0c6b-4745-cc68-4bbd1324b009"
      },
      "execution_count": 50,
      "outputs": [
        {
          "output_type": "display_data",
          "data": {
            "text/plain": [
              "<Figure size 640x480 with 1 Axes>"
            ],
            "image/png": "[encoded data removed]"
          },
          "metadata": {}
        }
      ]
    },
    {
      "cell_type": "code",
      "source": [
        "plt.plot(history1.history['accuracy'],label='Train Accuracy')\n",
        "plt.plot(history1.history['val_accuracy'],label='Test Accuracy')\n",
        "plt.legend()\n",
        "plt.xlabel(\"Epochs\")\n",
        "plt.ylabel(\"Accuracy\")\n",
        "plt.show()"
      ],
      "metadata": {
        "colab": {
          "base_uri": "https://localhost:8080/",
          "height": 449
        },
        "id": "23Iz-E7dFoqG",
        "outputId": "dd111d8c-89e2-42af-b352-5b5f5957072e"
      },
      "execution_count": 51,
      "outputs": [
        {
          "output_type": "display_data",
          "data": {
            "text/plain": [
              "<Figure size 640x480 with 1 Axes>"
            ],
            "image/png": "[encoded data removed]"
          },
          "metadata": {}
        }
      ]
    },
    {
      "cell_type": "code",
      "source": [
        "y_pred_lstm1=model1.predict(X_test)"
      ],
      "metadata": {
        "colab": {
          "base_uri": "https://localhost:8080/",
          "height": 0
        },
        "id": "rj1GXi2YF5ND",
        "outputId": "28bee37e-341e-40ad-de64-a92dbdb8e190"
      },
      "execution_count": 52,
      "outputs": [
        {
          "output_type": "stream",
          "name": "stdout",
          "text": [
            "240/240 [==============================] - 1s 2ms/step\n"
          ]
        }
      ]
    },
    {
      "cell_type": "code",
      "source": [
        "threshold=0.5\n",
        "\n",
        "# Convert probabilities to binary labels\n",
        "y_pred_binary1 = (y_pred_lstm1 >= threshold).astype(int)"
      ],
      "metadata": {
        "id": "ftbpaSoHFyLU"
      },
      "execution_count": 53,
      "outputs": []
    },
    {
      "cell_type": "code",
      "source": [
        "print(\"Train Total Accuracy:- \",accuracy_score(y_test,y_pred_binary1)*100)"
      ],
      "metadata": {
        "colab": {
          "base_uri": "https://localhost:8080/",
          "height": 0
        },
        "id": "r5H_F5MNGGAb",
        "outputId": "e29e1437-5d38-4516-f010-84e756f693d0"
      },
      "execution_count": 83,
      "outputs": [
        {
          "output_type": "stream",
          "name": "stdout",
          "text": [
            "Train Total Accuracy:-  82.82168517308949\n"
          ]
        }
      ]
    },
    {
      "cell_type": "code",
      "source": [
        "ConfusionMatrixDisplay(confusion_matrix(y_test,y_pred_binary1)).plot()"
      ],
      "metadata": {
        "colab": {
          "base_uri": "https://localhost:8080/",
          "height": 467
        },
        "id": "Z_5ruMNpGWLm",
        "outputId": "4da3450a-c5de-4630-9050-f55fa8926a62"
      },
      "execution_count": 55,
      "outputs": [
        {
          "output_type": "execute_result",
          "data": {
            "text/plain": [
              "<sklearn.metrics._plot.confusion_matrix.ConfusionMatrixDisplay at 0x7fc3242a3af0>"
            ]
          },
          "metadata": {},
          "execution_count": 55
        },
        {
          "output_type": "display_data",
          "data": {
            "text/plain": [
              "<Figure size 640x480 with 2 Axes>"
            ],
            "image/png": "[encoded data removed]"
          },
          "metadata": {}
        }
      ]
    },
    {
      "cell_type": "code",
      "source": [
        "print(classification_report(y_test,y_pred_binary1))"
      ],
      "metadata": {
        "colab": {
          "base_uri": "https://localhost:8080/",
          "height": 0
        },
        "id": "JnQLLevrG3H-",
        "outputId": "374dccde-4213-4c21-c068-0d1b66724ab2"
      },
      "execution_count": 56,
      "outputs": [
        {
          "output_type": "stream",
          "name": "stdout",
          "text": [
            "              precision    recall  f1-score   support\n",
            "\n",
            "           0       0.68      0.54      0.61      1854\n",
            "           1       0.86      0.92      0.89      5801\n",
            "\n",
            "    accuracy                           0.83      7655\n",
            "   macro avg       0.77      0.73      0.75      7655\n",
            "weighted avg       0.82      0.83      0.82      7655\n",
            "\n"
          ]
        }
      ]
    },
    {
      "cell_type": "markdown",
      "source": [
        "Now, Let's Implement the Bidirectional LSTM(RNNs)"
      ],
      "metadata": {
        "id": "APcCan6LHYoI"
      }
    },
    {
      "cell_type": "code",
      "source": [
        "##creating the embedding vectors features\n",
        "embedding_vector_features=50\n",
        "\n",
        "##init bidirectional model\n",
        "model2=Sequential()\n",
        "\n",
        "model2.add(Embedding(voc_size,embedding_vector_features,input_length=sent_length))\n",
        "\n",
        "model2.add(Bidirectional(LSTM(100)))\n",
        "\n",
        "model2.add(Dense(128,activation='relu'))\n",
        "\n",
        "model2.add(Dense(1,activation='sigmoid'))"
      ],
      "metadata": {
        "id": "kk7ShwLAHOrd"
      },
      "execution_count": 57,
      "outputs": []
    },
    {
      "cell_type": "code",
      "source": [
        "##let's compile the model\n",
        "model2.compile(loss='binary_crossentropy',\n",
        "               optimizer='adam',\n",
        "               metrics=['accuracy'])"
      ],
      "metadata": {
        "id": "OYF3TzveI09D"
      },
      "execution_count": 58,
      "outputs": []
    },
    {
      "cell_type": "code",
      "source": [
        "##let's train the model\n",
        "history2=model2.fit(X_train,y_train,epochs=10,validation_data=(X_test,y_test),batch_size=64)"
      ],
      "metadata": {
        "colab": {
          "base_uri": "https://localhost:8080/",
          "height": 0
        },
        "id": "fqB_CMyiJB_4",
        "outputId": "d5ba6468-87f9-41ca-9d90-9e75c79401ea"
      },
      "execution_count": 59,
      "outputs": [
        {
          "output_type": "stream",
          "name": "stdout",
          "text": [
            "Epoch 1/10\n",
            "243/243 [==============================] - 26s 88ms/step - loss: 0.4538 - accuracy: 0.8011 - val_loss: 0.3996 - val_accuracy: 0.8289\n",
            "Epoch 2/10\n",
            "243/243 [==============================] - 5s 21ms/step - loss: 0.3431 - accuracy: 0.8541 - val_loss: 0.4299 - val_accuracy: 0.8250\n",
            "Epoch 3/10\n",
            "243/243 [==============================] - 3s 14ms/step - loss: 0.3048 - accuracy: 0.8714 - val_loss: 0.4245 - val_accuracy: 0.8252\n",
            "Epoch 4/10\n",
            "243/243 [==============================] - 3s 13ms/step - loss: 0.2630 - accuracy: 0.8929 - val_loss: 0.4658 - val_accuracy: 0.8255\n",
            "Epoch 5/10\n",
            "243/243 [==============================] - 3s 12ms/step - loss: 0.2265 - accuracy: 0.9094 - val_loss: 0.5058 - val_accuracy: 0.8085\n",
            "Epoch 6/10\n",
            "243/243 [==============================] - 3s 11ms/step - loss: 0.1899 - accuracy: 0.9256 - val_loss: 0.5656 - val_accuracy: 0.7991\n",
            "Epoch 7/10\n",
            "243/243 [==============================] - 2s 10ms/step - loss: 0.1586 - accuracy: 0.9357 - val_loss: 0.6351 - val_accuracy: 0.8052\n",
            "Epoch 8/10\n",
            "243/243 [==============================] - 3s 13ms/step - loss: 0.1281 - accuracy: 0.9483 - val_loss: 0.8642 - val_accuracy: 0.7927\n",
            "Epoch 9/10\n",
            "243/243 [==============================] - 3s 11ms/step - loss: 0.1000 - accuracy: 0.9570 - val_loss: 1.0026 - val_accuracy: 0.7967\n",
            "Epoch 10/10\n",
            "243/243 [==============================] - 3s 11ms/step - loss: 0.0818 - accuracy: 0.9634 - val_loss: 1.1504 - val_accuracy: 0.7950\n"
          ]
        }
      ]
    },
    {
      "cell_type": "code",
      "source": [
        "plt.plot(history2.history['loss'],label='Train loss')\n",
        "plt.plot(history2.history['val_loss'],label='Test loss')\n",
        "plt.legend()\n",
        "plt.xlabel(\"Epochs\")\n",
        "plt.ylabel(\"loss\")\n",
        "plt.show()"
      ],
      "metadata": {
        "colab": {
          "base_uri": "https://localhost:8080/",
          "height": 454
        },
        "id": "b91YQ75cKY9_",
        "outputId": "311cfde9-d4d1-496f-b6b0-ecf7bb7e042b"
      },
      "execution_count": 60,
      "outputs": [
        {
          "output_type": "display_data",
          "data": {
            "text/plain": [
              "<Figure size 640x480 with 1 Axes>"
            ],
            "image/png": "[encoded data removed]"
          },
          "metadata": {}
        }
      ]
    },
    {
      "cell_type": "code",
      "source": [
        "plt.plot(history2.history['accuracy'],label='Train Accuracy')\n",
        "plt.plot(history2.history['val_accuracy'],label='Test Accuracy')\n",
        "plt.legend()\n",
        "plt.xlabel(\"Epochs\")\n",
        "plt.ylabel(\"Accuracy\")\n",
        "plt.show()"
      ],
      "metadata": {
        "colab": {
          "base_uri": "https://localhost:8080/",
          "height": 449
        },
        "id": "yGmVlXyLJLXZ",
        "outputId": "5f2e8e16-c6e3-473b-8195-72ebdd9532d0"
      },
      "execution_count": 61,
      "outputs": [
        {
          "output_type": "display_data",
          "data": {
            "text/plain": [
              "<Figure size 640x480 with 1 Axes>"
            ],
            "image/png": "[encoded data removed]"
          },
          "metadata": {}
        }
      ]
    },
    {
      "cell_type": "code",
      "source": [
        "y_pred_blstm=model2.predict(X_test)"
      ],
      "metadata": {
        "colab": {
          "base_uri": "https://localhost:8080/",
          "height": 0
        },
        "id": "F3LwFUnSOU6Y",
        "outputId": "b7bac665-4d39-4071-a996-34c81be610bd"
      },
      "execution_count": 62,
      "outputs": [
        {
          "output_type": "stream",
          "name": "stdout",
          "text": [
            "240/240 [==============================] - 1s 3ms/step\n"
          ]
        }
      ]
    },
    {
      "cell_type": "code",
      "source": [
        "threshold=0.5\n",
        "y_pred_binary3=(y_pred_blstm >= threshold).astype(int)"
      ],
      "metadata": {
        "id": "n3666COvOUzZ"
      },
      "execution_count": 63,
      "outputs": []
    },
    {
      "cell_type": "code",
      "source": [
        "ConfusionMatrixDisplay(confusion_matrix(y_test,y_pred_binary3)).plot()"
      ],
      "metadata": {
        "colab": {
          "base_uri": "https://localhost:8080/",
          "height": 467
        },
        "id": "_F26bluOOUoH",
        "outputId": "244ac0ba-b9c1-495b-e811-f79ef384708c"
      },
      "execution_count": 64,
      "outputs": [
        {
          "output_type": "execute_result",
          "data": {
            "text/plain": [
              "<sklearn.metrics._plot.confusion_matrix.ConfusionMatrixDisplay at 0x7fc31a5bfb20>"
            ]
          },
          "metadata": {},
          "execution_count": 64
        },
        {
          "output_type": "display_data",
          "data": {
            "text/plain": [
              "<Figure size 640x480 with 2 Axes>"
            ],
            "image/png": "[encoded data removed]"
          },
          "metadata": {}
        }
      ]
    },
    {
      "cell_type": "code",
      "source": [
        "print(classification_report(y_test,y_pred_binary3))"
      ],
      "metadata": {
        "colab": {
          "base_uri": "https://localhost:8080/",
          "height": 0
        },
        "id": "mnLxkhkMOO7L",
        "outputId": "6e25390f-469f-4117-ad6a-e0c25dcef951"
      },
      "execution_count": 65,
      "outputs": [
        {
          "output_type": "stream",
          "name": "stdout",
          "text": [
            "              precision    recall  f1-score   support\n",
            "\n",
            "           0       0.59      0.50      0.54      1854\n",
            "           1       0.85      0.89      0.87      5801\n",
            "\n",
            "    accuracy                           0.80      7655\n",
            "   macro avg       0.72      0.69      0.70      7655\n",
            "weighted avg       0.79      0.80      0.79      7655\n",
            "\n"
          ]
        }
      ]
    },
    {
      "cell_type": "markdown",
      "source": [
        "**Now Let's tr with Dropout Reg**"
      ],
      "metadata": {
        "id": "k6eRXtKhLqWU"
      }
    },
    {
      "cell_type": "code",
      "source": [
        "##init the model\n",
        "model3=Sequential()\n",
        "\n",
        "##creatinig the model\n",
        "model3.add(Embedding(voc_size,embedding_vector_features,input_length=sent_length))\n",
        "\n",
        "model3.add(Dropout(0.9))\n",
        "model3.add(Bidirectional(LSTM(100)))\n",
        "model3.add(Dropout(0.9))\n",
        "\n",
        "model3.add(Dense(128,activation='relu'))\n",
        "model.add(Dropout(0.9))\n",
        "\n",
        "model3.add(Dense(1,activation='sigmoid'))"
      ],
      "metadata": {
        "id": "m8oqBBtzLpJh"
      },
      "execution_count": 66,
      "outputs": []
    },
    {
      "cell_type": "code",
      "source": [
        "##now compile the model\n",
        "model3.compile(loss='binary_crossentropy',\n",
        "               optimizer='adam',\n",
        "               metrics=['accuracy'])"
      ],
      "metadata": {
        "id": "CXLHIKOzMZmS"
      },
      "execution_count": 67,
      "outputs": []
    },
    {
      "cell_type": "code",
      "source": [
        "##let's train the model\n",
        "history3=model3.fit(X_train,y_train,epochs=20,validation_data=(X_test,y_test),batch_size=64)"
      ],
      "metadata": {
        "colab": {
          "base_uri": "https://localhost:8080/",
          "height": 0
        },
        "id": "Dl9BU4rtMqah",
        "outputId": "0a6f2372-5e2a-4630-f67a-a89994e846b5"
      },
      "execution_count": 68,
      "outputs": [
        {
          "output_type": "stream",
          "name": "stdout",
          "text": [
            "Epoch 1/20\n",
            "243/243 [==============================] - 19s 59ms/step - loss: 0.5553 - accuracy: 0.7518 - val_loss: 0.4512 - val_accuracy: 0.8026\n",
            "Epoch 2/20\n",
            "243/243 [==============================] - 4s 16ms/step - loss: 0.4587 - accuracy: 0.8014 - val_loss: 0.4182 - val_accuracy: 0.8185\n",
            "Epoch 3/20\n",
            "243/243 [==============================] - 4s 16ms/step - loss: 0.4280 - accuracy: 0.8151 - val_loss: 0.4092 - val_accuracy: 0.8221\n",
            "Epoch 4/20\n",
            "243/243 [==============================] - 3s 13ms/step - loss: 0.4060 - accuracy: 0.8243 - val_loss: 0.4039 - val_accuracy: 0.8256\n",
            "Epoch 5/20\n",
            "243/243 [==============================] - 3s 11ms/step - loss: 0.3925 - accuracy: 0.8319 - val_loss: 0.3997 - val_accuracy: 0.8289\n",
            "Epoch 6/20\n",
            "243/243 [==============================] - 3s 12ms/step - loss: 0.3884 - accuracy: 0.8326 - val_loss: 0.4050 - val_accuracy: 0.8303\n",
            "Epoch 7/20\n",
            "243/243 [==============================] - 3s 11ms/step - loss: 0.3792 - accuracy: 0.8380 - val_loss: 0.3968 - val_accuracy: 0.8295\n",
            "Epoch 8/20\n",
            "243/243 [==============================] - 3s 13ms/step - loss: 0.3696 - accuracy: 0.8439 - val_loss: 0.4028 - val_accuracy: 0.8298\n",
            "Epoch 9/20\n",
            "243/243 [==============================] - 2s 10ms/step - loss: 0.3668 - accuracy: 0.8424 - val_loss: 0.3997 - val_accuracy: 0.8293\n",
            "Epoch 10/20\n",
            "243/243 [==============================] - 2s 10ms/step - loss: 0.3611 - accuracy: 0.8445 - val_loss: 0.4014 - val_accuracy: 0.8285\n",
            "Epoch 11/20\n",
            "243/243 [==============================] - 3s 11ms/step - loss: 0.3584 - accuracy: 0.8449 - val_loss: 0.4229 - val_accuracy: 0.8294\n",
            "Epoch 12/20\n",
            "243/243 [==============================] - 3s 12ms/step - loss: 0.3567 - accuracy: 0.8498 - val_loss: 0.3942 - val_accuracy: 0.8297\n",
            "Epoch 13/20\n",
            "243/243 [==============================] - 2s 10ms/step - loss: 0.3533 - accuracy: 0.8508 - val_loss: 0.4026 - val_accuracy: 0.8294\n",
            "Epoch 14/20\n",
            "243/243 [==============================] - 2s 10ms/step - loss: 0.3476 - accuracy: 0.8530 - val_loss: 0.4029 - val_accuracy: 0.8264\n",
            "Epoch 15/20\n",
            "243/243 [==============================] - 2s 10ms/step - loss: 0.3441 - accuracy: 0.8553 - val_loss: 0.4046 - val_accuracy: 0.8274\n",
            "Epoch 16/20\n",
            "243/243 [==============================] - 2s 10ms/step - loss: 0.3440 - accuracy: 0.8543 - val_loss: 0.4169 - val_accuracy: 0.8266\n",
            "Epoch 17/20\n",
            "243/243 [==============================] - 3s 13ms/step - loss: 0.3436 - accuracy: 0.8563 - val_loss: 0.4115 - val_accuracy: 0.8238\n",
            "Epoch 18/20\n",
            "243/243 [==============================] - 3s 11ms/step - loss: 0.3430 - accuracy: 0.8539 - val_loss: 0.4279 - val_accuracy: 0.8287\n",
            "Epoch 19/20\n",
            "243/243 [==============================] - 3s 11ms/step - loss: 0.3333 - accuracy: 0.8603 - val_loss: 0.4022 - val_accuracy: 0.8277\n",
            "Epoch 20/20\n",
            "243/243 [==============================] - 3s 13ms/step - loss: 0.3319 - accuracy: 0.8606 - val_loss: 0.4006 - val_accuracy: 0.8277\n"
          ]
        }
      ]
    },
    {
      "cell_type": "code",
      "source": [
        "plt.plot(history3.history['loss'],label='Train loss')\n",
        "plt.plot(history3.history['val_loss'],label='Test loss')\n",
        "plt.legend()\n",
        "plt.xlabel(\"Epochs\")\n",
        "plt.ylabel(\"loss\")\n",
        "plt.show()"
      ],
      "metadata": {
        "id": "knzmEZ02M11m",
        "colab": {
          "base_uri": "https://localhost:8080/",
          "height": 449
        },
        "outputId": "55747904-3bb7-4fd6-d3ea-c4668c87c0d6"
      },
      "execution_count": 69,
      "outputs": [
        {
          "output_type": "display_data",
          "data": {
            "text/plain": [
              "<Figure size 640x480 with 1 Axes>"
            ],
            "image/png": "[encoded data removed]"
          },
          "metadata": {}
        }
      ]
    },
    {
      "cell_type": "code",
      "source": [
        "plt.plot(history3.history['accuracy'],label='Train Accuracy')\n",
        "plt.plot(history3.history['val_accuracy'],label='Test Accuracy')\n",
        "plt.legend()\n",
        "plt.xlabel(\"Epochs\")\n",
        "plt.ylabel(\"Accuracy\")\n",
        "plt.show()"
      ],
      "metadata": {
        "id": "3FVAfzjtPMno",
        "colab": {
          "base_uri": "https://localhost:8080/",
          "height": 449
        },
        "outputId": "5c9f57c9-8342-4aa9-84ae-ed250d6ccb1a"
      },
      "execution_count": 70,
      "outputs": [
        {
          "output_type": "display_data",
          "data": {
            "text/plain": [
              "<Figure size 640x480 with 1 Axes>"
            ],
            "image/png": "[encoded data removed]"
          },
          "metadata": {}
        }
      ]
    },
    {
      "cell_type": "code",
      "source": [
        "y_pred_blstm3=model3.predict(X_test)"
      ],
      "metadata": {
        "colab": {
          "base_uri": "https://localhost:8080/",
          "height": 0
        },
        "id": "AboPNN8t2wLM",
        "outputId": "d340409c-28a8-41e1-f0e6-13cb6044d1b5"
      },
      "execution_count": 71,
      "outputs": [
        {
          "output_type": "stream",
          "name": "stdout",
          "text": [
            "240/240 [==============================] - 2s 4ms/step\n"
          ]
        }
      ]
    },
    {
      "cell_type": "code",
      "source": [
        "threshold=0.5\n",
        "y_pred_binary4=(y_pred_blstm3 >= threshold).astype(int)"
      ],
      "metadata": {
        "id": "Yc1K7G8D23K7"
      },
      "execution_count": 76,
      "outputs": []
    },
    {
      "cell_type": "code",
      "source": [
        "ConfusionMatrixDisplay(confusion_matrix(y_test,y_pred_binary4)).plot()"
      ],
      "metadata": {
        "colab": {
          "base_uri": "https://localhost:8080/",
          "height": 467
        },
        "id": "f8GMr8ly27EE",
        "outputId": "67d0c7ae-1ffa-4076-8b67-44cb52c8d7f2"
      },
      "execution_count": 77,
      "outputs": [
        {
          "output_type": "execute_result",
          "data": {
            "text/plain": [
              "<sklearn.metrics._plot.confusion_matrix.ConfusionMatrixDisplay at 0x7fc31b593400>"
            ]
          },
          "metadata": {},
          "execution_count": 77
        },
        {
          "output_type": "display_data",
          "data": {
            "text/plain": [
              "<Figure size 640x480 with 2 Axes>"
            ],
            "image/png": "[encoded data removed]"
          },
          "metadata": {}
        }
      ]
    },
    {
      "cell_type": "code",
      "source": [
        "print(\"Total Train Accuracy :- \",accuracy_score(y_test,y_pred_binary4)*100)"
      ],
      "metadata": {
        "colab": {
          "base_uri": "https://localhost:8080/",
          "height": 0
        },
        "id": "i8LNdlv53DU6",
        "outputId": "48bb8c91-7850-4800-f3e2-7c9057776f68"
      },
      "execution_count": 82,
      "outputs": [
        {
          "output_type": "stream",
          "name": "stdout",
          "text": [
            "Total Train Accuracy :-  82.7694317439582\n"
          ]
        }
      ]
    },
    {
      "cell_type": "code",
      "source": [
        "print(classification_report(y_test,y_pred_binary4))"
      ],
      "metadata": {
        "colab": {
          "base_uri": "https://localhost:8080/",
          "height": 0
        },
        "id": "zAvCivr23ZHA",
        "outputId": "a601d9f5-e8a8-4a5f-aff6-99d18edf0957"
      },
      "execution_count": 81,
      "outputs": [
        {
          "output_type": "stream",
          "name": "stdout",
          "text": [
            "              precision    recall  f1-score   support\n",
            "\n",
            "           0       0.69      0.53      0.60      1854\n",
            "           1       0.86      0.92      0.89      5801\n",
            "\n",
            "    accuracy                           0.83      7655\n",
            "   macro avg       0.77      0.73      0.74      7655\n",
            "weighted avg       0.82      0.83      0.82      7655\n",
            "\n"
          ]
        }
      ]
    },
    {
      "cell_type": "code",
      "source": [],
      "metadata": {
        "id": "CLwY-aSu3vAN"
      },
      "execution_count": null,
      "outputs": []
    }
  ]
}
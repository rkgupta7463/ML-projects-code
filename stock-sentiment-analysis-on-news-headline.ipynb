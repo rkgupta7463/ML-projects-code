{
 "cells": [
  {
   "cell_type": "code",
   "execution_count": 1,
   "id": "2fc4f297",
   "metadata": {
    "_cell_guid": "b1076dfc-b9ad-4769-8c92-a6c4dae69d19",
    "_uuid": "8f2839f25d086af736a60e9eeb907d3b93b6e0e5",
    "execution": {
     "iopub.execute_input": "2023-07-28T13:05:38.162314Z",
     "iopub.status.busy": "2023-07-28T13:05:38.161921Z",
     "iopub.status.idle": "2023-07-28T13:05:38.180640Z",
     "shell.execute_reply": "2023-07-28T13:05:38.179894Z"
    },
    "papermill": {
     "duration": 0.031819,
     "end_time": "2023-07-28T13:05:38.182934",
     "exception": false,
     "start_time": "2023-07-28T13:05:38.151115",
     "status": "completed"
    },
    "tags": []
   },
   "outputs": [
    {
     "name": "stdout",
     "output_type": "stream",
     "text": [
      "/kaggle/input/dataset/Data(2).csv\n"
     ]
    }
   ],
   "source": [
    "# This Python 3 environment comes with many helpful analytics libraries installed\n",
    "# It is defined by the kaggle/python Docker image: https://github.com/kaggle/docker-python\n",
    "# For example, here's several helpful packages to load\n",
    "\n",
    "import numpy as np # linear algebra\n",
    "import pandas as pd # data processing, CSV file I/O (e.g. pd.read_csv)\n",
    "\n",
    "# Input data files are available in the read-only \"../input/\" directory\n",
    "# For example, running this (by clicking run or pressing Shift+Enter) will list all files under the input directory\n",
    "\n",
    "import os\n",
    "for dirname, _, filenames in os.walk('/kaggle/input'):\n",
    "    for filename in filenames:\n",
    "        print(os.path.join(dirname, filename))\n",
    "\n",
    "# You can write up to 20GB to the current directory (/kaggle/working/) that gets preserved as output when you create a version using \"Save & Run All\" \n",
    "# You can also write temporary files to /kaggle/temp/, but they won't be saved outside of the current session"
   ]
  },
  {
   "cell_type": "code",
   "execution_count": 2,
   "id": "bf5a5be5",
   "metadata": {
    "execution": {
     "iopub.execute_input": "2023-07-28T13:05:38.202462Z",
     "iopub.status.busy": "2023-07-28T13:05:38.201275Z",
     "iopub.status.idle": "2023-07-28T13:05:38.450265Z",
     "shell.execute_reply": "2023-07-28T13:05:38.449135Z"
    },
    "papermill": {
     "duration": 0.261351,
     "end_time": "2023-07-28T13:05:38.453015",
     "exception": false,
     "start_time": "2023-07-28T13:05:38.191664",
     "status": "completed"
    },
    "tags": []
   },
   "outputs": [],
   "source": [
    "df=pd.read_csv('/kaggle/input/dataset/Data(2).csv',encoding = \"ISO-8859-1\")"
   ]
  },
  {
   "cell_type": "code",
   "execution_count": 3,
   "id": "12ba8eb0",
   "metadata": {
    "execution": {
     "iopub.execute_input": "2023-07-28T13:05:38.472414Z",
     "iopub.status.busy": "2023-07-28T13:05:38.472002Z",
     "iopub.status.idle": "2023-07-28T13:05:38.479528Z",
     "shell.execute_reply": "2023-07-28T13:05:38.478487Z"
    },
    "papermill": {
     "duration": 0.019695,
     "end_time": "2023-07-28T13:05:38.481776",
     "exception": false,
     "start_time": "2023-07-28T13:05:38.462081",
     "status": "completed"
    },
    "tags": []
   },
   "outputs": [
    {
     "data": {
      "text/plain": [
       "(4101, 27)"
      ]
     },
     "execution_count": 3,
     "metadata": {},
     "output_type": "execute_result"
    }
   ],
   "source": [
    "df.shape"
   ]
  },
  {
   "cell_type": "code",
   "execution_count": 4,
   "id": "7953fb02",
   "metadata": {
    "execution": {
     "iopub.execute_input": "2023-07-28T13:05:38.500598Z",
     "iopub.status.busy": "2023-07-28T13:05:38.500192Z",
     "iopub.status.idle": "2023-07-28T13:05:38.535496Z",
     "shell.execute_reply": "2023-07-28T13:05:38.534413Z"
    },
    "papermill": {
     "duration": 0.047571,
     "end_time": "2023-07-28T13:05:38.537769",
     "exception": false,
     "start_time": "2023-07-28T13:05:38.490198",
     "status": "completed"
    },
    "tags": []
   },
   "outputs": [
    {
     "data": {
      "text/html": [
       "<div>\n",
       "<style scoped>\n",
       "    .dataframe tbody tr th:only-of-type {\n",
       "        vertical-align: middle;\n",
       "    }\n",
       "\n",
       "    .dataframe tbody tr th {\n",
       "        vertical-align: top;\n",
       "    }\n",
       "\n",
       "    .dataframe thead th {\n",
       "        text-align: right;\n",
       "    }\n",
       "</style>\n",
       "<table border=\"1\" class=\"dataframe\">\n",
       "  <thead>\n",
       "    <tr style=\"text-align: right;\">\n",
       "      <th></th>\n",
       "      <th>Date</th>\n",
       "      <th>Label</th>\n",
       "      <th>Top1</th>\n",
       "      <th>Top2</th>\n",
       "      <th>Top3</th>\n",
       "      <th>Top4</th>\n",
       "      <th>Top5</th>\n",
       "      <th>Top6</th>\n",
       "      <th>Top7</th>\n",
       "      <th>Top8</th>\n",
       "      <th>...</th>\n",
       "      <th>Top16</th>\n",
       "      <th>Top17</th>\n",
       "      <th>Top18</th>\n",
       "      <th>Top19</th>\n",
       "      <th>Top20</th>\n",
       "      <th>Top21</th>\n",
       "      <th>Top22</th>\n",
       "      <th>Top23</th>\n",
       "      <th>Top24</th>\n",
       "      <th>Top25</th>\n",
       "    </tr>\n",
       "  </thead>\n",
       "  <tbody>\n",
       "    <tr>\n",
       "      <th>0</th>\n",
       "      <td>2000-01-03</td>\n",
       "      <td>0</td>\n",
       "      <td>A 'hindrance to operations': extracts from the...</td>\n",
       "      <td>Scorecard</td>\n",
       "      <td>Hughes' instant hit buoys Blues</td>\n",
       "      <td>Jack gets his skates on at ice-cold Alex</td>\n",
       "      <td>Chaos as Maracana builds up for United</td>\n",
       "      <td>Depleted Leicester prevail as Elliott spoils E...</td>\n",
       "      <td>Hungry Spurs sense rich pickings</td>\n",
       "      <td>Gunners so wide of an easy target</td>\n",
       "      <td>...</td>\n",
       "      <td>Flintoff injury piles on woe for England</td>\n",
       "      <td>Hunters threaten Jospin with new battle of the...</td>\n",
       "      <td>Kohl's successor drawn into scandal</td>\n",
       "      <td>The difference between men and women</td>\n",
       "      <td>Sara Denver, nurse turned solicitor</td>\n",
       "      <td>Diana's landmine crusade put Tories in a panic</td>\n",
       "      <td>Yeltsin's resignation caught opposition flat-f...</td>\n",
       "      <td>Russian roulette</td>\n",
       "      <td>Sold out</td>\n",
       "      <td>Recovering a title</td>\n",
       "    </tr>\n",
       "    <tr>\n",
       "      <th>1</th>\n",
       "      <td>2000-01-04</td>\n",
       "      <td>0</td>\n",
       "      <td>Scorecard</td>\n",
       "      <td>The best lake scene</td>\n",
       "      <td>Leader: German sleaze inquiry</td>\n",
       "      <td>Cheerio, boyo</td>\n",
       "      <td>The main recommendations</td>\n",
       "      <td>Has Cubie killed fees?</td>\n",
       "      <td>Has Cubie killed fees?</td>\n",
       "      <td>Has Cubie killed fees?</td>\n",
       "      <td>...</td>\n",
       "      <td>On the critical list</td>\n",
       "      <td>The timing of their lives</td>\n",
       "      <td>Dear doctor</td>\n",
       "      <td>Irish court halts IRA man's extradition to Nor...</td>\n",
       "      <td>Burundi peace initiative fades after rebels re...</td>\n",
       "      <td>PE points the way forward to the ECB</td>\n",
       "      <td>Campaigners keep up pressure on Nazi war crime...</td>\n",
       "      <td>Jane Ratcliffe</td>\n",
       "      <td>Yet more things you wouldn't know without the ...</td>\n",
       "      <td>Millennium bug fails to bite</td>\n",
       "    </tr>\n",
       "    <tr>\n",
       "      <th>2</th>\n",
       "      <td>2000-01-05</td>\n",
       "      <td>0</td>\n",
       "      <td>Coventry caught on counter by Flo</td>\n",
       "      <td>United's rivals on the road to Rio</td>\n",
       "      <td>Thatcher issues defence before trial by video</td>\n",
       "      <td>Police help Smith lay down the law at Everton</td>\n",
       "      <td>Tale of Trautmann bears two more retellings</td>\n",
       "      <td>England on the rack</td>\n",
       "      <td>Pakistan retaliate with call for video of Walsh</td>\n",
       "      <td>Cullinan continues his Cape monopoly</td>\n",
       "      <td>...</td>\n",
       "      <td>South Melbourne (Australia)</td>\n",
       "      <td>Necaxa (Mexico)</td>\n",
       "      <td>Real Madrid (Spain)</td>\n",
       "      <td>Raja Casablanca (Morocco)</td>\n",
       "      <td>Corinthians (Brazil)</td>\n",
       "      <td>Tony's pet project</td>\n",
       "      <td>Al Nassr (Saudi Arabia)</td>\n",
       "      <td>Ideal Holmes show</td>\n",
       "      <td>Pinochet leaves hospital after tests</td>\n",
       "      <td>Useful links</td>\n",
       "    </tr>\n",
       "    <tr>\n",
       "      <th>3</th>\n",
       "      <td>2000-01-06</td>\n",
       "      <td>1</td>\n",
       "      <td>Pilgrim knows how to progress</td>\n",
       "      <td>Thatcher facing ban</td>\n",
       "      <td>McIlroy calls for Irish fighting spirit</td>\n",
       "      <td>Leicester bin stadium blueprint</td>\n",
       "      <td>United braced for Mexican wave</td>\n",
       "      <td>Auntie back in fashion, even if the dress look...</td>\n",
       "      <td>Shoaib appeal goes to the top</td>\n",
       "      <td>Hussain hurt by 'shambles' but lays blame on e...</td>\n",
       "      <td>...</td>\n",
       "      <td>Putin admits Yeltsin quit to give him a head s...</td>\n",
       "      <td>BBC worst hit as digital TV begins to bite</td>\n",
       "      <td>How much can you pay for...</td>\n",
       "      <td>Christmas glitches</td>\n",
       "      <td>Upending a table, Chopping a line and Scoring ...</td>\n",
       "      <td>Scientific evidence 'unreliable', defence claims</td>\n",
       "      <td>Fusco wins judicial review in extradition case</td>\n",
       "      <td>Rebels thwart Russian advance</td>\n",
       "      <td>Blair orders shake-up of failing NHS</td>\n",
       "      <td>Lessons of law's hard heart</td>\n",
       "    </tr>\n",
       "    <tr>\n",
       "      <th>4</th>\n",
       "      <td>2000-01-07</td>\n",
       "      <td>1</td>\n",
       "      <td>Hitches and Horlocks</td>\n",
       "      <td>Beckham off but United survive</td>\n",
       "      <td>Breast cancer screening</td>\n",
       "      <td>Alan Parker</td>\n",
       "      <td>Guardian readers: are you all whingers?</td>\n",
       "      <td>Hollywood Beyond</td>\n",
       "      <td>Ashes and diamonds</td>\n",
       "      <td>Whingers - a formidable minority</td>\n",
       "      <td>...</td>\n",
       "      <td>Most everywhere:  UDIs</td>\n",
       "      <td>Most wanted:  Chloe lunettes</td>\n",
       "      <td>Return of the cane 'completely off the agenda'</td>\n",
       "      <td>From Sleepy Hollow to Greeneland</td>\n",
       "      <td>Blunkett outlines vision for over 11s</td>\n",
       "      <td>Embattled Dobson attacks 'play now, pay later'...</td>\n",
       "      <td>Doom and the Dome</td>\n",
       "      <td>What is the north-south divide?</td>\n",
       "      <td>Aitken released from jail</td>\n",
       "      <td>Gone aloft</td>\n",
       "    </tr>\n",
       "  </tbody>\n",
       "</table>\n",
       "<p>5 rows × 27 columns</p>\n",
       "</div>"
      ],
      "text/plain": [
       "         Date  Label                                               Top1  \\\n",
       "0  2000-01-03      0  A 'hindrance to operations': extracts from the...   \n",
       "1  2000-01-04      0                                          Scorecard   \n",
       "2  2000-01-05      0                  Coventry caught on counter by Flo   \n",
       "3  2000-01-06      1                      Pilgrim knows how to progress   \n",
       "4  2000-01-07      1                               Hitches and Horlocks   \n",
       "\n",
       "                                 Top2  \\\n",
       "0                           Scorecard   \n",
       "1                 The best lake scene   \n",
       "2  United's rivals on the road to Rio   \n",
       "3                 Thatcher facing ban   \n",
       "4      Beckham off but United survive   \n",
       "\n",
       "                                            Top3  \\\n",
       "0                Hughes' instant hit buoys Blues   \n",
       "1                  Leader: German sleaze inquiry   \n",
       "2  Thatcher issues defence before trial by video   \n",
       "3        McIlroy calls for Irish fighting spirit   \n",
       "4                        Breast cancer screening   \n",
       "\n",
       "                                            Top4  \\\n",
       "0       Jack gets his skates on at ice-cold Alex   \n",
       "1                                  Cheerio, boyo   \n",
       "2  Police help Smith lay down the law at Everton   \n",
       "3                Leicester bin stadium blueprint   \n",
       "4                                    Alan Parker   \n",
       "\n",
       "                                          Top5  \\\n",
       "0       Chaos as Maracana builds up for United   \n",
       "1                     The main recommendations   \n",
       "2  Tale of Trautmann bears two more retellings   \n",
       "3               United braced for Mexican wave   \n",
       "4      Guardian readers: are you all whingers?   \n",
       "\n",
       "                                                Top6  \\\n",
       "0  Depleted Leicester prevail as Elliott spoils E...   \n",
       "1                             Has Cubie killed fees?   \n",
       "2                                England on the rack   \n",
       "3  Auntie back in fashion, even if the dress look...   \n",
       "4                                   Hollywood Beyond   \n",
       "\n",
       "                                              Top7  \\\n",
       "0                 Hungry Spurs sense rich pickings   \n",
       "1                           Has Cubie killed fees?   \n",
       "2  Pakistan retaliate with call for video of Walsh   \n",
       "3                    Shoaib appeal goes to the top   \n",
       "4                               Ashes and diamonds   \n",
       "\n",
       "                                                Top8  ...  \\\n",
       "0                  Gunners so wide of an easy target  ...   \n",
       "1                             Has Cubie killed fees?  ...   \n",
       "2               Cullinan continues his Cape monopoly  ...   \n",
       "3  Hussain hurt by 'shambles' but lays blame on e...  ...   \n",
       "4                   Whingers - a formidable minority  ...   \n",
       "\n",
       "                                               Top16  \\\n",
       "0           Flintoff injury piles on woe for England   \n",
       "1                               On the critical list   \n",
       "2                        South Melbourne (Australia)   \n",
       "3  Putin admits Yeltsin quit to give him a head s...   \n",
       "4                             Most everywhere:  UDIs   \n",
       "\n",
       "                                               Top17  \\\n",
       "0  Hunters threaten Jospin with new battle of the...   \n",
       "1                          The timing of their lives   \n",
       "2                                    Necaxa (Mexico)   \n",
       "3         BBC worst hit as digital TV begins to bite   \n",
       "4                       Most wanted:  Chloe lunettes   \n",
       "\n",
       "                                            Top18  \\\n",
       "0             Kohl's successor drawn into scandal   \n",
       "1                                     Dear doctor   \n",
       "2                             Real Madrid (Spain)   \n",
       "3                     How much can you pay for...   \n",
       "4  Return of the cane 'completely off the agenda'   \n",
       "\n",
       "                                               Top19  \\\n",
       "0               The difference between men and women   \n",
       "1  Irish court halts IRA man's extradition to Nor...   \n",
       "2                          Raja Casablanca (Morocco)   \n",
       "3                                 Christmas glitches   \n",
       "4                   From Sleepy Hollow to Greeneland   \n",
       "\n",
       "                                               Top20  \\\n",
       "0                Sara Denver, nurse turned solicitor   \n",
       "1  Burundi peace initiative fades after rebels re...   \n",
       "2                               Corinthians (Brazil)   \n",
       "3  Upending a table, Chopping a line and Scoring ...   \n",
       "4              Blunkett outlines vision for over 11s   \n",
       "\n",
       "                                               Top21  \\\n",
       "0     Diana's landmine crusade put Tories in a panic   \n",
       "1               PE points the way forward to the ECB   \n",
       "2                                 Tony's pet project   \n",
       "3   Scientific evidence 'unreliable', defence claims   \n",
       "4  Embattled Dobson attacks 'play now, pay later'...   \n",
       "\n",
       "                                               Top22  \\\n",
       "0  Yeltsin's resignation caught opposition flat-f...   \n",
       "1  Campaigners keep up pressure on Nazi war crime...   \n",
       "2                            Al Nassr (Saudi Arabia)   \n",
       "3     Fusco wins judicial review in extradition case   \n",
       "4                                  Doom and the Dome   \n",
       "\n",
       "                             Top23  \\\n",
       "0                 Russian roulette   \n",
       "1                   Jane Ratcliffe   \n",
       "2                Ideal Holmes show   \n",
       "3    Rebels thwart Russian advance   \n",
       "4  What is the north-south divide?   \n",
       "\n",
       "                                               Top24  \\\n",
       "0                                           Sold out   \n",
       "1  Yet more things you wouldn't know without the ...   \n",
       "2               Pinochet leaves hospital after tests   \n",
       "3               Blair orders shake-up of failing NHS   \n",
       "4                          Aitken released from jail   \n",
       "\n",
       "                          Top25  \n",
       "0            Recovering a title  \n",
       "1  Millennium bug fails to bite  \n",
       "2                  Useful links  \n",
       "3   Lessons of law's hard heart  \n",
       "4                    Gone aloft  \n",
       "\n",
       "[5 rows x 27 columns]"
      ]
     },
     "execution_count": 4,
     "metadata": {},
     "output_type": "execute_result"
    }
   ],
   "source": [
    "df.head()"
   ]
  },
  {
   "cell_type": "code",
   "execution_count": 5,
   "id": "ea224b7d",
   "metadata": {
    "execution": {
     "iopub.execute_input": "2023-07-28T13:05:38.558918Z",
     "iopub.status.busy": "2023-07-28T13:05:38.558499Z",
     "iopub.status.idle": "2023-07-28T13:05:38.583634Z",
     "shell.execute_reply": "2023-07-28T13:05:38.582532Z"
    },
    "papermill": {
     "duration": 0.038359,
     "end_time": "2023-07-28T13:05:38.585959",
     "exception": false,
     "start_time": "2023-07-28T13:05:38.547600",
     "status": "completed"
    },
    "tags": []
   },
   "outputs": [
    {
     "data": {
      "text/html": [
       "<div>\n",
       "<style scoped>\n",
       "    .dataframe tbody tr th:only-of-type {\n",
       "        vertical-align: middle;\n",
       "    }\n",
       "\n",
       "    .dataframe tbody tr th {\n",
       "        vertical-align: top;\n",
       "    }\n",
       "\n",
       "    .dataframe thead th {\n",
       "        text-align: right;\n",
       "    }\n",
       "</style>\n",
       "<table border=\"1\" class=\"dataframe\">\n",
       "  <thead>\n",
       "    <tr style=\"text-align: right;\">\n",
       "      <th></th>\n",
       "      <th>Date</th>\n",
       "      <th>Label</th>\n",
       "      <th>Top1</th>\n",
       "      <th>Top2</th>\n",
       "      <th>Top3</th>\n",
       "      <th>Top4</th>\n",
       "      <th>Top5</th>\n",
       "      <th>Top6</th>\n",
       "      <th>Top7</th>\n",
       "      <th>Top8</th>\n",
       "      <th>...</th>\n",
       "      <th>Top16</th>\n",
       "      <th>Top17</th>\n",
       "      <th>Top18</th>\n",
       "      <th>Top19</th>\n",
       "      <th>Top20</th>\n",
       "      <th>Top21</th>\n",
       "      <th>Top22</th>\n",
       "      <th>Top23</th>\n",
       "      <th>Top24</th>\n",
       "      <th>Top25</th>\n",
       "    </tr>\n",
       "  </thead>\n",
       "  <tbody>\n",
       "    <tr>\n",
       "      <th>4096</th>\n",
       "      <td>2016-06-27</td>\n",
       "      <td>0</td>\n",
       "      <td>Barclays and RBS shares suspended from trading...</td>\n",
       "      <td>Pope says Church should ask forgiveness from g...</td>\n",
       "      <td>Poland 'shocked' by xenophobic abuse of Poles ...</td>\n",
       "      <td>There will be no second referendum, cabinet ag...</td>\n",
       "      <td>Scotland welcome to join EU, Merkel ally says</td>\n",
       "      <td>Sterling dips below Friday's 31-year low amid ...</td>\n",
       "      <td>No negative news about South African President...</td>\n",
       "      <td>Surge in Hate Crimes in the U.K. Following U.K...</td>\n",
       "      <td>...</td>\n",
       "      <td>German lawyers to probe Erdogan over alleged w...</td>\n",
       "      <td>Boris Johnson says the UK will continue to \"in...</td>\n",
       "      <td>Richard Branson is calling on the UK governmen...</td>\n",
       "      <td>Turkey 'sorry for downing Russian jet'</td>\n",
       "      <td>Edward Snowden lawyer vows new push for pardon...</td>\n",
       "      <td>Brexit opinion poll reveals majority don't wan...</td>\n",
       "      <td>Conservative MP Leave Campaigner: \"The leave c...</td>\n",
       "      <td>Economists predict UK recession, further weake...</td>\n",
       "      <td>New EU 'superstate plan by France, Germany: Cr...</td>\n",
       "      <td>Pakistani clerics declare transgender marriage...</td>\n",
       "    </tr>\n",
       "    <tr>\n",
       "      <th>4097</th>\n",
       "      <td>2016-06-28</td>\n",
       "      <td>1</td>\n",
       "      <td>2,500 Scientists To Australia: If You Want To ...</td>\n",
       "      <td>The personal details of 112,000 French police ...</td>\n",
       "      <td>S&amp;amp;P cuts United Kingdom sovereign credit r...</td>\n",
       "      <td>Huge helium deposit found in Africa</td>\n",
       "      <td>CEO of the South African state broadcaster qui...</td>\n",
       "      <td>Brexit cost investors $2 trillion, the worst o...</td>\n",
       "      <td>Hong Kong democracy activists call for return ...</td>\n",
       "      <td>Brexit: Iceland president says UK can join 'tr...</td>\n",
       "      <td>...</td>\n",
       "      <td>US, Canada and Mexico pledge 50% of power from...</td>\n",
       "      <td>There is increasing evidence that Australia is...</td>\n",
       "      <td>Richard Branson, the founder of Virgin Group, ...</td>\n",
       "      <td>37,000-yr-old skull from Borneo reveals surpri...</td>\n",
       "      <td>Palestinians stone Western Wall worshipers; po...</td>\n",
       "      <td>Jean-Claude Juncker asks Farage: Why are you h...</td>\n",
       "      <td>\"Romanians for Remainians\" offering a new home...</td>\n",
       "      <td>Brexit: Gibraltar in talks with Scotland to st...</td>\n",
       "      <td>8 Suicide Bombers Strike Lebanon</td>\n",
       "      <td>Mexico's security forces routinely use 'sexual...</td>\n",
       "    </tr>\n",
       "    <tr>\n",
       "      <th>4098</th>\n",
       "      <td>2016-06-29</td>\n",
       "      <td>1</td>\n",
       "      <td>Explosion At Airport In Istanbul</td>\n",
       "      <td>Yemeni former president: Terrorism is the offs...</td>\n",
       "      <td>UK must accept freedom of movement to access E...</td>\n",
       "      <td>Devastated: scientists too late to captive bre...</td>\n",
       "      <td>British Labor Party leader Jeremy Corbyn loses...</td>\n",
       "      <td>A Muslim Shop in the UK Was Just Firebombed Wh...</td>\n",
       "      <td>Mexican Authorities Sexually Torture Women in ...</td>\n",
       "      <td>UK shares and pound continue to recover</td>\n",
       "      <td>...</td>\n",
       "      <td>Escape Tunnel, Dug by Hand, Is Found at Holoca...</td>\n",
       "      <td>The land under Beijing is sinking by as much a...</td>\n",
       "      <td>Car bomb and Anti-Islamic attack on Mosque in ...</td>\n",
       "      <td>Emaciated lions in Taiz Zoo are trapped in blo...</td>\n",
       "      <td>Rupert Murdoch describes Brexit as 'wonderful'...</td>\n",
       "      <td>More than 40 killed in Yemen suicide attacks</td>\n",
       "      <td>Google Found Disastrous Symantec and Norton Vu...</td>\n",
       "      <td>Extremist violence on the rise in Germany: Dom...</td>\n",
       "      <td>BBC News: Labour MPs pass Corbyn no-confidence...</td>\n",
       "      <td>Tiny New Zealand town with 'too many jobs' lau...</td>\n",
       "    </tr>\n",
       "    <tr>\n",
       "      <th>4099</th>\n",
       "      <td>2016-06-30</td>\n",
       "      <td>1</td>\n",
       "      <td>Jamaica proposes marijuana dispensers for tour...</td>\n",
       "      <td>Stephen Hawking says pollution and 'stupidity'...</td>\n",
       "      <td>Boris Johnson says he will not run for Tory pa...</td>\n",
       "      <td>Six gay men in Ivory Coast were abused and for...</td>\n",
       "      <td>Switzerland denies citizenship to Muslim immig...</td>\n",
       "      <td>Palestinian terrorist stabs israeli teen girl ...</td>\n",
       "      <td>Puerto Rico will default on $1 billion of debt...</td>\n",
       "      <td>Republic of Ireland fans to be awarded medal f...</td>\n",
       "      <td>...</td>\n",
       "      <td>Googles free wifi at Indian railway stations i...</td>\n",
       "      <td>Mounting evidence suggests 'hobbits' were wipe...</td>\n",
       "      <td>The men who carried out Tuesday's terror attac...</td>\n",
       "      <td>Calls to suspend Saudi Arabia from UN Human Ri...</td>\n",
       "      <td>More Than 100 Nobel Laureates Call Out Greenpe...</td>\n",
       "      <td>British pedophile sentenced to 85 years in US ...</td>\n",
       "      <td>US permitted 1,200 offshore fracks in Gulf of ...</td>\n",
       "      <td>We will be swimming in ridicule - French beach...</td>\n",
       "      <td>UEFA says no minutes of silence for Istanbul v...</td>\n",
       "      <td>Law Enforcement Sources: Gun Used in Paris Ter...</td>\n",
       "    </tr>\n",
       "    <tr>\n",
       "      <th>4100</th>\n",
       "      <td>2016-07-01</td>\n",
       "      <td>1</td>\n",
       "      <td>A 117-year-old woman in Mexico City finally re...</td>\n",
       "      <td>IMF chief backs Athens as permanent Olympic host</td>\n",
       "      <td>The president of France says if Brexit won, so...</td>\n",
       "      <td>British Man Who Must Give Police 24 Hours' Not...</td>\n",
       "      <td>100+ Nobel laureates urge Greenpeace to stop o...</td>\n",
       "      <td>Brazil: Huge spike in number of police killing...</td>\n",
       "      <td>Austria's highest court annuls presidential el...</td>\n",
       "      <td>Facebook wins privacy case, can track any Belg...</td>\n",
       "      <td>...</td>\n",
       "      <td>The United States has placed Myanmar, Uzbekist...</td>\n",
       "      <td>S&amp;amp;P revises European Union credit rating t...</td>\n",
       "      <td>India gets $1 billion loan from World Bank for...</td>\n",
       "      <td>U.S. sailors detained by Iran spoke too much u...</td>\n",
       "      <td>Mass fish kill in Vietnam solved as Taiwan ste...</td>\n",
       "      <td>Philippines president Rodrigo Duterte urges pe...</td>\n",
       "      <td>Spain arrests three Pakistanis accused of prom...</td>\n",
       "      <td>Venezuela, where anger over food shortages is ...</td>\n",
       "      <td>A Hindu temple worker has been killed by three...</td>\n",
       "      <td>Ozone layer hole seems to be healing - US &amp;amp...</td>\n",
       "    </tr>\n",
       "  </tbody>\n",
       "</table>\n",
       "<p>5 rows × 27 columns</p>\n",
       "</div>"
      ],
      "text/plain": [
       "            Date  Label                                               Top1  \\\n",
       "4096  2016-06-27      0  Barclays and RBS shares suspended from trading...   \n",
       "4097  2016-06-28      1  2,500 Scientists To Australia: If You Want To ...   \n",
       "4098  2016-06-29      1                   Explosion At Airport In Istanbul   \n",
       "4099  2016-06-30      1  Jamaica proposes marijuana dispensers for tour...   \n",
       "4100  2016-07-01      1  A 117-year-old woman in Mexico City finally re...   \n",
       "\n",
       "                                                   Top2  \\\n",
       "4096  Pope says Church should ask forgiveness from g...   \n",
       "4097  The personal details of 112,000 French police ...   \n",
       "4098  Yemeni former president: Terrorism is the offs...   \n",
       "4099  Stephen Hawking says pollution and 'stupidity'...   \n",
       "4100   IMF chief backs Athens as permanent Olympic host   \n",
       "\n",
       "                                                   Top3  \\\n",
       "4096  Poland 'shocked' by xenophobic abuse of Poles ...   \n",
       "4097  S&amp;P cuts United Kingdom sovereign credit r...   \n",
       "4098  UK must accept freedom of movement to access E...   \n",
       "4099  Boris Johnson says he will not run for Tory pa...   \n",
       "4100  The president of France says if Brexit won, so...   \n",
       "\n",
       "                                                   Top4  \\\n",
       "4096  There will be no second referendum, cabinet ag...   \n",
       "4097                Huge helium deposit found in Africa   \n",
       "4098  Devastated: scientists too late to captive bre...   \n",
       "4099  Six gay men in Ivory Coast were abused and for...   \n",
       "4100  British Man Who Must Give Police 24 Hours' Not...   \n",
       "\n",
       "                                                   Top5  \\\n",
       "4096      Scotland welcome to join EU, Merkel ally says   \n",
       "4097  CEO of the South African state broadcaster qui...   \n",
       "4098  British Labor Party leader Jeremy Corbyn loses...   \n",
       "4099  Switzerland denies citizenship to Muslim immig...   \n",
       "4100  100+ Nobel laureates urge Greenpeace to stop o...   \n",
       "\n",
       "                                                   Top6  \\\n",
       "4096  Sterling dips below Friday's 31-year low amid ...   \n",
       "4097  Brexit cost investors $2 trillion, the worst o...   \n",
       "4098  A Muslim Shop in the UK Was Just Firebombed Wh...   \n",
       "4099  Palestinian terrorist stabs israeli teen girl ...   \n",
       "4100  Brazil: Huge spike in number of police killing...   \n",
       "\n",
       "                                                   Top7  \\\n",
       "4096  No negative news about South African President...   \n",
       "4097  Hong Kong democracy activists call for return ...   \n",
       "4098  Mexican Authorities Sexually Torture Women in ...   \n",
       "4099  Puerto Rico will default on $1 billion of debt...   \n",
       "4100  Austria's highest court annuls presidential el...   \n",
       "\n",
       "                                                   Top8  ...  \\\n",
       "4096  Surge in Hate Crimes in the U.K. Following U.K...  ...   \n",
       "4097  Brexit: Iceland president says UK can join 'tr...  ...   \n",
       "4098            UK shares and pound continue to recover  ...   \n",
       "4099  Republic of Ireland fans to be awarded medal f...  ...   \n",
       "4100  Facebook wins privacy case, can track any Belg...  ...   \n",
       "\n",
       "                                                  Top16  \\\n",
       "4096  German lawyers to probe Erdogan over alleged w...   \n",
       "4097  US, Canada and Mexico pledge 50% of power from...   \n",
       "4098  Escape Tunnel, Dug by Hand, Is Found at Holoca...   \n",
       "4099  Googles free wifi at Indian railway stations i...   \n",
       "4100  The United States has placed Myanmar, Uzbekist...   \n",
       "\n",
       "                                                  Top17  \\\n",
       "4096  Boris Johnson says the UK will continue to \"in...   \n",
       "4097  There is increasing evidence that Australia is...   \n",
       "4098  The land under Beijing is sinking by as much a...   \n",
       "4099  Mounting evidence suggests 'hobbits' were wipe...   \n",
       "4100  S&amp;P revises European Union credit rating t...   \n",
       "\n",
       "                                                  Top18  \\\n",
       "4096  Richard Branson is calling on the UK governmen...   \n",
       "4097  Richard Branson, the founder of Virgin Group, ...   \n",
       "4098  Car bomb and Anti-Islamic attack on Mosque in ...   \n",
       "4099  The men who carried out Tuesday's terror attac...   \n",
       "4100  India gets $1 billion loan from World Bank for...   \n",
       "\n",
       "                                                  Top19  \\\n",
       "4096             Turkey 'sorry for downing Russian jet'   \n",
       "4097  37,000-yr-old skull from Borneo reveals surpri...   \n",
       "4098  Emaciated lions in Taiz Zoo are trapped in blo...   \n",
       "4099  Calls to suspend Saudi Arabia from UN Human Ri...   \n",
       "4100  U.S. sailors detained by Iran spoke too much u...   \n",
       "\n",
       "                                                  Top20  \\\n",
       "4096  Edward Snowden lawyer vows new push for pardon...   \n",
       "4097  Palestinians stone Western Wall worshipers; po...   \n",
       "4098  Rupert Murdoch describes Brexit as 'wonderful'...   \n",
       "4099  More Than 100 Nobel Laureates Call Out Greenpe...   \n",
       "4100  Mass fish kill in Vietnam solved as Taiwan ste...   \n",
       "\n",
       "                                                  Top21  \\\n",
       "4096  Brexit opinion poll reveals majority don't wan...   \n",
       "4097  Jean-Claude Juncker asks Farage: Why are you h...   \n",
       "4098       More than 40 killed in Yemen suicide attacks   \n",
       "4099  British pedophile sentenced to 85 years in US ...   \n",
       "4100  Philippines president Rodrigo Duterte urges pe...   \n",
       "\n",
       "                                                  Top22  \\\n",
       "4096  Conservative MP Leave Campaigner: \"The leave c...   \n",
       "4097  \"Romanians for Remainians\" offering a new home...   \n",
       "4098  Google Found Disastrous Symantec and Norton Vu...   \n",
       "4099  US permitted 1,200 offshore fracks in Gulf of ...   \n",
       "4100  Spain arrests three Pakistanis accused of prom...   \n",
       "\n",
       "                                                  Top23  \\\n",
       "4096  Economists predict UK recession, further weake...   \n",
       "4097  Brexit: Gibraltar in talks with Scotland to st...   \n",
       "4098  Extremist violence on the rise in Germany: Dom...   \n",
       "4099  We will be swimming in ridicule - French beach...   \n",
       "4100  Venezuela, where anger over food shortages is ...   \n",
       "\n",
       "                                                  Top24  \\\n",
       "4096  New EU 'superstate plan by France, Germany: Cr...   \n",
       "4097                   8 Suicide Bombers Strike Lebanon   \n",
       "4098  BBC News: Labour MPs pass Corbyn no-confidence...   \n",
       "4099  UEFA says no minutes of silence for Istanbul v...   \n",
       "4100  A Hindu temple worker has been killed by three...   \n",
       "\n",
       "                                                  Top25  \n",
       "4096  Pakistani clerics declare transgender marriage...  \n",
       "4097  Mexico's security forces routinely use 'sexual...  \n",
       "4098  Tiny New Zealand town with 'too many jobs' lau...  \n",
       "4099  Law Enforcement Sources: Gun Used in Paris Ter...  \n",
       "4100  Ozone layer hole seems to be healing - US &amp...  \n",
       "\n",
       "[5 rows x 27 columns]"
      ]
     },
     "execution_count": 5,
     "metadata": {},
     "output_type": "execute_result"
    }
   ],
   "source": [
    "df.tail()"
   ]
  },
  {
   "cell_type": "markdown",
   "id": "c1a141ee",
   "metadata": {
    "papermill": {
     "duration": 0.009667,
     "end_time": "2023-07-28T13:05:38.605722",
     "exception": false,
     "start_time": "2023-07-28T13:05:38.596055",
     "status": "completed"
    },
    "tags": []
   },
   "source": [
    "**Feature Engineering**"
   ]
  },
  {
   "cell_type": "code",
   "execution_count": 6,
   "id": "667fa498",
   "metadata": {
    "execution": {
     "iopub.execute_input": "2023-07-28T13:05:38.628510Z",
     "iopub.status.busy": "2023-07-28T13:05:38.628092Z",
     "iopub.status.idle": "2023-07-28T13:05:38.633065Z",
     "shell.execute_reply": "2023-07-28T13:05:38.631997Z"
    },
    "papermill": {
     "duration": 0.019661,
     "end_time": "2023-07-28T13:05:38.635406",
     "exception": false,
     "start_time": "2023-07-28T13:05:38.615745",
     "status": "completed"
    },
    "tags": []
   },
   "outputs": [],
   "source": [
    "import re"
   ]
  },
  {
   "cell_type": "code",
   "execution_count": 7,
   "id": "9a49fda5",
   "metadata": {
    "execution": {
     "iopub.execute_input": "2023-07-28T13:05:38.656406Z",
     "iopub.status.busy": "2023-07-28T13:05:38.656050Z",
     "iopub.status.idle": "2023-07-28T13:05:38.666558Z",
     "shell.execute_reply": "2023-07-28T13:05:38.665401Z"
    },
    "papermill": {
     "duration": 0.02397,
     "end_time": "2023-07-28T13:05:38.668961",
     "exception": false,
     "start_time": "2023-07-28T13:05:38.644991",
     "status": "completed"
    },
    "tags": []
   },
   "outputs": [],
   "source": [
    "train=df[df['Date'] < '20150101']\n",
    "test=df[df['Date'] > '20141231']"
   ]
  },
  {
   "cell_type": "code",
   "execution_count": 8,
   "id": "b23757d0",
   "metadata": {
    "execution": {
     "iopub.execute_input": "2023-07-28T13:05:38.690097Z",
     "iopub.status.busy": "2023-07-28T13:05:38.689671Z",
     "iopub.status.idle": "2023-07-28T13:05:38.696706Z",
     "shell.execute_reply": "2023-07-28T13:05:38.695703Z"
    },
    "papermill": {
     "duration": 0.019863,
     "end_time": "2023-07-28T13:05:38.698736",
     "exception": false,
     "start_time": "2023-07-28T13:05:38.678873",
     "status": "completed"
    },
    "tags": []
   },
   "outputs": [
    {
     "data": {
      "text/plain": [
       "((3975, 27), (378, 27))"
      ]
     },
     "execution_count": 8,
     "metadata": {},
     "output_type": "execute_result"
    }
   ],
   "source": [
    "train.shape,test.shape"
   ]
  },
  {
   "cell_type": "code",
   "execution_count": 9,
   "id": "d7683c7f",
   "metadata": {
    "execution": {
     "iopub.execute_input": "2023-07-28T13:05:38.720123Z",
     "iopub.status.busy": "2023-07-28T13:05:38.719733Z",
     "iopub.status.idle": "2023-07-28T13:05:39.596438Z",
     "shell.execute_reply": "2023-07-28T13:05:39.595474Z"
    },
    "papermill": {
     "duration": 0.890432,
     "end_time": "2023-07-28T13:05:39.599031",
     "exception": false,
     "start_time": "2023-07-28T13:05:38.708599",
     "status": "completed"
    },
    "tags": []
   },
   "outputs": [],
   "source": [
    "##Removing the punctualtion\n",
    "data=train.iloc[:,2:27]\n",
    "data.replace(\"[^a-zA-Z]\",\" \",regex=True,inplace=True)"
   ]
  },
  {
   "cell_type": "code",
   "execution_count": 10,
   "id": "05f210f0",
   "metadata": {
    "execution": {
     "iopub.execute_input": "2023-07-28T13:05:39.621207Z",
     "iopub.status.busy": "2023-07-28T13:05:39.620562Z",
     "iopub.status.idle": "2023-07-28T13:05:39.647808Z",
     "shell.execute_reply": "2023-07-28T13:05:39.647043Z"
    },
    "papermill": {
     "duration": 0.040946,
     "end_time": "2023-07-28T13:05:39.650172",
     "exception": false,
     "start_time": "2023-07-28T13:05:39.609226",
     "status": "completed"
    },
    "tags": []
   },
   "outputs": [
    {
     "data": {
      "text/html": [
       "<div>\n",
       "<style scoped>\n",
       "    .dataframe tbody tr th:only-of-type {\n",
       "        vertical-align: middle;\n",
       "    }\n",
       "\n",
       "    .dataframe tbody tr th {\n",
       "        vertical-align: top;\n",
       "    }\n",
       "\n",
       "    .dataframe thead th {\n",
       "        text-align: right;\n",
       "    }\n",
       "</style>\n",
       "<table border=\"1\" class=\"dataframe\">\n",
       "  <thead>\n",
       "    <tr style=\"text-align: right;\">\n",
       "      <th></th>\n",
       "      <th>0</th>\n",
       "      <th>1</th>\n",
       "      <th>2</th>\n",
       "      <th>3</th>\n",
       "      <th>4</th>\n",
       "      <th>5</th>\n",
       "      <th>6</th>\n",
       "      <th>7</th>\n",
       "      <th>8</th>\n",
       "      <th>9</th>\n",
       "      <th>...</th>\n",
       "      <th>15</th>\n",
       "      <th>16</th>\n",
       "      <th>17</th>\n",
       "      <th>18</th>\n",
       "      <th>19</th>\n",
       "      <th>20</th>\n",
       "      <th>21</th>\n",
       "      <th>22</th>\n",
       "      <th>23</th>\n",
       "      <th>24</th>\n",
       "    </tr>\n",
       "  </thead>\n",
       "  <tbody>\n",
       "    <tr>\n",
       "      <th>0</th>\n",
       "      <td>A  hindrance to operations   extracts from the...</td>\n",
       "      <td>Scorecard</td>\n",
       "      <td>Hughes  instant hit buoys Blues</td>\n",
       "      <td>Jack gets his skates on at ice cold Alex</td>\n",
       "      <td>Chaos as Maracana builds up for United</td>\n",
       "      <td>Depleted Leicester prevail as Elliott spoils E...</td>\n",
       "      <td>Hungry Spurs sense rich pickings</td>\n",
       "      <td>Gunners so wide of an easy target</td>\n",
       "      <td>Derby raise a glass to Strupar s debut double</td>\n",
       "      <td>Southgate strikes  Leeds pay the penalty</td>\n",
       "      <td>...</td>\n",
       "      <td>Flintoff injury piles on woe for England</td>\n",
       "      <td>Hunters threaten Jospin with new battle of the...</td>\n",
       "      <td>Kohl s successor drawn into scandal</td>\n",
       "      <td>The difference between men and women</td>\n",
       "      <td>Sara Denver  nurse turned solicitor</td>\n",
       "      <td>Diana s landmine crusade put Tories in a panic</td>\n",
       "      <td>Yeltsin s resignation caught opposition flat f...</td>\n",
       "      <td>Russian roulette</td>\n",
       "      <td>Sold out</td>\n",
       "      <td>Recovering a title</td>\n",
       "    </tr>\n",
       "    <tr>\n",
       "      <th>1</th>\n",
       "      <td>Scorecard</td>\n",
       "      <td>The best lake scene</td>\n",
       "      <td>Leader  German sleaze inquiry</td>\n",
       "      <td>Cheerio  boyo</td>\n",
       "      <td>The main recommendations</td>\n",
       "      <td>Has Cubie killed fees</td>\n",
       "      <td>Has Cubie killed fees</td>\n",
       "      <td>Has Cubie killed fees</td>\n",
       "      <td>Hopkins  furious  at Foster s lack of Hannibal...</td>\n",
       "      <td>Has Cubie killed fees</td>\n",
       "      <td>...</td>\n",
       "      <td>On the critical list</td>\n",
       "      <td>The timing of their lives</td>\n",
       "      <td>Dear doctor</td>\n",
       "      <td>Irish court halts IRA man s extradition to Nor...</td>\n",
       "      <td>Burundi peace initiative fades after rebels re...</td>\n",
       "      <td>PE points the way forward to the ECB</td>\n",
       "      <td>Campaigners keep up pressure on Nazi war crime...</td>\n",
       "      <td>Jane Ratcliffe</td>\n",
       "      <td>Yet more things you wouldn t know without the ...</td>\n",
       "      <td>Millennium bug fails to bite</td>\n",
       "    </tr>\n",
       "    <tr>\n",
       "      <th>2</th>\n",
       "      <td>Coventry caught on counter by Flo</td>\n",
       "      <td>United s rivals on the road to Rio</td>\n",
       "      <td>Thatcher issues defence before trial by video</td>\n",
       "      <td>Police help Smith lay down the law at Everton</td>\n",
       "      <td>Tale of Trautmann bears two more retellings</td>\n",
       "      <td>England on the rack</td>\n",
       "      <td>Pakistan retaliate with call for video of Walsh</td>\n",
       "      <td>Cullinan continues his Cape monopoly</td>\n",
       "      <td>McGrath puts India out of their misery</td>\n",
       "      <td>Blair Witch bandwagon rolls on</td>\n",
       "      <td>...</td>\n",
       "      <td>South Melbourne  Australia</td>\n",
       "      <td>Necaxa  Mexico</td>\n",
       "      <td>Real Madrid  Spain</td>\n",
       "      <td>Raja Casablanca  Morocco</td>\n",
       "      <td>Corinthians  Brazil</td>\n",
       "      <td>Tony s pet project</td>\n",
       "      <td>Al Nassr  Saudi Arabia</td>\n",
       "      <td>Ideal Holmes show</td>\n",
       "      <td>Pinochet leaves hospital after tests</td>\n",
       "      <td>Useful links</td>\n",
       "    </tr>\n",
       "    <tr>\n",
       "      <th>3</th>\n",
       "      <td>Pilgrim knows how to progress</td>\n",
       "      <td>Thatcher facing ban</td>\n",
       "      <td>McIlroy calls for Irish fighting spirit</td>\n",
       "      <td>Leicester bin stadium blueprint</td>\n",
       "      <td>United braced for Mexican wave</td>\n",
       "      <td>Auntie back in fashion  even if the dress look...</td>\n",
       "      <td>Shoaib appeal goes to the top</td>\n",
       "      <td>Hussain hurt by  shambles  but lays blame on e...</td>\n",
       "      <td>England s decade of disasters</td>\n",
       "      <td>Revenge is sweet for jubilant Cronje</td>\n",
       "      <td>...</td>\n",
       "      <td>Putin admits Yeltsin quit to give him a head s...</td>\n",
       "      <td>BBC worst hit as digital TV begins to bite</td>\n",
       "      <td>How much can you pay for</td>\n",
       "      <td>Christmas glitches</td>\n",
       "      <td>Upending a table  Chopping a line and Scoring ...</td>\n",
       "      <td>Scientific evidence  unreliable   defence claims</td>\n",
       "      <td>Fusco wins judicial review in extradition case</td>\n",
       "      <td>Rebels thwart Russian advance</td>\n",
       "      <td>Blair orders shake up of failing NHS</td>\n",
       "      <td>Lessons of law s hard heart</td>\n",
       "    </tr>\n",
       "    <tr>\n",
       "      <th>4</th>\n",
       "      <td>Hitches and Horlocks</td>\n",
       "      <td>Beckham off but United survive</td>\n",
       "      <td>Breast cancer screening</td>\n",
       "      <td>Alan Parker</td>\n",
       "      <td>Guardian readers  are you all whingers</td>\n",
       "      <td>Hollywood Beyond</td>\n",
       "      <td>Ashes and diamonds</td>\n",
       "      <td>Whingers   a formidable minority</td>\n",
       "      <td>Alan Parker   part two</td>\n",
       "      <td>Thuggery  Toxins and Ties</td>\n",
       "      <td>...</td>\n",
       "      <td>Most everywhere   UDIs</td>\n",
       "      <td>Most wanted   Chloe lunettes</td>\n",
       "      <td>Return of the cane  completely off the agenda</td>\n",
       "      <td>From Sleepy Hollow to Greeneland</td>\n",
       "      <td>Blunkett outlines vision for over   s</td>\n",
       "      <td>Embattled Dobson attacks  play now  pay later ...</td>\n",
       "      <td>Doom and the Dome</td>\n",
       "      <td>What is the north south divide</td>\n",
       "      <td>Aitken released from jail</td>\n",
       "      <td>Gone aloft</td>\n",
       "    </tr>\n",
       "  </tbody>\n",
       "</table>\n",
       "<p>5 rows × 25 columns</p>\n",
       "</div>"
      ],
      "text/plain": [
       "                                                   0  \\\n",
       "0  A  hindrance to operations   extracts from the...   \n",
       "1                                          Scorecard   \n",
       "2                  Coventry caught on counter by Flo   \n",
       "3                      Pilgrim knows how to progress   \n",
       "4                               Hitches and Horlocks   \n",
       "\n",
       "                                    1  \\\n",
       "0                           Scorecard   \n",
       "1                 The best lake scene   \n",
       "2  United s rivals on the road to Rio   \n",
       "3                 Thatcher facing ban   \n",
       "4      Beckham off but United survive   \n",
       "\n",
       "                                               2  \\\n",
       "0                Hughes  instant hit buoys Blues   \n",
       "1                  Leader  German sleaze inquiry   \n",
       "2  Thatcher issues defence before trial by video   \n",
       "3        McIlroy calls for Irish fighting spirit   \n",
       "4                        Breast cancer screening   \n",
       "\n",
       "                                               3  \\\n",
       "0       Jack gets his skates on at ice cold Alex   \n",
       "1                                  Cheerio  boyo   \n",
       "2  Police help Smith lay down the law at Everton   \n",
       "3                Leicester bin stadium blueprint   \n",
       "4                                    Alan Parker   \n",
       "\n",
       "                                             4  \\\n",
       "0       Chaos as Maracana builds up for United   \n",
       "1                     The main recommendations   \n",
       "2  Tale of Trautmann bears two more retellings   \n",
       "3               United braced for Mexican wave   \n",
       "4      Guardian readers  are you all whingers    \n",
       "\n",
       "                                                   5  \\\n",
       "0  Depleted Leicester prevail as Elliott spoils E...   \n",
       "1                             Has Cubie killed fees    \n",
       "2                                England on the rack   \n",
       "3  Auntie back in fashion  even if the dress look...   \n",
       "4                                   Hollywood Beyond   \n",
       "\n",
       "                                                 6  \\\n",
       "0                 Hungry Spurs sense rich pickings   \n",
       "1                           Has Cubie killed fees    \n",
       "2  Pakistan retaliate with call for video of Walsh   \n",
       "3                    Shoaib appeal goes to the top   \n",
       "4                               Ashes and diamonds   \n",
       "\n",
       "                                                   7  \\\n",
       "0                  Gunners so wide of an easy target   \n",
       "1                             Has Cubie killed fees    \n",
       "2               Cullinan continues his Cape monopoly   \n",
       "3  Hussain hurt by  shambles  but lays blame on e...   \n",
       "4                   Whingers   a formidable minority   \n",
       "\n",
       "                                                   8  \\\n",
       "0      Derby raise a glass to Strupar s debut double   \n",
       "1  Hopkins  furious  at Foster s lack of Hannibal...   \n",
       "2             McGrath puts India out of their misery   \n",
       "3                      England s decade of disasters   \n",
       "4                             Alan Parker   part two   \n",
       "\n",
       "                                          9  ...  \\\n",
       "0  Southgate strikes  Leeds pay the penalty  ...   \n",
       "1                    Has Cubie killed fees   ...   \n",
       "2            Blair Witch bandwagon rolls on  ...   \n",
       "3      Revenge is sweet for jubilant Cronje  ...   \n",
       "4                 Thuggery  Toxins and Ties  ...   \n",
       "\n",
       "                                                  15  \\\n",
       "0           Flintoff injury piles on woe for England   \n",
       "1                               On the critical list   \n",
       "2                        South Melbourne  Australia    \n",
       "3  Putin admits Yeltsin quit to give him a head s...   \n",
       "4                             Most everywhere   UDIs   \n",
       "\n",
       "                                                  16  \\\n",
       "0  Hunters threaten Jospin with new battle of the...   \n",
       "1                          The timing of their lives   \n",
       "2                                    Necaxa  Mexico    \n",
       "3         BBC worst hit as digital TV begins to bite   \n",
       "4                       Most wanted   Chloe lunettes   \n",
       "\n",
       "                                               17  \\\n",
       "0             Kohl s successor drawn into scandal   \n",
       "1                                     Dear doctor   \n",
       "2                             Real Madrid  Spain    \n",
       "3                     How much can you pay for      \n",
       "4  Return of the cane  completely off the agenda    \n",
       "\n",
       "                                                  18  \\\n",
       "0               The difference between men and women   \n",
       "1  Irish court halts IRA man s extradition to Nor...   \n",
       "2                          Raja Casablanca  Morocco    \n",
       "3                                 Christmas glitches   \n",
       "4                   From Sleepy Hollow to Greeneland   \n",
       "\n",
       "                                                  19  \\\n",
       "0                Sara Denver  nurse turned solicitor   \n",
       "1  Burundi peace initiative fades after rebels re...   \n",
       "2                               Corinthians  Brazil    \n",
       "3  Upending a table  Chopping a line and Scoring ...   \n",
       "4              Blunkett outlines vision for over   s   \n",
       "\n",
       "                                                  20  \\\n",
       "0     Diana s landmine crusade put Tories in a panic   \n",
       "1               PE points the way forward to the ECB   \n",
       "2                                 Tony s pet project   \n",
       "3   Scientific evidence  unreliable   defence claims   \n",
       "4  Embattled Dobson attacks  play now  pay later ...   \n",
       "\n",
       "                                                  21  \\\n",
       "0  Yeltsin s resignation caught opposition flat f...   \n",
       "1  Campaigners keep up pressure on Nazi war crime...   \n",
       "2                            Al Nassr  Saudi Arabia    \n",
       "3     Fusco wins judicial review in extradition case   \n",
       "4                                  Doom and the Dome   \n",
       "\n",
       "                                22  \\\n",
       "0                 Russian roulette   \n",
       "1                   Jane Ratcliffe   \n",
       "2                Ideal Holmes show   \n",
       "3    Rebels thwart Russian advance   \n",
       "4  What is the north south divide    \n",
       "\n",
       "                                                  23  \\\n",
       "0                                           Sold out   \n",
       "1  Yet more things you wouldn t know without the ...   \n",
       "2               Pinochet leaves hospital after tests   \n",
       "3               Blair orders shake up of failing NHS   \n",
       "4                          Aitken released from jail   \n",
       "\n",
       "                             24  \n",
       "0            Recovering a title  \n",
       "1  Millennium bug fails to bite  \n",
       "2                  Useful links  \n",
       "3   Lessons of law s hard heart  \n",
       "4                    Gone aloft  \n",
       "\n",
       "[5 rows x 25 columns]"
      ]
     },
     "execution_count": 10,
     "metadata": {},
     "output_type": "execute_result"
    }
   ],
   "source": [
    "##Removing column names for easy of access\n",
    "l1=[i for i in range(25)]\n",
    "new_index=[str(i) for i in l1]\n",
    "data.columns=new_index\n",
    "data.head()"
   ]
  },
  {
   "cell_type": "code",
   "execution_count": 11,
   "id": "92ce36ae",
   "metadata": {
    "execution": {
     "iopub.execute_input": "2023-07-28T13:05:39.672929Z",
     "iopub.status.busy": "2023-07-28T13:05:39.672313Z",
     "iopub.status.idle": "2023-07-28T13:05:39.761534Z",
     "shell.execute_reply": "2023-07-28T13:05:39.760687Z"
    },
    "papermill": {
     "duration": 0.102842,
     "end_time": "2023-07-28T13:05:39.763744",
     "exception": false,
     "start_time": "2023-07-28T13:05:39.660902",
     "status": "completed"
    },
    "tags": []
   },
   "outputs": [
    {
     "data": {
      "text/html": [
       "<div>\n",
       "<style scoped>\n",
       "    .dataframe tbody tr th:only-of-type {\n",
       "        vertical-align: middle;\n",
       "    }\n",
       "\n",
       "    .dataframe tbody tr th {\n",
       "        vertical-align: top;\n",
       "    }\n",
       "\n",
       "    .dataframe thead th {\n",
       "        text-align: right;\n",
       "    }\n",
       "</style>\n",
       "<table border=\"1\" class=\"dataframe\">\n",
       "  <thead>\n",
       "    <tr style=\"text-align: right;\">\n",
       "      <th></th>\n",
       "      <th>0</th>\n",
       "      <th>1</th>\n",
       "      <th>2</th>\n",
       "      <th>3</th>\n",
       "      <th>4</th>\n",
       "      <th>5</th>\n",
       "      <th>6</th>\n",
       "      <th>7</th>\n",
       "      <th>8</th>\n",
       "      <th>9</th>\n",
       "      <th>...</th>\n",
       "      <th>15</th>\n",
       "      <th>16</th>\n",
       "      <th>17</th>\n",
       "      <th>18</th>\n",
       "      <th>19</th>\n",
       "      <th>20</th>\n",
       "      <th>21</th>\n",
       "      <th>22</th>\n",
       "      <th>23</th>\n",
       "      <th>24</th>\n",
       "    </tr>\n",
       "  </thead>\n",
       "  <tbody>\n",
       "    <tr>\n",
       "      <th>0</th>\n",
       "      <td>a  hindrance to operations   extracts from the...</td>\n",
       "      <td>scorecard</td>\n",
       "      <td>hughes  instant hit buoys blues</td>\n",
       "      <td>jack gets his skates on at ice cold alex</td>\n",
       "      <td>chaos as maracana builds up for united</td>\n",
       "      <td>depleted leicester prevail as elliott spoils e...</td>\n",
       "      <td>hungry spurs sense rich pickings</td>\n",
       "      <td>gunners so wide of an easy target</td>\n",
       "      <td>derby raise a glass to strupar s debut double</td>\n",
       "      <td>southgate strikes  leeds pay the penalty</td>\n",
       "      <td>...</td>\n",
       "      <td>flintoff injury piles on woe for england</td>\n",
       "      <td>hunters threaten jospin with new battle of the...</td>\n",
       "      <td>kohl s successor drawn into scandal</td>\n",
       "      <td>the difference between men and women</td>\n",
       "      <td>sara denver  nurse turned solicitor</td>\n",
       "      <td>diana s landmine crusade put tories in a panic</td>\n",
       "      <td>yeltsin s resignation caught opposition flat f...</td>\n",
       "      <td>russian roulette</td>\n",
       "      <td>sold out</td>\n",
       "      <td>recovering a title</td>\n",
       "    </tr>\n",
       "    <tr>\n",
       "      <th>1</th>\n",
       "      <td>scorecard</td>\n",
       "      <td>the best lake scene</td>\n",
       "      <td>leader  german sleaze inquiry</td>\n",
       "      <td>cheerio  boyo</td>\n",
       "      <td>the main recommendations</td>\n",
       "      <td>has cubie killed fees</td>\n",
       "      <td>has cubie killed fees</td>\n",
       "      <td>has cubie killed fees</td>\n",
       "      <td>hopkins  furious  at foster s lack of hannibal...</td>\n",
       "      <td>has cubie killed fees</td>\n",
       "      <td>...</td>\n",
       "      <td>on the critical list</td>\n",
       "      <td>the timing of their lives</td>\n",
       "      <td>dear doctor</td>\n",
       "      <td>irish court halts ira man s extradition to nor...</td>\n",
       "      <td>burundi peace initiative fades after rebels re...</td>\n",
       "      <td>pe points the way forward to the ecb</td>\n",
       "      <td>campaigners keep up pressure on nazi war crime...</td>\n",
       "      <td>jane ratcliffe</td>\n",
       "      <td>yet more things you wouldn t know without the ...</td>\n",
       "      <td>millennium bug fails to bite</td>\n",
       "    </tr>\n",
       "    <tr>\n",
       "      <th>2</th>\n",
       "      <td>coventry caught on counter by flo</td>\n",
       "      <td>united s rivals on the road to rio</td>\n",
       "      <td>thatcher issues defence before trial by video</td>\n",
       "      <td>police help smith lay down the law at everton</td>\n",
       "      <td>tale of trautmann bears two more retellings</td>\n",
       "      <td>england on the rack</td>\n",
       "      <td>pakistan retaliate with call for video of walsh</td>\n",
       "      <td>cullinan continues his cape monopoly</td>\n",
       "      <td>mcgrath puts india out of their misery</td>\n",
       "      <td>blair witch bandwagon rolls on</td>\n",
       "      <td>...</td>\n",
       "      <td>south melbourne  australia</td>\n",
       "      <td>necaxa  mexico</td>\n",
       "      <td>real madrid  spain</td>\n",
       "      <td>raja casablanca  morocco</td>\n",
       "      <td>corinthians  brazil</td>\n",
       "      <td>tony s pet project</td>\n",
       "      <td>al nassr  saudi arabia</td>\n",
       "      <td>ideal holmes show</td>\n",
       "      <td>pinochet leaves hospital after tests</td>\n",
       "      <td>useful links</td>\n",
       "    </tr>\n",
       "  </tbody>\n",
       "</table>\n",
       "<p>3 rows × 25 columns</p>\n",
       "</div>"
      ],
      "text/plain": [
       "                                                   0  \\\n",
       "0  a  hindrance to operations   extracts from the...   \n",
       "1                                          scorecard   \n",
       "2                  coventry caught on counter by flo   \n",
       "\n",
       "                                    1  \\\n",
       "0                           scorecard   \n",
       "1                 the best lake scene   \n",
       "2  united s rivals on the road to rio   \n",
       "\n",
       "                                               2  \\\n",
       "0                hughes  instant hit buoys blues   \n",
       "1                  leader  german sleaze inquiry   \n",
       "2  thatcher issues defence before trial by video   \n",
       "\n",
       "                                               3  \\\n",
       "0       jack gets his skates on at ice cold alex   \n",
       "1                                  cheerio  boyo   \n",
       "2  police help smith lay down the law at everton   \n",
       "\n",
       "                                             4  \\\n",
       "0       chaos as maracana builds up for united   \n",
       "1                     the main recommendations   \n",
       "2  tale of trautmann bears two more retellings   \n",
       "\n",
       "                                                   5  \\\n",
       "0  depleted leicester prevail as elliott spoils e...   \n",
       "1                             has cubie killed fees    \n",
       "2                                england on the rack   \n",
       "\n",
       "                                                 6  \\\n",
       "0                 hungry spurs sense rich pickings   \n",
       "1                           has cubie killed fees    \n",
       "2  pakistan retaliate with call for video of walsh   \n",
       "\n",
       "                                      7  \\\n",
       "0     gunners so wide of an easy target   \n",
       "1                has cubie killed fees    \n",
       "2  cullinan continues his cape monopoly   \n",
       "\n",
       "                                                   8  \\\n",
       "0      derby raise a glass to strupar s debut double   \n",
       "1  hopkins  furious  at foster s lack of hannibal...   \n",
       "2             mcgrath puts india out of their misery   \n",
       "\n",
       "                                          9  ...  \\\n",
       "0  southgate strikes  leeds pay the penalty  ...   \n",
       "1                    has cubie killed fees   ...   \n",
       "2            blair witch bandwagon rolls on  ...   \n",
       "\n",
       "                                         15  \\\n",
       "0  flintoff injury piles on woe for england   \n",
       "1                      on the critical list   \n",
       "2               south melbourne  australia    \n",
       "\n",
       "                                                  16  \\\n",
       "0  hunters threaten jospin with new battle of the...   \n",
       "1                          the timing of their lives   \n",
       "2                                    necaxa  mexico    \n",
       "\n",
       "                                    17  \\\n",
       "0  kohl s successor drawn into scandal   \n",
       "1                          dear doctor   \n",
       "2                  real madrid  spain    \n",
       "\n",
       "                                                  18  \\\n",
       "0               the difference between men and women   \n",
       "1  irish court halts ira man s extradition to nor...   \n",
       "2                          raja casablanca  morocco    \n",
       "\n",
       "                                                  19  \\\n",
       "0                sara denver  nurse turned solicitor   \n",
       "1  burundi peace initiative fades after rebels re...   \n",
       "2                               corinthians  brazil    \n",
       "\n",
       "                                               20  \\\n",
       "0  diana s landmine crusade put tories in a panic   \n",
       "1            pe points the way forward to the ecb   \n",
       "2                              tony s pet project   \n",
       "\n",
       "                                                  21                 22  \\\n",
       "0  yeltsin s resignation caught opposition flat f...   russian roulette   \n",
       "1  campaigners keep up pressure on nazi war crime...     jane ratcliffe   \n",
       "2                            al nassr  saudi arabia   ideal holmes show   \n",
       "\n",
       "                                                  23  \\\n",
       "0                                           sold out   \n",
       "1  yet more things you wouldn t know without the ...   \n",
       "2               pinochet leaves hospital after tests   \n",
       "\n",
       "                             24  \n",
       "0            recovering a title  \n",
       "1  millennium bug fails to bite  \n",
       "2                  useful links  \n",
       "\n",
       "[3 rows x 25 columns]"
      ]
     },
     "execution_count": 11,
     "metadata": {},
     "output_type": "execute_result"
    }
   ],
   "source": [
    "for index in new_index:\n",
    "    data[index]=data[index].str.lower()\n",
    "data.head(3)"
   ]
  },
  {
   "cell_type": "code",
   "execution_count": 12,
   "id": "25a9b6af",
   "metadata": {
    "execution": {
     "iopub.execute_input": "2023-07-28T13:05:39.787999Z",
     "iopub.status.busy": "2023-07-28T13:05:39.787612Z",
     "iopub.status.idle": "2023-07-28T13:05:39.793936Z",
     "shell.execute_reply": "2023-07-28T13:05:39.793185Z"
    },
    "papermill": {
     "duration": 0.021074,
     "end_time": "2023-07-28T13:05:39.796158",
     "exception": false,
     "start_time": "2023-07-28T13:05:39.775084",
     "status": "completed"
    },
    "tags": []
   },
   "outputs": [
    {
     "data": {
      "text/plain": [
       "'scorecard the best lake scene leader  german sleaze inquiry cheerio  boyo the main recommendations has cubie killed fees  has cubie killed fees  has cubie killed fees  hopkins  furious  at foster s lack of hannibal appetite has cubie killed fees  a tale of two tails i say what i like and i like what i say elbows  eyes and nipples task force to assess risk of asteroid collision how i found myself at last on the critical list the timing of their lives dear doctor irish court halts ira man s extradition to northern ireland burundi peace initiative fades after rebels reject mandela as mediator pe points the way forward to the ecb campaigners keep up pressure on nazi war crimes suspect jane ratcliffe yet more things you wouldn t know without the movies millennium bug fails to bite'"
      ]
     },
     "execution_count": 12,
     "metadata": {},
     "output_type": "execute_result"
    }
   ],
   "source": [
    "' '.join(str(x) for x in data.iloc[1,0:25])"
   ]
  },
  {
   "cell_type": "code",
   "execution_count": 13,
   "id": "3ca66e2a",
   "metadata": {
    "execution": {
     "iopub.execute_input": "2023-07-28T13:05:39.820457Z",
     "iopub.status.busy": "2023-07-28T13:05:39.819730Z",
     "iopub.status.idle": "2023-07-28T13:05:40.572445Z",
     "shell.execute_reply": "2023-07-28T13:05:40.571289Z"
    },
    "papermill": {
     "duration": 0.768058,
     "end_time": "2023-07-28T13:05:40.575352",
     "exception": false,
     "start_time": "2023-07-28T13:05:39.807294",
     "status": "completed"
    },
    "tags": []
   },
   "outputs": [],
   "source": [
    "headline=[]\n",
    "for row in range(0,len(data.index)):\n",
    "    headline.append(' '.join(str(x) for x in data.iloc[row,0:25]))"
   ]
  },
  {
   "cell_type": "code",
   "execution_count": 14,
   "id": "59456572",
   "metadata": {
    "execution": {
     "iopub.execute_input": "2023-07-28T13:05:40.600001Z",
     "iopub.status.busy": "2023-07-28T13:05:40.599594Z",
     "iopub.status.idle": "2023-07-28T13:05:40.605915Z",
     "shell.execute_reply": "2023-07-28T13:05:40.604718Z"
    },
    "papermill": {
     "duration": 0.021695,
     "end_time": "2023-07-28T13:05:40.608460",
     "exception": false,
     "start_time": "2023-07-28T13:05:40.586765",
     "status": "completed"
    },
    "tags": []
   },
   "outputs": [
    {
     "data": {
      "text/plain": [
       "'a  hindrance to operations   extracts from the leaked reports scorecard hughes  instant hit buoys blues jack gets his skates on at ice cold alex chaos as maracana builds up for united depleted leicester prevail as elliott spoils everton s party hungry spurs sense rich pickings gunners so wide of an easy target derby raise a glass to strupar s debut double southgate strikes  leeds pay the penalty hammers hand robson a youthful lesson saints party like it s      wear wolves have turned into lambs stump mike catches testy gough s taunt langer escapes to hit     flintoff injury piles on woe for england hunters threaten jospin with new battle of the somme kohl s successor drawn into scandal the difference between men and women sara denver  nurse turned solicitor diana s landmine crusade put tories in a panic yeltsin s resignation caught opposition flat footed russian roulette sold out recovering a title'"
      ]
     },
     "execution_count": 14,
     "metadata": {},
     "output_type": "execute_result"
    }
   ],
   "source": [
    "headline[0]"
   ]
  },
  {
   "cell_type": "code",
   "execution_count": 15,
   "id": "75d5af73",
   "metadata": {
    "execution": {
     "iopub.execute_input": "2023-07-28T13:05:40.633483Z",
     "iopub.status.busy": "2023-07-28T13:05:40.633109Z",
     "iopub.status.idle": "2023-07-28T13:05:42.210246Z",
     "shell.execute_reply": "2023-07-28T13:05:42.209278Z"
    },
    "papermill": {
     "duration": 1.592556,
     "end_time": "2023-07-28T13:05:42.212768",
     "exception": false,
     "start_time": "2023-07-28T13:05:40.620212",
     "status": "completed"
    },
    "tags": []
   },
   "outputs": [
    {
     "name": "stderr",
     "output_type": "stream",
     "text": [
      "/opt/conda/lib/python3.10/site-packages/scipy/__init__.py:146: UserWarning: A NumPy version >=1.16.5 and <1.23.0 is required for this version of SciPy (detected version 1.23.5\n",
      "  warnings.warn(f\"A NumPy version >={np_minversion} and <{np_maxversion}\"\n"
     ]
    }
   ],
   "source": [
    "from sklearn.feature_extraction.text import CountVectorizer\n",
    "from sklearn.ensemble import RandomForestClassifier\n",
    "from sklearn.metrics import accuracy_score,ConfusionMatrixDisplay,confusion_matrix,classification_report,RocCurveDisplay,roc_auc_score,roc_curve\n",
    "import matplotlib.pyplot as plt"
   ]
  },
  {
   "cell_type": "code",
   "execution_count": 16,
   "id": "328160b7",
   "metadata": {
    "execution": {
     "iopub.execute_input": "2023-07-28T13:05:42.246379Z",
     "iopub.status.busy": "2023-07-28T13:05:42.245275Z",
     "iopub.status.idle": "2023-07-28T13:05:46.844595Z",
     "shell.execute_reply": "2023-07-28T13:05:46.843217Z"
    },
    "papermill": {
     "duration": 4.616966,
     "end_time": "2023-07-28T13:05:46.847505",
     "exception": false,
     "start_time": "2023-07-28T13:05:42.230539",
     "status": "completed"
    },
    "tags": []
   },
   "outputs": [],
   "source": [
    "## Implement BAG OF WORDS\n",
    "cv=CountVectorizer(ngram_range=(2,2))\n",
    "traindataset=cv.fit_transform(headline)"
   ]
  },
  {
   "cell_type": "code",
   "execution_count": 17,
   "id": "418cde15",
   "metadata": {
    "execution": {
     "iopub.execute_input": "2023-07-28T13:05:46.872239Z",
     "iopub.status.busy": "2023-07-28T13:05:46.871851Z",
     "iopub.status.idle": "2023-07-28T13:07:03.186995Z",
     "shell.execute_reply": "2023-07-28T13:07:03.185587Z"
    },
    "papermill": {
     "duration": 76.341354,
     "end_time": "2023-07-28T13:07:03.200588",
     "exception": false,
     "start_time": "2023-07-28T13:05:46.859234",
     "status": "completed"
    },
    "tags": []
   },
   "outputs": [
    {
     "data": {
      "text/html": [
       "<style>#sk-container-id-1 {color: black;background-color: white;}#sk-container-id-1 pre{padding: 0;}#sk-container-id-1 div.sk-toggleable {background-color: white;}#sk-container-id-1 label.sk-toggleable__label {cursor: pointer;display: block;width: 100%;margin-bottom: 0;padding: 0.3em;box-sizing: border-box;text-align: center;}#sk-container-id-1 label.sk-toggleable__label-arrow:before {content: \"▸\";float: left;margin-right: 0.25em;color: #696969;}#sk-container-id-1 label.sk-toggleable__label-arrow:hover:before {color: black;}#sk-container-id-1 div.sk-estimator:hover label.sk-toggleable__label-arrow:before {color: black;}#sk-container-id-1 div.sk-toggleable__content {max-height: 0;max-width: 0;overflow: hidden;text-align: left;background-color: #f0f8ff;}#sk-container-id-1 div.sk-toggleable__content pre {margin: 0.2em;color: black;border-radius: 0.25em;background-color: #f0f8ff;}#sk-container-id-1 input.sk-toggleable__control:checked~div.sk-toggleable__content {max-height: 200px;max-width: 100%;overflow: auto;}#sk-container-id-1 input.sk-toggleable__control:checked~label.sk-toggleable__label-arrow:before {content: \"▾\";}#sk-container-id-1 div.sk-estimator input.sk-toggleable__control:checked~label.sk-toggleable__label {background-color: #d4ebff;}#sk-container-id-1 div.sk-label input.sk-toggleable__control:checked~label.sk-toggleable__label {background-color: #d4ebff;}#sk-container-id-1 input.sk-hidden--visually {border: 0;clip: rect(1px 1px 1px 1px);clip: rect(1px, 1px, 1px, 1px);height: 1px;margin: -1px;overflow: hidden;padding: 0;position: absolute;width: 1px;}#sk-container-id-1 div.sk-estimator {font-family: monospace;background-color: #f0f8ff;border: 1px dotted black;border-radius: 0.25em;box-sizing: border-box;margin-bottom: 0.5em;}#sk-container-id-1 div.sk-estimator:hover {background-color: #d4ebff;}#sk-container-id-1 div.sk-parallel-item::after {content: \"\";width: 100%;border-bottom: 1px solid gray;flex-grow: 1;}#sk-container-id-1 div.sk-label:hover label.sk-toggleable__label {background-color: #d4ebff;}#sk-container-id-1 div.sk-serial::before {content: \"\";position: absolute;border-left: 1px solid gray;box-sizing: border-box;top: 0;bottom: 0;left: 50%;z-index: 0;}#sk-container-id-1 div.sk-serial {display: flex;flex-direction: column;align-items: center;background-color: white;padding-right: 0.2em;padding-left: 0.2em;position: relative;}#sk-container-id-1 div.sk-item {position: relative;z-index: 1;}#sk-container-id-1 div.sk-parallel {display: flex;align-items: stretch;justify-content: center;background-color: white;position: relative;}#sk-container-id-1 div.sk-item::before, #sk-container-id-1 div.sk-parallel-item::before {content: \"\";position: absolute;border-left: 1px solid gray;box-sizing: border-box;top: 0;bottom: 0;left: 50%;z-index: -1;}#sk-container-id-1 div.sk-parallel-item {display: flex;flex-direction: column;z-index: 1;position: relative;background-color: white;}#sk-container-id-1 div.sk-parallel-item:first-child::after {align-self: flex-end;width: 50%;}#sk-container-id-1 div.sk-parallel-item:last-child::after {align-self: flex-start;width: 50%;}#sk-container-id-1 div.sk-parallel-item:only-child::after {width: 0;}#sk-container-id-1 div.sk-dashed-wrapped {border: 1px dashed gray;margin: 0 0.4em 0.5em 0.4em;box-sizing: border-box;padding-bottom: 0.4em;background-color: white;}#sk-container-id-1 div.sk-label label {font-family: monospace;font-weight: bold;display: inline-block;line-height: 1.2em;}#sk-container-id-1 div.sk-label-container {text-align: center;}#sk-container-id-1 div.sk-container {/* jupyter's `normalize.less` sets `[hidden] { display: none; }` but bootstrap.min.css set `[hidden] { display: none !important; }` so we also need the `!important` here to be able to override the default hidden behavior on the sphinx rendered scikit-learn.org. See: https://github.com/scikit-learn/scikit-learn/issues/21755 */display: inline-block !important;position: relative;}#sk-container-id-1 div.sk-text-repr-fallback {display: none;}</style><div id=\"sk-container-id-1\" class=\"sk-top-container\"><div class=\"sk-text-repr-fallback\"><pre>RandomForestClassifier(criterion=&#x27;entropy&#x27;, n_estimators=200)</pre><b>In a Jupyter environment, please rerun this cell to show the HTML representation or trust the notebook. <br />On GitHub, the HTML representation is unable to render, please try loading this page with nbviewer.org.</b></div><div class=\"sk-container\" hidden><div class=\"sk-item\"><div class=\"sk-estimator sk-toggleable\"><input class=\"sk-toggleable__control sk-hidden--visually\" id=\"sk-estimator-id-1\" type=\"checkbox\" checked><label for=\"sk-estimator-id-1\" class=\"sk-toggleable__label sk-toggleable__label-arrow\">RandomForestClassifier</label><div class=\"sk-toggleable__content\"><pre>RandomForestClassifier(criterion=&#x27;entropy&#x27;, n_estimators=200)</pre></div></div></div></div></div>"
      ],
      "text/plain": [
       "RandomForestClassifier(criterion='entropy', n_estimators=200)"
      ]
     },
     "execution_count": 17,
     "metadata": {},
     "output_type": "execute_result"
    }
   ],
   "source": [
    "## Implement RandomForest Classifier\n",
    "rfc=RandomForestClassifier(n_estimators=200,criterion='entropy')\n",
    "rfc.fit(traindataset,train['Label'])"
   ]
  },
  {
   "cell_type": "code",
   "execution_count": 18,
   "id": "33eb769c",
   "metadata": {
    "execution": {
     "iopub.execute_input": "2023-07-28T13:07:03.229103Z",
     "iopub.status.busy": "2023-07-28T13:07:03.228624Z",
     "iopub.status.idle": "2023-07-28T13:07:03.673931Z",
     "shell.execute_reply": "2023-07-28T13:07:03.672688Z"
    },
    "papermill": {
     "duration": 0.462521,
     "end_time": "2023-07-28T13:07:03.676658",
     "exception": false,
     "start_time": "2023-07-28T13:07:03.214137",
     "status": "completed"
    },
    "tags": []
   },
   "outputs": [],
   "source": [
    "test_transform=[]\n",
    "for row in range(0, len(test.index)):\n",
    "    test_transform.append(' '.join(str(x) for x in test.iloc[row,2:27]))\n",
    "test_dataset=cv.transform(test_transform)"
   ]
  },
  {
   "cell_type": "code",
   "execution_count": 19,
   "id": "29fe7096",
   "metadata": {
    "execution": {
     "iopub.execute_input": "2023-07-28T13:07:03.704408Z",
     "iopub.status.busy": "2023-07-28T13:07:03.703988Z",
     "iopub.status.idle": "2023-07-28T13:07:04.430573Z",
     "shell.execute_reply": "2023-07-28T13:07:04.429116Z"
    },
    "papermill": {
     "duration": 0.743495,
     "end_time": "2023-07-28T13:07:04.433604",
     "exception": false,
     "start_time": "2023-07-28T13:07:03.690109",
     "status": "completed"
    },
    "tags": []
   },
   "outputs": [],
   "source": [
    "predict=rfc.predict(test_dataset)"
   ]
  },
  {
   "cell_type": "code",
   "execution_count": 20,
   "id": "c5c5b11e",
   "metadata": {
    "execution": {
     "iopub.execute_input": "2023-07-28T13:07:04.461076Z",
     "iopub.status.busy": "2023-07-28T13:07:04.460600Z",
     "iopub.status.idle": "2023-07-28T13:07:04.470337Z",
     "shell.execute_reply": "2023-07-28T13:07:04.468818Z"
    },
    "papermill": {
     "duration": 0.026853,
     "end_time": "2023-07-28T13:07:04.473055",
     "exception": false,
     "start_time": "2023-07-28T13:07:04.446202",
     "status": "completed"
    },
    "tags": []
   },
   "outputs": [
    {
     "name": "stdout",
     "output_type": "stream",
     "text": [
      "Score on test dataset:-  0.8544973544973545\n"
     ]
    }
   ],
   "source": [
    "score_t=accuracy_score(test['Label'],predict)\n",
    "print(\"Score on test dataset:- \",score_t)"
   ]
  },
  {
   "cell_type": "code",
   "execution_count": 21,
   "id": "043cb581",
   "metadata": {
    "execution": {
     "iopub.execute_input": "2023-07-28T13:07:04.501146Z",
     "iopub.status.busy": "2023-07-28T13:07:04.500606Z",
     "iopub.status.idle": "2023-07-28T13:07:09.892786Z",
     "shell.execute_reply": "2023-07-28T13:07:09.890559Z"
    },
    "papermill": {
     "duration": 5.409263,
     "end_time": "2023-07-28T13:07:09.895575",
     "exception": false,
     "start_time": "2023-07-28T13:07:04.486312",
     "status": "completed"
    },
    "tags": []
   },
   "outputs": [
    {
     "name": "stdout",
     "output_type": "stream",
     "text": [
      "Score on Training DataSet:-  1.0\n"
     ]
    }
   ],
   "source": [
    "score=rfc.score(traindataset,train['Label'])\n",
    "print(\"Score on Training DataSet:- \",score)"
   ]
  },
  {
   "cell_type": "code",
   "execution_count": 22,
   "id": "9b77fe05",
   "metadata": {
    "execution": {
     "iopub.execute_input": "2023-07-28T13:07:09.922085Z",
     "iopub.status.busy": "2023-07-28T13:07:09.921619Z",
     "iopub.status.idle": "2023-07-28T13:07:10.324871Z",
     "shell.execute_reply": "2023-07-28T13:07:10.323669Z"
    },
    "papermill": {
     "duration": 0.420326,
     "end_time": "2023-07-28T13:07:10.328259",
     "exception": false,
     "start_time": "2023-07-28T13:07:09.907933",
     "status": "completed"
    },
    "tags": []
   },
   "outputs": [
    {
     "data": {
      "text/plain": [
       "<sklearn.metrics._plot.confusion_matrix.ConfusionMatrixDisplay at 0x7a23ce401d80>"
      ]
     },
     "execution_count": 22,
     "metadata": {},
     "output_type": "execute_result"
    },
    {
     "data": {
      "image/png": "[encoded data removed]",
      "text/plain": [
       "<Figure size 640x480 with 2 Axes>"
      ]
     },
     "metadata": {},
     "output_type": "display_data"
    }
   ],
   "source": [
    "ConfusionMatrixDisplay(confusion_matrix(test['Label'],predict)).plot()"
   ]
  },
  {
   "cell_type": "code",
   "execution_count": 23,
   "id": "f35daca7",
   "metadata": {
    "execution": {
     "iopub.execute_input": "2023-07-28T13:07:10.356714Z",
     "iopub.status.busy": "2023-07-28T13:07:10.356241Z",
     "iopub.status.idle": "2023-07-28T13:07:10.373859Z",
     "shell.execute_reply": "2023-07-28T13:07:10.372450Z"
    },
    "papermill": {
     "duration": 0.035233,
     "end_time": "2023-07-28T13:07:10.376806",
     "exception": false,
     "start_time": "2023-07-28T13:07:10.341573",
     "status": "completed"
    },
    "tags": []
   },
   "outputs": [
    {
     "name": "stdout",
     "output_type": "stream",
     "text": [
      "              precision    recall  f1-score   support\n",
      "\n",
      "           0       0.95      0.75      0.83       186\n",
      "           1       0.80      0.96      0.87       192\n",
      "\n",
      "    accuracy                           0.85       378\n",
      "   macro avg       0.87      0.85      0.85       378\n",
      "weighted avg       0.87      0.85      0.85       378\n",
      "\n"
     ]
    }
   ],
   "source": [
    "print(classification_report(test['Label'],predict))"
   ]
  },
  {
   "cell_type": "code",
   "execution_count": 24,
   "id": "a54f1ded",
   "metadata": {
    "execution": {
     "iopub.execute_input": "2023-07-28T13:07:10.404669Z",
     "iopub.status.busy": "2023-07-28T13:07:10.404277Z",
     "iopub.status.idle": "2023-07-28T13:07:10.715313Z",
     "shell.execute_reply": "2023-07-28T13:07:10.714136Z"
    },
    "papermill": {
     "duration": 0.329001,
     "end_time": "2023-07-28T13:07:10.718918",
     "exception": false,
     "start_time": "2023-07-28T13:07:10.389917",
     "status": "completed"
    },
    "tags": []
   },
   "outputs": [
    {
     "data": {
      "image/png": "[encoded data removed]",
      "text/plain": [
       "<Figure size 640x480 with 1 Axes>"
      ]
     },
     "metadata": {},
     "output_type": "display_data"
    }
   ],
   "source": [
    "roc_auc = roc_auc_score(test['Label'], predict)\n",
    "fpr, tpr, _ = roc_curve(test['Label'], predict)\n",
    "roc_display = RocCurveDisplay(fpr=fpr, tpr=tpr)\n",
    "roc_display.plot()\n",
    "plt.title('ROC Curve')\n",
    "plt.show()"
   ]
  },
  {
   "cell_type": "code",
   "execution_count": null,
   "id": "3cccb7c9",
   "metadata": {
    "papermill": {
     "duration": 0.013368,
     "end_time": "2023-07-28T13:07:10.746630",
     "exception": false,
     "start_time": "2023-07-28T13:07:10.733262",
     "status": "completed"
    },
    "tags": []
   },
   "outputs": [],
   "source": []
  }
 ],
 "metadata": {
  "kernelspec": {
   "display_name": "Python 3",
   "language": "python",
   "name": "python3"
  },
  "language_info": {
   "codemirror_mode": {
    "name": "ipython",
    "version": 3
   },
   "file_extension": ".py",
   "mimetype": "text/x-python",
   "name": "python",
   "nbconvert_exporter": "python",
   "pygments_lexer": "ipython3",
   "version": "3.10.12"
  },
  "papermill": {
   "default_parameters": {},
   "duration": 104.800374,
   "end_time": "2023-07-28T13:07:12.088916",
   "environment_variables": {},
   "exception": null,
   "input_path": "__notebook__.ipynb",
   "output_path": "__notebook__.ipynb",
   "parameters": {},
   "start_time": "2023-07-28T13:05:27.288542",
   "version": "2.4.0"
  }
 },
 "nbformat": 4,
 "nbformat_minor": 5
}

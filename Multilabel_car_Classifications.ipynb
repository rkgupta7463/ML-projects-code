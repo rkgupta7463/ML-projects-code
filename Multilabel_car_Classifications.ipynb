{
  "nbformat": 4,
  "nbformat_minor": 0,
  "metadata": {
    "colab": {
      "provenance": [],
      "gpuType": "T4",
      "authorship_tag": "ABX9TyNaF+5KOpdt1b3wAsRp+QLh",
      "include_colab_link": true
    },
    "kernelspec": {
      "name": "python3",
      "display_name": "Python 3"
    },
    "language_info": {
      "name": "python"
    },
    "accelerator": "GPU"
  },
  "cells": [
    {
      "cell_type": "markdown",
      "metadata": {
        "id": "view-in-github",
        "colab_type": "text"
      },
      "source": [
        "<a href=\"https://colab.research.google.com/github/rkgupta7463/ML-projects-code/blob/main/Multilabel_car_Classifications.ipynb\" target=\"_parent\"><img src=\"https://colab.research.google.com/assets/colab-badge.svg\" alt=\"Open In Colab\"/></a>"
      ]
    },
    {
      "cell_type": "code",
      "execution_count": 56,
      "metadata": {
        "id": "DH-H0jWEF5Iq"
      },
      "outputs": [],
      "source": [
        "import matplotlib.pyplot as plt\n",
        "import numpy as np\n",
        "import pandas as pd\n",
        "import PIL\n",
        "import tensorflow as tf\n",
        "import os\n",
        "from tensorflow import keras\n",
        "from tensorflow.keras.layers import Conv2D,Dense,Flatten,Dropout,BatchNormalization,MaxPooling2D\n",
        "from tensorflow.keras.models import Sequential\n",
        "from tensorflow.keras.optimizers import Adam\n",
        "from tensorflow.keras.preprocessing.image import ImageDataGenerator"
      ]
    },
    {
      "cell_type": "code",
      "source": [
        "!mkdir -p ~/.kaggle\n",
        "!cp kaggle.json ~/.kaggle/"
      ],
      "metadata": {
        "id": "YuGix6PJGFr3"
      },
      "execution_count": 57,
      "outputs": []
    },
    {
      "cell_type": "code",
      "source": [
        "!kaggle datasets download -d julichitai/multilabel-small-car-and-color-dataset"
      ],
      "metadata": {
        "colab": {
          "base_uri": "https://localhost:8080/"
        },
        "id": "zPcFiQsXGWpY",
        "outputId": "396d031e-8535-4bbc-f65b-669d75b36bef"
      },
      "execution_count": 58,
      "outputs": [
        {
          "output_type": "stream",
          "name": "stdout",
          "text": [
            "Warning: Your Kaggle API key is readable by other users on this system! To fix this, you can run 'chmod 600 /root/.kaggle/kaggle.json'\n",
            "multilabel-small-car-and-color-dataset.zip: Skipping, found more recently modified local copy (use --force to force download)\n"
          ]
        }
      ]
    },
    {
      "cell_type": "code",
      "source": [
        "import zipfile\n",
        "zip = zipfile.ZipFile(\"/content/multilabel-small-car-and-color-dataset.zip\",'r')\n",
        "zip.extractall(\"/content/multilabel-small-car-and-color\")\n",
        "zip.close()"
      ],
      "metadata": {
        "id": "dT56Ls1lGYqL"
      },
      "execution_count": 59,
      "outputs": []
    },
    {
      "cell_type": "code",
      "source": [
        "directory=os.path.join('/content/multilabel-small-car-and-color')"
      ],
      "metadata": {
        "id": "EIOOd0gsHBnA"
      },
      "execution_count": 60,
      "outputs": []
    },
    {
      "cell_type": "code",
      "source": [
        "train_datagen = ImageDataGenerator(\n",
        "    rescale=1./255,\n",
        "    validation_split=0.2,\n",
        "    rotation_range=40,  # Example: random rotation\n",
        "    width_shift_range=0.2,  # Example: random horizontal shift\n",
        "    height_shift_range=0.2,  # Example: random vertical shift\n",
        "    shear_range=0.2,  # Example: random shear\n",
        "    zoom_range=0.2,  # Example: random zoom\n",
        "    horizontal_flip=True,  # Example: random horizontal flip\n",
        "    fill_mode='nearest'  # Example: how to fill missing pixels\n",
        ")"
      ],
      "metadata": {
        "id": "ocyoeh1P5BLJ"
      },
      "execution_count": 61,
      "outputs": []
    },
    {
      "cell_type": "code",
      "source": [
        "seed=1334\n",
        "train_generator = train_datagen.flow_from_directory(\n",
        "    directory,\n",
        "    target_size=(255, 255),  # Resize images to a consistent size\n",
        "    batch_size=32,\n",
        "    class_mode='categorical',  # Set the class mode for multi-class classification\n",
        "    subset='training',  # Training subset\n",
        "    shuffle=True,  # Shuffle the data\n",
        "    seed=seed\n",
        ")"
      ],
      "metadata": {
        "colab": {
          "base_uri": "https://localhost:8080/"
        },
        "id": "7DmiDa9Z5H_2",
        "outputId": "b433258b-7023-4c65-96e6-9b30a73d0489"
      },
      "execution_count": 65,
      "outputs": [
        {
          "output_type": "stream",
          "name": "stdout",
          "text": [
            "Found 2191 images belonging to 9 classes.\n"
          ]
        }
      ]
    },
    {
      "cell_type": "code",
      "source": [
        "validation_generator = train_datagen.flow_from_directory(\n",
        "    directory,\n",
        "    target_size=(255, 255),  # Resize images to a consistent size\n",
        "    batch_size=32,\n",
        "    class_mode='categorical',  # Set the class mode for multi-class classification\n",
        "    subset='validation',  # Validation subset\n",
        "    shuffle=False,  # Don't shuffle the validation data\n",
        "    seed=seed\n",
        ")"
      ],
      "metadata": {
        "colab": {
          "base_uri": "https://localhost:8080/"
        },
        "id": "qh0tbYjH5Lcc",
        "outputId": "f4a8f4ba-e7e6-4407-bb6e-629c268cf95f"
      },
      "execution_count": 66,
      "outputs": [
        {
          "output_type": "stream",
          "name": "stdout",
          "text": [
            "Found 544 images belonging to 9 classes.\n"
          ]
        }
      ]
    },
    {
      "cell_type": "code",
      "source": [
        "train_generator.class_indices"
      ],
      "metadata": {
        "colab": {
          "base_uri": "https://localhost:8080/"
        },
        "id": "fsaQfuqgYAGa",
        "outputId": "8fcd4ee6-2c89-423c-e8a5-b02c0f954aaf"
      },
      "execution_count": 90,
      "outputs": [
        {
          "output_type": "execute_result",
          "data": {
            "text/plain": [
              "{'matiz black': 0,\n",
              " 'matiz blue': 1,\n",
              " 'matiz red': 2,\n",
              " 'rio black': 3,\n",
              " 'rio blue': 4,\n",
              " 'rio red': 5,\n",
              " 'tiggo black': 6,\n",
              " 'tiggo blue': 7,\n",
              " 'tiggo red': 8}"
            ]
          },
          "metadata": {},
          "execution_count": 90
        }
      ]
    },
    {
      "cell_type": "markdown",
      "source": [
        "### **Now lets start creating CNN Network**"
      ],
      "metadata": {
        "id": "ZlGXfJXPw3UM"
      }
    },
    {
      "cell_type": "code",
      "source": [
        "# Initializing the first CNN model\n",
        "model1 = tf.keras.Sequential()\n",
        "\n",
        "# Creating the CNN model\n",
        "model1.add(Conv2D(16, (3, 3), activation='relu', input_shape=(255, 255, 3)))\n",
        "model1.add(MaxPooling2D(2, 2))\n",
        "model1.add(Dropout(rate=0.15))  # Adding dropout regularization throughout the model to deal with overfitting\n",
        "\n",
        "# The second convolution\n",
        "model1.add(Conv2D(32, (3, 3), activation='relu'))\n",
        "model1.add(MaxPooling2D(2, 2))\n",
        "model1.add(Dropout(rate=0.1))\n",
        "\n",
        "# The third convolution\n",
        "model1.add(Conv2D(64, (3, 3), activation='relu'))\n",
        "model1.add(MaxPooling2D(2, 2))\n",
        "model1.add(Dropout(rate=0.10))\n",
        "\n",
        "# Flatten the results to feed into a DNN\n",
        "model1.add(Flatten())\n",
        "\n",
        "# 512 neuron hidden layer\n",
        "model1.add(Dense(512, activation='relu'))\n",
        "\n",
        "# 9 output neurons for the 9 classes\n",
        "model1.add(Dense(9, activation='softmax'))  # Corrected to 9 output neurons"
      ],
      "metadata": {
        "id": "ogyyqSOLG8of"
      },
      "execution_count": 67,
      "outputs": []
    },
    {
      "cell_type": "code",
      "source": [
        "model1.summary()"
      ],
      "metadata": {
        "colab": {
          "base_uri": "https://localhost:8080/"
        },
        "id": "TdVtQ3thwE89",
        "outputId": "3e517591-2c32-4f70-9bfd-16e03a3a2734"
      },
      "execution_count": 68,
      "outputs": [
        {
          "output_type": "stream",
          "name": "stdout",
          "text": [
            "Model: \"sequential_9\"\n",
            "_________________________________________________________________\n",
            " Layer (type)                Output Shape              Param #   \n",
            "=================================================================\n",
            " conv2d_25 (Conv2D)          (None, 253, 253, 16)      448       \n",
            "                                                                 \n",
            " max_pooling2d_24 (MaxPooli  (None, 126, 126, 16)      0         \n",
            " ng2D)                                                           \n",
            "                                                                 \n",
            " dropout_24 (Dropout)        (None, 126, 126, 16)      0         \n",
            "                                                                 \n",
            " conv2d_26 (Conv2D)          (None, 124, 124, 32)      4640      \n",
            "                                                                 \n",
            " max_pooling2d_25 (MaxPooli  (None, 62, 62, 32)        0         \n",
            " ng2D)                                                           \n",
            "                                                                 \n",
            " dropout_25 (Dropout)        (None, 62, 62, 32)        0         \n",
            "                                                                 \n",
            " conv2d_27 (Conv2D)          (None, 60, 60, 64)        18496     \n",
            "                                                                 \n",
            " max_pooling2d_26 (MaxPooli  (None, 30, 30, 64)        0         \n",
            " ng2D)                                                           \n",
            "                                                                 \n",
            " dropout_26 (Dropout)        (None, 30, 30, 64)        0         \n",
            "                                                                 \n",
            " flatten_8 (Flatten)         (None, 57600)             0         \n",
            "                                                                 \n",
            " dense_16 (Dense)            (None, 512)               29491712  \n",
            "                                                                 \n",
            " dense_17 (Dense)            (None, 9)                 4617      \n",
            "                                                                 \n",
            "=================================================================\n",
            "Total params: 29519913 (112.61 MB)\n",
            "Trainable params: 29519913 (112.61 MB)\n",
            "Non-trainable params: 0 (0.00 Byte)\n",
            "_________________________________________________________________\n"
          ]
        }
      ]
    },
    {
      "cell_type": "code",
      "source": [
        "model1.compile(loss=\"categorical_crossentropy\",\n",
        "               optimizer=Adam(),\n",
        "               metrics=['accuracy'])"
      ],
      "metadata": {
        "id": "zkVq0PI-0EfA"
      },
      "execution_count": 69,
      "outputs": []
    },
    {
      "cell_type": "code",
      "source": [
        "history1=model1.fit(train_generator,validation_data=validation_generator,epochs=50,batch_size=64)"
      ],
      "metadata": {
        "colab": {
          "base_uri": "https://localhost:8080/"
        },
        "id": "oDLi-GQs0iq9",
        "outputId": "c951cade-cddf-4649-e73a-67176332bd36"
      },
      "execution_count": 70,
      "outputs": [
        {
          "output_type": "stream",
          "name": "stdout",
          "text": [
            "Epoch 1/50\n",
            "69/69 [==============================] - 53s 736ms/step - loss: 3.0861 - accuracy: 0.2077 - val_loss: 1.5397 - val_accuracy: 0.3419\n",
            "Epoch 2/50\n",
            "69/69 [==============================] - 60s 876ms/step - loss: 1.3641 - accuracy: 0.4103 - val_loss: 1.3254 - val_accuracy: 0.4136\n",
            "Epoch 3/50\n",
            "69/69 [==============================] - 50s 734ms/step - loss: 1.2508 - accuracy: 0.4669 - val_loss: 1.1088 - val_accuracy: 0.5092\n",
            "Epoch 4/50\n",
            "69/69 [==============================] - 50s 733ms/step - loss: 1.2266 - accuracy: 0.4774 - val_loss: 1.0601 - val_accuracy: 0.5018\n",
            "Epoch 5/50\n",
            "69/69 [==============================] - 50s 731ms/step - loss: 1.1298 - accuracy: 0.5098 - val_loss: 1.1083 - val_accuracy: 0.4761\n",
            "Epoch 6/50\n",
            "69/69 [==============================] - 51s 740ms/step - loss: 1.0907 - accuracy: 0.5258 - val_loss: 1.1831 - val_accuracy: 0.4485\n",
            "Epoch 7/50\n",
            "69/69 [==============================] - 59s 861ms/step - loss: 1.0605 - accuracy: 0.5495 - val_loss: 1.0515 - val_accuracy: 0.5515\n",
            "Epoch 8/50\n",
            "69/69 [==============================] - 50s 732ms/step - loss: 1.0137 - accuracy: 0.5819 - val_loss: 0.9508 - val_accuracy: 0.5882\n",
            "Epoch 9/50\n",
            "69/69 [==============================] - 51s 737ms/step - loss: 0.9709 - accuracy: 0.5865 - val_loss: 0.8993 - val_accuracy: 0.6195\n",
            "Epoch 10/50\n",
            "69/69 [==============================] - 49s 707ms/step - loss: 0.9574 - accuracy: 0.5819 - val_loss: 0.8871 - val_accuracy: 0.6029\n",
            "Epoch 11/50\n",
            "69/69 [==============================] - 49s 717ms/step - loss: 0.9383 - accuracy: 0.6057 - val_loss: 0.8732 - val_accuracy: 0.6232\n",
            "Epoch 12/50\n",
            "69/69 [==============================] - 49s 707ms/step - loss: 0.9022 - accuracy: 0.6098 - val_loss: 0.9538 - val_accuracy: 0.5735\n",
            "Epoch 13/50\n",
            "69/69 [==============================] - 49s 710ms/step - loss: 0.9053 - accuracy: 0.6066 - val_loss: 0.9889 - val_accuracy: 0.5570\n",
            "Epoch 14/50\n",
            "69/69 [==============================] - 50s 719ms/step - loss: 0.9124 - accuracy: 0.6203 - val_loss: 0.8653 - val_accuracy: 0.6103\n",
            "Epoch 15/50\n",
            "69/69 [==============================] - 50s 719ms/step - loss: 0.8945 - accuracy: 0.6180 - val_loss: 0.8652 - val_accuracy: 0.6103\n",
            "Epoch 16/50\n",
            "69/69 [==============================] - 49s 715ms/step - loss: 0.8657 - accuracy: 0.6280 - val_loss: 0.8304 - val_accuracy: 0.6342\n",
            "Epoch 17/50\n",
            "69/69 [==============================] - 49s 717ms/step - loss: 0.8413 - accuracy: 0.6454 - val_loss: 0.8304 - val_accuracy: 0.6029\n",
            "Epoch 18/50\n",
            "69/69 [==============================] - 50s 724ms/step - loss: 0.8574 - accuracy: 0.6417 - val_loss: 0.8531 - val_accuracy: 0.6158\n",
            "Epoch 19/50\n",
            "69/69 [==============================] - 58s 838ms/step - loss: 0.8316 - accuracy: 0.6385 - val_loss: 0.8219 - val_accuracy: 0.6562\n",
            "Epoch 20/50\n",
            "69/69 [==============================] - 49s 714ms/step - loss: 0.8012 - accuracy: 0.6677 - val_loss: 0.7968 - val_accuracy: 0.6599\n",
            "Epoch 21/50\n",
            "69/69 [==============================] - 49s 706ms/step - loss: 0.7963 - accuracy: 0.6641 - val_loss: 0.8229 - val_accuracy: 0.6489\n",
            "Epoch 22/50\n",
            "69/69 [==============================] - 49s 709ms/step - loss: 0.8397 - accuracy: 0.6504 - val_loss: 0.8162 - val_accuracy: 0.6581\n",
            "Epoch 23/50\n",
            "69/69 [==============================] - 50s 723ms/step - loss: 0.7807 - accuracy: 0.6791 - val_loss: 0.8033 - val_accuracy: 0.6654\n",
            "Epoch 24/50\n",
            "69/69 [==============================] - 49s 708ms/step - loss: 0.7979 - accuracy: 0.6609 - val_loss: 0.8466 - val_accuracy: 0.6232\n",
            "Epoch 25/50\n",
            "69/69 [==============================] - 49s 714ms/step - loss: 0.7739 - accuracy: 0.6828 - val_loss: 0.7999 - val_accuracy: 0.6562\n",
            "Epoch 26/50\n",
            "69/69 [==============================] - 49s 715ms/step - loss: 0.7682 - accuracy: 0.6878 - val_loss: 0.8001 - val_accuracy: 0.6710\n",
            "Epoch 27/50\n",
            "69/69 [==============================] - 49s 714ms/step - loss: 0.7357 - accuracy: 0.6965 - val_loss: 0.7757 - val_accuracy: 0.6544\n",
            "Epoch 28/50\n",
            "69/69 [==============================] - 49s 713ms/step - loss: 0.7438 - accuracy: 0.6924 - val_loss: 0.7737 - val_accuracy: 0.6526\n",
            "Epoch 29/50\n",
            "69/69 [==============================] - 49s 718ms/step - loss: 0.7103 - accuracy: 0.7020 - val_loss: 0.7549 - val_accuracy: 0.6985\n",
            "Epoch 30/50\n",
            "69/69 [==============================] - 58s 841ms/step - loss: 0.7306 - accuracy: 0.7001 - val_loss: 0.7526 - val_accuracy: 0.6875\n",
            "Epoch 31/50\n",
            "69/69 [==============================] - 49s 707ms/step - loss: 0.7169 - accuracy: 0.7170 - val_loss: 0.8359 - val_accuracy: 0.6434\n",
            "Epoch 32/50\n",
            "69/69 [==============================] - 49s 705ms/step - loss: 0.7343 - accuracy: 0.6965 - val_loss: 0.7635 - val_accuracy: 0.6838\n",
            "Epoch 33/50\n",
            "69/69 [==============================] - 49s 711ms/step - loss: 0.7238 - accuracy: 0.6988 - val_loss: 0.8221 - val_accuracy: 0.6691\n",
            "Epoch 34/50\n",
            "69/69 [==============================] - 49s 718ms/step - loss: 0.6882 - accuracy: 0.7147 - val_loss: 0.6873 - val_accuracy: 0.7132\n",
            "Epoch 35/50\n",
            "69/69 [==============================] - 50s 723ms/step - loss: 0.6701 - accuracy: 0.7398 - val_loss: 0.7635 - val_accuracy: 0.6875\n",
            "Epoch 36/50\n",
            "69/69 [==============================] - 49s 709ms/step - loss: 0.6660 - accuracy: 0.7362 - val_loss: 0.7252 - val_accuracy: 0.6985\n",
            "Epoch 37/50\n",
            "69/69 [==============================] - 49s 706ms/step - loss: 0.6819 - accuracy: 0.7179 - val_loss: 0.7069 - val_accuracy: 0.7059\n",
            "Epoch 38/50\n",
            "69/69 [==============================] - 49s 712ms/step - loss: 0.6514 - accuracy: 0.7298 - val_loss: 0.6974 - val_accuracy: 0.7114\n",
            "Epoch 39/50\n",
            "69/69 [==============================] - 49s 706ms/step - loss: 0.6599 - accuracy: 0.7298 - val_loss: 0.7224 - val_accuracy: 0.7151\n",
            "Epoch 40/50\n",
            "69/69 [==============================] - 49s 711ms/step - loss: 0.6579 - accuracy: 0.7289 - val_loss: 0.7612 - val_accuracy: 0.6728\n",
            "Epoch 41/50\n",
            "69/69 [==============================] - 49s 711ms/step - loss: 0.6260 - accuracy: 0.7508 - val_loss: 0.7026 - val_accuracy: 0.6985\n",
            "Epoch 42/50\n",
            "69/69 [==============================] - 49s 706ms/step - loss: 0.6423 - accuracy: 0.7430 - val_loss: 0.7877 - val_accuracy: 0.6618\n",
            "Epoch 43/50\n",
            "69/69 [==============================] - 48s 703ms/step - loss: 0.6403 - accuracy: 0.7462 - val_loss: 0.7333 - val_accuracy: 0.7040\n",
            "Epoch 44/50\n",
            "69/69 [==============================] - 49s 716ms/step - loss: 0.6277 - accuracy: 0.7508 - val_loss: 0.7187 - val_accuracy: 0.6893\n",
            "Epoch 45/50\n",
            "69/69 [==============================] - 48s 702ms/step - loss: 0.6308 - accuracy: 0.7467 - val_loss: 0.7411 - val_accuracy: 0.6838\n",
            "Epoch 46/50\n",
            "69/69 [==============================] - 49s 712ms/step - loss: 0.6223 - accuracy: 0.7613 - val_loss: 0.7041 - val_accuracy: 0.7077\n",
            "Epoch 47/50\n",
            "69/69 [==============================] - 50s 721ms/step - loss: 0.6082 - accuracy: 0.7608 - val_loss: 0.7901 - val_accuracy: 0.6691\n",
            "Epoch 48/50\n",
            "69/69 [==============================] - 49s 704ms/step - loss: 0.5813 - accuracy: 0.7809 - val_loss: 0.7239 - val_accuracy: 0.6893\n",
            "Epoch 49/50\n",
            "69/69 [==============================] - 49s 706ms/step - loss: 0.5867 - accuracy: 0.7645 - val_loss: 0.7434 - val_accuracy: 0.7096\n",
            "Epoch 50/50\n",
            "69/69 [==============================] - 49s 714ms/step - loss: 0.6051 - accuracy: 0.7691 - val_loss: 0.7763 - val_accuracy: 0.6912\n"
          ]
        }
      ]
    },
    {
      "cell_type": "code",
      "source": [
        "loss,acc=model1.evaluate(validation_generator)\n",
        "print(\"Model1's Accuracy:-\",acc)\n",
        "print(\"Model1's Loss:-\",loss)"
      ],
      "metadata": {
        "colab": {
          "base_uri": "https://localhost:8080/"
        },
        "id": "E1-kXId-GhRI",
        "outputId": "d8ad931a-099b-4ab9-f1ba-418debfab79e"
      },
      "execution_count": 76,
      "outputs": [
        {
          "output_type": "stream",
          "name": "stdout",
          "text": [
            "17/17 [==============================] - 12s 706ms/step - loss: 0.7954 - accuracy: 0.6949\n",
            "Model1's Accuracy:- 0.6948529481887817\n",
            "Model1's Loss:- 0.7953777313232422\n"
          ]
        }
      ]
    },
    {
      "cell_type": "code",
      "source": [
        "import matplotlib.pyplot as plt"
      ],
      "metadata": {
        "id": "g_phr9K41X8V"
      },
      "execution_count": 71,
      "outputs": []
    },
    {
      "cell_type": "code",
      "source": [
        "plt.plot(history1.history['accuracy'],label=\"Train Accuracy\")\n",
        "plt.plot(history1.history['val_accuracy'],label=\"Test Accuracy\")\n",
        "plt.legend()\n",
        "plt.show()"
      ],
      "metadata": {
        "colab": {
          "base_uri": "https://localhost:8080/",
          "height": 430
        },
        "id": "Cwtig-4VGLMT",
        "outputId": "894c4aad-31ad-4430-ccfe-b5275b6df855"
      },
      "execution_count": 74,
      "outputs": [
        {
          "output_type": "display_data",
          "data": {
            "text/plain": [
              "<Figure size 640x480 with 1 Axes>"
            ],
            "image/png": "[encoded data removed]"
          },
          "metadata": {}
        }
      ]
    },
    {
      "cell_type": "code",
      "source": [
        "# Initializing the first CNN model\n",
        "model2 = tf.keras.Sequential()\n",
        "\n",
        "# Creating the CNN model\n",
        "model2.add(Conv2D(228, (3, 3), activation='relu', input_shape=(255, 255, 3)))\n",
        "model2.add(MaxPooling2D(2, 2))\n",
        "model2.add(Dropout(rate=0.15))  # Adding dropout regularization throughout the model to deal with overfitting\n",
        "\n",
        "# The second convolution\n",
        "model2.add(Conv2D(144, (3, 3), activation='relu'))\n",
        "model2.add(MaxPooling2D(2, 2))\n",
        "model2.add(Dropout(rate=0.1))\n",
        "\n",
        "# The third convolution\n",
        "model2.add(Conv2D(64, (3, 3), activation='relu'))\n",
        "model2.add(MaxPooling2D(2, 2))\n",
        "model2.add(Dropout(rate=0.10))\n",
        "\n",
        "# Flatten the results to feed into a DNN\n",
        "model2.add(Flatten())\n",
        "\n",
        "# 512 neuron hidden layer\n",
        "model2.add(Dense(512, activation='relu'))\n",
        "\n",
        "# 9 output neurons for the 9 classes\n",
        "model2.add(Dense(9, activation='softmax'))  # Corrected to 9 output neurons"
      ],
      "metadata": {
        "id": "o_Hik2f1GSWm"
      },
      "execution_count": 82,
      "outputs": []
    },
    {
      "cell_type": "code",
      "source": [
        "model2.summary()"
      ],
      "metadata": {
        "colab": {
          "base_uri": "https://localhost:8080/"
        },
        "id": "qrA7WD8UHfhe",
        "outputId": "6ffaaee8-1aa0-4ebe-b22a-3334f7d969ec"
      },
      "execution_count": 83,
      "outputs": [
        {
          "output_type": "stream",
          "name": "stdout",
          "text": [
            "Model: \"sequential_12\"\n",
            "_________________________________________________________________\n",
            " Layer (type)                Output Shape              Param #   \n",
            "=================================================================\n",
            " conv2d_34 (Conv2D)          (None, 253, 253, 228)     6384      \n",
            "                                                                 \n",
            " max_pooling2d_33 (MaxPooli  (None, 126, 126, 228)     0         \n",
            " ng2D)                                                           \n",
            "                                                                 \n",
            " dropout_33 (Dropout)        (None, 126, 126, 228)     0         \n",
            "                                                                 \n",
            " conv2d_35 (Conv2D)          (None, 124, 124, 144)     295632    \n",
            "                                                                 \n",
            " max_pooling2d_34 (MaxPooli  (None, 62, 62, 144)       0         \n",
            " ng2D)                                                           \n",
            "                                                                 \n",
            " dropout_34 (Dropout)        (None, 62, 62, 144)       0         \n",
            "                                                                 \n",
            " conv2d_36 (Conv2D)          (None, 60, 60, 64)        83008     \n",
            "                                                                 \n",
            " max_pooling2d_35 (MaxPooli  (None, 30, 30, 64)        0         \n",
            " ng2D)                                                           \n",
            "                                                                 \n",
            " dropout_35 (Dropout)        (None, 30, 30, 64)        0         \n",
            "                                                                 \n",
            " flatten_11 (Flatten)        (None, 57600)             0         \n",
            "                                                                 \n",
            " dense_22 (Dense)            (None, 512)               29491712  \n",
            "                                                                 \n",
            " dense_23 (Dense)            (None, 9)                 4617      \n",
            "                                                                 \n",
            "=================================================================\n",
            "Total params: 29881353 (113.99 MB)\n",
            "Trainable params: 29881353 (113.99 MB)\n",
            "Non-trainable params: 0 (0.00 Byte)\n",
            "_________________________________________________________________\n"
          ]
        }
      ]
    },
    {
      "cell_type": "code",
      "source": [
        "model2.compile(loss=\"categorical_crossentropy\",\n",
        "               optimizer=Adam(),\n",
        "               metrics=['accuracy'])"
      ],
      "metadata": {
        "id": "j4HiLJ8cHnn0"
      },
      "execution_count": 84,
      "outputs": []
    },
    {
      "cell_type": "code",
      "source": [
        "history2=model2.fit(train_generator,validation_data=validation_generator,batch_size=64,epochs=25)"
      ],
      "metadata": {
        "colab": {
          "base_uri": "https://localhost:8080/"
        },
        "id": "66e1DE9vIH1Q",
        "outputId": "b399f26b-21ee-43b8-b5f0-bce0a81075ca"
      },
      "execution_count": 85,
      "outputs": [
        {
          "output_type": "stream",
          "name": "stdout",
          "text": [
            "Epoch 1/25\n",
            "69/69 [==============================] - 72s 1s/step - loss: 2.0894 - accuracy: 0.2743 - val_loss: 1.5467 - val_accuracy: 0.3051\n",
            "Epoch 2/25\n",
            "69/69 [==============================] - 69s 993ms/step - loss: 1.3544 - accuracy: 0.3642 - val_loss: 1.2582 - val_accuracy: 0.3934\n",
            "Epoch 3/25\n",
            "69/69 [==============================] - 69s 989ms/step - loss: 1.2456 - accuracy: 0.4208 - val_loss: 1.1741 - val_accuracy: 0.4228\n",
            "Epoch 4/25\n",
            "69/69 [==============================] - 76s 1s/step - loss: 1.1880 - accuracy: 0.4564 - val_loss: 1.0728 - val_accuracy: 0.5092\n",
            "Epoch 5/25\n",
            "69/69 [==============================] - 76s 1s/step - loss: 1.1531 - accuracy: 0.4824 - val_loss: 1.0726 - val_accuracy: 0.4706\n",
            "Epoch 6/25\n",
            "69/69 [==============================] - 68s 984ms/step - loss: 1.1400 - accuracy: 0.4929 - val_loss: 1.0551 - val_accuracy: 0.5165\n",
            "Epoch 7/25\n",
            "69/69 [==============================] - 67s 984ms/step - loss: 1.0751 - accuracy: 0.5272 - val_loss: 0.9630 - val_accuracy: 0.5570\n",
            "Epoch 8/25\n",
            "69/69 [==============================] - 69s 996ms/step - loss: 1.0951 - accuracy: 0.5116 - val_loss: 1.0352 - val_accuracy: 0.5551\n",
            "Epoch 9/25\n",
            "69/69 [==============================] - 68s 981ms/step - loss: 1.0524 - accuracy: 0.5463 - val_loss: 0.9252 - val_accuracy: 0.5790\n",
            "Epoch 10/25\n",
            "69/69 [==============================] - 69s 999ms/step - loss: 1.0131 - accuracy: 0.5596 - val_loss: 0.9366 - val_accuracy: 0.5551\n",
            "Epoch 11/25\n",
            "69/69 [==============================] - 68s 977ms/step - loss: 0.9733 - accuracy: 0.5769 - val_loss: 1.0518 - val_accuracy: 0.5717\n",
            "Epoch 12/25\n",
            "69/69 [==============================] - 69s 992ms/step - loss: 0.9564 - accuracy: 0.5933 - val_loss: 0.9473 - val_accuracy: 0.5662\n",
            "Epoch 13/25\n",
            "69/69 [==============================] - 70s 1s/step - loss: 0.9772 - accuracy: 0.5792 - val_loss: 0.9138 - val_accuracy: 0.6066\n",
            "Epoch 14/25\n",
            "69/69 [==============================] - 69s 1s/step - loss: 0.9491 - accuracy: 0.6034 - val_loss: 1.0657 - val_accuracy: 0.5827\n",
            "Epoch 15/25\n",
            "69/69 [==============================] - 70s 1s/step - loss: 0.9279 - accuracy: 0.5869 - val_loss: 0.9744 - val_accuracy: 0.5772\n",
            "Epoch 16/25\n",
            "69/69 [==============================] - 68s 989ms/step - loss: 0.8894 - accuracy: 0.6171 - val_loss: 0.9981 - val_accuracy: 0.5202\n",
            "Epoch 17/25\n",
            "69/69 [==============================] - 69s 996ms/step - loss: 0.8831 - accuracy: 0.6157 - val_loss: 0.9114 - val_accuracy: 0.6379\n",
            "Epoch 18/25\n",
            "69/69 [==============================] - 77s 1s/step - loss: 0.8779 - accuracy: 0.6194 - val_loss: 0.9100 - val_accuracy: 0.5735\n",
            "Epoch 19/25\n",
            "69/69 [==============================] - 69s 1s/step - loss: 0.8523 - accuracy: 0.6413 - val_loss: 0.8647 - val_accuracy: 0.6195\n",
            "Epoch 20/25\n",
            "69/69 [==============================] - 68s 980ms/step - loss: 0.8451 - accuracy: 0.6394 - val_loss: 0.8034 - val_accuracy: 0.6379\n",
            "Epoch 21/25\n",
            "69/69 [==============================] - 68s 988ms/step - loss: 0.8393 - accuracy: 0.6513 - val_loss: 0.8254 - val_accuracy: 0.6268\n",
            "Epoch 22/25\n",
            "69/69 [==============================] - 68s 982ms/step - loss: 0.8419 - accuracy: 0.6445 - val_loss: 0.8216 - val_accuracy: 0.6691\n",
            "Epoch 23/25\n",
            "69/69 [==============================] - 68s 986ms/step - loss: 0.8382 - accuracy: 0.6518 - val_loss: 0.8354 - val_accuracy: 0.6379\n",
            "Epoch 24/25\n",
            "69/69 [==============================] - 67s 974ms/step - loss: 0.8221 - accuracy: 0.6568 - val_loss: 0.8343 - val_accuracy: 0.6581\n",
            "Epoch 25/25\n",
            "69/69 [==============================] - 71s 1s/step - loss: 0.8197 - accuracy: 0.6636 - val_loss: 0.9028 - val_accuracy: 0.6103\n"
          ]
        }
      ]
    },
    {
      "cell_type": "code",
      "source": [
        "loss2,acc2=model2.evaluate(validation_generator)\n",
        "print(\"Model 2 loss:-\",loss2)\n",
        "print(\"Model 2 Accuracy:-\",acc2)"
      ],
      "metadata": {
        "colab": {
          "base_uri": "https://localhost:8080/"
        },
        "id": "ySZvLh32JMh5",
        "outputId": "bbe63f33-4fc7-402e-b30c-574d4b88a442"
      },
      "execution_count": 86,
      "outputs": [
        {
          "output_type": "stream",
          "name": "stdout",
          "text": [
            "17/17 [==============================] - 13s 750ms/step - loss: 0.9101 - accuracy: 0.5956\n",
            "Model 2 loss:- 0.9101166725158691\n",
            "Model 2 Accuracy:- 0.595588207244873\n"
          ]
        }
      ]
    },
    {
      "cell_type": "code",
      "source": [
        "plt.plot(history2.history['accuracy'],label=\"Train Accuracy\")\n",
        "plt.plot(history2.history['val_accuracy'],label=\"Test Accuracy\")\n",
        "plt.legend()\n",
        "plt.suptitle()\n",
        "plt.show()"
      ],
      "metadata": {
        "colab": {
          "base_uri": "https://localhost:8080/",
          "height": 430
        },
        "id": "_Zz8WtPNVSvy",
        "outputId": "5096229f-6aec-4c3d-add9-e7dd0de63b80"
      },
      "execution_count": 87,
      "outputs": [
        {
          "output_type": "display_data",
          "data": {
            "text/plain": [
              "<Figure size 640x480 with 1 Axes>"
            ],
            "image/png": "[encoded data removed]"
          },
          "metadata": {}
        }
      ]
    },
    {
      "cell_type": "code",
      "source": [],
      "metadata": {
        "id": "QXlkjiO2VeZk"
      },
      "execution_count": 89,
      "outputs": []
    },
    {
      "cell_type": "code",
      "source": [],
      "metadata": {
        "id": "mnKjIhoVXxqg"
      },
      "execution_count": null,
      "outputs": []
    }
  ]
}
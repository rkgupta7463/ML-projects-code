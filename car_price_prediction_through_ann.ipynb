{
  "metadata": {
    "kernelspec": {
      "language": "python",
      "display_name": "Python 3",
      "name": "python3"
    },
    "language_info": {
      "name": "python",
      "version": "3.10.12",
      "mimetype": "text/x-python",
      "codemirror_mode": {
        "name": "ipython",
        "version": 3
      },
      "pygments_lexer": "ipython3",
      "nbconvert_exporter": "python",
      "file_extension": ".py"
    },
    "colab": {
      "provenance": [],
      "include_colab_link": true
    }
  },
  "nbformat_minor": 0,
  "nbformat": 4,
  "cells": [
    {
      "cell_type": "markdown",
      "metadata": {
        "id": "view-in-github",
        "colab_type": "text"
      },
      "source": [
        "<a href=\"https://colab.research.google.com/github/rkgupta7463/ML-projects-code/blob/main/car_price_prediction_through_ann.ipynb\" target=\"_parent\"><img src=\"https://colab.research.google.com/assets/colab-badge.svg\" alt=\"Open In Colab\"/></a>"
      ]
    },
    {
      "cell_type": "code",
      "source": [
        "# This Python 3 environment comes with many helpful analytics libraries installed\n",
        "# It is defined by the kaggle/python Docker image: https://github.com/kaggle/docker-python\n",
        "# For example, here's several helpful packages to load\n",
        "\n",
        "import numpy as np # linear algebra\n",
        "import pandas as pd # data processing, CSV file I/O (e.g. pd.read_csv)"
      ],
      "metadata": {
        "_uuid": "8f2839f25d086af736a60e9eeb907d3b93b6e0e5",
        "_cell_guid": "b1076dfc-b9ad-4769-8c92-a6c4dae69d19",
        "execution": {
          "iopub.status.busy": "2023-07-16T12:53:59.813916Z",
          "iopub.execute_input": "2023-07-16T12:53:59.814323Z",
          "iopub.status.idle": "2023-07-16T12:53:59.860575Z",
          "shell.execute_reply.started": "2023-07-16T12:53:59.814290Z",
          "shell.execute_reply": "2023-07-16T12:53:59.859736Z"
        },
        "trusted": true,
        "id": "DOo-TK-uFg1B"
      },
      "execution_count": 7,
      "outputs": []
    },
    {
      "cell_type": "code",
      "source": [
        "df = pd.read_csv('car_purchasing.csv', encoding='latin1')"
      ],
      "metadata": {
        "execution": {
          "iopub.status.busy": "2023-07-16T13:19:07.785436Z",
          "iopub.execute_input": "2023-07-16T13:19:07.785949Z",
          "iopub.status.idle": "2023-07-16T13:19:07.808543Z",
          "shell.execute_reply.started": "2023-07-16T13:19:07.785910Z",
          "shell.execute_reply": "2023-07-16T13:19:07.807509Z"
        },
        "trusted": true,
        "id": "J--_UlZWFg1E"
      },
      "execution_count": 8,
      "outputs": []
    },
    {
      "cell_type": "code",
      "source": [
        "df.head()"
      ],
      "metadata": {
        "execution": {
          "iopub.status.busy": "2023-07-16T13:19:08.080738Z",
          "iopub.execute_input": "2023-07-16T13:19:08.081701Z",
          "iopub.status.idle": "2023-07-16T13:19:08.099664Z",
          "shell.execute_reply.started": "2023-07-16T13:19:08.081657Z",
          "shell.execute_reply": "2023-07-16T13:19:08.098696Z"
        },
        "trusted": true,
        "colab": {
          "base_uri": "https://localhost:8080/",
          "height": 206
        },
        "id": "DGIoPwCAFg1F",
        "outputId": "f8b4e991-1169-4a5a-8485-2c4eb78ceec5"
      },
      "execution_count": 9,
      "outputs": [
        {
          "output_type": "execute_result",
          "data": {
            "text/plain": [
              "     customer name                                    customer e-mail  \\\n",
              "0    Martina Avila  cubilia.Curae.Phasellus@quisaccumsanconvallis.edu   \n",
              "1    Harlan Barnes                                eu.dolor@diam.co.uk   \n",
              "2  Naomi Rodriquez  vulputate.mauris.sagittis@ametconsectetueradip...   \n",
              "3  Jade Cunningham                            malesuada@dignissim.com   \n",
              "4     Cedric Leach     felis.ullamcorper.viverra@egetmollislectus.net   \n",
              "\n",
              "        country  gender        age  annual Salary  credit card debt  \\\n",
              "0      Bulgaria       0  41.851720    62812.09301      11609.380910   \n",
              "1        Belize       0  40.870623    66646.89292       9572.957136   \n",
              "2       Algeria       1  43.152897    53798.55112      11160.355060   \n",
              "3  Cook Islands       1  58.271369    79370.03798      14426.164850   \n",
              "4        Brazil       1  57.313749    59729.15130       5358.712177   \n",
              "\n",
              "     net worth  car purchase amount  \n",
              "0  238961.2505          35321.45877  \n",
              "1  530973.9078          45115.52566  \n",
              "2  638467.1773          42925.70921  \n",
              "3  548599.0524          67422.36313  \n",
              "4  560304.0671          55915.46248  "
            ],
            "text/html": [
              "\n",
              "\n",
              "  <div id=\"df-f29f38c6-6ffd-4a4e-9e30-5a516345e1ce\">\n",
              "    <div class=\"colab-df-container\">\n",
              "      <div>\n",
              "<style scoped>\n",
              "    .dataframe tbody tr th:only-of-type {\n",
              "        vertical-align: middle;\n",
              "    }\n",
              "\n",
              "    .dataframe tbody tr th {\n",
              "        vertical-align: top;\n",
              "    }\n",
              "\n",
              "    .dataframe thead th {\n",
              "        text-align: right;\n",
              "    }\n",
              "</style>\n",
              "<table border=\"1\" class=\"dataframe\">\n",
              "  <thead>\n",
              "    <tr style=\"text-align: right;\">\n",
              "      <th></th>\n",
              "      <th>customer name</th>\n",
              "      <th>customer e-mail</th>\n",
              "      <th>country</th>\n",
              "      <th>gender</th>\n",
              "      <th>age</th>\n",
              "      <th>annual Salary</th>\n",
              "      <th>credit card debt</th>\n",
              "      <th>net worth</th>\n",
              "      <th>car purchase amount</th>\n",
              "    </tr>\n",
              "  </thead>\n",
              "  <tbody>\n",
              "    <tr>\n",
              "      <th>0</th>\n",
              "      <td>Martina Avila</td>\n",
              "      <td>cubilia.Curae.Phasellus@quisaccumsanconvallis.edu</td>\n",
              "      <td>Bulgaria</td>\n",
              "      <td>0</td>\n",
              "      <td>41.851720</td>\n",
              "      <td>62812.09301</td>\n",
              "      <td>11609.380910</td>\n",
              "      <td>238961.2505</td>\n",
              "      <td>35321.45877</td>\n",
              "    </tr>\n",
              "    <tr>\n",
              "      <th>1</th>\n",
              "      <td>Harlan Barnes</td>\n",
              "      <td>eu.dolor@diam.co.uk</td>\n",
              "      <td>Belize</td>\n",
              "      <td>0</td>\n",
              "      <td>40.870623</td>\n",
              "      <td>66646.89292</td>\n",
              "      <td>9572.957136</td>\n",
              "      <td>530973.9078</td>\n",
              "      <td>45115.52566</td>\n",
              "    </tr>\n",
              "    <tr>\n",
              "      <th>2</th>\n",
              "      <td>Naomi Rodriquez</td>\n",
              "      <td>vulputate.mauris.sagittis@ametconsectetueradip...</td>\n",
              "      <td>Algeria</td>\n",
              "      <td>1</td>\n",
              "      <td>43.152897</td>\n",
              "      <td>53798.55112</td>\n",
              "      <td>11160.355060</td>\n",
              "      <td>638467.1773</td>\n",
              "      <td>42925.70921</td>\n",
              "    </tr>\n",
              "    <tr>\n",
              "      <th>3</th>\n",
              "      <td>Jade Cunningham</td>\n",
              "      <td>malesuada@dignissim.com</td>\n",
              "      <td>Cook Islands</td>\n",
              "      <td>1</td>\n",
              "      <td>58.271369</td>\n",
              "      <td>79370.03798</td>\n",
              "      <td>14426.164850</td>\n",
              "      <td>548599.0524</td>\n",
              "      <td>67422.36313</td>\n",
              "    </tr>\n",
              "    <tr>\n",
              "      <th>4</th>\n",
              "      <td>Cedric Leach</td>\n",
              "      <td>felis.ullamcorper.viverra@egetmollislectus.net</td>\n",
              "      <td>Brazil</td>\n",
              "      <td>1</td>\n",
              "      <td>57.313749</td>\n",
              "      <td>59729.15130</td>\n",
              "      <td>5358.712177</td>\n",
              "      <td>560304.0671</td>\n",
              "      <td>55915.46248</td>\n",
              "    </tr>\n",
              "  </tbody>\n",
              "</table>\n",
              "</div>\n",
              "      <button class=\"colab-df-convert\" onclick=\"convertToInteractive('df-f29f38c6-6ffd-4a4e-9e30-5a516345e1ce')\"\n",
              "              title=\"Convert this dataframe to an interactive table.\"\n",
              "              style=\"display:none;\">\n",
              "\n",
              "  <svg xmlns=\"http://www.w3.org/2000/svg\" height=\"24px\"viewBox=\"0 0 24 24\"\n",
              "       width=\"24px\">\n",
              "    <path d=\"M0 0h24v24H0V0z\" fill=\"none\"/>\n",
              "    <path d=\"M18.56 5.44l.94 2.06.94-2.06 2.06-.94-2.06-.94-.94-2.06-.94 2.06-2.06.94zm-11 1L8.5 8.5l.94-2.06 2.06-.94-2.06-.94L8.5 2.5l-.94 2.06-2.06.94zm10 10l.94 2.06.94-2.06 2.06-.94-2.06-.94-.94-2.06-.94 2.06-2.06.94z\"/><path d=\"M17.41 7.96l-1.37-1.37c-.4-.4-.92-.59-1.43-.59-.52 0-1.04.2-1.43.59L10.3 9.45l-7.72 7.72c-.78.78-.78 2.05 0 2.83L4 21.41c.39.39.9.59 1.41.59.51 0 1.02-.2 1.41-.59l7.78-7.78 2.81-2.81c.8-.78.8-2.07 0-2.86zM5.41 20L4 18.59l7.72-7.72 1.47 1.35L5.41 20z\"/>\n",
              "  </svg>\n",
              "      </button>\n",
              "\n",
              "\n",
              "\n",
              "    <div id=\"df-0a44e3e4-e24c-4215-9a7d-2c89aabb530e\">\n",
              "      <button class=\"colab-df-quickchart\" onclick=\"quickchart('df-0a44e3e4-e24c-4215-9a7d-2c89aabb530e')\"\n",
              "              title=\"Suggest charts.\"\n",
              "              style=\"display:none;\">\n",
              "\n",
              "<svg xmlns=\"http://www.w3.org/2000/svg\" height=\"24px\"viewBox=\"0 0 24 24\"\n",
              "     width=\"24px\">\n",
              "    <g>\n",
              "        <path d=\"M19 3H5c-1.1 0-2 .9-2 2v14c0 1.1.9 2 2 2h14c1.1 0 2-.9 2-2V5c0-1.1-.9-2-2-2zM9 17H7v-7h2v7zm4 0h-2V7h2v10zm4 0h-2v-4h2v4z\"/>\n",
              "    </g>\n",
              "</svg>\n",
              "      </button>\n",
              "    </div>\n",
              "\n",
              "<style>\n",
              "  .colab-df-quickchart {\n",
              "    background-color: #E8F0FE;\n",
              "    border: none;\n",
              "    border-radius: 50%;\n",
              "    cursor: pointer;\n",
              "    display: none;\n",
              "    fill: #1967D2;\n",
              "    height: 32px;\n",
              "    padding: 0 0 0 0;\n",
              "    width: 32px;\n",
              "  }\n",
              "\n",
              "  .colab-df-quickchart:hover {\n",
              "    background-color: #E2EBFA;\n",
              "    box-shadow: 0px 1px 2px rgba(60, 64, 67, 0.3), 0px 1px 3px 1px rgba(60, 64, 67, 0.15);\n",
              "    fill: #174EA6;\n",
              "  }\n",
              "\n",
              "  [theme=dark] .colab-df-quickchart {\n",
              "    background-color: #3B4455;\n",
              "    fill: #D2E3FC;\n",
              "  }\n",
              "\n",
              "  [theme=dark] .colab-df-quickchart:hover {\n",
              "    background-color: #434B5C;\n",
              "    box-shadow: 0px 1px 3px 1px rgba(0, 0, 0, 0.15);\n",
              "    filter: drop-shadow(0px 1px 2px rgba(0, 0, 0, 0.3));\n",
              "    fill: #FFFFFF;\n",
              "  }\n",
              "</style>\n",
              "\n",
              "    <script>\n",
              "      async function quickchart(key) {\n",
              "        const containerElement = document.querySelector('#' + key);\n",
              "        const charts = await google.colab.kernel.invokeFunction(\n",
              "            'suggestCharts', [key], {});\n",
              "      }\n",
              "    </script>\n",
              "\n",
              "      <script>\n",
              "\n",
              "function displayQuickchartButton(domScope) {\n",
              "  let quickchartButtonEl =\n",
              "    domScope.querySelector('#df-0a44e3e4-e24c-4215-9a7d-2c89aabb530e button.colab-df-quickchart');\n",
              "  quickchartButtonEl.style.display =\n",
              "    google.colab.kernel.accessAllowed ? 'block' : 'none';\n",
              "}\n",
              "\n",
              "        displayQuickchartButton(document);\n",
              "      </script>\n",
              "      <style>\n",
              "    .colab-df-container {\n",
              "      display:flex;\n",
              "      flex-wrap:wrap;\n",
              "      gap: 12px;\n",
              "    }\n",
              "\n",
              "    .colab-df-convert {\n",
              "      background-color: #E8F0FE;\n",
              "      border: none;\n",
              "      border-radius: 50%;\n",
              "      cursor: pointer;\n",
              "      display: none;\n",
              "      fill: #1967D2;\n",
              "      height: 32px;\n",
              "      padding: 0 0 0 0;\n",
              "      width: 32px;\n",
              "    }\n",
              "\n",
              "    .colab-df-convert:hover {\n",
              "      background-color: #E2EBFA;\n",
              "      box-shadow: 0px 1px 2px rgba(60, 64, 67, 0.3), 0px 1px 3px 1px rgba(60, 64, 67, 0.15);\n",
              "      fill: #174EA6;\n",
              "    }\n",
              "\n",
              "    [theme=dark] .colab-df-convert {\n",
              "      background-color: #3B4455;\n",
              "      fill: #D2E3FC;\n",
              "    }\n",
              "\n",
              "    [theme=dark] .colab-df-convert:hover {\n",
              "      background-color: #434B5C;\n",
              "      box-shadow: 0px 1px 3px 1px rgba(0, 0, 0, 0.15);\n",
              "      filter: drop-shadow(0px 1px 2px rgba(0, 0, 0, 0.3));\n",
              "      fill: #FFFFFF;\n",
              "    }\n",
              "  </style>\n",
              "\n",
              "      <script>\n",
              "        const buttonEl =\n",
              "          document.querySelector('#df-f29f38c6-6ffd-4a4e-9e30-5a516345e1ce button.colab-df-convert');\n",
              "        buttonEl.style.display =\n",
              "          google.colab.kernel.accessAllowed ? 'block' : 'none';\n",
              "\n",
              "        async function convertToInteractive(key) {\n",
              "          const element = document.querySelector('#df-f29f38c6-6ffd-4a4e-9e30-5a516345e1ce');\n",
              "          const dataTable =\n",
              "            await google.colab.kernel.invokeFunction('convertToInteractive',\n",
              "                                                     [key], {});\n",
              "          if (!dataTable) return;\n",
              "\n",
              "          const docLinkHtml = 'Like what you see? Visit the ' +\n",
              "            '<a target=\"_blank\" href=https://colab.research.google.com/notebooks/data_table.ipynb>data table notebook</a>'\n",
              "            + ' to learn more about interactive tables.';\n",
              "          element.innerHTML = '';\n",
              "          dataTable['output_type'] = 'display_data';\n",
              "          await google.colab.output.renderOutput(dataTable, element);\n",
              "          const docLink = document.createElement('div');\n",
              "          docLink.innerHTML = docLinkHtml;\n",
              "          element.appendChild(docLink);\n",
              "        }\n",
              "      </script>\n",
              "    </div>\n",
              "  </div>\n"
            ]
          },
          "metadata": {},
          "execution_count": 9
        }
      ]
    },
    {
      "cell_type": "code",
      "source": [
        " df=df.drop(columns=['customer e-mail','customer name','gender'])"
      ],
      "metadata": {
        "execution": {
          "iopub.status.busy": "2023-07-16T13:19:08.373790Z",
          "iopub.execute_input": "2023-07-16T13:19:08.374846Z",
          "iopub.status.idle": "2023-07-16T13:19:08.380975Z",
          "shell.execute_reply.started": "2023-07-16T13:19:08.374807Z",
          "shell.execute_reply": "2023-07-16T13:19:08.380019Z"
        },
        "trusted": true,
        "id": "5BrwExP4Fg1G"
      },
      "execution_count": 10,
      "outputs": []
    },
    {
      "cell_type": "code",
      "source": [
        "df.head()"
      ],
      "metadata": {
        "execution": {
          "iopub.status.busy": "2023-07-16T13:19:09.144570Z",
          "iopub.execute_input": "2023-07-16T13:19:09.145405Z",
          "iopub.status.idle": "2023-07-16T13:19:09.160628Z",
          "shell.execute_reply.started": "2023-07-16T13:19:09.145366Z",
          "shell.execute_reply": "2023-07-16T13:19:09.159431Z"
        },
        "trusted": true,
        "colab": {
          "base_uri": "https://localhost:8080/",
          "height": 206
        },
        "id": "IIw4pZM_Fg1H",
        "outputId": "228b5b21-2bef-44b5-90b9-d6d85e48fb64"
      },
      "execution_count": 11,
      "outputs": [
        {
          "output_type": "execute_result",
          "data": {
            "text/plain": [
              "        country        age  annual Salary  credit card debt    net worth  \\\n",
              "0      Bulgaria  41.851720    62812.09301      11609.380910  238961.2505   \n",
              "1        Belize  40.870623    66646.89292       9572.957136  530973.9078   \n",
              "2       Algeria  43.152897    53798.55112      11160.355060  638467.1773   \n",
              "3  Cook Islands  58.271369    79370.03798      14426.164850  548599.0524   \n",
              "4        Brazil  57.313749    59729.15130       5358.712177  560304.0671   \n",
              "\n",
              "   car purchase amount  \n",
              "0          35321.45877  \n",
              "1          45115.52566  \n",
              "2          42925.70921  \n",
              "3          67422.36313  \n",
              "4          55915.46248  "
            ],
            "text/html": [
              "\n",
              "\n",
              "  <div id=\"df-0d9e3023-f964-4af3-af0e-1b84bf2c4326\">\n",
              "    <div class=\"colab-df-container\">\n",
              "      <div>\n",
              "<style scoped>\n",
              "    .dataframe tbody tr th:only-of-type {\n",
              "        vertical-align: middle;\n",
              "    }\n",
              "\n",
              "    .dataframe tbody tr th {\n",
              "        vertical-align: top;\n",
              "    }\n",
              "\n",
              "    .dataframe thead th {\n",
              "        text-align: right;\n",
              "    }\n",
              "</style>\n",
              "<table border=\"1\" class=\"dataframe\">\n",
              "  <thead>\n",
              "    <tr style=\"text-align: right;\">\n",
              "      <th></th>\n",
              "      <th>country</th>\n",
              "      <th>age</th>\n",
              "      <th>annual Salary</th>\n",
              "      <th>credit card debt</th>\n",
              "      <th>net worth</th>\n",
              "      <th>car purchase amount</th>\n",
              "    </tr>\n",
              "  </thead>\n",
              "  <tbody>\n",
              "    <tr>\n",
              "      <th>0</th>\n",
              "      <td>Bulgaria</td>\n",
              "      <td>41.851720</td>\n",
              "      <td>62812.09301</td>\n",
              "      <td>11609.380910</td>\n",
              "      <td>238961.2505</td>\n",
              "      <td>35321.45877</td>\n",
              "    </tr>\n",
              "    <tr>\n",
              "      <th>1</th>\n",
              "      <td>Belize</td>\n",
              "      <td>40.870623</td>\n",
              "      <td>66646.89292</td>\n",
              "      <td>9572.957136</td>\n",
              "      <td>530973.9078</td>\n",
              "      <td>45115.52566</td>\n",
              "    </tr>\n",
              "    <tr>\n",
              "      <th>2</th>\n",
              "      <td>Algeria</td>\n",
              "      <td>43.152897</td>\n",
              "      <td>53798.55112</td>\n",
              "      <td>11160.355060</td>\n",
              "      <td>638467.1773</td>\n",
              "      <td>42925.70921</td>\n",
              "    </tr>\n",
              "    <tr>\n",
              "      <th>3</th>\n",
              "      <td>Cook Islands</td>\n",
              "      <td>58.271369</td>\n",
              "      <td>79370.03798</td>\n",
              "      <td>14426.164850</td>\n",
              "      <td>548599.0524</td>\n",
              "      <td>67422.36313</td>\n",
              "    </tr>\n",
              "    <tr>\n",
              "      <th>4</th>\n",
              "      <td>Brazil</td>\n",
              "      <td>57.313749</td>\n",
              "      <td>59729.15130</td>\n",
              "      <td>5358.712177</td>\n",
              "      <td>560304.0671</td>\n",
              "      <td>55915.46248</td>\n",
              "    </tr>\n",
              "  </tbody>\n",
              "</table>\n",
              "</div>\n",
              "      <button class=\"colab-df-convert\" onclick=\"convertToInteractive('df-0d9e3023-f964-4af3-af0e-1b84bf2c4326')\"\n",
              "              title=\"Convert this dataframe to an interactive table.\"\n",
              "              style=\"display:none;\">\n",
              "\n",
              "  <svg xmlns=\"http://www.w3.org/2000/svg\" height=\"24px\"viewBox=\"0 0 24 24\"\n",
              "       width=\"24px\">\n",
              "    <path d=\"M0 0h24v24H0V0z\" fill=\"none\"/>\n",
              "    <path d=\"M18.56 5.44l.94 2.06.94-2.06 2.06-.94-2.06-.94-.94-2.06-.94 2.06-2.06.94zm-11 1L8.5 8.5l.94-2.06 2.06-.94-2.06-.94L8.5 2.5l-.94 2.06-2.06.94zm10 10l.94 2.06.94-2.06 2.06-.94-2.06-.94-.94-2.06-.94 2.06-2.06.94z\"/><path d=\"M17.41 7.96l-1.37-1.37c-.4-.4-.92-.59-1.43-.59-.52 0-1.04.2-1.43.59L10.3 9.45l-7.72 7.72c-.78.78-.78 2.05 0 2.83L4 21.41c.39.39.9.59 1.41.59.51 0 1.02-.2 1.41-.59l7.78-7.78 2.81-2.81c.8-.78.8-2.07 0-2.86zM5.41 20L4 18.59l7.72-7.72 1.47 1.35L5.41 20z\"/>\n",
              "  </svg>\n",
              "      </button>\n",
              "\n",
              "\n",
              "\n",
              "    <div id=\"df-40730959-f445-444b-a2b7-dd1cf1885735\">\n",
              "      <button class=\"colab-df-quickchart\" onclick=\"quickchart('df-40730959-f445-444b-a2b7-dd1cf1885735')\"\n",
              "              title=\"Suggest charts.\"\n",
              "              style=\"display:none;\">\n",
              "\n",
              "<svg xmlns=\"http://www.w3.org/2000/svg\" height=\"24px\"viewBox=\"0 0 24 24\"\n",
              "     width=\"24px\">\n",
              "    <g>\n",
              "        <path d=\"M19 3H5c-1.1 0-2 .9-2 2v14c0 1.1.9 2 2 2h14c1.1 0 2-.9 2-2V5c0-1.1-.9-2-2-2zM9 17H7v-7h2v7zm4 0h-2V7h2v10zm4 0h-2v-4h2v4z\"/>\n",
              "    </g>\n",
              "</svg>\n",
              "      </button>\n",
              "    </div>\n",
              "\n",
              "<style>\n",
              "  .colab-df-quickchart {\n",
              "    background-color: #E8F0FE;\n",
              "    border: none;\n",
              "    border-radius: 50%;\n",
              "    cursor: pointer;\n",
              "    display: none;\n",
              "    fill: #1967D2;\n",
              "    height: 32px;\n",
              "    padding: 0 0 0 0;\n",
              "    width: 32px;\n",
              "  }\n",
              "\n",
              "  .colab-df-quickchart:hover {\n",
              "    background-color: #E2EBFA;\n",
              "    box-shadow: 0px 1px 2px rgba(60, 64, 67, 0.3), 0px 1px 3px 1px rgba(60, 64, 67, 0.15);\n",
              "    fill: #174EA6;\n",
              "  }\n",
              "\n",
              "  [theme=dark] .colab-df-quickchart {\n",
              "    background-color: #3B4455;\n",
              "    fill: #D2E3FC;\n",
              "  }\n",
              "\n",
              "  [theme=dark] .colab-df-quickchart:hover {\n",
              "    background-color: #434B5C;\n",
              "    box-shadow: 0px 1px 3px 1px rgba(0, 0, 0, 0.15);\n",
              "    filter: drop-shadow(0px 1px 2px rgba(0, 0, 0, 0.3));\n",
              "    fill: #FFFFFF;\n",
              "  }\n",
              "</style>\n",
              "\n",
              "    <script>\n",
              "      async function quickchart(key) {\n",
              "        const containerElement = document.querySelector('#' + key);\n",
              "        const charts = await google.colab.kernel.invokeFunction(\n",
              "            'suggestCharts', [key], {});\n",
              "      }\n",
              "    </script>\n",
              "\n",
              "      <script>\n",
              "\n",
              "function displayQuickchartButton(domScope) {\n",
              "  let quickchartButtonEl =\n",
              "    domScope.querySelector('#df-40730959-f445-444b-a2b7-dd1cf1885735 button.colab-df-quickchart');\n",
              "  quickchartButtonEl.style.display =\n",
              "    google.colab.kernel.accessAllowed ? 'block' : 'none';\n",
              "}\n",
              "\n",
              "        displayQuickchartButton(document);\n",
              "      </script>\n",
              "      <style>\n",
              "    .colab-df-container {\n",
              "      display:flex;\n",
              "      flex-wrap:wrap;\n",
              "      gap: 12px;\n",
              "    }\n",
              "\n",
              "    .colab-df-convert {\n",
              "      background-color: #E8F0FE;\n",
              "      border: none;\n",
              "      border-radius: 50%;\n",
              "      cursor: pointer;\n",
              "      display: none;\n",
              "      fill: #1967D2;\n",
              "      height: 32px;\n",
              "      padding: 0 0 0 0;\n",
              "      width: 32px;\n",
              "    }\n",
              "\n",
              "    .colab-df-convert:hover {\n",
              "      background-color: #E2EBFA;\n",
              "      box-shadow: 0px 1px 2px rgba(60, 64, 67, 0.3), 0px 1px 3px 1px rgba(60, 64, 67, 0.15);\n",
              "      fill: #174EA6;\n",
              "    }\n",
              "\n",
              "    [theme=dark] .colab-df-convert {\n",
              "      background-color: #3B4455;\n",
              "      fill: #D2E3FC;\n",
              "    }\n",
              "\n",
              "    [theme=dark] .colab-df-convert:hover {\n",
              "      background-color: #434B5C;\n",
              "      box-shadow: 0px 1px 3px 1px rgba(0, 0, 0, 0.15);\n",
              "      filter: drop-shadow(0px 1px 2px rgba(0, 0, 0, 0.3));\n",
              "      fill: #FFFFFF;\n",
              "    }\n",
              "  </style>\n",
              "\n",
              "      <script>\n",
              "        const buttonEl =\n",
              "          document.querySelector('#df-0d9e3023-f964-4af3-af0e-1b84bf2c4326 button.colab-df-convert');\n",
              "        buttonEl.style.display =\n",
              "          google.colab.kernel.accessAllowed ? 'block' : 'none';\n",
              "\n",
              "        async function convertToInteractive(key) {\n",
              "          const element = document.querySelector('#df-0d9e3023-f964-4af3-af0e-1b84bf2c4326');\n",
              "          const dataTable =\n",
              "            await google.colab.kernel.invokeFunction('convertToInteractive',\n",
              "                                                     [key], {});\n",
              "          if (!dataTable) return;\n",
              "\n",
              "          const docLinkHtml = 'Like what you see? Visit the ' +\n",
              "            '<a target=\"_blank\" href=https://colab.research.google.com/notebooks/data_table.ipynb>data table notebook</a>'\n",
              "            + ' to learn more about interactive tables.';\n",
              "          element.innerHTML = '';\n",
              "          dataTable['output_type'] = 'display_data';\n",
              "          await google.colab.output.renderOutput(dataTable, element);\n",
              "          const docLink = document.createElement('div');\n",
              "          docLink.innerHTML = docLinkHtml;\n",
              "          element.appendChild(docLink);\n",
              "        }\n",
              "      </script>\n",
              "    </div>\n",
              "  </div>\n"
            ]
          },
          "metadata": {},
          "execution_count": 11
        }
      ]
    },
    {
      "cell_type": "code",
      "source": [
        "df.shape"
      ],
      "metadata": {
        "execution": {
          "iopub.status.busy": "2023-07-16T13:19:10.325261Z",
          "iopub.execute_input": "2023-07-16T13:19:10.325762Z",
          "iopub.status.idle": "2023-07-16T13:19:10.334011Z",
          "shell.execute_reply.started": "2023-07-16T13:19:10.325718Z",
          "shell.execute_reply": "2023-07-16T13:19:10.332751Z"
        },
        "trusted": true,
        "colab": {
          "base_uri": "https://localhost:8080/"
        },
        "id": "rxVbg35NFg1I",
        "outputId": "fc604bd6-474e-462b-a994-d7f2c25387d7"
      },
      "execution_count": 12,
      "outputs": [
        {
          "output_type": "execute_result",
          "data": {
            "text/plain": [
              "(500, 6)"
            ]
          },
          "metadata": {},
          "execution_count": 12
        }
      ]
    },
    {
      "cell_type": "code",
      "source": [
        "df.isnull().sum()"
      ],
      "metadata": {
        "execution": {
          "iopub.status.busy": "2023-07-16T13:19:11.171553Z",
          "iopub.execute_input": "2023-07-16T13:19:11.172038Z",
          "iopub.status.idle": "2023-07-16T13:19:11.182269Z",
          "shell.execute_reply.started": "2023-07-16T13:19:11.172001Z",
          "shell.execute_reply": "2023-07-16T13:19:11.180954Z"
        },
        "trusted": true,
        "colab": {
          "base_uri": "https://localhost:8080/"
        },
        "id": "oeoV55R-Fg1J",
        "outputId": "dbe17af1-1f28-4564-8ad7-9928e330f1c7"
      },
      "execution_count": 13,
      "outputs": [
        {
          "output_type": "execute_result",
          "data": {
            "text/plain": [
              "country                0\n",
              "age                    0\n",
              "annual Salary          0\n",
              "credit card debt       0\n",
              "net worth              0\n",
              "car purchase amount    0\n",
              "dtype: int64"
            ]
          },
          "metadata": {},
          "execution_count": 13
        }
      ]
    },
    {
      "cell_type": "code",
      "source": [
        "df['country'].unique()"
      ],
      "metadata": {
        "execution": {
          "iopub.status.busy": "2023-07-16T13:19:13.355760Z",
          "iopub.execute_input": "2023-07-16T13:19:13.356242Z",
          "iopub.status.idle": "2023-07-16T13:19:13.366890Z",
          "shell.execute_reply.started": "2023-07-16T13:19:13.356205Z",
          "shell.execute_reply": "2023-07-16T13:19:13.365677Z"
        },
        "trusted": true,
        "colab": {
          "base_uri": "https://localhost:8080/"
        },
        "id": "8VMG1An2Fg1J",
        "outputId": "f55ec68d-f59d-46fa-b177-6e434ae50894"
      },
      "execution_count": 14,
      "outputs": [
        {
          "output_type": "execute_result",
          "data": {
            "text/plain": [
              "array(['Bulgaria', 'Belize', 'Algeria', 'Cook Islands', 'Brazil',\n",
              "       'Liberia', 'Syria', 'Czech Republic', 'Armenia', 'Somalia',\n",
              "       'Sint Maarten', 'Greenland', 'Nicaragua', 'Palestine, State of',\n",
              "       'United Arab Emirates', 'Gabon', 'Tokelau', 'Portugal', 'Chad',\n",
              "       'Iraq', 'Sudan', 'Angola', 'Nigeria', 'Madagascar', 'Macedonia',\n",
              "       'Oman', 'Colombia', 'Namibia', 'Denmark', 'Dominican Republic',\n",
              "       'Costa Rica', 'Botswana', 'Saint Pierre and Miquelon', 'France',\n",
              "       'Senegal', 'Cambodia', 'Suriname', 'Turkey', 'Ethiopia',\n",
              "       'French Guiana', 'Bhutan', 'Georgia', 'Mozambique', 'Nauru',\n",
              "       'Timor-Leste', 'Djibouti', 'Argentina', 'Taiwan', 'Åland Islands',\n",
              "       'Turks and Caicos Islands', 'Samoa', 'Vanuatu', 'Mongolia',\n",
              "       'Sri Lanka', 'Guinea-Bissau', 'Egypt', 'Slovenia', 'Benin',\n",
              "       'Cape Verde', 'Paraguay', 'Laos', 'Iceland', 'Viet Nam',\n",
              "       'Marshall Islands', 'Germany', 'Kyrgyzstan', 'Mauritius', 'Gambia',\n",
              "       'Reunion', 'Jordan', 'Slovakia', 'Kiribati',\n",
              "       'United States Minor Outlying Islands', 'Puerto Rico', 'Guinea',\n",
              "       'Guam', 'China', 'Sierra Leone', 'Ecuador', 'Anguilla',\n",
              "       'Kazakhstan', 'Jersey', 'Macao', 'Indonesia', 'Palau', 'Ghana',\n",
              "       'Cameroon', 'Myanmar', 'Central African Republic', 'Bolivia',\n",
              "       'Tuvalu', 'Qatar', 'Venezuela', 'Togo', 'Nepal', 'Saudi Arabia',\n",
              "       'San Marino', 'Saint Lucia', 'Solomon Islands', 'Andorra',\n",
              "       'Falkland Islands', 'Japan', 'Israel', 'Christmas Island',\n",
              "       'Liechtenstein', 'Mayotte', 'Saint Kitts and Nevis', 'Maldives',\n",
              "       'Aruba', 'Lebanon', 'Monaco', 'Martinique', 'Guadeloupe',\n",
              "       'Equatorial Guinea', 'South Africa', 'Wallis and Futuna',\n",
              "       'Tunisia', 'Pakistan', 'Bahrain', 'Serbia', 'Peru', 'Austria',\n",
              "       'Lithuania', 'Curaçao', 'Zimbabwe', 'Uganda', 'Kenya', 'Kuwait',\n",
              "       'Greece', 'Bouvet Island', 'Thailand', 'Bahamas', 'Latvia',\n",
              "       'Hong Kong', 'French Polynesia', 'Yemen',\n",
              "       'Heard Island and Mcdonald Islands', 'Virgin Islands, British',\n",
              "       'Singapore', 'Cocos (Keeling) Islands', 'Saint Martin',\n",
              "       'Northern Mariana Islands', 'Croatia', 'Malta', 'Mauritania',\n",
              "       'Guyana', 'Haiti', 'Faroe Islands', 'Saint Barthélemy', 'Poland',\n",
              "       'Congo (Brazzaville)', 'Guernsey', 'Sao Tome and Principe',\n",
              "       'Grenada', 'United States', 'Virgin Islands, United States',\n",
              "       'Bermuda', 'Norfolk Island', 'Italy', 'Bangladesh', 'Philippines',\n",
              "       'French Southern Territories', 'Jamaica', 'Belarus',\n",
              "       'Turkmenistan', 'Guatemala', 'Saint Vincent and The Grenadines',\n",
              "       'Tonga', 'Papua New Guinea', 'Canada',\n",
              "       'Bonaire, Sint Eustatius and Saba', 'El Salvador', 'Isle of Man',\n",
              "       'Bosnia and Herzegovina', 'India', 'Trinidad and Tobago',\n",
              "       'Moldova', 'Tanzania', 'Niue', 'Rwanda', 'Morocco',\n",
              "       'Western Sahara', 'Micronesia', 'American Samoa',\n",
              "       'United Kingdom (Great Britain)', 'Seychelles', 'Switzerland',\n",
              "       'Chile', 'Uruguay', 'South Georgia and The South Sandwich Islands',\n",
              "       'Afghanistan', 'Belgium', 'Antarctica', 'Korea, South',\n",
              "       'Cayman Islands', 'Honduras', 'Mexico', 'Australia', 'Montenegro',\n",
              "       'Luxembourg', 'Hungary', 'Niger', 'New Caledonia', 'Mali',\n",
              "       'Malawi', 'South Sudan', 'Ukraine', 'New Zealand',\n",
              "       'Saint Helena, Ascension and Tristan da Cunha', 'Malaysia',\n",
              "       'marlal'], dtype=object)"
            ]
          },
          "metadata": {},
          "execution_count": 14
        }
      ]
    },
    {
      "cell_type": "code",
      "source": [
        "len(df['country'].unique())"
      ],
      "metadata": {
        "execution": {
          "iopub.status.busy": "2023-07-16T13:19:13.880267Z",
          "iopub.execute_input": "2023-07-16T13:19:13.880830Z",
          "iopub.status.idle": "2023-07-16T13:19:13.890473Z",
          "shell.execute_reply.started": "2023-07-16T13:19:13.880791Z",
          "shell.execute_reply": "2023-07-16T13:19:13.889355Z"
        },
        "trusted": true,
        "colab": {
          "base_uri": "https://localhost:8080/"
        },
        "id": "h1kEVRYQFg1K",
        "outputId": "8f021ee9-8455-4f7d-b3ac-ecc9e2b4fd44"
      },
      "execution_count": 15,
      "outputs": [
        {
          "output_type": "execute_result",
          "data": {
            "text/plain": [
              "211"
            ]
          },
          "metadata": {},
          "execution_count": 15
        }
      ]
    },
    {
      "cell_type": "code",
      "source": [
        "df.corr()['car purchase amount']"
      ],
      "metadata": {
        "execution": {
          "iopub.status.busy": "2023-07-16T13:19:14.667587Z",
          "iopub.execute_input": "2023-07-16T13:19:14.669064Z",
          "iopub.status.idle": "2023-07-16T13:19:14.679390Z",
          "shell.execute_reply.started": "2023-07-16T13:19:14.669019Z",
          "shell.execute_reply": "2023-07-16T13:19:14.678296Z"
        },
        "trusted": true,
        "colab": {
          "base_uri": "https://localhost:8080/"
        },
        "id": "kS09IROmFg1L",
        "outputId": "cd7b3581-edee-48f1-bee0-73be396bd1bf"
      },
      "execution_count": 16,
      "outputs": [
        {
          "output_type": "stream",
          "name": "stderr",
          "text": [
            "<ipython-input-16-a16a8ff680c0>:1: FutureWarning: The default value of numeric_only in DataFrame.corr is deprecated. In a future version, it will default to False. Select only valid columns or specify the value of numeric_only to silence this warning.\n",
            "  df.corr()['car purchase amount']\n"
          ]
        },
        {
          "output_type": "execute_result",
          "data": {
            "text/plain": [
              "age                    0.632865\n",
              "annual Salary          0.617862\n",
              "credit card debt       0.028882\n",
              "net worth              0.488580\n",
              "car purchase amount    1.000000\n",
              "Name: car purchase amount, dtype: float64"
            ]
          },
          "metadata": {},
          "execution_count": 16
        }
      ]
    },
    {
      "cell_type": "code",
      "source": [
        "c_dumpy=pd.get_dummies(df['country'],drop_first=True)"
      ],
      "metadata": {
        "execution": {
          "iopub.status.busy": "2023-07-16T13:19:17.920486Z",
          "iopub.execute_input": "2023-07-16T13:19:17.920930Z",
          "iopub.status.idle": "2023-07-16T13:19:17.929129Z",
          "shell.execute_reply.started": "2023-07-16T13:19:17.920897Z",
          "shell.execute_reply": "2023-07-16T13:19:17.927697Z"
        },
        "trusted": true,
        "id": "VotIoTzGFg1L"
      },
      "execution_count": 17,
      "outputs": []
    },
    {
      "cell_type": "code",
      "source": [
        "df_dummies=pd.concat([df,c_dumpy],axis=1)"
      ],
      "metadata": {
        "execution": {
          "iopub.status.busy": "2023-07-16T13:19:19.738977Z",
          "iopub.execute_input": "2023-07-16T13:19:19.739448Z",
          "iopub.status.idle": "2023-07-16T13:19:19.746966Z",
          "shell.execute_reply.started": "2023-07-16T13:19:19.739397Z",
          "shell.execute_reply": "2023-07-16T13:19:19.745379Z"
        },
        "trusted": true,
        "id": "fiSQHPEdFg1M"
      },
      "execution_count": 18,
      "outputs": []
    },
    {
      "cell_type": "code",
      "source": [
        "df_dummies=df_dummies.drop(columns='country')"
      ],
      "metadata": {
        "execution": {
          "iopub.status.busy": "2023-07-16T13:19:21.398237Z",
          "iopub.execute_input": "2023-07-16T13:19:21.398750Z",
          "iopub.status.idle": "2023-07-16T13:19:21.407978Z",
          "shell.execute_reply.started": "2023-07-16T13:19:21.398713Z",
          "shell.execute_reply": "2023-07-16T13:19:21.406319Z"
        },
        "trusted": true,
        "id": "P77icCSKFg1M"
      },
      "execution_count": 19,
      "outputs": []
    },
    {
      "cell_type": "code",
      "source": [
        "df_dummies.head()"
      ],
      "metadata": {
        "execution": {
          "iopub.status.busy": "2023-07-16T13:19:23.748243Z",
          "iopub.execute_input": "2023-07-16T13:19:23.749296Z",
          "iopub.status.idle": "2023-07-16T13:19:23.774878Z",
          "shell.execute_reply.started": "2023-07-16T13:19:23.749239Z",
          "shell.execute_reply": "2023-07-16T13:19:23.773151Z"
        },
        "trusted": true,
        "colab": {
          "base_uri": "https://localhost:8080/",
          "height": 351
        },
        "id": "XPIhudMqFg1N",
        "outputId": "dc002151-5308-455f-ce66-81969bfc1bec"
      },
      "execution_count": 20,
      "outputs": [
        {
          "output_type": "execute_result",
          "data": {
            "text/plain": [
              "         age  annual Salary  credit card debt    net worth  \\\n",
              "0  41.851720    62812.09301      11609.380910  238961.2505   \n",
              "1  40.870623    66646.89292       9572.957136  530973.9078   \n",
              "2  43.152897    53798.55112      11160.355060  638467.1773   \n",
              "3  58.271369    79370.03798      14426.164850  548599.0524   \n",
              "4  57.313749    59729.15130       5358.712177  560304.0671   \n",
              "\n",
              "   car purchase amount  Algeria  American Samoa  Andorra  Angola  Anguilla  \\\n",
              "0          35321.45877        0               0        0       0         0   \n",
              "1          45115.52566        0               0        0       0         0   \n",
              "2          42925.70921        1               0        0       0         0   \n",
              "3          67422.36313        0               0        0       0         0   \n",
              "4          55915.46248        0               0        0       0         0   \n",
              "\n",
              "   ...  Venezuela  Viet Nam  Virgin Islands, British  \\\n",
              "0  ...          0         0                        0   \n",
              "1  ...          0         0                        0   \n",
              "2  ...          0         0                        0   \n",
              "3  ...          0         0                        0   \n",
              "4  ...          0         0                        0   \n",
              "\n",
              "   Virgin Islands, United States  Wallis and Futuna  Western Sahara  Yemen  \\\n",
              "0                              0                  0               0      0   \n",
              "1                              0                  0               0      0   \n",
              "2                              0                  0               0      0   \n",
              "3                              0                  0               0      0   \n",
              "4                              0                  0               0      0   \n",
              "\n",
              "   Zimbabwe  marlal  Åland Islands  \n",
              "0         0       0              0  \n",
              "1         0       0              0  \n",
              "2         0       0              0  \n",
              "3         0       0              0  \n",
              "4         0       0              0  \n",
              "\n",
              "[5 rows x 215 columns]"
            ],
            "text/html": [
              "\n",
              "\n",
              "  <div id=\"df-afae5635-aab2-4d6f-a32a-aa1a2855c78c\">\n",
              "    <div class=\"colab-df-container\">\n",
              "      <div>\n",
              "<style scoped>\n",
              "    .dataframe tbody tr th:only-of-type {\n",
              "        vertical-align: middle;\n",
              "    }\n",
              "\n",
              "    .dataframe tbody tr th {\n",
              "        vertical-align: top;\n",
              "    }\n",
              "\n",
              "    .dataframe thead th {\n",
              "        text-align: right;\n",
              "    }\n",
              "</style>\n",
              "<table border=\"1\" class=\"dataframe\">\n",
              "  <thead>\n",
              "    <tr style=\"text-align: right;\">\n",
              "      <th></th>\n",
              "      <th>age</th>\n",
              "      <th>annual Salary</th>\n",
              "      <th>credit card debt</th>\n",
              "      <th>net worth</th>\n",
              "      <th>car purchase amount</th>\n",
              "      <th>Algeria</th>\n",
              "      <th>American Samoa</th>\n",
              "      <th>Andorra</th>\n",
              "      <th>Angola</th>\n",
              "      <th>Anguilla</th>\n",
              "      <th>...</th>\n",
              "      <th>Venezuela</th>\n",
              "      <th>Viet Nam</th>\n",
              "      <th>Virgin Islands, British</th>\n",
              "      <th>Virgin Islands, United States</th>\n",
              "      <th>Wallis and Futuna</th>\n",
              "      <th>Western Sahara</th>\n",
              "      <th>Yemen</th>\n",
              "      <th>Zimbabwe</th>\n",
              "      <th>marlal</th>\n",
              "      <th>Åland Islands</th>\n",
              "    </tr>\n",
              "  </thead>\n",
              "  <tbody>\n",
              "    <tr>\n",
              "      <th>0</th>\n",
              "      <td>41.851720</td>\n",
              "      <td>62812.09301</td>\n",
              "      <td>11609.380910</td>\n",
              "      <td>238961.2505</td>\n",
              "      <td>35321.45877</td>\n",
              "      <td>0</td>\n",
              "      <td>0</td>\n",
              "      <td>0</td>\n",
              "      <td>0</td>\n",
              "      <td>0</td>\n",
              "      <td>...</td>\n",
              "      <td>0</td>\n",
              "      <td>0</td>\n",
              "      <td>0</td>\n",
              "      <td>0</td>\n",
              "      <td>0</td>\n",
              "      <td>0</td>\n",
              "      <td>0</td>\n",
              "      <td>0</td>\n",
              "      <td>0</td>\n",
              "      <td>0</td>\n",
              "    </tr>\n",
              "    <tr>\n",
              "      <th>1</th>\n",
              "      <td>40.870623</td>\n",
              "      <td>66646.89292</td>\n",
              "      <td>9572.957136</td>\n",
              "      <td>530973.9078</td>\n",
              "      <td>45115.52566</td>\n",
              "      <td>0</td>\n",
              "      <td>0</td>\n",
              "      <td>0</td>\n",
              "      <td>0</td>\n",
              "      <td>0</td>\n",
              "      <td>...</td>\n",
              "      <td>0</td>\n",
              "      <td>0</td>\n",
              "      <td>0</td>\n",
              "      <td>0</td>\n",
              "      <td>0</td>\n",
              "      <td>0</td>\n",
              "      <td>0</td>\n",
              "      <td>0</td>\n",
              "      <td>0</td>\n",
              "      <td>0</td>\n",
              "    </tr>\n",
              "    <tr>\n",
              "      <th>2</th>\n",
              "      <td>43.152897</td>\n",
              "      <td>53798.55112</td>\n",
              "      <td>11160.355060</td>\n",
              "      <td>638467.1773</td>\n",
              "      <td>42925.70921</td>\n",
              "      <td>1</td>\n",
              "      <td>0</td>\n",
              "      <td>0</td>\n",
              "      <td>0</td>\n",
              "      <td>0</td>\n",
              "      <td>...</td>\n",
              "      <td>0</td>\n",
              "      <td>0</td>\n",
              "      <td>0</td>\n",
              "      <td>0</td>\n",
              "      <td>0</td>\n",
              "      <td>0</td>\n",
              "      <td>0</td>\n",
              "      <td>0</td>\n",
              "      <td>0</td>\n",
              "      <td>0</td>\n",
              "    </tr>\n",
              "    <tr>\n",
              "      <th>3</th>\n",
              "      <td>58.271369</td>\n",
              "      <td>79370.03798</td>\n",
              "      <td>14426.164850</td>\n",
              "      <td>548599.0524</td>\n",
              "      <td>67422.36313</td>\n",
              "      <td>0</td>\n",
              "      <td>0</td>\n",
              "      <td>0</td>\n",
              "      <td>0</td>\n",
              "      <td>0</td>\n",
              "      <td>...</td>\n",
              "      <td>0</td>\n",
              "      <td>0</td>\n",
              "      <td>0</td>\n",
              "      <td>0</td>\n",
              "      <td>0</td>\n",
              "      <td>0</td>\n",
              "      <td>0</td>\n",
              "      <td>0</td>\n",
              "      <td>0</td>\n",
              "      <td>0</td>\n",
              "    </tr>\n",
              "    <tr>\n",
              "      <th>4</th>\n",
              "      <td>57.313749</td>\n",
              "      <td>59729.15130</td>\n",
              "      <td>5358.712177</td>\n",
              "      <td>560304.0671</td>\n",
              "      <td>55915.46248</td>\n",
              "      <td>0</td>\n",
              "      <td>0</td>\n",
              "      <td>0</td>\n",
              "      <td>0</td>\n",
              "      <td>0</td>\n",
              "      <td>...</td>\n",
              "      <td>0</td>\n",
              "      <td>0</td>\n",
              "      <td>0</td>\n",
              "      <td>0</td>\n",
              "      <td>0</td>\n",
              "      <td>0</td>\n",
              "      <td>0</td>\n",
              "      <td>0</td>\n",
              "      <td>0</td>\n",
              "      <td>0</td>\n",
              "    </tr>\n",
              "  </tbody>\n",
              "</table>\n",
              "<p>5 rows × 215 columns</p>\n",
              "</div>\n",
              "      <button class=\"colab-df-convert\" onclick=\"convertToInteractive('df-afae5635-aab2-4d6f-a32a-aa1a2855c78c')\"\n",
              "              title=\"Convert this dataframe to an interactive table.\"\n",
              "              style=\"display:none;\">\n",
              "\n",
              "  <svg xmlns=\"http://www.w3.org/2000/svg\" height=\"24px\"viewBox=\"0 0 24 24\"\n",
              "       width=\"24px\">\n",
              "    <path d=\"M0 0h24v24H0V0z\" fill=\"none\"/>\n",
              "    <path d=\"M18.56 5.44l.94 2.06.94-2.06 2.06-.94-2.06-.94-.94-2.06-.94 2.06-2.06.94zm-11 1L8.5 8.5l.94-2.06 2.06-.94-2.06-.94L8.5 2.5l-.94 2.06-2.06.94zm10 10l.94 2.06.94-2.06 2.06-.94-2.06-.94-.94-2.06-.94 2.06-2.06.94z\"/><path d=\"M17.41 7.96l-1.37-1.37c-.4-.4-.92-.59-1.43-.59-.52 0-1.04.2-1.43.59L10.3 9.45l-7.72 7.72c-.78.78-.78 2.05 0 2.83L4 21.41c.39.39.9.59 1.41.59.51 0 1.02-.2 1.41-.59l7.78-7.78 2.81-2.81c.8-.78.8-2.07 0-2.86zM5.41 20L4 18.59l7.72-7.72 1.47 1.35L5.41 20z\"/>\n",
              "  </svg>\n",
              "      </button>\n",
              "\n",
              "\n",
              "\n",
              "    <div id=\"df-b56652a7-2948-4149-852c-22e5e4e5d537\">\n",
              "      <button class=\"colab-df-quickchart\" onclick=\"quickchart('df-b56652a7-2948-4149-852c-22e5e4e5d537')\"\n",
              "              title=\"Suggest charts.\"\n",
              "              style=\"display:none;\">\n",
              "\n",
              "<svg xmlns=\"http://www.w3.org/2000/svg\" height=\"24px\"viewBox=\"0 0 24 24\"\n",
              "     width=\"24px\">\n",
              "    <g>\n",
              "        <path d=\"M19 3H5c-1.1 0-2 .9-2 2v14c0 1.1.9 2 2 2h14c1.1 0 2-.9 2-2V5c0-1.1-.9-2-2-2zM9 17H7v-7h2v7zm4 0h-2V7h2v10zm4 0h-2v-4h2v4z\"/>\n",
              "    </g>\n",
              "</svg>\n",
              "      </button>\n",
              "    </div>\n",
              "\n",
              "<style>\n",
              "  .colab-df-quickchart {\n",
              "    background-color: #E8F0FE;\n",
              "    border: none;\n",
              "    border-radius: 50%;\n",
              "    cursor: pointer;\n",
              "    display: none;\n",
              "    fill: #1967D2;\n",
              "    height: 32px;\n",
              "    padding: 0 0 0 0;\n",
              "    width: 32px;\n",
              "  }\n",
              "\n",
              "  .colab-df-quickchart:hover {\n",
              "    background-color: #E2EBFA;\n",
              "    box-shadow: 0px 1px 2px rgba(60, 64, 67, 0.3), 0px 1px 3px 1px rgba(60, 64, 67, 0.15);\n",
              "    fill: #174EA6;\n",
              "  }\n",
              "\n",
              "  [theme=dark] .colab-df-quickchart {\n",
              "    background-color: #3B4455;\n",
              "    fill: #D2E3FC;\n",
              "  }\n",
              "\n",
              "  [theme=dark] .colab-df-quickchart:hover {\n",
              "    background-color: #434B5C;\n",
              "    box-shadow: 0px 1px 3px 1px rgba(0, 0, 0, 0.15);\n",
              "    filter: drop-shadow(0px 1px 2px rgba(0, 0, 0, 0.3));\n",
              "    fill: #FFFFFF;\n",
              "  }\n",
              "</style>\n",
              "\n",
              "    <script>\n",
              "      async function quickchart(key) {\n",
              "        const containerElement = document.querySelector('#' + key);\n",
              "        const charts = await google.colab.kernel.invokeFunction(\n",
              "            'suggestCharts', [key], {});\n",
              "      }\n",
              "    </script>\n",
              "\n",
              "      <script>\n",
              "\n",
              "function displayQuickchartButton(domScope) {\n",
              "  let quickchartButtonEl =\n",
              "    domScope.querySelector('#df-b56652a7-2948-4149-852c-22e5e4e5d537 button.colab-df-quickchart');\n",
              "  quickchartButtonEl.style.display =\n",
              "    google.colab.kernel.accessAllowed ? 'block' : 'none';\n",
              "}\n",
              "\n",
              "        displayQuickchartButton(document);\n",
              "      </script>\n",
              "      <style>\n",
              "    .colab-df-container {\n",
              "      display:flex;\n",
              "      flex-wrap:wrap;\n",
              "      gap: 12px;\n",
              "    }\n",
              "\n",
              "    .colab-df-convert {\n",
              "      background-color: #E8F0FE;\n",
              "      border: none;\n",
              "      border-radius: 50%;\n",
              "      cursor: pointer;\n",
              "      display: none;\n",
              "      fill: #1967D2;\n",
              "      height: 32px;\n",
              "      padding: 0 0 0 0;\n",
              "      width: 32px;\n",
              "    }\n",
              "\n",
              "    .colab-df-convert:hover {\n",
              "      background-color: #E2EBFA;\n",
              "      box-shadow: 0px 1px 2px rgba(60, 64, 67, 0.3), 0px 1px 3px 1px rgba(60, 64, 67, 0.15);\n",
              "      fill: #174EA6;\n",
              "    }\n",
              "\n",
              "    [theme=dark] .colab-df-convert {\n",
              "      background-color: #3B4455;\n",
              "      fill: #D2E3FC;\n",
              "    }\n",
              "\n",
              "    [theme=dark] .colab-df-convert:hover {\n",
              "      background-color: #434B5C;\n",
              "      box-shadow: 0px 1px 3px 1px rgba(0, 0, 0, 0.15);\n",
              "      filter: drop-shadow(0px 1px 2px rgba(0, 0, 0, 0.3));\n",
              "      fill: #FFFFFF;\n",
              "    }\n",
              "  </style>\n",
              "\n",
              "      <script>\n",
              "        const buttonEl =\n",
              "          document.querySelector('#df-afae5635-aab2-4d6f-a32a-aa1a2855c78c button.colab-df-convert');\n",
              "        buttonEl.style.display =\n",
              "          google.colab.kernel.accessAllowed ? 'block' : 'none';\n",
              "\n",
              "        async function convertToInteractive(key) {\n",
              "          const element = document.querySelector('#df-afae5635-aab2-4d6f-a32a-aa1a2855c78c');\n",
              "          const dataTable =\n",
              "            await google.colab.kernel.invokeFunction('convertToInteractive',\n",
              "                                                     [key], {});\n",
              "          if (!dataTable) return;\n",
              "\n",
              "          const docLinkHtml = 'Like what you see? Visit the ' +\n",
              "            '<a target=\"_blank\" href=https://colab.research.google.com/notebooks/data_table.ipynb>data table notebook</a>'\n",
              "            + ' to learn more about interactive tables.';\n",
              "          element.innerHTML = '';\n",
              "          dataTable['output_type'] = 'display_data';\n",
              "          await google.colab.output.renderOutput(dataTable, element);\n",
              "          const docLink = document.createElement('div');\n",
              "          docLink.innerHTML = docLinkHtml;\n",
              "          element.appendChild(docLink);\n",
              "        }\n",
              "      </script>\n",
              "    </div>\n",
              "  </div>\n"
            ]
          },
          "metadata": {},
          "execution_count": 20
        }
      ]
    },
    {
      "cell_type": "code",
      "source": [
        "X=df_dummies.drop(columns='car purchase amount')\n",
        "y=df_dummies['car purchase amount']"
      ],
      "metadata": {
        "execution": {
          "iopub.status.busy": "2023-07-16T13:19:24.951407Z",
          "iopub.execute_input": "2023-07-16T13:19:24.952187Z",
          "iopub.status.idle": "2023-07-16T13:19:24.957761Z",
          "shell.execute_reply.started": "2023-07-16T13:19:24.952151Z",
          "shell.execute_reply": "2023-07-16T13:19:24.956753Z"
        },
        "trusted": true,
        "id": "EaHHlKRaFg1N"
      },
      "execution_count": 21,
      "outputs": []
    },
    {
      "cell_type": "code",
      "source": [
        "from sklearn.model_selection import train_test_split\n",
        "from sklearn.preprocessing import StandardScaler"
      ],
      "metadata": {
        "execution": {
          "iopub.status.busy": "2023-07-16T13:19:28.689108Z",
          "iopub.execute_input": "2023-07-16T13:19:28.690017Z",
          "iopub.status.idle": "2023-07-16T13:19:28.695315Z",
          "shell.execute_reply.started": "2023-07-16T13:19:28.689978Z",
          "shell.execute_reply": "2023-07-16T13:19:28.694122Z"
        },
        "trusted": true,
        "id": "118POzdMFg1N"
      },
      "execution_count": 22,
      "outputs": []
    },
    {
      "cell_type": "code",
      "source": [
        "X_train,X_test,y_train,y_test=train_test_split(X,y,test_size=0.2,random_state=42)"
      ],
      "metadata": {
        "execution": {
          "iopub.status.busy": "2023-07-16T13:19:29.353710Z",
          "iopub.execute_input": "2023-07-16T13:19:29.354142Z",
          "iopub.status.idle": "2023-07-16T13:19:29.362800Z",
          "shell.execute_reply.started": "2023-07-16T13:19:29.354109Z",
          "shell.execute_reply": "2023-07-16T13:19:29.361318Z"
        },
        "trusted": true,
        "id": "HiHiPeMGFg1O"
      },
      "execution_count": 23,
      "outputs": []
    },
    {
      "cell_type": "code",
      "source": [
        "X_train.shape,X_test.shape,y_train.shape,y_test.shape"
      ],
      "metadata": {
        "execution": {
          "iopub.status.busy": "2023-07-16T13:19:30.214177Z",
          "iopub.execute_input": "2023-07-16T13:19:30.214572Z",
          "iopub.status.idle": "2023-07-16T13:19:30.222894Z",
          "shell.execute_reply.started": "2023-07-16T13:19:30.214541Z",
          "shell.execute_reply": "2023-07-16T13:19:30.221402Z"
        },
        "trusted": true,
        "colab": {
          "base_uri": "https://localhost:8080/"
        },
        "id": "0kKmdHhNFg1O",
        "outputId": "21c00deb-73b8-485a-d9d0-2995f28571f0"
      },
      "execution_count": 24,
      "outputs": [
        {
          "output_type": "execute_result",
          "data": {
            "text/plain": [
              "((400, 214), (100, 214), (400,), (100,))"
            ]
          },
          "metadata": {},
          "execution_count": 24
        }
      ]
    },
    {
      "cell_type": "code",
      "source": [
        "sc=StandardScaler()"
      ],
      "metadata": {
        "execution": {
          "iopub.status.busy": "2023-07-16T13:19:31.012073Z",
          "iopub.execute_input": "2023-07-16T13:19:31.012502Z",
          "iopub.status.idle": "2023-07-16T13:19:31.018133Z",
          "shell.execute_reply.started": "2023-07-16T13:19:31.012470Z",
          "shell.execute_reply": "2023-07-16T13:19:31.016844Z"
        },
        "trusted": true,
        "id": "azAhEugNFg1O"
      },
      "execution_count": 25,
      "outputs": []
    },
    {
      "cell_type": "code",
      "source": [
        "X_train_scaled=sc.fit_transform(X_train)\n",
        "X_test_scaled=sc.transform(X_test)"
      ],
      "metadata": {
        "execution": {
          "iopub.status.busy": "2023-07-16T13:19:31.626518Z",
          "iopub.execute_input": "2023-07-16T13:19:31.627000Z",
          "iopub.status.idle": "2023-07-16T13:19:31.652941Z",
          "shell.execute_reply.started": "2023-07-16T13:19:31.626964Z",
          "shell.execute_reply": "2023-07-16T13:19:31.651335Z"
        },
        "trusted": true,
        "id": "w1npTWeuFg1P"
      },
      "execution_count": 26,
      "outputs": []
    },
    {
      "cell_type": "code",
      "source": [
        "# !pip install keras-tuner"
      ],
      "metadata": {
        "id": "colR1xy2F6Qe"
      },
      "execution_count": 30,
      "outputs": []
    },
    {
      "cell_type": "code",
      "source": [
        "import tensorflow\n",
        "from tensorflow import keras\n",
        "from tensorflow.keras import layers,losses\n",
        "from tensorflow.keras.models import Sequential\n",
        "import kerastuner as kt"
      ],
      "metadata": {
        "execution": {
          "iopub.status.busy": "2023-07-16T13:19:32.363829Z",
          "iopub.execute_input": "2023-07-16T13:19:32.364272Z",
          "iopub.status.idle": "2023-07-16T13:19:32.371150Z",
          "shell.execute_reply.started": "2023-07-16T13:19:32.364240Z",
          "shell.execute_reply": "2023-07-16T13:19:32.369640Z"
        },
        "trusted": true,
        "colab": {
          "base_uri": "https://localhost:8080/"
        },
        "id": "Ht7J1umgFg1P",
        "outputId": "9d5551ba-2857-4d0c-f0fa-8c7f67853302"
      },
      "execution_count": 31,
      "outputs": [
        {
          "output_type": "stream",
          "name": "stderr",
          "text": [
            "<ipython-input-31-73f1a621a83f>:5: DeprecationWarning: `import kerastuner` is deprecated, please use `import keras_tuner`.\n",
            "  import kerastuner as kt\n"
          ]
        }
      ]
    },
    {
      "cell_type": "code",
      "source": [
        "model=Sequential()"
      ],
      "metadata": {
        "execution": {
          "iopub.status.busy": "2023-07-16T13:19:33.134858Z",
          "iopub.execute_input": "2023-07-16T13:19:33.135344Z",
          "iopub.status.idle": "2023-07-16T13:19:33.145377Z",
          "shell.execute_reply.started": "2023-07-16T13:19:33.135309Z",
          "shell.execute_reply": "2023-07-16T13:19:33.143932Z"
        },
        "trusted": true,
        "id": "7pbLRPXrFg1P"
      },
      "execution_count": 32,
      "outputs": []
    },
    {
      "cell_type": "code",
      "source": [
        "model.add(layers.Dense(64,activation='relu'))\n",
        "model.add(layers.Dense(1,activation='linear'))"
      ],
      "metadata": {
        "execution": {
          "iopub.status.busy": "2023-07-16T13:20:04.493348Z",
          "iopub.execute_input": "2023-07-16T13:20:04.493823Z",
          "iopub.status.idle": "2023-07-16T13:20:04.509961Z",
          "shell.execute_reply.started": "2023-07-16T13:20:04.493789Z",
          "shell.execute_reply": "2023-07-16T13:20:04.508517Z"
        },
        "trusted": true,
        "id": "8SDqF5DhFg1Q"
      },
      "execution_count": 33,
      "outputs": []
    },
    {
      "cell_type": "code",
      "source": [
        "model.compile(loss=losses.mean_absolute_error,\n",
        "             optimizer='adam',\n",
        "             metrics=['mae'])"
      ],
      "metadata": {
        "execution": {
          "iopub.status.busy": "2023-07-16T13:21:15.468576Z",
          "iopub.execute_input": "2023-07-16T13:21:15.469082Z",
          "iopub.status.idle": "2023-07-16T13:21:15.507957Z",
          "shell.execute_reply.started": "2023-07-16T13:21:15.469042Z",
          "shell.execute_reply": "2023-07-16T13:21:15.506855Z"
        },
        "trusted": true,
        "id": "Hul4hdinFg1R"
      },
      "execution_count": 34,
      "outputs": []
    },
    {
      "cell_type": "code",
      "source": [
        "history=model.fit(X_train_scaled,y_train,validation_data=(X_test_scaled,y_test),batch_size=25,epochs=550,verbose=0)"
      ],
      "metadata": {
        "execution": {
          "iopub.status.busy": "2023-07-16T13:36:45.851916Z",
          "iopub.execute_input": "2023-07-16T13:36:45.852397Z",
          "iopub.status.idle": "2023-07-16T13:37:26.873750Z",
          "shell.execute_reply.started": "2023-07-16T13:36:45.852361Z",
          "shell.execute_reply": "2023-07-16T13:37:26.872201Z"
        },
        "trusted": true,
        "id": "lIiQQmERFg1R"
      },
      "execution_count": 35,
      "outputs": []
    },
    {
      "cell_type": "code",
      "source": [
        "import matplotlib.pyplot as plt"
      ],
      "metadata": {
        "execution": {
          "iopub.status.busy": "2023-07-16T13:25:54.561593Z",
          "iopub.execute_input": "2023-07-16T13:25:54.562020Z",
          "iopub.status.idle": "2023-07-16T13:25:54.567016Z",
          "shell.execute_reply.started": "2023-07-16T13:25:54.561989Z",
          "shell.execute_reply": "2023-07-16T13:25:54.565915Z"
        },
        "trusted": true,
        "id": "hzBjHOe9Fg1R"
      },
      "execution_count": 36,
      "outputs": []
    },
    {
      "cell_type": "code",
      "source": [
        "plt.plot(history.history['loss'])\n",
        "plt.plot(history.history['val_loss'])"
      ],
      "metadata": {
        "execution": {
          "iopub.status.busy": "2023-07-16T13:26:04.294977Z",
          "iopub.execute_input": "2023-07-16T13:26:04.295459Z",
          "iopub.status.idle": "2023-07-16T13:26:04.592961Z",
          "shell.execute_reply.started": "2023-07-16T13:26:04.295407Z",
          "shell.execute_reply": "2023-07-16T13:26:04.591686Z"
        },
        "trusted": true,
        "colab": {
          "base_uri": "https://localhost:8080/",
          "height": 447
        },
        "id": "MeWcwXC4Fg1R",
        "outputId": "129714ff-dafd-415b-a870-64f7ac91db20"
      },
      "execution_count": 37,
      "outputs": [
        {
          "output_type": "execute_result",
          "data": {
            "text/plain": [
              "[<matplotlib.lines.Line2D at 0x79cda5d686d0>]"
            ]
          },
          "metadata": {},
          "execution_count": 37
        },
        {
          "output_type": "display_data",
          "data": {
            "text/plain": [
              "<Figure size 640x480 with 1 Axes>"
            ],
            "image/png": "[encoded data removed]"
          },
          "metadata": {}
        }
      ]
    },
    {
      "cell_type": "code",
      "source": [
        "def build_model(hp):\n",
        "  model = Sequential()\n",
        "  units=hp.Int('units', min_value=8,max_value=128)\n",
        "  activations=hp.Choice('activations',values=['linear','relu','tanh','selu'])\n",
        "  model.add(layers.Dense(units=units,activation=activations,input_dim=214))\n",
        "\n",
        "  model.add(layers.Dense(1, activation='linear'))\n",
        "  optimizers=hp.Choice('optimizers',values=['adagrad','adam','sgd','rmsprop'])\n",
        "  model.compile(loss=losses.mean_absolute_error,\n",
        "             optimizer=optimizers)\n",
        "\n",
        "  return model"
      ],
      "metadata": {
        "execution": {
          "iopub.status.busy": "2023-07-16T14:15:41.238094Z",
          "iopub.execute_input": "2023-07-16T14:15:41.238647Z",
          "iopub.status.idle": "2023-07-16T14:15:41.247948Z",
          "shell.execute_reply.started": "2023-07-16T14:15:41.238608Z",
          "shell.execute_reply": "2023-07-16T14:15:41.246502Z"
        },
        "trusted": true,
        "id": "LldaHJJuFg1S"
      },
      "execution_count": 38,
      "outputs": []
    },
    {
      "cell_type": "code",
      "source": [
        "tuner = kt.RandomSearch(\n",
        "    build_model,\n",
        "    objective='val_loss',\n",
        "    max_trials=5,\n",
        "    project_name='rkg')"
      ],
      "metadata": {
        "execution": {
          "iopub.status.busy": "2023-07-16T14:15:41.558319Z",
          "iopub.execute_input": "2023-07-16T14:15:41.558807Z",
          "iopub.status.idle": "2023-07-16T14:15:41.574139Z",
          "shell.execute_reply.started": "2023-07-16T14:15:41.558771Z",
          "shell.execute_reply": "2023-07-16T14:15:41.572514Z"
        },
        "trusted": true,
        "id": "HC72sz2xFg1S"
      },
      "execution_count": 39,
      "outputs": []
    },
    {
      "cell_type": "code",
      "source": [
        "tuner.search(X_train_scaled, y_train, epochs=5, validation_data=(X_test_scaled, y_test))"
      ],
      "metadata": {
        "execution": {
          "iopub.status.busy": "2023-07-16T14:15:41.918362Z",
          "iopub.execute_input": "2023-07-16T14:15:41.919791Z",
          "iopub.status.idle": "2023-07-16T14:15:41.926123Z",
          "shell.execute_reply.started": "2023-07-16T14:15:41.919728Z",
          "shell.execute_reply": "2023-07-16T14:15:41.924937Z"
        },
        "trusted": true,
        "colab": {
          "base_uri": "https://localhost:8080/"
        },
        "id": "EONGWd7GFg1S",
        "outputId": "d7b827bd-a6f0-402c-d08c-e672e2f61653"
      },
      "execution_count": 40,
      "outputs": [
        {
          "output_type": "stream",
          "name": "stdout",
          "text": [
            "Trial 5 Complete [00h 00m 01s]\n",
            "val_loss: 45264.6640625\n",
            "\n",
            "Best val_loss So Far: 45247.8515625\n",
            "Total elapsed time: 00h 00m 05s\n"
          ]
        }
      ]
    },
    {
      "cell_type": "code",
      "source": [
        "tuner.get_best_hyperparameters()[0].values"
      ],
      "metadata": {
        "execution": {
          "iopub.status.busy": "2023-07-16T14:15:45.883992Z",
          "iopub.execute_input": "2023-07-16T14:15:45.884710Z",
          "iopub.status.idle": "2023-07-16T14:15:45.891977Z",
          "shell.execute_reply.started": "2023-07-16T14:15:45.884673Z",
          "shell.execute_reply": "2023-07-16T14:15:45.890758Z"
        },
        "trusted": true,
        "colab": {
          "base_uri": "https://localhost:8080/"
        },
        "id": "6_URRa0IFg1S",
        "outputId": "3116bb0c-4c8f-4e0a-9e10-43d08d552d7d"
      },
      "execution_count": 41,
      "outputs": [
        {
          "output_type": "execute_result",
          "data": {
            "text/plain": [
              "{'units': 86, 'activations': 'relu', 'optimizers': 'sgd'}"
            ]
          },
          "metadata": {},
          "execution_count": 41
        }
      ]
    },
    {
      "cell_type": "code",
      "source": [
        "best_model = tuner.get_best_models(num_models=1)[0]"
      ],
      "metadata": {
        "execution": {
          "iopub.status.busy": "2023-07-16T14:15:46.880605Z",
          "iopub.execute_input": "2023-07-16T14:15:46.881524Z",
          "iopub.status.idle": "2023-07-16T14:15:48.273097Z",
          "shell.execute_reply.started": "2023-07-16T14:15:46.881483Z",
          "shell.execute_reply": "2023-07-16T14:15:48.271811Z"
        },
        "trusted": true,
        "id": "w24dGWhTFg1U"
      },
      "execution_count": 42,
      "outputs": []
    },
    {
      "cell_type": "code",
      "source": [
        "best_model.summary()"
      ],
      "metadata": {
        "execution": {
          "iopub.status.busy": "2023-07-16T14:15:48.275639Z",
          "iopub.execute_input": "2023-07-16T14:15:48.276089Z",
          "iopub.status.idle": "2023-07-16T14:15:48.296643Z",
          "shell.execute_reply.started": "2023-07-16T14:15:48.276047Z",
          "shell.execute_reply": "2023-07-16T14:15:48.295365Z"
        },
        "trusted": true,
        "colab": {
          "base_uri": "https://localhost:8080/"
        },
        "id": "YaKX2iSFFg1U",
        "outputId": "25aea048-ead0-419f-a41e-fce84bccc720"
      },
      "execution_count": 43,
      "outputs": [
        {
          "output_type": "stream",
          "name": "stdout",
          "text": [
            "Model: \"sequential\"\n",
            "_________________________________________________________________\n",
            " Layer (type)                Output Shape              Param #   \n",
            "=================================================================\n",
            " dense (Dense)               (None, 86)                18490     \n",
            "                                                                 \n",
            " dense_1 (Dense)             (None, 1)                 87        \n",
            "                                                                 \n",
            "=================================================================\n",
            "Total params: 18,577\n",
            "Trainable params: 18,577\n",
            "Non-trainable params: 0\n",
            "_________________________________________________________________\n"
          ]
        }
      ]
    },
    {
      "cell_type": "code",
      "source": [
        "history=best_model.fit(X_train_scaled,y_train,validation_data=(X_test_scaled,y_test),epochs=250,initial_epoch=6,verbose=0)"
      ],
      "metadata": {
        "execution": {
          "iopub.status.busy": "2023-07-16T14:17:12.038128Z",
          "iopub.execute_input": "2023-07-16T14:17:12.038662Z",
          "iopub.status.idle": "2023-07-16T14:17:26.111909Z",
          "shell.execute_reply.started": "2023-07-16T14:17:12.038614Z",
          "shell.execute_reply": "2023-07-16T14:17:26.110514Z"
        },
        "trusted": true,
        "id": "D5ESVnuIFg1U"
      },
      "execution_count": 44,
      "outputs": []
    },
    {
      "cell_type": "code",
      "source": [
        "plt.plot(history.history['loss'])\n",
        "plt.plot(history.history['val_loss'])"
      ],
      "metadata": {
        "execution": {
          "iopub.status.busy": "2023-07-16T14:17:26.114704Z",
          "iopub.execute_input": "2023-07-16T14:17:26.115151Z",
          "iopub.status.idle": "2023-07-16T14:17:26.381961Z",
          "shell.execute_reply.started": "2023-07-16T14:17:26.115109Z",
          "shell.execute_reply": "2023-07-16T14:17:26.380550Z"
        },
        "trusted": true,
        "colab": {
          "base_uri": "https://localhost:8080/",
          "height": 447
        },
        "id": "fs2MEJjHFg1U",
        "outputId": "6e8f65d1-0f9c-437a-d938-2dd18d686326"
      },
      "execution_count": 45,
      "outputs": [
        {
          "output_type": "execute_result",
          "data": {
            "text/plain": [
              "[<matplotlib.lines.Line2D at 0x79cdb55e1ba0>]"
            ]
          },
          "metadata": {},
          "execution_count": 45
        },
        {
          "output_type": "display_data",
          "data": {
            "text/plain": [
              "<Figure size 640x480 with 1 Axes>"
            ],
            "image/png": "[encoded data removed]"
          },
          "metadata": {}
        }
      ]
    },
    {
      "cell_type": "code",
      "source": [
        "def build_model(hp):\n",
        "  model = Sequential()\n",
        "\n",
        "  model.add(layers.Dense(units=106,activation='tanh',input_dim=214))\n",
        "\n",
        "  for i in range(hp.Int('num_layers',min_value=1,max_value=10)):\n",
        "    model.add(layers.Dense(106,activation='tanh'))\n",
        "\n",
        "  model.add(layers.Dense(1, activation='linear'))\n",
        "\n",
        "  model.compile(loss=losses.mean_absolute_error,\n",
        "             optimizer='sgd')\n",
        "\n",
        "  return model"
      ],
      "metadata": {
        "execution": {
          "iopub.status.busy": "2023-07-16T14:22:17.938524Z",
          "iopub.execute_input": "2023-07-16T14:22:17.939019Z",
          "iopub.status.idle": "2023-07-16T14:22:17.947729Z",
          "shell.execute_reply.started": "2023-07-16T14:22:17.938982Z",
          "shell.execute_reply": "2023-07-16T14:22:17.946338Z"
        },
        "trusted": true,
        "id": "Z3BtLFPxFg1U"
      },
      "execution_count": 46,
      "outputs": []
    },
    {
      "cell_type": "code",
      "source": [
        "tuner = kt.RandomSearch(\n",
        "    build_model,\n",
        "    objective='val_loss',\n",
        "    max_trials=5,\n",
        "    project_name='num_layers')"
      ],
      "metadata": {
        "execution": {
          "iopub.status.busy": "2023-07-16T14:22:18.591939Z",
          "iopub.execute_input": "2023-07-16T14:22:18.592450Z",
          "iopub.status.idle": "2023-07-16T14:22:18.606205Z",
          "shell.execute_reply.started": "2023-07-16T14:22:18.592397Z",
          "shell.execute_reply": "2023-07-16T14:22:18.604705Z"
        },
        "trusted": true,
        "id": "fAFZmolsFg1U"
      },
      "execution_count": 47,
      "outputs": []
    },
    {
      "cell_type": "code",
      "source": [
        "tuner.search(X_train_scaled, y_train, epochs=5, validation_data=(X_test_scaled, y_test))"
      ],
      "metadata": {
        "execution": {
          "iopub.status.busy": "2023-07-16T14:22:21.218761Z",
          "iopub.execute_input": "2023-07-16T14:22:21.219176Z",
          "iopub.status.idle": "2023-07-16T14:22:21.225883Z",
          "shell.execute_reply.started": "2023-07-16T14:22:21.219146Z",
          "shell.execute_reply": "2023-07-16T14:22:21.224502Z"
        },
        "trusted": true,
        "colab": {
          "base_uri": "https://localhost:8080/"
        },
        "id": "VM25kF60Fg1V",
        "outputId": "64d94001-a102-4fba-e66b-93847bf1340d"
      },
      "execution_count": 48,
      "outputs": [
        {
          "output_type": "stream",
          "name": "stdout",
          "text": [
            "Trial 5 Complete [00h 00m 01s]\n",
            "val_loss: 45234.12109375\n",
            "\n",
            "Best val_loss So Far: 45218.14453125\n",
            "Total elapsed time: 00h 00m 07s\n"
          ]
        }
      ]
    },
    {
      "cell_type": "code",
      "source": [
        "tuner.get_best_hyptuner.get_best_hyperparameters()[0].valueserparameters()[0].values"
      ],
      "metadata": {
        "execution": {
          "iopub.status.busy": "2023-07-16T14:22:22.715061Z",
          "iopub.execute_input": "2023-07-16T14:22:22.715559Z",
          "iopub.status.idle": "2023-07-16T14:22:22.724656Z",
          "shell.execute_reply.started": "2023-07-16T14:22:22.715522Z",
          "shell.execute_reply": "2023-07-16T14:22:22.723102Z"
        },
        "trusted": true,
        "colab": {
          "base_uri": "https://localhost:8080/"
        },
        "id": "wb8dcwMQFg1V",
        "outputId": "6ac802f3-a55b-4651-eb01-112af12c8a7e"
      },
      "execution_count": 49,
      "outputs": [
        {
          "output_type": "execute_result",
          "data": {
            "text/plain": [
              "{'num_layers': 10}"
            ]
          },
          "metadata": {},
          "execution_count": 49
        }
      ]
    },
    {
      "cell_type": "code",
      "source": [
        "best_model_1=tuner.get_best_models(num_models=1)[0]"
      ],
      "metadata": {
        "id": "jJp71gf1Iw1O"
      },
      "execution_count": 50,
      "outputs": []
    },
    {
      "cell_type": "code",
      "source": [
        "best_model_1.summary()"
      ],
      "metadata": {
        "colab": {
          "base_uri": "https://localhost:8080/"
        },
        "id": "k8umAiuUIwxw",
        "outputId": "63b200ea-ec84-4615-b61c-e7a37142e6de"
      },
      "execution_count": 51,
      "outputs": [
        {
          "output_type": "stream",
          "name": "stdout",
          "text": [
            "Model: \"sequential\"\n",
            "_________________________________________________________________\n",
            " Layer (type)                Output Shape              Param #   \n",
            "=================================================================\n",
            " dense (Dense)               (None, 106)               22790     \n",
            "                                                                 \n",
            " dense_1 (Dense)             (None, 106)               11342     \n",
            "                                                                 \n",
            " dense_2 (Dense)             (None, 106)               11342     \n",
            "                                                                 \n",
            " dense_3 (Dense)             (None, 106)               11342     \n",
            "                                                                 \n",
            " dense_4 (Dense)             (None, 106)               11342     \n",
            "                                                                 \n",
            " dense_5 (Dense)             (None, 106)               11342     \n",
            "                                                                 \n",
            " dense_6 (Dense)             (None, 106)               11342     \n",
            "                                                                 \n",
            " dense_7 (Dense)             (None, 106)               11342     \n",
            "                                                                 \n",
            " dense_8 (Dense)             (None, 106)               11342     \n",
            "                                                                 \n",
            " dense_9 (Dense)             (None, 106)               11342     \n",
            "                                                                 \n",
            " dense_10 (Dense)            (None, 106)               11342     \n",
            "                                                                 \n",
            " dense_11 (Dense)            (None, 1)                 107       \n",
            "                                                                 \n",
            "=================================================================\n",
            "Total params: 136,317\n",
            "Trainable params: 136,317\n",
            "Non-trainable params: 0\n",
            "_________________________________________________________________\n"
          ]
        }
      ]
    },
    {
      "cell_type": "code",
      "source": [
        "history=best_model_1.fit(X_train_scaled,y_train,epochs=50,initial_epoch=6,validation_data=(X_test_scaled,y_test))"
      ],
      "metadata": {
        "colab": {
          "base_uri": "https://localhost:8080/"
        },
        "id": "WGIyhxPhI4r4",
        "outputId": "b7715370-0da9-4076-90d2-750085bdc836"
      },
      "execution_count": 52,
      "outputs": [
        {
          "output_type": "stream",
          "name": "stdout",
          "text": [
            "Epoch 7/50\n",
            "13/13 [==============================] - 1s 15ms/step - loss: 43893.5898 - val_loss: 45204.6992\n",
            "Epoch 8/50\n",
            "13/13 [==============================] - 0s 5ms/step - loss: 43880.0000 - val_loss: 45190.9844\n",
            "Epoch 9/50\n",
            "13/13 [==============================] - 0s 5ms/step - loss: 43866.2383 - val_loss: 45177.1953\n",
            "Epoch 10/50\n",
            "13/13 [==============================] - 0s 4ms/step - loss: 43852.4219 - val_loss: 45163.3359\n",
            "Epoch 11/50\n",
            "13/13 [==============================] - 0s 3ms/step - loss: 43838.5391 - val_loss: 45149.4336\n",
            "Epoch 12/50\n",
            "13/13 [==============================] - 0s 4ms/step - loss: 43824.6250 - val_loss: 45135.5195\n",
            "Epoch 13/50\n",
            "13/13 [==============================] - 0s 5ms/step - loss: 43810.7148 - val_loss: 45121.6094\n",
            "Epoch 14/50\n",
            "13/13 [==============================] - 0s 5ms/step - loss: 43796.8047 - val_loss: 45107.6992\n",
            "Epoch 15/50\n",
            "13/13 [==============================] - 0s 4ms/step - loss: 43782.8906 - val_loss: 45093.7812\n",
            "Epoch 16/50\n",
            "13/13 [==============================] - 0s 4ms/step - loss: 43768.9805 - val_loss: 45079.8750\n",
            "Epoch 17/50\n",
            "13/13 [==============================] - 0s 5ms/step - loss: 43755.0703 - val_loss: 45065.9609\n",
            "Epoch 18/50\n",
            "13/13 [==============================] - 0s 6ms/step - loss: 43741.1484 - val_loss: 45052.0508\n",
            "Epoch 19/50\n",
            "13/13 [==============================] - 0s 4ms/step - loss: 43727.2461 - val_loss: 45038.1406\n",
            "Epoch 20/50\n",
            "13/13 [==============================] - 0s 5ms/step - loss: 43713.3281 - val_loss: 45024.2305\n",
            "Epoch 21/50\n",
            "13/13 [==============================] - 0s 4ms/step - loss: 43699.4258 - val_loss: 45010.3203\n",
            "Epoch 22/50\n",
            "13/13 [==============================] - 0s 5ms/step - loss: 43685.5117 - val_loss: 44996.4062\n",
            "Epoch 23/50\n",
            "13/13 [==============================] - 0s 4ms/step - loss: 43671.6055 - val_loss: 44982.5000\n",
            "Epoch 24/50\n",
            "13/13 [==============================] - 0s 5ms/step - loss: 43657.6914 - val_loss: 44968.5859\n",
            "Epoch 25/50\n",
            "13/13 [==============================] - 0s 4ms/step - loss: 43643.7852 - val_loss: 44954.6797\n",
            "Epoch 26/50\n",
            "13/13 [==============================] - 0s 4ms/step - loss: 43629.8711 - val_loss: 44940.7656\n",
            "Epoch 27/50\n",
            "13/13 [==============================] - 0s 4ms/step - loss: 43615.9648 - val_loss: 44926.8555\n",
            "Epoch 28/50\n",
            "13/13 [==============================] - 0s 4ms/step - loss: 43602.0508 - val_loss: 44912.9492\n",
            "Epoch 29/50\n",
            "13/13 [==============================] - 0s 4ms/step - loss: 43588.1445 - val_loss: 44899.0312\n",
            "Epoch 30/50\n",
            "13/13 [==============================] - 0s 4ms/step - loss: 43574.2305 - val_loss: 44885.1250\n",
            "Epoch 31/50\n",
            "13/13 [==============================] - 0s 4ms/step - loss: 43560.3203 - val_loss: 44871.2148\n",
            "Epoch 32/50\n",
            "13/13 [==============================] - 0s 4ms/step - loss: 43546.4102 - val_loss: 44857.3047\n",
            "Epoch 33/50\n",
            "13/13 [==============================] - 0s 3ms/step - loss: 43532.5000 - val_loss: 44843.3945\n",
            "Epoch 34/50\n",
            "13/13 [==============================] - 0s 4ms/step - loss: 43518.5898 - val_loss: 44829.4844\n",
            "Epoch 35/50\n",
            "13/13 [==============================] - 0s 3ms/step - loss: 43504.6797 - val_loss: 44815.5742\n",
            "Epoch 36/50\n",
            "13/13 [==============================] - 0s 4ms/step - loss: 43490.7695 - val_loss: 44801.6719\n",
            "Epoch 37/50\n",
            "13/13 [==============================] - 0s 4ms/step - loss: 43476.8594 - val_loss: 44787.7539\n",
            "Epoch 38/50\n",
            "13/13 [==============================] - 0s 5ms/step - loss: 43462.9453 - val_loss: 44773.8438\n",
            "Epoch 39/50\n",
            "13/13 [==============================] - 0s 4ms/step - loss: 43449.0391 - val_loss: 44759.9336\n",
            "Epoch 40/50\n",
            "13/13 [==============================] - 0s 3ms/step - loss: 43435.1289 - val_loss: 44746.0195\n",
            "Epoch 41/50\n",
            "13/13 [==============================] - 0s 3ms/step - loss: 43421.2188 - val_loss: 44732.1133\n",
            "Epoch 42/50\n",
            "13/13 [==============================] - 0s 4ms/step - loss: 43407.3086 - val_loss: 44718.2031\n",
            "Epoch 43/50\n",
            "13/13 [==============================] - 0s 4ms/step - loss: 43393.3984 - val_loss: 44704.2891\n",
            "Epoch 44/50\n",
            "13/13 [==============================] - 0s 5ms/step - loss: 43379.4844 - val_loss: 44690.3867\n",
            "Epoch 45/50\n",
            "13/13 [==============================] - 0s 5ms/step - loss: 43365.5859 - val_loss: 44676.4766\n",
            "Epoch 46/50\n",
            "13/13 [==============================] - 0s 4ms/step - loss: 43351.6641 - val_loss: 44662.5664\n",
            "Epoch 47/50\n",
            "13/13 [==============================] - 0s 4ms/step - loss: 43337.7617 - val_loss: 44648.6562\n",
            "Epoch 48/50\n",
            "13/13 [==============================] - 0s 4ms/step - loss: 43323.8516 - val_loss: 44634.7383\n",
            "Epoch 49/50\n",
            "13/13 [==============================] - 0s 5ms/step - loss: 43309.9414 - val_loss: 44620.8359\n",
            "Epoch 50/50\n",
            "13/13 [==============================] - 0s 5ms/step - loss: 43296.0312 - val_loss: 44606.9258\n"
          ]
        }
      ]
    },
    {
      "cell_type": "code",
      "source": [],
      "metadata": {
        "id": "YLNLxK_2I4ol"
      },
      "execution_count": 52,
      "outputs": []
    },
    {
      "cell_type": "code",
      "source": [],
      "metadata": {
        "id": "RMARUVv0I4mC"
      },
      "execution_count": 52,
      "outputs": []
    },
    {
      "cell_type": "code",
      "source": [
        "def build_model(hp):\n",
        "  model = Sequential()\n",
        "  c=0\n",
        "\n",
        "  model.add(layers.Dense(units=106,activation='tanh',input_dim=214))\n",
        "\n",
        "  for i in range(hp.Int('num_layers',min_value=1,max_value=10)):\n",
        "    if c==0:\n",
        "      model.add(layers.Dense(\n",
        "          units=hp.Int('units'+str(i),min_value=8,max_value=128),\n",
        "          activation=hp.Choice('activations'+str(i),values=['relu','tanh','linear','sigmoid','selu','elu']),\n",
        "          input_dim=214\n",
        "          )\n",
        "      )\n",
        "      model.add(layers.Dropout(hp.Choice('dropout'+str(i),values=[0.1,0.2,0.3,0.4,0.5,0.6,0.7,0.8,0.9])))\n",
        "    else:\n",
        "      model.add(layers.Dense(\n",
        "          units=hp.Int('units'+str(i),min_value=8,max_value=128),\n",
        "          activation=hp.Choice('activations'+str(i),values=['relu','tanh','linear','sigmoid','selu','elu']),\n",
        "          input_dim=214\n",
        "          )\n",
        "      )\n",
        "      model.add(layers.Dropout(hp.Choice('dropout'+str(i),values=[0.1,0.2,0.3,0.4,0.5,0.6,0.7,0.8,0.9])))\n",
        "    c+=1\n",
        "\n",
        "  model.add(layers.Dense(1, activation='linear'))\n",
        "\n",
        "  model.compile(loss=losses.mean_absolute_error,\n",
        "             optimizer=hp.Choice('optimizers',values=['rmsprop','adam','sgd','adagrad','adadelta']))\n",
        "\n",
        "  return model"
      ],
      "metadata": {
        "id": "OOpXehvCFg1W"
      },
      "execution_count": 82,
      "outputs": []
    },
    {
      "cell_type": "code",
      "source": [
        "tuner = kt.RandomSearch(\n",
        "    build_model,\n",
        "    objective='val_loss',\n",
        "    max_trials=5,\n",
        "    project_name='final_tuner_1')"
      ],
      "metadata": {
        "id": "-YjU0mRWhHLN"
      },
      "execution_count": 83,
      "outputs": []
    },
    {
      "cell_type": "code",
      "source": [
        "tuner.search(X_train_scaled, y_train, epochs=5, validation_data=(X_test_scaled, y_test))"
      ],
      "metadata": {
        "id": "0dU0u1gphQuH"
      },
      "execution_count": 84,
      "outputs": []
    },
    {
      "cell_type": "code",
      "source": [
        "tuner.get_best_hyperparameters()[0].values"
      ],
      "metadata": {
        "colab": {
          "base_uri": "https://localhost:8080/"
        },
        "id": "MMokxB6WiTbf",
        "outputId": "329cd463-6352-44aa-de97-e69a3e65d2e2"
      },
      "execution_count": 85,
      "outputs": [
        {
          "output_type": "execute_result",
          "data": {
            "text/plain": [
              "{'num_layers': 6,\n",
              " 'units0': 71,\n",
              " 'activations0': 'elu',\n",
              " 'dropout0': 0.4,\n",
              " 'optimizers': 'adam',\n",
              " 'units1': 27,\n",
              " 'activations1': 'sigmoid',\n",
              " 'dropout1': 0.5,\n",
              " 'units2': 35,\n",
              " 'activations2': 'elu',\n",
              " 'dropout2': 0.4,\n",
              " 'units3': 8,\n",
              " 'activations3': 'relu',\n",
              " 'dropout3': 0.1,\n",
              " 'units4': 8,\n",
              " 'activations4': 'relu',\n",
              " 'dropout4': 0.1,\n",
              " 'units5': 8,\n",
              " 'activations5': 'relu',\n",
              " 'dropout5': 0.1}"
            ]
          },
          "metadata": {},
          "execution_count": 85
        }
      ]
    },
    {
      "cell_type": "code",
      "source": [
        "model_3=tuner.get_best_models(num_models=1)[0]"
      ],
      "metadata": {
        "id": "7jv52FKCia04"
      },
      "execution_count": 86,
      "outputs": []
    },
    {
      "cell_type": "code",
      "source": [
        "model_3.summary()"
      ],
      "metadata": {
        "colab": {
          "base_uri": "https://localhost:8080/"
        },
        "id": "h4-OEqAzkniN",
        "outputId": "592af11e-6646-45d6-c84d-8a27c7844f3a"
      },
      "execution_count": 87,
      "outputs": [
        {
          "output_type": "stream",
          "name": "stdout",
          "text": [
            "Model: \"sequential\"\n",
            "_________________________________________________________________\n",
            " Layer (type)                Output Shape              Param #   \n",
            "=================================================================\n",
            " dense (Dense)               (None, 106)               22790     \n",
            "                                                                 \n",
            " dense_1 (Dense)             (None, 71)                7597      \n",
            "                                                                 \n",
            " dropout (Dropout)           (None, 71)                0         \n",
            "                                                                 \n",
            " dense_2 (Dense)             (None, 27)                1944      \n",
            "                                                                 \n",
            " dropout_1 (Dropout)         (None, 27)                0         \n",
            "                                                                 \n",
            " dense_3 (Dense)             (None, 35)                980       \n",
            "                                                                 \n",
            " dropout_2 (Dropout)         (None, 35)                0         \n",
            "                                                                 \n",
            " dense_4 (Dense)             (None, 8)                 288       \n",
            "                                                                 \n",
            " dropout_3 (Dropout)         (None, 8)                 0         \n",
            "                                                                 \n",
            " dense_5 (Dense)             (None, 8)                 72        \n",
            "                                                                 \n",
            " dropout_4 (Dropout)         (None, 8)                 0         \n",
            "                                                                 \n",
            " dense_6 (Dense)             (None, 8)                 72        \n",
            "                                                                 \n",
            " dropout_5 (Dropout)         (None, 8)                 0         \n",
            "                                                                 \n",
            " dense_7 (Dense)             (None, 1)                 9         \n",
            "                                                                 \n",
            "=================================================================\n",
            "Total params: 33,752\n",
            "Trainable params: 33,752\n",
            "Non-trainable params: 0\n",
            "_________________________________________________________________\n"
          ]
        }
      ]
    },
    {
      "cell_type": "code",
      "source": [
        "callback = keras.callbacks.EarlyStopping(\n",
        "    monitor=\"val_loss\",\n",
        "    min_delta=0.1,\n",
        "    patience=5,\n",
        "    verbose=1,\n",
        "    mode=\"auto\",\n",
        "    baseline=None,\n",
        "    restore_best_weights=False\n",
        ")"
      ],
      "metadata": {
        "id": "xEpYttkUlHIt"
      },
      "execution_count": 88,
      "outputs": []
    },
    {
      "cell_type": "code",
      "source": [
        "history=model_3.fit(X_train_scaled,y_train,epochs=200,initial_epoch=5,validation_data=(X_test_scaled,y_test),callbacks=callback)"
      ],
      "metadata": {
        "colab": {
          "base_uri": "https://localhost:8080/"
        },
        "id": "F5e0-tQoilUw",
        "outputId": "c6ea09ed-b187-4530-d2de-289d8d1ee7ee"
      },
      "execution_count": 89,
      "outputs": [
        {
          "output_type": "stream",
          "name": "stdout",
          "text": [
            "Epoch 6/200\n",
            "13/13 [==============================] - 1s 13ms/step - loss: 43916.2305 - val_loss: 45222.2539\n",
            "Epoch 7/200\n",
            "13/13 [==============================] - 0s 4ms/step - loss: 43891.0859 - val_loss: 45191.3867\n",
            "Epoch 8/200\n",
            "13/13 [==============================] - 0s 4ms/step - loss: 43853.8711 - val_loss: 45144.2188\n",
            "Epoch 9/200\n",
            "13/13 [==============================] - 0s 3ms/step - loss: 43796.1250 - val_loss: 45076.6133\n",
            "Epoch 10/200\n",
            "13/13 [==============================] - 0s 4ms/step - loss: 43719.9414 - val_loss: 44980.2148\n",
            "Epoch 11/200\n",
            "13/13 [==============================] - 0s 3ms/step - loss: 43595.5586 - val_loss: 44847.4492\n",
            "Epoch 12/200\n",
            "13/13 [==============================] - 0s 3ms/step - loss: 43467.1797 - val_loss: 44668.3789\n",
            "Epoch 13/200\n",
            "13/13 [==============================] - 0s 3ms/step - loss: 43239.9102 - val_loss: 44424.5938\n",
            "Epoch 14/200\n",
            "13/13 [==============================] - 0s 4ms/step - loss: 42962.4258 - val_loss: 44098.6016\n",
            "Epoch 15/200\n",
            "13/13 [==============================] - 0s 3ms/step - loss: 42587.3242 - val_loss: 43666.5859\n",
            "Epoch 16/200\n",
            "13/13 [==============================] - 0s 3ms/step - loss: 42061.2812 - val_loss: 43080.3711\n",
            "Epoch 17/200\n",
            "13/13 [==============================] - 0s 3ms/step - loss: 41337.3281 - val_loss: 42313.4102\n",
            "Epoch 18/200\n",
            "13/13 [==============================] - 0s 3ms/step - loss: 40661.6016 - val_loss: 41343.9414\n",
            "Epoch 19/200\n",
            "13/13 [==============================] - 0s 3ms/step - loss: 39541.6992 - val_loss: 40120.2891\n",
            "Epoch 20/200\n",
            "13/13 [==============================] - 0s 3ms/step - loss: 38199.2266 - val_loss: 38594.9805\n",
            "Epoch 21/200\n",
            "13/13 [==============================] - 0s 3ms/step - loss: 36453.6289 - val_loss: 36694.8594\n",
            "Epoch 22/200\n",
            "13/13 [==============================] - 0s 5ms/step - loss: 34358.6250 - val_loss: 34350.2617\n",
            "Epoch 23/200\n",
            "13/13 [==============================] - 0s 5ms/step - loss: 32541.6309 - val_loss: 31553.0742\n",
            "Epoch 24/200\n",
            "13/13 [==============================] - 0s 3ms/step - loss: 28715.7754 - val_loss: 28101.5020\n",
            "Epoch 25/200\n",
            "13/13 [==============================] - 0s 5ms/step - loss: 25773.4219 - val_loss: 24060.5000\n",
            "Epoch 26/200\n",
            "13/13 [==============================] - 0s 3ms/step - loss: 22149.8320 - val_loss: 19791.0234\n",
            "Epoch 27/200\n",
            "13/13 [==============================] - 0s 3ms/step - loss: 18180.9453 - val_loss: 15448.4014\n",
            "Epoch 28/200\n",
            "13/13 [==============================] - 0s 4ms/step - loss: 16181.0459 - val_loss: 12500.2559\n",
            "Epoch 29/200\n",
            "13/13 [==============================] - 0s 3ms/step - loss: 15721.6816 - val_loss: 10891.3701\n",
            "Epoch 30/200\n",
            "13/13 [==============================] - 0s 5ms/step - loss: 15934.5498 - val_loss: 9960.6064\n",
            "Epoch 31/200\n",
            "13/13 [==============================] - 0s 3ms/step - loss: 14526.3008 - val_loss: 9685.2588\n",
            "Epoch 32/200\n",
            "13/13 [==============================] - 0s 4ms/step - loss: 15449.2578 - val_loss: 9519.3945\n",
            "Epoch 33/200\n",
            "13/13 [==============================] - 0s 5ms/step - loss: 15144.5166 - val_loss: 9322.3848\n",
            "Epoch 34/200\n",
            "13/13 [==============================] - 0s 5ms/step - loss: 15118.4404 - val_loss: 9526.0303\n",
            "Epoch 35/200\n",
            "13/13 [==============================] - 0s 5ms/step - loss: 15671.3086 - val_loss: 9735.4453\n",
            "Epoch 36/200\n",
            "13/13 [==============================] - 0s 3ms/step - loss: 15133.4971 - val_loss: 9601.9209\n",
            "Epoch 37/200\n",
            "13/13 [==============================] - 0s 3ms/step - loss: 14742.5820 - val_loss: 9328.1865\n",
            "Epoch 38/200\n",
            "13/13 [==============================] - 0s 5ms/step - loss: 15213.8203 - val_loss: 9344.1592\n",
            "Epoch 38: early stopping\n"
          ]
        }
      ]
    },
    {
      "cell_type": "code",
      "source": [
        "plt.plot(history.history['loss'],label=\"Training Loss\")\n",
        "plt.plot(history.history['val_loss'],label=\"Testing Loss\")\n",
        "plt.legend()\n",
        "plt.show()"
      ],
      "metadata": {
        "colab": {
          "base_uri": "https://localhost:8080/",
          "height": 430
        },
        "id": "XLA5Vytzixzf",
        "outputId": "d4b38577-d2ac-4097-fceb-ba413bdbebd5"
      },
      "execution_count": 90,
      "outputs": [
        {
          "output_type": "display_data",
          "data": {
            "text/plain": [
              "<Figure size 640x480 with 1 Axes>"
            ],
            "image/png": "[encoded data removed]"
          },
          "metadata": {}
        }
      ]
    },
    {
      "cell_type": "code",
      "source": [],
      "metadata": {
        "id": "4mMRZ6J4jRHM"
      },
      "execution_count": null,
      "outputs": []
    }
  ]
}
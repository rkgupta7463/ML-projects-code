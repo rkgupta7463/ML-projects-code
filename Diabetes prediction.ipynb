{
 "cells": [
  {
   "cell_type": "code",
   "execution_count": 1,
   "id": "51013b21",
   "metadata": {
    "_cell_guid": "b1076dfc-b9ad-4769-8c92-a6c4dae69d19",
    "_uuid": "8f2839f25d086af736a60e9eeb907d3b93b6e0e5",
    "execution": {
     "iopub.execute_input": "2023-05-31T05:04:15.869852Z",
     "iopub.status.busy": "2023-05-31T05:04:15.869324Z",
     "iopub.status.idle": "2023-05-31T05:04:15.891616Z",
     "shell.execute_reply": "2023-05-31T05:04:15.890445Z"
    },
    "papermill": {
     "duration": 0.055037,
     "end_time": "2023-05-31T05:04:15.894121",
     "exception": false,
     "start_time": "2023-05-31T05:04:15.839084",
     "status": "completed"
    },
    "tags": []
   },
   "outputs": [
    {
     "name": "stdout",
     "output_type": "stream",
     "text": [
      "/kaggle/input/diabetes-prediction-dataset/diabetes_prediction_dataset.csv\n"
     ]
    }
   ],
   "source": [
    "# This Python 3 environment comes with many helpful analytics libraries installed\n",
    "# It is defined by the kaggle/python Docker image: https://github.com/kaggle/docker-python\n",
    "# For example, here's several helpful packages to load\n",
    "\n",
    "import numpy as np # linear algebra\n",
    "import pandas as pd # data processing, CSV file I/O (e.g. pd.read_csv)\n",
    "\n",
    "# Input data files are available in the read-only \"../input/\" directory\n",
    "# For example, running this (by clicking run or pressing Shift+Enter) will list all files under the input directory\n",
    "\n",
    "import os\n",
    "for dirname, _, filenames in os.walk('/kaggle/input'):\n",
    "    for filename in filenames:\n",
    "        print(os.path.join(dirname, filename))\n",
    "\n",
    "# You can write up to 20GB to the current directory (/kaggle/working/) that gets preserved as output when you create a version using \"Save & Run All\" \n",
    "# You can also write temporary files to /kaggle/temp/, but they won't be saved outside of the current session"
   ]
  },
  {
   "cell_type": "code",
   "execution_count": 2,
   "id": "a8897499",
   "metadata": {
    "execution": {
     "iopub.execute_input": "2023-05-31T05:04:15.952228Z",
     "iopub.status.busy": "2023-05-31T05:04:15.951820Z",
     "iopub.status.idle": "2023-05-31T05:04:16.132576Z",
     "shell.execute_reply": "2023-05-31T05:04:16.131325Z"
    },
    "papermill": {
     "duration": 0.212711,
     "end_time": "2023-05-31T05:04:16.135379",
     "exception": false,
     "start_time": "2023-05-31T05:04:15.922668",
     "status": "completed"
    },
    "tags": []
   },
   "outputs": [],
   "source": [
    "df=pd.read_csv(\"/kaggle/input/diabetes-prediction-dataset/diabetes_prediction_dataset.csv\")"
   ]
  },
  {
   "cell_type": "code",
   "execution_count": 3,
   "id": "fe9be21c",
   "metadata": {
    "execution": {
     "iopub.execute_input": "2023-05-31T05:04:16.193240Z",
     "iopub.status.busy": "2023-05-31T05:04:16.192864Z",
     "iopub.status.idle": "2023-05-31T05:04:16.200601Z",
     "shell.execute_reply": "2023-05-31T05:04:16.199596Z"
    },
    "papermill": {
     "duration": 0.039381,
     "end_time": "2023-05-31T05:04:16.202862",
     "exception": false,
     "start_time": "2023-05-31T05:04:16.163481",
     "status": "completed"
    },
    "tags": []
   },
   "outputs": [
    {
     "data": {
      "text/plain": [
       "(100000, 9)"
      ]
     },
     "execution_count": 3,
     "metadata": {},
     "output_type": "execute_result"
    }
   ],
   "source": [
    "df.shape"
   ]
  },
  {
   "cell_type": "code",
   "execution_count": 4,
   "id": "0c1cee9e",
   "metadata": {
    "execution": {
     "iopub.execute_input": "2023-05-31T05:04:16.261060Z",
     "iopub.status.busy": "2023-05-31T05:04:16.259869Z",
     "iopub.status.idle": "2023-05-31T05:04:16.294274Z",
     "shell.execute_reply": "2023-05-31T05:04:16.293436Z"
    },
    "papermill": {
     "duration": 0.065691,
     "end_time": "2023-05-31T05:04:16.296442",
     "exception": false,
     "start_time": "2023-05-31T05:04:16.230751",
     "status": "completed"
    },
    "tags": []
   },
   "outputs": [
    {
     "data": {
      "text/html": [
       "<div>\n",
       "<style scoped>\n",
       "    .dataframe tbody tr th:only-of-type {\n",
       "        vertical-align: middle;\n",
       "    }\n",
       "\n",
       "    .dataframe tbody tr th {\n",
       "        vertical-align: top;\n",
       "    }\n",
       "\n",
       "    .dataframe thead th {\n",
       "        text-align: right;\n",
       "    }\n",
       "</style>\n",
       "<table border=\"1\" class=\"dataframe\">\n",
       "  <thead>\n",
       "    <tr style=\"text-align: right;\">\n",
       "      <th></th>\n",
       "      <th>gender</th>\n",
       "      <th>age</th>\n",
       "      <th>hypertension</th>\n",
       "      <th>heart_disease</th>\n",
       "      <th>smoking_history</th>\n",
       "      <th>bmi</th>\n",
       "      <th>HbA1c_level</th>\n",
       "      <th>blood_glucose_level</th>\n",
       "      <th>diabetes</th>\n",
       "    </tr>\n",
       "  </thead>\n",
       "  <tbody>\n",
       "    <tr>\n",
       "      <th>0</th>\n",
       "      <td>Female</td>\n",
       "      <td>80.0</td>\n",
       "      <td>0</td>\n",
       "      <td>1</td>\n",
       "      <td>never</td>\n",
       "      <td>25.19</td>\n",
       "      <td>6.6</td>\n",
       "      <td>140</td>\n",
       "      <td>0</td>\n",
       "    </tr>\n",
       "    <tr>\n",
       "      <th>1</th>\n",
       "      <td>Female</td>\n",
       "      <td>54.0</td>\n",
       "      <td>0</td>\n",
       "      <td>0</td>\n",
       "      <td>No Info</td>\n",
       "      <td>27.32</td>\n",
       "      <td>6.6</td>\n",
       "      <td>80</td>\n",
       "      <td>0</td>\n",
       "    </tr>\n",
       "    <tr>\n",
       "      <th>2</th>\n",
       "      <td>Male</td>\n",
       "      <td>28.0</td>\n",
       "      <td>0</td>\n",
       "      <td>0</td>\n",
       "      <td>never</td>\n",
       "      <td>27.32</td>\n",
       "      <td>5.7</td>\n",
       "      <td>158</td>\n",
       "      <td>0</td>\n",
       "    </tr>\n",
       "    <tr>\n",
       "      <th>3</th>\n",
       "      <td>Female</td>\n",
       "      <td>36.0</td>\n",
       "      <td>0</td>\n",
       "      <td>0</td>\n",
       "      <td>current</td>\n",
       "      <td>23.45</td>\n",
       "      <td>5.0</td>\n",
       "      <td>155</td>\n",
       "      <td>0</td>\n",
       "    </tr>\n",
       "    <tr>\n",
       "      <th>4</th>\n",
       "      <td>Male</td>\n",
       "      <td>76.0</td>\n",
       "      <td>1</td>\n",
       "      <td>1</td>\n",
       "      <td>current</td>\n",
       "      <td>20.14</td>\n",
       "      <td>4.8</td>\n",
       "      <td>155</td>\n",
       "      <td>0</td>\n",
       "    </tr>\n",
       "  </tbody>\n",
       "</table>\n",
       "</div>"
      ],
      "text/plain": [
       "   gender   age  hypertension  heart_disease smoking_history    bmi  \\\n",
       "0  Female  80.0             0              1           never  25.19   \n",
       "1  Female  54.0             0              0         No Info  27.32   \n",
       "2    Male  28.0             0              0           never  27.32   \n",
       "3  Female  36.0             0              0         current  23.45   \n",
       "4    Male  76.0             1              1         current  20.14   \n",
       "\n",
       "   HbA1c_level  blood_glucose_level  diabetes  \n",
       "0          6.6                  140         0  \n",
       "1          6.6                   80         0  \n",
       "2          5.7                  158         0  \n",
       "3          5.0                  155         0  \n",
       "4          4.8                  155         0  "
      ]
     },
     "execution_count": 4,
     "metadata": {},
     "output_type": "execute_result"
    }
   ],
   "source": [
    "df.head()"
   ]
  },
  {
   "cell_type": "code",
   "execution_count": 5,
   "id": "09b9df03",
   "metadata": {
    "execution": {
     "iopub.execute_input": "2023-05-31T05:04:16.355249Z",
     "iopub.status.busy": "2023-05-31T05:04:16.354532Z",
     "iopub.status.idle": "2023-05-31T05:04:16.371352Z",
     "shell.execute_reply": "2023-05-31T05:04:16.370250Z"
    },
    "papermill": {
     "duration": 0.048834,
     "end_time": "2023-05-31T05:04:16.374058",
     "exception": false,
     "start_time": "2023-05-31T05:04:16.325224",
     "status": "completed"
    },
    "tags": []
   },
   "outputs": [
    {
     "data": {
      "text/html": [
       "<div>\n",
       "<style scoped>\n",
       "    .dataframe tbody tr th:only-of-type {\n",
       "        vertical-align: middle;\n",
       "    }\n",
       "\n",
       "    .dataframe tbody tr th {\n",
       "        vertical-align: top;\n",
       "    }\n",
       "\n",
       "    .dataframe thead th {\n",
       "        text-align: right;\n",
       "    }\n",
       "</style>\n",
       "<table border=\"1\" class=\"dataframe\">\n",
       "  <thead>\n",
       "    <tr style=\"text-align: right;\">\n",
       "      <th></th>\n",
       "      <th>gender</th>\n",
       "      <th>age</th>\n",
       "      <th>hypertension</th>\n",
       "      <th>heart_disease</th>\n",
       "      <th>smoking_history</th>\n",
       "      <th>bmi</th>\n",
       "      <th>HbA1c_level</th>\n",
       "      <th>blood_glucose_level</th>\n",
       "      <th>diabetes</th>\n",
       "    </tr>\n",
       "  </thead>\n",
       "  <tbody>\n",
       "    <tr>\n",
       "      <th>99995</th>\n",
       "      <td>Female</td>\n",
       "      <td>80.0</td>\n",
       "      <td>0</td>\n",
       "      <td>0</td>\n",
       "      <td>No Info</td>\n",
       "      <td>27.32</td>\n",
       "      <td>6.2</td>\n",
       "      <td>90</td>\n",
       "      <td>0</td>\n",
       "    </tr>\n",
       "    <tr>\n",
       "      <th>99996</th>\n",
       "      <td>Female</td>\n",
       "      <td>2.0</td>\n",
       "      <td>0</td>\n",
       "      <td>0</td>\n",
       "      <td>No Info</td>\n",
       "      <td>17.37</td>\n",
       "      <td>6.5</td>\n",
       "      <td>100</td>\n",
       "      <td>0</td>\n",
       "    </tr>\n",
       "    <tr>\n",
       "      <th>99997</th>\n",
       "      <td>Male</td>\n",
       "      <td>66.0</td>\n",
       "      <td>0</td>\n",
       "      <td>0</td>\n",
       "      <td>former</td>\n",
       "      <td>27.83</td>\n",
       "      <td>5.7</td>\n",
       "      <td>155</td>\n",
       "      <td>0</td>\n",
       "    </tr>\n",
       "    <tr>\n",
       "      <th>99998</th>\n",
       "      <td>Female</td>\n",
       "      <td>24.0</td>\n",
       "      <td>0</td>\n",
       "      <td>0</td>\n",
       "      <td>never</td>\n",
       "      <td>35.42</td>\n",
       "      <td>4.0</td>\n",
       "      <td>100</td>\n",
       "      <td>0</td>\n",
       "    </tr>\n",
       "    <tr>\n",
       "      <th>99999</th>\n",
       "      <td>Female</td>\n",
       "      <td>57.0</td>\n",
       "      <td>0</td>\n",
       "      <td>0</td>\n",
       "      <td>current</td>\n",
       "      <td>22.43</td>\n",
       "      <td>6.6</td>\n",
       "      <td>90</td>\n",
       "      <td>0</td>\n",
       "    </tr>\n",
       "  </tbody>\n",
       "</table>\n",
       "</div>"
      ],
      "text/plain": [
       "       gender   age  hypertension  heart_disease smoking_history    bmi  \\\n",
       "99995  Female  80.0             0              0         No Info  27.32   \n",
       "99996  Female   2.0             0              0         No Info  17.37   \n",
       "99997    Male  66.0             0              0          former  27.83   \n",
       "99998  Female  24.0             0              0           never  35.42   \n",
       "99999  Female  57.0             0              0         current  22.43   \n",
       "\n",
       "       HbA1c_level  blood_glucose_level  diabetes  \n",
       "99995          6.2                   90         0  \n",
       "99996          6.5                  100         0  \n",
       "99997          5.7                  155         0  \n",
       "99998          4.0                  100         0  \n",
       "99999          6.6                   90         0  "
      ]
     },
     "execution_count": 5,
     "metadata": {},
     "output_type": "execute_result"
    }
   ],
   "source": [
    "df.tail()"
   ]
  },
  {
   "cell_type": "code",
   "execution_count": 6,
   "id": "740023ce",
   "metadata": {
    "execution": {
     "iopub.execute_input": "2023-05-31T05:04:16.433319Z",
     "iopub.status.busy": "2023-05-31T05:04:16.432922Z",
     "iopub.status.idle": "2023-05-31T05:04:16.458827Z",
     "shell.execute_reply": "2023-05-31T05:04:16.457687Z"
    },
    "papermill": {
     "duration": 0.058189,
     "end_time": "2023-05-31T05:04:16.461445",
     "exception": false,
     "start_time": "2023-05-31T05:04:16.403256",
     "status": "completed"
    },
    "tags": []
   },
   "outputs": [
    {
     "data": {
      "text/html": [
       "<div>\n",
       "<style scoped>\n",
       "    .dataframe tbody tr th:only-of-type {\n",
       "        vertical-align: middle;\n",
       "    }\n",
       "\n",
       "    .dataframe tbody tr th {\n",
       "        vertical-align: top;\n",
       "    }\n",
       "\n",
       "    .dataframe thead th {\n",
       "        text-align: right;\n",
       "    }\n",
       "</style>\n",
       "<table border=\"1\" class=\"dataframe\">\n",
       "  <thead>\n",
       "    <tr style=\"text-align: right;\">\n",
       "      <th></th>\n",
       "      <th>gender</th>\n",
       "      <th>age</th>\n",
       "      <th>hypertension</th>\n",
       "      <th>heart_disease</th>\n",
       "      <th>smoking_history</th>\n",
       "      <th>bmi</th>\n",
       "      <th>HbA1c_level</th>\n",
       "      <th>blood_glucose_level</th>\n",
       "      <th>diabetes</th>\n",
       "    </tr>\n",
       "  </thead>\n",
       "  <tbody>\n",
       "    <tr>\n",
       "      <th>15667</th>\n",
       "      <td>Female</td>\n",
       "      <td>32.0</td>\n",
       "      <td>0</td>\n",
       "      <td>0</td>\n",
       "      <td>never</td>\n",
       "      <td>32.73</td>\n",
       "      <td>6.6</td>\n",
       "      <td>159</td>\n",
       "      <td>0</td>\n",
       "    </tr>\n",
       "    <tr>\n",
       "      <th>38032</th>\n",
       "      <td>Female</td>\n",
       "      <td>20.0</td>\n",
       "      <td>0</td>\n",
       "      <td>0</td>\n",
       "      <td>never</td>\n",
       "      <td>29.68</td>\n",
       "      <td>6.0</td>\n",
       "      <td>85</td>\n",
       "      <td>0</td>\n",
       "    </tr>\n",
       "    <tr>\n",
       "      <th>22962</th>\n",
       "      <td>Female</td>\n",
       "      <td>80.0</td>\n",
       "      <td>0</td>\n",
       "      <td>0</td>\n",
       "      <td>never</td>\n",
       "      <td>23.47</td>\n",
       "      <td>5.7</td>\n",
       "      <td>158</td>\n",
       "      <td>0</td>\n",
       "    </tr>\n",
       "    <tr>\n",
       "      <th>73857</th>\n",
       "      <td>Male</td>\n",
       "      <td>42.0</td>\n",
       "      <td>0</td>\n",
       "      <td>0</td>\n",
       "      <td>never</td>\n",
       "      <td>41.72</td>\n",
       "      <td>6.2</td>\n",
       "      <td>200</td>\n",
       "      <td>0</td>\n",
       "    </tr>\n",
       "    <tr>\n",
       "      <th>84043</th>\n",
       "      <td>Male</td>\n",
       "      <td>77.0</td>\n",
       "      <td>0</td>\n",
       "      <td>0</td>\n",
       "      <td>former</td>\n",
       "      <td>25.78</td>\n",
       "      <td>6.1</td>\n",
       "      <td>126</td>\n",
       "      <td>0</td>\n",
       "    </tr>\n",
       "    <tr>\n",
       "      <th>85663</th>\n",
       "      <td>Female</td>\n",
       "      <td>60.0</td>\n",
       "      <td>0</td>\n",
       "      <td>0</td>\n",
       "      <td>never</td>\n",
       "      <td>28.34</td>\n",
       "      <td>5.7</td>\n",
       "      <td>90</td>\n",
       "      <td>0</td>\n",
       "    </tr>\n",
       "    <tr>\n",
       "      <th>64424</th>\n",
       "      <td>Female</td>\n",
       "      <td>39.0</td>\n",
       "      <td>0</td>\n",
       "      <td>0</td>\n",
       "      <td>never</td>\n",
       "      <td>20.24</td>\n",
       "      <td>6.2</td>\n",
       "      <td>160</td>\n",
       "      <td>0</td>\n",
       "    </tr>\n",
       "    <tr>\n",
       "      <th>65407</th>\n",
       "      <td>Male</td>\n",
       "      <td>50.0</td>\n",
       "      <td>0</td>\n",
       "      <td>0</td>\n",
       "      <td>No Info</td>\n",
       "      <td>27.32</td>\n",
       "      <td>4.5</td>\n",
       "      <td>155</td>\n",
       "      <td>0</td>\n",
       "    </tr>\n",
       "    <tr>\n",
       "      <th>27093</th>\n",
       "      <td>Male</td>\n",
       "      <td>56.0</td>\n",
       "      <td>0</td>\n",
       "      <td>0</td>\n",
       "      <td>never</td>\n",
       "      <td>24.30</td>\n",
       "      <td>4.0</td>\n",
       "      <td>140</td>\n",
       "      <td>0</td>\n",
       "    </tr>\n",
       "    <tr>\n",
       "      <th>24811</th>\n",
       "      <td>Male</td>\n",
       "      <td>4.0</td>\n",
       "      <td>0</td>\n",
       "      <td>0</td>\n",
       "      <td>never</td>\n",
       "      <td>17.20</td>\n",
       "      <td>6.5</td>\n",
       "      <td>126</td>\n",
       "      <td>0</td>\n",
       "    </tr>\n",
       "  </tbody>\n",
       "</table>\n",
       "</div>"
      ],
      "text/plain": [
       "       gender   age  hypertension  heart_disease smoking_history    bmi  \\\n",
       "15667  Female  32.0             0              0           never  32.73   \n",
       "38032  Female  20.0             0              0           never  29.68   \n",
       "22962  Female  80.0             0              0           never  23.47   \n",
       "73857    Male  42.0             0              0           never  41.72   \n",
       "84043    Male  77.0             0              0          former  25.78   \n",
       "85663  Female  60.0             0              0           never  28.34   \n",
       "64424  Female  39.0             0              0           never  20.24   \n",
       "65407    Male  50.0             0              0         No Info  27.32   \n",
       "27093    Male  56.0             0              0           never  24.30   \n",
       "24811    Male   4.0             0              0           never  17.20   \n",
       "\n",
       "       HbA1c_level  blood_glucose_level  diabetes  \n",
       "15667          6.6                  159         0  \n",
       "38032          6.0                   85         0  \n",
       "22962          5.7                  158         0  \n",
       "73857          6.2                  200         0  \n",
       "84043          6.1                  126         0  \n",
       "85663          5.7                   90         0  \n",
       "64424          6.2                  160         0  \n",
       "65407          4.5                  155         0  \n",
       "27093          4.0                  140         0  \n",
       "24811          6.5                  126         0  "
      ]
     },
     "execution_count": 6,
     "metadata": {},
     "output_type": "execute_result"
    }
   ],
   "source": [
    "df.sample(10)"
   ]
  },
  {
   "cell_type": "markdown",
   "id": "57767e1b",
   "metadata": {
    "papermill": {
     "duration": 0.02846,
     "end_time": "2023-05-31T05:04:16.519451",
     "exception": false,
     "start_time": "2023-05-31T05:04:16.490991",
     "status": "completed"
    },
    "tags": []
   },
   "source": [
    "# **EDA (Exploratory data Analysis)**"
   ]
  },
  {
   "cell_type": "code",
   "execution_count": 7,
   "id": "7eb8f0be",
   "metadata": {
    "execution": {
     "iopub.execute_input": "2023-05-31T05:04:16.579268Z",
     "iopub.status.busy": "2023-05-31T05:04:16.578498Z",
     "iopub.status.idle": "2023-05-31T05:04:16.650697Z",
     "shell.execute_reply": "2023-05-31T05:04:16.649339Z"
    },
    "papermill": {
     "duration": 0.105301,
     "end_time": "2023-05-31T05:04:16.653349",
     "exception": false,
     "start_time": "2023-05-31T05:04:16.548048",
     "status": "completed"
    },
    "tags": []
   },
   "outputs": [
    {
     "data": {
      "text/plain": [
       "gender                 0\n",
       "age                    0\n",
       "hypertension           0\n",
       "heart_disease          0\n",
       "smoking_history        0\n",
       "bmi                    0\n",
       "HbA1c_level            0\n",
       "blood_glucose_level    0\n",
       "diabetes               0\n",
       "dtype: int64"
      ]
     },
     "execution_count": 7,
     "metadata": {},
     "output_type": "execute_result"
    }
   ],
   "source": [
    "df.isnull().sum()"
   ]
  },
  {
   "cell_type": "code",
   "execution_count": 8,
   "id": "c55eee5f",
   "metadata": {
    "execution": {
     "iopub.execute_input": "2023-05-31T05:04:16.714153Z",
     "iopub.status.busy": "2023-05-31T05:04:16.713739Z",
     "iopub.status.idle": "2023-05-31T05:04:16.776004Z",
     "shell.execute_reply": "2023-05-31T05:04:16.774849Z"
    },
    "papermill": {
     "duration": 0.095597,
     "end_time": "2023-05-31T05:04:16.778532",
     "exception": false,
     "start_time": "2023-05-31T05:04:16.682935",
     "status": "completed"
    },
    "tags": []
   },
   "outputs": [
    {
     "data": {
      "text/html": [
       "<div>\n",
       "<style scoped>\n",
       "    .dataframe tbody tr th:only-of-type {\n",
       "        vertical-align: middle;\n",
       "    }\n",
       "\n",
       "    .dataframe tbody tr th {\n",
       "        vertical-align: top;\n",
       "    }\n",
       "\n",
       "    .dataframe thead th {\n",
       "        text-align: right;\n",
       "    }\n",
       "</style>\n",
       "<table border=\"1\" class=\"dataframe\">\n",
       "  <thead>\n",
       "    <tr style=\"text-align: right;\">\n",
       "      <th></th>\n",
       "      <th>age</th>\n",
       "      <th>hypertension</th>\n",
       "      <th>heart_disease</th>\n",
       "      <th>bmi</th>\n",
       "      <th>HbA1c_level</th>\n",
       "      <th>blood_glucose_level</th>\n",
       "      <th>diabetes</th>\n",
       "    </tr>\n",
       "  </thead>\n",
       "  <tbody>\n",
       "    <tr>\n",
       "      <th>count</th>\n",
       "      <td>100000.000000</td>\n",
       "      <td>100000.00000</td>\n",
       "      <td>100000.000000</td>\n",
       "      <td>100000.000000</td>\n",
       "      <td>100000.000000</td>\n",
       "      <td>100000.000000</td>\n",
       "      <td>100000.000000</td>\n",
       "    </tr>\n",
       "    <tr>\n",
       "      <th>mean</th>\n",
       "      <td>41.885856</td>\n",
       "      <td>0.07485</td>\n",
       "      <td>0.039420</td>\n",
       "      <td>27.320767</td>\n",
       "      <td>5.527507</td>\n",
       "      <td>138.058060</td>\n",
       "      <td>0.085000</td>\n",
       "    </tr>\n",
       "    <tr>\n",
       "      <th>std</th>\n",
       "      <td>22.516840</td>\n",
       "      <td>0.26315</td>\n",
       "      <td>0.194593</td>\n",
       "      <td>6.636783</td>\n",
       "      <td>1.070672</td>\n",
       "      <td>40.708136</td>\n",
       "      <td>0.278883</td>\n",
       "    </tr>\n",
       "    <tr>\n",
       "      <th>min</th>\n",
       "      <td>0.080000</td>\n",
       "      <td>0.00000</td>\n",
       "      <td>0.000000</td>\n",
       "      <td>10.010000</td>\n",
       "      <td>3.500000</td>\n",
       "      <td>80.000000</td>\n",
       "      <td>0.000000</td>\n",
       "    </tr>\n",
       "    <tr>\n",
       "      <th>25%</th>\n",
       "      <td>24.000000</td>\n",
       "      <td>0.00000</td>\n",
       "      <td>0.000000</td>\n",
       "      <td>23.630000</td>\n",
       "      <td>4.800000</td>\n",
       "      <td>100.000000</td>\n",
       "      <td>0.000000</td>\n",
       "    </tr>\n",
       "    <tr>\n",
       "      <th>50%</th>\n",
       "      <td>43.000000</td>\n",
       "      <td>0.00000</td>\n",
       "      <td>0.000000</td>\n",
       "      <td>27.320000</td>\n",
       "      <td>5.800000</td>\n",
       "      <td>140.000000</td>\n",
       "      <td>0.000000</td>\n",
       "    </tr>\n",
       "    <tr>\n",
       "      <th>75%</th>\n",
       "      <td>60.000000</td>\n",
       "      <td>0.00000</td>\n",
       "      <td>0.000000</td>\n",
       "      <td>29.580000</td>\n",
       "      <td>6.200000</td>\n",
       "      <td>159.000000</td>\n",
       "      <td>0.000000</td>\n",
       "    </tr>\n",
       "    <tr>\n",
       "      <th>max</th>\n",
       "      <td>80.000000</td>\n",
       "      <td>1.00000</td>\n",
       "      <td>1.000000</td>\n",
       "      <td>95.690000</td>\n",
       "      <td>9.000000</td>\n",
       "      <td>300.000000</td>\n",
       "      <td>1.000000</td>\n",
       "    </tr>\n",
       "  </tbody>\n",
       "</table>\n",
       "</div>"
      ],
      "text/plain": [
       "                 age  hypertension  heart_disease            bmi  \\\n",
       "count  100000.000000  100000.00000  100000.000000  100000.000000   \n",
       "mean       41.885856       0.07485       0.039420      27.320767   \n",
       "std        22.516840       0.26315       0.194593       6.636783   \n",
       "min         0.080000       0.00000       0.000000      10.010000   \n",
       "25%        24.000000       0.00000       0.000000      23.630000   \n",
       "50%        43.000000       0.00000       0.000000      27.320000   \n",
       "75%        60.000000       0.00000       0.000000      29.580000   \n",
       "max        80.000000       1.00000       1.000000      95.690000   \n",
       "\n",
       "         HbA1c_level  blood_glucose_level       diabetes  \n",
       "count  100000.000000        100000.000000  100000.000000  \n",
       "mean        5.527507           138.058060       0.085000  \n",
       "std         1.070672            40.708136       0.278883  \n",
       "min         3.500000            80.000000       0.000000  \n",
       "25%         4.800000           100.000000       0.000000  \n",
       "50%         5.800000           140.000000       0.000000  \n",
       "75%         6.200000           159.000000       0.000000  \n",
       "max         9.000000           300.000000       1.000000  "
      ]
     },
     "execution_count": 8,
     "metadata": {},
     "output_type": "execute_result"
    }
   ],
   "source": [
    "df.describe()"
   ]
  },
  {
   "cell_type": "code",
   "execution_count": 9,
   "id": "007ce421",
   "metadata": {
    "execution": {
     "iopub.execute_input": "2023-05-31T05:04:16.839964Z",
     "iopub.status.busy": "2023-05-31T05:04:16.839503Z",
     "iopub.status.idle": "2023-05-31T05:04:16.927346Z",
     "shell.execute_reply": "2023-05-31T05:04:16.926070Z"
    },
    "papermill": {
     "duration": 0.121421,
     "end_time": "2023-05-31T05:04:16.930091",
     "exception": false,
     "start_time": "2023-05-31T05:04:16.808670",
     "status": "completed"
    },
    "tags": []
   },
   "outputs": [
    {
     "name": "stdout",
     "output_type": "stream",
     "text": [
      "<class 'pandas.core.frame.DataFrame'>\n",
      "RangeIndex: 100000 entries, 0 to 99999\n",
      "Data columns (total 9 columns):\n",
      " #   Column               Non-Null Count   Dtype  \n",
      "---  ------               --------------   -----  \n",
      " 0   gender               100000 non-null  object \n",
      " 1   age                  100000 non-null  float64\n",
      " 2   hypertension         100000 non-null  int64  \n",
      " 3   heart_disease        100000 non-null  int64  \n",
      " 4   smoking_history      100000 non-null  object \n",
      " 5   bmi                  100000 non-null  float64\n",
      " 6   HbA1c_level          100000 non-null  float64\n",
      " 7   blood_glucose_level  100000 non-null  int64  \n",
      " 8   diabetes             100000 non-null  int64  \n",
      "dtypes: float64(3), int64(4), object(2)\n",
      "memory usage: 6.9+ MB\n"
     ]
    }
   ],
   "source": [
    "df.info()"
   ]
  },
  {
   "cell_type": "code",
   "execution_count": 10,
   "id": "66b1d35e",
   "metadata": {
    "execution": {
     "iopub.execute_input": "2023-05-31T05:04:16.993298Z",
     "iopub.status.busy": "2023-05-31T05:04:16.992588Z",
     "iopub.status.idle": "2023-05-31T05:04:18.456600Z",
     "shell.execute_reply": "2023-05-31T05:04:18.455300Z"
    },
    "papermill": {
     "duration": 1.498791,
     "end_time": "2023-05-31T05:04:18.459593",
     "exception": false,
     "start_time": "2023-05-31T05:04:16.960802",
     "status": "completed"
    },
    "tags": []
   },
   "outputs": [
    {
     "name": "stderr",
     "output_type": "stream",
     "text": [
      "/opt/conda/lib/python3.10/site-packages/scipy/__init__.py:146: UserWarning: A NumPy version >=1.16.5 and <1.23.0 is required for this version of SciPy (detected version 1.23.5\n",
      "  warnings.warn(f\"A NumPy version >={np_minversion} and <{np_maxversion}\"\n"
     ]
    }
   ],
   "source": [
    "import matplotlib.pyplot as plt\n",
    "import seaborn as sns"
   ]
  },
  {
   "cell_type": "code",
   "execution_count": 11,
   "id": "fecc0f96",
   "metadata": {
    "execution": {
     "iopub.execute_input": "2023-05-31T05:04:18.522010Z",
     "iopub.status.busy": "2023-05-31T05:04:18.521597Z",
     "iopub.status.idle": "2023-05-31T05:04:19.117394Z",
     "shell.execute_reply": "2023-05-31T05:04:19.116134Z"
    },
    "papermill": {
     "duration": 0.630767,
     "end_time": "2023-05-31T05:04:19.119949",
     "exception": false,
     "start_time": "2023-05-31T05:04:18.489182",
     "status": "completed"
    },
    "tags": []
   },
   "outputs": [
    {
     "data": {
      "text/plain": [
       "<AxesSubplot: >"
      ]
     },
     "execution_count": 11,
     "metadata": {},
     "output_type": "execute_result"
    },
    {
     "data": {
      "image/png": "[encoded data removed]",
      "text/plain": [
       "<Figure size 1600x600 with 1 Axes>"
      ]
     },
     "metadata": {},
     "output_type": "display_data"
    }
   ],
   "source": [
    "plt.figure(figsize=(16,6))\n",
    "sns.boxplot(df,orient=\"h\")"
   ]
  },
  {
   "cell_type": "code",
   "execution_count": 12,
   "id": "b7499c37",
   "metadata": {
    "execution": {
     "iopub.execute_input": "2023-05-31T05:04:19.182464Z",
     "iopub.status.busy": "2023-05-31T05:04:19.181523Z",
     "iopub.status.idle": "2023-05-31T05:04:29.692394Z",
     "shell.execute_reply": "2023-05-31T05:04:29.691197Z"
    },
    "papermill": {
     "duration": 10.544989,
     "end_time": "2023-05-31T05:04:29.694990",
     "exception": false,
     "start_time": "2023-05-31T05:04:19.150001",
     "status": "completed"
    },
    "tags": []
   },
   "outputs": [
    {
     "data": {
      "text/plain": [
       "<AxesSubplot: xlabel='heart_disease', ylabel='diabetes'>"
      ]
     },
     "execution_count": 12,
     "metadata": {},
     "output_type": "execute_result"
    },
    {
     "data": {
      "image/png": "[encoded data removed]",
      "text/plain": [
       "<Figure size 640x480 with 1 Axes>"
      ]
     },
     "metadata": {},
     "output_type": "display_data"
    }
   ],
   "source": [
    "sns.scatterplot(x=df['heart_disease'],y=df['diabetes'],hue=df['age'])"
   ]
  },
  {
   "cell_type": "code",
   "execution_count": 13,
   "id": "69a79e49",
   "metadata": {
    "execution": {
     "iopub.execute_input": "2023-05-31T05:04:29.757941Z",
     "iopub.status.busy": "2023-05-31T05:04:29.757526Z",
     "iopub.status.idle": "2023-05-31T05:04:32.819243Z",
     "shell.execute_reply": "2023-05-31T05:04:32.818252Z"
    },
    "papermill": {
     "duration": 3.096099,
     "end_time": "2023-05-31T05:04:32.821708",
     "exception": false,
     "start_time": "2023-05-31T05:04:29.725609",
     "status": "completed"
    },
    "tags": []
   },
   "outputs": [
    {
     "data": {
      "text/plain": [
       "<AxesSubplot: xlabel='blood_glucose_level', ylabel='Density'>"
      ]
     },
     "execution_count": 13,
     "metadata": {},
     "output_type": "execute_result"
    },
    {
     "data": {
      "image/png": "[encoded data removed]",
      "text/plain": [
       "<Figure size 1600x600 with 4 Axes>"
      ]
     },
     "metadata": {},
     "output_type": "display_data"
    }
   ],
   "source": [
    "plt.figure(figsize=(16,6))\n",
    "plt.subplot(2, 2, 1)\n",
    "sns.kdeplot(df['diabetes'])\n",
    "plt.subplot(2,2,2)\n",
    "sns.kdeplot(df['heart_disease'])\n",
    "plt.subplot(2,2,3)\n",
    "sns.kdeplot(df['bmi'])\n",
    "plt.subplot(2,2,4)\n",
    "sns.kdeplot(df['blood_glucose_level'])"
   ]
  },
  {
   "cell_type": "code",
   "execution_count": 14,
   "id": "edc8e498",
   "metadata": {
    "execution": {
     "iopub.execute_input": "2023-05-31T05:04:32.889318Z",
     "iopub.status.busy": "2023-05-31T05:04:32.888450Z",
     "iopub.status.idle": "2023-05-31T05:04:33.292184Z",
     "shell.execute_reply": "2023-05-31T05:04:33.290773Z"
    },
    "papermill": {
     "duration": 0.441318,
     "end_time": "2023-05-31T05:04:33.294911",
     "exception": false,
     "start_time": "2023-05-31T05:04:32.853593",
     "status": "completed"
    },
    "tags": []
   },
   "outputs": [
    {
     "data": {
      "text/plain": [
       "<AxesSubplot: xlabel='diabetes', ylabel='Count'>"
      ]
     },
     "execution_count": 14,
     "metadata": {},
     "output_type": "execute_result"
    },
    {
     "data": {
      "image/png": "[encoded data removed]",
      "text/plain": [
       "<Figure size 640x480 with 1 Axes>"
      ]
     },
     "metadata": {},
     "output_type": "display_data"
    }
   ],
   "source": [
    "sns.histplot(df['diabetes'])"
   ]
  },
  {
   "cell_type": "code",
   "execution_count": 15,
   "id": "c3689988",
   "metadata": {
    "execution": {
     "iopub.execute_input": "2023-05-31T05:04:33.361612Z",
     "iopub.status.busy": "2023-05-31T05:04:33.361225Z",
     "iopub.status.idle": "2023-05-31T05:04:33.370039Z",
     "shell.execute_reply": "2023-05-31T05:04:33.369115Z"
    },
    "papermill": {
     "duration": 0.045054,
     "end_time": "2023-05-31T05:04:33.372509",
     "exception": false,
     "start_time": "2023-05-31T05:04:33.327455",
     "status": "completed"
    },
    "tags": []
   },
   "outputs": [
    {
     "data": {
      "text/plain": [
       "0.8216549517517585"
      ]
     },
     "execution_count": 15,
     "metadata": {},
     "output_type": "execute_result"
    }
   ],
   "source": [
    "df['blood_glucose_level'].skew()"
   ]
  },
  {
   "cell_type": "code",
   "execution_count": 16,
   "id": "13bbd41d",
   "metadata": {
    "execution": {
     "iopub.execute_input": "2023-05-31T05:04:33.441394Z",
     "iopub.status.busy": "2023-05-31T05:04:33.440349Z",
     "iopub.status.idle": "2023-05-31T05:04:33.450141Z",
     "shell.execute_reply": "2023-05-31T05:04:33.448826Z"
    },
    "papermill": {
     "duration": 0.045951,
     "end_time": "2023-05-31T05:04:33.452656",
     "exception": false,
     "start_time": "2023-05-31T05:04:33.406705",
     "status": "completed"
    },
    "tags": []
   },
   "outputs": [
    {
     "data": {
      "text/plain": [
       "1.0438355183081105"
      ]
     },
     "execution_count": 16,
     "metadata": {},
     "output_type": "execute_result"
    }
   ],
   "source": [
    "df['bmi'].skew()"
   ]
  },
  {
   "cell_type": "markdown",
   "id": "6d002b4b",
   "metadata": {
    "papermill": {
     "duration": 0.033468,
     "end_time": "2023-05-31T05:04:33.518878",
     "exception": false,
     "start_time": "2023-05-31T05:04:33.485410",
     "status": "completed"
    },
    "tags": []
   },
   "source": [
    "# **Outliers Removing**"
   ]
  },
  {
   "cell_type": "markdown",
   "id": "668edb36",
   "metadata": {
    "papermill": {
     "duration": 0.033354,
     "end_time": "2023-05-31T05:04:33.586435",
     "exception": false,
     "start_time": "2023-05-31T05:04:33.553081",
     "status": "completed"
    },
    "tags": []
   },
   "source": [
    "Actually outlier removing mmethod's two type\n",
    "* Capping method (Ajust outlier with maximum and minimum values)\n",
    "* Tramming method (Removing those row from datasets who's having outliers) "
   ]
  },
  {
   "cell_type": "code",
   "execution_count": 17,
   "id": "fa2ae41f",
   "metadata": {
    "execution": {
     "iopub.execute_input": "2023-05-31T05:04:33.653522Z",
     "iopub.status.busy": "2023-05-31T05:04:33.652725Z",
     "iopub.status.idle": "2023-05-31T05:04:33.662737Z",
     "shell.execute_reply": "2023-05-31T05:04:33.661465Z"
    },
    "papermill": {
     "duration": 0.046431,
     "end_time": "2023-05-31T05:04:33.665215",
     "exception": false,
     "start_time": "2023-05-31T05:04:33.618784",
     "status": "completed"
    },
    "tags": []
   },
   "outputs": [
    {
     "data": {
      "text/plain": [
       "(260.1824681461124, 15.93365185388761)"
      ]
     },
     "execution_count": 17,
     "metadata": {},
     "output_type": "execute_result"
    }
   ],
   "source": [
    "##Tramming\n",
    "upper_limit=df['blood_glucose_level'].mean() + 3*df['blood_glucose_level'].std()\n",
    "lower_limit=df['blood_glucose_level'].mean() - 3*df['blood_glucose_level'].std()\n",
    "upper_limit,lower_limit"
   ]
  },
  {
   "cell_type": "code",
   "execution_count": 18,
   "id": "1509a50c",
   "metadata": {
    "execution": {
     "iopub.execute_input": "2023-05-31T05:04:33.733042Z",
     "iopub.status.busy": "2023-05-31T05:04:33.732289Z",
     "iopub.status.idle": "2023-05-31T05:04:33.738356Z",
     "shell.execute_reply": "2023-05-31T05:04:33.737320Z"
    },
    "papermill": {
     "duration": 0.042365,
     "end_time": "2023-05-31T05:04:33.740510",
     "exception": false,
     "start_time": "2023-05-31T05:04:33.698145",
     "status": "completed"
    },
    "tags": []
   },
   "outputs": [
    {
     "data": {
      "text/plain": [
       "(100000, 9)"
      ]
     },
     "execution_count": 18,
     "metadata": {},
     "output_type": "execute_result"
    }
   ],
   "source": [
    "df.shape"
   ]
  },
  {
   "cell_type": "code",
   "execution_count": 19,
   "id": "0f5b4fd8",
   "metadata": {
    "execution": {
     "iopub.execute_input": "2023-05-31T05:04:33.808955Z",
     "iopub.status.busy": "2023-05-31T05:04:33.808498Z",
     "iopub.status.idle": "2023-05-31T05:04:33.824563Z",
     "shell.execute_reply": "2023-05-31T05:04:33.823319Z"
    },
    "papermill": {
     "duration": 0.053333,
     "end_time": "2023-05-31T05:04:33.827400",
     "exception": false,
     "start_time": "2023-05-31T05:04:33.774067",
     "status": "completed"
    },
    "tags": []
   },
   "outputs": [],
   "source": [
    "new_df=df[(df['blood_glucose_level'] < upper_limit) & (df['blood_glucose_level'] > lower_limit)]"
   ]
  },
  {
   "cell_type": "code",
   "execution_count": 20,
   "id": "b2d247e0",
   "metadata": {
    "execution": {
     "iopub.execute_input": "2023-05-31T05:04:33.895280Z",
     "iopub.status.busy": "2023-05-31T05:04:33.894577Z",
     "iopub.status.idle": "2023-05-31T05:04:33.902626Z",
     "shell.execute_reply": "2023-05-31T05:04:33.901825Z"
    },
    "papermill": {
     "duration": 0.044574,
     "end_time": "2023-05-31T05:04:33.904929",
     "exception": false,
     "start_time": "2023-05-31T05:04:33.860355",
     "status": "completed"
    },
    "tags": []
   },
   "outputs": [
    {
     "data": {
      "text/plain": [
       "(98597, 9)"
      ]
     },
     "execution_count": 20,
     "metadata": {},
     "output_type": "execute_result"
    }
   ],
   "source": [
    "new_df.shape"
   ]
  },
  {
   "cell_type": "code",
   "execution_count": 21,
   "id": "e98c5169",
   "metadata": {
    "execution": {
     "iopub.execute_input": "2023-05-31T05:04:33.973552Z",
     "iopub.status.busy": "2023-05-31T05:04:33.973157Z",
     "iopub.status.idle": "2023-05-31T05:04:33.982996Z",
     "shell.execute_reply": "2023-05-31T05:04:33.981789Z"
    },
    "papermill": {
     "duration": 0.047269,
     "end_time": "2023-05-31T05:04:33.985284",
     "exception": false,
     "start_time": "2023-05-31T05:04:33.938015",
     "status": "completed"
    },
    "tags": []
   },
   "outputs": [
    {
     "data": {
      "text/plain": [
       "(0, 9)"
      ]
     },
     "execution_count": 21,
     "metadata": {},
     "output_type": "execute_result"
    }
   ],
   "source": [
    "new_df[(new_df['blood_glucose_level'] > upper_limit) | (new_df['blood_glucose_level'] < lower_limit)].shape"
   ]
  },
  {
   "cell_type": "code",
   "execution_count": 22,
   "id": "51f69bea",
   "metadata": {
    "execution": {
     "iopub.execute_input": "2023-05-31T05:04:34.055182Z",
     "iopub.status.busy": "2023-05-31T05:04:34.053959Z",
     "iopub.status.idle": "2023-05-31T05:04:34.273504Z",
     "shell.execute_reply": "2023-05-31T05:04:34.272317Z"
    },
    "papermill": {
     "duration": 0.25704,
     "end_time": "2023-05-31T05:04:34.275998",
     "exception": false,
     "start_time": "2023-05-31T05:04:34.018958",
     "status": "completed"
    },
    "tags": []
   },
   "outputs": [
    {
     "data": {
      "text/plain": [
       "<AxesSubplot: >"
      ]
     },
     "execution_count": 22,
     "metadata": {},
     "output_type": "execute_result"
    },
    {
     "data": {
      "image/png": "[encoded data removed]",
      "text/plain": [
       "<Figure size 640x480 with 1 Axes>"
      ]
     },
     "metadata": {},
     "output_type": "display_data"
    }
   ],
   "source": [
    "sns.boxplot(new_df['blood_glucose_level'])"
   ]
  },
  {
   "cell_type": "code",
   "execution_count": 23,
   "id": "e515a0c1",
   "metadata": {
    "execution": {
     "iopub.execute_input": "2023-05-31T05:04:34.347018Z",
     "iopub.status.busy": "2023-05-31T05:04:34.346609Z",
     "iopub.status.idle": "2023-05-31T05:04:34.358126Z",
     "shell.execute_reply": "2023-05-31T05:04:34.356970Z"
    },
    "papermill": {
     "duration": 0.049984,
     "end_time": "2023-05-31T05:04:34.360540",
     "exception": false,
     "start_time": "2023-05-31T05:04:34.310556",
     "status": "completed"
    },
    "tags": []
   },
   "outputs": [
    {
     "data": {
      "text/plain": [
       "(47.23111734994511, 7.410416850054897)"
      ]
     },
     "execution_count": 23,
     "metadata": {},
     "output_type": "execute_result"
    }
   ],
   "source": [
    "##Tramming\n",
    "upper_limit_bmi=df['bmi'].mean() + 3*df['bmi'].std()\n",
    "lower_limit_bmi=df['bmi'].mean() - 3*df['bmi'].std()\n",
    "upper_limit_bmi,lower_limit_bmi"
   ]
  },
  {
   "cell_type": "code",
   "execution_count": 24,
   "id": "e64bfcd6",
   "metadata": {
    "execution": {
     "iopub.execute_input": "2023-05-31T05:04:34.433315Z",
     "iopub.status.busy": "2023-05-31T05:04:34.432915Z",
     "iopub.status.idle": "2023-05-31T05:04:34.443195Z",
     "shell.execute_reply": "2023-05-31T05:04:34.442034Z"
    },
    "papermill": {
     "duration": 0.05063,
     "end_time": "2023-05-31T05:04:34.445514",
     "exception": false,
     "start_time": "2023-05-31T05:04:34.394884",
     "status": "completed"
    },
    "tags": []
   },
   "outputs": [
    {
     "data": {
      "text/plain": [
       "(1231, 9)"
      ]
     },
     "execution_count": 24,
     "metadata": {},
     "output_type": "execute_result"
    }
   ],
   "source": [
    "new_df[(new_df['bmi'] > upper_limit_bmi) | (new_df['bmi'] < lower_limit_bmi)].shape"
   ]
  },
  {
   "cell_type": "code",
   "execution_count": 25,
   "id": "5205a5c3",
   "metadata": {
    "execution": {
     "iopub.execute_input": "2023-05-31T05:04:34.515964Z",
     "iopub.status.busy": "2023-05-31T05:04:34.515202Z",
     "iopub.status.idle": "2023-05-31T05:04:34.523640Z",
     "shell.execute_reply": "2023-05-31T05:04:34.522482Z"
    },
    "papermill": {
     "duration": 0.046479,
     "end_time": "2023-05-31T05:04:34.526111",
     "exception": false,
     "start_time": "2023-05-31T05:04:34.479632",
     "status": "completed"
    },
    "tags": []
   },
   "outputs": [
    {
     "name": "stderr",
     "output_type": "stream",
     "text": [
      "/tmp/ipykernel_20/326645041.py:2: SettingWithCopyWarning: \n",
      "A value is trying to be set on a copy of a slice from a DataFrame.\n",
      "Try using .loc[row_indexer,col_indexer] = value instead\n",
      "\n",
      "See the caveats in the documentation: https://pandas.pydata.org/pandas-docs/stable/user_guide/indexing.html#returning-a-view-versus-a-copy\n",
      "  new_df['bmi']=np.where(\n"
     ]
    }
   ],
   "source": [
    "##Capping with max and min value \n",
    "new_df['bmi']=np.where(\n",
    "new_df['bmi']>upper_limit_bmi,\n",
    "    upper_limit_bmi,np.where(\n",
    "    new_df['bmi']<lower_limit_bmi,\n",
    "        lower_limit_bmi,\n",
    "        new_df['bmi']\n",
    "    )\n",
    ")"
   ]
  },
  {
   "cell_type": "code",
   "execution_count": 26,
   "id": "37daa6b2",
   "metadata": {
    "execution": {
     "iopub.execute_input": "2023-05-31T05:04:34.597265Z",
     "iopub.status.busy": "2023-05-31T05:04:34.596863Z",
     "iopub.status.idle": "2023-05-31T05:04:34.814724Z",
     "shell.execute_reply": "2023-05-31T05:04:34.813517Z"
    },
    "papermill": {
     "duration": 0.256717,
     "end_time": "2023-05-31T05:04:34.817285",
     "exception": false,
     "start_time": "2023-05-31T05:04:34.560568",
     "status": "completed"
    },
    "tags": []
   },
   "outputs": [
    {
     "data": {
      "text/plain": [
       "<AxesSubplot: >"
      ]
     },
     "execution_count": 26,
     "metadata": {},
     "output_type": "execute_result"
    },
    {
     "data": {
      "image/png": "[encoded data removed]",
      "text/plain": [
       "<Figure size 640x480 with 1 Axes>"
      ]
     },
     "metadata": {},
     "output_type": "display_data"
    }
   ],
   "source": [
    "sns.boxplot(df['bmi'])"
   ]
  },
  {
   "cell_type": "code",
   "execution_count": 27,
   "id": "292e587c",
   "metadata": {
    "execution": {
     "iopub.execute_input": "2023-05-31T05:04:34.888840Z",
     "iopub.status.busy": "2023-05-31T05:04:34.888041Z",
     "iopub.status.idle": "2023-05-31T05:04:34.900313Z",
     "shell.execute_reply": "2023-05-31T05:04:34.899174Z"
    },
    "papermill": {
     "duration": 0.050939,
     "end_time": "2023-05-31T05:04:34.902902",
     "exception": false,
     "start_time": "2023-05-31T05:04:34.851963",
     "status": "completed"
    },
    "tags": []
   },
   "outputs": [
    {
     "data": {
      "text/plain": [
       "(0, 9)"
      ]
     },
     "execution_count": 27,
     "metadata": {},
     "output_type": "execute_result"
    }
   ],
   "source": [
    "new_df[(new_df['bmi'] > upper_limit_bmi) | (new_df['bmi'] < lower_limit_bmi)].shape"
   ]
  },
  {
   "cell_type": "code",
   "execution_count": 28,
   "id": "330e58fd",
   "metadata": {
    "execution": {
     "iopub.execute_input": "2023-05-31T05:04:34.975004Z",
     "iopub.status.busy": "2023-05-31T05:04:34.974286Z",
     "iopub.status.idle": "2023-05-31T05:04:35.031564Z",
     "shell.execute_reply": "2023-05-31T05:04:35.030397Z"
    },
    "papermill": {
     "duration": 0.095754,
     "end_time": "2023-05-31T05:04:35.034170",
     "exception": false,
     "start_time": "2023-05-31T05:04:34.938416",
     "status": "completed"
    },
    "tags": []
   },
   "outputs": [
    {
     "data": {
      "text/html": [
       "<div>\n",
       "<style scoped>\n",
       "    .dataframe tbody tr th:only-of-type {\n",
       "        vertical-align: middle;\n",
       "    }\n",
       "\n",
       "    .dataframe tbody tr th {\n",
       "        vertical-align: top;\n",
       "    }\n",
       "\n",
       "    .dataframe thead th {\n",
       "        text-align: right;\n",
       "    }\n",
       "</style>\n",
       "<table border=\"1\" class=\"dataframe\">\n",
       "  <thead>\n",
       "    <tr style=\"text-align: right;\">\n",
       "      <th></th>\n",
       "      <th>age</th>\n",
       "      <th>hypertension</th>\n",
       "      <th>heart_disease</th>\n",
       "      <th>bmi</th>\n",
       "      <th>HbA1c_level</th>\n",
       "      <th>blood_glucose_level</th>\n",
       "      <th>diabetes</th>\n",
       "    </tr>\n",
       "  </thead>\n",
       "  <tbody>\n",
       "    <tr>\n",
       "      <th>count</th>\n",
       "      <td>98597.000000</td>\n",
       "      <td>98597.000000</td>\n",
       "      <td>98597.000000</td>\n",
       "      <td>98597.000000</td>\n",
       "      <td>98597.000000</td>\n",
       "      <td>98597.000000</td>\n",
       "      <td>98597.000000</td>\n",
       "    </tr>\n",
       "    <tr>\n",
       "      <th>mean</th>\n",
       "      <td>41.619893</td>\n",
       "      <td>0.072497</td>\n",
       "      <td>0.037861</td>\n",
       "      <td>27.183006</td>\n",
       "      <td>5.507552</td>\n",
       "      <td>135.901559</td>\n",
       "      <td>0.071980</td>\n",
       "    </tr>\n",
       "    <tr>\n",
       "      <th>std</th>\n",
       "      <td>22.497724</td>\n",
       "      <td>0.259311</td>\n",
       "      <td>0.190861</td>\n",
       "      <td>6.321544</td>\n",
       "      <td>1.057208</td>\n",
       "      <td>36.712955</td>\n",
       "      <td>0.258456</td>\n",
       "    </tr>\n",
       "    <tr>\n",
       "      <th>min</th>\n",
       "      <td>0.080000</td>\n",
       "      <td>0.000000</td>\n",
       "      <td>0.000000</td>\n",
       "      <td>10.010000</td>\n",
       "      <td>3.500000</td>\n",
       "      <td>80.000000</td>\n",
       "      <td>0.000000</td>\n",
       "    </tr>\n",
       "    <tr>\n",
       "      <th>25%</th>\n",
       "      <td>24.000000</td>\n",
       "      <td>0.000000</td>\n",
       "      <td>0.000000</td>\n",
       "      <td>23.570000</td>\n",
       "      <td>4.800000</td>\n",
       "      <td>100.000000</td>\n",
       "      <td>0.000000</td>\n",
       "    </tr>\n",
       "    <tr>\n",
       "      <th>50%</th>\n",
       "      <td>42.000000</td>\n",
       "      <td>0.000000</td>\n",
       "      <td>0.000000</td>\n",
       "      <td>27.320000</td>\n",
       "      <td>5.800000</td>\n",
       "      <td>140.000000</td>\n",
       "      <td>0.000000</td>\n",
       "    </tr>\n",
       "    <tr>\n",
       "      <th>75%</th>\n",
       "      <td>59.000000</td>\n",
       "      <td>0.000000</td>\n",
       "      <td>0.000000</td>\n",
       "      <td>29.460000</td>\n",
       "      <td>6.200000</td>\n",
       "      <td>159.000000</td>\n",
       "      <td>0.000000</td>\n",
       "    </tr>\n",
       "    <tr>\n",
       "      <th>max</th>\n",
       "      <td>80.000000</td>\n",
       "      <td>1.000000</td>\n",
       "      <td>1.000000</td>\n",
       "      <td>47.231117</td>\n",
       "      <td>9.000000</td>\n",
       "      <td>260.000000</td>\n",
       "      <td>1.000000</td>\n",
       "    </tr>\n",
       "  </tbody>\n",
       "</table>\n",
       "</div>"
      ],
      "text/plain": [
       "                age  hypertension  heart_disease           bmi   HbA1c_level  \\\n",
       "count  98597.000000  98597.000000   98597.000000  98597.000000  98597.000000   \n",
       "mean      41.619893      0.072497       0.037861     27.183006      5.507552   \n",
       "std       22.497724      0.259311       0.190861      6.321544      1.057208   \n",
       "min        0.080000      0.000000       0.000000     10.010000      3.500000   \n",
       "25%       24.000000      0.000000       0.000000     23.570000      4.800000   \n",
       "50%       42.000000      0.000000       0.000000     27.320000      5.800000   \n",
       "75%       59.000000      0.000000       0.000000     29.460000      6.200000   \n",
       "max       80.000000      1.000000       1.000000     47.231117      9.000000   \n",
       "\n",
       "       blood_glucose_level      diabetes  \n",
       "count         98597.000000  98597.000000  \n",
       "mean            135.901559      0.071980  \n",
       "std              36.712955      0.258456  \n",
       "min              80.000000      0.000000  \n",
       "25%             100.000000      0.000000  \n",
       "50%             140.000000      0.000000  \n",
       "75%             159.000000      0.000000  \n",
       "max             260.000000      1.000000  "
      ]
     },
     "execution_count": 28,
     "metadata": {},
     "output_type": "execute_result"
    }
   ],
   "source": [
    "new_df.describe()"
   ]
  },
  {
   "cell_type": "code",
   "execution_count": 29,
   "id": "9ff5b5fe",
   "metadata": {
    "execution": {
     "iopub.execute_input": "2023-05-31T05:04:35.107845Z",
     "iopub.status.busy": "2023-05-31T05:04:35.107413Z",
     "iopub.status.idle": "2023-05-31T05:04:35.166253Z",
     "shell.execute_reply": "2023-05-31T05:04:35.164993Z"
    },
    "papermill": {
     "duration": 0.098607,
     "end_time": "2023-05-31T05:04:35.168902",
     "exception": false,
     "start_time": "2023-05-31T05:04:35.070295",
     "status": "completed"
    },
    "tags": []
   },
   "outputs": [
    {
     "data": {
      "text/html": [
       "<div>\n",
       "<style scoped>\n",
       "    .dataframe tbody tr th:only-of-type {\n",
       "        vertical-align: middle;\n",
       "    }\n",
       "\n",
       "    .dataframe tbody tr th {\n",
       "        vertical-align: top;\n",
       "    }\n",
       "\n",
       "    .dataframe thead th {\n",
       "        text-align: right;\n",
       "    }\n",
       "</style>\n",
       "<table border=\"1\" class=\"dataframe\">\n",
       "  <thead>\n",
       "    <tr style=\"text-align: right;\">\n",
       "      <th></th>\n",
       "      <th>age</th>\n",
       "      <th>hypertension</th>\n",
       "      <th>heart_disease</th>\n",
       "      <th>bmi</th>\n",
       "      <th>HbA1c_level</th>\n",
       "      <th>blood_glucose_level</th>\n",
       "      <th>diabetes</th>\n",
       "    </tr>\n",
       "  </thead>\n",
       "  <tbody>\n",
       "    <tr>\n",
       "      <th>count</th>\n",
       "      <td>100000.000000</td>\n",
       "      <td>100000.00000</td>\n",
       "      <td>100000.000000</td>\n",
       "      <td>100000.000000</td>\n",
       "      <td>100000.000000</td>\n",
       "      <td>100000.000000</td>\n",
       "      <td>100000.000000</td>\n",
       "    </tr>\n",
       "    <tr>\n",
       "      <th>mean</th>\n",
       "      <td>41.885856</td>\n",
       "      <td>0.07485</td>\n",
       "      <td>0.039420</td>\n",
       "      <td>27.320767</td>\n",
       "      <td>5.527507</td>\n",
       "      <td>138.058060</td>\n",
       "      <td>0.085000</td>\n",
       "    </tr>\n",
       "    <tr>\n",
       "      <th>std</th>\n",
       "      <td>22.516840</td>\n",
       "      <td>0.26315</td>\n",
       "      <td>0.194593</td>\n",
       "      <td>6.636783</td>\n",
       "      <td>1.070672</td>\n",
       "      <td>40.708136</td>\n",
       "      <td>0.278883</td>\n",
       "    </tr>\n",
       "    <tr>\n",
       "      <th>min</th>\n",
       "      <td>0.080000</td>\n",
       "      <td>0.00000</td>\n",
       "      <td>0.000000</td>\n",
       "      <td>10.010000</td>\n",
       "      <td>3.500000</td>\n",
       "      <td>80.000000</td>\n",
       "      <td>0.000000</td>\n",
       "    </tr>\n",
       "    <tr>\n",
       "      <th>25%</th>\n",
       "      <td>24.000000</td>\n",
       "      <td>0.00000</td>\n",
       "      <td>0.000000</td>\n",
       "      <td>23.630000</td>\n",
       "      <td>4.800000</td>\n",
       "      <td>100.000000</td>\n",
       "      <td>0.000000</td>\n",
       "    </tr>\n",
       "    <tr>\n",
       "      <th>50%</th>\n",
       "      <td>43.000000</td>\n",
       "      <td>0.00000</td>\n",
       "      <td>0.000000</td>\n",
       "      <td>27.320000</td>\n",
       "      <td>5.800000</td>\n",
       "      <td>140.000000</td>\n",
       "      <td>0.000000</td>\n",
       "    </tr>\n",
       "    <tr>\n",
       "      <th>75%</th>\n",
       "      <td>60.000000</td>\n",
       "      <td>0.00000</td>\n",
       "      <td>0.000000</td>\n",
       "      <td>29.580000</td>\n",
       "      <td>6.200000</td>\n",
       "      <td>159.000000</td>\n",
       "      <td>0.000000</td>\n",
       "    </tr>\n",
       "    <tr>\n",
       "      <th>max</th>\n",
       "      <td>80.000000</td>\n",
       "      <td>1.00000</td>\n",
       "      <td>1.000000</td>\n",
       "      <td>95.690000</td>\n",
       "      <td>9.000000</td>\n",
       "      <td>300.000000</td>\n",
       "      <td>1.000000</td>\n",
       "    </tr>\n",
       "  </tbody>\n",
       "</table>\n",
       "</div>"
      ],
      "text/plain": [
       "                 age  hypertension  heart_disease            bmi  \\\n",
       "count  100000.000000  100000.00000  100000.000000  100000.000000   \n",
       "mean       41.885856       0.07485       0.039420      27.320767   \n",
       "std        22.516840       0.26315       0.194593       6.636783   \n",
       "min         0.080000       0.00000       0.000000      10.010000   \n",
       "25%        24.000000       0.00000       0.000000      23.630000   \n",
       "50%        43.000000       0.00000       0.000000      27.320000   \n",
       "75%        60.000000       0.00000       0.000000      29.580000   \n",
       "max        80.000000       1.00000       1.000000      95.690000   \n",
       "\n",
       "         HbA1c_level  blood_glucose_level       diabetes  \n",
       "count  100000.000000        100000.000000  100000.000000  \n",
       "mean        5.527507           138.058060       0.085000  \n",
       "std         1.070672            40.708136       0.278883  \n",
       "min         3.500000            80.000000       0.000000  \n",
       "25%         4.800000           100.000000       0.000000  \n",
       "50%         5.800000           140.000000       0.000000  \n",
       "75%         6.200000           159.000000       0.000000  \n",
       "max         9.000000           300.000000       1.000000  "
      ]
     },
     "execution_count": 29,
     "metadata": {},
     "output_type": "execute_result"
    }
   ],
   "source": [
    "df.describe()"
   ]
  },
  {
   "cell_type": "code",
   "execution_count": null,
   "id": "81bc8461",
   "metadata": {
    "papermill": {
     "duration": 0.034861,
     "end_time": "2023-05-31T05:04:35.239488",
     "exception": false,
     "start_time": "2023-05-31T05:04:35.204627",
     "status": "completed"
    },
    "tags": []
   },
   "outputs": [],
   "source": []
  },
  {
   "cell_type": "markdown",
   "id": "ab30842e",
   "metadata": {
    "papermill": {
     "duration": 0.034569,
     "end_time": "2023-05-31T05:04:35.309611",
     "exception": false,
     "start_time": "2023-05-31T05:04:35.275042",
     "status": "completed"
    },
    "tags": []
   },
   "source": [
    "**Data Preprocess**"
   ]
  },
  {
   "cell_type": "code",
   "execution_count": 30,
   "id": "f2e18fa4",
   "metadata": {
    "execution": {
     "iopub.execute_input": "2023-05-31T05:04:35.381796Z",
     "iopub.status.busy": "2023-05-31T05:04:35.381372Z",
     "iopub.status.idle": "2023-05-31T05:04:35.585446Z",
     "shell.execute_reply": "2023-05-31T05:04:35.584287Z"
    },
    "papermill": {
     "duration": 0.243259,
     "end_time": "2023-05-31T05:04:35.588216",
     "exception": false,
     "start_time": "2023-05-31T05:04:35.344957",
     "status": "completed"
    },
    "tags": []
   },
   "outputs": [],
   "source": [
    "from sklearn.preprocessing import OneHotEncoder,StandardScaler\n",
    "from sklearn.compose import ColumnTransformer"
   ]
  },
  {
   "cell_type": "code",
   "execution_count": 31,
   "id": "6e44e9f4",
   "metadata": {
    "execution": {
     "iopub.execute_input": "2023-05-31T05:04:35.660623Z",
     "iopub.status.busy": "2023-05-31T05:04:35.660248Z",
     "iopub.status.idle": "2023-05-31T05:04:35.665293Z",
     "shell.execute_reply": "2023-05-31T05:04:35.664233Z"
    },
    "papermill": {
     "duration": 0.043957,
     "end_time": "2023-05-31T05:04:35.667605",
     "exception": false,
     "start_time": "2023-05-31T05:04:35.623648",
     "status": "completed"
    },
    "tags": []
   },
   "outputs": [],
   "source": [
    "onh=OneHotEncoder()\n",
    "stscaler=StandardScaler()"
   ]
  },
  {
   "cell_type": "code",
   "execution_count": 32,
   "id": "28c28754",
   "metadata": {
    "execution": {
     "iopub.execute_input": "2023-05-31T05:04:35.740216Z",
     "iopub.status.busy": "2023-05-31T05:04:35.739367Z",
     "iopub.status.idle": "2023-05-31T05:04:35.756694Z",
     "shell.execute_reply": "2023-05-31T05:04:35.755551Z"
    },
    "papermill": {
     "duration": 0.055963,
     "end_time": "2023-05-31T05:04:35.759074",
     "exception": false,
     "start_time": "2023-05-31T05:04:35.703111",
     "status": "completed"
    },
    "tags": []
   },
   "outputs": [
    {
     "data": {
      "text/html": [
       "<div>\n",
       "<style scoped>\n",
       "    .dataframe tbody tr th:only-of-type {\n",
       "        vertical-align: middle;\n",
       "    }\n",
       "\n",
       "    .dataframe tbody tr th {\n",
       "        vertical-align: top;\n",
       "    }\n",
       "\n",
       "    .dataframe thead th {\n",
       "        text-align: right;\n",
       "    }\n",
       "</style>\n",
       "<table border=\"1\" class=\"dataframe\">\n",
       "  <thead>\n",
       "    <tr style=\"text-align: right;\">\n",
       "      <th></th>\n",
       "      <th>gender</th>\n",
       "      <th>age</th>\n",
       "      <th>hypertension</th>\n",
       "      <th>heart_disease</th>\n",
       "      <th>smoking_history</th>\n",
       "      <th>bmi</th>\n",
       "      <th>HbA1c_level</th>\n",
       "      <th>blood_glucose_level</th>\n",
       "      <th>diabetes</th>\n",
       "    </tr>\n",
       "  </thead>\n",
       "  <tbody>\n",
       "    <tr>\n",
       "      <th>0</th>\n",
       "      <td>Female</td>\n",
       "      <td>80.0</td>\n",
       "      <td>0</td>\n",
       "      <td>1</td>\n",
       "      <td>never</td>\n",
       "      <td>25.19</td>\n",
       "      <td>6.6</td>\n",
       "      <td>140</td>\n",
       "      <td>0</td>\n",
       "    </tr>\n",
       "    <tr>\n",
       "      <th>1</th>\n",
       "      <td>Female</td>\n",
       "      <td>54.0</td>\n",
       "      <td>0</td>\n",
       "      <td>0</td>\n",
       "      <td>No Info</td>\n",
       "      <td>27.32</td>\n",
       "      <td>6.6</td>\n",
       "      <td>80</td>\n",
       "      <td>0</td>\n",
       "    </tr>\n",
       "    <tr>\n",
       "      <th>2</th>\n",
       "      <td>Male</td>\n",
       "      <td>28.0</td>\n",
       "      <td>0</td>\n",
       "      <td>0</td>\n",
       "      <td>never</td>\n",
       "      <td>27.32</td>\n",
       "      <td>5.7</td>\n",
       "      <td>158</td>\n",
       "      <td>0</td>\n",
       "    </tr>\n",
       "    <tr>\n",
       "      <th>3</th>\n",
       "      <td>Female</td>\n",
       "      <td>36.0</td>\n",
       "      <td>0</td>\n",
       "      <td>0</td>\n",
       "      <td>current</td>\n",
       "      <td>23.45</td>\n",
       "      <td>5.0</td>\n",
       "      <td>155</td>\n",
       "      <td>0</td>\n",
       "    </tr>\n",
       "    <tr>\n",
       "      <th>4</th>\n",
       "      <td>Male</td>\n",
       "      <td>76.0</td>\n",
       "      <td>1</td>\n",
       "      <td>1</td>\n",
       "      <td>current</td>\n",
       "      <td>20.14</td>\n",
       "      <td>4.8</td>\n",
       "      <td>155</td>\n",
       "      <td>0</td>\n",
       "    </tr>\n",
       "  </tbody>\n",
       "</table>\n",
       "</div>"
      ],
      "text/plain": [
       "   gender   age  hypertension  heart_disease smoking_history    bmi  \\\n",
       "0  Female  80.0             0              1           never  25.19   \n",
       "1  Female  54.0             0              0         No Info  27.32   \n",
       "2    Male  28.0             0              0           never  27.32   \n",
       "3  Female  36.0             0              0         current  23.45   \n",
       "4    Male  76.0             1              1         current  20.14   \n",
       "\n",
       "   HbA1c_level  blood_glucose_level  diabetes  \n",
       "0          6.6                  140         0  \n",
       "1          6.6                   80         0  \n",
       "2          5.7                  158         0  \n",
       "3          5.0                  155         0  \n",
       "4          4.8                  155         0  "
      ]
     },
     "execution_count": 32,
     "metadata": {},
     "output_type": "execute_result"
    }
   ],
   "source": [
    "new_df.head()"
   ]
  },
  {
   "cell_type": "code",
   "execution_count": 33,
   "id": "071c5793",
   "metadata": {
    "execution": {
     "iopub.execute_input": "2023-05-31T05:04:35.833437Z",
     "iopub.status.busy": "2023-05-31T05:04:35.832635Z",
     "iopub.status.idle": "2023-05-31T05:04:35.838524Z",
     "shell.execute_reply": "2023-05-31T05:04:35.837527Z"
    },
    "papermill": {
     "duration": 0.046212,
     "end_time": "2023-05-31T05:04:35.840816",
     "exception": false,
     "start_time": "2023-05-31T05:04:35.794604",
     "status": "completed"
    },
    "tags": []
   },
   "outputs": [],
   "source": [
    "tf1=ColumnTransformer(transformers=[\n",
    "    ('onh',onh,[0,4])\n",
    "],remainder=\"passthrough\")"
   ]
  },
  {
   "cell_type": "code",
   "execution_count": 34,
   "id": "3e1ad0e1",
   "metadata": {
    "execution": {
     "iopub.execute_input": "2023-05-31T05:04:35.914336Z",
     "iopub.status.busy": "2023-05-31T05:04:35.913562Z",
     "iopub.status.idle": "2023-05-31T05:04:35.919631Z",
     "shell.execute_reply": "2023-05-31T05:04:35.918432Z"
    },
    "papermill": {
     "duration": 0.045335,
     "end_time": "2023-05-31T05:04:35.922003",
     "exception": false,
     "start_time": "2023-05-31T05:04:35.876668",
     "status": "completed"
    },
    "tags": []
   },
   "outputs": [],
   "source": [
    "tf2=ColumnTransformer(transformers=[\n",
    "    ('stscaler',stscaler,slice(0,20))\n",
    "],remainder=\"passthrough\")"
   ]
  },
  {
   "cell_type": "code",
   "execution_count": 35,
   "id": "14b1700f",
   "metadata": {
    "execution": {
     "iopub.execute_input": "2023-05-31T05:04:35.998240Z",
     "iopub.status.busy": "2023-05-31T05:04:35.997121Z",
     "iopub.status.idle": "2023-05-31T05:04:36.006920Z",
     "shell.execute_reply": "2023-05-31T05:04:36.005691Z"
    },
    "papermill": {
     "duration": 0.05035,
     "end_time": "2023-05-31T05:04:36.009587",
     "exception": false,
     "start_time": "2023-05-31T05:04:35.959237",
     "status": "completed"
    },
    "tags": []
   },
   "outputs": [],
   "source": [
    "X=new_df.drop(columns=\"diabetes\")\n",
    "y=new_df['diabetes']"
   ]
  },
  {
   "cell_type": "code",
   "execution_count": 36,
   "id": "d9381ce8",
   "metadata": {
    "execution": {
     "iopub.execute_input": "2023-05-31T05:04:36.083885Z",
     "iopub.status.busy": "2023-05-31T05:04:36.083462Z",
     "iopub.status.idle": "2023-05-31T05:04:36.959564Z",
     "shell.execute_reply": "2023-05-31T05:04:36.958337Z"
    },
    "papermill": {
     "duration": 0.917125,
     "end_time": "2023-05-31T05:04:36.962376",
     "exception": false,
     "start_time": "2023-05-31T05:04:36.045251",
     "status": "completed"
    },
    "tags": []
   },
   "outputs": [],
   "source": [
    "from sklearn.model_selection import train_test_split\n",
    "from sklearn.linear_model import LogisticRegression\n",
    "from sklearn.tree import DecisionTreeClassifier\n",
    "from sklearn.ensemble import RandomForestClassifier,GradientBoostingClassifier,AdaBoostClassifier\n",
    "from sklearn.pipeline import Pipeline\n",
    "from sklearn.metrics import accuracy_score,confusion_matrix,ConfusionMatrixDisplay\n",
    "from xgboost import XGBClassifier"
   ]
  },
  {
   "cell_type": "code",
   "execution_count": 37,
   "id": "30080e73",
   "metadata": {
    "execution": {
     "iopub.execute_input": "2023-05-31T05:04:37.036960Z",
     "iopub.status.busy": "2023-05-31T05:04:37.036530Z",
     "iopub.status.idle": "2023-05-31T05:04:37.064748Z",
     "shell.execute_reply": "2023-05-31T05:04:37.063527Z"
    },
    "papermill": {
     "duration": 0.068725,
     "end_time": "2023-05-31T05:04:37.067281",
     "exception": false,
     "start_time": "2023-05-31T05:04:36.998556",
     "status": "completed"
    },
    "tags": []
   },
   "outputs": [],
   "source": [
    "X_train, X_test, y_train, y_test = train_test_split(X, y, test_size=0.3, random_state=42)"
   ]
  },
  {
   "cell_type": "code",
   "execution_count": 38,
   "id": "e494e04a",
   "metadata": {
    "execution": {
     "iopub.execute_input": "2023-05-31T05:04:37.140086Z",
     "iopub.status.busy": "2023-05-31T05:04:37.139370Z",
     "iopub.status.idle": "2023-05-31T05:04:37.143526Z",
     "shell.execute_reply": "2023-05-31T05:04:37.142734Z"
    },
    "papermill": {
     "duration": 0.042952,
     "end_time": "2023-05-31T05:04:37.145602",
     "exception": false,
     "start_time": "2023-05-31T05:04:37.102650",
     "status": "completed"
    },
    "tags": []
   },
   "outputs": [],
   "source": [
    "lgr=LogisticRegression()"
   ]
  },
  {
   "cell_type": "code",
   "execution_count": 39,
   "id": "a352f5c8",
   "metadata": {
    "execution": {
     "iopub.execute_input": "2023-05-31T05:04:37.218626Z",
     "iopub.status.busy": "2023-05-31T05:04:37.218215Z",
     "iopub.status.idle": "2023-05-31T05:04:37.223513Z",
     "shell.execute_reply": "2023-05-31T05:04:37.222351Z"
    },
    "papermill": {
     "duration": 0.045071,
     "end_time": "2023-05-31T05:04:37.226023",
     "exception": false,
     "start_time": "2023-05-31T05:04:37.180952",
     "status": "completed"
    },
    "tags": []
   },
   "outputs": [],
   "source": [
    "pipe_lgr=Pipeline([\n",
    "    ('tf1',tf1),\n",
    "    ('tf2',tf2),\n",
    "    ('lgr',lgr),\n",
    "])"
   ]
  },
  {
   "cell_type": "code",
   "execution_count": 40,
   "id": "a20d012c",
   "metadata": {
    "execution": {
     "iopub.execute_input": "2023-05-31T05:04:37.299696Z",
     "iopub.status.busy": "2023-05-31T05:04:37.298890Z",
     "iopub.status.idle": "2023-05-31T05:04:37.716168Z",
     "shell.execute_reply": "2023-05-31T05:04:37.714573Z"
    },
    "papermill": {
     "duration": 0.458812,
     "end_time": "2023-05-31T05:04:37.720341",
     "exception": false,
     "start_time": "2023-05-31T05:04:37.261529",
     "status": "completed"
    },
    "tags": []
   },
   "outputs": [
    {
     "data": {
      "text/html": [
       "<style>#sk-container-id-1 {color: black;background-color: white;}#sk-container-id-1 pre{padding: 0;}#sk-container-id-1 div.sk-toggleable {background-color: white;}#sk-container-id-1 label.sk-toggleable__label {cursor: pointer;display: block;width: 100%;margin-bottom: 0;padding: 0.3em;box-sizing: border-box;text-align: center;}#sk-container-id-1 label.sk-toggleable__label-arrow:before {content: \"▸\";float: left;margin-right: 0.25em;color: #696969;}#sk-container-id-1 label.sk-toggleable__label-arrow:hover:before {color: black;}#sk-container-id-1 div.sk-estimator:hover label.sk-toggleable__label-arrow:before {color: black;}#sk-container-id-1 div.sk-toggleable__content {max-height: 0;max-width: 0;overflow: hidden;text-align: left;background-color: #f0f8ff;}#sk-container-id-1 div.sk-toggleable__content pre {margin: 0.2em;color: black;border-radius: 0.25em;background-color: #f0f8ff;}#sk-container-id-1 input.sk-toggleable__control:checked~div.sk-toggleable__content {max-height: 200px;max-width: 100%;overflow: auto;}#sk-container-id-1 input.sk-toggleable__control:checked~label.sk-toggleable__label-arrow:before {content: \"▾\";}#sk-container-id-1 div.sk-estimator input.sk-toggleable__control:checked~label.sk-toggleable__label {background-color: #d4ebff;}#sk-container-id-1 div.sk-label input.sk-toggleable__control:checked~label.sk-toggleable__label {background-color: #d4ebff;}#sk-container-id-1 input.sk-hidden--visually {border: 0;clip: rect(1px 1px 1px 1px);clip: rect(1px, 1px, 1px, 1px);height: 1px;margin: -1px;overflow: hidden;padding: 0;position: absolute;width: 1px;}#sk-container-id-1 div.sk-estimator {font-family: monospace;background-color: #f0f8ff;border: 1px dotted black;border-radius: 0.25em;box-sizing: border-box;margin-bottom: 0.5em;}#sk-container-id-1 div.sk-estimator:hover {background-color: #d4ebff;}#sk-container-id-1 div.sk-parallel-item::after {content: \"\";width: 100%;border-bottom: 1px solid gray;flex-grow: 1;}#sk-container-id-1 div.sk-label:hover label.sk-toggleable__label {background-color: #d4ebff;}#sk-container-id-1 div.sk-serial::before {content: \"\";position: absolute;border-left: 1px solid gray;box-sizing: border-box;top: 0;bottom: 0;left: 50%;z-index: 0;}#sk-container-id-1 div.sk-serial {display: flex;flex-direction: column;align-items: center;background-color: white;padding-right: 0.2em;padding-left: 0.2em;position: relative;}#sk-container-id-1 div.sk-item {position: relative;z-index: 1;}#sk-container-id-1 div.sk-parallel {display: flex;align-items: stretch;justify-content: center;background-color: white;position: relative;}#sk-container-id-1 div.sk-item::before, #sk-container-id-1 div.sk-parallel-item::before {content: \"\";position: absolute;border-left: 1px solid gray;box-sizing: border-box;top: 0;bottom: 0;left: 50%;z-index: -1;}#sk-container-id-1 div.sk-parallel-item {display: flex;flex-direction: column;z-index: 1;position: relative;background-color: white;}#sk-container-id-1 div.sk-parallel-item:first-child::after {align-self: flex-end;width: 50%;}#sk-container-id-1 div.sk-parallel-item:last-child::after {align-self: flex-start;width: 50%;}#sk-container-id-1 div.sk-parallel-item:only-child::after {width: 0;}#sk-container-id-1 div.sk-dashed-wrapped {border: 1px dashed gray;margin: 0 0.4em 0.5em 0.4em;box-sizing: border-box;padding-bottom: 0.4em;background-color: white;}#sk-container-id-1 div.sk-label label {font-family: monospace;font-weight: bold;display: inline-block;line-height: 1.2em;}#sk-container-id-1 div.sk-label-container {text-align: center;}#sk-container-id-1 div.sk-container {/* jupyter's `normalize.less` sets `[hidden] { display: none; }` but bootstrap.min.css set `[hidden] { display: none !important; }` so we also need the `!important` here to be able to override the default hidden behavior on the sphinx rendered scikit-learn.org. See: https://github.com/scikit-learn/scikit-learn/issues/21755 */display: inline-block !important;position: relative;}#sk-container-id-1 div.sk-text-repr-fallback {display: none;}</style><div id=\"sk-container-id-1\" class=\"sk-top-container\"><div class=\"sk-text-repr-fallback\"><pre>Pipeline(steps=[(&#x27;tf1&#x27;,\n",
       "                 ColumnTransformer(remainder=&#x27;passthrough&#x27;,\n",
       "                                   transformers=[(&#x27;onh&#x27;, OneHotEncoder(),\n",
       "                                                  [0, 4])])),\n",
       "                (&#x27;tf2&#x27;,\n",
       "                 ColumnTransformer(remainder=&#x27;passthrough&#x27;,\n",
       "                                   transformers=[(&#x27;stscaler&#x27;, StandardScaler(),\n",
       "                                                  slice(0, 20, None))])),\n",
       "                (&#x27;lgr&#x27;, LogisticRegression())])</pre><b>In a Jupyter environment, please rerun this cell to show the HTML representation or trust the notebook. <br />On GitHub, the HTML representation is unable to render, please try loading this page with nbviewer.org.</b></div><div class=\"sk-container\" hidden><div class=\"sk-item sk-dashed-wrapped\"><div class=\"sk-label-container\"><div class=\"sk-label sk-toggleable\"><input class=\"sk-toggleable__control sk-hidden--visually\" id=\"sk-estimator-id-1\" type=\"checkbox\" ><label for=\"sk-estimator-id-1\" class=\"sk-toggleable__label sk-toggleable__label-arrow\">Pipeline</label><div class=\"sk-toggleable__content\"><pre>Pipeline(steps=[(&#x27;tf1&#x27;,\n",
       "                 ColumnTransformer(remainder=&#x27;passthrough&#x27;,\n",
       "                                   transformers=[(&#x27;onh&#x27;, OneHotEncoder(),\n",
       "                                                  [0, 4])])),\n",
       "                (&#x27;tf2&#x27;,\n",
       "                 ColumnTransformer(remainder=&#x27;passthrough&#x27;,\n",
       "                                   transformers=[(&#x27;stscaler&#x27;, StandardScaler(),\n",
       "                                                  slice(0, 20, None))])),\n",
       "                (&#x27;lgr&#x27;, LogisticRegression())])</pre></div></div></div><div class=\"sk-serial\"><div class=\"sk-item sk-dashed-wrapped\"><div class=\"sk-label-container\"><div class=\"sk-label sk-toggleable\"><input class=\"sk-toggleable__control sk-hidden--visually\" id=\"sk-estimator-id-2\" type=\"checkbox\" ><label for=\"sk-estimator-id-2\" class=\"sk-toggleable__label sk-toggleable__label-arrow\">tf1: ColumnTransformer</label><div class=\"sk-toggleable__content\"><pre>ColumnTransformer(remainder=&#x27;passthrough&#x27;,\n",
       "                  transformers=[(&#x27;onh&#x27;, OneHotEncoder(), [0, 4])])</pre></div></div></div><div class=\"sk-parallel\"><div class=\"sk-parallel-item\"><div class=\"sk-item\"><div class=\"sk-label-container\"><div class=\"sk-label sk-toggleable\"><input class=\"sk-toggleable__control sk-hidden--visually\" id=\"sk-estimator-id-3\" type=\"checkbox\" ><label for=\"sk-estimator-id-3\" class=\"sk-toggleable__label sk-toggleable__label-arrow\">onh</label><div class=\"sk-toggleable__content\"><pre>[0, 4]</pre></div></div></div><div class=\"sk-serial\"><div class=\"sk-item\"><div class=\"sk-estimator sk-toggleable\"><input class=\"sk-toggleable__control sk-hidden--visually\" id=\"sk-estimator-id-4\" type=\"checkbox\" ><label for=\"sk-estimator-id-4\" class=\"sk-toggleable__label sk-toggleable__label-arrow\">OneHotEncoder</label><div class=\"sk-toggleable__content\"><pre>OneHotEncoder()</pre></div></div></div></div></div></div><div class=\"sk-parallel-item\"><div class=\"sk-item\"><div class=\"sk-label-container\"><div class=\"sk-label sk-toggleable\"><input class=\"sk-toggleable__control sk-hidden--visually\" id=\"sk-estimator-id-5\" type=\"checkbox\" ><label for=\"sk-estimator-id-5\" class=\"sk-toggleable__label sk-toggleable__label-arrow\">remainder</label><div class=\"sk-toggleable__content\"><pre>[&#x27;age&#x27;, &#x27;hypertension&#x27;, &#x27;heart_disease&#x27;, &#x27;bmi&#x27;, &#x27;HbA1c_level&#x27;, &#x27;blood_glucose_level&#x27;]</pre></div></div></div><div class=\"sk-serial\"><div class=\"sk-item\"><div class=\"sk-estimator sk-toggleable\"><input class=\"sk-toggleable__control sk-hidden--visually\" id=\"sk-estimator-id-6\" type=\"checkbox\" ><label for=\"sk-estimator-id-6\" class=\"sk-toggleable__label sk-toggleable__label-arrow\">passthrough</label><div class=\"sk-toggleable__content\"><pre>passthrough</pre></div></div></div></div></div></div></div></div><div class=\"sk-item sk-dashed-wrapped\"><div class=\"sk-label-container\"><div class=\"sk-label sk-toggleable\"><input class=\"sk-toggleable__control sk-hidden--visually\" id=\"sk-estimator-id-7\" type=\"checkbox\" ><label for=\"sk-estimator-id-7\" class=\"sk-toggleable__label sk-toggleable__label-arrow\">tf2: ColumnTransformer</label><div class=\"sk-toggleable__content\"><pre>ColumnTransformer(remainder=&#x27;passthrough&#x27;,\n",
       "                  transformers=[(&#x27;stscaler&#x27;, StandardScaler(),\n",
       "                                 slice(0, 20, None))])</pre></div></div></div><div class=\"sk-parallel\"><div class=\"sk-parallel-item\"><div class=\"sk-item\"><div class=\"sk-label-container\"><div class=\"sk-label sk-toggleable\"><input class=\"sk-toggleable__control sk-hidden--visually\" id=\"sk-estimator-id-8\" type=\"checkbox\" ><label for=\"sk-estimator-id-8\" class=\"sk-toggleable__label sk-toggleable__label-arrow\">stscaler</label><div class=\"sk-toggleable__content\"><pre>slice(0, 20, None)</pre></div></div></div><div class=\"sk-serial\"><div class=\"sk-item\"><div class=\"sk-estimator sk-toggleable\"><input class=\"sk-toggleable__control sk-hidden--visually\" id=\"sk-estimator-id-9\" type=\"checkbox\" ><label for=\"sk-estimator-id-9\" class=\"sk-toggleable__label sk-toggleable__label-arrow\">StandardScaler</label><div class=\"sk-toggleable__content\"><pre>StandardScaler()</pre></div></div></div></div></div></div><div class=\"sk-parallel-item\"><div class=\"sk-item\"><div class=\"sk-label-container\"><div class=\"sk-label sk-toggleable\"><input class=\"sk-toggleable__control sk-hidden--visually\" id=\"sk-estimator-id-10\" type=\"checkbox\" ><label for=\"sk-estimator-id-10\" class=\"sk-toggleable__label sk-toggleable__label-arrow\">remainder</label><div class=\"sk-toggleable__content\"><pre>[]</pre></div></div></div><div class=\"sk-serial\"><div class=\"sk-item\"><div class=\"sk-estimator sk-toggleable\"><input class=\"sk-toggleable__control sk-hidden--visually\" id=\"sk-estimator-id-11\" type=\"checkbox\" ><label for=\"sk-estimator-id-11\" class=\"sk-toggleable__label sk-toggleable__label-arrow\">passthrough</label><div class=\"sk-toggleable__content\"><pre>passthrough</pre></div></div></div></div></div></div></div></div><div class=\"sk-item\"><div class=\"sk-estimator sk-toggleable\"><input class=\"sk-toggleable__control sk-hidden--visually\" id=\"sk-estimator-id-12\" type=\"checkbox\" ><label for=\"sk-estimator-id-12\" class=\"sk-toggleable__label sk-toggleable__label-arrow\">LogisticRegression</label><div class=\"sk-toggleable__content\"><pre>LogisticRegression()</pre></div></div></div></div></div></div></div>"
      ],
      "text/plain": [
       "Pipeline(steps=[('tf1',\n",
       "                 ColumnTransformer(remainder='passthrough',\n",
       "                                   transformers=[('onh', OneHotEncoder(),\n",
       "                                                  [0, 4])])),\n",
       "                ('tf2',\n",
       "                 ColumnTransformer(remainder='passthrough',\n",
       "                                   transformers=[('stscaler', StandardScaler(),\n",
       "                                                  slice(0, 20, None))])),\n",
       "                ('lgr', LogisticRegression())])"
      ]
     },
     "execution_count": 40,
     "metadata": {},
     "output_type": "execute_result"
    }
   ],
   "source": [
    "pipe_lgr.fit(X_train,y_train)"
   ]
  },
  {
   "cell_type": "code",
   "execution_count": 41,
   "id": "965051d3",
   "metadata": {
    "execution": {
     "iopub.execute_input": "2023-05-31T05:04:37.823810Z",
     "iopub.status.busy": "2023-05-31T05:04:37.823417Z",
     "iopub.status.idle": "2023-05-31T05:04:37.873050Z",
     "shell.execute_reply": "2023-05-31T05:04:37.871408Z"
    },
    "papermill": {
     "duration": 0.091518,
     "end_time": "2023-05-31T05:04:37.877615",
     "exception": false,
     "start_time": "2023-05-31T05:04:37.786097",
     "status": "completed"
    },
    "tags": []
   },
   "outputs": [],
   "source": [
    "y_pred_lgr=pipe_lgr.predict(X_test)"
   ]
  },
  {
   "cell_type": "code",
   "execution_count": 42,
   "id": "881f1ab4",
   "metadata": {
    "execution": {
     "iopub.execute_input": "2023-05-31T05:04:38.008538Z",
     "iopub.status.busy": "2023-05-31T05:04:38.008125Z",
     "iopub.status.idle": "2023-05-31T05:04:38.016252Z",
     "shell.execute_reply": "2023-05-31T05:04:38.015207Z"
    },
    "papermill": {
     "duration": 0.064548,
     "end_time": "2023-05-31T05:04:38.018681",
     "exception": false,
     "start_time": "2023-05-31T05:04:37.954133",
     "status": "completed"
    },
    "tags": []
   },
   "outputs": [],
   "source": [
    "lgrs=accuracy_score(y_test,y_pred_lgr)"
   ]
  },
  {
   "cell_type": "code",
   "execution_count": 43,
   "id": "22fd399f",
   "metadata": {
    "execution": {
     "iopub.execute_input": "2023-05-31T05:04:38.094072Z",
     "iopub.status.busy": "2023-05-31T05:04:38.093640Z",
     "iopub.status.idle": "2023-05-31T05:04:38.105838Z",
     "shell.execute_reply": "2023-05-31T05:04:38.104653Z"
    },
    "papermill": {
     "duration": 0.053549,
     "end_time": "2023-05-31T05:04:38.108541",
     "exception": false,
     "start_time": "2023-05-31T05:04:38.054992",
     "status": "completed"
    },
    "tags": []
   },
   "outputs": [],
   "source": [
    "cm1=confusion_matrix(y_test,y_pred_lgr)"
   ]
  },
  {
   "cell_type": "code",
   "execution_count": 44,
   "id": "b823bef0",
   "metadata": {
    "execution": {
     "iopub.execute_input": "2023-05-31T05:04:38.185100Z",
     "iopub.status.busy": "2023-05-31T05:04:38.184088Z",
     "iopub.status.idle": "2023-05-31T05:04:38.483274Z",
     "shell.execute_reply": "2023-05-31T05:04:38.482073Z"
    },
    "papermill": {
     "duration": 0.339969,
     "end_time": "2023-05-31T05:04:38.485859",
     "exception": false,
     "start_time": "2023-05-31T05:04:38.145890",
     "status": "completed"
    },
    "tags": []
   },
   "outputs": [
    {
     "data": {
      "text/plain": [
       "<sklearn.metrics._plot.confusion_matrix.ConfusionMatrixDisplay at 0x7c7011e8cdf0>"
      ]
     },
     "execution_count": 44,
     "metadata": {},
     "output_type": "execute_result"
    },
    {
     "data": {
      "image/png": "[encoded data removed]",
      "text/plain": [
       "<Figure size 640x480 with 2 Axes>"
      ]
     },
     "metadata": {},
     "output_type": "display_data"
    }
   ],
   "source": [
    "ConfusionMatrixDisplay(cm1).plot()"
   ]
  },
  {
   "cell_type": "code",
   "execution_count": 45,
   "id": "0b46f4bc",
   "metadata": {
    "execution": {
     "iopub.execute_input": "2023-05-31T05:04:38.562091Z",
     "iopub.status.busy": "2023-05-31T05:04:38.561664Z",
     "iopub.status.idle": "2023-05-31T05:04:38.567002Z",
     "shell.execute_reply": "2023-05-31T05:04:38.565624Z"
    },
    "papermill": {
     "duration": 0.046389,
     "end_time": "2023-05-31T05:04:38.569456",
     "exception": false,
     "start_time": "2023-05-31T05:04:38.523067",
     "status": "completed"
    },
    "tags": []
   },
   "outputs": [],
   "source": [
    "##Decision tree classifier\n",
    "dtc=DecisionTreeClassifier()"
   ]
  },
  {
   "cell_type": "code",
   "execution_count": 46,
   "id": "8cae23dd",
   "metadata": {
    "execution": {
     "iopub.execute_input": "2023-05-31T05:04:38.645230Z",
     "iopub.status.busy": "2023-05-31T05:04:38.644849Z",
     "iopub.status.idle": "2023-05-31T05:04:38.650270Z",
     "shell.execute_reply": "2023-05-31T05:04:38.649002Z"
    },
    "papermill": {
     "duration": 0.046149,
     "end_time": "2023-05-31T05:04:38.652523",
     "exception": false,
     "start_time": "2023-05-31T05:04:38.606374",
     "status": "completed"
    },
    "tags": []
   },
   "outputs": [],
   "source": [
    "pipe_dtc=Pipeline([\n",
    "    ('tf1',tf1),\n",
    "#     ('tf2',tf2),\n",
    "    ('dtc',dtc),\n",
    "])"
   ]
  },
  {
   "cell_type": "code",
   "execution_count": 47,
   "id": "dfe0de48",
   "metadata": {
    "execution": {
     "iopub.execute_input": "2023-05-31T05:04:38.728702Z",
     "iopub.status.busy": "2023-05-31T05:04:38.727886Z",
     "iopub.status.idle": "2023-05-31T05:04:39.116428Z",
     "shell.execute_reply": "2023-05-31T05:04:39.115347Z"
    },
    "papermill": {
     "duration": 0.429584,
     "end_time": "2023-05-31T05:04:39.118950",
     "exception": false,
     "start_time": "2023-05-31T05:04:38.689366",
     "status": "completed"
    },
    "tags": []
   },
   "outputs": [
    {
     "data": {
      "text/html": [
       "<style>#sk-container-id-2 {color: black;background-color: white;}#sk-container-id-2 pre{padding: 0;}#sk-container-id-2 div.sk-toggleable {background-color: white;}#sk-container-id-2 label.sk-toggleable__label {cursor: pointer;display: block;width: 100%;margin-bottom: 0;padding: 0.3em;box-sizing: border-box;text-align: center;}#sk-container-id-2 label.sk-toggleable__label-arrow:before {content: \"▸\";float: left;margin-right: 0.25em;color: #696969;}#sk-container-id-2 label.sk-toggleable__label-arrow:hover:before {color: black;}#sk-container-id-2 div.sk-estimator:hover label.sk-toggleable__label-arrow:before {color: black;}#sk-container-id-2 div.sk-toggleable__content {max-height: 0;max-width: 0;overflow: hidden;text-align: left;background-color: #f0f8ff;}#sk-container-id-2 div.sk-toggleable__content pre {margin: 0.2em;color: black;border-radius: 0.25em;background-color: #f0f8ff;}#sk-container-id-2 input.sk-toggleable__control:checked~div.sk-toggleable__content {max-height: 200px;max-width: 100%;overflow: auto;}#sk-container-id-2 input.sk-toggleable__control:checked~label.sk-toggleable__label-arrow:before {content: \"▾\";}#sk-container-id-2 div.sk-estimator input.sk-toggleable__control:checked~label.sk-toggleable__label {background-color: #d4ebff;}#sk-container-id-2 div.sk-label input.sk-toggleable__control:checked~label.sk-toggleable__label {background-color: #d4ebff;}#sk-container-id-2 input.sk-hidden--visually {border: 0;clip: rect(1px 1px 1px 1px);clip: rect(1px, 1px, 1px, 1px);height: 1px;margin: -1px;overflow: hidden;padding: 0;position: absolute;width: 1px;}#sk-container-id-2 div.sk-estimator {font-family: monospace;background-color: #f0f8ff;border: 1px dotted black;border-radius: 0.25em;box-sizing: border-box;margin-bottom: 0.5em;}#sk-container-id-2 div.sk-estimator:hover {background-color: #d4ebff;}#sk-container-id-2 div.sk-parallel-item::after {content: \"\";width: 100%;border-bottom: 1px solid gray;flex-grow: 1;}#sk-container-id-2 div.sk-label:hover label.sk-toggleable__label {background-color: #d4ebff;}#sk-container-id-2 div.sk-serial::before {content: \"\";position: absolute;border-left: 1px solid gray;box-sizing: border-box;top: 0;bottom: 0;left: 50%;z-index: 0;}#sk-container-id-2 div.sk-serial {display: flex;flex-direction: column;align-items: center;background-color: white;padding-right: 0.2em;padding-left: 0.2em;position: relative;}#sk-container-id-2 div.sk-item {position: relative;z-index: 1;}#sk-container-id-2 div.sk-parallel {display: flex;align-items: stretch;justify-content: center;background-color: white;position: relative;}#sk-container-id-2 div.sk-item::before, #sk-container-id-2 div.sk-parallel-item::before {content: \"\";position: absolute;border-left: 1px solid gray;box-sizing: border-box;top: 0;bottom: 0;left: 50%;z-index: -1;}#sk-container-id-2 div.sk-parallel-item {display: flex;flex-direction: column;z-index: 1;position: relative;background-color: white;}#sk-container-id-2 div.sk-parallel-item:first-child::after {align-self: flex-end;width: 50%;}#sk-container-id-2 div.sk-parallel-item:last-child::after {align-self: flex-start;width: 50%;}#sk-container-id-2 div.sk-parallel-item:only-child::after {width: 0;}#sk-container-id-2 div.sk-dashed-wrapped {border: 1px dashed gray;margin: 0 0.4em 0.5em 0.4em;box-sizing: border-box;padding-bottom: 0.4em;background-color: white;}#sk-container-id-2 div.sk-label label {font-family: monospace;font-weight: bold;display: inline-block;line-height: 1.2em;}#sk-container-id-2 div.sk-label-container {text-align: center;}#sk-container-id-2 div.sk-container {/* jupyter's `normalize.less` sets `[hidden] { display: none; }` but bootstrap.min.css set `[hidden] { display: none !important; }` so we also need the `!important` here to be able to override the default hidden behavior on the sphinx rendered scikit-learn.org. See: https://github.com/scikit-learn/scikit-learn/issues/21755 */display: inline-block !important;position: relative;}#sk-container-id-2 div.sk-text-repr-fallback {display: none;}</style><div id=\"sk-container-id-2\" class=\"sk-top-container\"><div class=\"sk-text-repr-fallback\"><pre>Pipeline(steps=[(&#x27;tf1&#x27;,\n",
       "                 ColumnTransformer(remainder=&#x27;passthrough&#x27;,\n",
       "                                   transformers=[(&#x27;onh&#x27;, OneHotEncoder(),\n",
       "                                                  [0, 4])])),\n",
       "                (&#x27;dtc&#x27;, DecisionTreeClassifier())])</pre><b>In a Jupyter environment, please rerun this cell to show the HTML representation or trust the notebook. <br />On GitHub, the HTML representation is unable to render, please try loading this page with nbviewer.org.</b></div><div class=\"sk-container\" hidden><div class=\"sk-item sk-dashed-wrapped\"><div class=\"sk-label-container\"><div class=\"sk-label sk-toggleable\"><input class=\"sk-toggleable__control sk-hidden--visually\" id=\"sk-estimator-id-13\" type=\"checkbox\" ><label for=\"sk-estimator-id-13\" class=\"sk-toggleable__label sk-toggleable__label-arrow\">Pipeline</label><div class=\"sk-toggleable__content\"><pre>Pipeline(steps=[(&#x27;tf1&#x27;,\n",
       "                 ColumnTransformer(remainder=&#x27;passthrough&#x27;,\n",
       "                                   transformers=[(&#x27;onh&#x27;, OneHotEncoder(),\n",
       "                                                  [0, 4])])),\n",
       "                (&#x27;dtc&#x27;, DecisionTreeClassifier())])</pre></div></div></div><div class=\"sk-serial\"><div class=\"sk-item sk-dashed-wrapped\"><div class=\"sk-label-container\"><div class=\"sk-label sk-toggleable\"><input class=\"sk-toggleable__control sk-hidden--visually\" id=\"sk-estimator-id-14\" type=\"checkbox\" ><label for=\"sk-estimator-id-14\" class=\"sk-toggleable__label sk-toggleable__label-arrow\">tf1: ColumnTransformer</label><div class=\"sk-toggleable__content\"><pre>ColumnTransformer(remainder=&#x27;passthrough&#x27;,\n",
       "                  transformers=[(&#x27;onh&#x27;, OneHotEncoder(), [0, 4])])</pre></div></div></div><div class=\"sk-parallel\"><div class=\"sk-parallel-item\"><div class=\"sk-item\"><div class=\"sk-label-container\"><div class=\"sk-label sk-toggleable\"><input class=\"sk-toggleable__control sk-hidden--visually\" id=\"sk-estimator-id-15\" type=\"checkbox\" ><label for=\"sk-estimator-id-15\" class=\"sk-toggleable__label sk-toggleable__label-arrow\">onh</label><div class=\"sk-toggleable__content\"><pre>[0, 4]</pre></div></div></div><div class=\"sk-serial\"><div class=\"sk-item\"><div class=\"sk-estimator sk-toggleable\"><input class=\"sk-toggleable__control sk-hidden--visually\" id=\"sk-estimator-id-16\" type=\"checkbox\" ><label for=\"sk-estimator-id-16\" class=\"sk-toggleable__label sk-toggleable__label-arrow\">OneHotEncoder</label><div class=\"sk-toggleable__content\"><pre>OneHotEncoder()</pre></div></div></div></div></div></div><div class=\"sk-parallel-item\"><div class=\"sk-item\"><div class=\"sk-label-container\"><div class=\"sk-label sk-toggleable\"><input class=\"sk-toggleable__control sk-hidden--visually\" id=\"sk-estimator-id-17\" type=\"checkbox\" ><label for=\"sk-estimator-id-17\" class=\"sk-toggleable__label sk-toggleable__label-arrow\">remainder</label><div class=\"sk-toggleable__content\"><pre>[&#x27;age&#x27;, &#x27;hypertension&#x27;, &#x27;heart_disease&#x27;, &#x27;bmi&#x27;, &#x27;HbA1c_level&#x27;, &#x27;blood_glucose_level&#x27;]</pre></div></div></div><div class=\"sk-serial\"><div class=\"sk-item\"><div class=\"sk-estimator sk-toggleable\"><input class=\"sk-toggleable__control sk-hidden--visually\" id=\"sk-estimator-id-18\" type=\"checkbox\" ><label for=\"sk-estimator-id-18\" class=\"sk-toggleable__label sk-toggleable__label-arrow\">passthrough</label><div class=\"sk-toggleable__content\"><pre>passthrough</pre></div></div></div></div></div></div></div></div><div class=\"sk-item\"><div class=\"sk-estimator sk-toggleable\"><input class=\"sk-toggleable__control sk-hidden--visually\" id=\"sk-estimator-id-19\" type=\"checkbox\" ><label for=\"sk-estimator-id-19\" class=\"sk-toggleable__label sk-toggleable__label-arrow\">DecisionTreeClassifier</label><div class=\"sk-toggleable__content\"><pre>DecisionTreeClassifier()</pre></div></div></div></div></div></div></div>"
      ],
      "text/plain": [
       "Pipeline(steps=[('tf1',\n",
       "                 ColumnTransformer(remainder='passthrough',\n",
       "                                   transformers=[('onh', OneHotEncoder(),\n",
       "                                                  [0, 4])])),\n",
       "                ('dtc', DecisionTreeClassifier())])"
      ]
     },
     "execution_count": 47,
     "metadata": {},
     "output_type": "execute_result"
    }
   ],
   "source": [
    "pipe_dtc.fit(X_train,y_train)"
   ]
  },
  {
   "cell_type": "code",
   "execution_count": 48,
   "id": "5bff670a",
   "metadata": {
    "execution": {
     "iopub.execute_input": "2023-05-31T05:04:39.194816Z",
     "iopub.status.busy": "2023-05-31T05:04:39.194421Z",
     "iopub.status.idle": "2023-05-31T05:04:39.237130Z",
     "shell.execute_reply": "2023-05-31T05:04:39.236066Z"
    },
    "papermill": {
     "duration": 0.083961,
     "end_time": "2023-05-31T05:04:39.240032",
     "exception": false,
     "start_time": "2023-05-31T05:04:39.156071",
     "status": "completed"
    },
    "tags": []
   },
   "outputs": [],
   "source": [
    "y_pred_dtc=pipe_dtc.predict(X_test)"
   ]
  },
  {
   "cell_type": "code",
   "execution_count": 49,
   "id": "2c69c61c",
   "metadata": {
    "execution": {
     "iopub.execute_input": "2023-05-31T05:04:39.316786Z",
     "iopub.status.busy": "2023-05-31T05:04:39.315614Z",
     "iopub.status.idle": "2023-05-31T05:04:39.324131Z",
     "shell.execute_reply": "2023-05-31T05:04:39.323159Z"
    },
    "papermill": {
     "duration": 0.049369,
     "end_time": "2023-05-31T05:04:39.326667",
     "exception": false,
     "start_time": "2023-05-31T05:04:39.277298",
     "status": "completed"
    },
    "tags": []
   },
   "outputs": [],
   "source": [
    "dtcs=accuracy_score(y_test,y_pred_dtc)"
   ]
  },
  {
   "cell_type": "code",
   "execution_count": 50,
   "id": "1d6045da",
   "metadata": {
    "execution": {
     "iopub.execute_input": "2023-05-31T05:04:39.403212Z",
     "iopub.status.busy": "2023-05-31T05:04:39.402829Z",
     "iopub.status.idle": "2023-05-31T05:04:39.412830Z",
     "shell.execute_reply": "2023-05-31T05:04:39.411646Z"
    },
    "papermill": {
     "duration": 0.051426,
     "end_time": "2023-05-31T05:04:39.415461",
     "exception": false,
     "start_time": "2023-05-31T05:04:39.364035",
     "status": "completed"
    },
    "tags": []
   },
   "outputs": [],
   "source": [
    "cm2=confusion_matrix(y_test,y_pred_dtc)"
   ]
  },
  {
   "cell_type": "code",
   "execution_count": 51,
   "id": "c79901d3",
   "metadata": {
    "execution": {
     "iopub.execute_input": "2023-05-31T05:04:39.491642Z",
     "iopub.status.busy": "2023-05-31T05:04:39.491218Z",
     "iopub.status.idle": "2023-05-31T05:04:39.779436Z",
     "shell.execute_reply": "2023-05-31T05:04:39.778215Z"
    },
    "papermill": {
     "duration": 0.329088,
     "end_time": "2023-05-31T05:04:39.781891",
     "exception": false,
     "start_time": "2023-05-31T05:04:39.452803",
     "status": "completed"
    },
    "tags": []
   },
   "outputs": [
    {
     "data": {
      "text/plain": [
       "<sklearn.metrics._plot.confusion_matrix.ConfusionMatrixDisplay at 0x7c7012160910>"
      ]
     },
     "execution_count": 51,
     "metadata": {},
     "output_type": "execute_result"
    },
    {
     "data": {
      "image/png": "[encoded data removed]",
      "text/plain": [
       "<Figure size 640x480 with 2 Axes>"
      ]
     },
     "metadata": {},
     "output_type": "display_data"
    }
   ],
   "source": [
    "ConfusionMatrixDisplay(cm2).plot()"
   ]
  },
  {
   "cell_type": "code",
   "execution_count": 52,
   "id": "e89106d2",
   "metadata": {
    "execution": {
     "iopub.execute_input": "2023-05-31T05:04:39.863821Z",
     "iopub.status.busy": "2023-05-31T05:04:39.862919Z",
     "iopub.status.idle": "2023-05-31T05:04:39.868746Z",
     "shell.execute_reply": "2023-05-31T05:04:39.867843Z"
    },
    "papermill": {
     "duration": 0.050084,
     "end_time": "2023-05-31T05:04:39.871566",
     "exception": false,
     "start_time": "2023-05-31T05:04:39.821482",
     "status": "completed"
    },
    "tags": []
   },
   "outputs": [],
   "source": [
    "##random forest classifier\n",
    "rfc=RandomForestClassifier()"
   ]
  },
  {
   "cell_type": "code",
   "execution_count": 53,
   "id": "9ff5f269",
   "metadata": {
    "execution": {
     "iopub.execute_input": "2023-05-31T05:04:39.951684Z",
     "iopub.status.busy": "2023-05-31T05:04:39.950987Z",
     "iopub.status.idle": "2023-05-31T05:04:39.955671Z",
     "shell.execute_reply": "2023-05-31T05:04:39.954842Z"
    },
    "papermill": {
     "duration": 0.046145,
     "end_time": "2023-05-31T05:04:39.957871",
     "exception": false,
     "start_time": "2023-05-31T05:04:39.911726",
     "status": "completed"
    },
    "tags": []
   },
   "outputs": [],
   "source": [
    "pipe_rfc=Pipeline([\n",
    "    ('tf1',tf1),\n",
    "#     ('tf2',tf2),\n",
    "    ('rfc',rfc),\n",
    "])"
   ]
  },
  {
   "cell_type": "code",
   "execution_count": 54,
   "id": "c4e1569b",
   "metadata": {
    "execution": {
     "iopub.execute_input": "2023-05-31T05:04:40.035535Z",
     "iopub.status.busy": "2023-05-31T05:04:40.034810Z",
     "iopub.status.idle": "2023-05-31T05:04:46.639528Z",
     "shell.execute_reply": "2023-05-31T05:04:46.638160Z"
    },
    "papermill": {
     "duration": 6.646379,
     "end_time": "2023-05-31T05:04:46.642329",
     "exception": false,
     "start_time": "2023-05-31T05:04:39.995950",
     "status": "completed"
    },
    "tags": []
   },
   "outputs": [
    {
     "data": {
      "text/html": [
       "<style>#sk-container-id-3 {color: black;background-color: white;}#sk-container-id-3 pre{padding: 0;}#sk-container-id-3 div.sk-toggleable {background-color: white;}#sk-container-id-3 label.sk-toggleable__label {cursor: pointer;display: block;width: 100%;margin-bottom: 0;padding: 0.3em;box-sizing: border-box;text-align: center;}#sk-container-id-3 label.sk-toggleable__label-arrow:before {content: \"▸\";float: left;margin-right: 0.25em;color: #696969;}#sk-container-id-3 label.sk-toggleable__label-arrow:hover:before {color: black;}#sk-container-id-3 div.sk-estimator:hover label.sk-toggleable__label-arrow:before {color: black;}#sk-container-id-3 div.sk-toggleable__content {max-height: 0;max-width: 0;overflow: hidden;text-align: left;background-color: #f0f8ff;}#sk-container-id-3 div.sk-toggleable__content pre {margin: 0.2em;color: black;border-radius: 0.25em;background-color: #f0f8ff;}#sk-container-id-3 input.sk-toggleable__control:checked~div.sk-toggleable__content {max-height: 200px;max-width: 100%;overflow: auto;}#sk-container-id-3 input.sk-toggleable__control:checked~label.sk-toggleable__label-arrow:before {content: \"▾\";}#sk-container-id-3 div.sk-estimator input.sk-toggleable__control:checked~label.sk-toggleable__label {background-color: #d4ebff;}#sk-container-id-3 div.sk-label input.sk-toggleable__control:checked~label.sk-toggleable__label {background-color: #d4ebff;}#sk-container-id-3 input.sk-hidden--visually {border: 0;clip: rect(1px 1px 1px 1px);clip: rect(1px, 1px, 1px, 1px);height: 1px;margin: -1px;overflow: hidden;padding: 0;position: absolute;width: 1px;}#sk-container-id-3 div.sk-estimator {font-family: monospace;background-color: #f0f8ff;border: 1px dotted black;border-radius: 0.25em;box-sizing: border-box;margin-bottom: 0.5em;}#sk-container-id-3 div.sk-estimator:hover {background-color: #d4ebff;}#sk-container-id-3 div.sk-parallel-item::after {content: \"\";width: 100%;border-bottom: 1px solid gray;flex-grow: 1;}#sk-container-id-3 div.sk-label:hover label.sk-toggleable__label {background-color: #d4ebff;}#sk-container-id-3 div.sk-serial::before {content: \"\";position: absolute;border-left: 1px solid gray;box-sizing: border-box;top: 0;bottom: 0;left: 50%;z-index: 0;}#sk-container-id-3 div.sk-serial {display: flex;flex-direction: column;align-items: center;background-color: white;padding-right: 0.2em;padding-left: 0.2em;position: relative;}#sk-container-id-3 div.sk-item {position: relative;z-index: 1;}#sk-container-id-3 div.sk-parallel {display: flex;align-items: stretch;justify-content: center;background-color: white;position: relative;}#sk-container-id-3 div.sk-item::before, #sk-container-id-3 div.sk-parallel-item::before {content: \"\";position: absolute;border-left: 1px solid gray;box-sizing: border-box;top: 0;bottom: 0;left: 50%;z-index: -1;}#sk-container-id-3 div.sk-parallel-item {display: flex;flex-direction: column;z-index: 1;position: relative;background-color: white;}#sk-container-id-3 div.sk-parallel-item:first-child::after {align-self: flex-end;width: 50%;}#sk-container-id-3 div.sk-parallel-item:last-child::after {align-self: flex-start;width: 50%;}#sk-container-id-3 div.sk-parallel-item:only-child::after {width: 0;}#sk-container-id-3 div.sk-dashed-wrapped {border: 1px dashed gray;margin: 0 0.4em 0.5em 0.4em;box-sizing: border-box;padding-bottom: 0.4em;background-color: white;}#sk-container-id-3 div.sk-label label {font-family: monospace;font-weight: bold;display: inline-block;line-height: 1.2em;}#sk-container-id-3 div.sk-label-container {text-align: center;}#sk-container-id-3 div.sk-container {/* jupyter's `normalize.less` sets `[hidden] { display: none; }` but bootstrap.min.css set `[hidden] { display: none !important; }` so we also need the `!important` here to be able to override the default hidden behavior on the sphinx rendered scikit-learn.org. See: https://github.com/scikit-learn/scikit-learn/issues/21755 */display: inline-block !important;position: relative;}#sk-container-id-3 div.sk-text-repr-fallback {display: none;}</style><div id=\"sk-container-id-3\" class=\"sk-top-container\"><div class=\"sk-text-repr-fallback\"><pre>Pipeline(steps=[(&#x27;tf1&#x27;,\n",
       "                 ColumnTransformer(remainder=&#x27;passthrough&#x27;,\n",
       "                                   transformers=[(&#x27;onh&#x27;, OneHotEncoder(),\n",
       "                                                  [0, 4])])),\n",
       "                (&#x27;rfc&#x27;, RandomForestClassifier())])</pre><b>In a Jupyter environment, please rerun this cell to show the HTML representation or trust the notebook. <br />On GitHub, the HTML representation is unable to render, please try loading this page with nbviewer.org.</b></div><div class=\"sk-container\" hidden><div class=\"sk-item sk-dashed-wrapped\"><div class=\"sk-label-container\"><div class=\"sk-label sk-toggleable\"><input class=\"sk-toggleable__control sk-hidden--visually\" id=\"sk-estimator-id-20\" type=\"checkbox\" ><label for=\"sk-estimator-id-20\" class=\"sk-toggleable__label sk-toggleable__label-arrow\">Pipeline</label><div class=\"sk-toggleable__content\"><pre>Pipeline(steps=[(&#x27;tf1&#x27;,\n",
       "                 ColumnTransformer(remainder=&#x27;passthrough&#x27;,\n",
       "                                   transformers=[(&#x27;onh&#x27;, OneHotEncoder(),\n",
       "                                                  [0, 4])])),\n",
       "                (&#x27;rfc&#x27;, RandomForestClassifier())])</pre></div></div></div><div class=\"sk-serial\"><div class=\"sk-item sk-dashed-wrapped\"><div class=\"sk-label-container\"><div class=\"sk-label sk-toggleable\"><input class=\"sk-toggleable__control sk-hidden--visually\" id=\"sk-estimator-id-21\" type=\"checkbox\" ><label for=\"sk-estimator-id-21\" class=\"sk-toggleable__label sk-toggleable__label-arrow\">tf1: ColumnTransformer</label><div class=\"sk-toggleable__content\"><pre>ColumnTransformer(remainder=&#x27;passthrough&#x27;,\n",
       "                  transformers=[(&#x27;onh&#x27;, OneHotEncoder(), [0, 4])])</pre></div></div></div><div class=\"sk-parallel\"><div class=\"sk-parallel-item\"><div class=\"sk-item\"><div class=\"sk-label-container\"><div class=\"sk-label sk-toggleable\"><input class=\"sk-toggleable__control sk-hidden--visually\" id=\"sk-estimator-id-22\" type=\"checkbox\" ><label for=\"sk-estimator-id-22\" class=\"sk-toggleable__label sk-toggleable__label-arrow\">onh</label><div class=\"sk-toggleable__content\"><pre>[0, 4]</pre></div></div></div><div class=\"sk-serial\"><div class=\"sk-item\"><div class=\"sk-estimator sk-toggleable\"><input class=\"sk-toggleable__control sk-hidden--visually\" id=\"sk-estimator-id-23\" type=\"checkbox\" ><label for=\"sk-estimator-id-23\" class=\"sk-toggleable__label sk-toggleable__label-arrow\">OneHotEncoder</label><div class=\"sk-toggleable__content\"><pre>OneHotEncoder()</pre></div></div></div></div></div></div><div class=\"sk-parallel-item\"><div class=\"sk-item\"><div class=\"sk-label-container\"><div class=\"sk-label sk-toggleable\"><input class=\"sk-toggleable__control sk-hidden--visually\" id=\"sk-estimator-id-24\" type=\"checkbox\" ><label for=\"sk-estimator-id-24\" class=\"sk-toggleable__label sk-toggleable__label-arrow\">remainder</label><div class=\"sk-toggleable__content\"><pre>[&#x27;age&#x27;, &#x27;hypertension&#x27;, &#x27;heart_disease&#x27;, &#x27;bmi&#x27;, &#x27;HbA1c_level&#x27;, &#x27;blood_glucose_level&#x27;]</pre></div></div></div><div class=\"sk-serial\"><div class=\"sk-item\"><div class=\"sk-estimator sk-toggleable\"><input class=\"sk-toggleable__control sk-hidden--visually\" id=\"sk-estimator-id-25\" type=\"checkbox\" ><label for=\"sk-estimator-id-25\" class=\"sk-toggleable__label sk-toggleable__label-arrow\">passthrough</label><div class=\"sk-toggleable__content\"><pre>passthrough</pre></div></div></div></div></div></div></div></div><div class=\"sk-item\"><div class=\"sk-estimator sk-toggleable\"><input class=\"sk-toggleable__control sk-hidden--visually\" id=\"sk-estimator-id-26\" type=\"checkbox\" ><label for=\"sk-estimator-id-26\" class=\"sk-toggleable__label sk-toggleable__label-arrow\">RandomForestClassifier</label><div class=\"sk-toggleable__content\"><pre>RandomForestClassifier()</pre></div></div></div></div></div></div></div>"
      ],
      "text/plain": [
       "Pipeline(steps=[('tf1',\n",
       "                 ColumnTransformer(remainder='passthrough',\n",
       "                                   transformers=[('onh', OneHotEncoder(),\n",
       "                                                  [0, 4])])),\n",
       "                ('rfc', RandomForestClassifier())])"
      ]
     },
     "execution_count": 54,
     "metadata": {},
     "output_type": "execute_result"
    }
   ],
   "source": [
    "pipe_rfc.fit(X_train,y_train)"
   ]
  },
  {
   "cell_type": "code",
   "execution_count": 55,
   "id": "c7e00ea6",
   "metadata": {
    "execution": {
     "iopub.execute_input": "2023-05-31T05:04:46.721557Z",
     "iopub.status.busy": "2023-05-31T05:04:46.720343Z",
     "iopub.status.idle": "2023-05-31T05:04:47.223307Z",
     "shell.execute_reply": "2023-05-31T05:04:47.222200Z"
    },
    "papermill": {
     "duration": 0.545799,
     "end_time": "2023-05-31T05:04:47.226098",
     "exception": false,
     "start_time": "2023-05-31T05:04:46.680299",
     "status": "completed"
    },
    "tags": []
   },
   "outputs": [],
   "source": [
    "y_pred_rfc=pipe_rfc.predict(X_test)"
   ]
  },
  {
   "cell_type": "code",
   "execution_count": 56,
   "id": "1af9d213",
   "metadata": {
    "execution": {
     "iopub.execute_input": "2023-05-31T05:04:47.305505Z",
     "iopub.status.busy": "2023-05-31T05:04:47.304560Z",
     "iopub.status.idle": "2023-05-31T05:04:47.312905Z",
     "shell.execute_reply": "2023-05-31T05:04:47.311518Z"
    },
    "papermill": {
     "duration": 0.050468,
     "end_time": "2023-05-31T05:04:47.315438",
     "exception": false,
     "start_time": "2023-05-31T05:04:47.264970",
     "status": "completed"
    },
    "tags": []
   },
   "outputs": [],
   "source": [
    "rfca=accuracy_score(y_test,y_pred_rfc)"
   ]
  },
  {
   "cell_type": "code",
   "execution_count": 57,
   "id": "cf573dde",
   "metadata": {
    "execution": {
     "iopub.execute_input": "2023-05-31T05:04:47.394238Z",
     "iopub.status.busy": "2023-05-31T05:04:47.393777Z",
     "iopub.status.idle": "2023-05-31T05:04:47.404312Z",
     "shell.execute_reply": "2023-05-31T05:04:47.403121Z"
    },
    "papermill": {
     "duration": 0.052433,
     "end_time": "2023-05-31T05:04:47.407063",
     "exception": false,
     "start_time": "2023-05-31T05:04:47.354630",
     "status": "completed"
    },
    "tags": []
   },
   "outputs": [],
   "source": [
    "cm3=confusion_matrix(y_test,y_pred_rfc)"
   ]
  },
  {
   "cell_type": "code",
   "execution_count": 58,
   "id": "a0b91ffe",
   "metadata": {
    "execution": {
     "iopub.execute_input": "2023-05-31T05:04:47.486737Z",
     "iopub.status.busy": "2023-05-31T05:04:47.486332Z",
     "iopub.status.idle": "2023-05-31T05:04:47.795115Z",
     "shell.execute_reply": "2023-05-31T05:04:47.793837Z"
    },
    "papermill": {
     "duration": 0.351675,
     "end_time": "2023-05-31T05:04:47.798161",
     "exception": false,
     "start_time": "2023-05-31T05:04:47.446486",
     "status": "completed"
    },
    "tags": []
   },
   "outputs": [
    {
     "data": {
      "text/plain": [
       "<sklearn.metrics._plot.confusion_matrix.ConfusionMatrixDisplay at 0x7c7012544400>"
      ]
     },
     "execution_count": 58,
     "metadata": {},
     "output_type": "execute_result"
    },
    {
     "data": {
      "image/png": "[encoded data removed]",
      "text/plain": [
       "<Figure size 640x480 with 2 Axes>"
      ]
     },
     "metadata": {},
     "output_type": "display_data"
    }
   ],
   "source": [
    "ConfusionMatrixDisplay(cm3).plot()"
   ]
  },
  {
   "cell_type": "code",
   "execution_count": 59,
   "id": "cb63990d",
   "metadata": {
    "execution": {
     "iopub.execute_input": "2023-05-31T05:04:47.877893Z",
     "iopub.status.busy": "2023-05-31T05:04:47.877232Z",
     "iopub.status.idle": "2023-05-31T05:04:47.882451Z",
     "shell.execute_reply": "2023-05-31T05:04:47.881617Z"
    },
    "papermill": {
     "duration": 0.0474,
     "end_time": "2023-05-31T05:04:47.884721",
     "exception": false,
     "start_time": "2023-05-31T05:04:47.837321",
     "status": "completed"
    },
    "tags": []
   },
   "outputs": [],
   "source": [
    "xgbc=XGBClassifier(learning_rate=0.10,n_estimators=120,booster=\"gbtree\")"
   ]
  },
  {
   "cell_type": "code",
   "execution_count": 60,
   "id": "b0afe288",
   "metadata": {
    "execution": {
     "iopub.execute_input": "2023-05-31T05:04:47.962984Z",
     "iopub.status.busy": "2023-05-31T05:04:47.962322Z",
     "iopub.status.idle": "2023-05-31T05:04:47.967892Z",
     "shell.execute_reply": "2023-05-31T05:04:47.967022Z"
    },
    "papermill": {
     "duration": 0.047539,
     "end_time": "2023-05-31T05:04:47.970343",
     "exception": false,
     "start_time": "2023-05-31T05:04:47.922804",
     "status": "completed"
    },
    "tags": []
   },
   "outputs": [],
   "source": [
    "pipe_xgb=Pipeline([\n",
    "    ('tf1',tf1),\n",
    "    ('tf2',tf2),\n",
    "    ('xgbx',xgbc),\n",
    "])"
   ]
  },
  {
   "cell_type": "code",
   "execution_count": 61,
   "id": "d10c51b5",
   "metadata": {
    "execution": {
     "iopub.execute_input": "2023-05-31T05:04:48.048930Z",
     "iopub.status.busy": "2023-05-31T05:04:48.048514Z",
     "iopub.status.idle": "2023-05-31T05:04:52.384369Z",
     "shell.execute_reply": "2023-05-31T05:04:52.383447Z"
    },
    "papermill": {
     "duration": 4.377872,
     "end_time": "2023-05-31T05:04:52.386567",
     "exception": false,
     "start_time": "2023-05-31T05:04:48.008695",
     "status": "completed"
    },
    "tags": []
   },
   "outputs": [
    {
     "data": {
      "text/html": [
       "<style>#sk-container-id-4 {color: black;background-color: white;}#sk-container-id-4 pre{padding: 0;}#sk-container-id-4 div.sk-toggleable {background-color: white;}#sk-container-id-4 label.sk-toggleable__label {cursor: pointer;display: block;width: 100%;margin-bottom: 0;padding: 0.3em;box-sizing: border-box;text-align: center;}#sk-container-id-4 label.sk-toggleable__label-arrow:before {content: \"▸\";float: left;margin-right: 0.25em;color: #696969;}#sk-container-id-4 label.sk-toggleable__label-arrow:hover:before {color: black;}#sk-container-id-4 div.sk-estimator:hover label.sk-toggleable__label-arrow:before {color: black;}#sk-container-id-4 div.sk-toggleable__content {max-height: 0;max-width: 0;overflow: hidden;text-align: left;background-color: #f0f8ff;}#sk-container-id-4 div.sk-toggleable__content pre {margin: 0.2em;color: black;border-radius: 0.25em;background-color: #f0f8ff;}#sk-container-id-4 input.sk-toggleable__control:checked~div.sk-toggleable__content {max-height: 200px;max-width: 100%;overflow: auto;}#sk-container-id-4 input.sk-toggleable__control:checked~label.sk-toggleable__label-arrow:before {content: \"▾\";}#sk-container-id-4 div.sk-estimator input.sk-toggleable__control:checked~label.sk-toggleable__label {background-color: #d4ebff;}#sk-container-id-4 div.sk-label input.sk-toggleable__control:checked~label.sk-toggleable__label {background-color: #d4ebff;}#sk-container-id-4 input.sk-hidden--visually {border: 0;clip: rect(1px 1px 1px 1px);clip: rect(1px, 1px, 1px, 1px);height: 1px;margin: -1px;overflow: hidden;padding: 0;position: absolute;width: 1px;}#sk-container-id-4 div.sk-estimator {font-family: monospace;background-color: #f0f8ff;border: 1px dotted black;border-radius: 0.25em;box-sizing: border-box;margin-bottom: 0.5em;}#sk-container-id-4 div.sk-estimator:hover {background-color: #d4ebff;}#sk-container-id-4 div.sk-parallel-item::after {content: \"\";width: 100%;border-bottom: 1px solid gray;flex-grow: 1;}#sk-container-id-4 div.sk-label:hover label.sk-toggleable__label {background-color: #d4ebff;}#sk-container-id-4 div.sk-serial::before {content: \"\";position: absolute;border-left: 1px solid gray;box-sizing: border-box;top: 0;bottom: 0;left: 50%;z-index: 0;}#sk-container-id-4 div.sk-serial {display: flex;flex-direction: column;align-items: center;background-color: white;padding-right: 0.2em;padding-left: 0.2em;position: relative;}#sk-container-id-4 div.sk-item {position: relative;z-index: 1;}#sk-container-id-4 div.sk-parallel {display: flex;align-items: stretch;justify-content: center;background-color: white;position: relative;}#sk-container-id-4 div.sk-item::before, #sk-container-id-4 div.sk-parallel-item::before {content: \"\";position: absolute;border-left: 1px solid gray;box-sizing: border-box;top: 0;bottom: 0;left: 50%;z-index: -1;}#sk-container-id-4 div.sk-parallel-item {display: flex;flex-direction: column;z-index: 1;position: relative;background-color: white;}#sk-container-id-4 div.sk-parallel-item:first-child::after {align-self: flex-end;width: 50%;}#sk-container-id-4 div.sk-parallel-item:last-child::after {align-self: flex-start;width: 50%;}#sk-container-id-4 div.sk-parallel-item:only-child::after {width: 0;}#sk-container-id-4 div.sk-dashed-wrapped {border: 1px dashed gray;margin: 0 0.4em 0.5em 0.4em;box-sizing: border-box;padding-bottom: 0.4em;background-color: white;}#sk-container-id-4 div.sk-label label {font-family: monospace;font-weight: bold;display: inline-block;line-height: 1.2em;}#sk-container-id-4 div.sk-label-container {text-align: center;}#sk-container-id-4 div.sk-container {/* jupyter's `normalize.less` sets `[hidden] { display: none; }` but bootstrap.min.css set `[hidden] { display: none !important; }` so we also need the `!important` here to be able to override the default hidden behavior on the sphinx rendered scikit-learn.org. See: https://github.com/scikit-learn/scikit-learn/issues/21755 */display: inline-block !important;position: relative;}#sk-container-id-4 div.sk-text-repr-fallback {display: none;}</style><div id=\"sk-container-id-4\" class=\"sk-top-container\"><div class=\"sk-text-repr-fallback\"><pre>Pipeline(steps=[(&#x27;tf1&#x27;,\n",
       "                 ColumnTransformer(remainder=&#x27;passthrough&#x27;,\n",
       "                                   transformers=[(&#x27;onh&#x27;, OneHotEncoder(),\n",
       "                                                  [0, 4])])),\n",
       "                (&#x27;tf2&#x27;,\n",
       "                 ColumnTransformer(remainder=&#x27;passthrough&#x27;,\n",
       "                                   transformers=[(&#x27;stscaler&#x27;, StandardScaler(),\n",
       "                                                  slice(0, 20, None))])),\n",
       "                (&#x27;xgbx&#x27;,\n",
       "                 XGBClassifier(base_score=None, booster=&#x27;gbtree&#x27;,\n",
       "                               callbacks=None, colsample_bylevel=None,\n",
       "                               colsample_bynode=None, colsample_...\n",
       "                               feature_types=None, gamma=None, gpu_id=None,\n",
       "                               grow_policy=None, importance_type=None,\n",
       "                               interaction_constraints=None, learning_rate=0.1,\n",
       "                               max_bin=None, max_cat_threshold=None,\n",
       "                               max_cat_to_onehot=None, max_delta_step=None,\n",
       "                               max_depth=None, max_leaves=None,\n",
       "                               min_child_weight=None, missing=nan,\n",
       "                               monotone_constraints=None, n_estimators=120,\n",
       "                               n_jobs=None, num_parallel_tree=None,\n",
       "                               predictor=None, random_state=None, ...))])</pre><b>In a Jupyter environment, please rerun this cell to show the HTML representation or trust the notebook. <br />On GitHub, the HTML representation is unable to render, please try loading this page with nbviewer.org.</b></div><div class=\"sk-container\" hidden><div class=\"sk-item sk-dashed-wrapped\"><div class=\"sk-label-container\"><div class=\"sk-label sk-toggleable\"><input class=\"sk-toggleable__control sk-hidden--visually\" id=\"sk-estimator-id-27\" type=\"checkbox\" ><label for=\"sk-estimator-id-27\" class=\"sk-toggleable__label sk-toggleable__label-arrow\">Pipeline</label><div class=\"sk-toggleable__content\"><pre>Pipeline(steps=[(&#x27;tf1&#x27;,\n",
       "                 ColumnTransformer(remainder=&#x27;passthrough&#x27;,\n",
       "                                   transformers=[(&#x27;onh&#x27;, OneHotEncoder(),\n",
       "                                                  [0, 4])])),\n",
       "                (&#x27;tf2&#x27;,\n",
       "                 ColumnTransformer(remainder=&#x27;passthrough&#x27;,\n",
       "                                   transformers=[(&#x27;stscaler&#x27;, StandardScaler(),\n",
       "                                                  slice(0, 20, None))])),\n",
       "                (&#x27;xgbx&#x27;,\n",
       "                 XGBClassifier(base_score=None, booster=&#x27;gbtree&#x27;,\n",
       "                               callbacks=None, colsample_bylevel=None,\n",
       "                               colsample_bynode=None, colsample_...\n",
       "                               feature_types=None, gamma=None, gpu_id=None,\n",
       "                               grow_policy=None, importance_type=None,\n",
       "                               interaction_constraints=None, learning_rate=0.1,\n",
       "                               max_bin=None, max_cat_threshold=None,\n",
       "                               max_cat_to_onehot=None, max_delta_step=None,\n",
       "                               max_depth=None, max_leaves=None,\n",
       "                               min_child_weight=None, missing=nan,\n",
       "                               monotone_constraints=None, n_estimators=120,\n",
       "                               n_jobs=None, num_parallel_tree=None,\n",
       "                               predictor=None, random_state=None, ...))])</pre></div></div></div><div class=\"sk-serial\"><div class=\"sk-item sk-dashed-wrapped\"><div class=\"sk-label-container\"><div class=\"sk-label sk-toggleable\"><input class=\"sk-toggleable__control sk-hidden--visually\" id=\"sk-estimator-id-28\" type=\"checkbox\" ><label for=\"sk-estimator-id-28\" class=\"sk-toggleable__label sk-toggleable__label-arrow\">tf1: ColumnTransformer</label><div class=\"sk-toggleable__content\"><pre>ColumnTransformer(remainder=&#x27;passthrough&#x27;,\n",
       "                  transformers=[(&#x27;onh&#x27;, OneHotEncoder(), [0, 4])])</pre></div></div></div><div class=\"sk-parallel\"><div class=\"sk-parallel-item\"><div class=\"sk-item\"><div class=\"sk-label-container\"><div class=\"sk-label sk-toggleable\"><input class=\"sk-toggleable__control sk-hidden--visually\" id=\"sk-estimator-id-29\" type=\"checkbox\" ><label for=\"sk-estimator-id-29\" class=\"sk-toggleable__label sk-toggleable__label-arrow\">onh</label><div class=\"sk-toggleable__content\"><pre>[0, 4]</pre></div></div></div><div class=\"sk-serial\"><div class=\"sk-item\"><div class=\"sk-estimator sk-toggleable\"><input class=\"sk-toggleable__control sk-hidden--visually\" id=\"sk-estimator-id-30\" type=\"checkbox\" ><label for=\"sk-estimator-id-30\" class=\"sk-toggleable__label sk-toggleable__label-arrow\">OneHotEncoder</label><div class=\"sk-toggleable__content\"><pre>OneHotEncoder()</pre></div></div></div></div></div></div><div class=\"sk-parallel-item\"><div class=\"sk-item\"><div class=\"sk-label-container\"><div class=\"sk-label sk-toggleable\"><input class=\"sk-toggleable__control sk-hidden--visually\" id=\"sk-estimator-id-31\" type=\"checkbox\" ><label for=\"sk-estimator-id-31\" class=\"sk-toggleable__label sk-toggleable__label-arrow\">remainder</label><div class=\"sk-toggleable__content\"><pre>[&#x27;age&#x27;, &#x27;hypertension&#x27;, &#x27;heart_disease&#x27;, &#x27;bmi&#x27;, &#x27;HbA1c_level&#x27;, &#x27;blood_glucose_level&#x27;]</pre></div></div></div><div class=\"sk-serial\"><div class=\"sk-item\"><div class=\"sk-estimator sk-toggleable\"><input class=\"sk-toggleable__control sk-hidden--visually\" id=\"sk-estimator-id-32\" type=\"checkbox\" ><label for=\"sk-estimator-id-32\" class=\"sk-toggleable__label sk-toggleable__label-arrow\">passthrough</label><div class=\"sk-toggleable__content\"><pre>passthrough</pre></div></div></div></div></div></div></div></div><div class=\"sk-item sk-dashed-wrapped\"><div class=\"sk-label-container\"><div class=\"sk-label sk-toggleable\"><input class=\"sk-toggleable__control sk-hidden--visually\" id=\"sk-estimator-id-33\" type=\"checkbox\" ><label for=\"sk-estimator-id-33\" class=\"sk-toggleable__label sk-toggleable__label-arrow\">tf2: ColumnTransformer</label><div class=\"sk-toggleable__content\"><pre>ColumnTransformer(remainder=&#x27;passthrough&#x27;,\n",
       "                  transformers=[(&#x27;stscaler&#x27;, StandardScaler(),\n",
       "                                 slice(0, 20, None))])</pre></div></div></div><div class=\"sk-parallel\"><div class=\"sk-parallel-item\"><div class=\"sk-item\"><div class=\"sk-label-container\"><div class=\"sk-label sk-toggleable\"><input class=\"sk-toggleable__control sk-hidden--visually\" id=\"sk-estimator-id-34\" type=\"checkbox\" ><label for=\"sk-estimator-id-34\" class=\"sk-toggleable__label sk-toggleable__label-arrow\">stscaler</label><div class=\"sk-toggleable__content\"><pre>slice(0, 20, None)</pre></div></div></div><div class=\"sk-serial\"><div class=\"sk-item\"><div class=\"sk-estimator sk-toggleable\"><input class=\"sk-toggleable__control sk-hidden--visually\" id=\"sk-estimator-id-35\" type=\"checkbox\" ><label for=\"sk-estimator-id-35\" class=\"sk-toggleable__label sk-toggleable__label-arrow\">StandardScaler</label><div class=\"sk-toggleable__content\"><pre>StandardScaler()</pre></div></div></div></div></div></div><div class=\"sk-parallel-item\"><div class=\"sk-item\"><div class=\"sk-label-container\"><div class=\"sk-label sk-toggleable\"><input class=\"sk-toggleable__control sk-hidden--visually\" id=\"sk-estimator-id-36\" type=\"checkbox\" ><label for=\"sk-estimator-id-36\" class=\"sk-toggleable__label sk-toggleable__label-arrow\">remainder</label><div class=\"sk-toggleable__content\"><pre>[]</pre></div></div></div><div class=\"sk-serial\"><div class=\"sk-item\"><div class=\"sk-estimator sk-toggleable\"><input class=\"sk-toggleable__control sk-hidden--visually\" id=\"sk-estimator-id-37\" type=\"checkbox\" ><label for=\"sk-estimator-id-37\" class=\"sk-toggleable__label sk-toggleable__label-arrow\">passthrough</label><div class=\"sk-toggleable__content\"><pre>passthrough</pre></div></div></div></div></div></div></div></div><div class=\"sk-item\"><div class=\"sk-estimator sk-toggleable\"><input class=\"sk-toggleable__control sk-hidden--visually\" id=\"sk-estimator-id-38\" type=\"checkbox\" ><label for=\"sk-estimator-id-38\" class=\"sk-toggleable__label sk-toggleable__label-arrow\">XGBClassifier</label><div class=\"sk-toggleable__content\"><pre>XGBClassifier(base_score=None, booster=&#x27;gbtree&#x27;, callbacks=None,\n",
       "              colsample_bylevel=None, colsample_bynode=None,\n",
       "              colsample_bytree=None, early_stopping_rounds=None,\n",
       "              enable_categorical=False, eval_metric=None, feature_types=None,\n",
       "              gamma=None, gpu_id=None, grow_policy=None, importance_type=None,\n",
       "              interaction_constraints=None, learning_rate=0.1, max_bin=None,\n",
       "              max_cat_threshold=None, max_cat_to_onehot=None,\n",
       "              max_delta_step=None, max_depth=None, max_leaves=None,\n",
       "              min_child_weight=None, missing=nan, monotone_constraints=None,\n",
       "              n_estimators=120, n_jobs=None, num_parallel_tree=None,\n",
       "              predictor=None, random_state=None, ...)</pre></div></div></div></div></div></div></div>"
      ],
      "text/plain": [
       "Pipeline(steps=[('tf1',\n",
       "                 ColumnTransformer(remainder='passthrough',\n",
       "                                   transformers=[('onh', OneHotEncoder(),\n",
       "                                                  [0, 4])])),\n",
       "                ('tf2',\n",
       "                 ColumnTransformer(remainder='passthrough',\n",
       "                                   transformers=[('stscaler', StandardScaler(),\n",
       "                                                  slice(0, 20, None))])),\n",
       "                ('xgbx',\n",
       "                 XGBClassifier(base_score=None, booster='gbtree',\n",
       "                               callbacks=None, colsample_bylevel=None,\n",
       "                               colsample_bynode=None, colsample_...\n",
       "                               feature_types=None, gamma=None, gpu_id=None,\n",
       "                               grow_policy=None, importance_type=None,\n",
       "                               interaction_constraints=None, learning_rate=0.1,\n",
       "                               max_bin=None, max_cat_threshold=None,\n",
       "                               max_cat_to_onehot=None, max_delta_step=None,\n",
       "                               max_depth=None, max_leaves=None,\n",
       "                               min_child_weight=None, missing=nan,\n",
       "                               monotone_constraints=None, n_estimators=120,\n",
       "                               n_jobs=None, num_parallel_tree=None,\n",
       "                               predictor=None, random_state=None, ...))])"
      ]
     },
     "execution_count": 61,
     "metadata": {},
     "output_type": "execute_result"
    }
   ],
   "source": [
    "pipe_xgb.fit(X_train,y_train)"
   ]
  },
  {
   "cell_type": "code",
   "execution_count": 62,
   "id": "5d2e4951",
   "metadata": {
    "execution": {
     "iopub.execute_input": "2023-05-31T05:04:52.468055Z",
     "iopub.status.busy": "2023-05-31T05:04:52.466561Z",
     "iopub.status.idle": "2023-05-31T05:04:52.540190Z",
     "shell.execute_reply": "2023-05-31T05:04:52.539253Z"
    },
    "papermill": {
     "duration": 0.116619,
     "end_time": "2023-05-31T05:04:52.542890",
     "exception": false,
     "start_time": "2023-05-31T05:04:52.426271",
     "status": "completed"
    },
    "tags": []
   },
   "outputs": [],
   "source": [
    "y_pred_xgb=pipe_xgb.predict(X_test)"
   ]
  },
  {
   "cell_type": "code",
   "execution_count": 63,
   "id": "ab8461aa",
   "metadata": {
    "execution": {
     "iopub.execute_input": "2023-05-31T05:04:52.624881Z",
     "iopub.status.busy": "2023-05-31T05:04:52.624431Z",
     "iopub.status.idle": "2023-05-31T05:04:52.634918Z",
     "shell.execute_reply": "2023-05-31T05:04:52.633598Z"
    },
    "papermill": {
     "duration": 0.05391,
     "end_time": "2023-05-31T05:04:52.637509",
     "exception": false,
     "start_time": "2023-05-31T05:04:52.583599",
     "status": "completed"
    },
    "tags": []
   },
   "outputs": [
    {
     "data": {
      "text/plain": [
       "0.9710615280594996"
      ]
     },
     "execution_count": 63,
     "metadata": {},
     "output_type": "execute_result"
    }
   ],
   "source": [
    "axgb=accuracy_score(y_test,y_pred_xgb)\n",
    "axgb"
   ]
  },
  {
   "cell_type": "code",
   "execution_count": 64,
   "id": "fc8f8ce2",
   "metadata": {
    "execution": {
     "iopub.execute_input": "2023-05-31T05:04:52.721022Z",
     "iopub.status.busy": "2023-05-31T05:04:52.720597Z",
     "iopub.status.idle": "2023-05-31T05:04:52.730590Z",
     "shell.execute_reply": "2023-05-31T05:04:52.729430Z"
    },
    "papermill": {
     "duration": 0.054727,
     "end_time": "2023-05-31T05:04:52.733714",
     "exception": false,
     "start_time": "2023-05-31T05:04:52.678987",
     "status": "completed"
    },
    "tags": []
   },
   "outputs": [],
   "source": [
    "cm4=confusion_matrix(y_test,y_pred_xgb)"
   ]
  },
  {
   "cell_type": "code",
   "execution_count": 65,
   "id": "ca0ddb29",
   "metadata": {
    "execution": {
     "iopub.execute_input": "2023-05-31T05:04:52.815449Z",
     "iopub.status.busy": "2023-05-31T05:04:52.815055Z",
     "iopub.status.idle": "2023-05-31T05:04:53.111693Z",
     "shell.execute_reply": "2023-05-31T05:04:53.110553Z"
    },
    "papermill": {
     "duration": 0.340965,
     "end_time": "2023-05-31T05:04:53.114249",
     "exception": false,
     "start_time": "2023-05-31T05:04:52.773284",
     "status": "completed"
    },
    "tags": []
   },
   "outputs": [
    {
     "data": {
      "text/plain": [
       "<sklearn.metrics._plot.confusion_matrix.ConfusionMatrixDisplay at 0x7c7011bb6380>"
      ]
     },
     "execution_count": 65,
     "metadata": {},
     "output_type": "execute_result"
    },
    {
     "data": {
      "image/png": "[encoded data removed]",
      "text/plain": [
       "<Figure size 640x480 with 2 Axes>"
      ]
     },
     "metadata": {},
     "output_type": "display_data"
    }
   ],
   "source": [
    "ConfusionMatrixDisplay(cm4).plot()"
   ]
  },
  {
   "cell_type": "code",
   "execution_count": 66,
   "id": "e27f8a6c",
   "metadata": {
    "execution": {
     "iopub.execute_input": "2023-05-31T05:04:53.195218Z",
     "iopub.status.busy": "2023-05-31T05:04:53.194843Z",
     "iopub.status.idle": "2023-05-31T05:04:53.214673Z",
     "shell.execute_reply": "2023-05-31T05:04:53.213475Z"
    },
    "papermill": {
     "duration": 0.063438,
     "end_time": "2023-05-31T05:04:53.217130",
     "exception": false,
     "start_time": "2023-05-31T05:04:53.153692",
     "status": "completed"
    },
    "tags": []
   },
   "outputs": [
    {
     "data": {
      "text/html": [
       "<div>\n",
       "<style scoped>\n",
       "    .dataframe tbody tr th:only-of-type {\n",
       "        vertical-align: middle;\n",
       "    }\n",
       "\n",
       "    .dataframe tbody tr th {\n",
       "        vertical-align: top;\n",
       "    }\n",
       "\n",
       "    .dataframe thead th {\n",
       "        text-align: right;\n",
       "    }\n",
       "</style>\n",
       "<table border=\"1\" class=\"dataframe\">\n",
       "  <thead>\n",
       "    <tr style=\"text-align: right;\">\n",
       "      <th></th>\n",
       "      <th>gender</th>\n",
       "      <th>age</th>\n",
       "      <th>hypertension</th>\n",
       "      <th>heart_disease</th>\n",
       "      <th>smoking_history</th>\n",
       "      <th>bmi</th>\n",
       "      <th>HbA1c_level</th>\n",
       "      <th>blood_glucose_level</th>\n",
       "      <th>diabetes</th>\n",
       "    </tr>\n",
       "  </thead>\n",
       "  <tbody>\n",
       "    <tr>\n",
       "      <th>90323</th>\n",
       "      <td>Male</td>\n",
       "      <td>8.0</td>\n",
       "      <td>0</td>\n",
       "      <td>0</td>\n",
       "      <td>No Info</td>\n",
       "      <td>15.01</td>\n",
       "      <td>6.2</td>\n",
       "      <td>145</td>\n",
       "      <td>0</td>\n",
       "    </tr>\n",
       "    <tr>\n",
       "      <th>61054</th>\n",
       "      <td>Female</td>\n",
       "      <td>25.0</td>\n",
       "      <td>0</td>\n",
       "      <td>0</td>\n",
       "      <td>ever</td>\n",
       "      <td>27.32</td>\n",
       "      <td>4.0</td>\n",
       "      <td>140</td>\n",
       "      <td>0</td>\n",
       "    </tr>\n",
       "    <tr>\n",
       "      <th>4602</th>\n",
       "      <td>Female</td>\n",
       "      <td>32.0</td>\n",
       "      <td>0</td>\n",
       "      <td>0</td>\n",
       "      <td>No Info</td>\n",
       "      <td>27.32</td>\n",
       "      <td>5.8</td>\n",
       "      <td>158</td>\n",
       "      <td>0</td>\n",
       "    </tr>\n",
       "    <tr>\n",
       "      <th>39124</th>\n",
       "      <td>Female</td>\n",
       "      <td>39.0</td>\n",
       "      <td>0</td>\n",
       "      <td>0</td>\n",
       "      <td>No Info</td>\n",
       "      <td>30.68</td>\n",
       "      <td>6.6</td>\n",
       "      <td>126</td>\n",
       "      <td>0</td>\n",
       "    </tr>\n",
       "  </tbody>\n",
       "</table>\n",
       "</div>"
      ],
      "text/plain": [
       "       gender   age  hypertension  heart_disease smoking_history    bmi  \\\n",
       "90323    Male   8.0             0              0         No Info  15.01   \n",
       "61054  Female  25.0             0              0            ever  27.32   \n",
       "4602   Female  32.0             0              0         No Info  27.32   \n",
       "39124  Female  39.0             0              0         No Info  30.68   \n",
       "\n",
       "       HbA1c_level  blood_glucose_level  diabetes  \n",
       "90323          6.2                  145         0  \n",
       "61054          4.0                  140         0  \n",
       "4602           5.8                  158         0  \n",
       "39124          6.6                  126         0  "
      ]
     },
     "execution_count": 66,
     "metadata": {},
     "output_type": "execute_result"
    }
   ],
   "source": [
    "new_df.sample(4)"
   ]
  },
  {
   "cell_type": "code",
   "execution_count": 67,
   "id": "dd93ae66",
   "metadata": {
    "execution": {
     "iopub.execute_input": "2023-05-31T05:04:53.302006Z",
     "iopub.status.busy": "2023-05-31T05:04:53.300871Z",
     "iopub.status.idle": "2023-05-31T05:04:53.317719Z",
     "shell.execute_reply": "2023-05-31T05:04:53.316709Z"
    },
    "papermill": {
     "duration": 0.06338,
     "end_time": "2023-05-31T05:04:53.320351",
     "exception": false,
     "start_time": "2023-05-31T05:04:53.256971",
     "status": "completed"
    },
    "tags": []
   },
   "outputs": [
    {
     "data": {
      "text/plain": [
       "array([0])"
      ]
     },
     "execution_count": 67,
     "metadata": {},
     "output_type": "execute_result"
    }
   ],
   "source": [
    "pipe_xgb.predict(pd.DataFrame([['Male',80.00,0,0,'never',25.45,5.8,145]],columns=['gender','age','hypertension','heart_disease','smoking_history','bmi','HbA1c_level','blood_glucose_level']))"
   ]
  },
  {
   "cell_type": "code",
   "execution_count": 68,
   "id": "baebae91",
   "metadata": {
    "execution": {
     "iopub.execute_input": "2023-05-31T05:04:53.404158Z",
     "iopub.status.busy": "2023-05-31T05:04:53.403726Z",
     "iopub.status.idle": "2023-05-31T05:04:53.423909Z",
     "shell.execute_reply": "2023-05-31T05:04:53.422880Z"
    },
    "papermill": {
     "duration": 0.064412,
     "end_time": "2023-05-31T05:04:53.426536",
     "exception": false,
     "start_time": "2023-05-31T05:04:53.362124",
     "status": "completed"
    },
    "tags": []
   },
   "outputs": [
    {
     "data": {
      "text/plain": [
       "array([0])"
      ]
     },
     "execution_count": 68,
     "metadata": {},
     "output_type": "execute_result"
    }
   ],
   "source": [
    "pipe_xgb.predict(pd.DataFrame([['Male',9.0,0,0,'No Info',22.88,6.6,200]],columns=['gender','age','hypertension','heart_disease','smoking_history','bmi','HbA1c_level','blood_glucose_level']))"
   ]
  },
  {
   "cell_type": "code",
   "execution_count": 69,
   "id": "73439134",
   "metadata": {
    "execution": {
     "iopub.execute_input": "2023-05-31T05:04:53.511801Z",
     "iopub.status.busy": "2023-05-31T05:04:53.510710Z",
     "iopub.status.idle": "2023-05-31T05:04:53.535882Z",
     "shell.execute_reply": "2023-05-31T05:04:53.528444Z"
    },
    "papermill": {
     "duration": 0.072976,
     "end_time": "2023-05-31T05:04:53.540803",
     "exception": false,
     "start_time": "2023-05-31T05:04:53.467827",
     "status": "completed"
    },
    "tags": []
   },
   "outputs": [
    {
     "data": {
      "text/plain": [
       "array([1])"
      ]
     },
     "execution_count": 69,
     "metadata": {},
     "output_type": "execute_result"
    }
   ],
   "source": [
    "pipe_xgb.predict(pd.DataFrame([['Female',67.0,0,0,'never',47.231117,8.8,155]],columns=['gender','age','hypertension','heart_disease','smoking_history','bmi','HbA1c_level','blood_glucose_level']))"
   ]
  },
  {
   "cell_type": "code",
   "execution_count": 70,
   "id": "39b21c89",
   "metadata": {
    "execution": {
     "iopub.execute_input": "2023-05-31T05:04:53.624365Z",
     "iopub.status.busy": "2023-05-31T05:04:53.623280Z",
     "iopub.status.idle": "2023-05-31T05:04:53.641191Z",
     "shell.execute_reply": "2023-05-31T05:04:53.639939Z"
    },
    "papermill": {
     "duration": 0.063215,
     "end_time": "2023-05-31T05:04:53.644608",
     "exception": false,
     "start_time": "2023-05-31T05:04:53.581393",
     "status": "completed"
    },
    "tags": []
   },
   "outputs": [
    {
     "data": {
      "text/plain": [
       "array([1])"
      ]
     },
     "execution_count": 70,
     "metadata": {},
     "output_type": "execute_result"
    }
   ],
   "source": [
    "pipe_xgb.predict(pd.DataFrame([['Male',63.0,1,0,'never',30.52,7.5,240]],columns=['gender','age','hypertension','heart_disease','smoking_history','bmi','HbA1c_level','blood_glucose_level']))"
   ]
  },
  {
   "cell_type": "code",
   "execution_count": 71,
   "id": "cc96870d",
   "metadata": {
    "execution": {
     "iopub.execute_input": "2023-05-31T05:04:53.728213Z",
     "iopub.status.busy": "2023-05-31T05:04:53.727836Z",
     "iopub.status.idle": "2023-05-31T05:04:53.733077Z",
     "shell.execute_reply": "2023-05-31T05:04:53.731847Z"
    },
    "papermill": {
     "duration": 0.049603,
     "end_time": "2023-05-31T05:04:53.735628",
     "exception": false,
     "start_time": "2023-05-31T05:04:53.686025",
     "status": "completed"
    },
    "tags": []
   },
   "outputs": [],
   "source": [
    "gdrc=GradientBoostingClassifier(learning_rate=0.05)\n",
    "adab=AdaBoostClassifier(learning_rate=0.2)"
   ]
  },
  {
   "cell_type": "code",
   "execution_count": 72,
   "id": "1fa8cadf",
   "metadata": {
    "execution": {
     "iopub.execute_input": "2023-05-31T05:04:53.819667Z",
     "iopub.status.busy": "2023-05-31T05:04:53.819219Z",
     "iopub.status.idle": "2023-05-31T05:04:53.825197Z",
     "shell.execute_reply": "2023-05-31T05:04:53.823983Z"
    },
    "papermill": {
     "duration": 0.050662,
     "end_time": "2023-05-31T05:04:53.827536",
     "exception": false,
     "start_time": "2023-05-31T05:04:53.776874",
     "status": "completed"
    },
    "tags": []
   },
   "outputs": [],
   "source": [
    "pipe_gdrc=Pipeline([\n",
    "    ('tf1',tf1),\n",
    "    ('tf2',tf2),\n",
    "    ('gdrc',gdrc),\n",
    "])"
   ]
  },
  {
   "cell_type": "code",
   "execution_count": 73,
   "id": "a333884f",
   "metadata": {
    "execution": {
     "iopub.execute_input": "2023-05-31T05:04:53.911214Z",
     "iopub.status.busy": "2023-05-31T05:04:53.910787Z",
     "iopub.status.idle": "2023-05-31T05:05:02.006985Z",
     "shell.execute_reply": "2023-05-31T05:05:02.005802Z"
    },
    "papermill": {
     "duration": 8.141762,
     "end_time": "2023-05-31T05:05:02.009966",
     "exception": false,
     "start_time": "2023-05-31T05:04:53.868204",
     "status": "completed"
    },
    "tags": []
   },
   "outputs": [
    {
     "data": {
      "text/html": [
       "<style>#sk-container-id-5 {color: black;background-color: white;}#sk-container-id-5 pre{padding: 0;}#sk-container-id-5 div.sk-toggleable {background-color: white;}#sk-container-id-5 label.sk-toggleable__label {cursor: pointer;display: block;width: 100%;margin-bottom: 0;padding: 0.3em;box-sizing: border-box;text-align: center;}#sk-container-id-5 label.sk-toggleable__label-arrow:before {content: \"▸\";float: left;margin-right: 0.25em;color: #696969;}#sk-container-id-5 label.sk-toggleable__label-arrow:hover:before {color: black;}#sk-container-id-5 div.sk-estimator:hover label.sk-toggleable__label-arrow:before {color: black;}#sk-container-id-5 div.sk-toggleable__content {max-height: 0;max-width: 0;overflow: hidden;text-align: left;background-color: #f0f8ff;}#sk-container-id-5 div.sk-toggleable__content pre {margin: 0.2em;color: black;border-radius: 0.25em;background-color: #f0f8ff;}#sk-container-id-5 input.sk-toggleable__control:checked~div.sk-toggleable__content {max-height: 200px;max-width: 100%;overflow: auto;}#sk-container-id-5 input.sk-toggleable__control:checked~label.sk-toggleable__label-arrow:before {content: \"▾\";}#sk-container-id-5 div.sk-estimator input.sk-toggleable__control:checked~label.sk-toggleable__label {background-color: #d4ebff;}#sk-container-id-5 div.sk-label input.sk-toggleable__control:checked~label.sk-toggleable__label {background-color: #d4ebff;}#sk-container-id-5 input.sk-hidden--visually {border: 0;clip: rect(1px 1px 1px 1px);clip: rect(1px, 1px, 1px, 1px);height: 1px;margin: -1px;overflow: hidden;padding: 0;position: absolute;width: 1px;}#sk-container-id-5 div.sk-estimator {font-family: monospace;background-color: #f0f8ff;border: 1px dotted black;border-radius: 0.25em;box-sizing: border-box;margin-bottom: 0.5em;}#sk-container-id-5 div.sk-estimator:hover {background-color: #d4ebff;}#sk-container-id-5 div.sk-parallel-item::after {content: \"\";width: 100%;border-bottom: 1px solid gray;flex-grow: 1;}#sk-container-id-5 div.sk-label:hover label.sk-toggleable__label {background-color: #d4ebff;}#sk-container-id-5 div.sk-serial::before {content: \"\";position: absolute;border-left: 1px solid gray;box-sizing: border-box;top: 0;bottom: 0;left: 50%;z-index: 0;}#sk-container-id-5 div.sk-serial {display: flex;flex-direction: column;align-items: center;background-color: white;padding-right: 0.2em;padding-left: 0.2em;position: relative;}#sk-container-id-5 div.sk-item {position: relative;z-index: 1;}#sk-container-id-5 div.sk-parallel {display: flex;align-items: stretch;justify-content: center;background-color: white;position: relative;}#sk-container-id-5 div.sk-item::before, #sk-container-id-5 div.sk-parallel-item::before {content: \"\";position: absolute;border-left: 1px solid gray;box-sizing: border-box;top: 0;bottom: 0;left: 50%;z-index: -1;}#sk-container-id-5 div.sk-parallel-item {display: flex;flex-direction: column;z-index: 1;position: relative;background-color: white;}#sk-container-id-5 div.sk-parallel-item:first-child::after {align-self: flex-end;width: 50%;}#sk-container-id-5 div.sk-parallel-item:last-child::after {align-self: flex-start;width: 50%;}#sk-container-id-5 div.sk-parallel-item:only-child::after {width: 0;}#sk-container-id-5 div.sk-dashed-wrapped {border: 1px dashed gray;margin: 0 0.4em 0.5em 0.4em;box-sizing: border-box;padding-bottom: 0.4em;background-color: white;}#sk-container-id-5 div.sk-label label {font-family: monospace;font-weight: bold;display: inline-block;line-height: 1.2em;}#sk-container-id-5 div.sk-label-container {text-align: center;}#sk-container-id-5 div.sk-container {/* jupyter's `normalize.less` sets `[hidden] { display: none; }` but bootstrap.min.css set `[hidden] { display: none !important; }` so we also need the `!important` here to be able to override the default hidden behavior on the sphinx rendered scikit-learn.org. See: https://github.com/scikit-learn/scikit-learn/issues/21755 */display: inline-block !important;position: relative;}#sk-container-id-5 div.sk-text-repr-fallback {display: none;}</style><div id=\"sk-container-id-5\" class=\"sk-top-container\"><div class=\"sk-text-repr-fallback\"><pre>Pipeline(steps=[(&#x27;tf1&#x27;,\n",
       "                 ColumnTransformer(remainder=&#x27;passthrough&#x27;,\n",
       "                                   transformers=[(&#x27;onh&#x27;, OneHotEncoder(),\n",
       "                                                  [0, 4])])),\n",
       "                (&#x27;tf2&#x27;,\n",
       "                 ColumnTransformer(remainder=&#x27;passthrough&#x27;,\n",
       "                                   transformers=[(&#x27;stscaler&#x27;, StandardScaler(),\n",
       "                                                  slice(0, 20, None))])),\n",
       "                (&#x27;gdrc&#x27;, GradientBoostingClassifier(learning_rate=0.05))])</pre><b>In a Jupyter environment, please rerun this cell to show the HTML representation or trust the notebook. <br />On GitHub, the HTML representation is unable to render, please try loading this page with nbviewer.org.</b></div><div class=\"sk-container\" hidden><div class=\"sk-item sk-dashed-wrapped\"><div class=\"sk-label-container\"><div class=\"sk-label sk-toggleable\"><input class=\"sk-toggleable__control sk-hidden--visually\" id=\"sk-estimator-id-39\" type=\"checkbox\" ><label for=\"sk-estimator-id-39\" class=\"sk-toggleable__label sk-toggleable__label-arrow\">Pipeline</label><div class=\"sk-toggleable__content\"><pre>Pipeline(steps=[(&#x27;tf1&#x27;,\n",
       "                 ColumnTransformer(remainder=&#x27;passthrough&#x27;,\n",
       "                                   transformers=[(&#x27;onh&#x27;, OneHotEncoder(),\n",
       "                                                  [0, 4])])),\n",
       "                (&#x27;tf2&#x27;,\n",
       "                 ColumnTransformer(remainder=&#x27;passthrough&#x27;,\n",
       "                                   transformers=[(&#x27;stscaler&#x27;, StandardScaler(),\n",
       "                                                  slice(0, 20, None))])),\n",
       "                (&#x27;gdrc&#x27;, GradientBoostingClassifier(learning_rate=0.05))])</pre></div></div></div><div class=\"sk-serial\"><div class=\"sk-item sk-dashed-wrapped\"><div class=\"sk-label-container\"><div class=\"sk-label sk-toggleable\"><input class=\"sk-toggleable__control sk-hidden--visually\" id=\"sk-estimator-id-40\" type=\"checkbox\" ><label for=\"sk-estimator-id-40\" class=\"sk-toggleable__label sk-toggleable__label-arrow\">tf1: ColumnTransformer</label><div class=\"sk-toggleable__content\"><pre>ColumnTransformer(remainder=&#x27;passthrough&#x27;,\n",
       "                  transformers=[(&#x27;onh&#x27;, OneHotEncoder(), [0, 4])])</pre></div></div></div><div class=\"sk-parallel\"><div class=\"sk-parallel-item\"><div class=\"sk-item\"><div class=\"sk-label-container\"><div class=\"sk-label sk-toggleable\"><input class=\"sk-toggleable__control sk-hidden--visually\" id=\"sk-estimator-id-41\" type=\"checkbox\" ><label for=\"sk-estimator-id-41\" class=\"sk-toggleable__label sk-toggleable__label-arrow\">onh</label><div class=\"sk-toggleable__content\"><pre>[0, 4]</pre></div></div></div><div class=\"sk-serial\"><div class=\"sk-item\"><div class=\"sk-estimator sk-toggleable\"><input class=\"sk-toggleable__control sk-hidden--visually\" id=\"sk-estimator-id-42\" type=\"checkbox\" ><label for=\"sk-estimator-id-42\" class=\"sk-toggleable__label sk-toggleable__label-arrow\">OneHotEncoder</label><div class=\"sk-toggleable__content\"><pre>OneHotEncoder()</pre></div></div></div></div></div></div><div class=\"sk-parallel-item\"><div class=\"sk-item\"><div class=\"sk-label-container\"><div class=\"sk-label sk-toggleable\"><input class=\"sk-toggleable__control sk-hidden--visually\" id=\"sk-estimator-id-43\" type=\"checkbox\" ><label for=\"sk-estimator-id-43\" class=\"sk-toggleable__label sk-toggleable__label-arrow\">remainder</label><div class=\"sk-toggleable__content\"><pre>[&#x27;age&#x27;, &#x27;hypertension&#x27;, &#x27;heart_disease&#x27;, &#x27;bmi&#x27;, &#x27;HbA1c_level&#x27;, &#x27;blood_glucose_level&#x27;]</pre></div></div></div><div class=\"sk-serial\"><div class=\"sk-item\"><div class=\"sk-estimator sk-toggleable\"><input class=\"sk-toggleable__control sk-hidden--visually\" id=\"sk-estimator-id-44\" type=\"checkbox\" ><label for=\"sk-estimator-id-44\" class=\"sk-toggleable__label sk-toggleable__label-arrow\">passthrough</label><div class=\"sk-toggleable__content\"><pre>passthrough</pre></div></div></div></div></div></div></div></div><div class=\"sk-item sk-dashed-wrapped\"><div class=\"sk-label-container\"><div class=\"sk-label sk-toggleable\"><input class=\"sk-toggleable__control sk-hidden--visually\" id=\"sk-estimator-id-45\" type=\"checkbox\" ><label for=\"sk-estimator-id-45\" class=\"sk-toggleable__label sk-toggleable__label-arrow\">tf2: ColumnTransformer</label><div class=\"sk-toggleable__content\"><pre>ColumnTransformer(remainder=&#x27;passthrough&#x27;,\n",
       "                  transformers=[(&#x27;stscaler&#x27;, StandardScaler(),\n",
       "                                 slice(0, 20, None))])</pre></div></div></div><div class=\"sk-parallel\"><div class=\"sk-parallel-item\"><div class=\"sk-item\"><div class=\"sk-label-container\"><div class=\"sk-label sk-toggleable\"><input class=\"sk-toggleable__control sk-hidden--visually\" id=\"sk-estimator-id-46\" type=\"checkbox\" ><label for=\"sk-estimator-id-46\" class=\"sk-toggleable__label sk-toggleable__label-arrow\">stscaler</label><div class=\"sk-toggleable__content\"><pre>slice(0, 20, None)</pre></div></div></div><div class=\"sk-serial\"><div class=\"sk-item\"><div class=\"sk-estimator sk-toggleable\"><input class=\"sk-toggleable__control sk-hidden--visually\" id=\"sk-estimator-id-47\" type=\"checkbox\" ><label for=\"sk-estimator-id-47\" class=\"sk-toggleable__label sk-toggleable__label-arrow\">StandardScaler</label><div class=\"sk-toggleable__content\"><pre>StandardScaler()</pre></div></div></div></div></div></div><div class=\"sk-parallel-item\"><div class=\"sk-item\"><div class=\"sk-label-container\"><div class=\"sk-label sk-toggleable\"><input class=\"sk-toggleable__control sk-hidden--visually\" id=\"sk-estimator-id-48\" type=\"checkbox\" ><label for=\"sk-estimator-id-48\" class=\"sk-toggleable__label sk-toggleable__label-arrow\">remainder</label><div class=\"sk-toggleable__content\"><pre>[]</pre></div></div></div><div class=\"sk-serial\"><div class=\"sk-item\"><div class=\"sk-estimator sk-toggleable\"><input class=\"sk-toggleable__control sk-hidden--visually\" id=\"sk-estimator-id-49\" type=\"checkbox\" ><label for=\"sk-estimator-id-49\" class=\"sk-toggleable__label sk-toggleable__label-arrow\">passthrough</label><div class=\"sk-toggleable__content\"><pre>passthrough</pre></div></div></div></div></div></div></div></div><div class=\"sk-item\"><div class=\"sk-estimator sk-toggleable\"><input class=\"sk-toggleable__control sk-hidden--visually\" id=\"sk-estimator-id-50\" type=\"checkbox\" ><label for=\"sk-estimator-id-50\" class=\"sk-toggleable__label sk-toggleable__label-arrow\">GradientBoostingClassifier</label><div class=\"sk-toggleable__content\"><pre>GradientBoostingClassifier(learning_rate=0.05)</pre></div></div></div></div></div></div></div>"
      ],
      "text/plain": [
       "Pipeline(steps=[('tf1',\n",
       "                 ColumnTransformer(remainder='passthrough',\n",
       "                                   transformers=[('onh', OneHotEncoder(),\n",
       "                                                  [0, 4])])),\n",
       "                ('tf2',\n",
       "                 ColumnTransformer(remainder='passthrough',\n",
       "                                   transformers=[('stscaler', StandardScaler(),\n",
       "                                                  slice(0, 20, None))])),\n",
       "                ('gdrc', GradientBoostingClassifier(learning_rate=0.05))])"
      ]
     },
     "execution_count": 73,
     "metadata": {},
     "output_type": "execute_result"
    }
   ],
   "source": [
    "pipe_gdrc.fit(X_train,y_train)"
   ]
  },
  {
   "cell_type": "code",
   "execution_count": 74,
   "id": "c381ca21",
   "metadata": {
    "execution": {
     "iopub.execute_input": "2023-05-31T05:05:02.095981Z",
     "iopub.status.busy": "2023-05-31T05:05:02.095470Z",
     "iopub.status.idle": "2023-05-31T05:05:02.183306Z",
     "shell.execute_reply": "2023-05-31T05:05:02.181996Z"
    },
    "papermill": {
     "duration": 0.133456,
     "end_time": "2023-05-31T05:05:02.186328",
     "exception": false,
     "start_time": "2023-05-31T05:05:02.052872",
     "status": "completed"
    },
    "tags": []
   },
   "outputs": [],
   "source": [
    "y_pred_gdrc=pipe_gdrc.predict(X_test)"
   ]
  },
  {
   "cell_type": "code",
   "execution_count": 75,
   "id": "fcbd6c37",
   "metadata": {
    "execution": {
     "iopub.execute_input": "2023-05-31T05:05:02.270372Z",
     "iopub.status.busy": "2023-05-31T05:05:02.269659Z",
     "iopub.status.idle": "2023-05-31T05:05:02.277720Z",
     "shell.execute_reply": "2023-05-31T05:05:02.276481Z"
    },
    "papermill": {
     "duration": 0.053344,
     "end_time": "2023-05-31T05:05:02.280576",
     "exception": false,
     "start_time": "2023-05-31T05:05:02.227232",
     "status": "completed"
    },
    "tags": []
   },
   "outputs": [],
   "source": [
    "gdrc_score=accuracy_score(y_test,y_pred_gdrc)"
   ]
  },
  {
   "cell_type": "code",
   "execution_count": 76,
   "id": "84edbd49",
   "metadata": {
    "execution": {
     "iopub.execute_input": "2023-05-31T05:05:02.366116Z",
     "iopub.status.busy": "2023-05-31T05:05:02.364606Z",
     "iopub.status.idle": "2023-05-31T05:05:02.375459Z",
     "shell.execute_reply": "2023-05-31T05:05:02.374225Z"
    },
    "papermill": {
     "duration": 0.05587,
     "end_time": "2023-05-31T05:05:02.378357",
     "exception": false,
     "start_time": "2023-05-31T05:05:02.322487",
     "status": "completed"
    },
    "tags": []
   },
   "outputs": [],
   "source": [
    "cm=confusion_matrix(y_test,y_pred_gdrc)"
   ]
  },
  {
   "cell_type": "code",
   "execution_count": 77,
   "id": "3a5e02aa",
   "metadata": {
    "execution": {
     "iopub.execute_input": "2023-05-31T05:05:02.462060Z",
     "iopub.status.busy": "2023-05-31T05:05:02.461591Z",
     "iopub.status.idle": "2023-05-31T05:05:02.764511Z",
     "shell.execute_reply": "2023-05-31T05:05:02.763255Z"
    },
    "papermill": {
     "duration": 0.348114,
     "end_time": "2023-05-31T05:05:02.767323",
     "exception": false,
     "start_time": "2023-05-31T05:05:02.419209",
     "status": "completed"
    },
    "tags": []
   },
   "outputs": [
    {
     "data": {
      "text/plain": [
       "<sklearn.metrics._plot.confusion_matrix.ConfusionMatrixDisplay at 0x7c7010249db0>"
      ]
     },
     "execution_count": 77,
     "metadata": {},
     "output_type": "execute_result"
    },
    {
     "data": {
      "image/png": "[encoded data removed]",
      "text/plain": [
       "<Figure size 640x480 with 2 Axes>"
      ]
     },
     "metadata": {},
     "output_type": "display_data"
    }
   ],
   "source": [
    "ConfusionMatrixDisplay(cm).plot()"
   ]
  },
  {
   "cell_type": "code",
   "execution_count": 78,
   "id": "bb615447",
   "metadata": {
    "execution": {
     "iopub.execute_input": "2023-05-31T05:05:02.854618Z",
     "iopub.status.busy": "2023-05-31T05:05:02.853837Z",
     "iopub.status.idle": "2023-05-31T05:05:02.859259Z",
     "shell.execute_reply": "2023-05-31T05:05:02.858351Z"
    },
    "papermill": {
     "duration": 0.051795,
     "end_time": "2023-05-31T05:05:02.861656",
     "exception": false,
     "start_time": "2023-05-31T05:05:02.809861",
     "status": "completed"
    },
    "tags": []
   },
   "outputs": [],
   "source": [
    "pipe_ada=Pipeline([\n",
    "    ('tf1',tf1),\n",
    "    ('tf2',tf2),\n",
    "    ('adagc',adab),\n",
    "])"
   ]
  },
  {
   "cell_type": "code",
   "execution_count": 79,
   "id": "43eb7e34",
   "metadata": {
    "execution": {
     "iopub.execute_input": "2023-05-31T05:05:02.949044Z",
     "iopub.status.busy": "2023-05-31T05:05:02.948495Z",
     "iopub.status.idle": "2023-05-31T05:05:05.761152Z",
     "shell.execute_reply": "2023-05-31T05:05:05.759968Z"
    },
    "papermill": {
     "duration": 2.858778,
     "end_time": "2023-05-31T05:05:05.763608",
     "exception": false,
     "start_time": "2023-05-31T05:05:02.904830",
     "status": "completed"
    },
    "tags": []
   },
   "outputs": [
    {
     "data": {
      "text/html": [
       "<style>#sk-container-id-6 {color: black;background-color: white;}#sk-container-id-6 pre{padding: 0;}#sk-container-id-6 div.sk-toggleable {background-color: white;}#sk-container-id-6 label.sk-toggleable__label {cursor: pointer;display: block;width: 100%;margin-bottom: 0;padding: 0.3em;box-sizing: border-box;text-align: center;}#sk-container-id-6 label.sk-toggleable__label-arrow:before {content: \"▸\";float: left;margin-right: 0.25em;color: #696969;}#sk-container-id-6 label.sk-toggleable__label-arrow:hover:before {color: black;}#sk-container-id-6 div.sk-estimator:hover label.sk-toggleable__label-arrow:before {color: black;}#sk-container-id-6 div.sk-toggleable__content {max-height: 0;max-width: 0;overflow: hidden;text-align: left;background-color: #f0f8ff;}#sk-container-id-6 div.sk-toggleable__content pre {margin: 0.2em;color: black;border-radius: 0.25em;background-color: #f0f8ff;}#sk-container-id-6 input.sk-toggleable__control:checked~div.sk-toggleable__content {max-height: 200px;max-width: 100%;overflow: auto;}#sk-container-id-6 input.sk-toggleable__control:checked~label.sk-toggleable__label-arrow:before {content: \"▾\";}#sk-container-id-6 div.sk-estimator input.sk-toggleable__control:checked~label.sk-toggleable__label {background-color: #d4ebff;}#sk-container-id-6 div.sk-label input.sk-toggleable__control:checked~label.sk-toggleable__label {background-color: #d4ebff;}#sk-container-id-6 input.sk-hidden--visually {border: 0;clip: rect(1px 1px 1px 1px);clip: rect(1px, 1px, 1px, 1px);height: 1px;margin: -1px;overflow: hidden;padding: 0;position: absolute;width: 1px;}#sk-container-id-6 div.sk-estimator {font-family: monospace;background-color: #f0f8ff;border: 1px dotted black;border-radius: 0.25em;box-sizing: border-box;margin-bottom: 0.5em;}#sk-container-id-6 div.sk-estimator:hover {background-color: #d4ebff;}#sk-container-id-6 div.sk-parallel-item::after {content: \"\";width: 100%;border-bottom: 1px solid gray;flex-grow: 1;}#sk-container-id-6 div.sk-label:hover label.sk-toggleable__label {background-color: #d4ebff;}#sk-container-id-6 div.sk-serial::before {content: \"\";position: absolute;border-left: 1px solid gray;box-sizing: border-box;top: 0;bottom: 0;left: 50%;z-index: 0;}#sk-container-id-6 div.sk-serial {display: flex;flex-direction: column;align-items: center;background-color: white;padding-right: 0.2em;padding-left: 0.2em;position: relative;}#sk-container-id-6 div.sk-item {position: relative;z-index: 1;}#sk-container-id-6 div.sk-parallel {display: flex;align-items: stretch;justify-content: center;background-color: white;position: relative;}#sk-container-id-6 div.sk-item::before, #sk-container-id-6 div.sk-parallel-item::before {content: \"\";position: absolute;border-left: 1px solid gray;box-sizing: border-box;top: 0;bottom: 0;left: 50%;z-index: -1;}#sk-container-id-6 div.sk-parallel-item {display: flex;flex-direction: column;z-index: 1;position: relative;background-color: white;}#sk-container-id-6 div.sk-parallel-item:first-child::after {align-self: flex-end;width: 50%;}#sk-container-id-6 div.sk-parallel-item:last-child::after {align-self: flex-start;width: 50%;}#sk-container-id-6 div.sk-parallel-item:only-child::after {width: 0;}#sk-container-id-6 div.sk-dashed-wrapped {border: 1px dashed gray;margin: 0 0.4em 0.5em 0.4em;box-sizing: border-box;padding-bottom: 0.4em;background-color: white;}#sk-container-id-6 div.sk-label label {font-family: monospace;font-weight: bold;display: inline-block;line-height: 1.2em;}#sk-container-id-6 div.sk-label-container {text-align: center;}#sk-container-id-6 div.sk-container {/* jupyter's `normalize.less` sets `[hidden] { display: none; }` but bootstrap.min.css set `[hidden] { display: none !important; }` so we also need the `!important` here to be able to override the default hidden behavior on the sphinx rendered scikit-learn.org. See: https://github.com/scikit-learn/scikit-learn/issues/21755 */display: inline-block !important;position: relative;}#sk-container-id-6 div.sk-text-repr-fallback {display: none;}</style><div id=\"sk-container-id-6\" class=\"sk-top-container\"><div class=\"sk-text-repr-fallback\"><pre>Pipeline(steps=[(&#x27;tf1&#x27;,\n",
       "                 ColumnTransformer(remainder=&#x27;passthrough&#x27;,\n",
       "                                   transformers=[(&#x27;onh&#x27;, OneHotEncoder(),\n",
       "                                                  [0, 4])])),\n",
       "                (&#x27;tf2&#x27;,\n",
       "                 ColumnTransformer(remainder=&#x27;passthrough&#x27;,\n",
       "                                   transformers=[(&#x27;stscaler&#x27;, StandardScaler(),\n",
       "                                                  slice(0, 20, None))])),\n",
       "                (&#x27;adagc&#x27;, AdaBoostClassifier(learning_rate=0.2))])</pre><b>In a Jupyter environment, please rerun this cell to show the HTML representation or trust the notebook. <br />On GitHub, the HTML representation is unable to render, please try loading this page with nbviewer.org.</b></div><div class=\"sk-container\" hidden><div class=\"sk-item sk-dashed-wrapped\"><div class=\"sk-label-container\"><div class=\"sk-label sk-toggleable\"><input class=\"sk-toggleable__control sk-hidden--visually\" id=\"sk-estimator-id-51\" type=\"checkbox\" ><label for=\"sk-estimator-id-51\" class=\"sk-toggleable__label sk-toggleable__label-arrow\">Pipeline</label><div class=\"sk-toggleable__content\"><pre>Pipeline(steps=[(&#x27;tf1&#x27;,\n",
       "                 ColumnTransformer(remainder=&#x27;passthrough&#x27;,\n",
       "                                   transformers=[(&#x27;onh&#x27;, OneHotEncoder(),\n",
       "                                                  [0, 4])])),\n",
       "                (&#x27;tf2&#x27;,\n",
       "                 ColumnTransformer(remainder=&#x27;passthrough&#x27;,\n",
       "                                   transformers=[(&#x27;stscaler&#x27;, StandardScaler(),\n",
       "                                                  slice(0, 20, None))])),\n",
       "                (&#x27;adagc&#x27;, AdaBoostClassifier(learning_rate=0.2))])</pre></div></div></div><div class=\"sk-serial\"><div class=\"sk-item sk-dashed-wrapped\"><div class=\"sk-label-container\"><div class=\"sk-label sk-toggleable\"><input class=\"sk-toggleable__control sk-hidden--visually\" id=\"sk-estimator-id-52\" type=\"checkbox\" ><label for=\"sk-estimator-id-52\" class=\"sk-toggleable__label sk-toggleable__label-arrow\">tf1: ColumnTransformer</label><div class=\"sk-toggleable__content\"><pre>ColumnTransformer(remainder=&#x27;passthrough&#x27;,\n",
       "                  transformers=[(&#x27;onh&#x27;, OneHotEncoder(), [0, 4])])</pre></div></div></div><div class=\"sk-parallel\"><div class=\"sk-parallel-item\"><div class=\"sk-item\"><div class=\"sk-label-container\"><div class=\"sk-label sk-toggleable\"><input class=\"sk-toggleable__control sk-hidden--visually\" id=\"sk-estimator-id-53\" type=\"checkbox\" ><label for=\"sk-estimator-id-53\" class=\"sk-toggleable__label sk-toggleable__label-arrow\">onh</label><div class=\"sk-toggleable__content\"><pre>[0, 4]</pre></div></div></div><div class=\"sk-serial\"><div class=\"sk-item\"><div class=\"sk-estimator sk-toggleable\"><input class=\"sk-toggleable__control sk-hidden--visually\" id=\"sk-estimator-id-54\" type=\"checkbox\" ><label for=\"sk-estimator-id-54\" class=\"sk-toggleable__label sk-toggleable__label-arrow\">OneHotEncoder</label><div class=\"sk-toggleable__content\"><pre>OneHotEncoder()</pre></div></div></div></div></div></div><div class=\"sk-parallel-item\"><div class=\"sk-item\"><div class=\"sk-label-container\"><div class=\"sk-label sk-toggleable\"><input class=\"sk-toggleable__control sk-hidden--visually\" id=\"sk-estimator-id-55\" type=\"checkbox\" ><label for=\"sk-estimator-id-55\" class=\"sk-toggleable__label sk-toggleable__label-arrow\">remainder</label><div class=\"sk-toggleable__content\"><pre>[&#x27;age&#x27;, &#x27;hypertension&#x27;, &#x27;heart_disease&#x27;, &#x27;bmi&#x27;, &#x27;HbA1c_level&#x27;, &#x27;blood_glucose_level&#x27;]</pre></div></div></div><div class=\"sk-serial\"><div class=\"sk-item\"><div class=\"sk-estimator sk-toggleable\"><input class=\"sk-toggleable__control sk-hidden--visually\" id=\"sk-estimator-id-56\" type=\"checkbox\" ><label for=\"sk-estimator-id-56\" class=\"sk-toggleable__label sk-toggleable__label-arrow\">passthrough</label><div class=\"sk-toggleable__content\"><pre>passthrough</pre></div></div></div></div></div></div></div></div><div class=\"sk-item sk-dashed-wrapped\"><div class=\"sk-label-container\"><div class=\"sk-label sk-toggleable\"><input class=\"sk-toggleable__control sk-hidden--visually\" id=\"sk-estimator-id-57\" type=\"checkbox\" ><label for=\"sk-estimator-id-57\" class=\"sk-toggleable__label sk-toggleable__label-arrow\">tf2: ColumnTransformer</label><div class=\"sk-toggleable__content\"><pre>ColumnTransformer(remainder=&#x27;passthrough&#x27;,\n",
       "                  transformers=[(&#x27;stscaler&#x27;, StandardScaler(),\n",
       "                                 slice(0, 20, None))])</pre></div></div></div><div class=\"sk-parallel\"><div class=\"sk-parallel-item\"><div class=\"sk-item\"><div class=\"sk-label-container\"><div class=\"sk-label sk-toggleable\"><input class=\"sk-toggleable__control sk-hidden--visually\" id=\"sk-estimator-id-58\" type=\"checkbox\" ><label for=\"sk-estimator-id-58\" class=\"sk-toggleable__label sk-toggleable__label-arrow\">stscaler</label><div class=\"sk-toggleable__content\"><pre>slice(0, 20, None)</pre></div></div></div><div class=\"sk-serial\"><div class=\"sk-item\"><div class=\"sk-estimator sk-toggleable\"><input class=\"sk-toggleable__control sk-hidden--visually\" id=\"sk-estimator-id-59\" type=\"checkbox\" ><label for=\"sk-estimator-id-59\" class=\"sk-toggleable__label sk-toggleable__label-arrow\">StandardScaler</label><div class=\"sk-toggleable__content\"><pre>StandardScaler()</pre></div></div></div></div></div></div><div class=\"sk-parallel-item\"><div class=\"sk-item\"><div class=\"sk-label-container\"><div class=\"sk-label sk-toggleable\"><input class=\"sk-toggleable__control sk-hidden--visually\" id=\"sk-estimator-id-60\" type=\"checkbox\" ><label for=\"sk-estimator-id-60\" class=\"sk-toggleable__label sk-toggleable__label-arrow\">remainder</label><div class=\"sk-toggleable__content\"><pre>[]</pre></div></div></div><div class=\"sk-serial\"><div class=\"sk-item\"><div class=\"sk-estimator sk-toggleable\"><input class=\"sk-toggleable__control sk-hidden--visually\" id=\"sk-estimator-id-61\" type=\"checkbox\" ><label for=\"sk-estimator-id-61\" class=\"sk-toggleable__label sk-toggleable__label-arrow\">passthrough</label><div class=\"sk-toggleable__content\"><pre>passthrough</pre></div></div></div></div></div></div></div></div><div class=\"sk-item\"><div class=\"sk-estimator sk-toggleable\"><input class=\"sk-toggleable__control sk-hidden--visually\" id=\"sk-estimator-id-62\" type=\"checkbox\" ><label for=\"sk-estimator-id-62\" class=\"sk-toggleable__label sk-toggleable__label-arrow\">AdaBoostClassifier</label><div class=\"sk-toggleable__content\"><pre>AdaBoostClassifier(learning_rate=0.2)</pre></div></div></div></div></div></div></div>"
      ],
      "text/plain": [
       "Pipeline(steps=[('tf1',\n",
       "                 ColumnTransformer(remainder='passthrough',\n",
       "                                   transformers=[('onh', OneHotEncoder(),\n",
       "                                                  [0, 4])])),\n",
       "                ('tf2',\n",
       "                 ColumnTransformer(remainder='passthrough',\n",
       "                                   transformers=[('stscaler', StandardScaler(),\n",
       "                                                  slice(0, 20, None))])),\n",
       "                ('adagc', AdaBoostClassifier(learning_rate=0.2))])"
      ]
     },
     "execution_count": 79,
     "metadata": {},
     "output_type": "execute_result"
    }
   ],
   "source": [
    "pipe_ada.fit(X_train,y_train)"
   ]
  },
  {
   "cell_type": "code",
   "execution_count": 80,
   "id": "f08df432",
   "metadata": {
    "execution": {
     "iopub.execute_input": "2023-05-31T05:05:05.851455Z",
     "iopub.status.busy": "2023-05-31T05:05:05.851037Z",
     "iopub.status.idle": "2023-05-31T05:05:06.100913Z",
     "shell.execute_reply": "2023-05-31T05:05:06.099836Z"
    },
    "papermill": {
     "duration": 0.295365,
     "end_time": "2023-05-31T05:05:06.103596",
     "exception": false,
     "start_time": "2023-05-31T05:05:05.808231",
     "status": "completed"
    },
    "tags": []
   },
   "outputs": [],
   "source": [
    "y_pred_ada=pipe_ada.predict(X_test)"
   ]
  },
  {
   "cell_type": "code",
   "execution_count": 81,
   "id": "a668d7ca",
   "metadata": {
    "execution": {
     "iopub.execute_input": "2023-05-31T05:05:06.190797Z",
     "iopub.status.busy": "2023-05-31T05:05:06.190391Z",
     "iopub.status.idle": "2023-05-31T05:05:06.198351Z",
     "shell.execute_reply": "2023-05-31T05:05:06.197111Z"
    },
    "papermill": {
     "duration": 0.054735,
     "end_time": "2023-05-31T05:05:06.201105",
     "exception": false,
     "start_time": "2023-05-31T05:05:06.146370",
     "status": "completed"
    },
    "tags": []
   },
   "outputs": [],
   "source": [
    "ada_score=accuracy_score(y_test,y_pred_ada)"
   ]
  },
  {
   "cell_type": "code",
   "execution_count": 82,
   "id": "3ed3d2c0",
   "metadata": {
    "execution": {
     "iopub.execute_input": "2023-05-31T05:05:06.289203Z",
     "iopub.status.busy": "2023-05-31T05:05:06.288798Z",
     "iopub.status.idle": "2023-05-31T05:05:06.299110Z",
     "shell.execute_reply": "2023-05-31T05:05:06.297860Z"
    },
    "papermill": {
     "duration": 0.057465,
     "end_time": "2023-05-31T05:05:06.301821",
     "exception": false,
     "start_time": "2023-05-31T05:05:06.244356",
     "status": "completed"
    },
    "tags": []
   },
   "outputs": [],
   "source": [
    "cm=confusion_matrix(y_test,y_pred_ada)"
   ]
  },
  {
   "cell_type": "code",
   "execution_count": 83,
   "id": "8269d002",
   "metadata": {
    "execution": {
     "iopub.execute_input": "2023-05-31T05:05:06.392029Z",
     "iopub.status.busy": "2023-05-31T05:05:06.391595Z",
     "iopub.status.idle": "2023-05-31T05:05:06.693191Z",
     "shell.execute_reply": "2023-05-31T05:05:06.691997Z"
    },
    "papermill": {
     "duration": 0.34957,
     "end_time": "2023-05-31T05:05:06.695724",
     "exception": false,
     "start_time": "2023-05-31T05:05:06.346154",
     "status": "completed"
    },
    "tags": []
   },
   "outputs": [
    {
     "data": {
      "text/plain": [
       "<sklearn.metrics._plot.confusion_matrix.ConfusionMatrixDisplay at 0x7c701012faf0>"
      ]
     },
     "execution_count": 83,
     "metadata": {},
     "output_type": "execute_result"
    },
    {
     "data": {
      "image/png": "[encoded data removed]",
      "text/plain": [
       "<Figure size 640x480 with 2 Axes>"
      ]
     },
     "metadata": {},
     "output_type": "display_data"
    }
   ],
   "source": [
    "ConfusionMatrixDisplay(cm).plot()"
   ]
  },
  {
   "cell_type": "code",
   "execution_count": 84,
   "id": "0c129dde",
   "metadata": {
    "execution": {
     "iopub.execute_input": "2023-05-31T05:05:06.785278Z",
     "iopub.status.busy": "2023-05-31T05:05:06.784571Z",
     "iopub.status.idle": "2023-05-31T05:05:06.806726Z",
     "shell.execute_reply": "2023-05-31T05:05:06.805525Z"
    },
    "papermill": {
     "duration": 0.069275,
     "end_time": "2023-05-31T05:05:06.809156",
     "exception": false,
     "start_time": "2023-05-31T05:05:06.739881",
     "status": "completed"
    },
    "tags": []
   },
   "outputs": [
    {
     "data": {
      "text/plain": [
       "array([0])"
      ]
     },
     "execution_count": 84,
     "metadata": {},
     "output_type": "execute_result"
    }
   ],
   "source": [
    "pipe_ada.predict(pd.DataFrame([['Male',80.00,0,0,'never',25.45,5.8,145]],columns=['gender','age','hypertension','heart_disease','smoking_history','bmi','HbA1c_level','blood_glucose_level']))"
   ]
  },
  {
   "cell_type": "code",
   "execution_count": 85,
   "id": "82a64f7d",
   "metadata": {
    "execution": {
     "iopub.execute_input": "2023-05-31T05:05:06.897562Z",
     "iopub.status.busy": "2023-05-31T05:05:06.897155Z",
     "iopub.status.idle": "2023-05-31T05:05:06.902557Z",
     "shell.execute_reply": "2023-05-31T05:05:06.901584Z"
    },
    "papermill": {
     "duration": 0.0528,
     "end_time": "2023-05-31T05:05:06.904856",
     "exception": false,
     "start_time": "2023-05-31T05:05:06.852056",
     "status": "completed"
    },
    "tags": []
   },
   "outputs": [],
   "source": [
    "d={\n",
    "    'Model Name':['Logistic Regression','Decision tree classifier','Randforest Classfier','XGBooting Classifier','AdaBoosting Classifier','Gradient Descent classifier'],\n",
    "    'Accuracy':[lgrs,dtcs,rfca,axgb,ada_score,gdrc_score]\n",
    "}"
   ]
  },
  {
   "cell_type": "code",
   "execution_count": 86,
   "id": "704be273",
   "metadata": {
    "execution": {
     "iopub.execute_input": "2023-05-31T05:05:06.994331Z",
     "iopub.status.busy": "2023-05-31T05:05:06.993313Z",
     "iopub.status.idle": "2023-05-31T05:05:07.004167Z",
     "shell.execute_reply": "2023-05-31T05:05:07.003042Z"
    },
    "papermill": {
     "duration": 0.057949,
     "end_time": "2023-05-31T05:05:07.006547",
     "exception": false,
     "start_time": "2023-05-31T05:05:06.948598",
     "status": "completed"
    },
    "tags": []
   },
   "outputs": [
    {
     "data": {
      "text/html": [
       "<div>\n",
       "<style scoped>\n",
       "    .dataframe tbody tr th:only-of-type {\n",
       "        vertical-align: middle;\n",
       "    }\n",
       "\n",
       "    .dataframe tbody tr th {\n",
       "        vertical-align: top;\n",
       "    }\n",
       "\n",
       "    .dataframe thead th {\n",
       "        text-align: right;\n",
       "    }\n",
       "</style>\n",
       "<table border=\"1\" class=\"dataframe\">\n",
       "  <thead>\n",
       "    <tr style=\"text-align: right;\">\n",
       "      <th></th>\n",
       "      <th>Model Name</th>\n",
       "      <th>Accuracy</th>\n",
       "    </tr>\n",
       "  </thead>\n",
       "  <tbody>\n",
       "    <tr>\n",
       "      <th>0</th>\n",
       "      <td>Logistic Regression</td>\n",
       "      <td>0.959500</td>\n",
       "    </tr>\n",
       "    <tr>\n",
       "      <th>1</th>\n",
       "      <td>Decision tree classifier</td>\n",
       "      <td>0.949459</td>\n",
       "    </tr>\n",
       "    <tr>\n",
       "      <th>2</th>\n",
       "      <td>Randforest Classfier</td>\n",
       "      <td>0.968695</td>\n",
       "    </tr>\n",
       "    <tr>\n",
       "      <th>3</th>\n",
       "      <td>XGBooting Classifier</td>\n",
       "      <td>0.971062</td>\n",
       "    </tr>\n",
       "    <tr>\n",
       "      <th>4</th>\n",
       "      <td>AdaBoosting Classifier</td>\n",
       "      <td>0.970656</td>\n",
       "    </tr>\n",
       "    <tr>\n",
       "      <th>5</th>\n",
       "      <td>Gradient Descent classifier</td>\n",
       "      <td>0.970656</td>\n",
       "    </tr>\n",
       "  </tbody>\n",
       "</table>\n",
       "</div>"
      ],
      "text/plain": [
       "                    Model Name  Accuracy\n",
       "0          Logistic Regression  0.959500\n",
       "1     Decision tree classifier  0.949459\n",
       "2         Randforest Classfier  0.968695\n",
       "3         XGBooting Classifier  0.971062\n",
       "4       AdaBoosting Classifier  0.970656\n",
       "5  Gradient Descent classifier  0.970656"
      ]
     },
     "execution_count": 86,
     "metadata": {},
     "output_type": "execute_result"
    }
   ],
   "source": [
    "pd.DataFrame(d)"
   ]
  },
  {
   "cell_type": "markdown",
   "id": "6f39fa24",
   "metadata": {
    "papermill": {
     "duration": 0.043045,
     "end_time": "2023-05-31T05:05:07.092209",
     "exception": false,
     "start_time": "2023-05-31T05:05:07.049164",
     "status": "completed"
    },
    "tags": []
   },
   "source": [
    "### **From these all model our ideal model is XGBooting classifier**"
   ]
  },
  {
   "cell_type": "code",
   "execution_count": 87,
   "id": "9fef11e8",
   "metadata": {
    "execution": {
     "iopub.execute_input": "2023-05-31T05:05:07.183599Z",
     "iopub.status.busy": "2023-05-31T05:05:07.182883Z",
     "iopub.status.idle": "2023-05-31T05:05:07.211186Z",
     "shell.execute_reply": "2023-05-31T05:05:07.200831Z"
    },
    "papermill": {
     "duration": 0.07486,
     "end_time": "2023-05-31T05:05:07.213814",
     "exception": false,
     "start_time": "2023-05-31T05:05:07.138954",
     "status": "completed"
    },
    "tags": []
   },
   "outputs": [
    {
     "data": {
      "text/plain": [
       "array([1])"
      ]
     },
     "execution_count": 87,
     "metadata": {},
     "output_type": "execute_result"
    }
   ],
   "source": [
    "pipe_xgb.predict(pd.DataFrame([['Female',59.0,1,0,'No Info',33.89,6.6,260]],columns=['gender','age','hypertension','heart_disease','smoking_history','bmi','HbA1c_level','blood_glucose_level']))"
   ]
  },
  {
   "cell_type": "markdown",
   "id": "1f2900c6",
   "metadata": {
    "papermill": {
     "duration": 0.043076,
     "end_time": "2023-05-31T05:05:07.299994",
     "exception": false,
     "start_time": "2023-05-31T05:05:07.256918",
     "status": "completed"
    },
    "tags": []
   },
   "source": [
    "***So , we can dump this model for develop in application***"
   ]
  },
  {
   "cell_type": "code",
   "execution_count": 88,
   "id": "ea627d3a",
   "metadata": {
    "execution": {
     "iopub.execute_input": "2023-05-31T05:05:07.387560Z",
     "iopub.status.busy": "2023-05-31T05:05:07.387168Z",
     "iopub.status.idle": "2023-05-31T05:05:07.391871Z",
     "shell.execute_reply": "2023-05-31T05:05:07.390627Z"
    },
    "papermill": {
     "duration": 0.051435,
     "end_time": "2023-05-31T05:05:07.394434",
     "exception": false,
     "start_time": "2023-05-31T05:05:07.342999",
     "status": "completed"
    },
    "tags": []
   },
   "outputs": [],
   "source": [
    "import pickle as pkl"
   ]
  },
  {
   "cell_type": "code",
   "execution_count": 89,
   "id": "877a1516",
   "metadata": {
    "execution": {
     "iopub.execute_input": "2023-05-31T05:05:07.482152Z",
     "iopub.status.busy": "2023-05-31T05:05:07.481722Z",
     "iopub.status.idle": "2023-05-31T05:05:07.491845Z",
     "shell.execute_reply": "2023-05-31T05:05:07.490958Z"
    },
    "papermill": {
     "duration": 0.056866,
     "end_time": "2023-05-31T05:05:07.494363",
     "exception": false,
     "start_time": "2023-05-31T05:05:07.437497",
     "status": "completed"
    },
    "tags": []
   },
   "outputs": [],
   "source": [
    "pkl.dump(pipe_xgb,open(\"XGB_model.pkl\",\"wb\"))"
   ]
  },
  {
   "cell_type": "code",
   "execution_count": 90,
   "id": "dcbd5bfa",
   "metadata": {
    "execution": {
     "iopub.execute_input": "2023-05-31T05:05:07.582912Z",
     "iopub.status.busy": "2023-05-31T05:05:07.582510Z",
     "iopub.status.idle": "2023-05-31T05:05:07.599475Z",
     "shell.execute_reply": "2023-05-31T05:05:07.598308Z"
    },
    "papermill": {
     "duration": 0.063825,
     "end_time": "2023-05-31T05:05:07.602252",
     "exception": false,
     "start_time": "2023-05-31T05:05:07.538427",
     "status": "completed"
    },
    "tags": []
   },
   "outputs": [],
   "source": [
    "model=pkl.load(open(\"XGB_model.pkl\",\"rb\"))"
   ]
  },
  {
   "cell_type": "code",
   "execution_count": 91,
   "id": "356bf4ae",
   "metadata": {
    "execution": {
     "iopub.execute_input": "2023-05-31T05:05:07.692305Z",
     "iopub.status.busy": "2023-05-31T05:05:07.691912Z",
     "iopub.status.idle": "2023-05-31T05:05:07.724211Z",
     "shell.execute_reply": "2023-05-31T05:05:07.723004Z"
    },
    "papermill": {
     "duration": 0.080488,
     "end_time": "2023-05-31T05:05:07.727410",
     "exception": false,
     "start_time": "2023-05-31T05:05:07.646922",
     "status": "completed"
    },
    "tags": []
   },
   "outputs": [
    {
     "data": {
      "text/plain": [
       "array([0])"
      ]
     },
     "execution_count": 91,
     "metadata": {},
     "output_type": "execute_result"
    }
   ],
   "source": [
    "model.predict(pd.DataFrame([['Male',80.00,0,0,'never',25.45,5.8,145]],columns=['gender','age','hypertension','heart_disease','smoking_history','bmi','HbA1c_level','blood_glucose_level']))"
   ]
  },
  {
   "cell_type": "code",
   "execution_count": null,
   "id": "3a479b0c",
   "metadata": {
    "papermill": {
     "duration": 0.042915,
     "end_time": "2023-05-31T05:05:07.813845",
     "exception": false,
     "start_time": "2023-05-31T05:05:07.770930",
     "status": "completed"
    },
    "tags": []
   },
   "outputs": [],
   "source": []
  }
 ],
 "metadata": {
  "kernelspec": {
   "display_name": "Python 3",
   "language": "python",
   "name": "python3"
  },
  "language_info": {
   "codemirror_mode": {
    "name": "ipython",
    "version": 3
   },
   "file_extension": ".py",
   "mimetype": "text/x-python",
   "name": "python",
   "nbconvert_exporter": "python",
   "pygments_lexer": "ipython3",
   "version": "3.10.10"
  },
  "papermill": {
   "default_parameters": {},
   "duration": 67.392523,
   "end_time": "2023-05-31T05:05:08.981184",
   "environment_variables": {},
   "exception": null,
   "input_path": "__notebook__.ipynb",
   "output_path": "__notebook__.ipynb",
   "parameters": {},
   "start_time": "2023-05-31T05:04:01.588661",
   "version": "2.4.0"
  }
 },
 "nbformat": 4,
 "nbformat_minor": 5
}

{
 "cells": [
  {
   "cell_type": "code",
   "execution_count": 1,
   "id": "4ed13f36",
   "metadata": {
    "_cell_guid": "b1076dfc-b9ad-4769-8c92-a6c4dae69d19",
    "_uuid": "8f2839f25d086af736a60e9eeb907d3b93b6e0e5",
    "execution": {
     "iopub.execute_input": "2023-07-11T17:32:55.659085Z",
     "iopub.status.busy": "2023-07-11T17:32:55.658674Z",
     "iopub.status.idle": "2023-07-11T17:32:55.679261Z",
     "shell.execute_reply": "2023-07-11T17:32:55.678570Z"
    },
    "papermill": {
     "duration": 0.035946,
     "end_time": "2023-07-11T17:32:55.681274",
     "exception": false,
     "start_time": "2023-07-11T17:32:55.645328",
     "status": "completed"
    },
    "tags": []
   },
   "outputs": [
    {
     "name": "stdout",
     "output_type": "stream",
     "text": [
      "/kaggle/input/spam-text-message-classification/SPAM text message 20170820 - Data.csv\n"
     ]
    }
   ],
   "source": [
    "# This Python 3 environment comes with many helpful analytics libraries installed\n",
    "# It is defined by the kaggle/python Docker image: https://github.com/kaggle/docker-python\n",
    "# For example, here's several helpful packages to load\n",
    "\n",
    "import numpy as np # linear algebra\n",
    "import pandas as pd # data processing, CSV file I/O (e.g. pd.read_csv)\n",
    "\n",
    "# Input data files are available in the read-only \"../input/\" directory\n",
    "# For example, running this (by clicking run or pressing Shift+Enter) will list all files under the input directory\n",
    "\n",
    "import os\n",
    "for dirname, _, filenames in os.walk('/kaggle/input'):\n",
    "    for filename in filenames:\n",
    "        print(os.path.join(dirname, filename))\n",
    "\n",
    "# You can write up to 20GB to the current directory (/kaggle/working/) that gets preserved as output when you create a version using \"Save & Run All\" \n",
    "# You can also write temporary files to /kaggle/temp/, but they won't be saved outside of the current session"
   ]
  },
  {
   "cell_type": "code",
   "execution_count": 2,
   "id": "edb60e3f",
   "metadata": {
    "execution": {
     "iopub.execute_input": "2023-07-11T17:32:55.706559Z",
     "iopub.status.busy": "2023-07-11T17:32:55.705106Z",
     "iopub.status.idle": "2023-07-11T17:32:55.746349Z",
     "shell.execute_reply": "2023-07-11T17:32:55.745205Z"
    },
    "papermill": {
     "duration": 0.056694,
     "end_time": "2023-07-11T17:32:55.748793",
     "exception": false,
     "start_time": "2023-07-11T17:32:55.692099",
     "status": "completed"
    },
    "tags": []
   },
   "outputs": [],
   "source": [
    "df=pd.read_csv('/kaggle/input/spam-text-message-classification/SPAM text message 20170820 - Data.csv')"
   ]
  },
  {
   "cell_type": "code",
   "execution_count": 3,
   "id": "aa4cb2e6",
   "metadata": {
    "execution": {
     "iopub.execute_input": "2023-07-11T17:32:55.772209Z",
     "iopub.status.busy": "2023-07-11T17:32:55.771803Z",
     "iopub.status.idle": "2023-07-11T17:32:55.778672Z",
     "shell.execute_reply": "2023-07-11T17:32:55.777732Z"
    },
    "papermill": {
     "duration": 0.021119,
     "end_time": "2023-07-11T17:32:55.780758",
     "exception": false,
     "start_time": "2023-07-11T17:32:55.759639",
     "status": "completed"
    },
    "tags": []
   },
   "outputs": [
    {
     "data": {
      "text/plain": [
       "(5572, 2)"
      ]
     },
     "execution_count": 3,
     "metadata": {},
     "output_type": "execute_result"
    }
   ],
   "source": [
    "df.shape"
   ]
  },
  {
   "cell_type": "code",
   "execution_count": 4,
   "id": "479fd7cf",
   "metadata": {
    "execution": {
     "iopub.execute_input": "2023-07-11T17:32:55.804496Z",
     "iopub.status.busy": "2023-07-11T17:32:55.804076Z",
     "iopub.status.idle": "2023-07-11T17:32:55.824044Z",
     "shell.execute_reply": "2023-07-11T17:32:55.823036Z"
    },
    "papermill": {
     "duration": 0.033903,
     "end_time": "2023-07-11T17:32:55.825869",
     "exception": false,
     "start_time": "2023-07-11T17:32:55.791966",
     "status": "completed"
    },
    "tags": []
   },
   "outputs": [
    {
     "data": {
      "text/html": [
       "<div>\n",
       "<style scoped>\n",
       "    .dataframe tbody tr th:only-of-type {\n",
       "        vertical-align: middle;\n",
       "    }\n",
       "\n",
       "    .dataframe tbody tr th {\n",
       "        vertical-align: top;\n",
       "    }\n",
       "\n",
       "    .dataframe thead th {\n",
       "        text-align: right;\n",
       "    }\n",
       "</style>\n",
       "<table border=\"1\" class=\"dataframe\">\n",
       "  <thead>\n",
       "    <tr style=\"text-align: right;\">\n",
       "      <th></th>\n",
       "      <th>Category</th>\n",
       "      <th>Message</th>\n",
       "    </tr>\n",
       "  </thead>\n",
       "  <tbody>\n",
       "    <tr>\n",
       "      <th>0</th>\n",
       "      <td>ham</td>\n",
       "      <td>Go until jurong point, crazy.. Available only ...</td>\n",
       "    </tr>\n",
       "    <tr>\n",
       "      <th>1</th>\n",
       "      <td>ham</td>\n",
       "      <td>Ok lar... Joking wif u oni...</td>\n",
       "    </tr>\n",
       "    <tr>\n",
       "      <th>2</th>\n",
       "      <td>spam</td>\n",
       "      <td>Free entry in 2 a wkly comp to win FA Cup fina...</td>\n",
       "    </tr>\n",
       "    <tr>\n",
       "      <th>3</th>\n",
       "      <td>ham</td>\n",
       "      <td>U dun say so early hor... U c already then say...</td>\n",
       "    </tr>\n",
       "    <tr>\n",
       "      <th>4</th>\n",
       "      <td>ham</td>\n",
       "      <td>Nah I don't think he goes to usf, he lives aro...</td>\n",
       "    </tr>\n",
       "  </tbody>\n",
       "</table>\n",
       "</div>"
      ],
      "text/plain": [
       "  Category                                            Message\n",
       "0      ham  Go until jurong point, crazy.. Available only ...\n",
       "1      ham                      Ok lar... Joking wif u oni...\n",
       "2     spam  Free entry in 2 a wkly comp to win FA Cup fina...\n",
       "3      ham  U dun say so early hor... U c already then say...\n",
       "4      ham  Nah I don't think he goes to usf, he lives aro..."
      ]
     },
     "execution_count": 4,
     "metadata": {},
     "output_type": "execute_result"
    }
   ],
   "source": [
    "df.head()"
   ]
  },
  {
   "cell_type": "code",
   "execution_count": 5,
   "id": "6ae68268",
   "metadata": {
    "execution": {
     "iopub.execute_input": "2023-07-11T17:32:55.849627Z",
     "iopub.status.busy": "2023-07-11T17:32:55.849236Z",
     "iopub.status.idle": "2023-07-11T17:32:55.859607Z",
     "shell.execute_reply": "2023-07-11T17:32:55.858197Z"
    },
    "papermill": {
     "duration": 0.024872,
     "end_time": "2023-07-11T17:32:55.861778",
     "exception": false,
     "start_time": "2023-07-11T17:32:55.836906",
     "status": "completed"
    },
    "tags": []
   },
   "outputs": [
    {
     "data": {
      "text/html": [
       "<div>\n",
       "<style scoped>\n",
       "    .dataframe tbody tr th:only-of-type {\n",
       "        vertical-align: middle;\n",
       "    }\n",
       "\n",
       "    .dataframe tbody tr th {\n",
       "        vertical-align: top;\n",
       "    }\n",
       "\n",
       "    .dataframe thead th {\n",
       "        text-align: right;\n",
       "    }\n",
       "</style>\n",
       "<table border=\"1\" class=\"dataframe\">\n",
       "  <thead>\n",
       "    <tr style=\"text-align: right;\">\n",
       "      <th></th>\n",
       "      <th>Category</th>\n",
       "      <th>Message</th>\n",
       "    </tr>\n",
       "  </thead>\n",
       "  <tbody>\n",
       "    <tr>\n",
       "      <th>5567</th>\n",
       "      <td>spam</td>\n",
       "      <td>This is the 2nd time we have tried 2 contact u...</td>\n",
       "    </tr>\n",
       "    <tr>\n",
       "      <th>5568</th>\n",
       "      <td>ham</td>\n",
       "      <td>Will ü b going to esplanade fr home?</td>\n",
       "    </tr>\n",
       "    <tr>\n",
       "      <th>5569</th>\n",
       "      <td>ham</td>\n",
       "      <td>Pity, * was in mood for that. So...any other s...</td>\n",
       "    </tr>\n",
       "    <tr>\n",
       "      <th>5570</th>\n",
       "      <td>ham</td>\n",
       "      <td>The guy did some bitching but I acted like i'd...</td>\n",
       "    </tr>\n",
       "    <tr>\n",
       "      <th>5571</th>\n",
       "      <td>ham</td>\n",
       "      <td>Rofl. Its true to its name</td>\n",
       "    </tr>\n",
       "  </tbody>\n",
       "</table>\n",
       "</div>"
      ],
      "text/plain": [
       "     Category                                            Message\n",
       "5567     spam  This is the 2nd time we have tried 2 contact u...\n",
       "5568      ham               Will ü b going to esplanade fr home?\n",
       "5569      ham  Pity, * was in mood for that. So...any other s...\n",
       "5570      ham  The guy did some bitching but I acted like i'd...\n",
       "5571      ham                         Rofl. Its true to its name"
      ]
     },
     "execution_count": 5,
     "metadata": {},
     "output_type": "execute_result"
    }
   ],
   "source": [
    "df.tail()"
   ]
  },
  {
   "cell_type": "code",
   "execution_count": 6,
   "id": "1224d11f",
   "metadata": {
    "execution": {
     "iopub.execute_input": "2023-07-11T17:32:55.886315Z",
     "iopub.status.busy": "2023-07-11T17:32:55.885963Z",
     "iopub.status.idle": "2023-07-11T17:32:55.899838Z",
     "shell.execute_reply": "2023-07-11T17:32:55.898728Z"
    },
    "papermill": {
     "duration": 0.029441,
     "end_time": "2023-07-11T17:32:55.902579",
     "exception": false,
     "start_time": "2023-07-11T17:32:55.873138",
     "status": "completed"
    },
    "tags": []
   },
   "outputs": [
    {
     "data": {
      "text/html": [
       "<div>\n",
       "<style scoped>\n",
       "    .dataframe tbody tr th:only-of-type {\n",
       "        vertical-align: middle;\n",
       "    }\n",
       "\n",
       "    .dataframe tbody tr th {\n",
       "        vertical-align: top;\n",
       "    }\n",
       "\n",
       "    .dataframe thead th {\n",
       "        text-align: right;\n",
       "    }\n",
       "</style>\n",
       "<table border=\"1\" class=\"dataframe\">\n",
       "  <thead>\n",
       "    <tr style=\"text-align: right;\">\n",
       "      <th></th>\n",
       "      <th>Category</th>\n",
       "      <th>Message</th>\n",
       "    </tr>\n",
       "  </thead>\n",
       "  <tbody>\n",
       "    <tr>\n",
       "      <th>1436</th>\n",
       "      <td>ham</td>\n",
       "      <td>Dad went out oredi...</td>\n",
       "    </tr>\n",
       "    <tr>\n",
       "      <th>1993</th>\n",
       "      <td>spam</td>\n",
       "      <td>Free tones Hope you enjoyed your new content. ...</td>\n",
       "    </tr>\n",
       "    <tr>\n",
       "      <th>1811</th>\n",
       "      <td>ham</td>\n",
       "      <td>Now, whats your house # again ? And do you hav...</td>\n",
       "    </tr>\n",
       "    <tr>\n",
       "      <th>1756</th>\n",
       "      <td>ham</td>\n",
       "      <td>Really good:)dhanush rocks once again:)</td>\n",
       "    </tr>\n",
       "    <tr>\n",
       "      <th>4414</th>\n",
       "      <td>ham</td>\n",
       "      <td>Sad story of a Man - Last week was my b'day. M...</td>\n",
       "    </tr>\n",
       "  </tbody>\n",
       "</table>\n",
       "</div>"
      ],
      "text/plain": [
       "     Category                                            Message\n",
       "1436      ham                              Dad went out oredi...\n",
       "1993     spam  Free tones Hope you enjoyed your new content. ...\n",
       "1811      ham  Now, whats your house # again ? And do you hav...\n",
       "1756      ham            Really good:)dhanush rocks once again:)\n",
       "4414      ham  Sad story of a Man - Last week was my b'day. M..."
      ]
     },
     "execution_count": 6,
     "metadata": {},
     "output_type": "execute_result"
    }
   ],
   "source": [
    "df.sample(5)"
   ]
  },
  {
   "cell_type": "markdown",
   "id": "25e76559",
   "metadata": {
    "papermill": {
     "duration": 0.011215,
     "end_time": "2023-07-11T17:32:55.925456",
     "exception": false,
     "start_time": "2023-07-11T17:32:55.914241",
     "status": "completed"
    },
    "tags": []
   },
   "source": [
    "## **Text Preprocesser**\n",
    "* **Data Preparations**"
   ]
  },
  {
   "cell_type": "code",
   "execution_count": 7,
   "id": "616c0fa1",
   "metadata": {
    "execution": {
     "iopub.execute_input": "2023-07-11T17:32:55.951865Z",
     "iopub.status.busy": "2023-07-11T17:32:55.951233Z",
     "iopub.status.idle": "2023-07-11T17:32:58.085210Z",
     "shell.execute_reply": "2023-07-11T17:32:58.083605Z"
    },
    "papermill": {
     "duration": 2.150231,
     "end_time": "2023-07-11T17:32:58.087856",
     "exception": false,
     "start_time": "2023-07-11T17:32:55.937625",
     "status": "completed"
    },
    "tags": []
   },
   "outputs": [
    {
     "name": "stderr",
     "output_type": "stream",
     "text": [
      "/opt/conda/lib/python3.10/site-packages/scipy/__init__.py:146: UserWarning: A NumPy version >=1.16.5 and <1.23.0 is required for this version of SciPy (detected version 1.23.5\n",
      "  warnings.warn(f\"A NumPy version >={np_minversion} and <{np_maxversion}\"\n"
     ]
    }
   ],
   "source": [
    "import re \n",
    "import nltk"
   ]
  },
  {
   "cell_type": "code",
   "execution_count": 8,
   "id": "b8973feb",
   "metadata": {
    "execution": {
     "iopub.execute_input": "2023-07-11T17:32:58.112490Z",
     "iopub.status.busy": "2023-07-11T17:32:58.112163Z",
     "iopub.status.idle": "2023-07-11T17:32:58.117088Z",
     "shell.execute_reply": "2023-07-11T17:32:58.115905Z"
    },
    "papermill": {
     "duration": 0.019066,
     "end_time": "2023-07-11T17:32:58.118897",
     "exception": false,
     "start_time": "2023-07-11T17:32:58.099831",
     "status": "completed"
    },
    "tags": []
   },
   "outputs": [],
   "source": [
    "# nltk.download()"
   ]
  },
  {
   "cell_type": "code",
   "execution_count": 9,
   "id": "5db76f59",
   "metadata": {
    "execution": {
     "iopub.execute_input": "2023-07-11T17:32:58.142495Z",
     "iopub.status.busy": "2023-07-11T17:32:58.142101Z",
     "iopub.status.idle": "2023-07-11T17:32:58.147560Z",
     "shell.execute_reply": "2023-07-11T17:32:58.146206Z"
    },
    "papermill": {
     "duration": 0.019646,
     "end_time": "2023-07-11T17:32:58.149595",
     "exception": false,
     "start_time": "2023-07-11T17:32:58.129949",
     "status": "completed"
    },
    "tags": []
   },
   "outputs": [],
   "source": [
    "from nltk.corpus import stopwords\n",
    "from nltk.stem.porter import PorterStemmer\n",
    "from nltk.stem import WordNetLemmatizer"
   ]
  },
  {
   "cell_type": "code",
   "execution_count": 10,
   "id": "0d426d93",
   "metadata": {
    "execution": {
     "iopub.execute_input": "2023-07-11T17:32:58.174081Z",
     "iopub.status.busy": "2023-07-11T17:32:58.173645Z",
     "iopub.status.idle": "2023-07-11T17:32:58.177990Z",
     "shell.execute_reply": "2023-07-11T17:32:58.177119Z"
    },
    "papermill": {
     "duration": 0.01958,
     "end_time": "2023-07-11T17:32:58.180601",
     "exception": false,
     "start_time": "2023-07-11T17:32:58.161021",
     "status": "completed"
    },
    "tags": []
   },
   "outputs": [],
   "source": [
    "ps=PorterStemmer()\n",
    "corpus=[]"
   ]
  },
  {
   "cell_type": "code",
   "execution_count": 11,
   "id": "8d3465ec",
   "metadata": {
    "execution": {
     "iopub.execute_input": "2023-07-11T17:32:58.205442Z",
     "iopub.status.busy": "2023-07-11T17:32:58.205057Z",
     "iopub.status.idle": "2023-07-11T17:32:58.211102Z",
     "shell.execute_reply": "2023-07-11T17:32:58.210017Z"
    },
    "papermill": {
     "duration": 0.021367,
     "end_time": "2023-07-11T17:32:58.213451",
     "exception": false,
     "start_time": "2023-07-11T17:32:58.192084",
     "status": "completed"
    },
    "tags": []
   },
   "outputs": [
    {
     "data": {
      "text/plain": [
       "5572"
      ]
     },
     "execution_count": 11,
     "metadata": {},
     "output_type": "execute_result"
    }
   ],
   "source": [
    "len(df['Message'])"
   ]
  },
  {
   "cell_type": "code",
   "execution_count": 12,
   "id": "99f8ed61",
   "metadata": {
    "execution": {
     "iopub.execute_input": "2023-07-11T17:32:58.237880Z",
     "iopub.status.busy": "2023-07-11T17:32:58.237493Z",
     "iopub.status.idle": "2023-07-11T17:33:08.496963Z",
     "shell.execute_reply": "2023-07-11T17:33:08.495494Z"
    },
    "papermill": {
     "duration": 10.274486,
     "end_time": "2023-07-11T17:33:08.499266",
     "exception": false,
     "start_time": "2023-07-11T17:32:58.224780",
     "status": "completed"
    },
    "tags": []
   },
   "outputs": [],
   "source": [
    "for i in range(0,len(df['Message'])):\n",
    "    review=re.sub('[^a-zA-Z]',' ',df['Message'][i])\n",
    "    review=review.lower()\n",
    "    review=review.split()\n",
    "    \n",
    "    review=[ps.stem(word) for word in review if not word in stopwords.words('english') ]\n",
    "    review=' '.join(review)\n",
    "    corpus.append(review)"
   ]
  },
  {
   "cell_type": "code",
   "execution_count": 13,
   "id": "1c65af46",
   "metadata": {
    "execution": {
     "iopub.execute_input": "2023-07-11T17:33:08.524892Z",
     "iopub.status.busy": "2023-07-11T17:33:08.524545Z",
     "iopub.status.idle": "2023-07-11T17:33:08.529869Z",
     "shell.execute_reply": "2023-07-11T17:33:08.528519Z"
    },
    "papermill": {
     "duration": 0.021352,
     "end_time": "2023-07-11T17:33:08.532295",
     "exception": false,
     "start_time": "2023-07-11T17:33:08.510943",
     "status": "completed"
    },
    "tags": []
   },
   "outputs": [],
   "source": [
    "##creating the Bag Of Words model \n",
    "from sklearn.feature_extraction.text import CountVectorizer"
   ]
  },
  {
   "cell_type": "code",
   "execution_count": 14,
   "id": "d7c569c1",
   "metadata": {
    "execution": {
     "iopub.execute_input": "2023-07-11T17:33:08.556103Z",
     "iopub.status.busy": "2023-07-11T17:33:08.555789Z",
     "iopub.status.idle": "2023-07-11T17:33:08.560760Z",
     "shell.execute_reply": "2023-07-11T17:33:08.559452Z"
    },
    "papermill": {
     "duration": 0.020012,
     "end_time": "2023-07-11T17:33:08.563654",
     "exception": false,
     "start_time": "2023-07-11T17:33:08.543642",
     "status": "completed"
    },
    "tags": []
   },
   "outputs": [],
   "source": [
    "cv=CountVectorizer(max_features=2500)"
   ]
  },
  {
   "cell_type": "code",
   "execution_count": 15,
   "id": "b42a2847",
   "metadata": {
    "execution": {
     "iopub.execute_input": "2023-07-11T17:33:08.588595Z",
     "iopub.status.busy": "2023-07-11T17:33:08.587396Z",
     "iopub.status.idle": "2023-07-11T17:33:08.680386Z",
     "shell.execute_reply": "2023-07-11T17:33:08.679054Z"
    },
    "papermill": {
     "duration": 0.107606,
     "end_time": "2023-07-11T17:33:08.682676",
     "exception": false,
     "start_time": "2023-07-11T17:33:08.575070",
     "status": "completed"
    },
    "tags": []
   },
   "outputs": [],
   "source": [
    "X=cv.fit_transform(corpus).toarray()  "
   ]
  },
  {
   "cell_type": "code",
   "execution_count": 16,
   "id": "22ebe4c8",
   "metadata": {
    "execution": {
     "iopub.execute_input": "2023-07-11T17:33:08.706571Z",
     "iopub.status.busy": "2023-07-11T17:33:08.706130Z",
     "iopub.status.idle": "2023-07-11T17:33:08.711827Z",
     "shell.execute_reply": "2023-07-11T17:33:08.710414Z"
    },
    "papermill": {
     "duration": 0.020083,
     "end_time": "2023-07-11T17:33:08.713929",
     "exception": false,
     "start_time": "2023-07-11T17:33:08.693846",
     "status": "completed"
    },
    "tags": []
   },
   "outputs": [],
   "source": [
    "y=df['Category']"
   ]
  },
  {
   "cell_type": "code",
   "execution_count": 17,
   "id": "2ddcab60",
   "metadata": {
    "execution": {
     "iopub.execute_input": "2023-07-11T17:33:08.737420Z",
     "iopub.status.busy": "2023-07-11T17:33:08.737072Z",
     "iopub.status.idle": "2023-07-11T17:33:08.742402Z",
     "shell.execute_reply": "2023-07-11T17:33:08.741101Z"
    },
    "papermill": {
     "duration": 0.020006,
     "end_time": "2023-07-11T17:33:08.744964",
     "exception": false,
     "start_time": "2023-07-11T17:33:08.724958",
     "status": "completed"
    },
    "tags": []
   },
   "outputs": [],
   "source": [
    "from sklearn.preprocessing import LabelEncoder\n",
    "from sklearn.model_selection import train_test_split,GridSearchCV"
   ]
  },
  {
   "cell_type": "code",
   "execution_count": 18,
   "id": "ba6ac117",
   "metadata": {
    "execution": {
     "iopub.execute_input": "2023-07-11T17:33:08.769565Z",
     "iopub.status.busy": "2023-07-11T17:33:08.769218Z",
     "iopub.status.idle": "2023-07-11T17:33:08.773576Z",
     "shell.execute_reply": "2023-07-11T17:33:08.772472Z"
    },
    "papermill": {
     "duration": 0.019501,
     "end_time": "2023-07-11T17:33:08.776173",
     "exception": false,
     "start_time": "2023-07-11T17:33:08.756672",
     "status": "completed"
    },
    "tags": []
   },
   "outputs": [],
   "source": [
    "lb=LabelEncoder()"
   ]
  },
  {
   "cell_type": "code",
   "execution_count": 19,
   "id": "4b47be9d",
   "metadata": {
    "execution": {
     "iopub.execute_input": "2023-07-11T17:33:08.802971Z",
     "iopub.status.busy": "2023-07-11T17:33:08.802578Z",
     "iopub.status.idle": "2023-07-11T17:33:08.809418Z",
     "shell.execute_reply": "2023-07-11T17:33:08.808304Z"
    },
    "papermill": {
     "duration": 0.022664,
     "end_time": "2023-07-11T17:33:08.811260",
     "exception": false,
     "start_time": "2023-07-11T17:33:08.788596",
     "status": "completed"
    },
    "tags": []
   },
   "outputs": [],
   "source": [
    "y=lb.fit_transform(y)"
   ]
  },
  {
   "cell_type": "code",
   "execution_count": 20,
   "id": "98e0a025",
   "metadata": {
    "execution": {
     "iopub.execute_input": "2023-07-11T17:33:08.835747Z",
     "iopub.status.busy": "2023-07-11T17:33:08.835366Z",
     "iopub.status.idle": "2023-07-11T17:33:08.865131Z",
     "shell.execute_reply": "2023-07-11T17:33:08.863682Z"
    },
    "papermill": {
     "duration": 0.044658,
     "end_time": "2023-07-11T17:33:08.867544",
     "exception": false,
     "start_time": "2023-07-11T17:33:08.822886",
     "status": "completed"
    },
    "tags": []
   },
   "outputs": [],
   "source": [
    "X_train,X_test,y_train,y_test=train_test_split(X,y,test_size=0.3,random_state=42)"
   ]
  },
  {
   "cell_type": "code",
   "execution_count": 21,
   "id": "a2971cc2",
   "metadata": {
    "execution": {
     "iopub.execute_input": "2023-07-11T17:33:08.892320Z",
     "iopub.status.busy": "2023-07-11T17:33:08.891990Z",
     "iopub.status.idle": "2023-07-11T17:33:08.905996Z",
     "shell.execute_reply": "2023-07-11T17:33:08.904400Z"
    },
    "papermill": {
     "duration": 0.029487,
     "end_time": "2023-07-11T17:33:08.908700",
     "exception": false,
     "start_time": "2023-07-11T17:33:08.879213",
     "status": "completed"
    },
    "tags": []
   },
   "outputs": [],
   "source": [
    "from sklearn.naive_bayes import MultinomialNB, GaussianNB,BernoulliNB\n",
    "from sklearn.metrics import accuracy_score,ConfusionMatrixDisplay,confusion_matrix\n",
    "import matplotlib.pyplot as plt"
   ]
  },
  {
   "cell_type": "code",
   "execution_count": 22,
   "id": "d9f11b6a",
   "metadata": {
    "execution": {
     "iopub.execute_input": "2023-07-11T17:33:08.933235Z",
     "iopub.status.busy": "2023-07-11T17:33:08.932822Z",
     "iopub.status.idle": "2023-07-11T17:33:08.939200Z",
     "shell.execute_reply": "2023-07-11T17:33:08.937990Z"
    },
    "papermill": {
     "duration": 0.0216,
     "end_time": "2023-07-11T17:33:08.941895",
     "exception": false,
     "start_time": "2023-07-11T17:33:08.920295",
     "status": "completed"
    },
    "tags": []
   },
   "outputs": [
    {
     "data": {
      "text/plain": [
       "(3900, 2500)"
      ]
     },
     "execution_count": 22,
     "metadata": {},
     "output_type": "execute_result"
    }
   ],
   "source": [
    "X_train.shape"
   ]
  },
  {
   "cell_type": "code",
   "execution_count": 23,
   "id": "c7ca9e00",
   "metadata": {
    "execution": {
     "iopub.execute_input": "2023-07-11T17:33:08.966195Z",
     "iopub.status.busy": "2023-07-11T17:33:08.965791Z",
     "iopub.status.idle": "2023-07-11T17:33:08.970366Z",
     "shell.execute_reply": "2023-07-11T17:33:08.969606Z"
    },
    "papermill": {
     "duration": 0.018785,
     "end_time": "2023-07-11T17:33:08.972004",
     "exception": false,
     "start_time": "2023-07-11T17:33:08.953219",
     "status": "completed"
    },
    "tags": []
   },
   "outputs": [],
   "source": [
    "GN=GaussianNB()\n",
    "MN=MultinomialNB()\n",
    "BN=BernoulliNB()"
   ]
  },
  {
   "cell_type": "code",
   "execution_count": 24,
   "id": "dc971cd2",
   "metadata": {
    "execution": {
     "iopub.execute_input": "2023-07-11T17:33:08.997383Z",
     "iopub.status.busy": "2023-07-11T17:33:08.997009Z",
     "iopub.status.idle": "2023-07-11T17:33:09.072571Z",
     "shell.execute_reply": "2023-07-11T17:33:09.071774Z"
    },
    "papermill": {
     "duration": 0.091037,
     "end_time": "2023-07-11T17:33:09.074484",
     "exception": false,
     "start_time": "2023-07-11T17:33:08.983447",
     "status": "completed"
    },
    "tags": []
   },
   "outputs": [
    {
     "data": {
      "text/html": [
       "<style>#sk-container-id-1 {color: black;background-color: white;}#sk-container-id-1 pre{padding: 0;}#sk-container-id-1 div.sk-toggleable {background-color: white;}#sk-container-id-1 label.sk-toggleable__label {cursor: pointer;display: block;width: 100%;margin-bottom: 0;padding: 0.3em;box-sizing: border-box;text-align: center;}#sk-container-id-1 label.sk-toggleable__label-arrow:before {content: \"▸\";float: left;margin-right: 0.25em;color: #696969;}#sk-container-id-1 label.sk-toggleable__label-arrow:hover:before {color: black;}#sk-container-id-1 div.sk-estimator:hover label.sk-toggleable__label-arrow:before {color: black;}#sk-container-id-1 div.sk-toggleable__content {max-height: 0;max-width: 0;overflow: hidden;text-align: left;background-color: #f0f8ff;}#sk-container-id-1 div.sk-toggleable__content pre {margin: 0.2em;color: black;border-radius: 0.25em;background-color: #f0f8ff;}#sk-container-id-1 input.sk-toggleable__control:checked~div.sk-toggleable__content {max-height: 200px;max-width: 100%;overflow: auto;}#sk-container-id-1 input.sk-toggleable__control:checked~label.sk-toggleable__label-arrow:before {content: \"▾\";}#sk-container-id-1 div.sk-estimator input.sk-toggleable__control:checked~label.sk-toggleable__label {background-color: #d4ebff;}#sk-container-id-1 div.sk-label input.sk-toggleable__control:checked~label.sk-toggleable__label {background-color: #d4ebff;}#sk-container-id-1 input.sk-hidden--visually {border: 0;clip: rect(1px 1px 1px 1px);clip: rect(1px, 1px, 1px, 1px);height: 1px;margin: -1px;overflow: hidden;padding: 0;position: absolute;width: 1px;}#sk-container-id-1 div.sk-estimator {font-family: monospace;background-color: #f0f8ff;border: 1px dotted black;border-radius: 0.25em;box-sizing: border-box;margin-bottom: 0.5em;}#sk-container-id-1 div.sk-estimator:hover {background-color: #d4ebff;}#sk-container-id-1 div.sk-parallel-item::after {content: \"\";width: 100%;border-bottom: 1px solid gray;flex-grow: 1;}#sk-container-id-1 div.sk-label:hover label.sk-toggleable__label {background-color: #d4ebff;}#sk-container-id-1 div.sk-serial::before {content: \"\";position: absolute;border-left: 1px solid gray;box-sizing: border-box;top: 0;bottom: 0;left: 50%;z-index: 0;}#sk-container-id-1 div.sk-serial {display: flex;flex-direction: column;align-items: center;background-color: white;padding-right: 0.2em;padding-left: 0.2em;position: relative;}#sk-container-id-1 div.sk-item {position: relative;z-index: 1;}#sk-container-id-1 div.sk-parallel {display: flex;align-items: stretch;justify-content: center;background-color: white;position: relative;}#sk-container-id-1 div.sk-item::before, #sk-container-id-1 div.sk-parallel-item::before {content: \"\";position: absolute;border-left: 1px solid gray;box-sizing: border-box;top: 0;bottom: 0;left: 50%;z-index: -1;}#sk-container-id-1 div.sk-parallel-item {display: flex;flex-direction: column;z-index: 1;position: relative;background-color: white;}#sk-container-id-1 div.sk-parallel-item:first-child::after {align-self: flex-end;width: 50%;}#sk-container-id-1 div.sk-parallel-item:last-child::after {align-self: flex-start;width: 50%;}#sk-container-id-1 div.sk-parallel-item:only-child::after {width: 0;}#sk-container-id-1 div.sk-dashed-wrapped {border: 1px dashed gray;margin: 0 0.4em 0.5em 0.4em;box-sizing: border-box;padding-bottom: 0.4em;background-color: white;}#sk-container-id-1 div.sk-label label {font-family: monospace;font-weight: bold;display: inline-block;line-height: 1.2em;}#sk-container-id-1 div.sk-label-container {text-align: center;}#sk-container-id-1 div.sk-container {/* jupyter's `normalize.less` sets `[hidden] { display: none; }` but bootstrap.min.css set `[hidden] { display: none !important; }` so we also need the `!important` here to be able to override the default hidden behavior on the sphinx rendered scikit-learn.org. See: https://github.com/scikit-learn/scikit-learn/issues/21755 */display: inline-block !important;position: relative;}#sk-container-id-1 div.sk-text-repr-fallback {display: none;}</style><div id=\"sk-container-id-1\" class=\"sk-top-container\"><div class=\"sk-text-repr-fallback\"><pre>MultinomialNB()</pre><b>In a Jupyter environment, please rerun this cell to show the HTML representation or trust the notebook. <br />On GitHub, the HTML representation is unable to render, please try loading this page with nbviewer.org.</b></div><div class=\"sk-container\" hidden><div class=\"sk-item\"><div class=\"sk-estimator sk-toggleable\"><input class=\"sk-toggleable__control sk-hidden--visually\" id=\"sk-estimator-id-1\" type=\"checkbox\" checked><label for=\"sk-estimator-id-1\" class=\"sk-toggleable__label sk-toggleable__label-arrow\">MultinomialNB</label><div class=\"sk-toggleable__content\"><pre>MultinomialNB()</pre></div></div></div></div></div>"
      ],
      "text/plain": [
       "MultinomialNB()"
      ]
     },
     "execution_count": 24,
     "metadata": {},
     "output_type": "execute_result"
    }
   ],
   "source": [
    "MN.fit(X_train,y_train)"
   ]
  },
  {
   "cell_type": "code",
   "execution_count": 25,
   "id": "5e135b9a",
   "metadata": {
    "execution": {
     "iopub.execute_input": "2023-07-11T17:33:09.101675Z",
     "iopub.status.busy": "2023-07-11T17:33:09.100226Z",
     "iopub.status.idle": "2023-07-11T17:33:09.122879Z",
     "shell.execute_reply": "2023-07-11T17:33:09.121841Z"
    },
    "papermill": {
     "duration": 0.038069,
     "end_time": "2023-07-11T17:33:09.125125",
     "exception": false,
     "start_time": "2023-07-11T17:33:09.087056",
     "status": "completed"
    },
    "tags": []
   },
   "outputs": [],
   "source": [
    "y_pred_mn=MN.predict(X_test)"
   ]
  },
  {
   "cell_type": "code",
   "execution_count": 26,
   "id": "ca7a1d35",
   "metadata": {
    "execution": {
     "iopub.execute_input": "2023-07-11T17:33:09.159488Z",
     "iopub.status.busy": "2023-07-11T17:33:09.158115Z",
     "iopub.status.idle": "2023-07-11T17:33:09.166395Z",
     "shell.execute_reply": "2023-07-11T17:33:09.165613Z"
    },
    "papermill": {
     "duration": 0.028292,
     "end_time": "2023-07-11T17:33:09.168288",
     "exception": false,
     "start_time": "2023-07-11T17:33:09.139996",
     "status": "completed"
    },
    "tags": []
   },
   "outputs": [
    {
     "data": {
      "text/plain": [
       "98.14593301435407"
      ]
     },
     "execution_count": 26,
     "metadata": {},
     "output_type": "execute_result"
    }
   ],
   "source": [
    "accuracy_score(y_test,y_pred_mn)*100"
   ]
  },
  {
   "cell_type": "code",
   "execution_count": 27,
   "id": "fb3ae63d",
   "metadata": {
    "execution": {
     "iopub.execute_input": "2023-07-11T17:33:09.200033Z",
     "iopub.status.busy": "2023-07-11T17:33:09.199606Z",
     "iopub.status.idle": "2023-07-11T17:33:09.467793Z",
     "shell.execute_reply": "2023-07-11T17:33:09.466593Z"
    },
    "papermill": {
     "duration": 0.286802,
     "end_time": "2023-07-11T17:33:09.470107",
     "exception": false,
     "start_time": "2023-07-11T17:33:09.183305",
     "status": "completed"
    },
    "tags": []
   },
   "outputs": [
    {
     "data": {
      "text/plain": [
       "<sklearn.metrics._plot.confusion_matrix.ConfusionMatrixDisplay at 0x7f6777791d20>"
      ]
     },
     "execution_count": 27,
     "metadata": {},
     "output_type": "execute_result"
    },
    {
     "data": {
      "image/png": "[encoded data removed]",
      "text/plain": [
       "<Figure size 640x480 with 2 Axes>"
      ]
     },
     "metadata": {},
     "output_type": "display_data"
    }
   ],
   "source": [
    "ConfusionMatrixDisplay(confusion_matrix(y_test,y_pred_mn)).plot()"
   ]
  },
  {
   "cell_type": "code",
   "execution_count": 28,
   "id": "1ba9d097",
   "metadata": {
    "execution": {
     "iopub.execute_input": "2023-07-11T17:33:09.498261Z",
     "iopub.status.busy": "2023-07-11T17:33:09.497657Z",
     "iopub.status.idle": "2023-07-11T17:33:09.605127Z",
     "shell.execute_reply": "2023-07-11T17:33:09.603484Z"
    },
    "papermill": {
     "duration": 0.124409,
     "end_time": "2023-07-11T17:33:09.607681",
     "exception": false,
     "start_time": "2023-07-11T17:33:09.483272",
     "status": "completed"
    },
    "tags": []
   },
   "outputs": [
    {
     "data": {
      "text/html": [
       "<style>#sk-container-id-2 {color: black;background-color: white;}#sk-container-id-2 pre{padding: 0;}#sk-container-id-2 div.sk-toggleable {background-color: white;}#sk-container-id-2 label.sk-toggleable__label {cursor: pointer;display: block;width: 100%;margin-bottom: 0;padding: 0.3em;box-sizing: border-box;text-align: center;}#sk-container-id-2 label.sk-toggleable__label-arrow:before {content: \"▸\";float: left;margin-right: 0.25em;color: #696969;}#sk-container-id-2 label.sk-toggleable__label-arrow:hover:before {color: black;}#sk-container-id-2 div.sk-estimator:hover label.sk-toggleable__label-arrow:before {color: black;}#sk-container-id-2 div.sk-toggleable__content {max-height: 0;max-width: 0;overflow: hidden;text-align: left;background-color: #f0f8ff;}#sk-container-id-2 div.sk-toggleable__content pre {margin: 0.2em;color: black;border-radius: 0.25em;background-color: #f0f8ff;}#sk-container-id-2 input.sk-toggleable__control:checked~div.sk-toggleable__content {max-height: 200px;max-width: 100%;overflow: auto;}#sk-container-id-2 input.sk-toggleable__control:checked~label.sk-toggleable__label-arrow:before {content: \"▾\";}#sk-container-id-2 div.sk-estimator input.sk-toggleable__control:checked~label.sk-toggleable__label {background-color: #d4ebff;}#sk-container-id-2 div.sk-label input.sk-toggleable__control:checked~label.sk-toggleable__label {background-color: #d4ebff;}#sk-container-id-2 input.sk-hidden--visually {border: 0;clip: rect(1px 1px 1px 1px);clip: rect(1px, 1px, 1px, 1px);height: 1px;margin: -1px;overflow: hidden;padding: 0;position: absolute;width: 1px;}#sk-container-id-2 div.sk-estimator {font-family: monospace;background-color: #f0f8ff;border: 1px dotted black;border-radius: 0.25em;box-sizing: border-box;margin-bottom: 0.5em;}#sk-container-id-2 div.sk-estimator:hover {background-color: #d4ebff;}#sk-container-id-2 div.sk-parallel-item::after {content: \"\";width: 100%;border-bottom: 1px solid gray;flex-grow: 1;}#sk-container-id-2 div.sk-label:hover label.sk-toggleable__label {background-color: #d4ebff;}#sk-container-id-2 div.sk-serial::before {content: \"\";position: absolute;border-left: 1px solid gray;box-sizing: border-box;top: 0;bottom: 0;left: 50%;z-index: 0;}#sk-container-id-2 div.sk-serial {display: flex;flex-direction: column;align-items: center;background-color: white;padding-right: 0.2em;padding-left: 0.2em;position: relative;}#sk-container-id-2 div.sk-item {position: relative;z-index: 1;}#sk-container-id-2 div.sk-parallel {display: flex;align-items: stretch;justify-content: center;background-color: white;position: relative;}#sk-container-id-2 div.sk-item::before, #sk-container-id-2 div.sk-parallel-item::before {content: \"\";position: absolute;border-left: 1px solid gray;box-sizing: border-box;top: 0;bottom: 0;left: 50%;z-index: -1;}#sk-container-id-2 div.sk-parallel-item {display: flex;flex-direction: column;z-index: 1;position: relative;background-color: white;}#sk-container-id-2 div.sk-parallel-item:first-child::after {align-self: flex-end;width: 50%;}#sk-container-id-2 div.sk-parallel-item:last-child::after {align-self: flex-start;width: 50%;}#sk-container-id-2 div.sk-parallel-item:only-child::after {width: 0;}#sk-container-id-2 div.sk-dashed-wrapped {border: 1px dashed gray;margin: 0 0.4em 0.5em 0.4em;box-sizing: border-box;padding-bottom: 0.4em;background-color: white;}#sk-container-id-2 div.sk-label label {font-family: monospace;font-weight: bold;display: inline-block;line-height: 1.2em;}#sk-container-id-2 div.sk-label-container {text-align: center;}#sk-container-id-2 div.sk-container {/* jupyter's `normalize.less` sets `[hidden] { display: none; }` but bootstrap.min.css set `[hidden] { display: none !important; }` so we also need the `!important` here to be able to override the default hidden behavior on the sphinx rendered scikit-learn.org. See: https://github.com/scikit-learn/scikit-learn/issues/21755 */display: inline-block !important;position: relative;}#sk-container-id-2 div.sk-text-repr-fallback {display: none;}</style><div id=\"sk-container-id-2\" class=\"sk-top-container\"><div class=\"sk-text-repr-fallback\"><pre>BernoulliNB()</pre><b>In a Jupyter environment, please rerun this cell to show the HTML representation or trust the notebook. <br />On GitHub, the HTML representation is unable to render, please try loading this page with nbviewer.org.</b></div><div class=\"sk-container\" hidden><div class=\"sk-item\"><div class=\"sk-estimator sk-toggleable\"><input class=\"sk-toggleable__control sk-hidden--visually\" id=\"sk-estimator-id-2\" type=\"checkbox\" checked><label for=\"sk-estimator-id-2\" class=\"sk-toggleable__label sk-toggleable__label-arrow\">BernoulliNB</label><div class=\"sk-toggleable__content\"><pre>BernoulliNB()</pre></div></div></div></div></div>"
      ],
      "text/plain": [
       "BernoulliNB()"
      ]
     },
     "execution_count": 28,
     "metadata": {},
     "output_type": "execute_result"
    }
   ],
   "source": [
    "BN.fit(X_train,y_train)"
   ]
  },
  {
   "cell_type": "code",
   "execution_count": 29,
   "id": "cdc4962e",
   "metadata": {
    "execution": {
     "iopub.execute_input": "2023-07-11T17:33:09.633633Z",
     "iopub.status.busy": "2023-07-11T17:33:09.633232Z",
     "iopub.status.idle": "2023-07-11T17:33:09.664721Z",
     "shell.execute_reply": "2023-07-11T17:33:09.663709Z"
    },
    "papermill": {
     "duration": 0.047143,
     "end_time": "2023-07-11T17:33:09.667105",
     "exception": false,
     "start_time": "2023-07-11T17:33:09.619962",
     "status": "completed"
    },
    "tags": []
   },
   "outputs": [],
   "source": [
    "y_pred_bn=BN.predict(X_test)"
   ]
  },
  {
   "cell_type": "code",
   "execution_count": 30,
   "id": "1bcce522",
   "metadata": {
    "execution": {
     "iopub.execute_input": "2023-07-11T17:33:09.710398Z",
     "iopub.status.busy": "2023-07-11T17:33:09.710049Z",
     "iopub.status.idle": "2023-07-11T17:33:09.716218Z",
     "shell.execute_reply": "2023-07-11T17:33:09.715542Z"
    },
    "papermill": {
     "duration": 0.02731,
     "end_time": "2023-07-11T17:33:09.717807",
     "exception": false,
     "start_time": "2023-07-11T17:33:09.690497",
     "status": "completed"
    },
    "tags": []
   },
   "outputs": [
    {
     "data": {
      "text/plain": [
       "98.44497607655502"
      ]
     },
     "execution_count": 30,
     "metadata": {},
     "output_type": "execute_result"
    }
   ],
   "source": [
    "accuracy_score(y_test,y_pred_bn)*100"
   ]
  },
  {
   "cell_type": "code",
   "execution_count": 31,
   "id": "b6f00d3a",
   "metadata": {
    "execution": {
     "iopub.execute_input": "2023-07-11T17:33:09.753611Z",
     "iopub.status.busy": "2023-07-11T17:33:09.753003Z",
     "iopub.status.idle": "2023-07-11T17:33:09.974078Z",
     "shell.execute_reply": "2023-07-11T17:33:09.972883Z"
    },
    "papermill": {
     "duration": 0.241614,
     "end_time": "2023-07-11T17:33:09.976676",
     "exception": false,
     "start_time": "2023-07-11T17:33:09.735062",
     "status": "completed"
    },
    "tags": []
   },
   "outputs": [
    {
     "data": {
      "text/plain": [
       "<sklearn.metrics._plot.confusion_matrix.ConfusionMatrixDisplay at 0x7f6769e3fac0>"
      ]
     },
     "execution_count": 31,
     "metadata": {},
     "output_type": "execute_result"
    },
    {
     "data": {
      "image/png": "[encoded data removed]",
      "text/plain": [
       "<Figure size 640x480 with 2 Axes>"
      ]
     },
     "metadata": {},
     "output_type": "display_data"
    }
   ],
   "source": [
    "ConfusionMatrixDisplay(confusion_matrix(y_test,y_pred_bn)).plot()"
   ]
  },
  {
   "cell_type": "code",
   "execution_count": 32,
   "id": "4956958d",
   "metadata": {
    "execution": {
     "iopub.execute_input": "2023-07-11T17:33:10.004177Z",
     "iopub.status.busy": "2023-07-11T17:33:10.003408Z",
     "iopub.status.idle": "2023-07-11T17:33:10.124675Z",
     "shell.execute_reply": "2023-07-11T17:33:10.123915Z"
    },
    "papermill": {
     "duration": 0.136921,
     "end_time": "2023-07-11T17:33:10.126382",
     "exception": false,
     "start_time": "2023-07-11T17:33:09.989461",
     "status": "completed"
    },
    "tags": []
   },
   "outputs": [
    {
     "data": {
      "text/html": [
       "<style>#sk-container-id-3 {color: black;background-color: white;}#sk-container-id-3 pre{padding: 0;}#sk-container-id-3 div.sk-toggleable {background-color: white;}#sk-container-id-3 label.sk-toggleable__label {cursor: pointer;display: block;width: 100%;margin-bottom: 0;padding: 0.3em;box-sizing: border-box;text-align: center;}#sk-container-id-3 label.sk-toggleable__label-arrow:before {content: \"▸\";float: left;margin-right: 0.25em;color: #696969;}#sk-container-id-3 label.sk-toggleable__label-arrow:hover:before {color: black;}#sk-container-id-3 div.sk-estimator:hover label.sk-toggleable__label-arrow:before {color: black;}#sk-container-id-3 div.sk-toggleable__content {max-height: 0;max-width: 0;overflow: hidden;text-align: left;background-color: #f0f8ff;}#sk-container-id-3 div.sk-toggleable__content pre {margin: 0.2em;color: black;border-radius: 0.25em;background-color: #f0f8ff;}#sk-container-id-3 input.sk-toggleable__control:checked~div.sk-toggleable__content {max-height: 200px;max-width: 100%;overflow: auto;}#sk-container-id-3 input.sk-toggleable__control:checked~label.sk-toggleable__label-arrow:before {content: \"▾\";}#sk-container-id-3 div.sk-estimator input.sk-toggleable__control:checked~label.sk-toggleable__label {background-color: #d4ebff;}#sk-container-id-3 div.sk-label input.sk-toggleable__control:checked~label.sk-toggleable__label {background-color: #d4ebff;}#sk-container-id-3 input.sk-hidden--visually {border: 0;clip: rect(1px 1px 1px 1px);clip: rect(1px, 1px, 1px, 1px);height: 1px;margin: -1px;overflow: hidden;padding: 0;position: absolute;width: 1px;}#sk-container-id-3 div.sk-estimator {font-family: monospace;background-color: #f0f8ff;border: 1px dotted black;border-radius: 0.25em;box-sizing: border-box;margin-bottom: 0.5em;}#sk-container-id-3 div.sk-estimator:hover {background-color: #d4ebff;}#sk-container-id-3 div.sk-parallel-item::after {content: \"\";width: 100%;border-bottom: 1px solid gray;flex-grow: 1;}#sk-container-id-3 div.sk-label:hover label.sk-toggleable__label {background-color: #d4ebff;}#sk-container-id-3 div.sk-serial::before {content: \"\";position: absolute;border-left: 1px solid gray;box-sizing: border-box;top: 0;bottom: 0;left: 50%;z-index: 0;}#sk-container-id-3 div.sk-serial {display: flex;flex-direction: column;align-items: center;background-color: white;padding-right: 0.2em;padding-left: 0.2em;position: relative;}#sk-container-id-3 div.sk-item {position: relative;z-index: 1;}#sk-container-id-3 div.sk-parallel {display: flex;align-items: stretch;justify-content: center;background-color: white;position: relative;}#sk-container-id-3 div.sk-item::before, #sk-container-id-3 div.sk-parallel-item::before {content: \"\";position: absolute;border-left: 1px solid gray;box-sizing: border-box;top: 0;bottom: 0;left: 50%;z-index: -1;}#sk-container-id-3 div.sk-parallel-item {display: flex;flex-direction: column;z-index: 1;position: relative;background-color: white;}#sk-container-id-3 div.sk-parallel-item:first-child::after {align-self: flex-end;width: 50%;}#sk-container-id-3 div.sk-parallel-item:last-child::after {align-self: flex-start;width: 50%;}#sk-container-id-3 div.sk-parallel-item:only-child::after {width: 0;}#sk-container-id-3 div.sk-dashed-wrapped {border: 1px dashed gray;margin: 0 0.4em 0.5em 0.4em;box-sizing: border-box;padding-bottom: 0.4em;background-color: white;}#sk-container-id-3 div.sk-label label {font-family: monospace;font-weight: bold;display: inline-block;line-height: 1.2em;}#sk-container-id-3 div.sk-label-container {text-align: center;}#sk-container-id-3 div.sk-container {/* jupyter's `normalize.less` sets `[hidden] { display: none; }` but bootstrap.min.css set `[hidden] { display: none !important; }` so we also need the `!important` here to be able to override the default hidden behavior on the sphinx rendered scikit-learn.org. See: https://github.com/scikit-learn/scikit-learn/issues/21755 */display: inline-block !important;position: relative;}#sk-container-id-3 div.sk-text-repr-fallback {display: none;}</style><div id=\"sk-container-id-3\" class=\"sk-top-container\"><div class=\"sk-text-repr-fallback\"><pre>GaussianNB()</pre><b>In a Jupyter environment, please rerun this cell to show the HTML representation or trust the notebook. <br />On GitHub, the HTML representation is unable to render, please try loading this page with nbviewer.org.</b></div><div class=\"sk-container\" hidden><div class=\"sk-item\"><div class=\"sk-estimator sk-toggleable\"><input class=\"sk-toggleable__control sk-hidden--visually\" id=\"sk-estimator-id-3\" type=\"checkbox\" checked><label for=\"sk-estimator-id-3\" class=\"sk-toggleable__label sk-toggleable__label-arrow\">GaussianNB</label><div class=\"sk-toggleable__content\"><pre>GaussianNB()</pre></div></div></div></div></div>"
      ],
      "text/plain": [
       "GaussianNB()"
      ]
     },
     "execution_count": 32,
     "metadata": {},
     "output_type": "execute_result"
    }
   ],
   "source": [
    "GN.fit(X_train,y_train)"
   ]
  },
  {
   "cell_type": "code",
   "execution_count": 33,
   "id": "41c8515c",
   "metadata": {
    "execution": {
     "iopub.execute_input": "2023-07-11T17:33:10.156240Z",
     "iopub.status.busy": "2023-07-11T17:33:10.154786Z",
     "iopub.status.idle": "2023-07-11T17:33:10.203408Z",
     "shell.execute_reply": "2023-07-11T17:33:10.201949Z"
    },
    "papermill": {
     "duration": 0.065919,
     "end_time": "2023-07-11T17:33:10.206178",
     "exception": false,
     "start_time": "2023-07-11T17:33:10.140259",
     "status": "completed"
    },
    "tags": []
   },
   "outputs": [],
   "source": [
    "y_pred_gn=GN.predict(X_test)"
   ]
  },
  {
   "cell_type": "code",
   "execution_count": 34,
   "id": "65152756",
   "metadata": {
    "execution": {
     "iopub.execute_input": "2023-07-11T17:33:10.236185Z",
     "iopub.status.busy": "2023-07-11T17:33:10.235763Z",
     "iopub.status.idle": "2023-07-11T17:33:10.245411Z",
     "shell.execute_reply": "2023-07-11T17:33:10.243646Z"
    },
    "papermill": {
     "duration": 0.027691,
     "end_time": "2023-07-11T17:33:10.248257",
     "exception": false,
     "start_time": "2023-07-11T17:33:10.220566",
     "status": "completed"
    },
    "tags": []
   },
   "outputs": [
    {
     "data": {
      "text/plain": [
       "85.4066985645933"
      ]
     },
     "execution_count": 34,
     "metadata": {},
     "output_type": "execute_result"
    }
   ],
   "source": [
    "accuracy_score(y_test,y_pred_gn)*100"
   ]
  },
  {
   "cell_type": "code",
   "execution_count": 35,
   "id": "16174455",
   "metadata": {
    "execution": {
     "iopub.execute_input": "2023-07-11T17:33:10.277276Z",
     "iopub.status.busy": "2023-07-11T17:33:10.276836Z",
     "iopub.status.idle": "2023-07-11T17:33:10.494540Z",
     "shell.execute_reply": "2023-07-11T17:33:10.493289Z"
    },
    "papermill": {
     "duration": 0.235294,
     "end_time": "2023-07-11T17:33:10.496942",
     "exception": false,
     "start_time": "2023-07-11T17:33:10.261648",
     "status": "completed"
    },
    "tags": []
   },
   "outputs": [
    {
     "data": {
      "text/plain": [
       "<sklearn.metrics._plot.confusion_matrix.ConfusionMatrixDisplay at 0x7f677746c9a0>"
      ]
     },
     "execution_count": 35,
     "metadata": {},
     "output_type": "execute_result"
    },
    {
     "data": {
      "image/png": "[encoded data removed]",
      "text/plain": [
       "<Figure size 640x480 with 2 Axes>"
      ]
     },
     "metadata": {},
     "output_type": "display_data"
    }
   ],
   "source": [
    "ConfusionMatrixDisplay(confusion_matrix(y_test,y_pred_gn)).plot()"
   ]
  },
  {
   "cell_type": "markdown",
   "id": "995200e7",
   "metadata": {
    "papermill": {
     "duration": 0.013127,
     "end_time": "2023-07-11T17:33:10.523588",
     "exception": false,
     "start_time": "2023-07-11T17:33:10.510461",
     "status": "completed"
    },
    "tags": []
   },
   "source": [
    "**Hyper Tuning for MultiNomial**"
   ]
  },
  {
   "cell_type": "code",
   "execution_count": 36,
   "id": "e61bcc35",
   "metadata": {
    "execution": {
     "iopub.execute_input": "2023-07-11T17:33:10.551952Z",
     "iopub.status.busy": "2023-07-11T17:33:10.551539Z",
     "iopub.status.idle": "2023-07-11T17:33:10.556287Z",
     "shell.execute_reply": "2023-07-11T17:33:10.555034Z"
    },
    "papermill": {
     "duration": 0.022158,
     "end_time": "2023-07-11T17:33:10.558905",
     "exception": false,
     "start_time": "2023-07-11T17:33:10.536747",
     "status": "completed"
    },
    "tags": []
   },
   "outputs": [],
   "source": [
    "# Define the parameter grid\n",
    "param_grid = {\n",
    "    'alpha': [0.1, 0.5, 1.0, 2.0],  # Smoothing parameter\n",
    "    'fit_prior': [True, False]       # Whether to learn class prior probabilities or not\n",
    "}"
   ]
  },
  {
   "cell_type": "code",
   "execution_count": 37,
   "id": "28d6de67",
   "metadata": {
    "execution": {
     "iopub.execute_input": "2023-07-11T17:33:10.588829Z",
     "iopub.status.busy": "2023-07-11T17:33:10.588384Z",
     "iopub.status.idle": "2023-07-11T17:33:10.594107Z",
     "shell.execute_reply": "2023-07-11T17:33:10.592219Z"
    },
    "papermill": {
     "duration": 0.022691,
     "end_time": "2023-07-11T17:33:10.596006",
     "exception": false,
     "start_time": "2023-07-11T17:33:10.573315",
     "status": "completed"
    },
    "tags": []
   },
   "outputs": [],
   "source": [
    "# Create a grid search object\n",
    "gs_mn = GridSearchCV(estimator=MN, param_grid=param_grid, cv=5)"
   ]
  },
  {
   "cell_type": "code",
   "execution_count": 38,
   "id": "9df59922",
   "metadata": {
    "execution": {
     "iopub.execute_input": "2023-07-11T17:33:10.624670Z",
     "iopub.status.busy": "2023-07-11T17:33:10.624282Z",
     "iopub.status.idle": "2023-07-11T17:33:15.037049Z",
     "shell.execute_reply": "2023-07-11T17:33:15.035270Z"
    },
    "papermill": {
     "duration": 4.430193,
     "end_time": "2023-07-11T17:33:15.039685",
     "exception": false,
     "start_time": "2023-07-11T17:33:10.609492",
     "status": "completed"
    },
    "tags": []
   },
   "outputs": [
    {
     "name": "stdout",
     "output_type": "stream",
     "text": [
      "Best Hyperparameters:  {'alpha': 1.0, 'fit_prior': True}\n",
      "Best Score:  0.9829507853571744\n"
     ]
    }
   ],
   "source": [
    "# Fit the grid search to the data\n",
    "gs_mn.fit(X, y)\n",
    "\n",
    "# Get the best hyperparameters and the corresponding score\n",
    "best_params = gs_mn.best_params_\n",
    "best_score = gs_mn.best_score_\n",
    "\n",
    "# Print the best hyperparameters and the corresponding score\n",
    "print(\"Best Hyperparameters: \", best_params)\n",
    "print(\"Best Score: \", best_score)"
   ]
  },
  {
   "cell_type": "code",
   "execution_count": 39,
   "id": "d80353ba",
   "metadata": {
    "execution": {
     "iopub.execute_input": "2023-07-11T17:33:15.068671Z",
     "iopub.status.busy": "2023-07-11T17:33:15.068258Z",
     "iopub.status.idle": "2023-07-11T17:33:15.075143Z",
     "shell.execute_reply": "2023-07-11T17:33:15.073276Z"
    },
    "papermill": {
     "duration": 0.024369,
     "end_time": "2023-07-11T17:33:15.077718",
     "exception": false,
     "start_time": "2023-07-11T17:33:15.053349",
     "status": "completed"
    },
    "tags": []
   },
   "outputs": [],
   "source": [
    "MN=MultinomialNB(alpha=1.0, fit_prior= True)"
   ]
  },
  {
   "cell_type": "code",
   "execution_count": 40,
   "id": "c2f6f598",
   "metadata": {
    "execution": {
     "iopub.execute_input": "2023-07-11T17:33:15.107030Z",
     "iopub.status.busy": "2023-07-11T17:33:15.106188Z",
     "iopub.status.idle": "2023-07-11T17:33:15.182572Z",
     "shell.execute_reply": "2023-07-11T17:33:15.181293Z"
    },
    "papermill": {
     "duration": 0.092896,
     "end_time": "2023-07-11T17:33:15.184431",
     "exception": false,
     "start_time": "2023-07-11T17:33:15.091535",
     "status": "completed"
    },
    "tags": []
   },
   "outputs": [
    {
     "data": {
      "text/html": [
       "<style>#sk-container-id-4 {color: black;background-color: white;}#sk-container-id-4 pre{padding: 0;}#sk-container-id-4 div.sk-toggleable {background-color: white;}#sk-container-id-4 label.sk-toggleable__label {cursor: pointer;display: block;width: 100%;margin-bottom: 0;padding: 0.3em;box-sizing: border-box;text-align: center;}#sk-container-id-4 label.sk-toggleable__label-arrow:before {content: \"▸\";float: left;margin-right: 0.25em;color: #696969;}#sk-container-id-4 label.sk-toggleable__label-arrow:hover:before {color: black;}#sk-container-id-4 div.sk-estimator:hover label.sk-toggleable__label-arrow:before {color: black;}#sk-container-id-4 div.sk-toggleable__content {max-height: 0;max-width: 0;overflow: hidden;text-align: left;background-color: #f0f8ff;}#sk-container-id-4 div.sk-toggleable__content pre {margin: 0.2em;color: black;border-radius: 0.25em;background-color: #f0f8ff;}#sk-container-id-4 input.sk-toggleable__control:checked~div.sk-toggleable__content {max-height: 200px;max-width: 100%;overflow: auto;}#sk-container-id-4 input.sk-toggleable__control:checked~label.sk-toggleable__label-arrow:before {content: \"▾\";}#sk-container-id-4 div.sk-estimator input.sk-toggleable__control:checked~label.sk-toggleable__label {background-color: #d4ebff;}#sk-container-id-4 div.sk-label input.sk-toggleable__control:checked~label.sk-toggleable__label {background-color: #d4ebff;}#sk-container-id-4 input.sk-hidden--visually {border: 0;clip: rect(1px 1px 1px 1px);clip: rect(1px, 1px, 1px, 1px);height: 1px;margin: -1px;overflow: hidden;padding: 0;position: absolute;width: 1px;}#sk-container-id-4 div.sk-estimator {font-family: monospace;background-color: #f0f8ff;border: 1px dotted black;border-radius: 0.25em;box-sizing: border-box;margin-bottom: 0.5em;}#sk-container-id-4 div.sk-estimator:hover {background-color: #d4ebff;}#sk-container-id-4 div.sk-parallel-item::after {content: \"\";width: 100%;border-bottom: 1px solid gray;flex-grow: 1;}#sk-container-id-4 div.sk-label:hover label.sk-toggleable__label {background-color: #d4ebff;}#sk-container-id-4 div.sk-serial::before {content: \"\";position: absolute;border-left: 1px solid gray;box-sizing: border-box;top: 0;bottom: 0;left: 50%;z-index: 0;}#sk-container-id-4 div.sk-serial {display: flex;flex-direction: column;align-items: center;background-color: white;padding-right: 0.2em;padding-left: 0.2em;position: relative;}#sk-container-id-4 div.sk-item {position: relative;z-index: 1;}#sk-container-id-4 div.sk-parallel {display: flex;align-items: stretch;justify-content: center;background-color: white;position: relative;}#sk-container-id-4 div.sk-item::before, #sk-container-id-4 div.sk-parallel-item::before {content: \"\";position: absolute;border-left: 1px solid gray;box-sizing: border-box;top: 0;bottom: 0;left: 50%;z-index: -1;}#sk-container-id-4 div.sk-parallel-item {display: flex;flex-direction: column;z-index: 1;position: relative;background-color: white;}#sk-container-id-4 div.sk-parallel-item:first-child::after {align-self: flex-end;width: 50%;}#sk-container-id-4 div.sk-parallel-item:last-child::after {align-self: flex-start;width: 50%;}#sk-container-id-4 div.sk-parallel-item:only-child::after {width: 0;}#sk-container-id-4 div.sk-dashed-wrapped {border: 1px dashed gray;margin: 0 0.4em 0.5em 0.4em;box-sizing: border-box;padding-bottom: 0.4em;background-color: white;}#sk-container-id-4 div.sk-label label {font-family: monospace;font-weight: bold;display: inline-block;line-height: 1.2em;}#sk-container-id-4 div.sk-label-container {text-align: center;}#sk-container-id-4 div.sk-container {/* jupyter's `normalize.less` sets `[hidden] { display: none; }` but bootstrap.min.css set `[hidden] { display: none !important; }` so we also need the `!important` here to be able to override the default hidden behavior on the sphinx rendered scikit-learn.org. See: https://github.com/scikit-learn/scikit-learn/issues/21755 */display: inline-block !important;position: relative;}#sk-container-id-4 div.sk-text-repr-fallback {display: none;}</style><div id=\"sk-container-id-4\" class=\"sk-top-container\"><div class=\"sk-text-repr-fallback\"><pre>MultinomialNB()</pre><b>In a Jupyter environment, please rerun this cell to show the HTML representation or trust the notebook. <br />On GitHub, the HTML representation is unable to render, please try loading this page with nbviewer.org.</b></div><div class=\"sk-container\" hidden><div class=\"sk-item\"><div class=\"sk-estimator sk-toggleable\"><input class=\"sk-toggleable__control sk-hidden--visually\" id=\"sk-estimator-id-4\" type=\"checkbox\" checked><label for=\"sk-estimator-id-4\" class=\"sk-toggleable__label sk-toggleable__label-arrow\">MultinomialNB</label><div class=\"sk-toggleable__content\"><pre>MultinomialNB()</pre></div></div></div></div></div>"
      ],
      "text/plain": [
       "MultinomialNB()"
      ]
     },
     "execution_count": 40,
     "metadata": {},
     "output_type": "execute_result"
    }
   ],
   "source": [
    "MN.fit(X_train,y_train)"
   ]
  },
  {
   "cell_type": "code",
   "execution_count": 41,
   "id": "588ee722",
   "metadata": {
    "execution": {
     "iopub.execute_input": "2023-07-11T17:33:15.213550Z",
     "iopub.status.busy": "2023-07-11T17:33:15.212711Z",
     "iopub.status.idle": "2023-07-11T17:33:15.224793Z",
     "shell.execute_reply": "2023-07-11T17:33:15.223748Z"
    },
    "papermill": {
     "duration": 0.02891,
     "end_time": "2023-07-11T17:33:15.226985",
     "exception": false,
     "start_time": "2023-07-11T17:33:15.198075",
     "status": "completed"
    },
    "tags": []
   },
   "outputs": [],
   "source": [
    "y_pred_mng=MN.predict(X_test)"
   ]
  },
  {
   "cell_type": "code",
   "execution_count": 42,
   "id": "bd221e6c",
   "metadata": {
    "execution": {
     "iopub.execute_input": "2023-07-11T17:33:15.265773Z",
     "iopub.status.busy": "2023-07-11T17:33:15.265371Z",
     "iopub.status.idle": "2023-07-11T17:33:15.272416Z",
     "shell.execute_reply": "2023-07-11T17:33:15.271586Z"
    },
    "papermill": {
     "duration": 0.02946,
     "end_time": "2023-07-11T17:33:15.274167",
     "exception": false,
     "start_time": "2023-07-11T17:33:15.244707",
     "status": "completed"
    },
    "tags": []
   },
   "outputs": [
    {
     "data": {
      "text/plain": [
       "0.9814593301435407"
      ]
     },
     "execution_count": 42,
     "metadata": {},
     "output_type": "execute_result"
    }
   ],
   "source": [
    "accuracy_score(y_test,y_pred_mng)"
   ]
  },
  {
   "cell_type": "code",
   "execution_count": 43,
   "id": "a992d9d8",
   "metadata": {
    "execution": {
     "iopub.execute_input": "2023-07-11T17:33:15.310138Z",
     "iopub.status.busy": "2023-07-11T17:33:15.309802Z",
     "iopub.status.idle": "2023-07-11T17:33:15.543864Z",
     "shell.execute_reply": "2023-07-11T17:33:15.542943Z"
    },
    "papermill": {
     "duration": 0.254194,
     "end_time": "2023-07-11T17:33:15.545640",
     "exception": false,
     "start_time": "2023-07-11T17:33:15.291446",
     "status": "completed"
    },
    "tags": []
   },
   "outputs": [
    {
     "data": {
      "text/plain": [
       "<sklearn.metrics._plot.confusion_matrix.ConfusionMatrixDisplay at 0x7f6769e109d0>"
      ]
     },
     "execution_count": 43,
     "metadata": {},
     "output_type": "execute_result"
    },
    {
     "data": {
      "image/png": "[encoded data removed]",
      "text/plain": [
       "<Figure size 640x480 with 2 Axes>"
      ]
     },
     "metadata": {},
     "output_type": "display_data"
    }
   ],
   "source": [
    "ConfusionMatrixDisplay(confusion_matrix(y_test,y_pred_mng)).plot()"
   ]
  },
  {
   "cell_type": "markdown",
   "id": "ecb8d051",
   "metadata": {
    "papermill": {
     "duration": 0.013822,
     "end_time": "2023-07-11T17:33:15.574306",
     "exception": false,
     "start_time": "2023-07-11T17:33:15.560484",
     "status": "completed"
    },
    "tags": []
   },
   "source": [
    "**ANN Implementation**"
   ]
  },
  {
   "cell_type": "code",
   "execution_count": 44,
   "id": "dac89b0e",
   "metadata": {
    "execution": {
     "iopub.execute_input": "2023-07-11T17:33:15.606233Z",
     "iopub.status.busy": "2023-07-11T17:33:15.605009Z",
     "iopub.status.idle": "2023-07-11T17:33:25.806311Z",
     "shell.execute_reply": "2023-07-11T17:33:25.804809Z"
    },
    "papermill": {
     "duration": 10.219732,
     "end_time": "2023-07-11T17:33:25.809155",
     "exception": false,
     "start_time": "2023-07-11T17:33:15.589423",
     "status": "completed"
    },
    "tags": []
   },
   "outputs": [
    {
     "name": "stderr",
     "output_type": "stream",
     "text": [
      "/opt/conda/lib/python3.10/site-packages/tensorflow_io/python/ops/__init__.py:98: UserWarning: unable to load libtensorflow_io_plugins.so: unable to open file: libtensorflow_io_plugins.so, from paths: ['/opt/conda/lib/python3.10/site-packages/tensorflow_io/python/ops/libtensorflow_io_plugins.so']\n",
      "caused by: ['/opt/conda/lib/python3.10/site-packages/tensorflow_io/python/ops/libtensorflow_io_plugins.so: undefined symbol: _ZN3tsl6StatusC1EN10tensorflow5error4CodeESt17basic_string_viewIcSt11char_traitsIcEENS_14SourceLocationE']\n",
      "  warnings.warn(f\"unable to load libtensorflow_io_plugins.so: {e}\")\n",
      "/opt/conda/lib/python3.10/site-packages/tensorflow_io/python/ops/__init__.py:104: UserWarning: file system plugins are not loaded: unable to open file: libtensorflow_io.so, from paths: ['/opt/conda/lib/python3.10/site-packages/tensorflow_io/python/ops/libtensorflow_io.so']\n",
      "caused by: ['/opt/conda/lib/python3.10/site-packages/tensorflow_io/python/ops/libtensorflow_io.so: undefined symbol: _ZTVN10tensorflow13GcsFileSystemE']\n",
      "  warnings.warn(f\"file system plugins are not loaded: {e}\")\n"
     ]
    }
   ],
   "source": [
    "import tensorflow\n",
    "from tensorflow import keras\n",
    "from tensorflow.keras import layers,losses\n",
    "from tensorflow.keras.models import Sequential\n",
    "from tensorflow.keras import callbacks"
   ]
  },
  {
   "cell_type": "code",
   "execution_count": 45,
   "id": "df9586ed",
   "metadata": {
    "execution": {
     "iopub.execute_input": "2023-07-11T17:33:25.839324Z",
     "iopub.status.busy": "2023-07-11T17:33:25.838287Z",
     "iopub.status.idle": "2023-07-11T17:33:25.947546Z",
     "shell.execute_reply": "2023-07-11T17:33:25.946466Z"
    },
    "papermill": {
     "duration": 0.126621,
     "end_time": "2023-07-11T17:33:25.949889",
     "exception": false,
     "start_time": "2023-07-11T17:33:25.823268",
     "status": "completed"
    },
    "tags": []
   },
   "outputs": [],
   "source": [
    "model=Sequential()"
   ]
  },
  {
   "cell_type": "code",
   "execution_count": 46,
   "id": "0816802c",
   "metadata": {
    "execution": {
     "iopub.execute_input": "2023-07-11T17:33:25.981214Z",
     "iopub.status.busy": "2023-07-11T17:33:25.980496Z",
     "iopub.status.idle": "2023-07-11T17:33:25.992000Z",
     "shell.execute_reply": "2023-07-11T17:33:25.991249Z"
    },
    "papermill": {
     "duration": 0.029262,
     "end_time": "2023-07-11T17:33:25.994139",
     "exception": false,
     "start_time": "2023-07-11T17:33:25.964877",
     "status": "completed"
    },
    "tags": []
   },
   "outputs": [],
   "source": [
    "model.add(layers.Dense(32,activation='relu'))\n",
    "model.add(layers.Dense(1,activation='sigmoid'))"
   ]
  },
  {
   "cell_type": "code",
   "execution_count": 47,
   "id": "d5ddae3e",
   "metadata": {
    "execution": {
     "iopub.execute_input": "2023-07-11T17:33:26.023350Z",
     "iopub.status.busy": "2023-07-11T17:33:26.022872Z",
     "iopub.status.idle": "2023-07-11T17:33:26.053992Z",
     "shell.execute_reply": "2023-07-11T17:33:26.052136Z"
    },
    "papermill": {
     "duration": 0.048958,
     "end_time": "2023-07-11T17:33:26.056929",
     "exception": false,
     "start_time": "2023-07-11T17:33:26.007971",
     "status": "completed"
    },
    "tags": []
   },
   "outputs": [],
   "source": [
    "model.compile(loss=losses.binary_crossentropy,\n",
    "             optimizer='adam',\n",
    "             metrics=['accuracy'])"
   ]
  },
  {
   "cell_type": "code",
   "execution_count": 48,
   "id": "df159ec1",
   "metadata": {
    "execution": {
     "iopub.execute_input": "2023-07-11T17:33:26.088422Z",
     "iopub.status.busy": "2023-07-11T17:33:26.087813Z",
     "iopub.status.idle": "2023-07-11T17:33:26.092471Z",
     "shell.execute_reply": "2023-07-11T17:33:26.091816Z"
    },
    "papermill": {
     "duration": 0.022339,
     "end_time": "2023-07-11T17:33:26.094462",
     "exception": false,
     "start_time": "2023-07-11T17:33:26.072123",
     "status": "completed"
    },
    "tags": []
   },
   "outputs": [],
   "source": [
    "callback = callbacks.EarlyStopping(\n",
    "    monitor=\"val_loss\",\n",
    "    min_delta=0.00001,\n",
    "    patience=20,\n",
    "    verbose=1,\n",
    "    mode=\"auto\",\n",
    "    baseline=None,\n",
    "    restore_best_weights=False\n",
    ")"
   ]
  },
  {
   "cell_type": "code",
   "execution_count": 49,
   "id": "274f7cf5",
   "metadata": {
    "execution": {
     "iopub.execute_input": "2023-07-11T17:33:26.124316Z",
     "iopub.status.busy": "2023-07-11T17:33:26.123984Z",
     "iopub.status.idle": "2023-07-11T17:33:32.670370Z",
     "shell.execute_reply": "2023-07-11T17:33:32.668921Z"
    },
    "papermill": {
     "duration": 6.564328,
     "end_time": "2023-07-11T17:33:32.672995",
     "exception": false,
     "start_time": "2023-07-11T17:33:26.108667",
     "status": "completed"
    },
    "tags": []
   },
   "outputs": [
    {
     "name": "stdout",
     "output_type": "stream",
     "text": [
      "Epoch 1/50\n",
      "8/8 [==============================] - 1s 43ms/step - loss: 0.6606 - accuracy: 0.8090 - val_loss: 0.6225 - val_accuracy: 0.9426\n",
      "Epoch 2/50\n",
      "8/8 [==============================] - 0s 13ms/step - loss: 0.5894 - accuracy: 0.9554 - val_loss: 0.5561 - val_accuracy: 0.9575\n",
      "Epoch 3/50\n",
      "8/8 [==============================] - 0s 12ms/step - loss: 0.5203 - accuracy: 0.9638 - val_loss: 0.4893 - val_accuracy: 0.9665\n",
      "Epoch 4/50\n",
      "8/8 [==============================] - 0s 14ms/step - loss: 0.4520 - accuracy: 0.9674 - val_loss: 0.4266 - val_accuracy: 0.9683\n",
      "Epoch 5/50\n",
      "8/8 [==============================] - 0s 14ms/step - loss: 0.3902 - accuracy: 0.9715 - val_loss: 0.3708 - val_accuracy: 0.9713\n",
      "Epoch 6/50\n",
      "8/8 [==============================] - 0s 12ms/step - loss: 0.3364 - accuracy: 0.9749 - val_loss: 0.3233 - val_accuracy: 0.9743\n",
      "Epoch 7/50\n",
      "8/8 [==============================] - 0s 13ms/step - loss: 0.2907 - accuracy: 0.9782 - val_loss: 0.2837 - val_accuracy: 0.9767\n",
      "Epoch 8/50\n",
      "8/8 [==============================] - 0s 12ms/step - loss: 0.2529 - accuracy: 0.9810 - val_loss: 0.2511 - val_accuracy: 0.9791\n",
      "Epoch 9/50\n",
      "8/8 [==============================] - 0s 19ms/step - loss: 0.2216 - accuracy: 0.9831 - val_loss: 0.2242 - val_accuracy: 0.9809\n",
      "Epoch 10/50\n",
      "8/8 [==============================] - 0s 14ms/step - loss: 0.1955 - accuracy: 0.9851 - val_loss: 0.2021 - val_accuracy: 0.9821\n",
      "Epoch 11/50\n",
      "8/8 [==============================] - 0s 14ms/step - loss: 0.1738 - accuracy: 0.9872 - val_loss: 0.1837 - val_accuracy: 0.9827\n",
      "Epoch 12/50\n",
      "8/8 [==============================] - 0s 14ms/step - loss: 0.1555 - accuracy: 0.9890 - val_loss: 0.1684 - val_accuracy: 0.9833\n",
      "Epoch 13/50\n",
      "8/8 [==============================] - 0s 13ms/step - loss: 0.1401 - accuracy: 0.9890 - val_loss: 0.1554 - val_accuracy: 0.9833\n",
      "Epoch 14/50\n",
      "8/8 [==============================] - 0s 13ms/step - loss: 0.1269 - accuracy: 0.9895 - val_loss: 0.1444 - val_accuracy: 0.9833\n",
      "Epoch 15/50\n",
      "8/8 [==============================] - 0s 14ms/step - loss: 0.1154 - accuracy: 0.9903 - val_loss: 0.1350 - val_accuracy: 0.9839\n",
      "Epoch 16/50\n",
      "8/8 [==============================] - 0s 12ms/step - loss: 0.1055 - accuracy: 0.9910 - val_loss: 0.1270 - val_accuracy: 0.9839\n",
      "Epoch 17/50\n",
      "8/8 [==============================] - 0s 14ms/step - loss: 0.0969 - accuracy: 0.9915 - val_loss: 0.1200 - val_accuracy: 0.9833\n",
      "Epoch 18/50\n",
      "8/8 [==============================] - 0s 13ms/step - loss: 0.0893 - accuracy: 0.9923 - val_loss: 0.1140 - val_accuracy: 0.9839\n",
      "Epoch 19/50\n",
      "8/8 [==============================] - 0s 14ms/step - loss: 0.0825 - accuracy: 0.9923 - val_loss: 0.1086 - val_accuracy: 0.9839\n",
      "Epoch 20/50\n",
      "8/8 [==============================] - 0s 14ms/step - loss: 0.0765 - accuracy: 0.9931 - val_loss: 0.1039 - val_accuracy: 0.9833\n",
      "Epoch 21/50\n",
      "8/8 [==============================] - 0s 13ms/step - loss: 0.0712 - accuracy: 0.9936 - val_loss: 0.0998 - val_accuracy: 0.9833\n",
      "Epoch 22/50\n",
      "8/8 [==============================] - 0s 13ms/step - loss: 0.0663 - accuracy: 0.9944 - val_loss: 0.0962 - val_accuracy: 0.9833\n",
      "Epoch 23/50\n",
      "8/8 [==============================] - 0s 13ms/step - loss: 0.0620 - accuracy: 0.9946 - val_loss: 0.0929 - val_accuracy: 0.9833\n",
      "Epoch 24/50\n",
      "8/8 [==============================] - 0s 13ms/step - loss: 0.0581 - accuracy: 0.9954 - val_loss: 0.0899 - val_accuracy: 0.9833\n",
      "Epoch 25/50\n",
      "8/8 [==============================] - 0s 12ms/step - loss: 0.0545 - accuracy: 0.9954 - val_loss: 0.0873 - val_accuracy: 0.9833\n",
      "Epoch 26/50\n",
      "8/8 [==============================] - 0s 14ms/step - loss: 0.0513 - accuracy: 0.9956 - val_loss: 0.0850 - val_accuracy: 0.9833\n",
      "Epoch 27/50\n",
      "8/8 [==============================] - 0s 13ms/step - loss: 0.0483 - accuracy: 0.9962 - val_loss: 0.0828 - val_accuracy: 0.9833\n",
      "Epoch 28/50\n",
      "8/8 [==============================] - 0s 16ms/step - loss: 0.0456 - accuracy: 0.9964 - val_loss: 0.0809 - val_accuracy: 0.9839\n",
      "Epoch 29/50\n",
      "8/8 [==============================] - 0s 15ms/step - loss: 0.0431 - accuracy: 0.9964 - val_loss: 0.0792 - val_accuracy: 0.9839\n",
      "Epoch 30/50\n",
      "8/8 [==============================] - 0s 14ms/step - loss: 0.0408 - accuracy: 0.9964 - val_loss: 0.0776 - val_accuracy: 0.9839\n",
      "Epoch 31/50\n",
      "8/8 [==============================] - 0s 17ms/step - loss: 0.0387 - accuracy: 0.9967 - val_loss: 0.0761 - val_accuracy: 0.9839\n",
      "Epoch 32/50\n",
      "8/8 [==============================] - 0s 15ms/step - loss: 0.0368 - accuracy: 0.9969 - val_loss: 0.0748 - val_accuracy: 0.9839\n",
      "Epoch 33/50\n",
      "8/8 [==============================] - 0s 13ms/step - loss: 0.0350 - accuracy: 0.9969 - val_loss: 0.0736 - val_accuracy: 0.9839\n",
      "Epoch 34/50\n",
      "8/8 [==============================] - 0s 14ms/step - loss: 0.0333 - accuracy: 0.9972 - val_loss: 0.0725 - val_accuracy: 0.9839\n",
      "Epoch 35/50\n",
      "8/8 [==============================] - 0s 14ms/step - loss: 0.0318 - accuracy: 0.9974 - val_loss: 0.0716 - val_accuracy: 0.9839\n",
      "Epoch 36/50\n",
      "8/8 [==============================] - 0s 12ms/step - loss: 0.0303 - accuracy: 0.9974 - val_loss: 0.0706 - val_accuracy: 0.9839\n",
      "Epoch 37/50\n",
      "8/8 [==============================] - 0s 13ms/step - loss: 0.0290 - accuracy: 0.9974 - val_loss: 0.0698 - val_accuracy: 0.9844\n",
      "Epoch 38/50\n",
      "8/8 [==============================] - 0s 14ms/step - loss: 0.0277 - accuracy: 0.9974 - val_loss: 0.0690 - val_accuracy: 0.9839\n",
      "Epoch 39/50\n",
      "8/8 [==============================] - 0s 12ms/step - loss: 0.0266 - accuracy: 0.9974 - val_loss: 0.0683 - val_accuracy: 0.9844\n",
      "Epoch 40/50\n",
      "8/8 [==============================] - 0s 12ms/step - loss: 0.0255 - accuracy: 0.9979 - val_loss: 0.0678 - val_accuracy: 0.9839\n",
      "Epoch 41/50\n",
      "8/8 [==============================] - 0s 12ms/step - loss: 0.0244 - accuracy: 0.9979 - val_loss: 0.0671 - val_accuracy: 0.9839\n",
      "Epoch 42/50\n",
      "8/8 [==============================] - 0s 12ms/step - loss: 0.0235 - accuracy: 0.9979 - val_loss: 0.0666 - val_accuracy: 0.9839\n",
      "Epoch 43/50\n",
      "8/8 [==============================] - 0s 13ms/step - loss: 0.0226 - accuracy: 0.9982 - val_loss: 0.0662 - val_accuracy: 0.9839\n",
      "Epoch 44/50\n",
      "8/8 [==============================] - 0s 12ms/step - loss: 0.0217 - accuracy: 0.9982 - val_loss: 0.0657 - val_accuracy: 0.9839\n",
      "Epoch 45/50\n",
      "8/8 [==============================] - 0s 13ms/step - loss: 0.0209 - accuracy: 0.9985 - val_loss: 0.0653 - val_accuracy: 0.9839\n",
      "Epoch 46/50\n",
      "8/8 [==============================] - 0s 12ms/step - loss: 0.0202 - accuracy: 0.9985 - val_loss: 0.0649 - val_accuracy: 0.9839\n",
      "Epoch 47/50\n",
      "8/8 [==============================] - 0s 14ms/step - loss: 0.0195 - accuracy: 0.9985 - val_loss: 0.0646 - val_accuracy: 0.9839\n",
      "Epoch 48/50\n",
      "8/8 [==============================] - 0s 14ms/step - loss: 0.0188 - accuracy: 0.9985 - val_loss: 0.0642 - val_accuracy: 0.9839\n",
      "Epoch 49/50\n",
      "8/8 [==============================] - 0s 14ms/step - loss: 0.0181 - accuracy: 0.9985 - val_loss: 0.0639 - val_accuracy: 0.9839\n",
      "Epoch 50/50\n",
      "8/8 [==============================] - 0s 15ms/step - loss: 0.0175 - accuracy: 0.9985 - val_loss: 0.0637 - val_accuracy: 0.9839\n"
     ]
    }
   ],
   "source": [
    "history=model.fit(X_train,y_train,epochs=50,validation_data=(X_test,y_test),batch_size=500,callbacks=callback)"
   ]
  },
  {
   "cell_type": "code",
   "execution_count": 50,
   "id": "c2e7aca8",
   "metadata": {
    "execution": {
     "iopub.execute_input": "2023-07-11T17:33:32.723908Z",
     "iopub.status.busy": "2023-07-11T17:33:32.723525Z",
     "iopub.status.idle": "2023-07-11T17:33:33.018265Z",
     "shell.execute_reply": "2023-07-11T17:33:33.016873Z"
    },
    "papermill": {
     "duration": 0.322766,
     "end_time": "2023-07-11T17:33:33.020616",
     "exception": false,
     "start_time": "2023-07-11T17:33:32.697850",
     "status": "completed"
    },
    "tags": []
   },
   "outputs": [
    {
     "name": "stdout",
     "output_type": "stream",
     "text": [
      "53/53 [==============================] - 0s 2ms/step\n"
     ]
    }
   ],
   "source": [
    "y_pred_ann=model.predict(X_test)"
   ]
  },
  {
   "cell_type": "code",
   "execution_count": 51,
   "id": "9eda6fc8",
   "metadata": {
    "execution": {
     "iopub.execute_input": "2023-07-11T17:33:33.074788Z",
     "iopub.status.busy": "2023-07-11T17:33:33.073919Z",
     "iopub.status.idle": "2023-07-11T17:33:33.310104Z",
     "shell.execute_reply": "2023-07-11T17:33:33.308922Z"
    },
    "papermill": {
     "duration": 0.266125,
     "end_time": "2023-07-11T17:33:33.312432",
     "exception": false,
     "start_time": "2023-07-11T17:33:33.046307",
     "status": "completed"
    },
    "tags": []
   },
   "outputs": [
    {
     "data": {
      "text/plain": [
       "<matplotlib.legend.Legend at 0x7f670839b1c0>"
      ]
     },
     "execution_count": 51,
     "metadata": {},
     "output_type": "execute_result"
    },
    {
     "data": {
      "image/png": "[encoded data removed]",
      "text/plain": [
       "<Figure size 640x480 with 1 Axes>"
      ]
     },
     "metadata": {},
     "output_type": "display_data"
    }
   ],
   "source": [
    "plt.plot(history.history['accuracy'],label=\"Train Accuracy\")\n",
    "plt.plot(history.history['val_accuracy'],label=\"Test Accuracy\")\n",
    "plt.xlabel(\"No. of Epochs\")\n",
    "plt.ylabel('Accuracy')\n",
    "plt.legend()"
   ]
  },
  {
   "cell_type": "code",
   "execution_count": 52,
   "id": "8678a59b",
   "metadata": {
    "execution": {
     "iopub.execute_input": "2023-07-11T17:33:33.367216Z",
     "iopub.status.busy": "2023-07-11T17:33:33.366564Z",
     "iopub.status.idle": "2023-07-11T17:33:33.608329Z",
     "shell.execute_reply": "2023-07-11T17:33:33.607375Z"
    },
    "papermill": {
     "duration": 0.272773,
     "end_time": "2023-07-11T17:33:33.610832",
     "exception": false,
     "start_time": "2023-07-11T17:33:33.338059",
     "status": "completed"
    },
    "tags": []
   },
   "outputs": [
    {
     "data": {
      "text/plain": [
       "<matplotlib.legend.Legend at 0x7f6708431e70>"
      ]
     },
     "execution_count": 52,
     "metadata": {},
     "output_type": "execute_result"
    },
    {
     "data": {
      "image/png": "[encoded data removed]",
      "text/plain": [
       "<Figure size 640x480 with 1 Axes>"
      ]
     },
     "metadata": {},
     "output_type": "display_data"
    }
   ],
   "source": [
    "plt.plot(history.history['loss'],label=\"Train loss\")\n",
    "plt.plot(history.history['val_loss'],label=\"Test loss\")\n",
    "plt.xlabel(\"No. of Epochs\")\n",
    "plt.ylabel('Loss')\n",
    "plt.legend()"
   ]
  },
  {
   "cell_type": "code",
   "execution_count": null,
   "id": "4edda14f",
   "metadata": {
    "papermill": {
     "duration": 0.025099,
     "end_time": "2023-07-11T17:33:33.662127",
     "exception": false,
     "start_time": "2023-07-11T17:33:33.637028",
     "status": "completed"
    },
    "tags": []
   },
   "outputs": [],
   "source": []
  }
 ],
 "metadata": {
  "kernelspec": {
   "display_name": "Python 3",
   "language": "python",
   "name": "python3"
  },
  "language_info": {
   "codemirror_mode": {
    "name": "ipython",
    "version": 3
   },
   "file_extension": ".py",
   "mimetype": "text/x-python",
   "name": "python",
   "nbconvert_exporter": "python",
   "pygments_lexer": "ipython3",
   "version": "3.10.12"
  },
  "papermill": {
   "default_parameters": {},
   "duration": 50.54265,
   "end_time": "2023-07-11T17:33:36.814682",
   "environment_variables": {},
   "exception": null,
   "input_path": "__notebook__.ipynb",
   "output_path": "__notebook__.ipynb",
   "parameters": {},
   "start_time": "2023-07-11T17:32:46.272032",
   "version": "2.4.0"
  }
 },
 "nbformat": 4,
 "nbformat_minor": 5
}

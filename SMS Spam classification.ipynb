{
 "cells": [
  {
   "cell_type": "code",
   "execution_count": 1,
   "id": "b667705b",
   "metadata": {
    "_cell_guid": "b1076dfc-b9ad-4769-8c92-a6c4dae69d19",
    "_uuid": "8f2839f25d086af736a60e9eeb907d3b93b6e0e5",
    "execution": {
     "iopub.execute_input": "2023-07-11T17:47:48.536338Z",
     "iopub.status.busy": "2023-07-11T17:47:48.535816Z",
     "iopub.status.idle": "2023-07-11T17:47:48.577416Z",
     "shell.execute_reply": "2023-07-11T17:47:48.575807Z"
    },
    "papermill": {
     "duration": 0.066181,
     "end_time": "2023-07-11T17:47:48.580910",
     "exception": false,
     "start_time": "2023-07-11T17:47:48.514729",
     "status": "completed"
    },
    "tags": []
   },
   "outputs": [
    {
     "name": "stdout",
     "output_type": "stream",
     "text": [
      "/kaggle/input/spam-text-message-classification/SPAM text message 20170820 - Data.csv\n"
     ]
    }
   ],
   "source": [
    "# This Python 3 environment comes with many helpful analytics libraries installed\n",
    "# It is defined by the kaggle/python Docker image: https://github.com/kaggle/docker-python\n",
    "# For example, here's several helpful packages to load\n",
    "\n",
    "import numpy as np # linear algebra\n",
    "import pandas as pd # data processing, CSV file I/O (e.g. pd.read_csv)\n",
    "\n",
    "# Input data files are available in the read-only \"../input/\" directory\n",
    "# For example, running this (by clicking run or pressing Shift+Enter) will list all files under the input directory\n",
    "\n",
    "import os\n",
    "for dirname, _, filenames in os.walk('/kaggle/input'):\n",
    "    for filename in filenames:\n",
    "        print(os.path.join(dirname, filename))\n",
    "\n",
    "# You can write up to 20GB to the current directory (/kaggle/working/) that gets preserved as output when you create a version using \"Save & Run All\" \n",
    "# You can also write temporary files to /kaggle/temp/, but they won't be saved outside of the current session"
   ]
  },
  {
   "cell_type": "code",
   "execution_count": 2,
   "id": "7711fb2e",
   "metadata": {
    "execution": {
     "iopub.execute_input": "2023-07-11T17:47:48.620056Z",
     "iopub.status.busy": "2023-07-11T17:47:48.619659Z",
     "iopub.status.idle": "2023-07-11T17:47:48.676904Z",
     "shell.execute_reply": "2023-07-11T17:47:48.675994Z"
    },
    "papermill": {
     "duration": 0.080592,
     "end_time": "2023-07-11T17:47:48.679861",
     "exception": false,
     "start_time": "2023-07-11T17:47:48.599269",
     "status": "completed"
    },
    "tags": []
   },
   "outputs": [],
   "source": [
    "df=pd.read_csv('/kaggle/input/spam-text-message-classification/SPAM text message 20170820 - Data.csv')"
   ]
  },
  {
   "cell_type": "code",
   "execution_count": 3,
   "id": "1b1feac9",
   "metadata": {
    "execution": {
     "iopub.execute_input": "2023-07-11T17:47:48.721715Z",
     "iopub.status.busy": "2023-07-11T17:47:48.720894Z",
     "iopub.status.idle": "2023-07-11T17:47:48.729389Z",
     "shell.execute_reply": "2023-07-11T17:47:48.727984Z"
    },
    "papermill": {
     "duration": 0.03186,
     "end_time": "2023-07-11T17:47:48.732629",
     "exception": false,
     "start_time": "2023-07-11T17:47:48.700769",
     "status": "completed"
    },
    "tags": []
   },
   "outputs": [
    {
     "data": {
      "text/plain": [
       "(5572, 2)"
      ]
     },
     "execution_count": 3,
     "metadata": {},
     "output_type": "execute_result"
    }
   ],
   "source": [
    "df.shape"
   ]
  },
  {
   "cell_type": "code",
   "execution_count": 4,
   "id": "b61513e1",
   "metadata": {
    "execution": {
     "iopub.execute_input": "2023-07-11T17:47:48.778536Z",
     "iopub.status.busy": "2023-07-11T17:47:48.776629Z",
     "iopub.status.idle": "2023-07-11T17:47:48.801453Z",
     "shell.execute_reply": "2023-07-11T17:47:48.800511Z"
    },
    "papermill": {
     "duration": 0.048353,
     "end_time": "2023-07-11T17:47:48.804460",
     "exception": false,
     "start_time": "2023-07-11T17:47:48.756107",
     "status": "completed"
    },
    "tags": []
   },
   "outputs": [
    {
     "data": {
      "text/html": [
       "<div>\n",
       "<style scoped>\n",
       "    .dataframe tbody tr th:only-of-type {\n",
       "        vertical-align: middle;\n",
       "    }\n",
       "\n",
       "    .dataframe tbody tr th {\n",
       "        vertical-align: top;\n",
       "    }\n",
       "\n",
       "    .dataframe thead th {\n",
       "        text-align: right;\n",
       "    }\n",
       "</style>\n",
       "<table border=\"1\" class=\"dataframe\">\n",
       "  <thead>\n",
       "    <tr style=\"text-align: right;\">\n",
       "      <th></th>\n",
       "      <th>Category</th>\n",
       "      <th>Message</th>\n",
       "    </tr>\n",
       "  </thead>\n",
       "  <tbody>\n",
       "    <tr>\n",
       "      <th>0</th>\n",
       "      <td>ham</td>\n",
       "      <td>Go until jurong point, crazy.. Available only ...</td>\n",
       "    </tr>\n",
       "    <tr>\n",
       "      <th>1</th>\n",
       "      <td>ham</td>\n",
       "      <td>Ok lar... Joking wif u oni...</td>\n",
       "    </tr>\n",
       "    <tr>\n",
       "      <th>2</th>\n",
       "      <td>spam</td>\n",
       "      <td>Free entry in 2 a wkly comp to win FA Cup fina...</td>\n",
       "    </tr>\n",
       "    <tr>\n",
       "      <th>3</th>\n",
       "      <td>ham</td>\n",
       "      <td>U dun say so early hor... U c already then say...</td>\n",
       "    </tr>\n",
       "    <tr>\n",
       "      <th>4</th>\n",
       "      <td>ham</td>\n",
       "      <td>Nah I don't think he goes to usf, he lives aro...</td>\n",
       "    </tr>\n",
       "  </tbody>\n",
       "</table>\n",
       "</div>"
      ],
      "text/plain": [
       "  Category                                            Message\n",
       "0      ham  Go until jurong point, crazy.. Available only ...\n",
       "1      ham                      Ok lar... Joking wif u oni...\n",
       "2     spam  Free entry in 2 a wkly comp to win FA Cup fina...\n",
       "3      ham  U dun say so early hor... U c already then say...\n",
       "4      ham  Nah I don't think he goes to usf, he lives aro..."
      ]
     },
     "execution_count": 4,
     "metadata": {},
     "output_type": "execute_result"
    }
   ],
   "source": [
    "df.head()"
   ]
  },
  {
   "cell_type": "code",
   "execution_count": 5,
   "id": "9d7f3a7c",
   "metadata": {
    "execution": {
     "iopub.execute_input": "2023-07-11T17:47:48.845890Z",
     "iopub.status.busy": "2023-07-11T17:47:48.845208Z",
     "iopub.status.idle": "2023-07-11T17:47:48.855428Z",
     "shell.execute_reply": "2023-07-11T17:47:48.854217Z"
    },
    "papermill": {
     "duration": 0.034942,
     "end_time": "2023-07-11T17:47:48.858318",
     "exception": false,
     "start_time": "2023-07-11T17:47:48.823376",
     "status": "completed"
    },
    "tags": []
   },
   "outputs": [
    {
     "data": {
      "text/html": [
       "<div>\n",
       "<style scoped>\n",
       "    .dataframe tbody tr th:only-of-type {\n",
       "        vertical-align: middle;\n",
       "    }\n",
       "\n",
       "    .dataframe tbody tr th {\n",
       "        vertical-align: top;\n",
       "    }\n",
       "\n",
       "    .dataframe thead th {\n",
       "        text-align: right;\n",
       "    }\n",
       "</style>\n",
       "<table border=\"1\" class=\"dataframe\">\n",
       "  <thead>\n",
       "    <tr style=\"text-align: right;\">\n",
       "      <th></th>\n",
       "      <th>Category</th>\n",
       "      <th>Message</th>\n",
       "    </tr>\n",
       "  </thead>\n",
       "  <tbody>\n",
       "    <tr>\n",
       "      <th>5567</th>\n",
       "      <td>spam</td>\n",
       "      <td>This is the 2nd time we have tried 2 contact u...</td>\n",
       "    </tr>\n",
       "    <tr>\n",
       "      <th>5568</th>\n",
       "      <td>ham</td>\n",
       "      <td>Will ü b going to esplanade fr home?</td>\n",
       "    </tr>\n",
       "    <tr>\n",
       "      <th>5569</th>\n",
       "      <td>ham</td>\n",
       "      <td>Pity, * was in mood for that. So...any other s...</td>\n",
       "    </tr>\n",
       "    <tr>\n",
       "      <th>5570</th>\n",
       "      <td>ham</td>\n",
       "      <td>The guy did some bitching but I acted like i'd...</td>\n",
       "    </tr>\n",
       "    <tr>\n",
       "      <th>5571</th>\n",
       "      <td>ham</td>\n",
       "      <td>Rofl. Its true to its name</td>\n",
       "    </tr>\n",
       "  </tbody>\n",
       "</table>\n",
       "</div>"
      ],
      "text/plain": [
       "     Category                                            Message\n",
       "5567     spam  This is the 2nd time we have tried 2 contact u...\n",
       "5568      ham               Will ü b going to esplanade fr home?\n",
       "5569      ham  Pity, * was in mood for that. So...any other s...\n",
       "5570      ham  The guy did some bitching but I acted like i'd...\n",
       "5571      ham                         Rofl. Its true to its name"
      ]
     },
     "execution_count": 5,
     "metadata": {},
     "output_type": "execute_result"
    }
   ],
   "source": [
    "df.tail()"
   ]
  },
  {
   "cell_type": "code",
   "execution_count": 6,
   "id": "7154fa77",
   "metadata": {
    "execution": {
     "iopub.execute_input": "2023-07-11T17:47:48.900529Z",
     "iopub.status.busy": "2023-07-11T17:47:48.899588Z",
     "iopub.status.idle": "2023-07-11T17:47:48.919749Z",
     "shell.execute_reply": "2023-07-11T17:47:48.918514Z"
    },
    "papermill": {
     "duration": 0.044776,
     "end_time": "2023-07-11T17:47:48.922542",
     "exception": false,
     "start_time": "2023-07-11T17:47:48.877766",
     "status": "completed"
    },
    "tags": []
   },
   "outputs": [
    {
     "data": {
      "text/html": [
       "<div>\n",
       "<style scoped>\n",
       "    .dataframe tbody tr th:only-of-type {\n",
       "        vertical-align: middle;\n",
       "    }\n",
       "\n",
       "    .dataframe tbody tr th {\n",
       "        vertical-align: top;\n",
       "    }\n",
       "\n",
       "    .dataframe thead th {\n",
       "        text-align: right;\n",
       "    }\n",
       "</style>\n",
       "<table border=\"1\" class=\"dataframe\">\n",
       "  <thead>\n",
       "    <tr style=\"text-align: right;\">\n",
       "      <th></th>\n",
       "      <th>Category</th>\n",
       "      <th>Message</th>\n",
       "    </tr>\n",
       "  </thead>\n",
       "  <tbody>\n",
       "    <tr>\n",
       "      <th>757</th>\n",
       "      <td>ham</td>\n",
       "      <td>Cant think of anyone with * spare room off * t...</td>\n",
       "    </tr>\n",
       "    <tr>\n",
       "      <th>4098</th>\n",
       "      <td>ham</td>\n",
       "      <td>i am going to bed now prin</td>\n",
       "    </tr>\n",
       "    <tr>\n",
       "      <th>3056</th>\n",
       "      <td>spam</td>\n",
       "      <td>EASTENDERS TV Quiz. What FLOWER does DOT compa...</td>\n",
       "    </tr>\n",
       "    <tr>\n",
       "      <th>5266</th>\n",
       "      <td>ham</td>\n",
       "      <td>HI DARLIN ITS KATE ARE U UP FOR DOIN SOMETHIN ...</td>\n",
       "    </tr>\n",
       "    <tr>\n",
       "      <th>5278</th>\n",
       "      <td>spam</td>\n",
       "      <td>URGENT! Your Mobile number has been awarded wi...</td>\n",
       "    </tr>\n",
       "  </tbody>\n",
       "</table>\n",
       "</div>"
      ],
      "text/plain": [
       "     Category                                            Message\n",
       "757       ham  Cant think of anyone with * spare room off * t...\n",
       "4098      ham                         i am going to bed now prin\n",
       "3056     spam  EASTENDERS TV Quiz. What FLOWER does DOT compa...\n",
       "5266      ham  HI DARLIN ITS KATE ARE U UP FOR DOIN SOMETHIN ...\n",
       "5278     spam  URGENT! Your Mobile number has been awarded wi..."
      ]
     },
     "execution_count": 6,
     "metadata": {},
     "output_type": "execute_result"
    }
   ],
   "source": [
    "df.sample(5)"
   ]
  },
  {
   "cell_type": "markdown",
   "id": "6a1db90a",
   "metadata": {
    "papermill": {
     "duration": 0.019123,
     "end_time": "2023-07-11T17:47:48.960965",
     "exception": false,
     "start_time": "2023-07-11T17:47:48.941842",
     "status": "completed"
    },
    "tags": []
   },
   "source": [
    "## **Text Preprocesser**\n",
    "* **Data Preparations**"
   ]
  },
  {
   "cell_type": "code",
   "execution_count": 7,
   "id": "ffb950fb",
   "metadata": {
    "execution": {
     "iopub.execute_input": "2023-07-11T17:47:49.003067Z",
     "iopub.status.busy": "2023-07-11T17:47:49.001254Z",
     "iopub.status.idle": "2023-07-11T17:47:51.575699Z",
     "shell.execute_reply": "2023-07-11T17:47:51.574253Z"
    },
    "papermill": {
     "duration": 2.598833,
     "end_time": "2023-07-11T17:47:51.579184",
     "exception": false,
     "start_time": "2023-07-11T17:47:48.980351",
     "status": "completed"
    },
    "tags": []
   },
   "outputs": [
    {
     "name": "stderr",
     "output_type": "stream",
     "text": [
      "/opt/conda/lib/python3.10/site-packages/scipy/__init__.py:146: UserWarning: A NumPy version >=1.16.5 and <1.23.0 is required for this version of SciPy (detected version 1.23.5\n",
      "  warnings.warn(f\"A NumPy version >={np_minversion} and <{np_maxversion}\"\n"
     ]
    }
   ],
   "source": [
    "import re \n",
    "import nltk"
   ]
  },
  {
   "cell_type": "code",
   "execution_count": 8,
   "id": "81846d0c",
   "metadata": {
    "execution": {
     "iopub.execute_input": "2023-07-11T17:47:51.621590Z",
     "iopub.status.busy": "2023-07-11T17:47:51.620062Z",
     "iopub.status.idle": "2023-07-11T17:47:51.626012Z",
     "shell.execute_reply": "2023-07-11T17:47:51.625084Z"
    },
    "papermill": {
     "duration": 0.029797,
     "end_time": "2023-07-11T17:47:51.628709",
     "exception": false,
     "start_time": "2023-07-11T17:47:51.598912",
     "status": "completed"
    },
    "tags": []
   },
   "outputs": [],
   "source": [
    "# nltk.download()"
   ]
  },
  {
   "cell_type": "code",
   "execution_count": 9,
   "id": "39a0a49a",
   "metadata": {
    "execution": {
     "iopub.execute_input": "2023-07-11T17:47:51.670372Z",
     "iopub.status.busy": "2023-07-11T17:47:51.668732Z",
     "iopub.status.idle": "2023-07-11T17:47:51.676161Z",
     "shell.execute_reply": "2023-07-11T17:47:51.675031Z"
    },
    "papermill": {
     "duration": 0.031879,
     "end_time": "2023-07-11T17:47:51.679590",
     "exception": false,
     "start_time": "2023-07-11T17:47:51.647711",
     "status": "completed"
    },
    "tags": []
   },
   "outputs": [],
   "source": [
    "from nltk.corpus import stopwords\n",
    "from nltk.stem.porter import PorterStemmer\n",
    "from nltk.stem import WordNetLemmatizer"
   ]
  },
  {
   "cell_type": "code",
   "execution_count": 10,
   "id": "3fd37018",
   "metadata": {
    "execution": {
     "iopub.execute_input": "2023-07-11T17:47:51.722142Z",
     "iopub.status.busy": "2023-07-11T17:47:51.721643Z",
     "iopub.status.idle": "2023-07-11T17:47:51.727935Z",
     "shell.execute_reply": "2023-07-11T17:47:51.726374Z"
    },
    "papermill": {
     "duration": 0.031425,
     "end_time": "2023-07-11T17:47:51.731079",
     "exception": false,
     "start_time": "2023-07-11T17:47:51.699654",
     "status": "completed"
    },
    "tags": []
   },
   "outputs": [],
   "source": [
    "ps=PorterStemmer()\n",
    "corpus=[]"
   ]
  },
  {
   "cell_type": "code",
   "execution_count": 11,
   "id": "929eddb2",
   "metadata": {
    "execution": {
     "iopub.execute_input": "2023-07-11T17:47:51.772771Z",
     "iopub.status.busy": "2023-07-11T17:47:51.772316Z",
     "iopub.status.idle": "2023-07-11T17:47:51.780685Z",
     "shell.execute_reply": "2023-07-11T17:47:51.779263Z"
    },
    "papermill": {
     "duration": 0.032093,
     "end_time": "2023-07-11T17:47:51.783237",
     "exception": false,
     "start_time": "2023-07-11T17:47:51.751144",
     "status": "completed"
    },
    "tags": []
   },
   "outputs": [
    {
     "data": {
      "text/plain": [
       "5572"
      ]
     },
     "execution_count": 11,
     "metadata": {},
     "output_type": "execute_result"
    }
   ],
   "source": [
    "len(df['Message'])"
   ]
  },
  {
   "cell_type": "code",
   "execution_count": 12,
   "id": "a296a513",
   "metadata": {
    "execution": {
     "iopub.execute_input": "2023-07-11T17:47:51.827549Z",
     "iopub.status.busy": "2023-07-11T17:47:51.827037Z",
     "iopub.status.idle": "2023-07-11T17:48:06.802696Z",
     "shell.execute_reply": "2023-07-11T17:48:06.801525Z"
    },
    "papermill": {
     "duration": 15.002603,
     "end_time": "2023-07-11T17:48:06.805917",
     "exception": false,
     "start_time": "2023-07-11T17:47:51.803314",
     "status": "completed"
    },
    "tags": []
   },
   "outputs": [],
   "source": [
    "for i in range(0,len(df['Message'])):\n",
    "    review=re.sub('[^a-zA-Z]',' ',df['Message'][i])\n",
    "    review=review.lower()\n",
    "    review=review.split()\n",
    "    \n",
    "    review=[ps.stem(word) for word in review if not word in stopwords.words('english') ]\n",
    "    review=' '.join(review)\n",
    "    corpus.append(review)"
   ]
  },
  {
   "cell_type": "code",
   "execution_count": 13,
   "id": "4c088c2e",
   "metadata": {
    "execution": {
     "iopub.execute_input": "2023-07-11T17:48:06.849344Z",
     "iopub.status.busy": "2023-07-11T17:48:06.847768Z",
     "iopub.status.idle": "2023-07-11T17:48:06.854605Z",
     "shell.execute_reply": "2023-07-11T17:48:06.853547Z"
    },
    "papermill": {
     "duration": 0.032052,
     "end_time": "2023-07-11T17:48:06.857449",
     "exception": false,
     "start_time": "2023-07-11T17:48:06.825397",
     "status": "completed"
    },
    "tags": []
   },
   "outputs": [],
   "source": [
    "##creating the Bag Of Words model \n",
    "from sklearn.feature_extraction.text import CountVectorizer"
   ]
  },
  {
   "cell_type": "code",
   "execution_count": 14,
   "id": "086b0e15",
   "metadata": {
    "execution": {
     "iopub.execute_input": "2023-07-11T17:48:06.901139Z",
     "iopub.status.busy": "2023-07-11T17:48:06.899988Z",
     "iopub.status.idle": "2023-07-11T17:48:06.906991Z",
     "shell.execute_reply": "2023-07-11T17:48:06.905189Z"
    },
    "papermill": {
     "duration": 0.032825,
     "end_time": "2023-07-11T17:48:06.909924",
     "exception": false,
     "start_time": "2023-07-11T17:48:06.877099",
     "status": "completed"
    },
    "tags": []
   },
   "outputs": [],
   "source": [
    "cv=CountVectorizer(max_features=2500)"
   ]
  },
  {
   "cell_type": "code",
   "execution_count": 15,
   "id": "7cc147fa",
   "metadata": {
    "execution": {
     "iopub.execute_input": "2023-07-11T17:48:06.952346Z",
     "iopub.status.busy": "2023-07-11T17:48:06.951936Z",
     "iopub.status.idle": "2023-07-11T17:48:07.135026Z",
     "shell.execute_reply": "2023-07-11T17:48:07.133622Z"
    },
    "papermill": {
     "duration": 0.208095,
     "end_time": "2023-07-11T17:48:07.138328",
     "exception": false,
     "start_time": "2023-07-11T17:48:06.930233",
     "status": "completed"
    },
    "tags": []
   },
   "outputs": [],
   "source": [
    "X=cv.fit_transform(corpus).toarray()  "
   ]
  },
  {
   "cell_type": "code",
   "execution_count": 16,
   "id": "cb8a6992",
   "metadata": {
    "execution": {
     "iopub.execute_input": "2023-07-11T17:48:07.179409Z",
     "iopub.status.busy": "2023-07-11T17:48:07.178935Z",
     "iopub.status.idle": "2023-07-11T17:48:07.185381Z",
     "shell.execute_reply": "2023-07-11T17:48:07.183979Z"
    },
    "papermill": {
     "duration": 0.029995,
     "end_time": "2023-07-11T17:48:07.188126",
     "exception": false,
     "start_time": "2023-07-11T17:48:07.158131",
     "status": "completed"
    },
    "tags": []
   },
   "outputs": [],
   "source": [
    "y=df['Category']"
   ]
  },
  {
   "cell_type": "code",
   "execution_count": 17,
   "id": "476c7561",
   "metadata": {
    "execution": {
     "iopub.execute_input": "2023-07-11T17:48:07.227919Z",
     "iopub.status.busy": "2023-07-11T17:48:07.227445Z",
     "iopub.status.idle": "2023-07-11T17:48:07.232917Z",
     "shell.execute_reply": "2023-07-11T17:48:07.231974Z"
    },
    "papermill": {
     "duration": 0.028443,
     "end_time": "2023-07-11T17:48:07.235384",
     "exception": false,
     "start_time": "2023-07-11T17:48:07.206941",
     "status": "completed"
    },
    "tags": []
   },
   "outputs": [],
   "source": [
    "from sklearn.preprocessing import LabelEncoder\n",
    "from sklearn.model_selection import train_test_split,GridSearchCV"
   ]
  },
  {
   "cell_type": "code",
   "execution_count": 18,
   "id": "1547cb44",
   "metadata": {
    "execution": {
     "iopub.execute_input": "2023-07-11T17:48:07.275514Z",
     "iopub.status.busy": "2023-07-11T17:48:07.275030Z",
     "iopub.status.idle": "2023-07-11T17:48:07.280121Z",
     "shell.execute_reply": "2023-07-11T17:48:07.279120Z"
    },
    "papermill": {
     "duration": 0.02809,
     "end_time": "2023-07-11T17:48:07.282417",
     "exception": false,
     "start_time": "2023-07-11T17:48:07.254327",
     "status": "completed"
    },
    "tags": []
   },
   "outputs": [],
   "source": [
    "lb=LabelEncoder()"
   ]
  },
  {
   "cell_type": "code",
   "execution_count": 19,
   "id": "85306102",
   "metadata": {
    "execution": {
     "iopub.execute_input": "2023-07-11T17:48:07.322325Z",
     "iopub.status.busy": "2023-07-11T17:48:07.321830Z",
     "iopub.status.idle": "2023-07-11T17:48:07.329622Z",
     "shell.execute_reply": "2023-07-11T17:48:07.328361Z"
    },
    "papermill": {
     "duration": 0.030786,
     "end_time": "2023-07-11T17:48:07.332187",
     "exception": false,
     "start_time": "2023-07-11T17:48:07.301401",
     "status": "completed"
    },
    "tags": []
   },
   "outputs": [],
   "source": [
    "y=lb.fit_transform(y)"
   ]
  },
  {
   "cell_type": "code",
   "execution_count": 20,
   "id": "9aceef30",
   "metadata": {
    "execution": {
     "iopub.execute_input": "2023-07-11T17:48:07.372640Z",
     "iopub.status.busy": "2023-07-11T17:48:07.372135Z",
     "iopub.status.idle": "2023-07-11T17:48:07.473566Z",
     "shell.execute_reply": "2023-07-11T17:48:07.472231Z"
    },
    "papermill": {
     "duration": 0.125752,
     "end_time": "2023-07-11T17:48:07.476614",
     "exception": false,
     "start_time": "2023-07-11T17:48:07.350862",
     "status": "completed"
    },
    "tags": []
   },
   "outputs": [],
   "source": [
    "X_train,X_test,y_train,y_test=train_test_split(X,y,test_size=0.3,random_state=42)"
   ]
  },
  {
   "cell_type": "code",
   "execution_count": 21,
   "id": "f947e425",
   "metadata": {
    "execution": {
     "iopub.execute_input": "2023-07-11T17:48:07.517028Z",
     "iopub.status.busy": "2023-07-11T17:48:07.516520Z",
     "iopub.status.idle": "2023-07-11T17:48:07.532978Z",
     "shell.execute_reply": "2023-07-11T17:48:07.531990Z"
    },
    "papermill": {
     "duration": 0.040436,
     "end_time": "2023-07-11T17:48:07.535915",
     "exception": false,
     "start_time": "2023-07-11T17:48:07.495479",
     "status": "completed"
    },
    "tags": []
   },
   "outputs": [],
   "source": [
    "from sklearn.naive_bayes import MultinomialNB, GaussianNB,BernoulliNB\n",
    "from sklearn.metrics import accuracy_score,ConfusionMatrixDisplay,confusion_matrix\n",
    "import matplotlib.pyplot as plt"
   ]
  },
  {
   "cell_type": "code",
   "execution_count": 22,
   "id": "1cdb09a8",
   "metadata": {
    "execution": {
     "iopub.execute_input": "2023-07-11T17:48:07.576279Z",
     "iopub.status.busy": "2023-07-11T17:48:07.575757Z",
     "iopub.status.idle": "2023-07-11T17:48:07.584213Z",
     "shell.execute_reply": "2023-07-11T17:48:07.582753Z"
    },
    "papermill": {
     "duration": 0.031773,
     "end_time": "2023-07-11T17:48:07.586836",
     "exception": false,
     "start_time": "2023-07-11T17:48:07.555063",
     "status": "completed"
    },
    "tags": []
   },
   "outputs": [
    {
     "data": {
      "text/plain": [
       "(3900, 2500)"
      ]
     },
     "execution_count": 22,
     "metadata": {},
     "output_type": "execute_result"
    }
   ],
   "source": [
    "X_train.shape"
   ]
  },
  {
   "cell_type": "code",
   "execution_count": 23,
   "id": "e39f085b",
   "metadata": {
    "execution": {
     "iopub.execute_input": "2023-07-11T17:48:07.630634Z",
     "iopub.status.busy": "2023-07-11T17:48:07.629938Z",
     "iopub.status.idle": "2023-07-11T17:48:07.637665Z",
     "shell.execute_reply": "2023-07-11T17:48:07.635980Z"
    },
    "papermill": {
     "duration": 0.032711,
     "end_time": "2023-07-11T17:48:07.640713",
     "exception": false,
     "start_time": "2023-07-11T17:48:07.608002",
     "status": "completed"
    },
    "tags": []
   },
   "outputs": [],
   "source": [
    "GN=GaussianNB()\n",
    "MN=MultinomialNB()\n",
    "BN=BernoulliNB()"
   ]
  },
  {
   "cell_type": "code",
   "execution_count": 24,
   "id": "41e91861",
   "metadata": {
    "execution": {
     "iopub.execute_input": "2023-07-11T17:48:07.681722Z",
     "iopub.status.busy": "2023-07-11T17:48:07.680707Z",
     "iopub.status.idle": "2023-07-11T17:48:07.783724Z",
     "shell.execute_reply": "2023-07-11T17:48:07.782356Z"
    },
    "papermill": {
     "duration": 0.126918,
     "end_time": "2023-07-11T17:48:07.787067",
     "exception": false,
     "start_time": "2023-07-11T17:48:07.660149",
     "status": "completed"
    },
    "tags": []
   },
   "outputs": [
    {
     "data": {
      "text/html": [
       "<style>#sk-container-id-1 {color: black;background-color: white;}#sk-container-id-1 pre{padding: 0;}#sk-container-id-1 div.sk-toggleable {background-color: white;}#sk-container-id-1 label.sk-toggleable__label {cursor: pointer;display: block;width: 100%;margin-bottom: 0;padding: 0.3em;box-sizing: border-box;text-align: center;}#sk-container-id-1 label.sk-toggleable__label-arrow:before {content: \"▸\";float: left;margin-right: 0.25em;color: #696969;}#sk-container-id-1 label.sk-toggleable__label-arrow:hover:before {color: black;}#sk-container-id-1 div.sk-estimator:hover label.sk-toggleable__label-arrow:before {color: black;}#sk-container-id-1 div.sk-toggleable__content {max-height: 0;max-width: 0;overflow: hidden;text-align: left;background-color: #f0f8ff;}#sk-container-id-1 div.sk-toggleable__content pre {margin: 0.2em;color: black;border-radius: 0.25em;background-color: #f0f8ff;}#sk-container-id-1 input.sk-toggleable__control:checked~div.sk-toggleable__content {max-height: 200px;max-width: 100%;overflow: auto;}#sk-container-id-1 input.sk-toggleable__control:checked~label.sk-toggleable__label-arrow:before {content: \"▾\";}#sk-container-id-1 div.sk-estimator input.sk-toggleable__control:checked~label.sk-toggleable__label {background-color: #d4ebff;}#sk-container-id-1 div.sk-label input.sk-toggleable__control:checked~label.sk-toggleable__label {background-color: #d4ebff;}#sk-container-id-1 input.sk-hidden--visually {border: 0;clip: rect(1px 1px 1px 1px);clip: rect(1px, 1px, 1px, 1px);height: 1px;margin: -1px;overflow: hidden;padding: 0;position: absolute;width: 1px;}#sk-container-id-1 div.sk-estimator {font-family: monospace;background-color: #f0f8ff;border: 1px dotted black;border-radius: 0.25em;box-sizing: border-box;margin-bottom: 0.5em;}#sk-container-id-1 div.sk-estimator:hover {background-color: #d4ebff;}#sk-container-id-1 div.sk-parallel-item::after {content: \"\";width: 100%;border-bottom: 1px solid gray;flex-grow: 1;}#sk-container-id-1 div.sk-label:hover label.sk-toggleable__label {background-color: #d4ebff;}#sk-container-id-1 div.sk-serial::before {content: \"\";position: absolute;border-left: 1px solid gray;box-sizing: border-box;top: 0;bottom: 0;left: 50%;z-index: 0;}#sk-container-id-1 div.sk-serial {display: flex;flex-direction: column;align-items: center;background-color: white;padding-right: 0.2em;padding-left: 0.2em;position: relative;}#sk-container-id-1 div.sk-item {position: relative;z-index: 1;}#sk-container-id-1 div.sk-parallel {display: flex;align-items: stretch;justify-content: center;background-color: white;position: relative;}#sk-container-id-1 div.sk-item::before, #sk-container-id-1 div.sk-parallel-item::before {content: \"\";position: absolute;border-left: 1px solid gray;box-sizing: border-box;top: 0;bottom: 0;left: 50%;z-index: -1;}#sk-container-id-1 div.sk-parallel-item {display: flex;flex-direction: column;z-index: 1;position: relative;background-color: white;}#sk-container-id-1 div.sk-parallel-item:first-child::after {align-self: flex-end;width: 50%;}#sk-container-id-1 div.sk-parallel-item:last-child::after {align-self: flex-start;width: 50%;}#sk-container-id-1 div.sk-parallel-item:only-child::after {width: 0;}#sk-container-id-1 div.sk-dashed-wrapped {border: 1px dashed gray;margin: 0 0.4em 0.5em 0.4em;box-sizing: border-box;padding-bottom: 0.4em;background-color: white;}#sk-container-id-1 div.sk-label label {font-family: monospace;font-weight: bold;display: inline-block;line-height: 1.2em;}#sk-container-id-1 div.sk-label-container {text-align: center;}#sk-container-id-1 div.sk-container {/* jupyter's `normalize.less` sets `[hidden] { display: none; }` but bootstrap.min.css set `[hidden] { display: none !important; }` so we also need the `!important` here to be able to override the default hidden behavior on the sphinx rendered scikit-learn.org. See: https://github.com/scikit-learn/scikit-learn/issues/21755 */display: inline-block !important;position: relative;}#sk-container-id-1 div.sk-text-repr-fallback {display: none;}</style><div id=\"sk-container-id-1\" class=\"sk-top-container\"><div class=\"sk-text-repr-fallback\"><pre>MultinomialNB()</pre><b>In a Jupyter environment, please rerun this cell to show the HTML representation or trust the notebook. <br />On GitHub, the HTML representation is unable to render, please try loading this page with nbviewer.org.</b></div><div class=\"sk-container\" hidden><div class=\"sk-item\"><div class=\"sk-estimator sk-toggleable\"><input class=\"sk-toggleable__control sk-hidden--visually\" id=\"sk-estimator-id-1\" type=\"checkbox\" checked><label for=\"sk-estimator-id-1\" class=\"sk-toggleable__label sk-toggleable__label-arrow\">MultinomialNB</label><div class=\"sk-toggleable__content\"><pre>MultinomialNB()</pre></div></div></div></div></div>"
      ],
      "text/plain": [
       "MultinomialNB()"
      ]
     },
     "execution_count": 24,
     "metadata": {},
     "output_type": "execute_result"
    }
   ],
   "source": [
    "MN.fit(X_train,y_train)"
   ]
  },
  {
   "cell_type": "code",
   "execution_count": 25,
   "id": "0aaa0f75",
   "metadata": {
    "execution": {
     "iopub.execute_input": "2023-07-11T17:48:07.830078Z",
     "iopub.status.busy": "2023-07-11T17:48:07.829586Z",
     "iopub.status.idle": "2023-07-11T17:48:07.879230Z",
     "shell.execute_reply": "2023-07-11T17:48:07.876992Z"
    },
    "papermill": {
     "duration": 0.076775,
     "end_time": "2023-07-11T17:48:07.884673",
     "exception": false,
     "start_time": "2023-07-11T17:48:07.807898",
     "status": "completed"
    },
    "tags": []
   },
   "outputs": [],
   "source": [
    "y_pred_mn=MN.predict(X_test)"
   ]
  },
  {
   "cell_type": "code",
   "execution_count": 26,
   "id": "2fec9cd8",
   "metadata": {
    "execution": {
     "iopub.execute_input": "2023-07-11T17:48:07.979071Z",
     "iopub.status.busy": "2023-07-11T17:48:07.978150Z",
     "iopub.status.idle": "2023-07-11T17:48:07.996853Z",
     "shell.execute_reply": "2023-07-11T17:48:07.995595Z"
    },
    "papermill": {
     "duration": 0.068057,
     "end_time": "2023-07-11T17:48:07.999656",
     "exception": false,
     "start_time": "2023-07-11T17:48:07.931599",
     "status": "completed"
    },
    "tags": []
   },
   "outputs": [
    {
     "data": {
      "text/plain": [
       "98.14593301435407"
      ]
     },
     "execution_count": 26,
     "metadata": {},
     "output_type": "execute_result"
    }
   ],
   "source": [
    "accuracy_score(y_test,y_pred_mn)*100"
   ]
  },
  {
   "cell_type": "code",
   "execution_count": 27,
   "id": "6bae4d0f",
   "metadata": {
    "execution": {
     "iopub.execute_input": "2023-07-11T17:48:08.043717Z",
     "iopub.status.busy": "2023-07-11T17:48:08.043314Z",
     "iopub.status.idle": "2023-07-11T17:48:08.438016Z",
     "shell.execute_reply": "2023-07-11T17:48:08.436437Z"
    },
    "papermill": {
     "duration": 0.420237,
     "end_time": "2023-07-11T17:48:08.441059",
     "exception": false,
     "start_time": "2023-07-11T17:48:08.020822",
     "status": "completed"
    },
    "tags": []
   },
   "outputs": [
    {
     "data": {
      "text/plain": [
       "<sklearn.metrics._plot.confusion_matrix.ConfusionMatrixDisplay at 0x7a8a8afa8a90>"
      ]
     },
     "execution_count": 27,
     "metadata": {},
     "output_type": "execute_result"
    },
    {
     "data": {
      "image/png": "[encoded data removed]",
      "text/plain": [
       "<Figure size 640x480 with 2 Axes>"
      ]
     },
     "metadata": {},
     "output_type": "display_data"
    }
   ],
   "source": [
    "ConfusionMatrixDisplay(confusion_matrix(y_test,y_pred_mn)).plot()"
   ]
  },
  {
   "cell_type": "code",
   "execution_count": 28,
   "id": "f996798c",
   "metadata": {
    "execution": {
     "iopub.execute_input": "2023-07-11T17:48:08.484279Z",
     "iopub.status.busy": "2023-07-11T17:48:08.483789Z",
     "iopub.status.idle": "2023-07-11T17:48:08.689533Z",
     "shell.execute_reply": "2023-07-11T17:48:08.688364Z"
    },
    "papermill": {
     "duration": 0.230567,
     "end_time": "2023-07-11T17:48:08.692171",
     "exception": false,
     "start_time": "2023-07-11T17:48:08.461604",
     "status": "completed"
    },
    "tags": []
   },
   "outputs": [
    {
     "data": {
      "text/html": [
       "<style>#sk-container-id-2 {color: black;background-color: white;}#sk-container-id-2 pre{padding: 0;}#sk-container-id-2 div.sk-toggleable {background-color: white;}#sk-container-id-2 label.sk-toggleable__label {cursor: pointer;display: block;width: 100%;margin-bottom: 0;padding: 0.3em;box-sizing: border-box;text-align: center;}#sk-container-id-2 label.sk-toggleable__label-arrow:before {content: \"▸\";float: left;margin-right: 0.25em;color: #696969;}#sk-container-id-2 label.sk-toggleable__label-arrow:hover:before {color: black;}#sk-container-id-2 div.sk-estimator:hover label.sk-toggleable__label-arrow:before {color: black;}#sk-container-id-2 div.sk-toggleable__content {max-height: 0;max-width: 0;overflow: hidden;text-align: left;background-color: #f0f8ff;}#sk-container-id-2 div.sk-toggleable__content pre {margin: 0.2em;color: black;border-radius: 0.25em;background-color: #f0f8ff;}#sk-container-id-2 input.sk-toggleable__control:checked~div.sk-toggleable__content {max-height: 200px;max-width: 100%;overflow: auto;}#sk-container-id-2 input.sk-toggleable__control:checked~label.sk-toggleable__label-arrow:before {content: \"▾\";}#sk-container-id-2 div.sk-estimator input.sk-toggleable__control:checked~label.sk-toggleable__label {background-color: #d4ebff;}#sk-container-id-2 div.sk-label input.sk-toggleable__control:checked~label.sk-toggleable__label {background-color: #d4ebff;}#sk-container-id-2 input.sk-hidden--visually {border: 0;clip: rect(1px 1px 1px 1px);clip: rect(1px, 1px, 1px, 1px);height: 1px;margin: -1px;overflow: hidden;padding: 0;position: absolute;width: 1px;}#sk-container-id-2 div.sk-estimator {font-family: monospace;background-color: #f0f8ff;border: 1px dotted black;border-radius: 0.25em;box-sizing: border-box;margin-bottom: 0.5em;}#sk-container-id-2 div.sk-estimator:hover {background-color: #d4ebff;}#sk-container-id-2 div.sk-parallel-item::after {content: \"\";width: 100%;border-bottom: 1px solid gray;flex-grow: 1;}#sk-container-id-2 div.sk-label:hover label.sk-toggleable__label {background-color: #d4ebff;}#sk-container-id-2 div.sk-serial::before {content: \"\";position: absolute;border-left: 1px solid gray;box-sizing: border-box;top: 0;bottom: 0;left: 50%;z-index: 0;}#sk-container-id-2 div.sk-serial {display: flex;flex-direction: column;align-items: center;background-color: white;padding-right: 0.2em;padding-left: 0.2em;position: relative;}#sk-container-id-2 div.sk-item {position: relative;z-index: 1;}#sk-container-id-2 div.sk-parallel {display: flex;align-items: stretch;justify-content: center;background-color: white;position: relative;}#sk-container-id-2 div.sk-item::before, #sk-container-id-2 div.sk-parallel-item::before {content: \"\";position: absolute;border-left: 1px solid gray;box-sizing: border-box;top: 0;bottom: 0;left: 50%;z-index: -1;}#sk-container-id-2 div.sk-parallel-item {display: flex;flex-direction: column;z-index: 1;position: relative;background-color: white;}#sk-container-id-2 div.sk-parallel-item:first-child::after {align-self: flex-end;width: 50%;}#sk-container-id-2 div.sk-parallel-item:last-child::after {align-self: flex-start;width: 50%;}#sk-container-id-2 div.sk-parallel-item:only-child::after {width: 0;}#sk-container-id-2 div.sk-dashed-wrapped {border: 1px dashed gray;margin: 0 0.4em 0.5em 0.4em;box-sizing: border-box;padding-bottom: 0.4em;background-color: white;}#sk-container-id-2 div.sk-label label {font-family: monospace;font-weight: bold;display: inline-block;line-height: 1.2em;}#sk-container-id-2 div.sk-label-container {text-align: center;}#sk-container-id-2 div.sk-container {/* jupyter's `normalize.less` sets `[hidden] { display: none; }` but bootstrap.min.css set `[hidden] { display: none !important; }` so we also need the `!important` here to be able to override the default hidden behavior on the sphinx rendered scikit-learn.org. See: https://github.com/scikit-learn/scikit-learn/issues/21755 */display: inline-block !important;position: relative;}#sk-container-id-2 div.sk-text-repr-fallback {display: none;}</style><div id=\"sk-container-id-2\" class=\"sk-top-container\"><div class=\"sk-text-repr-fallback\"><pre>BernoulliNB()</pre><b>In a Jupyter environment, please rerun this cell to show the HTML representation or trust the notebook. <br />On GitHub, the HTML representation is unable to render, please try loading this page with nbviewer.org.</b></div><div class=\"sk-container\" hidden><div class=\"sk-item\"><div class=\"sk-estimator sk-toggleable\"><input class=\"sk-toggleable__control sk-hidden--visually\" id=\"sk-estimator-id-2\" type=\"checkbox\" checked><label for=\"sk-estimator-id-2\" class=\"sk-toggleable__label sk-toggleable__label-arrow\">BernoulliNB</label><div class=\"sk-toggleable__content\"><pre>BernoulliNB()</pre></div></div></div></div></div>"
      ],
      "text/plain": [
       "BernoulliNB()"
      ]
     },
     "execution_count": 28,
     "metadata": {},
     "output_type": "execute_result"
    }
   ],
   "source": [
    "BN.fit(X_train,y_train)"
   ]
  },
  {
   "cell_type": "code",
   "execution_count": 29,
   "id": "1a94aa18",
   "metadata": {
    "execution": {
     "iopub.execute_input": "2023-07-11T17:48:08.736418Z",
     "iopub.status.busy": "2023-07-11T17:48:08.735543Z",
     "iopub.status.idle": "2023-07-11T17:48:08.807499Z",
     "shell.execute_reply": "2023-07-11T17:48:08.805950Z"
    },
    "papermill": {
     "duration": 0.099191,
     "end_time": "2023-07-11T17:48:08.811962",
     "exception": false,
     "start_time": "2023-07-11T17:48:08.712771",
     "status": "completed"
    },
    "tags": []
   },
   "outputs": [],
   "source": [
    "y_pred_bn=BN.predict(X_test)"
   ]
  },
  {
   "cell_type": "code",
   "execution_count": 30,
   "id": "9b0f295c",
   "metadata": {
    "execution": {
     "iopub.execute_input": "2023-07-11T17:48:08.901921Z",
     "iopub.status.busy": "2023-07-11T17:48:08.901073Z",
     "iopub.status.idle": "2023-07-11T17:48:08.919701Z",
     "shell.execute_reply": "2023-07-11T17:48:08.917999Z"
    },
    "papermill": {
     "duration": 0.068177,
     "end_time": "2023-07-11T17:48:08.923403",
     "exception": false,
     "start_time": "2023-07-11T17:48:08.855226",
     "status": "completed"
    },
    "tags": []
   },
   "outputs": [
    {
     "data": {
      "text/plain": [
       "98.44497607655502"
      ]
     },
     "execution_count": 30,
     "metadata": {},
     "output_type": "execute_result"
    }
   ],
   "source": [
    "accuracy_score(y_test,y_pred_bn)*100"
   ]
  },
  {
   "cell_type": "code",
   "execution_count": 31,
   "id": "0dc43a4a",
   "metadata": {
    "execution": {
     "iopub.execute_input": "2023-07-11T17:48:08.968209Z",
     "iopub.status.busy": "2023-07-11T17:48:08.967286Z",
     "iopub.status.idle": "2023-07-11T17:48:09.313192Z",
     "shell.execute_reply": "2023-07-11T17:48:09.311938Z"
    },
    "papermill": {
     "duration": 0.371628,
     "end_time": "2023-07-11T17:48:09.315917",
     "exception": false,
     "start_time": "2023-07-11T17:48:08.944289",
     "status": "completed"
    },
    "tags": []
   },
   "outputs": [
    {
     "data": {
      "text/plain": [
       "<sklearn.metrics._plot.confusion_matrix.ConfusionMatrixDisplay at 0x7a8a8ae4bdc0>"
      ]
     },
     "execution_count": 31,
     "metadata": {},
     "output_type": "execute_result"
    },
    {
     "data": {
      "image/png": "[encoded data removed]",
      "text/plain": [
       "<Figure size 640x480 with 2 Axes>"
      ]
     },
     "metadata": {},
     "output_type": "display_data"
    }
   ],
   "source": [
    "ConfusionMatrixDisplay(confusion_matrix(y_test,y_pred_bn)).plot()"
   ]
  },
  {
   "cell_type": "code",
   "execution_count": 32,
   "id": "b6f93c52",
   "metadata": {
    "execution": {
     "iopub.execute_input": "2023-07-11T17:48:09.362327Z",
     "iopub.status.busy": "2023-07-11T17:48:09.361124Z",
     "iopub.status.idle": "2023-07-11T17:48:09.620642Z",
     "shell.execute_reply": "2023-07-11T17:48:09.619080Z"
    },
    "papermill": {
     "duration": 0.286307,
     "end_time": "2023-07-11T17:48:09.623891",
     "exception": false,
     "start_time": "2023-07-11T17:48:09.337584",
     "status": "completed"
    },
    "tags": []
   },
   "outputs": [
    {
     "data": {
      "text/html": [
       "<style>#sk-container-id-3 {color: black;background-color: white;}#sk-container-id-3 pre{padding: 0;}#sk-container-id-3 div.sk-toggleable {background-color: white;}#sk-container-id-3 label.sk-toggleable__label {cursor: pointer;display: block;width: 100%;margin-bottom: 0;padding: 0.3em;box-sizing: border-box;text-align: center;}#sk-container-id-3 label.sk-toggleable__label-arrow:before {content: \"▸\";float: left;margin-right: 0.25em;color: #696969;}#sk-container-id-3 label.sk-toggleable__label-arrow:hover:before {color: black;}#sk-container-id-3 div.sk-estimator:hover label.sk-toggleable__label-arrow:before {color: black;}#sk-container-id-3 div.sk-toggleable__content {max-height: 0;max-width: 0;overflow: hidden;text-align: left;background-color: #f0f8ff;}#sk-container-id-3 div.sk-toggleable__content pre {margin: 0.2em;color: black;border-radius: 0.25em;background-color: #f0f8ff;}#sk-container-id-3 input.sk-toggleable__control:checked~div.sk-toggleable__content {max-height: 200px;max-width: 100%;overflow: auto;}#sk-container-id-3 input.sk-toggleable__control:checked~label.sk-toggleable__label-arrow:before {content: \"▾\";}#sk-container-id-3 div.sk-estimator input.sk-toggleable__control:checked~label.sk-toggleable__label {background-color: #d4ebff;}#sk-container-id-3 div.sk-label input.sk-toggleable__control:checked~label.sk-toggleable__label {background-color: #d4ebff;}#sk-container-id-3 input.sk-hidden--visually {border: 0;clip: rect(1px 1px 1px 1px);clip: rect(1px, 1px, 1px, 1px);height: 1px;margin: -1px;overflow: hidden;padding: 0;position: absolute;width: 1px;}#sk-container-id-3 div.sk-estimator {font-family: monospace;background-color: #f0f8ff;border: 1px dotted black;border-radius: 0.25em;box-sizing: border-box;margin-bottom: 0.5em;}#sk-container-id-3 div.sk-estimator:hover {background-color: #d4ebff;}#sk-container-id-3 div.sk-parallel-item::after {content: \"\";width: 100%;border-bottom: 1px solid gray;flex-grow: 1;}#sk-container-id-3 div.sk-label:hover label.sk-toggleable__label {background-color: #d4ebff;}#sk-container-id-3 div.sk-serial::before {content: \"\";position: absolute;border-left: 1px solid gray;box-sizing: border-box;top: 0;bottom: 0;left: 50%;z-index: 0;}#sk-container-id-3 div.sk-serial {display: flex;flex-direction: column;align-items: center;background-color: white;padding-right: 0.2em;padding-left: 0.2em;position: relative;}#sk-container-id-3 div.sk-item {position: relative;z-index: 1;}#sk-container-id-3 div.sk-parallel {display: flex;align-items: stretch;justify-content: center;background-color: white;position: relative;}#sk-container-id-3 div.sk-item::before, #sk-container-id-3 div.sk-parallel-item::before {content: \"\";position: absolute;border-left: 1px solid gray;box-sizing: border-box;top: 0;bottom: 0;left: 50%;z-index: -1;}#sk-container-id-3 div.sk-parallel-item {display: flex;flex-direction: column;z-index: 1;position: relative;background-color: white;}#sk-container-id-3 div.sk-parallel-item:first-child::after {align-self: flex-end;width: 50%;}#sk-container-id-3 div.sk-parallel-item:last-child::after {align-self: flex-start;width: 50%;}#sk-container-id-3 div.sk-parallel-item:only-child::after {width: 0;}#sk-container-id-3 div.sk-dashed-wrapped {border: 1px dashed gray;margin: 0 0.4em 0.5em 0.4em;box-sizing: border-box;padding-bottom: 0.4em;background-color: white;}#sk-container-id-3 div.sk-label label {font-family: monospace;font-weight: bold;display: inline-block;line-height: 1.2em;}#sk-container-id-3 div.sk-label-container {text-align: center;}#sk-container-id-3 div.sk-container {/* jupyter's `normalize.less` sets `[hidden] { display: none; }` but bootstrap.min.css set `[hidden] { display: none !important; }` so we also need the `!important` here to be able to override the default hidden behavior on the sphinx rendered scikit-learn.org. See: https://github.com/scikit-learn/scikit-learn/issues/21755 */display: inline-block !important;position: relative;}#sk-container-id-3 div.sk-text-repr-fallback {display: none;}</style><div id=\"sk-container-id-3\" class=\"sk-top-container\"><div class=\"sk-text-repr-fallback\"><pre>GaussianNB()</pre><b>In a Jupyter environment, please rerun this cell to show the HTML representation or trust the notebook. <br />On GitHub, the HTML representation is unable to render, please try loading this page with nbviewer.org.</b></div><div class=\"sk-container\" hidden><div class=\"sk-item\"><div class=\"sk-estimator sk-toggleable\"><input class=\"sk-toggleable__control sk-hidden--visually\" id=\"sk-estimator-id-3\" type=\"checkbox\" checked><label for=\"sk-estimator-id-3\" class=\"sk-toggleable__label sk-toggleable__label-arrow\">GaussianNB</label><div class=\"sk-toggleable__content\"><pre>GaussianNB()</pre></div></div></div></div></div>"
      ],
      "text/plain": [
       "GaussianNB()"
      ]
     },
     "execution_count": 32,
     "metadata": {},
     "output_type": "execute_result"
    }
   ],
   "source": [
    "GN.fit(X_train,y_train)"
   ]
  },
  {
   "cell_type": "code",
   "execution_count": 33,
   "id": "46181f71",
   "metadata": {
    "execution": {
     "iopub.execute_input": "2023-07-11T17:48:09.671317Z",
     "iopub.status.busy": "2023-07-11T17:48:09.670797Z",
     "iopub.status.idle": "2023-07-11T17:48:09.777637Z",
     "shell.execute_reply": "2023-07-11T17:48:09.776253Z"
    },
    "papermill": {
     "duration": 0.134687,
     "end_time": "2023-07-11T17:48:09.781060",
     "exception": false,
     "start_time": "2023-07-11T17:48:09.646373",
     "status": "completed"
    },
    "tags": []
   },
   "outputs": [],
   "source": [
    "y_pred_gn=GN.predict(X_test)"
   ]
  },
  {
   "cell_type": "code",
   "execution_count": 34,
   "id": "85e8ff07",
   "metadata": {
    "execution": {
     "iopub.execute_input": "2023-07-11T17:48:09.828514Z",
     "iopub.status.busy": "2023-07-11T17:48:09.828050Z",
     "iopub.status.idle": "2023-07-11T17:48:09.838605Z",
     "shell.execute_reply": "2023-07-11T17:48:09.837634Z"
    },
    "papermill": {
     "duration": 0.037054,
     "end_time": "2023-07-11T17:48:09.841372",
     "exception": false,
     "start_time": "2023-07-11T17:48:09.804318",
     "status": "completed"
    },
    "tags": []
   },
   "outputs": [
    {
     "data": {
      "text/plain": [
       "85.4066985645933"
      ]
     },
     "execution_count": 34,
     "metadata": {},
     "output_type": "execute_result"
    }
   ],
   "source": [
    "accuracy_score(y_test,y_pred_gn)*100"
   ]
  },
  {
   "cell_type": "code",
   "execution_count": 35,
   "id": "caaf451f",
   "metadata": {
    "execution": {
     "iopub.execute_input": "2023-07-11T17:48:09.889774Z",
     "iopub.status.busy": "2023-07-11T17:48:09.889005Z",
     "iopub.status.idle": "2023-07-11T17:48:10.212059Z",
     "shell.execute_reply": "2023-07-11T17:48:10.210956Z"
    },
    "papermill": {
     "duration": 0.350023,
     "end_time": "2023-07-11T17:48:10.214565",
     "exception": false,
     "start_time": "2023-07-11T17:48:09.864542",
     "status": "completed"
    },
    "tags": []
   },
   "outputs": [
    {
     "data": {
      "text/plain": [
       "<sklearn.metrics._plot.confusion_matrix.ConfusionMatrixDisplay at 0x7a8a8ae48070>"
      ]
     },
     "execution_count": 35,
     "metadata": {},
     "output_type": "execute_result"
    },
    {
     "data": {
      "image/png": "[encoded data removed]",
      "text/plain": [
       "<Figure size 640x480 with 2 Axes>"
      ]
     },
     "metadata": {},
     "output_type": "display_data"
    }
   ],
   "source": [
    "ConfusionMatrixDisplay(confusion_matrix(y_test,y_pred_gn)).plot()"
   ]
  },
  {
   "cell_type": "markdown",
   "id": "b07b49f5",
   "metadata": {
    "papermill": {
     "duration": 0.022176,
     "end_time": "2023-07-11T17:48:10.259532",
     "exception": false,
     "start_time": "2023-07-11T17:48:10.237356",
     "status": "completed"
    },
    "tags": []
   },
   "source": [
    "**Hyper Tuning for MultiNomial**"
   ]
  },
  {
   "cell_type": "code",
   "execution_count": 36,
   "id": "a9e7c4a8",
   "metadata": {
    "execution": {
     "iopub.execute_input": "2023-07-11T17:48:10.308797Z",
     "iopub.status.busy": "2023-07-11T17:48:10.307881Z",
     "iopub.status.idle": "2023-07-11T17:48:10.313690Z",
     "shell.execute_reply": "2023-07-11T17:48:10.312907Z"
    },
    "papermill": {
     "duration": 0.033572,
     "end_time": "2023-07-11T17:48:10.316335",
     "exception": false,
     "start_time": "2023-07-11T17:48:10.282763",
     "status": "completed"
    },
    "tags": []
   },
   "outputs": [],
   "source": [
    "# Define the parameter grid\n",
    "param_grid = {\n",
    "    'alpha': [0.1, 0.5, 1.0, 2.0],  # Smoothing parameter\n",
    "    'fit_prior': [True, False]       # Whether to learn class prior probabilities or not\n",
    "}"
   ]
  },
  {
   "cell_type": "code",
   "execution_count": 37,
   "id": "01e31bfd",
   "metadata": {
    "execution": {
     "iopub.execute_input": "2023-07-11T17:48:10.364224Z",
     "iopub.status.busy": "2023-07-11T17:48:10.363712Z",
     "iopub.status.idle": "2023-07-11T17:48:10.369385Z",
     "shell.execute_reply": "2023-07-11T17:48:10.368188Z"
    },
    "papermill": {
     "duration": 0.033099,
     "end_time": "2023-07-11T17:48:10.372089",
     "exception": false,
     "start_time": "2023-07-11T17:48:10.338990",
     "status": "completed"
    },
    "tags": []
   },
   "outputs": [],
   "source": [
    "# Create a grid search object\n",
    "gs_mn = GridSearchCV(estimator=MN, param_grid=param_grid, cv=5)"
   ]
  },
  {
   "cell_type": "code",
   "execution_count": 38,
   "id": "79596896",
   "metadata": {
    "execution": {
     "iopub.execute_input": "2023-07-11T17:48:10.421252Z",
     "iopub.status.busy": "2023-07-11T17:48:10.419889Z",
     "iopub.status.idle": "2023-07-11T17:48:18.845509Z",
     "shell.execute_reply": "2023-07-11T17:48:18.843908Z"
    },
    "papermill": {
     "duration": 8.453849,
     "end_time": "2023-07-11T17:48:18.849398",
     "exception": false,
     "start_time": "2023-07-11T17:48:10.395549",
     "status": "completed"
    },
    "tags": []
   },
   "outputs": [
    {
     "name": "stdout",
     "output_type": "stream",
     "text": [
      "Best Hyperparameters:  {'alpha': 1.0, 'fit_prior': True}\n",
      "Best Score:  0.9829507853571744\n"
     ]
    }
   ],
   "source": [
    "# Fit the grid search to the data\n",
    "gs_mn.fit(X, y)\n",
    "\n",
    "# Get the best hyperparameters and the corresponding score\n",
    "best_params = gs_mn.best_params_\n",
    "best_score = gs_mn.best_score_\n",
    "\n",
    "# Print the best hyperparameters and the corresponding score\n",
    "print(\"Best Hyperparameters: \", best_params)\n",
    "print(\"Best Score: \", best_score)"
   ]
  },
  {
   "cell_type": "code",
   "execution_count": 39,
   "id": "1a6bd56b",
   "metadata": {
    "execution": {
     "iopub.execute_input": "2023-07-11T17:48:18.899718Z",
     "iopub.status.busy": "2023-07-11T17:48:18.898501Z",
     "iopub.status.idle": "2023-07-11T17:48:18.904357Z",
     "shell.execute_reply": "2023-07-11T17:48:18.903236Z"
    },
    "papermill": {
     "duration": 0.0334,
     "end_time": "2023-07-11T17:48:18.907053",
     "exception": false,
     "start_time": "2023-07-11T17:48:18.873653",
     "status": "completed"
    },
    "tags": []
   },
   "outputs": [],
   "source": [
    "MN=MultinomialNB(alpha=1.0, fit_prior= True)"
   ]
  },
  {
   "cell_type": "code",
   "execution_count": 40,
   "id": "fc89e164",
   "metadata": {
    "execution": {
     "iopub.execute_input": "2023-07-11T17:48:18.955522Z",
     "iopub.status.busy": "2023-07-11T17:48:18.954777Z",
     "iopub.status.idle": "2023-07-11T17:48:19.032666Z",
     "shell.execute_reply": "2023-07-11T17:48:19.031310Z"
    },
    "papermill": {
     "duration": 0.105364,
     "end_time": "2023-07-11T17:48:19.036039",
     "exception": false,
     "start_time": "2023-07-11T17:48:18.930675",
     "status": "completed"
    },
    "tags": []
   },
   "outputs": [
    {
     "data": {
      "text/html": [
       "<style>#sk-container-id-4 {color: black;background-color: white;}#sk-container-id-4 pre{padding: 0;}#sk-container-id-4 div.sk-toggleable {background-color: white;}#sk-container-id-4 label.sk-toggleable__label {cursor: pointer;display: block;width: 100%;margin-bottom: 0;padding: 0.3em;box-sizing: border-box;text-align: center;}#sk-container-id-4 label.sk-toggleable__label-arrow:before {content: \"▸\";float: left;margin-right: 0.25em;color: #696969;}#sk-container-id-4 label.sk-toggleable__label-arrow:hover:before {color: black;}#sk-container-id-4 div.sk-estimator:hover label.sk-toggleable__label-arrow:before {color: black;}#sk-container-id-4 div.sk-toggleable__content {max-height: 0;max-width: 0;overflow: hidden;text-align: left;background-color: #f0f8ff;}#sk-container-id-4 div.sk-toggleable__content pre {margin: 0.2em;color: black;border-radius: 0.25em;background-color: #f0f8ff;}#sk-container-id-4 input.sk-toggleable__control:checked~div.sk-toggleable__content {max-height: 200px;max-width: 100%;overflow: auto;}#sk-container-id-4 input.sk-toggleable__control:checked~label.sk-toggleable__label-arrow:before {content: \"▾\";}#sk-container-id-4 div.sk-estimator input.sk-toggleable__control:checked~label.sk-toggleable__label {background-color: #d4ebff;}#sk-container-id-4 div.sk-label input.sk-toggleable__control:checked~label.sk-toggleable__label {background-color: #d4ebff;}#sk-container-id-4 input.sk-hidden--visually {border: 0;clip: rect(1px 1px 1px 1px);clip: rect(1px, 1px, 1px, 1px);height: 1px;margin: -1px;overflow: hidden;padding: 0;position: absolute;width: 1px;}#sk-container-id-4 div.sk-estimator {font-family: monospace;background-color: #f0f8ff;border: 1px dotted black;border-radius: 0.25em;box-sizing: border-box;margin-bottom: 0.5em;}#sk-container-id-4 div.sk-estimator:hover {background-color: #d4ebff;}#sk-container-id-4 div.sk-parallel-item::after {content: \"\";width: 100%;border-bottom: 1px solid gray;flex-grow: 1;}#sk-container-id-4 div.sk-label:hover label.sk-toggleable__label {background-color: #d4ebff;}#sk-container-id-4 div.sk-serial::before {content: \"\";position: absolute;border-left: 1px solid gray;box-sizing: border-box;top: 0;bottom: 0;left: 50%;z-index: 0;}#sk-container-id-4 div.sk-serial {display: flex;flex-direction: column;align-items: center;background-color: white;padding-right: 0.2em;padding-left: 0.2em;position: relative;}#sk-container-id-4 div.sk-item {position: relative;z-index: 1;}#sk-container-id-4 div.sk-parallel {display: flex;align-items: stretch;justify-content: center;background-color: white;position: relative;}#sk-container-id-4 div.sk-item::before, #sk-container-id-4 div.sk-parallel-item::before {content: \"\";position: absolute;border-left: 1px solid gray;box-sizing: border-box;top: 0;bottom: 0;left: 50%;z-index: -1;}#sk-container-id-4 div.sk-parallel-item {display: flex;flex-direction: column;z-index: 1;position: relative;background-color: white;}#sk-container-id-4 div.sk-parallel-item:first-child::after {align-self: flex-end;width: 50%;}#sk-container-id-4 div.sk-parallel-item:last-child::after {align-self: flex-start;width: 50%;}#sk-container-id-4 div.sk-parallel-item:only-child::after {width: 0;}#sk-container-id-4 div.sk-dashed-wrapped {border: 1px dashed gray;margin: 0 0.4em 0.5em 0.4em;box-sizing: border-box;padding-bottom: 0.4em;background-color: white;}#sk-container-id-4 div.sk-label label {font-family: monospace;font-weight: bold;display: inline-block;line-height: 1.2em;}#sk-container-id-4 div.sk-label-container {text-align: center;}#sk-container-id-4 div.sk-container {/* jupyter's `normalize.less` sets `[hidden] { display: none; }` but bootstrap.min.css set `[hidden] { display: none !important; }` so we also need the `!important` here to be able to override the default hidden behavior on the sphinx rendered scikit-learn.org. See: https://github.com/scikit-learn/scikit-learn/issues/21755 */display: inline-block !important;position: relative;}#sk-container-id-4 div.sk-text-repr-fallback {display: none;}</style><div id=\"sk-container-id-4\" class=\"sk-top-container\"><div class=\"sk-text-repr-fallback\"><pre>MultinomialNB()</pre><b>In a Jupyter environment, please rerun this cell to show the HTML representation or trust the notebook. <br />On GitHub, the HTML representation is unable to render, please try loading this page with nbviewer.org.</b></div><div class=\"sk-container\" hidden><div class=\"sk-item\"><div class=\"sk-estimator sk-toggleable\"><input class=\"sk-toggleable__control sk-hidden--visually\" id=\"sk-estimator-id-4\" type=\"checkbox\" checked><label for=\"sk-estimator-id-4\" class=\"sk-toggleable__label sk-toggleable__label-arrow\">MultinomialNB</label><div class=\"sk-toggleable__content\"><pre>MultinomialNB()</pre></div></div></div></div></div>"
      ],
      "text/plain": [
       "MultinomialNB()"
      ]
     },
     "execution_count": 40,
     "metadata": {},
     "output_type": "execute_result"
    }
   ],
   "source": [
    "MN.fit(X_train,y_train)"
   ]
  },
  {
   "cell_type": "code",
   "execution_count": 41,
   "id": "0bd184a2",
   "metadata": {
    "execution": {
     "iopub.execute_input": "2023-07-11T17:48:19.087404Z",
     "iopub.status.busy": "2023-07-11T17:48:19.086235Z",
     "iopub.status.idle": "2023-07-11T17:48:19.109904Z",
     "shell.execute_reply": "2023-07-11T17:48:19.107320Z"
    },
    "papermill": {
     "duration": 0.053625,
     "end_time": "2023-07-11T17:48:19.114402",
     "exception": false,
     "start_time": "2023-07-11T17:48:19.060777",
     "status": "completed"
    },
    "tags": []
   },
   "outputs": [],
   "source": [
    "y_pred_mng=MN.predict(X_test)"
   ]
  },
  {
   "cell_type": "code",
   "execution_count": 42,
   "id": "c2352d03",
   "metadata": {
    "execution": {
     "iopub.execute_input": "2023-07-11T17:48:19.213630Z",
     "iopub.status.busy": "2023-07-11T17:48:19.212834Z",
     "iopub.status.idle": "2023-07-11T17:48:19.225785Z",
     "shell.execute_reply": "2023-07-11T17:48:19.224730Z"
    },
    "papermill": {
     "duration": 0.065411,
     "end_time": "2023-07-11T17:48:19.228368",
     "exception": false,
     "start_time": "2023-07-11T17:48:19.162957",
     "status": "completed"
    },
    "tags": []
   },
   "outputs": [
    {
     "data": {
      "text/plain": [
       "0.9814593301435407"
      ]
     },
     "execution_count": 42,
     "metadata": {},
     "output_type": "execute_result"
    }
   ],
   "source": [
    "accuracy_score(y_test,y_pred_mng)"
   ]
  },
  {
   "cell_type": "code",
   "execution_count": 43,
   "id": "3126cea7",
   "metadata": {
    "execution": {
     "iopub.execute_input": "2023-07-11T17:48:19.276375Z",
     "iopub.status.busy": "2023-07-11T17:48:19.275945Z",
     "iopub.status.idle": "2023-07-11T17:48:19.630491Z",
     "shell.execute_reply": "2023-07-11T17:48:19.628711Z"
    },
    "papermill": {
     "duration": 0.382577,
     "end_time": "2023-07-11T17:48:19.633893",
     "exception": false,
     "start_time": "2023-07-11T17:48:19.251316",
     "status": "completed"
    },
    "tags": []
   },
   "outputs": [
    {
     "data": {
      "text/plain": [
       "<sklearn.metrics._plot.confusion_matrix.ConfusionMatrixDisplay at 0x7a8a7d7743d0>"
      ]
     },
     "execution_count": 43,
     "metadata": {},
     "output_type": "execute_result"
    },
    {
     "data": {
      "image/png": "[encoded data removed]",
      "text/plain": [
       "<Figure size 640x480 with 2 Axes>"
      ]
     },
     "metadata": {},
     "output_type": "display_data"
    }
   ],
   "source": [
    "ConfusionMatrixDisplay(confusion_matrix(y_test,y_pred_mng)).plot()"
   ]
  },
  {
   "cell_type": "markdown",
   "id": "bda3ec8e",
   "metadata": {
    "papermill": {
     "duration": 0.024444,
     "end_time": "2023-07-11T17:48:19.684386",
     "exception": false,
     "start_time": "2023-07-11T17:48:19.659942",
     "status": "completed"
    },
    "tags": []
   },
   "source": [
    "**ANN Implementation**"
   ]
  },
  {
   "cell_type": "code",
   "execution_count": 44,
   "id": "af84f351",
   "metadata": {
    "execution": {
     "iopub.execute_input": "2023-07-11T17:48:19.734344Z",
     "iopub.status.busy": "2023-07-11T17:48:19.733813Z",
     "iopub.status.idle": "2023-07-11T17:48:30.825051Z",
     "shell.execute_reply": "2023-07-11T17:48:30.823211Z"
    },
    "papermill": {
     "duration": 11.120263,
     "end_time": "2023-07-11T17:48:30.828512",
     "exception": false,
     "start_time": "2023-07-11T17:48:19.708249",
     "status": "completed"
    },
    "tags": []
   },
   "outputs": [
    {
     "name": "stderr",
     "output_type": "stream",
     "text": [
      "/opt/conda/lib/python3.10/site-packages/tensorflow_io/python/ops/__init__.py:98: UserWarning: unable to load libtensorflow_io_plugins.so: unable to open file: libtensorflow_io_plugins.so, from paths: ['/opt/conda/lib/python3.10/site-packages/tensorflow_io/python/ops/libtensorflow_io_plugins.so']\n",
      "caused by: ['/opt/conda/lib/python3.10/site-packages/tensorflow_io/python/ops/libtensorflow_io_plugins.so: undefined symbol: _ZN3tsl6StatusC1EN10tensorflow5error4CodeESt17basic_string_viewIcSt11char_traitsIcEENS_14SourceLocationE']\n",
      "  warnings.warn(f\"unable to load libtensorflow_io_plugins.so: {e}\")\n",
      "/opt/conda/lib/python3.10/site-packages/tensorflow_io/python/ops/__init__.py:104: UserWarning: file system plugins are not loaded: unable to open file: libtensorflow_io.so, from paths: ['/opt/conda/lib/python3.10/site-packages/tensorflow_io/python/ops/libtensorflow_io.so']\n",
      "caused by: ['/opt/conda/lib/python3.10/site-packages/tensorflow_io/python/ops/libtensorflow_io.so: undefined symbol: _ZTVN10tensorflow13GcsFileSystemE']\n",
      "  warnings.warn(f\"file system plugins are not loaded: {e}\")\n"
     ]
    }
   ],
   "source": [
    "import tensorflow\n",
    "from tensorflow import keras\n",
    "from tensorflow.keras import layers,losses\n",
    "from tensorflow.keras.models import Sequential\n",
    "from tensorflow.keras import callbacks"
   ]
  },
  {
   "cell_type": "code",
   "execution_count": 45,
   "id": "ebe51cb8",
   "metadata": {
    "execution": {
     "iopub.execute_input": "2023-07-11T17:48:30.882738Z",
     "iopub.status.busy": "2023-07-11T17:48:30.880576Z",
     "iopub.status.idle": "2023-07-11T17:48:31.012178Z",
     "shell.execute_reply": "2023-07-11T17:48:31.010733Z"
    },
    "papermill": {
     "duration": 0.161869,
     "end_time": "2023-07-11T17:48:31.015549",
     "exception": false,
     "start_time": "2023-07-11T17:48:30.853680",
     "status": "completed"
    },
    "tags": []
   },
   "outputs": [],
   "source": [
    "model=Sequential()"
   ]
  },
  {
   "cell_type": "code",
   "execution_count": 46,
   "id": "c18a672f",
   "metadata": {
    "execution": {
     "iopub.execute_input": "2023-07-11T17:48:31.066515Z",
     "iopub.status.busy": "2023-07-11T17:48:31.066074Z",
     "iopub.status.idle": "2023-07-11T17:48:31.081123Z",
     "shell.execute_reply": "2023-07-11T17:48:31.080125Z"
    },
    "papermill": {
     "duration": 0.043359,
     "end_time": "2023-07-11T17:48:31.083707",
     "exception": false,
     "start_time": "2023-07-11T17:48:31.040348",
     "status": "completed"
    },
    "tags": []
   },
   "outputs": [],
   "source": [
    "model.add(layers.Dense(32,activation='relu'))\n",
    "model.add(layers.Dense(1,activation='sigmoid'))"
   ]
  },
  {
   "cell_type": "code",
   "execution_count": 47,
   "id": "da0a3804",
   "metadata": {
    "execution": {
     "iopub.execute_input": "2023-07-11T17:48:31.135697Z",
     "iopub.status.busy": "2023-07-11T17:48:31.134977Z",
     "iopub.status.idle": "2023-07-11T17:48:31.169770Z",
     "shell.execute_reply": "2023-07-11T17:48:31.168805Z"
    },
    "papermill": {
     "duration": 0.064453,
     "end_time": "2023-07-11T17:48:31.172783",
     "exception": false,
     "start_time": "2023-07-11T17:48:31.108330",
     "status": "completed"
    },
    "tags": []
   },
   "outputs": [],
   "source": [
    "model.compile(loss=losses.binary_crossentropy,\n",
    "             optimizer='adam',\n",
    "             metrics=['accuracy'])"
   ]
  },
  {
   "cell_type": "code",
   "execution_count": 48,
   "id": "2c67923e",
   "metadata": {
    "execution": {
     "iopub.execute_input": "2023-07-11T17:48:31.222071Z",
     "iopub.status.busy": "2023-07-11T17:48:31.221599Z",
     "iopub.status.idle": "2023-07-11T17:48:31.227670Z",
     "shell.execute_reply": "2023-07-11T17:48:31.226356Z"
    },
    "papermill": {
     "duration": 0.033593,
     "end_time": "2023-07-11T17:48:31.230046",
     "exception": false,
     "start_time": "2023-07-11T17:48:31.196453",
     "status": "completed"
    },
    "tags": []
   },
   "outputs": [],
   "source": [
    "callback = callbacks.EarlyStopping(\n",
    "    monitor=\"val_loss\",\n",
    "    min_delta=0.00001,\n",
    "    patience=20,\n",
    "    verbose=1,\n",
    "    mode=\"auto\",\n",
    "    baseline=None,\n",
    "    restore_best_weights=False\n",
    ")"
   ]
  },
  {
   "cell_type": "code",
   "execution_count": 49,
   "id": "9f14776e",
   "metadata": {
    "execution": {
     "iopub.execute_input": "2023-07-11T17:48:31.279156Z",
     "iopub.status.busy": "2023-07-11T17:48:31.278436Z",
     "iopub.status.idle": "2023-07-11T17:48:42.831672Z",
     "shell.execute_reply": "2023-07-11T17:48:42.830160Z"
    },
    "papermill": {
     "duration": 11.581562,
     "end_time": "2023-07-11T17:48:42.835086",
     "exception": false,
     "start_time": "2023-07-11T17:48:31.253524",
     "status": "completed"
    },
    "tags": []
   },
   "outputs": [
    {
     "name": "stdout",
     "output_type": "stream",
     "text": [
      "Epoch 1/50\n",
      "8/8 [==============================] - 2s 77ms/step - loss: 0.6813 - accuracy: 0.5951 - val_loss: 0.6397 - val_accuracy: 0.9187\n",
      "Epoch 2/50\n",
      "8/8 [==============================] - 0s 22ms/step - loss: 0.6064 - accuracy: 0.9610 - val_loss: 0.5753 - val_accuracy: 0.9713\n",
      "Epoch 3/50\n",
      "8/8 [==============================] - 0s 19ms/step - loss: 0.5407 - accuracy: 0.9769 - val_loss: 0.5136 - val_accuracy: 0.9713\n",
      "Epoch 4/50\n",
      "8/8 [==============================] - 0s 24ms/step - loss: 0.4779 - accuracy: 0.9779 - val_loss: 0.4553 - val_accuracy: 0.9755\n",
      "Epoch 5/50\n",
      "8/8 [==============================] - 0s 24ms/step - loss: 0.4199 - accuracy: 0.9803 - val_loss: 0.4023 - val_accuracy: 0.9785\n",
      "Epoch 6/50\n",
      "8/8 [==============================] - 0s 23ms/step - loss: 0.3681 - accuracy: 0.9821 - val_loss: 0.3563 - val_accuracy: 0.9809\n",
      "Epoch 7/50\n",
      "8/8 [==============================] - 0s 18ms/step - loss: 0.3237 - accuracy: 0.9836 - val_loss: 0.3172 - val_accuracy: 0.9815\n",
      "Epoch 8/50\n",
      "8/8 [==============================] - 0s 19ms/step - loss: 0.2861 - accuracy: 0.9862 - val_loss: 0.2843 - val_accuracy: 0.9839\n",
      "Epoch 9/50\n",
      "8/8 [==============================] - 0s 24ms/step - loss: 0.2543 - accuracy: 0.9867 - val_loss: 0.2565 - val_accuracy: 0.9839\n",
      "Epoch 10/50\n",
      "8/8 [==============================] - 0s 18ms/step - loss: 0.2271 - accuracy: 0.9879 - val_loss: 0.2330 - val_accuracy: 0.9850\n",
      "Epoch 11/50\n",
      "8/8 [==============================] - 0s 17ms/step - loss: 0.2040 - accuracy: 0.9892 - val_loss: 0.2130 - val_accuracy: 0.9850\n",
      "Epoch 12/50\n",
      "8/8 [==============================] - 0s 23ms/step - loss: 0.1843 - accuracy: 0.9892 - val_loss: 0.1959 - val_accuracy: 0.9850\n",
      "Epoch 13/50\n",
      "8/8 [==============================] - 0s 23ms/step - loss: 0.1671 - accuracy: 0.9890 - val_loss: 0.1813 - val_accuracy: 0.9850\n",
      "Epoch 14/50\n",
      "8/8 [==============================] - 0s 18ms/step - loss: 0.1523 - accuracy: 0.9897 - val_loss: 0.1686 - val_accuracy: 0.9856\n",
      "Epoch 15/50\n",
      "8/8 [==============================] - 0s 18ms/step - loss: 0.1393 - accuracy: 0.9903 - val_loss: 0.1577 - val_accuracy: 0.9856\n",
      "Epoch 16/50\n",
      "8/8 [==============================] - 0s 24ms/step - loss: 0.1279 - accuracy: 0.9921 - val_loss: 0.1481 - val_accuracy: 0.9856\n",
      "Epoch 17/50\n",
      "8/8 [==============================] - 0s 18ms/step - loss: 0.1178 - accuracy: 0.9923 - val_loss: 0.1397 - val_accuracy: 0.9874\n",
      "Epoch 18/50\n",
      "8/8 [==============================] - 0s 17ms/step - loss: 0.1089 - accuracy: 0.9931 - val_loss: 0.1322 - val_accuracy: 0.9880\n",
      "Epoch 19/50\n",
      "8/8 [==============================] - 0s 19ms/step - loss: 0.1008 - accuracy: 0.9933 - val_loss: 0.1257 - val_accuracy: 0.9856\n",
      "Epoch 20/50\n",
      "8/8 [==============================] - 0s 18ms/step - loss: 0.0937 - accuracy: 0.9933 - val_loss: 0.1198 - val_accuracy: 0.9856\n",
      "Epoch 21/50\n",
      "8/8 [==============================] - 0s 18ms/step - loss: 0.0873 - accuracy: 0.9936 - val_loss: 0.1146 - val_accuracy: 0.9856\n",
      "Epoch 22/50\n",
      "8/8 [==============================] - 0s 18ms/step - loss: 0.0815 - accuracy: 0.9944 - val_loss: 0.1100 - val_accuracy: 0.9862\n",
      "Epoch 23/50\n",
      "8/8 [==============================] - 0s 19ms/step - loss: 0.0762 - accuracy: 0.9949 - val_loss: 0.1058 - val_accuracy: 0.9862\n",
      "Epoch 24/50\n",
      "8/8 [==============================] - 0s 18ms/step - loss: 0.0714 - accuracy: 0.9949 - val_loss: 0.1020 - val_accuracy: 0.9862\n",
      "Epoch 25/50\n",
      "8/8 [==============================] - 0s 20ms/step - loss: 0.0672 - accuracy: 0.9954 - val_loss: 0.0985 - val_accuracy: 0.9862\n",
      "Epoch 26/50\n",
      "8/8 [==============================] - 0s 18ms/step - loss: 0.0631 - accuracy: 0.9956 - val_loss: 0.0955 - val_accuracy: 0.9868\n",
      "Epoch 27/50\n",
      "8/8 [==============================] - 0s 18ms/step - loss: 0.0596 - accuracy: 0.9962 - val_loss: 0.0927 - val_accuracy: 0.9868\n",
      "Epoch 28/50\n",
      "8/8 [==============================] - 0s 18ms/step - loss: 0.0562 - accuracy: 0.9964 - val_loss: 0.0903 - val_accuracy: 0.9868\n",
      "Epoch 29/50\n",
      "8/8 [==============================] - 0s 18ms/step - loss: 0.0532 - accuracy: 0.9967 - val_loss: 0.0880 - val_accuracy: 0.9868\n",
      "Epoch 30/50\n",
      "8/8 [==============================] - 0s 24ms/step - loss: 0.0504 - accuracy: 0.9969 - val_loss: 0.0858 - val_accuracy: 0.9868\n",
      "Epoch 31/50\n",
      "8/8 [==============================] - 0s 17ms/step - loss: 0.0478 - accuracy: 0.9972 - val_loss: 0.0839 - val_accuracy: 0.9868\n",
      "Epoch 32/50\n",
      "8/8 [==============================] - 0s 17ms/step - loss: 0.0455 - accuracy: 0.9974 - val_loss: 0.0821 - val_accuracy: 0.9868\n",
      "Epoch 33/50\n",
      "8/8 [==============================] - 0s 19ms/step - loss: 0.0433 - accuracy: 0.9974 - val_loss: 0.0805 - val_accuracy: 0.9868\n",
      "Epoch 34/50\n",
      "8/8 [==============================] - 0s 17ms/step - loss: 0.0412 - accuracy: 0.9974 - val_loss: 0.0790 - val_accuracy: 0.9868\n",
      "Epoch 35/50\n",
      "8/8 [==============================] - 0s 18ms/step - loss: 0.0393 - accuracy: 0.9979 - val_loss: 0.0777 - val_accuracy: 0.9868\n",
      "Epoch 36/50\n",
      "8/8 [==============================] - 0s 18ms/step - loss: 0.0375 - accuracy: 0.9979 - val_loss: 0.0764 - val_accuracy: 0.9868\n",
      "Epoch 37/50\n",
      "8/8 [==============================] - 0s 18ms/step - loss: 0.0359 - accuracy: 0.9979 - val_loss: 0.0753 - val_accuracy: 0.9868\n",
      "Epoch 38/50\n",
      "8/8 [==============================] - 0s 19ms/step - loss: 0.0343 - accuracy: 0.9979 - val_loss: 0.0743 - val_accuracy: 0.9868\n",
      "Epoch 39/50\n",
      "8/8 [==============================] - 0s 17ms/step - loss: 0.0329 - accuracy: 0.9979 - val_loss: 0.0733 - val_accuracy: 0.9868\n",
      "Epoch 40/50\n",
      "8/8 [==============================] - 0s 17ms/step - loss: 0.0315 - accuracy: 0.9979 - val_loss: 0.0724 - val_accuracy: 0.9868\n",
      "Epoch 41/50\n",
      "8/8 [==============================] - 0s 23ms/step - loss: 0.0303 - accuracy: 0.9979 - val_loss: 0.0715 - val_accuracy: 0.9868\n",
      "Epoch 42/50\n",
      "8/8 [==============================] - 0s 18ms/step - loss: 0.0291 - accuracy: 0.9979 - val_loss: 0.0708 - val_accuracy: 0.9862\n",
      "Epoch 43/50\n",
      "8/8 [==============================] - 0s 18ms/step - loss: 0.0279 - accuracy: 0.9979 - val_loss: 0.0700 - val_accuracy: 0.9862\n",
      "Epoch 44/50\n",
      "8/8 [==============================] - 0s 17ms/step - loss: 0.0269 - accuracy: 0.9979 - val_loss: 0.0694 - val_accuracy: 0.9862\n",
      "Epoch 45/50\n",
      "8/8 [==============================] - 0s 19ms/step - loss: 0.0259 - accuracy: 0.9979 - val_loss: 0.0688 - val_accuracy: 0.9862\n",
      "Epoch 46/50\n",
      "8/8 [==============================] - 0s 22ms/step - loss: 0.0249 - accuracy: 0.9979 - val_loss: 0.0683 - val_accuracy: 0.9862\n",
      "Epoch 47/50\n",
      "8/8 [==============================] - 0s 18ms/step - loss: 0.0241 - accuracy: 0.9979 - val_loss: 0.0678 - val_accuracy: 0.9862\n",
      "Epoch 48/50\n",
      "8/8 [==============================] - 0s 18ms/step - loss: 0.0232 - accuracy: 0.9979 - val_loss: 0.0673 - val_accuracy: 0.9862\n",
      "Epoch 49/50\n",
      "8/8 [==============================] - 0s 22ms/step - loss: 0.0224 - accuracy: 0.9982 - val_loss: 0.0669 - val_accuracy: 0.9862\n",
      "Epoch 50/50\n",
      "8/8 [==============================] - 0s 18ms/step - loss: 0.0216 - accuracy: 0.9982 - val_loss: 0.0664 - val_accuracy: 0.9862\n"
     ]
    }
   ],
   "source": [
    "history=model.fit(X_train,y_train,epochs=50,validation_data=(X_test,y_test),batch_size=500,callbacks=callback)"
   ]
  },
  {
   "cell_type": "code",
   "execution_count": 50,
   "id": "21f9f8e7",
   "metadata": {
    "execution": {
     "iopub.execute_input": "2023-07-11T17:48:42.923090Z",
     "iopub.status.busy": "2023-07-11T17:48:42.922558Z",
     "iopub.status.idle": "2023-07-11T17:48:43.445942Z",
     "shell.execute_reply": "2023-07-11T17:48:43.444785Z"
    },
    "papermill": {
     "duration": 0.57071,
     "end_time": "2023-07-11T17:48:43.448711",
     "exception": false,
     "start_time": "2023-07-11T17:48:42.878001",
     "status": "completed"
    },
    "tags": []
   },
   "outputs": [
    {
     "name": "stdout",
     "output_type": "stream",
     "text": [
      "53/53 [==============================] - 0s 2ms/step\n"
     ]
    }
   ],
   "source": [
    "y_pred_ann=model.predict(X_test)"
   ]
  },
  {
   "cell_type": "code",
   "execution_count": 51,
   "id": "8f6ac5fe",
   "metadata": {
    "execution": {
     "iopub.execute_input": "2023-07-11T17:48:43.536412Z",
     "iopub.status.busy": "2023-07-11T17:48:43.535030Z",
     "iopub.status.idle": "2023-07-11T17:48:43.904016Z",
     "shell.execute_reply": "2023-07-11T17:48:43.902588Z"
    },
    "papermill": {
     "duration": 0.415856,
     "end_time": "2023-07-11T17:48:43.907076",
     "exception": false,
     "start_time": "2023-07-11T17:48:43.491220",
     "status": "completed"
    },
    "tags": []
   },
   "outputs": [
    {
     "data": {
      "text/plain": [
       "<matplotlib.legend.Legend at 0x7a8a2c4c45b0>"
      ]
     },
     "execution_count": 51,
     "metadata": {},
     "output_type": "execute_result"
    },
    {
     "data": {
      "image/png": "[encoded data removed]",
      "text/plain": [
       "<Figure size 640x480 with 1 Axes>"
      ]
     },
     "metadata": {},
     "output_type": "display_data"
    }
   ],
   "source": [
    "plt.plot(history.history['accuracy'],label=\"Train Accuracy\")\n",
    "plt.plot(history.history['val_accuracy'],label=\"Test Accuracy\")\n",
    "plt.xlabel(\"No. of Epochs\")\n",
    "plt.ylabel('Accuracy')\n",
    "plt.legend()"
   ]
  },
  {
   "cell_type": "code",
   "execution_count": 52,
   "id": "c9d1a4d5",
   "metadata": {
    "execution": {
     "iopub.execute_input": "2023-07-11T17:48:43.998721Z",
     "iopub.status.busy": "2023-07-11T17:48:43.998042Z",
     "iopub.status.idle": "2023-07-11T17:48:44.333059Z",
     "shell.execute_reply": "2023-07-11T17:48:44.331630Z"
    },
    "papermill": {
     "duration": 0.383897,
     "end_time": "2023-07-11T17:48:44.335907",
     "exception": false,
     "start_time": "2023-07-11T17:48:43.952010",
     "status": "completed"
    },
    "tags": []
   },
   "outputs": [
    {
     "data": {
      "text/plain": [
       "<matplotlib.legend.Legend at 0x7a8a24f87f10>"
      ]
     },
     "execution_count": 52,
     "metadata": {},
     "output_type": "execute_result"
    },
    {
     "data": {
      "image/png": "[encoded data removed]",
      "text/plain": [
       "<Figure size 640x480 with 1 Axes>"
      ]
     },
     "metadata": {},
     "output_type": "display_data"
    }
   ],
   "source": [
    "plt.plot(history.history['loss'],label=\"Train loss\")\n",
    "plt.plot(history.history['val_loss'],label=\"Test loss\")\n",
    "plt.xlabel(\"No. of Epochs\")\n",
    "plt.ylabel('Loss')\n",
    "plt.legend()"
   ]
  },
  {
   "cell_type": "code",
   "execution_count": 53,
   "id": "542990b6",
   "metadata": {
    "execution": {
     "iopub.execute_input": "2023-07-11T17:48:44.427685Z",
     "iopub.status.busy": "2023-07-11T17:48:44.426113Z",
     "iopub.status.idle": "2023-07-11T17:48:44.432933Z",
     "shell.execute_reply": "2023-07-11T17:48:44.431956Z"
    },
    "papermill": {
     "duration": 0.05556,
     "end_time": "2023-07-11T17:48:44.435572",
     "exception": false,
     "start_time": "2023-07-11T17:48:44.380012",
     "status": "completed"
    },
    "tags": []
   },
   "outputs": [],
   "source": [
    "import numpy as np\n",
    "acc_ann=np.max(history.history['accuracy'])*100"
   ]
  },
  {
   "cell_type": "code",
   "execution_count": 54,
   "id": "ef0ef706",
   "metadata": {
    "execution": {
     "iopub.execute_input": "2023-07-11T17:48:44.526981Z",
     "iopub.status.busy": "2023-07-11T17:48:44.526311Z",
     "iopub.status.idle": "2023-07-11T17:48:44.534637Z",
     "shell.execute_reply": "2023-07-11T17:48:44.533441Z"
    },
    "papermill": {
     "duration": 0.057613,
     "end_time": "2023-07-11T17:48:44.537556",
     "exception": false,
     "start_time": "2023-07-11T17:48:44.479943",
     "status": "completed"
    },
    "tags": []
   },
   "outputs": [],
   "source": [
    "s={\n",
    "    'Model Name':['Guassion NB','Multinomial NB','Bernoulli NB','ANN'],\n",
    "    'Score':[accuracy_score(y_test,y_pred_gn)*100,accuracy_score(y_test,y_pred_mn)*100,accuracy_score(y_test,y_pred_bn)*100,acc_ann]\n",
    "}"
   ]
  },
  {
   "cell_type": "code",
   "execution_count": 55,
   "id": "0314af1d",
   "metadata": {
    "execution": {
     "iopub.execute_input": "2023-07-11T17:48:44.628074Z",
     "iopub.status.busy": "2023-07-11T17:48:44.626788Z",
     "iopub.status.idle": "2023-07-11T17:48:44.638925Z",
     "shell.execute_reply": "2023-07-11T17:48:44.637890Z"
    },
    "papermill": {
     "duration": 0.060567,
     "end_time": "2023-07-11T17:48:44.641609",
     "exception": false,
     "start_time": "2023-07-11T17:48:44.581042",
     "status": "completed"
    },
    "tags": []
   },
   "outputs": [
    {
     "data": {
      "text/html": [
       "<div>\n",
       "<style scoped>\n",
       "    .dataframe tbody tr th:only-of-type {\n",
       "        vertical-align: middle;\n",
       "    }\n",
       "\n",
       "    .dataframe tbody tr th {\n",
       "        vertical-align: top;\n",
       "    }\n",
       "\n",
       "    .dataframe thead th {\n",
       "        text-align: right;\n",
       "    }\n",
       "</style>\n",
       "<table border=\"1\" class=\"dataframe\">\n",
       "  <thead>\n",
       "    <tr style=\"text-align: right;\">\n",
       "      <th></th>\n",
       "      <th>Model Name</th>\n",
       "      <th>Score</th>\n",
       "    </tr>\n",
       "  </thead>\n",
       "  <tbody>\n",
       "    <tr>\n",
       "      <th>0</th>\n",
       "      <td>Guassion NB</td>\n",
       "      <td>85.406699</td>\n",
       "    </tr>\n",
       "    <tr>\n",
       "      <th>1</th>\n",
       "      <td>Multinomial NB</td>\n",
       "      <td>98.145933</td>\n",
       "    </tr>\n",
       "    <tr>\n",
       "      <th>2</th>\n",
       "      <td>Bernoulli NB</td>\n",
       "      <td>98.444976</td>\n",
       "    </tr>\n",
       "    <tr>\n",
       "      <th>3</th>\n",
       "      <td>ANN</td>\n",
       "      <td>99.820513</td>\n",
       "    </tr>\n",
       "  </tbody>\n",
       "</table>\n",
       "</div>"
      ],
      "text/plain": [
       "       Model Name      Score\n",
       "0     Guassion NB  85.406699\n",
       "1  Multinomial NB  98.145933\n",
       "2    Bernoulli NB  98.444976\n",
       "3             ANN  99.820513"
      ]
     },
     "execution_count": 55,
     "metadata": {},
     "output_type": "execute_result"
    }
   ],
   "source": [
    "pd.DataFrame(s)"
   ]
  },
  {
   "cell_type": "code",
   "execution_count": null,
   "id": "d933d323",
   "metadata": {
    "papermill": {
     "duration": 0.044623,
     "end_time": "2023-07-11T17:48:44.731038",
     "exception": false,
     "start_time": "2023-07-11T17:48:44.686415",
     "status": "completed"
    },
    "tags": []
   },
   "outputs": [],
   "source": []
  }
 ],
 "metadata": {
  "kernelspec": {
   "display_name": "Python 3",
   "language": "python",
   "name": "python3"
  },
  "language_info": {
   "codemirror_mode": {
    "name": "ipython",
    "version": 3
   },
   "file_extension": ".py",
   "mimetype": "text/x-python",
   "name": "python",
   "nbconvert_exporter": "python",
   "pygments_lexer": "ipython3",
   "version": "3.10.12"
  },
  "papermill": {
   "default_parameters": {},
   "duration": 74.063337,
   "end_time": "2023-07-11T17:48:47.928628",
   "environment_variables": {},
   "exception": null,
   "input_path": "__notebook__.ipynb",
   "output_path": "__notebook__.ipynb",
   "parameters": {},
   "start_time": "2023-07-11T17:47:33.865291",
   "version": "2.4.0"
  }
 },
 "nbformat": 4,
 "nbformat_minor": 5
}

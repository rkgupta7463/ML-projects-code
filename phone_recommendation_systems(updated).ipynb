{
  "metadata": {
    "kernelspec": {
      "language": "python",
      "display_name": "Python 3",
      "name": "python3"
    },
    "language_info": {
      "name": "python",
      "version": "3.10.12",
      "mimetype": "text/x-python",
      "codemirror_mode": {
        "name": "ipython",
        "version": 3
      },
      "pygments_lexer": "ipython3",
      "nbconvert_exporter": "python",
      "file_extension": ".py"
    },
    "colab": {
      "provenance": [],
      "include_colab_link": true
    }
  },
  "nbformat_minor": 0,
  "nbformat": 4,
  "cells": [
    {
      "cell_type": "markdown",
      "metadata": {
        "id": "view-in-github",
        "colab_type": "text"
      },
      "source": [
        "<a href=\"https://colab.research.google.com/github/rkgupta7463/ML-projects-code/blob/main/phone_recommendation_systems(updated).ipynb\" target=\"_parent\"><img src=\"https://colab.research.google.com/assets/colab-badge.svg\" alt=\"Open In Colab\"/></a>"
      ]
    },
    {
      "cell_type": "markdown",
      "source": [
        "### How to use this project to in your colab notebook\n",
        "**Follow the steps:-**\n",
        "1. Download Your Kaggle APIs Key and password file from your kaggle account in setting section"
      ],
      "metadata": {
        "id": "iUBCnF7W4IH0"
      }
    },
    {
      "cell_type": "code",
      "source": [
        "# This Python 3 environment comes with many helpful analytics libraries installed\n",
        "# It is defined by the kaggle/python Docker image: https://github.com/kaggle/docker-python\n",
        "# For example, here's several helpful packages to load\n",
        "\n",
        "import numpy as np # linear algebra\n",
        "import pandas as pd # data processing, CSV file I/O (e.g. pd.read_csv)\n",
        "\n",
        "# Input data files are available in the read-only \"../input/\" directory\n",
        "# For example, running this (by clicking run or pressing Shift+Enter) will list all files under the input directory\n",
        "\n",
        "import os\n",
        "for dirname, _, filenames in os.walk('/kaggle/input'):\n",
        "    for filename in filenames:\n",
        "        print(os.path.join(dirname, filename))\n",
        "\n",
        "# You can write up to 20GB to the current directory (/kaggle/working/) that gets preserved as output when you create a version using \"Save & Run All\"\n",
        "# You can also write temporary files to /kaggle/temp/, but they won't be saved outside of the current session"
      ],
      "metadata": {
        "_uuid": "8f2839f25d086af736a60e9eeb907d3b93b6e0e5",
        "_cell_guid": "b1076dfc-b9ad-4769-8c92-a6c4dae69d19",
        "execution": {
          "iopub.status.busy": "2023-07-31T05:33:58.695990Z",
          "iopub.execute_input": "2023-07-31T05:33:58.696766Z",
          "iopub.status.idle": "2023-07-31T05:33:58.734462Z",
          "shell.execute_reply.started": "2023-07-31T05:33:58.696724Z",
          "shell.execute_reply": "2023-07-31T05:33:58.733080Z"
        },
        "trusted": true,
        "id": "ttL8YZY44C8C",
        "outputId": "30703e8b-92b5-4f56-b625-3f931c94d5f4"
      },
      "execution_count": null,
      "outputs": [
        {
          "name": "stdout",
          "text": "/kaggle/input/mobile-recommendation-system-dataset/mobile_recommendation_system_dataset.csv\n",
          "output_type": "stream"
        }
      ]
    },
    {
      "cell_type": "code",
      "source": [
        "df=pd.read_csv('/kaggle/input/mobile-recommendation-system-dataset/mobile_recommendation_system_dataset.csv')"
      ],
      "metadata": {
        "execution": {
          "iopub.status.busy": "2023-07-31T05:34:22.683659Z",
          "iopub.execute_input": "2023-07-31T05:34:22.684105Z",
          "iopub.status.idle": "2023-07-31T05:34:22.752829Z",
          "shell.execute_reply.started": "2023-07-31T05:34:22.684070Z",
          "shell.execute_reply": "2023-07-31T05:34:22.751777Z"
        },
        "trusted": true,
        "id": "41lWFUCa4C8F"
      },
      "execution_count": null,
      "outputs": []
    },
    {
      "cell_type": "code",
      "source": [
        "df.shape"
      ],
      "metadata": {
        "execution": {
          "iopub.status.busy": "2023-07-31T05:34:29.131723Z",
          "iopub.execute_input": "2023-07-31T05:34:29.132070Z",
          "iopub.status.idle": "2023-07-31T05:34:29.140838Z",
          "shell.execute_reply.started": "2023-07-31T05:34:29.132038Z",
          "shell.execute_reply": "2023-07-31T05:34:29.139694Z"
        },
        "trusted": true,
        "id": "GEWLCHt-4C8G",
        "outputId": "0e92d2b5-c69a-4ee3-a9d5-dff6f33c2d90"
      },
      "execution_count": null,
      "outputs": [
        {
          "execution_count": 3,
          "output_type": "execute_result",
          "data": {
            "text/plain": "(2546, 5)"
          },
          "metadata": {}
        }
      ]
    },
    {
      "cell_type": "code",
      "source": [
        "df.head()"
      ],
      "metadata": {
        "execution": {
          "iopub.status.busy": "2023-07-31T05:35:20.550166Z",
          "iopub.execute_input": "2023-07-31T05:35:20.550595Z",
          "iopub.status.idle": "2023-07-31T05:35:20.568135Z",
          "shell.execute_reply.started": "2023-07-31T05:35:20.550562Z",
          "shell.execute_reply": "2023-07-31T05:35:20.564182Z"
        },
        "trusted": true,
        "id": "_3c-A9Xa4C8H",
        "outputId": "6c0f6a61-c42a-44d4-d3f6-fb3dc3822c5d"
      },
      "execution_count": null,
      "outputs": [
        {
          "execution_count": 6,
          "output_type": "execute_result",
          "data": {
            "text/plain": "                                        name  ratings    price  \\\n0  REDMI Note 12 Pro 5G (Onyx Black, 128 GB)      4.2    23999   \n1        OPPO F11 Pro (Aurora Green, 128 GB)      4.5  ₹20,999   \n2     REDMI Note 11 (Starburst White, 64 GB)      4.2    13149   \n3     OnePlus Nord CE 5G (Blue Void, 256 GB)      4.1    21999   \n4        APPLE iPhone 13 mini (Blue, 128 GB)      4.6     3537   \n\n                                              imgURL  \\\n0  https://rukminim2.flixcart.com/image/312/312/x...   \n1  https://rukminim2.flixcart.com/image/312/312/k...   \n2  https://rukminim2.flixcart.com/image/312/312/x...   \n3  https://rukminim2.flixcart.com/image/312/312/x...   \n4  https://rukminim2.flixcart.com/image/312/312/k...   \n\n                                              corpus  \n0  Storage128 GBRAM6  SystemAndroid 12Processor T...  \n1  Storage128 GBRAM6 GBExpandable Storage256GB  S...  \n2  Storage64 GBRAM4  SystemAndroid 11Processor Sp...  \n3  Storage256 GBRAM12  SystemAndroid Q 11Processo...  \n4  Storage128  SystemiOS 15Processor TypeA15 Bion...  ",
            "text/html": "<div>\n<style scoped>\n    .dataframe tbody tr th:only-of-type {\n        vertical-align: middle;\n    }\n\n    .dataframe tbody tr th {\n        vertical-align: top;\n    }\n\n    .dataframe thead th {\n        text-align: right;\n    }\n</style>\n<table border=\"1\" class=\"dataframe\">\n  <thead>\n    <tr style=\"text-align: right;\">\n      <th></th>\n      <th>name</th>\n      <th>ratings</th>\n      <th>price</th>\n      <th>imgURL</th>\n      <th>corpus</th>\n    </tr>\n  </thead>\n  <tbody>\n    <tr>\n      <th>0</th>\n      <td>REDMI Note 12 Pro 5G (Onyx Black, 128 GB)</td>\n      <td>4.2</td>\n      <td>23999</td>\n      <td>https://rukminim2.flixcart.com/image/312/312/x...</td>\n      <td>Storage128 GBRAM6  SystemAndroid 12Processor T...</td>\n    </tr>\n    <tr>\n      <th>1</th>\n      <td>OPPO F11 Pro (Aurora Green, 128 GB)</td>\n      <td>4.5</td>\n      <td>₹20,999</td>\n      <td>https://rukminim2.flixcart.com/image/312/312/k...</td>\n      <td>Storage128 GBRAM6 GBExpandable Storage256GB  S...</td>\n    </tr>\n    <tr>\n      <th>2</th>\n      <td>REDMI Note 11 (Starburst White, 64 GB)</td>\n      <td>4.2</td>\n      <td>13149</td>\n      <td>https://rukminim2.flixcart.com/image/312/312/x...</td>\n      <td>Storage64 GBRAM4  SystemAndroid 11Processor Sp...</td>\n    </tr>\n    <tr>\n      <th>3</th>\n      <td>OnePlus Nord CE 5G (Blue Void, 256 GB)</td>\n      <td>4.1</td>\n      <td>21999</td>\n      <td>https://rukminim2.flixcart.com/image/312/312/x...</td>\n      <td>Storage256 GBRAM12  SystemAndroid Q 11Processo...</td>\n    </tr>\n    <tr>\n      <th>4</th>\n      <td>APPLE iPhone 13 mini (Blue, 128 GB)</td>\n      <td>4.6</td>\n      <td>3537</td>\n      <td>https://rukminim2.flixcart.com/image/312/312/k...</td>\n      <td>Storage128  SystemiOS 15Processor TypeA15 Bion...</td>\n    </tr>\n  </tbody>\n</table>\n</div>"
          },
          "metadata": {}
        }
      ]
    },
    {
      "cell_type": "code",
      "source": [
        "df.tail()"
      ],
      "metadata": {
        "execution": {
          "iopub.status.busy": "2023-07-31T05:35:38.574619Z",
          "iopub.execute_input": "2023-07-31T05:35:38.575032Z",
          "iopub.status.idle": "2023-07-31T05:35:38.591197Z",
          "shell.execute_reply.started": "2023-07-31T05:35:38.575002Z",
          "shell.execute_reply": "2023-07-31T05:35:38.590012Z"
        },
        "trusted": true,
        "id": "Yib1FrBq4C8H",
        "outputId": "838fd869-f480-464c-bf10-7cfcadf7ec25"
      },
      "execution_count": null,
      "outputs": [
        {
          "execution_count": 7,
          "output_type": "execute_result",
          "data": {
            "text/plain": "                                                   name  ratings  price  \\\n2541                 REDMI Note 9 (Shadow Black, 64 GB)      4.3  11999   \n2542                OnePlus 9 5G (Astral Black, 128 GB)      3.9  30203   \n2543                                       Motorola a50      4.1   1549   \n2544  SAMSUNG Galaxy S22 Ultra 5G (Phantom Black, 25...      4.3  20463   \n2545                  vivo T2x 5G (Aurora Gold, 128 GB)      4.4  13999   \n\n                                                 imgURL  \\\n2541  https://rukminim2.flixcart.com/image/312/312/k...   \n2542  https://rukminim2.flixcart.com/image/312/312/x...   \n2543  https://rukminim2.flixcart.com/image/312/312/k...   \n2544  https://rukminim2.flixcart.com/image/312/312/x...   \n2545  https://rukminim2.flixcart.com/image/312/312/x...   \n\n                                                 corpus  \n2541  Storage64 GBRAM4 GBExpandable Storage512GB  Sy...  \n2542  Storage128 GBRAM8  SystemAndroid 11Processor S...  \n2543                                                NaN  \n2544  Storage256 GBRAM12  SystemAndroid 12Processor ...  \n2545  Storage128 GBRAM6  SystemAndroid 13Processor T...  ",
            "text/html": "<div>\n<style scoped>\n    .dataframe tbody tr th:only-of-type {\n        vertical-align: middle;\n    }\n\n    .dataframe tbody tr th {\n        vertical-align: top;\n    }\n\n    .dataframe thead th {\n        text-align: right;\n    }\n</style>\n<table border=\"1\" class=\"dataframe\">\n  <thead>\n    <tr style=\"text-align: right;\">\n      <th></th>\n      <th>name</th>\n      <th>ratings</th>\n      <th>price</th>\n      <th>imgURL</th>\n      <th>corpus</th>\n    </tr>\n  </thead>\n  <tbody>\n    <tr>\n      <th>2541</th>\n      <td>REDMI Note 9 (Shadow Black, 64 GB)</td>\n      <td>4.3</td>\n      <td>11999</td>\n      <td>https://rukminim2.flixcart.com/image/312/312/k...</td>\n      <td>Storage64 GBRAM4 GBExpandable Storage512GB  Sy...</td>\n    </tr>\n    <tr>\n      <th>2542</th>\n      <td>OnePlus 9 5G (Astral Black, 128 GB)</td>\n      <td>3.9</td>\n      <td>30203</td>\n      <td>https://rukminim2.flixcart.com/image/312/312/x...</td>\n      <td>Storage128 GBRAM8  SystemAndroid 11Processor S...</td>\n    </tr>\n    <tr>\n      <th>2543</th>\n      <td>Motorola a50</td>\n      <td>4.1</td>\n      <td>1549</td>\n      <td>https://rukminim2.flixcart.com/image/312/312/k...</td>\n      <td>NaN</td>\n    </tr>\n    <tr>\n      <th>2544</th>\n      <td>SAMSUNG Galaxy S22 Ultra 5G (Phantom Black, 25...</td>\n      <td>4.3</td>\n      <td>20463</td>\n      <td>https://rukminim2.flixcart.com/image/312/312/x...</td>\n      <td>Storage256 GBRAM12  SystemAndroid 12Processor ...</td>\n    </tr>\n    <tr>\n      <th>2545</th>\n      <td>vivo T2x 5G (Aurora Gold, 128 GB)</td>\n      <td>4.4</td>\n      <td>13999</td>\n      <td>https://rukminim2.flixcart.com/image/312/312/x...</td>\n      <td>Storage128 GBRAM6  SystemAndroid 13Processor T...</td>\n    </tr>\n  </tbody>\n</table>\n</div>"
          },
          "metadata": {}
        }
      ]
    },
    {
      "cell_type": "code",
      "source": [
        "df['corpus'].iloc[1]"
      ],
      "metadata": {
        "execution": {
          "iopub.status.busy": "2023-07-31T05:36:33.433020Z",
          "iopub.execute_input": "2023-07-31T05:36:33.433454Z",
          "iopub.status.idle": "2023-07-31T05:36:33.440671Z",
          "shell.execute_reply.started": "2023-07-31T05:36:33.433421Z",
          "shell.execute_reply": "2023-07-31T05:36:33.439729Z"
        },
        "trusted": true,
        "id": "QEoijW6H4C8I",
        "outputId": "af0dee71-49d8-44a5-8fc1-dffbd026f8d0"
      },
      "execution_count": null,
      "outputs": [
        {
          "execution_count": 11,
          "output_type": "execute_result",
          "data": {
            "text/plain": "'Storage128 GBRAM6 GBExpandable Storage256GB  SystemAndroid Pie 9.0Processor TypeMediaTek Helio P70 Octa Core 2.1 GHzProcessor Speed2.1 48MP 5MP 48MP 5MP 48MP 5MP 48MP 5MP 48MP 5MP 16MP 3G Capacity4000 Display Size16.51 cm (6.5 inch)Resolution2340 x 1080 pixelsResolution TypeFull HD+GPUARM Mali-G72 MP3 at 900 MHzDisplay Colors16MOther Display FeaturesScreen Texture: TFT-LTPS, In-cell Touch Panel Technology, Narrow Frame: 1.70mm (Size from AA to Outside Edge of Glass), Screen Ratio: 90.90%, Screen Contrast: 1500:1 (Typical), Color Saturation: NTSC 81.5% (Typical), Maximum Brightness: 480 nits (Typical), Touch Screen Supplier: DSBJ, TM, Touch Panel Glass Type: Dragontrail'"
          },
          "metadata": {}
        }
      ]
    },
    {
      "cell_type": "code",
      "source": [
        "print(df['imgURL'].iloc[1])\n",
        "print(df['name'].iloc[1])"
      ],
      "metadata": {
        "execution": {
          "iopub.status.busy": "2023-07-31T06:38:59.396069Z",
          "iopub.execute_input": "2023-07-31T06:38:59.396543Z",
          "iopub.status.idle": "2023-07-31T06:38:59.402882Z",
          "shell.execute_reply.started": "2023-07-31T06:38:59.396503Z",
          "shell.execute_reply": "2023-07-31T06:38:59.401935Z"
        },
        "trusted": true,
        "id": "-1U0IOlu4C8I",
        "outputId": "c5317479-122e-4dc3-81b8-5881d2415b02"
      },
      "execution_count": null,
      "outputs": [
        {
          "name": "stdout",
          "text": "https://rukminim2.flixcart.com/image/312/312/k01b8280pkrrdj/mobile-refurbished/8/w/n/f11-pro-128-d-cph1969-oppo-6-original-imafec8hzfzyg79e.jpeg?q=70\nOPPO F11 Pro (Aurora Green, 128 GB)\n",
          "output_type": "stream"
        }
      ]
    },
    {
      "cell_type": "code",
      "source": [
        "df.info()"
      ],
      "metadata": {
        "execution": {
          "iopub.status.busy": "2023-07-31T06:39:24.141353Z",
          "iopub.execute_input": "2023-07-31T06:39:24.142096Z",
          "iopub.status.idle": "2023-07-31T06:39:24.159379Z",
          "shell.execute_reply.started": "2023-07-31T06:39:24.142053Z",
          "shell.execute_reply": "2023-07-31T06:39:24.158180Z"
        },
        "trusted": true,
        "id": "dLqEzTc14C8J",
        "outputId": "efc09868-35ac-4e66-dd8f-b6d14c117c2a"
      },
      "execution_count": null,
      "outputs": [
        {
          "name": "stdout",
          "text": "<class 'pandas.core.frame.DataFrame'>\nRangeIndex: 2546 entries, 0 to 2545\nData columns (total 5 columns):\n #   Column   Non-Null Count  Dtype  \n---  ------   --------------  -----  \n 0   name     2546 non-null   object \n 1   ratings  2546 non-null   float64\n 2   price    2546 non-null   object \n 3   imgURL   2546 non-null   object \n 4   corpus   2534 non-null   object \ndtypes: float64(1), object(4)\nmemory usage: 99.6+ KB\n",
          "output_type": "stream"
        }
      ]
    },
    {
      "cell_type": "code",
      "source": [
        "df['price'].iloc[:10]"
      ],
      "metadata": {
        "execution": {
          "iopub.status.busy": "2023-07-31T06:39:28.960487Z",
          "iopub.execute_input": "2023-07-31T06:39:28.960932Z",
          "iopub.status.idle": "2023-07-31T06:39:28.969307Z",
          "shell.execute_reply.started": "2023-07-31T06:39:28.960898Z",
          "shell.execute_reply": "2023-07-31T06:39:28.968140Z"
        },
        "trusted": true,
        "id": "yMlnsVdc4C8K",
        "outputId": "ae2e33ca-43fe-42fb-ed8f-53c93fe3de76"
      },
      "execution_count": null,
      "outputs": [
        {
          "execution_count": 177,
          "output_type": "execute_result",
          "data": {
            "text/plain": "0      23999\n1    ₹20,999\n2      13149\n3      21999\n4       3537\n5       5537\n6      18996\n7       9999\n8      16999\n9      12999\nName: price, dtype: object"
          },
          "metadata": {}
        }
      ]
    },
    {
      "cell_type": "code",
      "source": [
        "df['price']=df['price'].str.replace('₹','')"
      ],
      "metadata": {
        "execution": {
          "iopub.status.busy": "2023-07-31T06:39:35.060725Z",
          "iopub.execute_input": "2023-07-31T06:39:35.061411Z",
          "iopub.status.idle": "2023-07-31T06:39:35.068547Z",
          "shell.execute_reply.started": "2023-07-31T06:39:35.061374Z",
          "shell.execute_reply": "2023-07-31T06:39:35.067561Z"
        },
        "trusted": true,
        "id": "ROoFk3U_4C8L"
      },
      "execution_count": null,
      "outputs": []
    },
    {
      "cell_type": "code",
      "source": [
        "df['price']=df['price'].str.replace(',','').astype('int64')"
      ],
      "metadata": {
        "execution": {
          "iopub.status.busy": "2023-07-31T06:39:40.831216Z",
          "iopub.execute_input": "2023-07-31T06:39:40.831601Z",
          "iopub.status.idle": "2023-07-31T06:39:40.840053Z",
          "shell.execute_reply.started": "2023-07-31T06:39:40.831570Z",
          "shell.execute_reply": "2023-07-31T06:39:40.838796Z"
        },
        "trusted": true,
        "id": "N1oijIEF4C8L"
      },
      "execution_count": null,
      "outputs": []
    },
    {
      "cell_type": "code",
      "source": [
        "df.info()"
      ],
      "metadata": {
        "execution": {
          "iopub.status.busy": "2023-07-31T06:39:44.140587Z",
          "iopub.execute_input": "2023-07-31T06:39:44.140999Z",
          "iopub.status.idle": "2023-07-31T06:39:44.157098Z",
          "shell.execute_reply.started": "2023-07-31T06:39:44.140967Z",
          "shell.execute_reply": "2023-07-31T06:39:44.155837Z"
        },
        "trusted": true,
        "id": "tRi8hhrp4C8M",
        "outputId": "7c2ba9d6-6934-4aa6-f4a1-5c003f08c83a"
      },
      "execution_count": null,
      "outputs": [
        {
          "name": "stdout",
          "text": "<class 'pandas.core.frame.DataFrame'>\nRangeIndex: 2546 entries, 0 to 2545\nData columns (total 5 columns):\n #   Column   Non-Null Count  Dtype  \n---  ------   --------------  -----  \n 0   name     2546 non-null   object \n 1   ratings  2546 non-null   float64\n 2   price    2546 non-null   int64  \n 3   imgURL   2546 non-null   object \n 4   corpus   2534 non-null   object \ndtypes: float64(1), int64(1), object(3)\nmemory usage: 99.6+ KB\n",
          "output_type": "stream"
        }
      ]
    },
    {
      "cell_type": "code",
      "source": [
        "df.isnull().sum()"
      ],
      "metadata": {
        "execution": {
          "iopub.status.busy": "2023-07-31T06:39:51.382332Z",
          "iopub.execute_input": "2023-07-31T06:39:51.382751Z",
          "iopub.status.idle": "2023-07-31T06:39:51.395705Z",
          "shell.execute_reply.started": "2023-07-31T06:39:51.382718Z",
          "shell.execute_reply": "2023-07-31T06:39:51.394341Z"
        },
        "trusted": true,
        "id": "9vJLowVr4C8M",
        "outputId": "257e3f82-acc8-42d7-eee6-33370f1701a5"
      },
      "execution_count": null,
      "outputs": [
        {
          "execution_count": 181,
          "output_type": "execute_result",
          "data": {
            "text/plain": "name        0\nratings     0\nprice       0\nimgURL      0\ncorpus     12\ndtype: int64"
          },
          "metadata": {}
        }
      ]
    },
    {
      "cell_type": "code",
      "source": [
        "df.dropna(inplace=True)"
      ],
      "metadata": {
        "execution": {
          "iopub.status.busy": "2023-07-31T06:39:56.120339Z",
          "iopub.execute_input": "2023-07-31T06:39:56.121219Z",
          "iopub.status.idle": "2023-07-31T06:39:56.131935Z",
          "shell.execute_reply.started": "2023-07-31T06:39:56.121183Z",
          "shell.execute_reply": "2023-07-31T06:39:56.130709Z"
        },
        "trusted": true,
        "id": "7gEnKp524C8M"
      },
      "execution_count": null,
      "outputs": []
    },
    {
      "cell_type": "code",
      "source": [
        "df.isnull().sum()"
      ],
      "metadata": {
        "execution": {
          "iopub.status.busy": "2023-07-31T06:39:58.720651Z",
          "iopub.execute_input": "2023-07-31T06:39:58.721119Z",
          "iopub.status.idle": "2023-07-31T06:39:58.734239Z",
          "shell.execute_reply.started": "2023-07-31T06:39:58.721074Z",
          "shell.execute_reply": "2023-07-31T06:39:58.732950Z"
        },
        "trusted": true,
        "id": "_LOFWyLV4C8N",
        "outputId": "3be492d2-de2f-492a-cf86-79e573b7f962"
      },
      "execution_count": null,
      "outputs": [
        {
          "execution_count": 183,
          "output_type": "execute_result",
          "data": {
            "text/plain": "name       0\nratings    0\nprice      0\nimgURL     0\ncorpus     0\ndtype: int64"
          },
          "metadata": {}
        }
      ]
    },
    {
      "cell_type": "code",
      "source": [
        "df.shape"
      ],
      "metadata": {
        "execution": {
          "iopub.status.busy": "2023-07-31T06:40:02.245563Z",
          "iopub.execute_input": "2023-07-31T06:40:02.245985Z",
          "iopub.status.idle": "2023-07-31T06:40:02.254114Z",
          "shell.execute_reply.started": "2023-07-31T06:40:02.245955Z",
          "shell.execute_reply": "2023-07-31T06:40:02.252475Z"
        },
        "trusted": true,
        "id": "eY-uJwwg4C8N",
        "outputId": "106c888b-4bef-44a5-85ab-2d490ffb1a35"
      },
      "execution_count": null,
      "outputs": [
        {
          "execution_count": 184,
          "output_type": "execute_result",
          "data": {
            "text/plain": "(2534, 5)"
          },
          "metadata": {}
        }
      ]
    },
    {
      "cell_type": "code",
      "source": [
        "df.head()"
      ],
      "metadata": {
        "execution": {
          "iopub.status.busy": "2023-07-31T06:40:06.185678Z",
          "iopub.execute_input": "2023-07-31T06:40:06.186142Z",
          "iopub.status.idle": "2023-07-31T06:40:06.200461Z",
          "shell.execute_reply.started": "2023-07-31T06:40:06.186106Z",
          "shell.execute_reply": "2023-07-31T06:40:06.199238Z"
        },
        "trusted": true,
        "id": "wkORz1Lo4C8O",
        "outputId": "609b1df8-6ffb-47e3-b4c7-565f334c0280"
      },
      "execution_count": null,
      "outputs": [
        {
          "execution_count": 185,
          "output_type": "execute_result",
          "data": {
            "text/plain": "                                        name  ratings  price  \\\n0  REDMI Note 12 Pro 5G (Onyx Black, 128 GB)      4.2  23999   \n1        OPPO F11 Pro (Aurora Green, 128 GB)      4.5  20999   \n2     REDMI Note 11 (Starburst White, 64 GB)      4.2  13149   \n3     OnePlus Nord CE 5G (Blue Void, 256 GB)      4.1  21999   \n4        APPLE iPhone 13 mini (Blue, 128 GB)      4.6   3537   \n\n                                              imgURL  \\\n0  https://rukminim2.flixcart.com/image/312/312/x...   \n1  https://rukminim2.flixcart.com/image/312/312/k...   \n2  https://rukminim2.flixcart.com/image/312/312/x...   \n3  https://rukminim2.flixcart.com/image/312/312/x...   \n4  https://rukminim2.flixcart.com/image/312/312/k...   \n\n                                              corpus  \n0  Storage128 GBRAM6  SystemAndroid 12Processor T...  \n1  Storage128 GBRAM6 GBExpandable Storage256GB  S...  \n2  Storage64 GBRAM4  SystemAndroid 11Processor Sp...  \n3  Storage256 GBRAM12  SystemAndroid Q 11Processo...  \n4  Storage128  SystemiOS 15Processor TypeA15 Bion...  ",
            "text/html": "<div>\n<style scoped>\n    .dataframe tbody tr th:only-of-type {\n        vertical-align: middle;\n    }\n\n    .dataframe tbody tr th {\n        vertical-align: top;\n    }\n\n    .dataframe thead th {\n        text-align: right;\n    }\n</style>\n<table border=\"1\" class=\"dataframe\">\n  <thead>\n    <tr style=\"text-align: right;\">\n      <th></th>\n      <th>name</th>\n      <th>ratings</th>\n      <th>price</th>\n      <th>imgURL</th>\n      <th>corpus</th>\n    </tr>\n  </thead>\n  <tbody>\n    <tr>\n      <th>0</th>\n      <td>REDMI Note 12 Pro 5G (Onyx Black, 128 GB)</td>\n      <td>4.2</td>\n      <td>23999</td>\n      <td>https://rukminim2.flixcart.com/image/312/312/x...</td>\n      <td>Storage128 GBRAM6  SystemAndroid 12Processor T...</td>\n    </tr>\n    <tr>\n      <th>1</th>\n      <td>OPPO F11 Pro (Aurora Green, 128 GB)</td>\n      <td>4.5</td>\n      <td>20999</td>\n      <td>https://rukminim2.flixcart.com/image/312/312/k...</td>\n      <td>Storage128 GBRAM6 GBExpandable Storage256GB  S...</td>\n    </tr>\n    <tr>\n      <th>2</th>\n      <td>REDMI Note 11 (Starburst White, 64 GB)</td>\n      <td>4.2</td>\n      <td>13149</td>\n      <td>https://rukminim2.flixcart.com/image/312/312/x...</td>\n      <td>Storage64 GBRAM4  SystemAndroid 11Processor Sp...</td>\n    </tr>\n    <tr>\n      <th>3</th>\n      <td>OnePlus Nord CE 5G (Blue Void, 256 GB)</td>\n      <td>4.1</td>\n      <td>21999</td>\n      <td>https://rukminim2.flixcart.com/image/312/312/x...</td>\n      <td>Storage256 GBRAM12  SystemAndroid Q 11Processo...</td>\n    </tr>\n    <tr>\n      <th>4</th>\n      <td>APPLE iPhone 13 mini (Blue, 128 GB)</td>\n      <td>4.6</td>\n      <td>3537</td>\n      <td>https://rukminim2.flixcart.com/image/312/312/k...</td>\n      <td>Storage128  SystemiOS 15Processor TypeA15 Bion...</td>\n    </tr>\n  </tbody>\n</table>\n</div>"
          },
          "metadata": {}
        }
      ]
    },
    {
      "cell_type": "code",
      "source": [
        "df['corpus'].iloc[1]"
      ],
      "metadata": {
        "execution": {
          "iopub.status.busy": "2023-07-31T06:40:09.802991Z",
          "iopub.execute_input": "2023-07-31T06:40:09.803411Z",
          "iopub.status.idle": "2023-07-31T06:40:09.811109Z",
          "shell.execute_reply.started": "2023-07-31T06:40:09.803380Z",
          "shell.execute_reply": "2023-07-31T06:40:09.809866Z"
        },
        "trusted": true,
        "id": "516RtllU4C8O",
        "outputId": "0b45efbc-7290-45ee-b67e-20649f525fc6"
      },
      "execution_count": null,
      "outputs": [
        {
          "execution_count": 186,
          "output_type": "execute_result",
          "data": {
            "text/plain": "'Storage128 GBRAM6 GBExpandable Storage256GB  SystemAndroid Pie 9.0Processor TypeMediaTek Helio P70 Octa Core 2.1 GHzProcessor Speed2.1 48MP 5MP 48MP 5MP 48MP 5MP 48MP 5MP 48MP 5MP 16MP 3G Capacity4000 Display Size16.51 cm (6.5 inch)Resolution2340 x 1080 pixelsResolution TypeFull HD+GPUARM Mali-G72 MP3 at 900 MHzDisplay Colors16MOther Display FeaturesScreen Texture: TFT-LTPS, In-cell Touch Panel Technology, Narrow Frame: 1.70mm (Size from AA to Outside Edge of Glass), Screen Ratio: 90.90%, Screen Contrast: 1500:1 (Typical), Color Saturation: NTSC 81.5% (Typical), Maximum Brightness: 480 nits (Typical), Touch Screen Supplier: DSBJ, TM, Touch Panel Glass Type: Dragontrail'"
          },
          "metadata": {}
        }
      ]
    },
    {
      "cell_type": "code",
      "source": [
        "import nltk"
      ],
      "metadata": {
        "execution": {
          "iopub.status.busy": "2023-07-31T05:45:03.542617Z",
          "iopub.execute_input": "2023-07-31T05:45:03.543068Z",
          "iopub.status.idle": "2023-07-31T05:45:04.647070Z",
          "shell.execute_reply.started": "2023-07-31T05:45:03.543027Z",
          "shell.execute_reply": "2023-07-31T05:45:04.645786Z"
        },
        "trusted": true,
        "id": "dMfzSl8B4C8O",
        "outputId": "8675d71d-1723-405d-c239-019d008d8a22"
      },
      "execution_count": null,
      "outputs": [
        {
          "name": "stderr",
          "text": "/opt/conda/lib/python3.10/site-packages/scipy/__init__.py:146: UserWarning: A NumPy version >=1.16.5 and <1.23.0 is required for this version of SciPy (detected version 1.23.5\n  warnings.warn(f\"A NumPy version >={np_minversion} and <{np_maxversion}\"\n",
          "output_type": "stream"
        }
      ]
    },
    {
      "cell_type": "code",
      "source": [
        "from nltk.stem.porter import PorterStemmer\n",
        "ps=PorterStemmer()"
      ],
      "metadata": {
        "execution": {
          "iopub.status.busy": "2023-07-31T05:45:10.829077Z",
          "iopub.execute_input": "2023-07-31T05:45:10.829513Z",
          "iopub.status.idle": "2023-07-31T05:45:10.835209Z",
          "shell.execute_reply.started": "2023-07-31T05:45:10.829476Z",
          "shell.execute_reply": "2023-07-31T05:45:10.833892Z"
        },
        "trusted": true,
        "id": "aVcY6F7K4C8P"
      },
      "execution_count": null,
      "outputs": []
    },
    {
      "cell_type": "code",
      "source": [
        "def TextStem(text):\n",
        "    y=[]\n",
        "    for i in text.split():\n",
        "        y.append(ps.stem(i))\n",
        "    return \" \".join(y)"
      ],
      "metadata": {
        "execution": {
          "iopub.status.busy": "2023-07-31T05:45:31.774917Z",
          "iopub.execute_input": "2023-07-31T05:45:31.775363Z",
          "iopub.status.idle": "2023-07-31T05:45:31.781872Z",
          "shell.execute_reply.started": "2023-07-31T05:45:31.775329Z",
          "shell.execute_reply": "2023-07-31T05:45:31.780503Z"
        },
        "trusted": true,
        "id": "8zq_TzHT4C8P"
      },
      "execution_count": null,
      "outputs": []
    },
    {
      "cell_type": "code",
      "source": [
        "TextStem(df['corpus'].iloc[0])"
      ],
      "metadata": {
        "execution": {
          "iopub.status.busy": "2023-07-31T06:40:15.631873Z",
          "iopub.execute_input": "2023-07-31T06:40:15.632263Z",
          "iopub.status.idle": "2023-07-31T06:40:15.642130Z",
          "shell.execute_reply.started": "2023-07-31T06:40:15.632233Z",
          "shell.execute_reply": "2023-07-31T06:40:15.640889Z"
        },
        "trusted": true,
        "id": "fzRL7T1q4C8P",
        "outputId": "90fbe9af-db3e-477d-fe6d-1dfe308536ef"
      },
      "execution_count": null,
      "outputs": [
        {
          "execution_count": 187,
          "output_type": "execute_result",
          "data": {
            "text/plain": "'storage128 gbram6 systemandroid 12processor typemediatek dimens 1080processor speed2.6 50mp 8mp 2mp 50mp 16mp 5G capacity5000 display size16.94 cm (6.67 inch)resolution2400 x 1080 pixelsresolut typeful hd+ amol displaygpuarm mali-g68 mc4display typeful hd+ amol displayoth display featuresrefresh rate: 120 hz, contrast: 5,000,000:1, 1920hz pwm dimming, bright level: 16000:1, peak brightness: 900 nit'"
          },
          "metadata": {}
        }
      ]
    },
    {
      "cell_type": "code",
      "source": [
        "df['corpus']=df['corpus'].apply(TextStem)"
      ],
      "metadata": {
        "execution": {
          "iopub.status.busy": "2023-07-31T06:40:20.996556Z",
          "iopub.execute_input": "2023-07-31T06:40:20.996951Z",
          "iopub.status.idle": "2023-07-31T06:40:24.945320Z",
          "shell.execute_reply.started": "2023-07-31T06:40:20.996921Z",
          "shell.execute_reply": "2023-07-31T06:40:24.944025Z"
        },
        "trusted": true,
        "id": "rs2kHcxf4C8Q"
      },
      "execution_count": null,
      "outputs": []
    },
    {
      "cell_type": "code",
      "source": [
        "from sklearn.feature_extraction.text import CountVectorizer"
      ],
      "metadata": {
        "execution": {
          "iopub.status.busy": "2023-07-31T05:47:39.214243Z",
          "iopub.execute_input": "2023-07-31T05:47:39.214703Z",
          "iopub.status.idle": "2023-07-31T05:47:39.220028Z",
          "shell.execute_reply.started": "2023-07-31T05:47:39.214650Z",
          "shell.execute_reply": "2023-07-31T05:47:39.218791Z"
        },
        "trusted": true,
        "id": "0Jy3mIdE4C8Q"
      },
      "execution_count": null,
      "outputs": []
    },
    {
      "cell_type": "code",
      "source": [
        "cv=CountVectorizer(max_features=500,stop_words='english')"
      ],
      "metadata": {
        "execution": {
          "iopub.status.busy": "2023-07-31T05:49:43.435945Z",
          "iopub.execute_input": "2023-07-31T05:49:43.436393Z",
          "iopub.status.idle": "2023-07-31T05:49:43.442848Z",
          "shell.execute_reply.started": "2023-07-31T05:49:43.436360Z",
          "shell.execute_reply": "2023-07-31T05:49:43.441279Z"
        },
        "trusted": true,
        "id": "VhTWgXbX4C8Q"
      },
      "execution_count": null,
      "outputs": []
    },
    {
      "cell_type": "code",
      "source": [
        "vector=cv.fit_transform(df['corpus']).toarray()"
      ],
      "metadata": {
        "execution": {
          "iopub.status.busy": "2023-07-31T06:40:27.210529Z",
          "iopub.execute_input": "2023-07-31T06:40:27.211347Z",
          "iopub.status.idle": "2023-07-31T06:40:27.408434Z",
          "shell.execute_reply.started": "2023-07-31T06:40:27.211302Z",
          "shell.execute_reply": "2023-07-31T06:40:27.406890Z"
        },
        "trusted": true,
        "id": "LXCOVuKj4C8R"
      },
      "execution_count": null,
      "outputs": []
    },
    {
      "cell_type": "code",
      "source": [
        "vector"
      ],
      "metadata": {
        "execution": {
          "iopub.status.busy": "2023-07-31T06:40:29.681147Z",
          "iopub.execute_input": "2023-07-31T06:40:29.681553Z",
          "iopub.status.idle": "2023-07-31T06:40:29.689601Z",
          "shell.execute_reply.started": "2023-07-31T06:40:29.681521Z",
          "shell.execute_reply": "2023-07-31T06:40:29.688018Z"
        },
        "trusted": true,
        "id": "L7yYU8xN4C8R",
        "outputId": "796fc558-3fbe-4eb5-f0e0-7b86555d3d9a"
      },
      "execution_count": null,
      "outputs": [
        {
          "execution_count": 190,
          "output_type": "execute_result",
          "data": {
            "text/plain": "array([[0, 2, 0, ..., 0, 0, 0],\n       [0, 0, 0, ..., 0, 0, 0],\n       [0, 0, 0, ..., 0, 0, 0],\n       ...,\n       [0, 0, 0, ..., 0, 0, 0],\n       [0, 0, 0, ..., 0, 0, 0],\n       [0, 0, 0, ..., 0, 0, 0]])"
          },
          "metadata": {}
        }
      ]
    },
    {
      "cell_type": "code",
      "source": [
        "cv.get_feature_names_out()"
      ],
      "metadata": {
        "execution": {
          "iopub.status.busy": "2023-07-31T06:40:31.950458Z",
          "iopub.execute_input": "2023-07-31T06:40:31.950920Z",
          "iopub.status.idle": "2023-07-31T06:40:31.961540Z",
          "shell.execute_reply.started": "2023-07-31T06:40:31.950879Z",
          "shell.execute_reply": "2023-07-31T06:40:31.960584Z"
        },
        "trusted": true,
        "id": "Kw-1kRhH4C8R",
        "outputId": "075b8c32-34d2-4e6e-9f9c-0a058afe0346"
      },
      "execution_count": null,
      "outputs": [
        {
          "execution_count": 191,
          "output_type": "execute_result",
          "data": {
            "text/plain": "array(['00', '000', '02', '05', '07', '09', '0processor', '10', '100',\n       '1000', '100000', '1000000', '1080', '108mp', '10mp',\n       '10processor', '11', '1170', '11processor', '12', '120', '1200',\n       '120hz', '1284', '12mp', '12processor', '13', '1300', '13mp',\n       '13processor', '14', '1400', '1440', '14processor', '1500',\n       '15processor', '16', '1600', '16mp', '16processor', '180', '180hz',\n       '1processor', '20', '200', '2000000', '20mp', '21', '22', '2340',\n       '2400', '2408', '240hz', '25mp', '26', '27', '2d', '2g', '2mp',\n       '2processor', '2x', '32', '32mp', '33', '36', '360', '3d', '3g',\n       '3mp', '400', '400nit', '41', '43', '430', '44', '44mp', '450',\n       '48', '480', '48mp', '49', '4g', '50', '500', '5000000', '500nit',\n       '506display', '50mp', '51', '52', '53', '54', '55', '56', '58',\n       '59', '5d', '5g', '5gprocessor', '5mp', '60', '600', '60hz',\n       '610display', '619display', '625', '63mp', '64', '642ldisplay',\n       '64mp', '65', '650', '650display', '66', '665processor', '67',\n       '680processor', '70', '7050processor', '71', '72', '720',\n       '720resolut', '73', '730display', '75', '750', '76', '78', '7moth',\n       '7mp', '80', '800', '81', '82', '828', '84', '85', '88', '89',\n       '8mp', '8processor', '90', '900', '90hz', '91', '92', '93', '94',\n       '95', '950', '96', '97', '98', '99', '9processor', 'a11', 'aa',\n       'activ', 'adapt', 'adreno', 'aieprocessor', 'amol',\n       'amoleddisplay', 'amoledhd', 'android', 'angles', 'area', 'aspect',\n       'backlit', 'base', 'bazel', 'bezel', 'billionoth', 'bionic', 'bit',\n       'blue', 'bodi', 'border', 'bright', 'brightness', 'capacity3000',\n       'capacity3700', 'capacity4000', 'capacity4230', 'capacity4300',\n       'capacity4500', 'capacity5000', 'capacity5020', 'capacity6000',\n       'care', 'cd', 'cel', 'cell', 'certification', 'channel', 'charact',\n       'chip', 'clock', 'cm', 'coat', 'coating', 'cog', 'color',\n       'colors1', 'colors16', 'colors16m', 'colors16moth', 'colour',\n       'comfort', 'contrast', 'core', 'coredisplay', 'coreprocessor',\n       'corn', 'cover', 'curv', 'dci', 'design', 'diagonal', 'dimens',\n       'display', 'displaydisplay', 'displaygpu5', 'displaygpuarm',\n       'displayhd', 'displayoth', 'domain', 'dot', 'dual', 'dynam', 'edg',\n       'edge', 'eye', 'faster', 'features120', 'features120hz',\n       'features1400', 'features19', 'features2', 'features20',\n       'features60', 'features90', 'features90hz', 'featuresaspect',\n       'featurescontrast', 'featuresdynam', 'featureshdr',\n       'featuresrefresh', 'featuresretina', 'featuresscreen',\n       'featuressup', 'film', 'finger', 'fingerprint', 'fluiddisplay',\n       'frame', 'fullview', 'fusion', 'g35processor', 'g52', 'g52display',\n       'g57', 'g57display', 'g68', 'g72', 'g85processor', 'g88processor',\n       'game', 'gameplay', 'gamut', 'gbexpand', 'gbram12', 'gbram2',\n       'gbram3', 'gbram4', 'gbram6', 'gbram8', 'gbtotal', 'ge8320display',\n       'gen', 'gg3', 'ghz', 'ghzprocessor', 'glass', 'gorilla', 'gpu',\n       'gpuadreno', 'gpuarm', 'gpuimg', 'gpumali', 'gpupowervr',\n       'gpuqualcomm', 'graphic', 'graphics', 'halo', 'haptic', 'hbm',\n       'hd', 'hdgpuadreno', 'hdr', 'hdr10', 'helio', 'hz', 'incell',\n       'inch', 'intens', 'ion', 'ip', 'ipsoth', 'island', 'languag',\n       'lcd', 'lcddisplay', 'lcdother', 'led', 'left', 'light', 'liquid',\n       'low', 'lower', 'ltp', 'm2', 'mali', 'marshmallow', 'material',\n       'max', 'maximum', 'mc2display', 'mc4display', 'memory128gb',\n       'metal', 'mhz', 'mhzdisplay', 'millionoth', 'min', 'minimum',\n       'mode', 'mother', 'motion', 'mp2display', 'mp3', 'mp4display',\n       'multi', 'multipl', 'narrow', 'neg', 'night', 'nit', 'nits',\n       'notment', 'nougat', 'ntsc', 'octa', 'ole', 'oleophob',\n       'optimised', 'oreo', 'oth', 'outdoor', 'p3', 'p35processor',\n       'panda', 'panel', 'peak', 'perform', 'pie', 'pixel',\n       'pixelresolut', 'pixelsgpuapple', 'pixelsresolut', 'ppi', 'print',\n       'pro', 'process', 'processor', 'processorprocessor', 'promot',\n       'proportion', 'protect', 'protection', 'rate', 'ratio',\n       'reachability', 'reachabl', 'read', 'refresh', 'resist',\n       'resolution1080', 'resolution1280', 'resolution1334',\n       'resolution1440', 'resolution1520', 'resolution1600',\n       'resolution1612', 'resolution1640', 'resolution1792',\n       'resolution1920', 'resolution2340', 'resolution2400',\n       'resolution2400x1080', 'resolution2408', 'resolution2412',\n       'resolution2460', 'resolution2532', 'resolution2778',\n       'resolution720', 'retina', 'rheinland', 'right', 'sampl',\n       'saturation', 'screen', 'seal', 'sensor', 'sg', 'simultan',\n       'simultaneously', 'size11', 'size12', 'size13', 'size14', 'size15',\n       'size16', 'size17', 'snapdragon', 'speed1', 'speed2', 'speed3',\n       'srgb', 'standard', 'storage128', 'storage128gb', 'storage16',\n       'storage1tb', 'storage256', 'storage256gb', 'storage2tb',\n       'storage32', 'storage512', 'storage512gb', 'storage64', 'sunlight',\n       'super', 'supplier', 'support', 'supporty', 'supportyesdisplay',\n       'supportyesoth', 'systemandroid', 'systemio', 't2x', 'tap',\n       'technolog', 'technology', 'technologyhd', 'texture', 'tft',\n       'tone', 'touch', 'tp', 'true', 'tuv', 'typ', 'type', 'typea12',\n       'typea13', 'typea14', 'typea15', 'typea16', 'typeall', 'typeappl',\n       'typedimens', 'typeexyno', 'typeful', 'typehd', 'typehelio',\n       'typeip', 'typeipsoth', 'typeled', 'typeli', 'typemediatek',\n       'typequad', 'typequalcomm', 'typeretina', 'typesnapdragon',\n       'typesup', 'typetft', 'typeunisoc', 'typic', 'typical', 'ultra',\n       'upto', 'view', 'vision', 'vivid', 'wake', 'wide', 'xdr', 'zoom'],\n      dtype=object)"
          },
          "metadata": {}
        }
      ]
    },
    {
      "cell_type": "code",
      "source": [
        "from sklearn.metrics.pairwise import cosine_similarity"
      ],
      "metadata": {
        "execution": {
          "iopub.status.busy": "2023-07-31T06:40:36.330797Z",
          "iopub.execute_input": "2023-07-31T06:40:36.331621Z",
          "iopub.status.idle": "2023-07-31T06:40:36.336795Z",
          "shell.execute_reply.started": "2023-07-31T06:40:36.331585Z",
          "shell.execute_reply": "2023-07-31T06:40:36.335526Z"
        },
        "trusted": true,
        "id": "zkZG0hMT4C8S"
      },
      "execution_count": null,
      "outputs": []
    },
    {
      "cell_type": "code",
      "source": [
        "similarity=cosine_similarity(vector)"
      ],
      "metadata": {
        "execution": {
          "iopub.status.busy": "2023-07-31T06:40:37.310827Z",
          "iopub.execute_input": "2023-07-31T06:40:37.311274Z",
          "iopub.status.idle": "2023-07-31T06:40:37.432896Z",
          "shell.execute_reply.started": "2023-07-31T06:40:37.311241Z",
          "shell.execute_reply": "2023-07-31T06:40:37.431180Z"
        },
        "trusted": true,
        "id": "hvM5p0bd4C8S"
      },
      "execution_count": null,
      "outputs": []
    },
    {
      "cell_type": "code",
      "source": [
        "similarity"
      ],
      "metadata": {
        "execution": {
          "iopub.status.busy": "2023-07-31T06:40:37.920397Z",
          "iopub.execute_input": "2023-07-31T06:40:37.920821Z",
          "iopub.status.idle": "2023-07-31T06:40:37.928820Z",
          "shell.execute_reply.started": "2023-07-31T06:40:37.920788Z",
          "shell.execute_reply": "2023-07-31T06:40:37.927725Z"
        },
        "trusted": true,
        "id": "r3KWjfd94C8S",
        "outputId": "3392b563-e54d-40f7-c219-2e5e369e6465"
      },
      "execution_count": null,
      "outputs": [
        {
          "execution_count": 194,
          "output_type": "execute_result",
          "data": {
            "text/plain": "array([[1.        , 0.25770721, 0.37890539, ..., 0.34732994, 0.25776089,\n        0.63344515],\n       [0.25770721, 1.        , 0.16003201, ..., 0.28005602, 0.09331389,\n        0.23105534],\n       [0.37890539, 0.16003201, 1.        , ..., 0.58823529, 0.2057983 ,\n        0.42911912],\n       ...,\n       [0.34732994, 0.28005602, 0.58823529, ..., 1.        , 0.2057983 ,\n        0.3933592 ],\n       [0.25776089, 0.09331389, 0.2057983 , ..., 0.2057983 , 1.        ,\n        0.2502173 ],\n       [0.63344515, 0.23105534, 0.42911912, ..., 0.3933592 , 0.2502173 ,\n        1.        ]])"
          },
          "metadata": {}
        }
      ]
    },
    {
      "cell_type": "code",
      "source": [
        "similarity[1]"
      ],
      "metadata": {
        "execution": {
          "iopub.status.busy": "2023-07-31T06:40:41.590440Z",
          "iopub.execute_input": "2023-07-31T06:40:41.591665Z",
          "iopub.status.idle": "2023-07-31T06:40:41.599616Z",
          "shell.execute_reply.started": "2023-07-31T06:40:41.591606Z",
          "shell.execute_reply": "2023-07-31T06:40:41.598719Z"
        },
        "trusted": true,
        "id": "icM9PhDl4C8T",
        "outputId": "66f3cad6-e0b4-43da-93e6-c4b2636472f9"
      },
      "execution_count": null,
      "outputs": [
        {
          "execution_count": 195,
          "output_type": "execute_result",
          "data": {
            "text/plain": "array([0.25770721, 1.        , 0.16003201, ..., 0.28005602, 0.09331389,\n       0.23105534])"
          },
          "metadata": {}
        }
      ]
    },
    {
      "cell_type": "code",
      "source": [
        "sorted(list(enumerate(similarity[0])),reverse=True,key=lambda x:x[1])[1:11]"
      ],
      "metadata": {
        "execution": {
          "iopub.status.busy": "2023-07-31T06:40:42.100571Z",
          "iopub.execute_input": "2023-07-31T06:40:42.101257Z",
          "iopub.status.idle": "2023-07-31T06:40:42.113606Z",
          "shell.execute_reply.started": "2023-07-31T06:40:42.101211Z",
          "shell.execute_reply": "2023-07-31T06:40:42.112298Z"
        },
        "trusted": true,
        "id": "HkS9eHBJ4C8T",
        "outputId": "d9d8e5be-ce28-426a-bada-705ace7c2fc7"
      },
      "execution_count": null,
      "outputs": [
        {
          "execution_count": 196,
          "output_type": "execute_result",
          "data": {
            "text/plain": "[(68, 1.0000000000000002),\n (303, 1.0000000000000002),\n (616, 0.9830508474576274),\n (1461, 0.9830508474576274),\n (457, 0.9661016949152545),\n (1027, 0.9661016949152545),\n (1735, 0.9661016949152545),\n (569, 0.9479521354771159),\n (1123, 0.9479521354771159),\n (1540, 0.9479521354771159)]"
          },
          "metadata": {}
        }
      ]
    },
    {
      "cell_type": "code",
      "source": [
        "def recommend_descriptions(phone):\n",
        "    phone_index = df[df['name'] == phone].index\n",
        "    if len(phone_index) == 0:\n",
        "        print(\"Phone not found in the dataset.\")\n",
        "        return []\n",
        "\n",
        "    phone_index = phone_index[0]\n",
        "    distances = similarity[phone_index]\n",
        "    phoneLists = sorted(list(enumerate(distances)), reverse=True, key=lambda x: x[1])[1:16]\n",
        "\n",
        "    recommended_phones = []\n",
        "    for i in phoneLists:\n",
        "        recommended_phone_name = new_df.iloc[i[0]]['name']\n",
        "        recommended_phones.append(recommended_phone_name)\n",
        "\n",
        "    return recommended_phones"
      ],
      "metadata": {
        "execution": {
          "iopub.status.busy": "2023-07-31T07:32:53.195618Z",
          "iopub.execute_input": "2023-07-31T07:32:53.196093Z",
          "iopub.status.idle": "2023-07-31T07:32:53.204541Z",
          "shell.execute_reply.started": "2023-07-31T07:32:53.196055Z",
          "shell.execute_reply": "2023-07-31T07:32:53.203123Z"
        },
        "trusted": true,
        "id": "QA1cYBmJ4C8U"
      },
      "execution_count": null,
      "outputs": []
    },
    {
      "cell_type": "code",
      "source": [
        "phone_name=input(\"Enter the phone name\")"
      ],
      "metadata": {
        "execution": {
          "iopub.status.busy": "2023-07-31T06:34:56.760424Z",
          "iopub.execute_input": "2023-07-31T06:34:56.760871Z",
          "iopub.status.idle": "2023-07-31T06:34:59.282633Z",
          "shell.execute_reply.started": "2023-07-31T06:34:56.760835Z",
          "shell.execute_reply": "2023-07-31T06:34:59.281680Z"
        },
        "trusted": true,
        "id": "oyvDQONN4C8U",
        "outputId": "b9af21ce-7b4f-47b7-e64b-84901f956617"
      },
      "execution_count": null,
      "outputs": [
        {
          "output_type": "stream",
          "name": "stdin",
          "text": "Enter the phone name REDMI Note 11 (Starburst White, 64 GB)\n"
        }
      ]
    },
    {
      "cell_type": "code",
      "source": [
        "recommend_descriptions(phone_name)#].loc[:1]"
      ],
      "metadata": {
        "execution": {
          "iopub.status.busy": "2023-07-31T07:32:59.206475Z",
          "iopub.execute_input": "2023-07-31T07:32:59.206921Z",
          "iopub.status.idle": "2023-07-31T07:32:59.223780Z",
          "shell.execute_reply.started": "2023-07-31T07:32:59.206885Z",
          "shell.execute_reply": "2023-07-31T07:32:59.222780Z"
        },
        "trusted": true,
        "id": "EGX84qYi4C8V",
        "outputId": "c8fdc6a7-c877-479b-af7e-9de9c4a2e88c"
      },
      "execution_count": null,
      "outputs": [
        {
          "execution_count": 264,
          "output_type": "execute_result",
          "data": {
            "text/plain": "['REDMI Note 11 (Horizon Blue, 64 GB)',\n 'REDMI Note 11 (Space Black, 64 GB)',\n 'REDMI Note 11 (Starburst White, 64 GB)',\n 'REDMI Note 11 (Space Black, 64 GB)',\n 'REDMI Note 11 (Horizon Blue, 128 GB)',\n 'REDMI Note 11S (Horizon Blue, 64 GB)',\n 'REDMI Note 11S (Space Black, 64 GB)',\n 'REDMI Note 11 (Starburst White, 128 GB)',\n 'SAMSUNG Galaxy M32 (Black, 64 GB)',\n 'Redmi 10 Prime (Phantom Black, 64 GB)',\n 'REDMI Note 10 lite (Glacier White, 64 GB)',\n 'REDMI Note 11T 5G (Aquamarine Blue, 64 GB)',\n 'Redmi 10 Prime (Phantom Black, 64 GB)',\n 'Redmi 10 Prime (Bifrost Blue, 64 GB)',\n 'Redmi 10 Prime (Astral White, 64 GB)']"
          },
          "metadata": {}
        }
      ]
    },
    {
      "cell_type": "code",
      "source": [
        "def recommend_descriptions_photos(phone):\n",
        "    phone_index = df[df['name'] == phone].index\n",
        "    if len(phone_index) == 0:\n",
        "        print(\"Phone not found in the dataset.\")\n",
        "        return []\n",
        "\n",
        "    phone_index = phone_index[0]\n",
        "    distances = similarity[phone_index]\n",
        "    phoneLists = sorted(list(enumerate(distances)), reverse=True, key=lambda x: x[1])[1:10]\n",
        "\n",
        "    recommended_phones = []\n",
        "    for i in phoneLists:\n",
        "        recommended_phone_name = new_df.iloc[i[0]]['name']\n",
        "        recommended_phone_imgurl = df.iloc[i[0]]['imgURL']\n",
        "        recommended_phones.append((recommended_phone_name, recommended_phone_imgurl))\n",
        "\n",
        "    return recommended_phones"
      ],
      "metadata": {
        "execution": {
          "iopub.status.busy": "2023-07-31T07:33:08.175458Z",
          "iopub.execute_input": "2023-07-31T07:33:08.175886Z",
          "iopub.status.idle": "2023-07-31T07:33:08.184980Z",
          "shell.execute_reply.started": "2023-07-31T07:33:08.175854Z",
          "shell.execute_reply": "2023-07-31T07:33:08.183551Z"
        },
        "trusted": true,
        "id": "FWYJtnZj4C8V"
      },
      "execution_count": null,
      "outputs": []
    },
    {
      "cell_type": "code",
      "source": [
        "recommend_descriptions_photos('OPPO F11 Pro (Aurora Green, 128 GB)')"
      ],
      "metadata": {
        "execution": {
          "iopub.status.busy": "2023-07-31T07:33:12.465760Z",
          "iopub.execute_input": "2023-07-31T07:33:12.466187Z",
          "iopub.status.idle": "2023-07-31T07:33:12.482580Z",
          "shell.execute_reply.started": "2023-07-31T07:33:12.466156Z",
          "shell.execute_reply": "2023-07-31T07:33:12.481309Z"
        },
        "trusted": true,
        "id": "VONI_zD34C8V",
        "outputId": "f303ea93-a40d-4e81-c86a-72ddc19f037e"
      },
      "execution_count": null,
      "outputs": [
        {
          "execution_count": 266,
          "output_type": "execute_result",
          "data": {
            "text/plain": "[('OPPO F11 Pro (Thunder Black, 128 GB)',\n  'https://rukminim2.flixcart.com/image/312/312/k01b8280pkrrdj/mobile/d/g/s/oppo-f11-pro-cph1969-original-imafec8h3uqk3fqw.jpeg?q=70'),\n ('OPPO F11 Pro (Thunder Black, 64 GB)',\n  'https://rukminim2.flixcart.com/image/312/312/k01b8280pkrrdj/mobile/d/g/s/oppo-f11-pro-cph1969-original-imafec8h3uqk3fqw.jpeg?q=70'),\n ('OPPO F11 Pro (Waterfall Grey, 128 GB)',\n  'https://rukminim2.flixcart.com/image/312/312/k73nlow0/mobile/g/5/2/oppo-f11-pro-cph1969-original-imafpfybdkcp5yqt.jpeg?q=70'),\n ('OPPO F11 (Fluorite Purple, 128 GB)',\n  'https://rukminim2.flixcart.com/image/312/312/k2jbyq80pkrrdj/mobile-refurbished/m/p/6/f11-128-c-cph1911-oppo-4-original-imafght4bbcxzmgc.jpeg?q=70'),\n ('OPPO F11 (Marble Green, 128 GB)',\n  'https://rukminim2.flixcart.com/image/312/312/k2jbyq80pkrrdj/mobile-refurbished/z/a/f/f11-128-a-cph1911-oppo-4-original-imafght4kvkhnzzg.jpeg?q=70'),\n ('OPPO F11 (Jewelry White, 128 GB)',\n  'https://rukminim2.flixcart.com/image/312/312/k2jbyq80pkrrdj/mobile-refurbished/q/9/u/f11-128-b-cph1911-oppo-4-original-imafght42bnt4qem.jpeg?q=70'),\n ('OPPO F11 (Marble Green, 128 GB)',\n  'https://rukminim2.flixcart.com/image/312/312/k2jbyq80pkrrdj/mobile-refurbished/n/y/p/f11-128-a-cph1911-oppo-6-original-imafg4zzjz8mjjwr.jpeg?q=70'),\n ('OPPO F11 (Fluorite Purple, 128 GB)',\n  'https://rukminim2.flixcart.com/image/312/312/k2jbyq80pkrrdj/mobile-refurbished/e/f/h/f11-128-b-cph1911-oppo-6-original-imafg4zzjgyjsydr.jpeg?q=70'),\n ('OPPO A1K (Red, 32 GB)',\n  'https://rukminim2.flixcart.com/image/312/312/k2jbyq80pkrrdj/mobile-refurbished/m/w/z/a1k-32-b-cph1923-oppo-2-original-imafg2hqnxx3kntn.jpeg?q=70')]"
          },
          "metadata": {}
        }
      ]
    },
    {
      "cell_type": "code",
      "source": [
        "import pickle as pkl"
      ],
      "metadata": {
        "execution": {
          "iopub.status.busy": "2023-07-31T07:34:49.116848Z",
          "iopub.execute_input": "2023-07-31T07:34:49.117251Z",
          "iopub.status.idle": "2023-07-31T07:34:49.122484Z",
          "shell.execute_reply.started": "2023-07-31T07:34:49.117219Z",
          "shell.execute_reply": "2023-07-31T07:34:49.121200Z"
        },
        "trusted": true,
        "id": "aMhhuDY04C8W"
      },
      "execution_count": null,
      "outputs": []
    },
    {
      "cell_type": "code",
      "source": [
        "with open('Similarity_Matrix_1.pkl', 'wb') as file:\n",
        "    pkl.dump(similarity, file)"
      ],
      "metadata": {
        "execution": {
          "iopub.status.busy": "2023-07-31T07:34:49.255836Z",
          "iopub.execute_input": "2023-07-31T07:34:49.256284Z",
          "iopub.status.idle": "2023-07-31T07:34:49.414782Z",
          "shell.execute_reply.started": "2023-07-31T07:34:49.256239Z",
          "shell.execute_reply": "2023-07-31T07:34:49.413748Z"
        },
        "trusted": true,
        "id": "hGsYzhah4C8W"
      },
      "execution_count": null,
      "outputs": []
    },
    {
      "cell_type": "code",
      "source": [
        "similar=pkl.load(open(\"Similarity_Matrix_1.pkl\",\"rb\"))"
      ],
      "metadata": {
        "execution": {
          "iopub.status.busy": "2023-07-31T07:34:50.265373Z",
          "iopub.execute_input": "2023-07-31T07:34:50.266353Z",
          "iopub.status.idle": "2023-07-31T07:34:50.309542Z",
          "shell.execute_reply.started": "2023-07-31T07:34:50.266307Z",
          "shell.execute_reply": "2023-07-31T07:34:50.308328Z"
        },
        "trusted": true,
        "id": "8rf7KVwx4C8W"
      },
      "execution_count": null,
      "outputs": []
    },
    {
      "cell_type": "markdown",
      "source": [
        "**Implemented with Similar Name of Phone and their descriptions**"
      ],
      "metadata": {
        "id": "PhLGrsro4C8X"
      }
    },
    {
      "cell_type": "code",
      "source": [
        "main_df = pd.Series(df['name'] + \" \" + df['corpus'], name=\"descriptions\")"
      ],
      "metadata": {
        "execution": {
          "iopub.status.busy": "2023-07-31T07:33:24.416435Z",
          "iopub.execute_input": "2023-07-31T07:33:24.417516Z",
          "iopub.status.idle": "2023-07-31T07:33:24.426396Z",
          "shell.execute_reply.started": "2023-07-31T07:33:24.417458Z",
          "shell.execute_reply": "2023-07-31T07:33:24.425069Z"
        },
        "trusted": true,
        "id": "9kiOP9Fm4C8Y"
      },
      "execution_count": null,
      "outputs": []
    },
    {
      "cell_type": "code",
      "source": [
        "main_df=pd.DataFrame(main_df)"
      ],
      "metadata": {
        "execution": {
          "iopub.status.busy": "2023-07-31T07:33:25.875244Z",
          "iopub.execute_input": "2023-07-31T07:33:25.875669Z",
          "iopub.status.idle": "2023-07-31T07:33:25.882506Z",
          "shell.execute_reply.started": "2023-07-31T07:33:25.875610Z",
          "shell.execute_reply": "2023-07-31T07:33:25.881121Z"
        },
        "trusted": true,
        "id": "7nzSwo8j4C8Y"
      },
      "execution_count": null,
      "outputs": []
    },
    {
      "cell_type": "code",
      "source": [
        "new_df1=df.copy()"
      ],
      "metadata": {
        "execution": {
          "iopub.status.busy": "2023-07-31T07:33:48.446071Z",
          "iopub.execute_input": "2023-07-31T07:33:48.446460Z",
          "iopub.status.idle": "2023-07-31T07:33:48.451912Z",
          "shell.execute_reply.started": "2023-07-31T07:33:48.446431Z",
          "shell.execute_reply": "2023-07-31T07:33:48.450847Z"
        },
        "trusted": true,
        "id": "-P7C5ppA4C8Z"
      },
      "execution_count": null,
      "outputs": []
    },
    {
      "cell_type": "code",
      "source": [
        "print(new_df1.columns)\n",
        "print(main_df.columns)"
      ],
      "metadata": {
        "execution": {
          "iopub.status.busy": "2023-07-31T07:33:48.735731Z",
          "iopub.execute_input": "2023-07-31T07:33:48.736800Z",
          "iopub.status.idle": "2023-07-31T07:33:48.743577Z",
          "shell.execute_reply.started": "2023-07-31T07:33:48.736761Z",
          "shell.execute_reply": "2023-07-31T07:33:48.742224Z"
        },
        "trusted": true,
        "id": "YdaZsLGJ4C8Z",
        "outputId": "1ea46c55-270a-4003-bab7-299e53d1b3fc"
      },
      "execution_count": null,
      "outputs": [
        {
          "name": "stdout",
          "text": "Index(['name', 'ratings', 'price', 'imgURL', 'corpus'], dtype='object')\nIndex(['descriptions'], dtype='object')\n",
          "output_type": "stream"
        }
      ]
    },
    {
      "cell_type": "code",
      "source": [
        "final=pd.concat([new_df1, main_df], axis=1)"
      ],
      "metadata": {
        "execution": {
          "iopub.status.busy": "2023-07-31T07:33:52.575410Z",
          "iopub.execute_input": "2023-07-31T07:33:52.576304Z",
          "iopub.status.idle": "2023-07-31T07:33:52.583270Z",
          "shell.execute_reply.started": "2023-07-31T07:33:52.576265Z",
          "shell.execute_reply": "2023-07-31T07:33:52.581943Z"
        },
        "trusted": true,
        "id": "glF7X7CO4C8a"
      },
      "execution_count": null,
      "outputs": []
    },
    {
      "cell_type": "code",
      "source": [
        "final_df=final.drop(columns='corpus')"
      ],
      "metadata": {
        "execution": {
          "iopub.status.busy": "2023-07-31T07:33:53.166023Z",
          "iopub.execute_input": "2023-07-31T07:33:53.166438Z",
          "iopub.status.idle": "2023-07-31T07:33:53.173770Z",
          "shell.execute_reply.started": "2023-07-31T07:33:53.166406Z",
          "shell.execute_reply": "2023-07-31T07:33:53.172259Z"
        },
        "trusted": true,
        "id": "3IGwvEMo4C8a"
      },
      "execution_count": null,
      "outputs": []
    },
    {
      "cell_type": "code",
      "source": [
        "final_df.head()"
      ],
      "metadata": {
        "execution": {
          "iopub.status.busy": "2023-07-31T07:33:54.535794Z",
          "iopub.execute_input": "2023-07-31T07:33:54.536276Z",
          "iopub.status.idle": "2023-07-31T07:33:54.550024Z",
          "shell.execute_reply.started": "2023-07-31T07:33:54.536238Z",
          "shell.execute_reply": "2023-07-31T07:33:54.549046Z"
        },
        "trusted": true,
        "id": "OQlhFMYm4C8a",
        "outputId": "4fca525f-78ac-40e9-e03f-a1acbc037d85"
      },
      "execution_count": null,
      "outputs": [
        {
          "execution_count": 274,
          "output_type": "execute_result",
          "data": {
            "text/plain": "                                        name  ratings  price  \\\n0  REDMI Note 12 Pro 5G (Onyx Black, 128 GB)      4.2  23999   \n1        OPPO F11 Pro (Aurora Green, 128 GB)      4.5  20999   \n2     REDMI Note 11 (Starburst White, 64 GB)      4.2  13149   \n3     OnePlus Nord CE 5G (Blue Void, 256 GB)      4.1  21999   \n4        APPLE iPhone 13 mini (Blue, 128 GB)      4.6   3537   \n\n                                              imgURL  \\\n0  https://rukminim2.flixcart.com/image/312/312/x...   \n1  https://rukminim2.flixcart.com/image/312/312/k...   \n2  https://rukminim2.flixcart.com/image/312/312/x...   \n3  https://rukminim2.flixcart.com/image/312/312/x...   \n4  https://rukminim2.flixcart.com/image/312/312/k...   \n\n                                        descriptions  \n0  REDMI Note 12 Pro 5G (Onyx Black, 128 GB) stor...  \n1  OPPO F11 Pro (Aurora Green, 128 GB) storage128...  \n2  REDMI Note 11 (Starburst White, 64 GB) storage...  \n3  OnePlus Nord CE 5G (Blue Void, 256 GB) storage...  \n4  APPLE iPhone 13 mini (Blue, 128 GB) storage128...  ",
            "text/html": "<div>\n<style scoped>\n    .dataframe tbody tr th:only-of-type {\n        vertical-align: middle;\n    }\n\n    .dataframe tbody tr th {\n        vertical-align: top;\n    }\n\n    .dataframe thead th {\n        text-align: right;\n    }\n</style>\n<table border=\"1\" class=\"dataframe\">\n  <thead>\n    <tr style=\"text-align: right;\">\n      <th></th>\n      <th>name</th>\n      <th>ratings</th>\n      <th>price</th>\n      <th>imgURL</th>\n      <th>descriptions</th>\n    </tr>\n  </thead>\n  <tbody>\n    <tr>\n      <th>0</th>\n      <td>REDMI Note 12 Pro 5G (Onyx Black, 128 GB)</td>\n      <td>4.2</td>\n      <td>23999</td>\n      <td>https://rukminim2.flixcart.com/image/312/312/x...</td>\n      <td>REDMI Note 12 Pro 5G (Onyx Black, 128 GB) stor...</td>\n    </tr>\n    <tr>\n      <th>1</th>\n      <td>OPPO F11 Pro (Aurora Green, 128 GB)</td>\n      <td>4.5</td>\n      <td>20999</td>\n      <td>https://rukminim2.flixcart.com/image/312/312/k...</td>\n      <td>OPPO F11 Pro (Aurora Green, 128 GB) storage128...</td>\n    </tr>\n    <tr>\n      <th>2</th>\n      <td>REDMI Note 11 (Starburst White, 64 GB)</td>\n      <td>4.2</td>\n      <td>13149</td>\n      <td>https://rukminim2.flixcart.com/image/312/312/x...</td>\n      <td>REDMI Note 11 (Starburst White, 64 GB) storage...</td>\n    </tr>\n    <tr>\n      <th>3</th>\n      <td>OnePlus Nord CE 5G (Blue Void, 256 GB)</td>\n      <td>4.1</td>\n      <td>21999</td>\n      <td>https://rukminim2.flixcart.com/image/312/312/x...</td>\n      <td>OnePlus Nord CE 5G (Blue Void, 256 GB) storage...</td>\n    </tr>\n    <tr>\n      <th>4</th>\n      <td>APPLE iPhone 13 mini (Blue, 128 GB)</td>\n      <td>4.6</td>\n      <td>3537</td>\n      <td>https://rukminim2.flixcart.com/image/312/312/k...</td>\n      <td>APPLE iPhone 13 mini (Blue, 128 GB) storage128...</td>\n    </tr>\n  </tbody>\n</table>\n</div>"
          },
          "metadata": {}
        }
      ]
    },
    {
      "cell_type": "code",
      "source": [
        "vector2=cv.fit_transform(final_df['descriptions']).toarray()"
      ],
      "metadata": {
        "execution": {
          "iopub.status.busy": "2023-07-31T07:34:00.975904Z",
          "iopub.execute_input": "2023-07-31T07:34:00.976663Z",
          "iopub.status.idle": "2023-07-31T07:34:01.204136Z",
          "shell.execute_reply.started": "2023-07-31T07:34:00.976599Z",
          "shell.execute_reply": "2023-07-31T07:34:01.203208Z"
        },
        "trusted": true,
        "id": "sNWFUMaN4C8b"
      },
      "execution_count": null,
      "outputs": []
    },
    {
      "cell_type": "code",
      "source": [
        "vector2"
      ],
      "metadata": {
        "execution": {
          "iopub.status.busy": "2023-07-31T07:34:01.626145Z",
          "iopub.execute_input": "2023-07-31T07:34:01.626810Z",
          "iopub.status.idle": "2023-07-31T07:34:01.634786Z",
          "shell.execute_reply.started": "2023-07-31T07:34:01.626776Z",
          "shell.execute_reply": "2023-07-31T07:34:01.633559Z"
        },
        "trusted": true,
        "id": "wOKsvQHV4C8c",
        "outputId": "7e263e24-389c-47c2-8a9c-c2f40c80f28c"
      },
      "execution_count": null,
      "outputs": [
        {
          "execution_count": 276,
          "output_type": "execute_result",
          "data": {
            "text/plain": "array([[0, 2, 0, ..., 0, 0, 0],\n       [0, 0, 0, ..., 0, 0, 0],\n       [0, 0, 0, ..., 0, 0, 0],\n       ...,\n       [0, 0, 0, ..., 0, 0, 0],\n       [0, 0, 0, ..., 0, 0, 0],\n       [0, 0, 0, ..., 0, 0, 0]])"
          },
          "metadata": {}
        }
      ]
    },
    {
      "cell_type": "code",
      "source": [
        "similarity2=cosine_similarity(vector2)"
      ],
      "metadata": {
        "execution": {
          "iopub.status.busy": "2023-07-31T07:34:03.085529Z",
          "iopub.execute_input": "2023-07-31T07:34:03.086053Z",
          "iopub.status.idle": "2023-07-31T07:34:03.214398Z",
          "shell.execute_reply.started": "2023-07-31T07:34:03.086015Z",
          "shell.execute_reply": "2023-07-31T07:34:03.212687Z"
        },
        "trusted": true,
        "id": "SScmn8Zh4C8c"
      },
      "execution_count": null,
      "outputs": []
    },
    {
      "cell_type": "code",
      "source": [
        "similarity2[1]"
      ],
      "metadata": {
        "execution": {
          "iopub.status.busy": "2023-07-31T07:34:04.425597Z",
          "iopub.execute_input": "2023-07-31T07:34:04.426046Z",
          "iopub.status.idle": "2023-07-31T07:34:04.434858Z",
          "shell.execute_reply.started": "2023-07-31T07:34:04.426013Z",
          "shell.execute_reply": "2023-07-31T07:34:04.433214Z"
        },
        "trusted": true,
        "id": "U4mco7rM4C8c",
        "outputId": "9d3aa4b1-b862-4736-d55f-312a348588ff"
      },
      "execution_count": null,
      "outputs": [
        {
          "execution_count": 278,
          "output_type": "execute_result",
          "data": {
            "text/plain": "array([0.26628462, 1.        , 0.1537395 , ..., 0.26756002, 0.09598942,\n       0.23411502])"
          },
          "metadata": {}
        }
      ]
    },
    {
      "cell_type": "code",
      "source": [
        "def recommend_similiar_phone_name_with_des(phone):\n",
        "    phone_index = df[df['name'] == phone].index\n",
        "    if len(phone_index) == 0:\n",
        "        print(\"Phone not found in the dataset.\")\n",
        "        return []\n",
        "\n",
        "    phone_index = phone_index[0]\n",
        "    distances = similarity2[phone_index]\n",
        "    phoneLists = sorted(list(enumerate(distances)), reverse=True, key=lambda x: x[1])[1:10]\n",
        "\n",
        "    recommended_phones = []\n",
        "    for i in phoneLists:\n",
        "        recommended_phone_name = df.iloc[i[0]]['name']\n",
        "        recommended_phone_imgurl = df.iloc[i[0]]['imgURL']\n",
        "        recommended_phones.append((recommended_phone_name, recommended_phone_imgurl))\n",
        "\n",
        "    return recommended_phones"
      ],
      "metadata": {
        "execution": {
          "iopub.status.busy": "2023-07-31T07:34:19.685657Z",
          "iopub.execute_input": "2023-07-31T07:34:19.686204Z",
          "iopub.status.idle": "2023-07-31T07:34:19.695571Z",
          "shell.execute_reply.started": "2023-07-31T07:34:19.686162Z",
          "shell.execute_reply": "2023-07-31T07:34:19.694201Z"
        },
        "trusted": true,
        "id": "XzC4uIVy4C8d"
      },
      "execution_count": null,
      "outputs": []
    },
    {
      "cell_type": "code",
      "source": [
        "recommend_similiar_phone_name_with_des('OPPO F11 Pro (Aurora Green, 128 GB)')"
      ],
      "metadata": {
        "execution": {
          "iopub.status.busy": "2023-07-31T07:34:21.055687Z",
          "iopub.execute_input": "2023-07-31T07:34:21.056352Z",
          "iopub.status.idle": "2023-07-31T07:34:21.072122Z",
          "shell.execute_reply.started": "2023-07-31T07:34:21.056316Z",
          "shell.execute_reply": "2023-07-31T07:34:21.070550Z"
        },
        "trusted": true,
        "id": "_IWTmwy54C8d",
        "outputId": "cae33c46-1a7a-4b63-ce7b-0e08d7d687ea"
      },
      "execution_count": null,
      "outputs": [
        {
          "execution_count": 282,
          "output_type": "execute_result",
          "data": {
            "text/plain": "[('OPPO F11 Pro (Thunder Black, 128 GB)',\n  'https://rukminim2.flixcart.com/image/312/312/k01b8280pkrrdj/mobile/d/g/s/oppo-f11-pro-cph1969-original-imafec8h3uqk3fqw.jpeg?q=70'),\n ('OPPO F11 Pro (Waterfall Grey, 128 GB)',\n  'https://rukminim2.flixcart.com/image/312/312/k73nlow0/mobile/g/5/2/oppo-f11-pro-cph1969-original-imafpfybdkcp5yqt.jpeg?q=70'),\n ('OPPO F11 Pro (Thunder Black, 64 GB)',\n  'https://rukminim2.flixcart.com/image/312/312/k01b8280pkrrdj/mobile/d/g/s/oppo-f11-pro-cph1969-original-imafec8h3uqk3fqw.jpeg?q=70'),\n ('OPPO F11 (Marble Green, 128 GB)',\n  'https://rukminim2.flixcart.com/image/312/312/k2jbyq80pkrrdj/mobile-refurbished/z/a/f/f11-128-a-cph1911-oppo-4-original-imafght4kvkhnzzg.jpeg?q=70'),\n ('OPPO F11 (Marble Green, 128 GB)',\n  'https://rukminim2.flixcart.com/image/312/312/k2jbyq80pkrrdj/mobile-refurbished/n/y/p/f11-128-a-cph1911-oppo-6-original-imafg4zzjz8mjjwr.jpeg?q=70'),\n ('OPPO F11 (Fluorite Purple, 128 GB)',\n  'https://rukminim2.flixcart.com/image/312/312/k2jbyq80pkrrdj/mobile-refurbished/m/p/6/f11-128-c-cph1911-oppo-4-original-imafght4bbcxzmgc.jpeg?q=70'),\n ('OPPO F11 (Jewelry White, 128 GB)',\n  'https://rukminim2.flixcart.com/image/312/312/k2jbyq80pkrrdj/mobile-refurbished/q/9/u/f11-128-b-cph1911-oppo-4-original-imafght42bnt4qem.jpeg?q=70'),\n ('OPPO F11 (Fluorite Purple, 128 GB)',\n  'https://rukminim2.flixcart.com/image/312/312/k2jbyq80pkrrdj/mobile-refurbished/e/f/h/f11-128-b-cph1911-oppo-6-original-imafg4zzjgyjsydr.jpeg?q=70'),\n ('OPPO A1K (Red, 32 GB)',\n  'https://rukminim2.flixcart.com/image/312/312/k2jbyq80pkrrdj/mobile-refurbished/m/w/z/a1k-32-b-cph1923-oppo-2-original-imafg2hqnxx3kntn.jpeg?q=70')]"
          },
          "metadata": {}
        }
      ]
    },
    {
      "cell_type": "code",
      "source": [
        "with open('Similarity_Matrix_2.pkl', 'wb') as file:\n",
        "    pkl.dump(similarity2, file)"
      ],
      "metadata": {
        "execution": {
          "iopub.status.busy": "2023-07-31T07:34:38.506709Z",
          "iopub.execute_input": "2023-07-31T07:34:38.507144Z",
          "iopub.status.idle": "2023-07-31T07:34:38.657973Z",
          "shell.execute_reply.started": "2023-07-31T07:34:38.507112Z",
          "shell.execute_reply": "2023-07-31T07:34:38.656826Z"
        },
        "trusted": true,
        "id": "g3eljr2K4C8d"
      },
      "execution_count": null,
      "outputs": []
    },
    {
      "cell_type": "code",
      "source": [
        "similar2=pkl.load(open(\"Similarity_Matrix_1.pkl\",\"rb\"))"
      ],
      "metadata": {
        "execution": {
          "iopub.status.busy": "2023-07-31T07:34:39.495802Z",
          "iopub.execute_input": "2023-07-31T07:34:39.496210Z",
          "iopub.status.idle": "2023-07-31T07:34:39.545406Z",
          "shell.execute_reply.started": "2023-07-31T07:34:39.496179Z",
          "shell.execute_reply": "2023-07-31T07:34:39.543995Z"
        },
        "trusted": true,
        "id": "lWU3mYRp4C8d"
      },
      "execution_count": null,
      "outputs": []
    },
    {
      "cell_type": "code",
      "source": [],
      "metadata": {
        "id": "Y6geQtVj4C8e"
      },
      "execution_count": null,
      "outputs": []
    }
  ]
}
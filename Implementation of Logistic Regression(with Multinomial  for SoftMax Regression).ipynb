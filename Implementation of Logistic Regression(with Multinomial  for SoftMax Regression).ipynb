{
 "cells": [
  {
   "cell_type": "code",
   "execution_count": 1,
   "id": "d53a8a13",
   "metadata": {
    "_cell_guid": "b1076dfc-b9ad-4769-8c92-a6c4dae69d19",
    "_uuid": "8f2839f25d086af736a60e9eeb907d3b93b6e0e5",
    "execution": {
     "iopub.execute_input": "2023-06-06T16:14:31.547936Z",
     "iopub.status.busy": "2023-06-06T16:14:31.546363Z",
     "iopub.status.idle": "2023-06-06T16:14:31.570412Z",
     "shell.execute_reply": "2023-06-06T16:14:31.568775Z"
    },
    "papermill": {
     "duration": 0.041824,
     "end_time": "2023-06-06T16:14:31.572854",
     "exception": false,
     "start_time": "2023-06-06T16:14:31.531030",
     "status": "completed"
    },
    "tags": []
   },
   "outputs": [
    {
     "name": "stdout",
     "output_type": "stream",
     "text": [
      "/kaggle/input/diabetes-health-indicators-dataset/diabetes_binary_5050split_health_indicators_BRFSS2015.csv\n",
      "/kaggle/input/diabetes-health-indicators-dataset/diabetes_binary_health_indicators_BRFSS2015.csv\n",
      "/kaggle/input/diabetes-health-indicators-dataset/diabetes_012_health_indicators_BRFSS2015.csv\n"
     ]
    }
   ],
   "source": [
    "# This Python 3 environment comes with many helpful analytics libraries installed\n",
    "# It is defined by the kaggle/python Docker image: https://github.com/kaggle/docker-python\n",
    "# For example, here's several helpful packages to load\n",
    "\n",
    "import numpy as np # linear algebra\n",
    "import pandas as pd # data processing, CSV file I/O (e.g. pd.read_csv)\n",
    "\n",
    "# Input data files are available in the read-only \"../input/\" directory\n",
    "# For example, running this (by clicking run or pressing Shift+Enter) will list all files under the input directory\n",
    "\n",
    "import os\n",
    "for dirname, _, filenames in os.walk('/kaggle/input'):\n",
    "    for filename in filenames:\n",
    "        print(os.path.join(dirname, filename))\n",
    "\n",
    "# You can write up to 20GB to the current directory (/kaggle/working/) that gets preserved as output when you create a version using \"Save & Run All\" \n",
    "# You can also write temporary files to /kaggle/temp/, but they won't be saved outside of the current session"
   ]
  },
  {
   "cell_type": "code",
   "execution_count": 2,
   "id": "791902e7",
   "metadata": {
    "execution": {
     "iopub.execute_input": "2023-06-06T16:14:31.599806Z",
     "iopub.status.busy": "2023-06-06T16:14:31.599405Z",
     "iopub.status.idle": "2023-06-06T16:14:32.684364Z",
     "shell.execute_reply": "2023-06-06T16:14:32.683203Z"
    },
    "papermill": {
     "duration": 1.101836,
     "end_time": "2023-06-06T16:14:32.687300",
     "exception": false,
     "start_time": "2023-06-06T16:14:31.585464",
     "status": "completed"
    },
    "tags": []
   },
   "outputs": [],
   "source": [
    "df=pd.read_csv('/kaggle/input/diabetes-health-indicators-dataset/diabetes_012_health_indicators_BRFSS2015.csv')"
   ]
  },
  {
   "cell_type": "code",
   "execution_count": 3,
   "id": "2a68495b",
   "metadata": {
    "execution": {
     "iopub.execute_input": "2023-06-06T16:14:32.712008Z",
     "iopub.status.busy": "2023-06-06T16:14:32.711384Z",
     "iopub.status.idle": "2023-06-06T16:14:32.717669Z",
     "shell.execute_reply": "2023-06-06T16:14:32.716131Z"
    },
    "papermill": {
     "duration": 0.022409,
     "end_time": "2023-06-06T16:14:32.721048",
     "exception": false,
     "start_time": "2023-06-06T16:14:32.698639",
     "status": "completed"
    },
    "tags": []
   },
   "outputs": [],
   "source": [
    "pd.set_option(\"display.max_columns\",None)"
   ]
  },
  {
   "cell_type": "code",
   "execution_count": 4,
   "id": "2c828696",
   "metadata": {
    "execution": {
     "iopub.execute_input": "2023-06-06T16:14:32.747173Z",
     "iopub.status.busy": "2023-06-06T16:14:32.746706Z",
     "iopub.status.idle": "2023-06-06T16:14:32.803383Z",
     "shell.execute_reply": "2023-06-06T16:14:32.802050Z"
    },
    "papermill": {
     "duration": 0.073158,
     "end_time": "2023-06-06T16:14:32.806328",
     "exception": false,
     "start_time": "2023-06-06T16:14:32.733170",
     "status": "completed"
    },
    "tags": []
   },
   "outputs": [
    {
     "data": {
      "text/html": [
       "<div>\n",
       "<style scoped>\n",
       "    .dataframe tbody tr th:only-of-type {\n",
       "        vertical-align: middle;\n",
       "    }\n",
       "\n",
       "    .dataframe tbody tr th {\n",
       "        vertical-align: top;\n",
       "    }\n",
       "\n",
       "    .dataframe thead th {\n",
       "        text-align: right;\n",
       "    }\n",
       "</style>\n",
       "<table border=\"1\" class=\"dataframe\">\n",
       "  <thead>\n",
       "    <tr style=\"text-align: right;\">\n",
       "      <th></th>\n",
       "      <th>Diabetes_012</th>\n",
       "      <th>HighBP</th>\n",
       "      <th>HighChol</th>\n",
       "      <th>CholCheck</th>\n",
       "      <th>BMI</th>\n",
       "      <th>Smoker</th>\n",
       "      <th>Stroke</th>\n",
       "      <th>HeartDiseaseorAttack</th>\n",
       "      <th>PhysActivity</th>\n",
       "      <th>Fruits</th>\n",
       "      <th>Veggies</th>\n",
       "      <th>HvyAlcoholConsump</th>\n",
       "      <th>AnyHealthcare</th>\n",
       "      <th>NoDocbcCost</th>\n",
       "      <th>GenHlth</th>\n",
       "      <th>MentHlth</th>\n",
       "      <th>PhysHlth</th>\n",
       "      <th>DiffWalk</th>\n",
       "      <th>Sex</th>\n",
       "      <th>Age</th>\n",
       "      <th>Education</th>\n",
       "      <th>Income</th>\n",
       "    </tr>\n",
       "  </thead>\n",
       "  <tbody>\n",
       "    <tr>\n",
       "      <th>0</th>\n",
       "      <td>0.0</td>\n",
       "      <td>1.0</td>\n",
       "      <td>1.0</td>\n",
       "      <td>1.0</td>\n",
       "      <td>40.0</td>\n",
       "      <td>1.0</td>\n",
       "      <td>0.0</td>\n",
       "      <td>0.0</td>\n",
       "      <td>0.0</td>\n",
       "      <td>0.0</td>\n",
       "      <td>1.0</td>\n",
       "      <td>0.0</td>\n",
       "      <td>1.0</td>\n",
       "      <td>0.0</td>\n",
       "      <td>5.0</td>\n",
       "      <td>18.0</td>\n",
       "      <td>15.0</td>\n",
       "      <td>1.0</td>\n",
       "      <td>0.0</td>\n",
       "      <td>9.0</td>\n",
       "      <td>4.0</td>\n",
       "      <td>3.0</td>\n",
       "    </tr>\n",
       "    <tr>\n",
       "      <th>1</th>\n",
       "      <td>0.0</td>\n",
       "      <td>0.0</td>\n",
       "      <td>0.0</td>\n",
       "      <td>0.0</td>\n",
       "      <td>25.0</td>\n",
       "      <td>1.0</td>\n",
       "      <td>0.0</td>\n",
       "      <td>0.0</td>\n",
       "      <td>1.0</td>\n",
       "      <td>0.0</td>\n",
       "      <td>0.0</td>\n",
       "      <td>0.0</td>\n",
       "      <td>0.0</td>\n",
       "      <td>1.0</td>\n",
       "      <td>3.0</td>\n",
       "      <td>0.0</td>\n",
       "      <td>0.0</td>\n",
       "      <td>0.0</td>\n",
       "      <td>0.0</td>\n",
       "      <td>7.0</td>\n",
       "      <td>6.0</td>\n",
       "      <td>1.0</td>\n",
       "    </tr>\n",
       "    <tr>\n",
       "      <th>2</th>\n",
       "      <td>0.0</td>\n",
       "      <td>1.0</td>\n",
       "      <td>1.0</td>\n",
       "      <td>1.0</td>\n",
       "      <td>28.0</td>\n",
       "      <td>0.0</td>\n",
       "      <td>0.0</td>\n",
       "      <td>0.0</td>\n",
       "      <td>0.0</td>\n",
       "      <td>1.0</td>\n",
       "      <td>0.0</td>\n",
       "      <td>0.0</td>\n",
       "      <td>1.0</td>\n",
       "      <td>1.0</td>\n",
       "      <td>5.0</td>\n",
       "      <td>30.0</td>\n",
       "      <td>30.0</td>\n",
       "      <td>1.0</td>\n",
       "      <td>0.0</td>\n",
       "      <td>9.0</td>\n",
       "      <td>4.0</td>\n",
       "      <td>8.0</td>\n",
       "    </tr>\n",
       "    <tr>\n",
       "      <th>3</th>\n",
       "      <td>0.0</td>\n",
       "      <td>1.0</td>\n",
       "      <td>0.0</td>\n",
       "      <td>1.0</td>\n",
       "      <td>27.0</td>\n",
       "      <td>0.0</td>\n",
       "      <td>0.0</td>\n",
       "      <td>0.0</td>\n",
       "      <td>1.0</td>\n",
       "      <td>1.0</td>\n",
       "      <td>1.0</td>\n",
       "      <td>0.0</td>\n",
       "      <td>1.0</td>\n",
       "      <td>0.0</td>\n",
       "      <td>2.0</td>\n",
       "      <td>0.0</td>\n",
       "      <td>0.0</td>\n",
       "      <td>0.0</td>\n",
       "      <td>0.0</td>\n",
       "      <td>11.0</td>\n",
       "      <td>3.0</td>\n",
       "      <td>6.0</td>\n",
       "    </tr>\n",
       "    <tr>\n",
       "      <th>4</th>\n",
       "      <td>0.0</td>\n",
       "      <td>1.0</td>\n",
       "      <td>1.0</td>\n",
       "      <td>1.0</td>\n",
       "      <td>24.0</td>\n",
       "      <td>0.0</td>\n",
       "      <td>0.0</td>\n",
       "      <td>0.0</td>\n",
       "      <td>1.0</td>\n",
       "      <td>1.0</td>\n",
       "      <td>1.0</td>\n",
       "      <td>0.0</td>\n",
       "      <td>1.0</td>\n",
       "      <td>0.0</td>\n",
       "      <td>2.0</td>\n",
       "      <td>3.0</td>\n",
       "      <td>0.0</td>\n",
       "      <td>0.0</td>\n",
       "      <td>0.0</td>\n",
       "      <td>11.0</td>\n",
       "      <td>5.0</td>\n",
       "      <td>4.0</td>\n",
       "    </tr>\n",
       "  </tbody>\n",
       "</table>\n",
       "</div>"
      ],
      "text/plain": [
       "   Diabetes_012  HighBP  HighChol  CholCheck   BMI  Smoker  Stroke  \\\n",
       "0           0.0     1.0       1.0        1.0  40.0     1.0     0.0   \n",
       "1           0.0     0.0       0.0        0.0  25.0     1.0     0.0   \n",
       "2           0.0     1.0       1.0        1.0  28.0     0.0     0.0   \n",
       "3           0.0     1.0       0.0        1.0  27.0     0.0     0.0   \n",
       "4           0.0     1.0       1.0        1.0  24.0     0.0     0.0   \n",
       "\n",
       "   HeartDiseaseorAttack  PhysActivity  Fruits  Veggies  HvyAlcoholConsump  \\\n",
       "0                   0.0           0.0     0.0      1.0                0.0   \n",
       "1                   0.0           1.0     0.0      0.0                0.0   \n",
       "2                   0.0           0.0     1.0      0.0                0.0   \n",
       "3                   0.0           1.0     1.0      1.0                0.0   \n",
       "4                   0.0           1.0     1.0      1.0                0.0   \n",
       "\n",
       "   AnyHealthcare  NoDocbcCost  GenHlth  MentHlth  PhysHlth  DiffWalk  Sex  \\\n",
       "0            1.0          0.0      5.0      18.0      15.0       1.0  0.0   \n",
       "1            0.0          1.0      3.0       0.0       0.0       0.0  0.0   \n",
       "2            1.0          1.0      5.0      30.0      30.0       1.0  0.0   \n",
       "3            1.0          0.0      2.0       0.0       0.0       0.0  0.0   \n",
       "4            1.0          0.0      2.0       3.0       0.0       0.0  0.0   \n",
       "\n",
       "    Age  Education  Income  \n",
       "0   9.0        4.0     3.0  \n",
       "1   7.0        6.0     1.0  \n",
       "2   9.0        4.0     8.0  \n",
       "3  11.0        3.0     6.0  \n",
       "4  11.0        5.0     4.0  "
      ]
     },
     "execution_count": 4,
     "metadata": {},
     "output_type": "execute_result"
    }
   ],
   "source": [
    "df.head()"
   ]
  },
  {
   "cell_type": "code",
   "execution_count": 5,
   "id": "c1bd2f03",
   "metadata": {
    "execution": {
     "iopub.execute_input": "2023-06-06T16:14:32.833460Z",
     "iopub.status.busy": "2023-06-06T16:14:32.833031Z",
     "iopub.status.idle": "2023-06-06T16:14:32.847083Z",
     "shell.execute_reply": "2023-06-06T16:14:32.845845Z"
    },
    "papermill": {
     "duration": 0.031799,
     "end_time": "2023-06-06T16:14:32.850104",
     "exception": false,
     "start_time": "2023-06-06T16:14:32.818305",
     "status": "completed"
    },
    "tags": []
   },
   "outputs": [
    {
     "data": {
      "text/plain": [
       "array([0., 2., 1.])"
      ]
     },
     "execution_count": 5,
     "metadata": {},
     "output_type": "execute_result"
    }
   ],
   "source": [
    "df['Diabetes_012'].unique()"
   ]
  },
  {
   "cell_type": "markdown",
   "id": "f0eb52d3",
   "metadata": {
    "papermill": {
     "duration": 0.012126,
     "end_time": "2023-06-06T16:14:32.875119",
     "exception": false,
     "start_time": "2023-06-06T16:14:32.862993",
     "status": "completed"
    },
    "tags": []
   },
   "source": [
    "**EDA**"
   ]
  },
  {
   "cell_type": "code",
   "execution_count": 6,
   "id": "092e8dea",
   "metadata": {
    "execution": {
     "iopub.execute_input": "2023-06-06T16:14:32.902380Z",
     "iopub.status.busy": "2023-06-06T16:14:32.901097Z",
     "iopub.status.idle": "2023-06-06T16:14:32.909091Z",
     "shell.execute_reply": "2023-06-06T16:14:32.907160Z"
    },
    "papermill": {
     "duration": 0.025579,
     "end_time": "2023-06-06T16:14:32.912964",
     "exception": false,
     "start_time": "2023-06-06T16:14:32.887385",
     "status": "completed"
    },
    "tags": []
   },
   "outputs": [
    {
     "name": "stdout",
     "output_type": "stream",
     "text": [
      "Row of this dataset is: 253680 and Columns or features of this dataset is: 22\n"
     ]
    }
   ],
   "source": [
    "print(\"Row of this dataset is:\",df.shape[0],\"and Columns or features of this dataset is:\",df.shape[1])"
   ]
  },
  {
   "cell_type": "code",
   "execution_count": 7,
   "id": "bd67909f",
   "metadata": {
    "execution": {
     "iopub.execute_input": "2023-06-06T16:14:32.941034Z",
     "iopub.status.busy": "2023-06-06T16:14:32.940623Z",
     "iopub.status.idle": "2023-06-06T16:14:32.979380Z",
     "shell.execute_reply": "2023-06-06T16:14:32.977871Z"
    },
    "papermill": {
     "duration": 0.055417,
     "end_time": "2023-06-06T16:14:32.982406",
     "exception": false,
     "start_time": "2023-06-06T16:14:32.926989",
     "status": "completed"
    },
    "tags": []
   },
   "outputs": [
    {
     "name": "stdout",
     "output_type": "stream",
     "text": [
      "<class 'pandas.core.frame.DataFrame'>\n",
      "RangeIndex: 253680 entries, 0 to 253679\n",
      "Data columns (total 22 columns):\n",
      " #   Column                Non-Null Count   Dtype  \n",
      "---  ------                --------------   -----  \n",
      " 0   Diabetes_012          253680 non-null  float64\n",
      " 1   HighBP                253680 non-null  float64\n",
      " 2   HighChol              253680 non-null  float64\n",
      " 3   CholCheck             253680 non-null  float64\n",
      " 4   BMI                   253680 non-null  float64\n",
      " 5   Smoker                253680 non-null  float64\n",
      " 6   Stroke                253680 non-null  float64\n",
      " 7   HeartDiseaseorAttack  253680 non-null  float64\n",
      " 8   PhysActivity          253680 non-null  float64\n",
      " 9   Fruits                253680 non-null  float64\n",
      " 10  Veggies               253680 non-null  float64\n",
      " 11  HvyAlcoholConsump     253680 non-null  float64\n",
      " 12  AnyHealthcare         253680 non-null  float64\n",
      " 13  NoDocbcCost           253680 non-null  float64\n",
      " 14  GenHlth               253680 non-null  float64\n",
      " 15  MentHlth              253680 non-null  float64\n",
      " 16  PhysHlth              253680 non-null  float64\n",
      " 17  DiffWalk              253680 non-null  float64\n",
      " 18  Sex                   253680 non-null  float64\n",
      " 19  Age                   253680 non-null  float64\n",
      " 20  Education             253680 non-null  float64\n",
      " 21  Income                253680 non-null  float64\n",
      "dtypes: float64(22)\n",
      "memory usage: 42.6 MB\n"
     ]
    }
   ],
   "source": [
    "df.info()"
   ]
  },
  {
   "cell_type": "code",
   "execution_count": 8,
   "id": "fc9da7fe",
   "metadata": {
    "execution": {
     "iopub.execute_input": "2023-06-06T16:14:33.009009Z",
     "iopub.status.busy": "2023-06-06T16:14:33.008580Z",
     "iopub.status.idle": "2023-06-06T16:14:33.149635Z",
     "shell.execute_reply": "2023-06-06T16:14:33.148378Z"
    },
    "papermill": {
     "duration": 0.157428,
     "end_time": "2023-06-06T16:14:33.152440",
     "exception": false,
     "start_time": "2023-06-06T16:14:32.995012",
     "status": "completed"
    },
    "tags": []
   },
   "outputs": [
    {
     "data": {
      "text/plain": [
       "23899"
      ]
     },
     "execution_count": 8,
     "metadata": {},
     "output_type": "execute_result"
    }
   ],
   "source": [
    "d=df.duplicated().sum()\n",
    "d"
   ]
  },
  {
   "cell_type": "code",
   "execution_count": 9,
   "id": "efa2268d",
   "metadata": {
    "execution": {
     "iopub.execute_input": "2023-06-06T16:14:33.179319Z",
     "iopub.status.busy": "2023-06-06T16:14:33.178933Z",
     "iopub.status.idle": "2023-06-06T16:14:33.185226Z",
     "shell.execute_reply": "2023-06-06T16:14:33.183860Z"
    },
    "papermill": {
     "duration": 0.022971,
     "end_time": "2023-06-06T16:14:33.188176",
     "exception": false,
     "start_time": "2023-06-06T16:14:33.165205",
     "status": "completed"
    },
    "tags": []
   },
   "outputs": [
    {
     "name": "stdout",
     "output_type": "stream",
     "text": [
      "229781\n"
     ]
    }
   ],
   "source": [
    "print(df.shape[0]-d)"
   ]
  },
  {
   "cell_type": "code",
   "execution_count": 10,
   "id": "fc0c1dee",
   "metadata": {
    "execution": {
     "iopub.execute_input": "2023-06-06T16:14:33.216238Z",
     "iopub.status.busy": "2023-06-06T16:14:33.215797Z",
     "iopub.status.idle": "2023-06-06T16:14:33.366441Z",
     "shell.execute_reply": "2023-06-06T16:14:33.365069Z"
    },
    "papermill": {
     "duration": 0.168243,
     "end_time": "2023-06-06T16:14:33.369297",
     "exception": false,
     "start_time": "2023-06-06T16:14:33.201054",
     "status": "completed"
    },
    "tags": []
   },
   "outputs": [],
   "source": [
    "new_df=df.drop_duplicates()"
   ]
  },
  {
   "cell_type": "code",
   "execution_count": 11,
   "id": "3bb05c41",
   "metadata": {
    "execution": {
     "iopub.execute_input": "2023-06-06T16:14:33.395448Z",
     "iopub.status.busy": "2023-06-06T16:14:33.395064Z",
     "iopub.status.idle": "2023-06-06T16:14:33.402360Z",
     "shell.execute_reply": "2023-06-06T16:14:33.401275Z"
    },
    "papermill": {
     "duration": 0.023188,
     "end_time": "2023-06-06T16:14:33.404697",
     "exception": false,
     "start_time": "2023-06-06T16:14:33.381509",
     "status": "completed"
    },
    "tags": []
   },
   "outputs": [
    {
     "data": {
      "text/plain": [
       "(229781, 22)"
      ]
     },
     "execution_count": 11,
     "metadata": {},
     "output_type": "execute_result"
    }
   ],
   "source": [
    "new_df.shape"
   ]
  },
  {
   "cell_type": "code",
   "execution_count": 12,
   "id": "06d8086e",
   "metadata": {
    "execution": {
     "iopub.execute_input": "2023-06-06T16:14:33.432945Z",
     "iopub.status.busy": "2023-06-06T16:14:33.432526Z",
     "iopub.status.idle": "2023-06-06T16:14:33.722955Z",
     "shell.execute_reply": "2023-06-06T16:14:33.721298Z"
    },
    "papermill": {
     "duration": 0.308564,
     "end_time": "2023-06-06T16:14:33.726157",
     "exception": false,
     "start_time": "2023-06-06T16:14:33.417593",
     "status": "completed"
    },
    "tags": []
   },
   "outputs": [
    {
     "data": {
      "text/html": [
       "<div>\n",
       "<style scoped>\n",
       "    .dataframe tbody tr th:only-of-type {\n",
       "        vertical-align: middle;\n",
       "    }\n",
       "\n",
       "    .dataframe tbody tr th {\n",
       "        vertical-align: top;\n",
       "    }\n",
       "\n",
       "    .dataframe thead th {\n",
       "        text-align: right;\n",
       "    }\n",
       "</style>\n",
       "<table border=\"1\" class=\"dataframe\">\n",
       "  <thead>\n",
       "    <tr style=\"text-align: right;\">\n",
       "      <th></th>\n",
       "      <th>Diabetes_012</th>\n",
       "      <th>HighBP</th>\n",
       "      <th>HighChol</th>\n",
       "      <th>CholCheck</th>\n",
       "      <th>BMI</th>\n",
       "      <th>Smoker</th>\n",
       "      <th>Stroke</th>\n",
       "      <th>HeartDiseaseorAttack</th>\n",
       "      <th>PhysActivity</th>\n",
       "      <th>Fruits</th>\n",
       "      <th>Veggies</th>\n",
       "      <th>HvyAlcoholConsump</th>\n",
       "      <th>AnyHealthcare</th>\n",
       "      <th>NoDocbcCost</th>\n",
       "      <th>GenHlth</th>\n",
       "      <th>MentHlth</th>\n",
       "      <th>PhysHlth</th>\n",
       "      <th>DiffWalk</th>\n",
       "      <th>Sex</th>\n",
       "      <th>Age</th>\n",
       "      <th>Education</th>\n",
       "      <th>Income</th>\n",
       "    </tr>\n",
       "  </thead>\n",
       "  <tbody>\n",
       "    <tr>\n",
       "      <th>count</th>\n",
       "      <td>229781.000000</td>\n",
       "      <td>229781.000000</td>\n",
       "      <td>229781.000000</td>\n",
       "      <td>229781.000000</td>\n",
       "      <td>229781.00000</td>\n",
       "      <td>229781.000000</td>\n",
       "      <td>229781.000000</td>\n",
       "      <td>229781.000000</td>\n",
       "      <td>229781.000000</td>\n",
       "      <td>229781.000000</td>\n",
       "      <td>229781.000000</td>\n",
       "      <td>229781.000000</td>\n",
       "      <td>229781.000000</td>\n",
       "      <td>229781.000000</td>\n",
       "      <td>229781.000000</td>\n",
       "      <td>229781.000000</td>\n",
       "      <td>229781.000000</td>\n",
       "      <td>229781.000000</td>\n",
       "      <td>229781.000000</td>\n",
       "      <td>229781.000000</td>\n",
       "      <td>229781.000000</td>\n",
       "      <td>229781.000000</td>\n",
       "    </tr>\n",
       "    <tr>\n",
       "      <th>mean</th>\n",
       "      <td>0.325627</td>\n",
       "      <td>0.454441</td>\n",
       "      <td>0.441760</td>\n",
       "      <td>0.959535</td>\n",
       "      <td>28.68567</td>\n",
       "      <td>0.465661</td>\n",
       "      <td>0.044756</td>\n",
       "      <td>0.103216</td>\n",
       "      <td>0.733355</td>\n",
       "      <td>0.612966</td>\n",
       "      <td>0.794813</td>\n",
       "      <td>0.060710</td>\n",
       "      <td>0.946075</td>\n",
       "      <td>0.092810</td>\n",
       "      <td>2.601151</td>\n",
       "      <td>3.505373</td>\n",
       "      <td>4.675178</td>\n",
       "      <td>0.185507</td>\n",
       "      <td>0.439231</td>\n",
       "      <td>8.086582</td>\n",
       "      <td>4.980568</td>\n",
       "      <td>5.890383</td>\n",
       "    </tr>\n",
       "    <tr>\n",
       "      <th>std</th>\n",
       "      <td>0.724623</td>\n",
       "      <td>0.497921</td>\n",
       "      <td>0.496598</td>\n",
       "      <td>0.197047</td>\n",
       "      <td>6.78636</td>\n",
       "      <td>0.498821</td>\n",
       "      <td>0.206767</td>\n",
       "      <td>0.304241</td>\n",
       "      <td>0.442206</td>\n",
       "      <td>0.487073</td>\n",
       "      <td>0.403839</td>\n",
       "      <td>0.238798</td>\n",
       "      <td>0.225871</td>\n",
       "      <td>0.290167</td>\n",
       "      <td>1.064685</td>\n",
       "      <td>7.713725</td>\n",
       "      <td>9.046568</td>\n",
       "      <td>0.388709</td>\n",
       "      <td>0.496295</td>\n",
       "      <td>3.093809</td>\n",
       "      <td>0.992895</td>\n",
       "      <td>2.092477</td>\n",
       "    </tr>\n",
       "    <tr>\n",
       "      <th>min</th>\n",
       "      <td>0.000000</td>\n",
       "      <td>0.000000</td>\n",
       "      <td>0.000000</td>\n",
       "      <td>0.000000</td>\n",
       "      <td>12.00000</td>\n",
       "      <td>0.000000</td>\n",
       "      <td>0.000000</td>\n",
       "      <td>0.000000</td>\n",
       "      <td>0.000000</td>\n",
       "      <td>0.000000</td>\n",
       "      <td>0.000000</td>\n",
       "      <td>0.000000</td>\n",
       "      <td>0.000000</td>\n",
       "      <td>0.000000</td>\n",
       "      <td>1.000000</td>\n",
       "      <td>0.000000</td>\n",
       "      <td>0.000000</td>\n",
       "      <td>0.000000</td>\n",
       "      <td>0.000000</td>\n",
       "      <td>1.000000</td>\n",
       "      <td>1.000000</td>\n",
       "      <td>1.000000</td>\n",
       "    </tr>\n",
       "    <tr>\n",
       "      <th>25%</th>\n",
       "      <td>0.000000</td>\n",
       "      <td>0.000000</td>\n",
       "      <td>0.000000</td>\n",
       "      <td>1.000000</td>\n",
       "      <td>24.00000</td>\n",
       "      <td>0.000000</td>\n",
       "      <td>0.000000</td>\n",
       "      <td>0.000000</td>\n",
       "      <td>0.000000</td>\n",
       "      <td>0.000000</td>\n",
       "      <td>1.000000</td>\n",
       "      <td>0.000000</td>\n",
       "      <td>1.000000</td>\n",
       "      <td>0.000000</td>\n",
       "      <td>2.000000</td>\n",
       "      <td>0.000000</td>\n",
       "      <td>0.000000</td>\n",
       "      <td>0.000000</td>\n",
       "      <td>0.000000</td>\n",
       "      <td>6.000000</td>\n",
       "      <td>4.000000</td>\n",
       "      <td>5.000000</td>\n",
       "    </tr>\n",
       "    <tr>\n",
       "      <th>50%</th>\n",
       "      <td>0.000000</td>\n",
       "      <td>0.000000</td>\n",
       "      <td>0.000000</td>\n",
       "      <td>1.000000</td>\n",
       "      <td>27.00000</td>\n",
       "      <td>0.000000</td>\n",
       "      <td>0.000000</td>\n",
       "      <td>0.000000</td>\n",
       "      <td>1.000000</td>\n",
       "      <td>1.000000</td>\n",
       "      <td>1.000000</td>\n",
       "      <td>0.000000</td>\n",
       "      <td>1.000000</td>\n",
       "      <td>0.000000</td>\n",
       "      <td>3.000000</td>\n",
       "      <td>0.000000</td>\n",
       "      <td>0.000000</td>\n",
       "      <td>0.000000</td>\n",
       "      <td>0.000000</td>\n",
       "      <td>8.000000</td>\n",
       "      <td>5.000000</td>\n",
       "      <td>6.000000</td>\n",
       "    </tr>\n",
       "    <tr>\n",
       "      <th>75%</th>\n",
       "      <td>0.000000</td>\n",
       "      <td>1.000000</td>\n",
       "      <td>1.000000</td>\n",
       "      <td>1.000000</td>\n",
       "      <td>32.00000</td>\n",
       "      <td>1.000000</td>\n",
       "      <td>0.000000</td>\n",
       "      <td>0.000000</td>\n",
       "      <td>1.000000</td>\n",
       "      <td>1.000000</td>\n",
       "      <td>1.000000</td>\n",
       "      <td>0.000000</td>\n",
       "      <td>1.000000</td>\n",
       "      <td>0.000000</td>\n",
       "      <td>3.000000</td>\n",
       "      <td>2.000000</td>\n",
       "      <td>4.000000</td>\n",
       "      <td>0.000000</td>\n",
       "      <td>1.000000</td>\n",
       "      <td>10.000000</td>\n",
       "      <td>6.000000</td>\n",
       "      <td>8.000000</td>\n",
       "    </tr>\n",
       "    <tr>\n",
       "      <th>max</th>\n",
       "      <td>2.000000</td>\n",
       "      <td>1.000000</td>\n",
       "      <td>1.000000</td>\n",
       "      <td>1.000000</td>\n",
       "      <td>98.00000</td>\n",
       "      <td>1.000000</td>\n",
       "      <td>1.000000</td>\n",
       "      <td>1.000000</td>\n",
       "      <td>1.000000</td>\n",
       "      <td>1.000000</td>\n",
       "      <td>1.000000</td>\n",
       "      <td>1.000000</td>\n",
       "      <td>1.000000</td>\n",
       "      <td>1.000000</td>\n",
       "      <td>5.000000</td>\n",
       "      <td>30.000000</td>\n",
       "      <td>30.000000</td>\n",
       "      <td>1.000000</td>\n",
       "      <td>1.000000</td>\n",
       "      <td>13.000000</td>\n",
       "      <td>6.000000</td>\n",
       "      <td>8.000000</td>\n",
       "    </tr>\n",
       "  </tbody>\n",
       "</table>\n",
       "</div>"
      ],
      "text/plain": [
       "        Diabetes_012         HighBP       HighChol      CholCheck  \\\n",
       "count  229781.000000  229781.000000  229781.000000  229781.000000   \n",
       "mean        0.325627       0.454441       0.441760       0.959535   \n",
       "std         0.724623       0.497921       0.496598       0.197047   \n",
       "min         0.000000       0.000000       0.000000       0.000000   \n",
       "25%         0.000000       0.000000       0.000000       1.000000   \n",
       "50%         0.000000       0.000000       0.000000       1.000000   \n",
       "75%         0.000000       1.000000       1.000000       1.000000   \n",
       "max         2.000000       1.000000       1.000000       1.000000   \n",
       "\n",
       "                BMI         Smoker         Stroke  HeartDiseaseorAttack  \\\n",
       "count  229781.00000  229781.000000  229781.000000         229781.000000   \n",
       "mean       28.68567       0.465661       0.044756              0.103216   \n",
       "std         6.78636       0.498821       0.206767              0.304241   \n",
       "min        12.00000       0.000000       0.000000              0.000000   \n",
       "25%        24.00000       0.000000       0.000000              0.000000   \n",
       "50%        27.00000       0.000000       0.000000              0.000000   \n",
       "75%        32.00000       1.000000       0.000000              0.000000   \n",
       "max        98.00000       1.000000       1.000000              1.000000   \n",
       "\n",
       "        PhysActivity         Fruits        Veggies  HvyAlcoholConsump  \\\n",
       "count  229781.000000  229781.000000  229781.000000      229781.000000   \n",
       "mean        0.733355       0.612966       0.794813           0.060710   \n",
       "std         0.442206       0.487073       0.403839           0.238798   \n",
       "min         0.000000       0.000000       0.000000           0.000000   \n",
       "25%         0.000000       0.000000       1.000000           0.000000   \n",
       "50%         1.000000       1.000000       1.000000           0.000000   \n",
       "75%         1.000000       1.000000       1.000000           0.000000   \n",
       "max         1.000000       1.000000       1.000000           1.000000   \n",
       "\n",
       "       AnyHealthcare    NoDocbcCost        GenHlth       MentHlth  \\\n",
       "count  229781.000000  229781.000000  229781.000000  229781.000000   \n",
       "mean        0.946075       0.092810       2.601151       3.505373   \n",
       "std         0.225871       0.290167       1.064685       7.713725   \n",
       "min         0.000000       0.000000       1.000000       0.000000   \n",
       "25%         1.000000       0.000000       2.000000       0.000000   \n",
       "50%         1.000000       0.000000       3.000000       0.000000   \n",
       "75%         1.000000       0.000000       3.000000       2.000000   \n",
       "max         1.000000       1.000000       5.000000      30.000000   \n",
       "\n",
       "            PhysHlth       DiffWalk            Sex            Age  \\\n",
       "count  229781.000000  229781.000000  229781.000000  229781.000000   \n",
       "mean        4.675178       0.185507       0.439231       8.086582   \n",
       "std         9.046568       0.388709       0.496295       3.093809   \n",
       "min         0.000000       0.000000       0.000000       1.000000   \n",
       "25%         0.000000       0.000000       0.000000       6.000000   \n",
       "50%         0.000000       0.000000       0.000000       8.000000   \n",
       "75%         4.000000       0.000000       1.000000      10.000000   \n",
       "max        30.000000       1.000000       1.000000      13.000000   \n",
       "\n",
       "           Education         Income  \n",
       "count  229781.000000  229781.000000  \n",
       "mean        4.980568       5.890383  \n",
       "std         0.992895       2.092477  \n",
       "min         1.000000       1.000000  \n",
       "25%         4.000000       5.000000  \n",
       "50%         5.000000       6.000000  \n",
       "75%         6.000000       8.000000  \n",
       "max         6.000000       8.000000  "
      ]
     },
     "execution_count": 12,
     "metadata": {},
     "output_type": "execute_result"
    }
   ],
   "source": [
    "new_df.describe()"
   ]
  },
  {
   "cell_type": "code",
   "execution_count": 13,
   "id": "cfde955d",
   "metadata": {
    "execution": {
     "iopub.execute_input": "2023-06-06T16:14:33.755647Z",
     "iopub.status.busy": "2023-06-06T16:14:33.755184Z",
     "iopub.status.idle": "2023-06-06T16:14:35.476245Z",
     "shell.execute_reply": "2023-06-06T16:14:35.474912Z"
    },
    "papermill": {
     "duration": 1.739142,
     "end_time": "2023-06-06T16:14:35.479436",
     "exception": false,
     "start_time": "2023-06-06T16:14:33.740294",
     "status": "completed"
    },
    "tags": []
   },
   "outputs": [],
   "source": [
    "#importing required ploting library\n",
    "import matplotlib.pyplot as plt\n",
    "import seaborn as sns "
   ]
  },
  {
   "cell_type": "code",
   "execution_count": 14,
   "id": "1a6cb195",
   "metadata": {
    "execution": {
     "iopub.execute_input": "2023-06-06T16:14:35.508250Z",
     "iopub.status.busy": "2023-06-06T16:14:35.507843Z",
     "iopub.status.idle": "2023-06-06T16:14:38.895099Z",
     "shell.execute_reply": "2023-06-06T16:14:38.893900Z"
    },
    "papermill": {
     "duration": 3.406009,
     "end_time": "2023-06-06T16:14:38.898481",
     "exception": false,
     "start_time": "2023-06-06T16:14:35.492472",
     "status": "completed"
    },
    "tags": []
   },
   "outputs": [
    {
     "data": {
      "text/plain": [
       "<Axes: xlabel='Diabetes_012', ylabel='Education'>"
      ]
     },
     "execution_count": 14,
     "metadata": {},
     "output_type": "execute_result"
    },
    {
     "data": {
      "image/png": "[encoded data removed]",
      "text/plain": [
       "<Figure size 640x480 with 1 Axes>"
      ]
     },
     "metadata": {},
     "output_type": "display_data"
    }
   ],
   "source": [
    "sns.barplot(x=new_df['Diabetes_012'],y=new_df['Education'],hue=new_df['Sex'])"
   ]
  },
  {
   "cell_type": "code",
   "execution_count": 15,
   "id": "3346ac83",
   "metadata": {
    "execution": {
     "iopub.execute_input": "2023-06-06T16:14:38.929435Z",
     "iopub.status.busy": "2023-06-06T16:14:38.929055Z",
     "iopub.status.idle": "2023-06-06T16:14:42.305654Z",
     "shell.execute_reply": "2023-06-06T16:14:42.304161Z"
    },
    "papermill": {
     "duration": 3.39558,
     "end_time": "2023-06-06T16:14:42.308515",
     "exception": false,
     "start_time": "2023-06-06T16:14:38.912935",
     "status": "completed"
    },
    "tags": []
   },
   "outputs": [
    {
     "data": {
      "text/plain": [
       "<Axes: xlabel='Diabetes_012', ylabel='Sex'>"
      ]
     },
     "execution_count": 15,
     "metadata": {},
     "output_type": "execute_result"
    },
    {
     "data": {
      "image/png": "[encoded data removed]",
      "text/plain": [
       "<Figure size 640x480 with 1 Axes>"
      ]
     },
     "metadata": {},
     "output_type": "display_data"
    }
   ],
   "source": [
    "sns.barplot(x=new_df['Diabetes_012'],y=new_df['Sex'],hue=new_df['Smoker'])"
   ]
  },
  {
   "cell_type": "code",
   "execution_count": 16,
   "id": "faec04ea",
   "metadata": {
    "execution": {
     "iopub.execute_input": "2023-06-06T16:14:42.339039Z",
     "iopub.status.busy": "2023-06-06T16:14:42.338604Z",
     "iopub.status.idle": "2023-06-06T16:14:44.407245Z",
     "shell.execute_reply": "2023-06-06T16:14:44.406068Z"
    },
    "papermill": {
     "duration": 2.086414,
     "end_time": "2023-06-06T16:14:44.409639",
     "exception": false,
     "start_time": "2023-06-06T16:14:42.323225",
     "status": "completed"
    },
    "tags": []
   },
   "outputs": [
    {
     "data": {
      "text/plain": [
       "<Axes: >"
      ]
     },
     "execution_count": 16,
     "metadata": {},
     "output_type": "execute_result"
    },
    {
     "data": {
      "image/png": "[encoded data removed]",
      "text/plain": [
       "<Figure size 3500x1000 with 1 Axes>"
      ]
     },
     "metadata": {},
     "output_type": "display_data"
    }
   ],
   "source": [
    "plt.figure(figsize=(35,10))\n",
    "sns.boxplot(new_df)"
   ]
  },
  {
   "cell_type": "code",
   "execution_count": 17,
   "id": "97daca6d",
   "metadata": {
    "execution": {
     "iopub.execute_input": "2023-06-06T16:14:44.445065Z",
     "iopub.status.busy": "2023-06-06T16:14:44.443688Z",
     "iopub.status.idle": "2023-06-06T16:15:20.838463Z",
     "shell.execute_reply": "2023-06-06T16:15:20.836956Z"
    },
    "papermill": {
     "duration": 36.416701,
     "end_time": "2023-06-06T16:15:20.842248",
     "exception": false,
     "start_time": "2023-06-06T16:14:44.425547",
     "status": "completed"
    },
    "tags": []
   },
   "outputs": [
    {
     "data": {
      "text/plain": [
       "<Axes: ylabel='Density'>"
      ]
     },
     "execution_count": 17,
     "metadata": {},
     "output_type": "execute_result"
    },
    {
     "data": {
      "image/png": "[encoded data removed]",
      "text/plain": [
       "<Figure size 1500x800 with 1 Axes>"
      ]
     },
     "metadata": {},
     "output_type": "display_data"
    }
   ],
   "source": [
    "plt.figure(figsize=(15,8))\n",
    "sns.kdeplot(new_df)"
   ]
  },
  {
   "cell_type": "code",
   "execution_count": 18,
   "id": "37676d52",
   "metadata": {
    "execution": {
     "iopub.execute_input": "2023-06-06T16:15:20.879026Z",
     "iopub.status.busy": "2023-06-06T16:15:20.878486Z",
     "iopub.status.idle": "2023-06-06T16:15:22.363743Z",
     "shell.execute_reply": "2023-06-06T16:15:22.362430Z"
    },
    "papermill": {
     "duration": 1.508224,
     "end_time": "2023-06-06T16:15:22.367358",
     "exception": false,
     "start_time": "2023-06-06T16:15:20.859134",
     "status": "completed"
    },
    "tags": []
   },
   "outputs": [
    {
     "name": "stderr",
     "output_type": "stream",
     "text": [
      "/tmp/ipykernel_20/167284514.py:1: UserWarning: \n",
      "\n",
      "`distplot` is a deprecated function and will be removed in seaborn v0.14.0.\n",
      "\n",
      "Please adapt your code to use either `displot` (a figure-level function with\n",
      "similar flexibility) or `histplot` (an axes-level function for histograms).\n",
      "\n",
      "For a guide to updating your code to use the new functions, please see\n",
      "https://gist.github.com/mwaskom/de44147ed2974457ad6372750bbe5751\n",
      "\n",
      "  sns.distplot(new_df['Stroke'])\n"
     ]
    },
    {
     "data": {
      "text/plain": [
       "<Axes: xlabel='Stroke', ylabel='Density'>"
      ]
     },
     "execution_count": 18,
     "metadata": {},
     "output_type": "execute_result"
    },
    {
     "data": {
      "image/png": "[encoded data removed]",
      "text/plain": [
       "<Figure size 640x480 with 1 Axes>"
      ]
     },
     "metadata": {},
     "output_type": "display_data"
    }
   ],
   "source": [
    "sns.distplot(new_df['Stroke'])"
   ]
  },
  {
   "cell_type": "code",
   "execution_count": 19,
   "id": "2d098140",
   "metadata": {
    "execution": {
     "iopub.execute_input": "2023-06-06T16:15:22.402451Z",
     "iopub.status.busy": "2023-06-06T16:15:22.402015Z",
     "iopub.status.idle": "2023-06-06T16:15:22.424672Z",
     "shell.execute_reply": "2023-06-06T16:15:22.423655Z"
    },
    "papermill": {
     "duration": 0.043496,
     "end_time": "2023-06-06T16:15:22.427491",
     "exception": false,
     "start_time": "2023-06-06T16:15:22.383995",
     "status": "completed"
    },
    "tags": []
   },
   "outputs": [],
   "source": [
    "X=new_df.drop(columns='Diabetes_012')\n",
    "y=new_df['Diabetes_012']"
   ]
  },
  {
   "cell_type": "code",
   "execution_count": 20,
   "id": "fec30380",
   "metadata": {
    "execution": {
     "iopub.execute_input": "2023-06-06T16:15:22.463987Z",
     "iopub.status.busy": "2023-06-06T16:15:22.463205Z",
     "iopub.status.idle": "2023-06-06T16:15:22.469988Z",
     "shell.execute_reply": "2023-06-06T16:15:22.468663Z"
    },
    "papermill": {
     "duration": 0.028828,
     "end_time": "2023-06-06T16:15:22.472669",
     "exception": false,
     "start_time": "2023-06-06T16:15:22.443841",
     "status": "completed"
    },
    "tags": []
   },
   "outputs": [
    {
     "data": {
      "text/plain": [
       "(229781, 21)"
      ]
     },
     "execution_count": 20,
     "metadata": {},
     "output_type": "execute_result"
    }
   ],
   "source": [
    "X.shape"
   ]
  },
  {
   "cell_type": "code",
   "execution_count": 21,
   "id": "80d99099",
   "metadata": {
    "execution": {
     "iopub.execute_input": "2023-06-06T16:15:22.507726Z",
     "iopub.status.busy": "2023-06-06T16:15:22.507282Z",
     "iopub.status.idle": "2023-06-06T16:15:22.515592Z",
     "shell.execute_reply": "2023-06-06T16:15:22.513953Z"
    },
    "papermill": {
     "duration": 0.029255,
     "end_time": "2023-06-06T16:15:22.518460",
     "exception": false,
     "start_time": "2023-06-06T16:15:22.489205",
     "status": "completed"
    },
    "tags": []
   },
   "outputs": [
    {
     "data": {
      "text/plain": [
       "(229781,)"
      ]
     },
     "execution_count": 21,
     "metadata": {},
     "output_type": "execute_result"
    }
   ],
   "source": [
    "y.shape"
   ]
  },
  {
   "cell_type": "code",
   "execution_count": 22,
   "id": "0d5ab955",
   "metadata": {
    "execution": {
     "iopub.execute_input": "2023-06-06T16:15:22.555402Z",
     "iopub.status.busy": "2023-06-06T16:15:22.554680Z",
     "iopub.status.idle": "2023-06-06T16:15:22.977352Z",
     "shell.execute_reply": "2023-06-06T16:15:22.976383Z"
    },
    "papermill": {
     "duration": 0.443736,
     "end_time": "2023-06-06T16:15:22.979888",
     "exception": false,
     "start_time": "2023-06-06T16:15:22.536152",
     "status": "completed"
    },
    "tags": []
   },
   "outputs": [],
   "source": [
    "# Splitting the dataset into the Training set and Test set\n",
    "from sklearn.model_selection import train_test_split\n",
    "\n",
    "X_train, X_test, y_train, y_test = train_test_split(X, y, test_size=0.3, random_state=0)"
   ]
  },
  {
   "cell_type": "code",
   "execution_count": 23,
   "id": "2c9a3619",
   "metadata": {
    "execution": {
     "iopub.execute_input": "2023-06-06T16:15:23.015503Z",
     "iopub.status.busy": "2023-06-06T16:15:23.015082Z",
     "iopub.status.idle": "2023-06-06T16:15:23.092091Z",
     "shell.execute_reply": "2023-06-06T16:15:23.090739Z"
    },
    "papermill": {
     "duration": 0.098775,
     "end_time": "2023-06-06T16:15:23.095180",
     "exception": false,
     "start_time": "2023-06-06T16:15:22.996405",
     "status": "completed"
    },
    "tags": []
   },
   "outputs": [],
   "source": [
    "from sklearn.preprocessing import StandardScaler\n",
    "\n",
    "sc = StandardScaler()\n",
    "X_train = sc.fit_transform(X_train)\n",
    "X_test = sc.transform(X_test)"
   ]
  },
  {
   "cell_type": "code",
   "execution_count": 24,
   "id": "f4cbd604",
   "metadata": {
    "execution": {
     "iopub.execute_input": "2023-06-06T16:15:23.131789Z",
     "iopub.status.busy": "2023-06-06T16:15:23.131402Z",
     "iopub.status.idle": "2023-06-06T16:15:23.745550Z",
     "shell.execute_reply": "2023-06-06T16:15:23.744014Z"
    },
    "papermill": {
     "duration": 0.63785,
     "end_time": "2023-06-06T16:15:23.750355",
     "exception": false,
     "start_time": "2023-06-06T16:15:23.112505",
     "status": "completed"
    },
    "tags": []
   },
   "outputs": [],
   "source": [
    "from sklearn.decomposition import PCA\n",
    "\n",
    "pca = PCA()\n",
    "X_train = pca.fit_transform(X_train)\n",
    "X_test = pca.transform(X_test)"
   ]
  },
  {
   "cell_type": "code",
   "execution_count": 25,
   "id": "91532080",
   "metadata": {
    "execution": {
     "iopub.execute_input": "2023-06-06T16:15:23.859230Z",
     "iopub.status.busy": "2023-06-06T16:15:23.858358Z",
     "iopub.status.idle": "2023-06-06T16:15:23.869006Z",
     "shell.execute_reply": "2023-06-06T16:15:23.867877Z"
    },
    "papermill": {
     "duration": 0.057032,
     "end_time": "2023-06-06T16:15:23.871429",
     "exception": false,
     "start_time": "2023-06-06T16:15:23.814397",
     "status": "completed"
    },
    "tags": []
   },
   "outputs": [
    {
     "data": {
      "text/plain": [
       "array([0.15598058, 0.08495595, 0.06478394, 0.05774898, 0.05625945,\n",
       "       0.05211503, 0.04911952, 0.0457036 , 0.04436407, 0.04221311,\n",
       "       0.03936068, 0.03838898, 0.03585913, 0.03545737, 0.03450901,\n",
       "       0.03374985, 0.03236066, 0.02704474, 0.02523356, 0.02405564,\n",
       "       0.02073612])"
      ]
     },
     "execution_count": 25,
     "metadata": {},
     "output_type": "execute_result"
    }
   ],
   "source": [
    "explained_variance = pca.explained_variance_ratio_\n",
    "explained_variance"
   ]
  },
  {
   "cell_type": "code",
   "execution_count": 26,
   "id": "10bac9bd",
   "metadata": {
    "execution": {
     "iopub.execute_input": "2023-06-06T16:15:23.908569Z",
     "iopub.status.busy": "2023-06-06T16:15:23.907416Z",
     "iopub.status.idle": "2023-06-06T16:17:56.314830Z",
     "shell.execute_reply": "2023-06-06T16:17:56.313440Z"
    },
    "papermill": {
     "duration": 152.430012,
     "end_time": "2023-06-06T16:17:56.318508",
     "exception": false,
     "start_time": "2023-06-06T16:15:23.888496",
     "status": "completed"
    },
    "tags": []
   },
   "outputs": [],
   "source": [
    "from sklearn.ensemble import RandomForestClassifier\n",
    "\n",
    "classifier = RandomForestClassifier(random_state=0)\n",
    "classifier.fit(X_train, y_train)\n",
    "\n",
    "# Predicting the Test set results\n",
    "y_pred = classifier.predict(X_test)"
   ]
  },
  {
   "cell_type": "code",
   "execution_count": 27,
   "id": "f4cefd1f",
   "metadata": {
    "execution": {
     "iopub.execute_input": "2023-06-06T16:17:56.357307Z",
     "iopub.status.busy": "2023-06-06T16:17:56.356057Z",
     "iopub.status.idle": "2023-06-06T16:17:56.450581Z",
     "shell.execute_reply": "2023-06-06T16:17:56.449349Z"
    },
    "papermill": {
     "duration": 0.117245,
     "end_time": "2023-06-06T16:17:56.453640",
     "exception": false,
     "start_time": "2023-06-06T16:17:56.336395",
     "status": "completed"
    },
    "tags": []
   },
   "outputs": [
    {
     "name": "stdout",
     "output_type": "stream",
     "text": [
      "[[54911    61  1778]\n",
      " [ 1256     0   142]\n",
      " [ 9044     8  1735]]\n",
      "Accuracy 0.8217306157974904\n"
     ]
    }
   ],
   "source": [
    "from sklearn.metrics import confusion_matrix\n",
    "from sklearn.metrics import accuracy_score\n",
    "\n",
    "cm = confusion_matrix(y_test, y_pred)\n",
    "print(cm)\n",
    "print('Accuracy', accuracy_score(y_test, y_pred))"
   ]
  },
  {
   "cell_type": "code",
   "execution_count": 28,
   "id": "d392e0b4",
   "metadata": {
    "execution": {
     "iopub.execute_input": "2023-06-06T16:17:56.489937Z",
     "iopub.status.busy": "2023-06-06T16:17:56.488642Z",
     "iopub.status.idle": "2023-06-06T16:17:56.495451Z",
     "shell.execute_reply": "2023-06-06T16:17:56.494447Z"
    },
    "papermill": {
     "duration": 0.027949,
     "end_time": "2023-06-06T16:17:56.498349",
     "exception": false,
     "start_time": "2023-06-06T16:17:56.470400",
     "status": "completed"
    },
    "tags": []
   },
   "outputs": [],
   "source": [
    "from sklearn.linear_model import LogisticRegression"
   ]
  },
  {
   "cell_type": "code",
   "execution_count": 29,
   "id": "33413a73",
   "metadata": {
    "execution": {
     "iopub.execute_input": "2023-06-06T16:17:56.536515Z",
     "iopub.status.busy": "2023-06-06T16:17:56.535806Z",
     "iopub.status.idle": "2023-06-06T16:17:56.541057Z",
     "shell.execute_reply": "2023-06-06T16:17:56.540134Z"
    },
    "papermill": {
     "duration": 0.027297,
     "end_time": "2023-06-06T16:17:56.543595",
     "exception": false,
     "start_time": "2023-06-06T16:17:56.516298",
     "status": "completed"
    },
    "tags": []
   },
   "outputs": [],
   "source": [
    "clr=LogisticRegression(multi_class=\"multinomial\")"
   ]
  },
  {
   "cell_type": "code",
   "execution_count": 30,
   "id": "58f59da5",
   "metadata": {
    "execution": {
     "iopub.execute_input": "2023-06-06T16:17:56.580729Z",
     "iopub.status.busy": "2023-06-06T16:17:56.580064Z",
     "iopub.status.idle": "2023-06-06T16:17:58.461313Z",
     "shell.execute_reply": "2023-06-06T16:17:58.459714Z"
    },
    "papermill": {
     "duration": 1.902918,
     "end_time": "2023-06-06T16:17:58.464508",
     "exception": false,
     "start_time": "2023-06-06T16:17:56.561590",
     "status": "completed"
    },
    "tags": []
   },
   "outputs": [
    {
     "data": {
      "text/html": [
       "<style>#sk-container-id-1 {color: black;background-color: white;}#sk-container-id-1 pre{padding: 0;}#sk-container-id-1 div.sk-toggleable {background-color: white;}#sk-container-id-1 label.sk-toggleable__label {cursor: pointer;display: block;width: 100%;margin-bottom: 0;padding: 0.3em;box-sizing: border-box;text-align: center;}#sk-container-id-1 label.sk-toggleable__label-arrow:before {content: \"▸\";float: left;margin-right: 0.25em;color: #696969;}#sk-container-id-1 label.sk-toggleable__label-arrow:hover:before {color: black;}#sk-container-id-1 div.sk-estimator:hover label.sk-toggleable__label-arrow:before {color: black;}#sk-container-id-1 div.sk-toggleable__content {max-height: 0;max-width: 0;overflow: hidden;text-align: left;background-color: #f0f8ff;}#sk-container-id-1 div.sk-toggleable__content pre {margin: 0.2em;color: black;border-radius: 0.25em;background-color: #f0f8ff;}#sk-container-id-1 input.sk-toggleable__control:checked~div.sk-toggleable__content {max-height: 200px;max-width: 100%;overflow: auto;}#sk-container-id-1 input.sk-toggleable__control:checked~label.sk-toggleable__label-arrow:before {content: \"▾\";}#sk-container-id-1 div.sk-estimator input.sk-toggleable__control:checked~label.sk-toggleable__label {background-color: #d4ebff;}#sk-container-id-1 div.sk-label input.sk-toggleable__control:checked~label.sk-toggleable__label {background-color: #d4ebff;}#sk-container-id-1 input.sk-hidden--visually {border: 0;clip: rect(1px 1px 1px 1px);clip: rect(1px, 1px, 1px, 1px);height: 1px;margin: -1px;overflow: hidden;padding: 0;position: absolute;width: 1px;}#sk-container-id-1 div.sk-estimator {font-family: monospace;background-color: #f0f8ff;border: 1px dotted black;border-radius: 0.25em;box-sizing: border-box;margin-bottom: 0.5em;}#sk-container-id-1 div.sk-estimator:hover {background-color: #d4ebff;}#sk-container-id-1 div.sk-parallel-item::after {content: \"\";width: 100%;border-bottom: 1px solid gray;flex-grow: 1;}#sk-container-id-1 div.sk-label:hover label.sk-toggleable__label {background-color: #d4ebff;}#sk-container-id-1 div.sk-serial::before {content: \"\";position: absolute;border-left: 1px solid gray;box-sizing: border-box;top: 0;bottom: 0;left: 50%;z-index: 0;}#sk-container-id-1 div.sk-serial {display: flex;flex-direction: column;align-items: center;background-color: white;padding-right: 0.2em;padding-left: 0.2em;position: relative;}#sk-container-id-1 div.sk-item {position: relative;z-index: 1;}#sk-container-id-1 div.sk-parallel {display: flex;align-items: stretch;justify-content: center;background-color: white;position: relative;}#sk-container-id-1 div.sk-item::before, #sk-container-id-1 div.sk-parallel-item::before {content: \"\";position: absolute;border-left: 1px solid gray;box-sizing: border-box;top: 0;bottom: 0;left: 50%;z-index: -1;}#sk-container-id-1 div.sk-parallel-item {display: flex;flex-direction: column;z-index: 1;position: relative;background-color: white;}#sk-container-id-1 div.sk-parallel-item:first-child::after {align-self: flex-end;width: 50%;}#sk-container-id-1 div.sk-parallel-item:last-child::after {align-self: flex-start;width: 50%;}#sk-container-id-1 div.sk-parallel-item:only-child::after {width: 0;}#sk-container-id-1 div.sk-dashed-wrapped {border: 1px dashed gray;margin: 0 0.4em 0.5em 0.4em;box-sizing: border-box;padding-bottom: 0.4em;background-color: white;}#sk-container-id-1 div.sk-label label {font-family: monospace;font-weight: bold;display: inline-block;line-height: 1.2em;}#sk-container-id-1 div.sk-label-container {text-align: center;}#sk-container-id-1 div.sk-container {/* jupyter's `normalize.less` sets `[hidden] { display: none; }` but bootstrap.min.css set `[hidden] { display: none !important; }` so we also need the `!important` here to be able to override the default hidden behavior on the sphinx rendered scikit-learn.org. See: https://github.com/scikit-learn/scikit-learn/issues/21755 */display: inline-block !important;position: relative;}#sk-container-id-1 div.sk-text-repr-fallback {display: none;}</style><div id=\"sk-container-id-1\" class=\"sk-top-container\"><div class=\"sk-text-repr-fallback\"><pre>LogisticRegression(multi_class=&#x27;multinomial&#x27;)</pre><b>In a Jupyter environment, please rerun this cell to show the HTML representation or trust the notebook. <br />On GitHub, the HTML representation is unable to render, please try loading this page with nbviewer.org.</b></div><div class=\"sk-container\" hidden><div class=\"sk-item\"><div class=\"sk-estimator sk-toggleable\"><input class=\"sk-toggleable__control sk-hidden--visually\" id=\"sk-estimator-id-1\" type=\"checkbox\" checked><label for=\"sk-estimator-id-1\" class=\"sk-toggleable__label sk-toggleable__label-arrow\">LogisticRegression</label><div class=\"sk-toggleable__content\"><pre>LogisticRegression(multi_class=&#x27;multinomial&#x27;)</pre></div></div></div></div></div>"
      ],
      "text/plain": [
       "LogisticRegression(multi_class='multinomial')"
      ]
     },
     "execution_count": 30,
     "metadata": {},
     "output_type": "execute_result"
    }
   ],
   "source": [
    "clr.fit(X_train,y_train)"
   ]
  },
  {
   "cell_type": "code",
   "execution_count": 31,
   "id": "f9170c8f",
   "metadata": {
    "execution": {
     "iopub.execute_input": "2023-06-06T16:17:58.545067Z",
     "iopub.status.busy": "2023-06-06T16:17:58.543152Z",
     "iopub.status.idle": "2023-06-06T16:17:58.563713Z",
     "shell.execute_reply": "2023-06-06T16:17:58.562189Z"
    },
    "papermill": {
     "duration": 0.066062,
     "end_time": "2023-06-06T16:17:58.568478",
     "exception": false,
     "start_time": "2023-06-06T16:17:58.502416",
     "status": "completed"
    },
    "tags": []
   },
   "outputs": [],
   "source": [
    "# Predicting the Test set results\n",
    "y_pred1 = clr.predict(X_test)"
   ]
  },
  {
   "cell_type": "code",
   "execution_count": 32,
   "id": "0d69486c",
   "metadata": {
    "execution": {
     "iopub.execute_input": "2023-06-06T16:17:58.646422Z",
     "iopub.status.busy": "2023-06-06T16:17:58.645729Z",
     "iopub.status.idle": "2023-06-06T16:17:58.757521Z",
     "shell.execute_reply": "2023-06-06T16:17:58.755912Z"
    },
    "papermill": {
     "duration": 0.154216,
     "end_time": "2023-06-06T16:17:58.760061",
     "exception": false,
     "start_time": "2023-06-06T16:17:58.605845",
     "status": "completed"
    },
    "tags": []
   },
   "outputs": [
    {
     "name": "stdout",
     "output_type": "stream",
     "text": [
      "[[55288     0  1462]\n",
      " [ 1282     0   116]\n",
      " [ 8963     0  1824]]\n",
      "Accuracy 0.828490607093639\n"
     ]
    }
   ],
   "source": [
    "from sklearn.metrics import confusion_matrix\n",
    "from sklearn.metrics import accuracy_score,ConfusionMatrixDisplay\n",
    "\n",
    "cm1 = confusion_matrix(y_test, y_pred1)\n",
    "print(cm1)\n",
    "print('Accuracy', accuracy_score(y_test, y_pred1))"
   ]
  },
  {
   "cell_type": "code",
   "execution_count": 33,
   "id": "bc4ab233",
   "metadata": {
    "execution": {
     "iopub.execute_input": "2023-06-06T16:17:58.797782Z",
     "iopub.status.busy": "2023-06-06T16:17:58.797343Z",
     "iopub.status.idle": "2023-06-06T16:17:59.516215Z",
     "shell.execute_reply": "2023-06-06T16:17:59.514301Z"
    },
    "papermill": {
     "duration": 0.742102,
     "end_time": "2023-06-06T16:17:59.519744",
     "exception": false,
     "start_time": "2023-06-06T16:17:58.777642",
     "status": "completed"
    },
    "tags": []
   },
   "outputs": [
    {
     "name": "stdout",
     "output_type": "stream",
     "text": [
      "Confusion Matrix of Logistic Regression and Random Forest Tree\n"
     ]
    },
    {
     "data": {
      "text/plain": [
       "<sklearn.metrics._plot.confusion_matrix.ConfusionMatrixDisplay at 0x7ce4ac7c09d0>"
      ]
     },
     "execution_count": 33,
     "metadata": {},
     "output_type": "execute_result"
    },
    {
     "data": {
      "image/png": "[encoded data removed]",
      "text/plain": [
       "<Figure size 640x480 with 2 Axes>"
      ]
     },
     "metadata": {},
     "output_type": "display_data"
    },
    {
     "data": {
      "image/png": "[encoded data removed]",
      "text/plain": [
       "<Figure size 640x480 with 2 Axes>"
      ]
     },
     "metadata": {},
     "output_type": "display_data"
    }
   ],
   "source": [
    "print(\"Confusion Matrix of Logistic Regression and Random Forest Tree\")\n",
    "ConfusionMatrixDisplay(cm1).plot()\n",
    "ConfusionMatrixDisplay(cm).plot()"
   ]
  },
  {
   "cell_type": "code",
   "execution_count": null,
   "id": "ee3a234f",
   "metadata": {
    "papermill": {
     "duration": 0.018838,
     "end_time": "2023-06-06T16:17:59.557877",
     "exception": false,
     "start_time": "2023-06-06T16:17:59.539039",
     "status": "completed"
    },
    "tags": []
   },
   "outputs": [],
   "source": []
  },
  {
   "cell_type": "code",
   "execution_count": null,
   "id": "174171fb",
   "metadata": {
    "papermill": {
     "duration": 0.01861,
     "end_time": "2023-06-06T16:17:59.595841",
     "exception": false,
     "start_time": "2023-06-06T16:17:59.577231",
     "status": "completed"
    },
    "tags": []
   },
   "outputs": [],
   "source": []
  }
 ],
 "metadata": {
  "kernelspec": {
   "display_name": "Python 3",
   "language": "python",
   "name": "python3"
  },
  "language_info": {
   "codemirror_mode": {
    "name": "ipython",
    "version": 3
   },
   "file_extension": ".py",
   "mimetype": "text/x-python",
   "name": "python",
   "nbconvert_exporter": "python",
   "pygments_lexer": "ipython3",
   "version": "3.10.10"
  },
  "papermill": {
   "default_parameters": {},
   "duration": 223.200908,
   "end_time": "2023-06-06T16:18:00.842972",
   "environment_variables": {},
   "exception": null,
   "input_path": "__notebook__.ipynb",
   "output_path": "__notebook__.ipynb",
   "parameters": {},
   "start_time": "2023-06-06T16:14:17.642064",
   "version": "2.4.0"
  }
 },
 "nbformat": 4,
 "nbformat_minor": 5
}

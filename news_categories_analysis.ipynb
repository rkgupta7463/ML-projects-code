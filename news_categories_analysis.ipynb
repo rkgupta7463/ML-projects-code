{
  "cells": [
    {
      "cell_type": "markdown",
      "metadata": {
        "id": "view-in-github",
        "colab_type": "text"
      },
      "source": [
        "<a href=\"https://colab.research.google.com/github/rkgupta7463/ML-projects-code/blob/main/news_categories_analysis.ipynb\" target=\"_parent\"><img src=\"https://colab.research.google.com/assets/colab-badge.svg\" alt=\"Open In Colab\"/></a>"
      ]
    },
    {
      "cell_type": "markdown",
      "metadata": {
        "id": "JiuKgPp_GoeP"
      },
      "source": [
        "### How to use this project to in your colab notebook\n",
        "\n",
        "Follow the steps:-\n",
        "\n",
        "    1. Download Your Kaggle APIs Key and password file from your kaggle account in setting section\n",
        "    2. Upload APIs key json file in your colab notebook and then run 3 cell of line which start from 2 upto 4 (these cell should only one time)"
      ]
    },
    {
      "cell_type": "code",
      "execution_count": 2,
      "metadata": {
        "id": "PUJ9lxSv9YE3"
      },
      "outputs": [],
      "source": [
        "!mkdir -p ~/.kaggle\n",
        "!cp kaggle.json ~/.kaggle/"
      ]
    },
    {
      "cell_type": "code",
      "execution_count": 3,
      "metadata": {
        "colab": {
          "base_uri": "https://localhost:8080/"
        },
        "id": "wBAZUwQEGxms",
        "outputId": "870c9e48-066d-4285-ffdf-842255012322"
      },
      "outputs": [
        {
          "output_type": "stream",
          "name": "stdout",
          "text": [
            "Warning: Your Kaggle API key is readable by other users on this system! To fix this, you can run 'chmod 600 /root/.kaggle/kaggle.json'\n",
            "Downloading news-category-dataset.zip to /content\n",
            " 41% 11.0M/26.5M [00:00<00:00, 113MB/s]\n",
            "100% 26.5M/26.5M [00:00<00:00, 167MB/s]\n"
          ]
        }
      ],
      "source": [
        "!kaggle datasets download -d rmisra/news-category-dataset"
      ]
    },
    {
      "cell_type": "code",
      "execution_count": 4,
      "metadata": {
        "id": "cL4fdYLKG4HM"
      },
      "outputs": [],
      "source": [
        "import zipfile\n",
        "zip = zipfile.ZipFile(\"/content/news-category-dataset.zip\",'r')\n",
        "zip.extractall(\"/content\")\n",
        "zip.close()"
      ]
    },
    {
      "cell_type": "code",
      "execution_count": 64,
      "metadata": {
        "id": "DJXPY5b63G1Q"
      },
      "outputs": [],
      "source": [
        "import numpy as np # linear algebra\n",
        "import pandas as pd # data processing, CSV file I/O (e.g. pd.read_csv)\n",
        "import matplotlib.pyplot as plt\n",
        "import seaborn as sns"
      ]
    },
    {
      "cell_type": "code",
      "execution_count": 6,
      "metadata": {
        "id": "KATuyBig3G1U"
      },
      "outputs": [],
      "source": [
        "df=pd.read_json('/content/News_Category_Dataset_v3.json', lines=True)"
      ]
    },
    {
      "cell_type": "code",
      "execution_count": 7,
      "metadata": {
        "colab": {
          "base_uri": "https://localhost:8080/"
        },
        "id": "UVFIVgCn3G1U",
        "outputId": "468c0f3b-55b4-4297-ed44-87feeb455569"
      },
      "outputs": [
        {
          "output_type": "execute_result",
          "data": {
            "text/plain": [
              "(209527, 6)"
            ]
          },
          "metadata": {},
          "execution_count": 7
        }
      ],
      "source": [
        "df.shape"
      ]
    },
    {
      "cell_type": "code",
      "execution_count": 8,
      "metadata": {
        "colab": {
          "base_uri": "https://localhost:8080/",
          "height": 337
        },
        "id": "9_ut_4EM3G1V",
        "outputId": "8804086f-a408-457b-a2a3-519011fc4268"
      },
      "outputs": [
        {
          "output_type": "execute_result",
          "data": {
            "text/plain": [
              "                                                link  \\\n",
              "0  https://www.huffpost.com/entry/covid-boosters-...   \n",
              "1  https://www.huffpost.com/entry/american-airlin...   \n",
              "2  https://www.huffpost.com/entry/funniest-tweets...   \n",
              "3  https://www.huffpost.com/entry/funniest-parent...   \n",
              "4  https://www.huffpost.com/entry/amy-cooper-lose...   \n",
              "\n",
              "                                            headline   category  \\\n",
              "0  Over 4 Million Americans Roll Up Sleeves For O...  U.S. NEWS   \n",
              "1  American Airlines Flyer Charged, Banned For Li...  U.S. NEWS   \n",
              "2  23 Of The Funniest Tweets About Cats And Dogs ...     COMEDY   \n",
              "3  The Funniest Tweets From Parents This Week (Se...  PARENTING   \n",
              "4  Woman Who Called Cops On Black Bird-Watcher Lo...  U.S. NEWS   \n",
              "\n",
              "                                   short_description               authors  \\\n",
              "0  Health experts said it is too early to predict...  Carla K. Johnson, AP   \n",
              "1  He was subdued by passengers and crew when he ...        Mary Papenfuss   \n",
              "2  \"Until you have a dog you don't understand wha...         Elyse Wanshel   \n",
              "3  \"Accidentally put grown-up toothpaste on my to...      Caroline Bologna   \n",
              "4  Amy Cooper accused investment firm Franklin Te...        Nina Golgowski   \n",
              "\n",
              "        date  \n",
              "0 2022-09-23  \n",
              "1 2022-09-23  \n",
              "2 2022-09-23  \n",
              "3 2022-09-23  \n",
              "4 2022-09-22  "
            ],
            "text/html": [
              "\n",
              "\n",
              "  <div id=\"df-978945c8-e817-4cb6-ac24-7f731464552f\">\n",
              "    <div class=\"colab-df-container\">\n",
              "      <div>\n",
              "<style scoped>\n",
              "    .dataframe tbody tr th:only-of-type {\n",
              "        vertical-align: middle;\n",
              "    }\n",
              "\n",
              "    .dataframe tbody tr th {\n",
              "        vertical-align: top;\n",
              "    }\n",
              "\n",
              "    .dataframe thead th {\n",
              "        text-align: right;\n",
              "    }\n",
              "</style>\n",
              "<table border=\"1\" class=\"dataframe\">\n",
              "  <thead>\n",
              "    <tr style=\"text-align: right;\">\n",
              "      <th></th>\n",
              "      <th>link</th>\n",
              "      <th>headline</th>\n",
              "      <th>category</th>\n",
              "      <th>short_description</th>\n",
              "      <th>authors</th>\n",
              "      <th>date</th>\n",
              "    </tr>\n",
              "  </thead>\n",
              "  <tbody>\n",
              "    <tr>\n",
              "      <th>0</th>\n",
              "      <td>https://www.huffpost.com/entry/covid-boosters-...</td>\n",
              "      <td>Over 4 Million Americans Roll Up Sleeves For O...</td>\n",
              "      <td>U.S. NEWS</td>\n",
              "      <td>Health experts said it is too early to predict...</td>\n",
              "      <td>Carla K. Johnson, AP</td>\n",
              "      <td>2022-09-23</td>\n",
              "    </tr>\n",
              "    <tr>\n",
              "      <th>1</th>\n",
              "      <td>https://www.huffpost.com/entry/american-airlin...</td>\n",
              "      <td>American Airlines Flyer Charged, Banned For Li...</td>\n",
              "      <td>U.S. NEWS</td>\n",
              "      <td>He was subdued by passengers and crew when he ...</td>\n",
              "      <td>Mary Papenfuss</td>\n",
              "      <td>2022-09-23</td>\n",
              "    </tr>\n",
              "    <tr>\n",
              "      <th>2</th>\n",
              "      <td>https://www.huffpost.com/entry/funniest-tweets...</td>\n",
              "      <td>23 Of The Funniest Tweets About Cats And Dogs ...</td>\n",
              "      <td>COMEDY</td>\n",
              "      <td>\"Until you have a dog you don't understand wha...</td>\n",
              "      <td>Elyse Wanshel</td>\n",
              "      <td>2022-09-23</td>\n",
              "    </tr>\n",
              "    <tr>\n",
              "      <th>3</th>\n",
              "      <td>https://www.huffpost.com/entry/funniest-parent...</td>\n",
              "      <td>The Funniest Tweets From Parents This Week (Se...</td>\n",
              "      <td>PARENTING</td>\n",
              "      <td>\"Accidentally put grown-up toothpaste on my to...</td>\n",
              "      <td>Caroline Bologna</td>\n",
              "      <td>2022-09-23</td>\n",
              "    </tr>\n",
              "    <tr>\n",
              "      <th>4</th>\n",
              "      <td>https://www.huffpost.com/entry/amy-cooper-lose...</td>\n",
              "      <td>Woman Who Called Cops On Black Bird-Watcher Lo...</td>\n",
              "      <td>U.S. NEWS</td>\n",
              "      <td>Amy Cooper accused investment firm Franklin Te...</td>\n",
              "      <td>Nina Golgowski</td>\n",
              "      <td>2022-09-22</td>\n",
              "    </tr>\n",
              "  </tbody>\n",
              "</table>\n",
              "</div>\n",
              "      <button class=\"colab-df-convert\" onclick=\"convertToInteractive('df-978945c8-e817-4cb6-ac24-7f731464552f')\"\n",
              "              title=\"Convert this dataframe to an interactive table.\"\n",
              "              style=\"display:none;\">\n",
              "\n",
              "  <svg xmlns=\"http://www.w3.org/2000/svg\" height=\"24px\"viewBox=\"0 0 24 24\"\n",
              "       width=\"24px\">\n",
              "    <path d=\"M0 0h24v24H0V0z\" fill=\"none\"/>\n",
              "    <path d=\"M18.56 5.44l.94 2.06.94-2.06 2.06-.94-2.06-.94-.94-2.06-.94 2.06-2.06.94zm-11 1L8.5 8.5l.94-2.06 2.06-.94-2.06-.94L8.5 2.5l-.94 2.06-2.06.94zm10 10l.94 2.06.94-2.06 2.06-.94-2.06-.94-.94-2.06-.94 2.06-2.06.94z\"/><path d=\"M17.41 7.96l-1.37-1.37c-.4-.4-.92-.59-1.43-.59-.52 0-1.04.2-1.43.59L10.3 9.45l-7.72 7.72c-.78.78-.78 2.05 0 2.83L4 21.41c.39.39.9.59 1.41.59.51 0 1.02-.2 1.41-.59l7.78-7.78 2.81-2.81c.8-.78.8-2.07 0-2.86zM5.41 20L4 18.59l7.72-7.72 1.47 1.35L5.41 20z\"/>\n",
              "  </svg>\n",
              "      </button>\n",
              "\n",
              "\n",
              "\n",
              "    <div id=\"df-373dfdf8-20b9-4246-b43b-3b0c2080d43b\">\n",
              "      <button class=\"colab-df-quickchart\" onclick=\"quickchart('df-373dfdf8-20b9-4246-b43b-3b0c2080d43b')\"\n",
              "              title=\"Suggest charts.\"\n",
              "              style=\"display:none;\">\n",
              "\n",
              "<svg xmlns=\"http://www.w3.org/2000/svg\" height=\"24px\"viewBox=\"0 0 24 24\"\n",
              "     width=\"24px\">\n",
              "    <g>\n",
              "        <path d=\"M19 3H5c-1.1 0-2 .9-2 2v14c0 1.1.9 2 2 2h14c1.1 0 2-.9 2-2V5c0-1.1-.9-2-2-2zM9 17H7v-7h2v7zm4 0h-2V7h2v10zm4 0h-2v-4h2v4z\"/>\n",
              "    </g>\n",
              "</svg>\n",
              "      </button>\n",
              "    </div>\n",
              "\n",
              "<style>\n",
              "  .colab-df-quickchart {\n",
              "    background-color: #E8F0FE;\n",
              "    border: none;\n",
              "    border-radius: 50%;\n",
              "    cursor: pointer;\n",
              "    display: none;\n",
              "    fill: #1967D2;\n",
              "    height: 32px;\n",
              "    padding: 0 0 0 0;\n",
              "    width: 32px;\n",
              "  }\n",
              "\n",
              "  .colab-df-quickchart:hover {\n",
              "    background-color: #E2EBFA;\n",
              "    box-shadow: 0px 1px 2px rgba(60, 64, 67, 0.3), 0px 1px 3px 1px rgba(60, 64, 67, 0.15);\n",
              "    fill: #174EA6;\n",
              "  }\n",
              "\n",
              "  [theme=dark] .colab-df-quickchart {\n",
              "    background-color: #3B4455;\n",
              "    fill: #D2E3FC;\n",
              "  }\n",
              "\n",
              "  [theme=dark] .colab-df-quickchart:hover {\n",
              "    background-color: #434B5C;\n",
              "    box-shadow: 0px 1px 3px 1px rgba(0, 0, 0, 0.15);\n",
              "    filter: drop-shadow(0px 1px 2px rgba(0, 0, 0, 0.3));\n",
              "    fill: #FFFFFF;\n",
              "  }\n",
              "</style>\n",
              "\n",
              "    <script>\n",
              "      async function quickchart(key) {\n",
              "        const containerElement = document.querySelector('#' + key);\n",
              "        const charts = await google.colab.kernel.invokeFunction(\n",
              "            'suggestCharts', [key], {});\n",
              "      }\n",
              "    </script>\n",
              "\n",
              "      <script>\n",
              "\n",
              "function displayQuickchartButton(domScope) {\n",
              "  let quickchartButtonEl =\n",
              "    domScope.querySelector('#df-373dfdf8-20b9-4246-b43b-3b0c2080d43b button.colab-df-quickchart');\n",
              "  quickchartButtonEl.style.display =\n",
              "    google.colab.kernel.accessAllowed ? 'block' : 'none';\n",
              "}\n",
              "\n",
              "        displayQuickchartButton(document);\n",
              "      </script>\n",
              "      <style>\n",
              "    .colab-df-container {\n",
              "      display:flex;\n",
              "      flex-wrap:wrap;\n",
              "      gap: 12px;\n",
              "    }\n",
              "\n",
              "    .colab-df-convert {\n",
              "      background-color: #E8F0FE;\n",
              "      border: none;\n",
              "      border-radius: 50%;\n",
              "      cursor: pointer;\n",
              "      display: none;\n",
              "      fill: #1967D2;\n",
              "      height: 32px;\n",
              "      padding: 0 0 0 0;\n",
              "      width: 32px;\n",
              "    }\n",
              "\n",
              "    .colab-df-convert:hover {\n",
              "      background-color: #E2EBFA;\n",
              "      box-shadow: 0px 1px 2px rgba(60, 64, 67, 0.3), 0px 1px 3px 1px rgba(60, 64, 67, 0.15);\n",
              "      fill: #174EA6;\n",
              "    }\n",
              "\n",
              "    [theme=dark] .colab-df-convert {\n",
              "      background-color: #3B4455;\n",
              "      fill: #D2E3FC;\n",
              "    }\n",
              "\n",
              "    [theme=dark] .colab-df-convert:hover {\n",
              "      background-color: #434B5C;\n",
              "      box-shadow: 0px 1px 3px 1px rgba(0, 0, 0, 0.15);\n",
              "      filter: drop-shadow(0px 1px 2px rgba(0, 0, 0, 0.3));\n",
              "      fill: #FFFFFF;\n",
              "    }\n",
              "  </style>\n",
              "\n",
              "      <script>\n",
              "        const buttonEl =\n",
              "          document.querySelector('#df-978945c8-e817-4cb6-ac24-7f731464552f button.colab-df-convert');\n",
              "        buttonEl.style.display =\n",
              "          google.colab.kernel.accessAllowed ? 'block' : 'none';\n",
              "\n",
              "        async function convertToInteractive(key) {\n",
              "          const element = document.querySelector('#df-978945c8-e817-4cb6-ac24-7f731464552f');\n",
              "          const dataTable =\n",
              "            await google.colab.kernel.invokeFunction('convertToInteractive',\n",
              "                                                     [key], {});\n",
              "          if (!dataTable) return;\n",
              "\n",
              "          const docLinkHtml = 'Like what you see? Visit the ' +\n",
              "            '<a target=\"_blank\" href=https://colab.research.google.com/notebooks/data_table.ipynb>data table notebook</a>'\n",
              "            + ' to learn more about interactive tables.';\n",
              "          element.innerHTML = '';\n",
              "          dataTable['output_type'] = 'display_data';\n",
              "          await google.colab.output.renderOutput(dataTable, element);\n",
              "          const docLink = document.createElement('div');\n",
              "          docLink.innerHTML = docLinkHtml;\n",
              "          element.appendChild(docLink);\n",
              "        }\n",
              "      </script>\n",
              "    </div>\n",
              "  </div>\n"
            ]
          },
          "metadata": {},
          "execution_count": 8
        }
      ],
      "source": [
        "df.head()"
      ]
    },
    {
      "cell_type": "code",
      "execution_count": 9,
      "metadata": {
        "id": "-AObDzWm3G1X"
      },
      "outputs": [],
      "source": [
        "new_df=df[['headline','category']]"
      ]
    },
    {
      "cell_type": "code",
      "execution_count": 10,
      "metadata": {
        "colab": {
          "base_uri": "https://localhost:8080/",
          "height": 206
        },
        "id": "rBxAh7wr3G1X",
        "outputId": "1bcdc5d4-6eda-4b23-ae87-d0f48ea22b75"
      },
      "outputs": [
        {
          "output_type": "execute_result",
          "data": {
            "text/plain": [
              "                                            headline   category\n",
              "0  Over 4 Million Americans Roll Up Sleeves For O...  U.S. NEWS\n",
              "1  American Airlines Flyer Charged, Banned For Li...  U.S. NEWS\n",
              "2  23 Of The Funniest Tweets About Cats And Dogs ...     COMEDY\n",
              "3  The Funniest Tweets From Parents This Week (Se...  PARENTING\n",
              "4  Woman Who Called Cops On Black Bird-Watcher Lo...  U.S. NEWS"
            ],
            "text/html": [
              "\n",
              "\n",
              "  <div id=\"df-7322772f-6931-45e3-bc09-7f22ce8bb4c1\">\n",
              "    <div class=\"colab-df-container\">\n",
              "      <div>\n",
              "<style scoped>\n",
              "    .dataframe tbody tr th:only-of-type {\n",
              "        vertical-align: middle;\n",
              "    }\n",
              "\n",
              "    .dataframe tbody tr th {\n",
              "        vertical-align: top;\n",
              "    }\n",
              "\n",
              "    .dataframe thead th {\n",
              "        text-align: right;\n",
              "    }\n",
              "</style>\n",
              "<table border=\"1\" class=\"dataframe\">\n",
              "  <thead>\n",
              "    <tr style=\"text-align: right;\">\n",
              "      <th></th>\n",
              "      <th>headline</th>\n",
              "      <th>category</th>\n",
              "    </tr>\n",
              "  </thead>\n",
              "  <tbody>\n",
              "    <tr>\n",
              "      <th>0</th>\n",
              "      <td>Over 4 Million Americans Roll Up Sleeves For O...</td>\n",
              "      <td>U.S. NEWS</td>\n",
              "    </tr>\n",
              "    <tr>\n",
              "      <th>1</th>\n",
              "      <td>American Airlines Flyer Charged, Banned For Li...</td>\n",
              "      <td>U.S. NEWS</td>\n",
              "    </tr>\n",
              "    <tr>\n",
              "      <th>2</th>\n",
              "      <td>23 Of The Funniest Tweets About Cats And Dogs ...</td>\n",
              "      <td>COMEDY</td>\n",
              "    </tr>\n",
              "    <tr>\n",
              "      <th>3</th>\n",
              "      <td>The Funniest Tweets From Parents This Week (Se...</td>\n",
              "      <td>PARENTING</td>\n",
              "    </tr>\n",
              "    <tr>\n",
              "      <th>4</th>\n",
              "      <td>Woman Who Called Cops On Black Bird-Watcher Lo...</td>\n",
              "      <td>U.S. NEWS</td>\n",
              "    </tr>\n",
              "  </tbody>\n",
              "</table>\n",
              "</div>\n",
              "      <button class=\"colab-df-convert\" onclick=\"convertToInteractive('df-7322772f-6931-45e3-bc09-7f22ce8bb4c1')\"\n",
              "              title=\"Convert this dataframe to an interactive table.\"\n",
              "              style=\"display:none;\">\n",
              "\n",
              "  <svg xmlns=\"http://www.w3.org/2000/svg\" height=\"24px\"viewBox=\"0 0 24 24\"\n",
              "       width=\"24px\">\n",
              "    <path d=\"M0 0h24v24H0V0z\" fill=\"none\"/>\n",
              "    <path d=\"M18.56 5.44l.94 2.06.94-2.06 2.06-.94-2.06-.94-.94-2.06-.94 2.06-2.06.94zm-11 1L8.5 8.5l.94-2.06 2.06-.94-2.06-.94L8.5 2.5l-.94 2.06-2.06.94zm10 10l.94 2.06.94-2.06 2.06-.94-2.06-.94-.94-2.06-.94 2.06-2.06.94z\"/><path d=\"M17.41 7.96l-1.37-1.37c-.4-.4-.92-.59-1.43-.59-.52 0-1.04.2-1.43.59L10.3 9.45l-7.72 7.72c-.78.78-.78 2.05 0 2.83L4 21.41c.39.39.9.59 1.41.59.51 0 1.02-.2 1.41-.59l7.78-7.78 2.81-2.81c.8-.78.8-2.07 0-2.86zM5.41 20L4 18.59l7.72-7.72 1.47 1.35L5.41 20z\"/>\n",
              "  </svg>\n",
              "      </button>\n",
              "\n",
              "\n",
              "\n",
              "    <div id=\"df-ad54f6cf-5042-4ce3-b610-e04728fc32af\">\n",
              "      <button class=\"colab-df-quickchart\" onclick=\"quickchart('df-ad54f6cf-5042-4ce3-b610-e04728fc32af')\"\n",
              "              title=\"Suggest charts.\"\n",
              "              style=\"display:none;\">\n",
              "\n",
              "<svg xmlns=\"http://www.w3.org/2000/svg\" height=\"24px\"viewBox=\"0 0 24 24\"\n",
              "     width=\"24px\">\n",
              "    <g>\n",
              "        <path d=\"M19 3H5c-1.1 0-2 .9-2 2v14c0 1.1.9 2 2 2h14c1.1 0 2-.9 2-2V5c0-1.1-.9-2-2-2zM9 17H7v-7h2v7zm4 0h-2V7h2v10zm4 0h-2v-4h2v4z\"/>\n",
              "    </g>\n",
              "</svg>\n",
              "      </button>\n",
              "    </div>\n",
              "\n",
              "<style>\n",
              "  .colab-df-quickchart {\n",
              "    background-color: #E8F0FE;\n",
              "    border: none;\n",
              "    border-radius: 50%;\n",
              "    cursor: pointer;\n",
              "    display: none;\n",
              "    fill: #1967D2;\n",
              "    height: 32px;\n",
              "    padding: 0 0 0 0;\n",
              "    width: 32px;\n",
              "  }\n",
              "\n",
              "  .colab-df-quickchart:hover {\n",
              "    background-color: #E2EBFA;\n",
              "    box-shadow: 0px 1px 2px rgba(60, 64, 67, 0.3), 0px 1px 3px 1px rgba(60, 64, 67, 0.15);\n",
              "    fill: #174EA6;\n",
              "  }\n",
              "\n",
              "  [theme=dark] .colab-df-quickchart {\n",
              "    background-color: #3B4455;\n",
              "    fill: #D2E3FC;\n",
              "  }\n",
              "\n",
              "  [theme=dark] .colab-df-quickchart:hover {\n",
              "    background-color: #434B5C;\n",
              "    box-shadow: 0px 1px 3px 1px rgba(0, 0, 0, 0.15);\n",
              "    filter: drop-shadow(0px 1px 2px rgba(0, 0, 0, 0.3));\n",
              "    fill: #FFFFFF;\n",
              "  }\n",
              "</style>\n",
              "\n",
              "    <script>\n",
              "      async function quickchart(key) {\n",
              "        const containerElement = document.querySelector('#' + key);\n",
              "        const charts = await google.colab.kernel.invokeFunction(\n",
              "            'suggestCharts', [key], {});\n",
              "      }\n",
              "    </script>\n",
              "\n",
              "      <script>\n",
              "\n",
              "function displayQuickchartButton(domScope) {\n",
              "  let quickchartButtonEl =\n",
              "    domScope.querySelector('#df-ad54f6cf-5042-4ce3-b610-e04728fc32af button.colab-df-quickchart');\n",
              "  quickchartButtonEl.style.display =\n",
              "    google.colab.kernel.accessAllowed ? 'block' : 'none';\n",
              "}\n",
              "\n",
              "        displayQuickchartButton(document);\n",
              "      </script>\n",
              "      <style>\n",
              "    .colab-df-container {\n",
              "      display:flex;\n",
              "      flex-wrap:wrap;\n",
              "      gap: 12px;\n",
              "    }\n",
              "\n",
              "    .colab-df-convert {\n",
              "      background-color: #E8F0FE;\n",
              "      border: none;\n",
              "      border-radius: 50%;\n",
              "      cursor: pointer;\n",
              "      display: none;\n",
              "      fill: #1967D2;\n",
              "      height: 32px;\n",
              "      padding: 0 0 0 0;\n",
              "      width: 32px;\n",
              "    }\n",
              "\n",
              "    .colab-df-convert:hover {\n",
              "      background-color: #E2EBFA;\n",
              "      box-shadow: 0px 1px 2px rgba(60, 64, 67, 0.3), 0px 1px 3px 1px rgba(60, 64, 67, 0.15);\n",
              "      fill: #174EA6;\n",
              "    }\n",
              "\n",
              "    [theme=dark] .colab-df-convert {\n",
              "      background-color: #3B4455;\n",
              "      fill: #D2E3FC;\n",
              "    }\n",
              "\n",
              "    [theme=dark] .colab-df-convert:hover {\n",
              "      background-color: #434B5C;\n",
              "      box-shadow: 0px 1px 3px 1px rgba(0, 0, 0, 0.15);\n",
              "      filter: drop-shadow(0px 1px 2px rgba(0, 0, 0, 0.3));\n",
              "      fill: #FFFFFF;\n",
              "    }\n",
              "  </style>\n",
              "\n",
              "      <script>\n",
              "        const buttonEl =\n",
              "          document.querySelector('#df-7322772f-6931-45e3-bc09-7f22ce8bb4c1 button.colab-df-convert');\n",
              "        buttonEl.style.display =\n",
              "          google.colab.kernel.accessAllowed ? 'block' : 'none';\n",
              "\n",
              "        async function convertToInteractive(key) {\n",
              "          const element = document.querySelector('#df-7322772f-6931-45e3-bc09-7f22ce8bb4c1');\n",
              "          const dataTable =\n",
              "            await google.colab.kernel.invokeFunction('convertToInteractive',\n",
              "                                                     [key], {});\n",
              "          if (!dataTable) return;\n",
              "\n",
              "          const docLinkHtml = 'Like what you see? Visit the ' +\n",
              "            '<a target=\"_blank\" href=https://colab.research.google.com/notebooks/data_table.ipynb>data table notebook</a>'\n",
              "            + ' to learn more about interactive tables.';\n",
              "          element.innerHTML = '';\n",
              "          dataTable['output_type'] = 'display_data';\n",
              "          await google.colab.output.renderOutput(dataTable, element);\n",
              "          const docLink = document.createElement('div');\n",
              "          docLink.innerHTML = docLinkHtml;\n",
              "          element.appendChild(docLink);\n",
              "        }\n",
              "      </script>\n",
              "    </div>\n",
              "  </div>\n"
            ]
          },
          "metadata": {},
          "execution_count": 10
        }
      ],
      "source": [
        "new_df.head()"
      ]
    },
    {
      "cell_type": "code",
      "execution_count": 11,
      "metadata": {
        "colab": {
          "base_uri": "https://localhost:8080/"
        },
        "id": "7SwyNC5H3G1Y",
        "outputId": "b69c83aa-fdfb-4919-b8cc-13d4f137fab0"
      },
      "outputs": [
        {
          "output_type": "execute_result",
          "data": {
            "text/plain": [
              "(209527, 2)"
            ]
          },
          "metadata": {},
          "execution_count": 11
        }
      ],
      "source": [
        "new_df.shape"
      ]
    },
    {
      "cell_type": "code",
      "execution_count": 12,
      "metadata": {
        "colab": {
          "base_uri": "https://localhost:8080/"
        },
        "id": "qLrnTY_N3G1Z",
        "outputId": "94ab0042-97d5-4036-fbc2-fd7750e9b161"
      },
      "outputs": [
        {
          "output_type": "stream",
          "name": "stdout",
          "text": [
            "headline    'French Spider-Man' Celebrates 60th Birthday W...\n",
            "category                                           WEIRD NEWS\n",
            "Name: 29, dtype: object\n",
            "'French Spider-Man' Celebrates 60th Birthday With A Massive Skyscraper Climb\n"
          ]
        }
      ],
      "source": [
        "i=29\n",
        "print(new_df[['headline','category']].loc[i])\n",
        "print(new_df['headline'].loc[i])"
      ]
    },
    {
      "cell_type": "code",
      "execution_count": 13,
      "metadata": {
        "colab": {
          "base_uri": "https://localhost:8080/"
        },
        "id": "fADPTCnM3G1a",
        "outputId": "e8d454fb-ed75-48c9-de85-5a2224a790d1"
      },
      "outputs": [
        {
          "output_type": "stream",
          "name": "stdout",
          "text": [
            "Number of category :- 42\n"
          ]
        },
        {
          "output_type": "execute_result",
          "data": {
            "text/plain": [
              "array(['U.S. NEWS', 'COMEDY', 'PARENTING', 'WORLD NEWS', 'CULTURE & ARTS',\n",
              "       'TECH', 'SPORTS', 'ENTERTAINMENT', 'POLITICS', 'WEIRD NEWS',\n",
              "       'ENVIRONMENT', 'EDUCATION', 'CRIME', 'SCIENCE', 'WELLNESS',\n",
              "       'BUSINESS', 'STYLE & BEAUTY', 'FOOD & DRINK', 'MEDIA',\n",
              "       'QUEER VOICES', 'HOME & LIVING', 'WOMEN', 'BLACK VOICES', 'TRAVEL',\n",
              "       'MONEY', 'RELIGION', 'LATINO VOICES', 'IMPACT', 'WEDDINGS',\n",
              "       'COLLEGE', 'PARENTS', 'ARTS & CULTURE', 'STYLE', 'GREEN', 'TASTE',\n",
              "       'HEALTHY LIVING', 'THE WORLDPOST', 'GOOD NEWS', 'WORLDPOST',\n",
              "       'FIFTY', 'ARTS', 'DIVORCE'], dtype=object)"
            ]
          },
          "metadata": {},
          "execution_count": 13
        }
      ],
      "source": [
        "print(\"Number of category :-\",len(new_df['category'].unique()))\n",
        "new_df['category'].unique()"
      ]
    },
    {
      "cell_type": "code",
      "execution_count": 14,
      "metadata": {
        "colab": {
          "base_uri": "https://localhost:8080/"
        },
        "id": "2WXAhZw83G1c",
        "outputId": "67c66af3-442c-4eb5-a2fe-8e3405bb0b96"
      },
      "outputs": [
        {
          "output_type": "execute_result",
          "data": {
            "text/plain": [
              "headline    0\n",
              "category    0\n",
              "dtype: int64"
            ]
          },
          "metadata": {},
          "execution_count": 14
        }
      ],
      "source": [
        "new_df.isnull().sum()"
      ]
    },
    {
      "cell_type": "code",
      "execution_count": 15,
      "metadata": {
        "colab": {
          "base_uri": "https://localhost:8080/"
        },
        "id": "TxmlI7hl3G1d",
        "outputId": "8942ea26-6fca-4803-890f-6778963ac4cd"
      },
      "outputs": [
        {
          "output_type": "stream",
          "name": "stdout",
          "text": [
            "<class 'pandas.core.frame.DataFrame'>\n",
            "RangeIndex: 209527 entries, 0 to 209526\n",
            "Data columns (total 2 columns):\n",
            " #   Column    Non-Null Count   Dtype \n",
            "---  ------    --------------   ----- \n",
            " 0   headline  209527 non-null  object\n",
            " 1   category  209527 non-null  object\n",
            "dtypes: object(2)\n",
            "memory usage: 3.2+ MB\n"
          ]
        }
      ],
      "source": [
        "new_df.info()"
      ]
    },
    {
      "cell_type": "code",
      "source": [],
      "metadata": {
        "id": "zEwrCFSGAxOp"
      },
      "execution_count": null,
      "outputs": []
    },
    {
      "cell_type": "markdown",
      "metadata": {
        "id": "Qdzv_7de3G1e"
      },
      "source": [
        "# Text Preprocessing Steps:-\n",
        "1. Remove html tags\n",
        "2. Remove special characters\n",
        "3. Converting every thing to lower case\n",
        "4. Removeing stop words\n",
        "5. Stemming"
      ]
    },
    {
      "cell_type": "code",
      "execution_count": 16,
      "metadata": {
        "colab": {
          "base_uri": "https://localhost:8080/"
        },
        "id": "FWy2z1yZ3G1f",
        "outputId": "8e78b8dc-e5e9-437a-e429-f585f7b41df1"
      },
      "outputs": [
        {
          "output_type": "stream",
          "name": "stdout",
          "text": [
            "Requirement already satisfied: nltk in /usr/local/lib/python3.10/dist-packages (3.8.1)\n",
            "Requirement already satisfied: click in /usr/local/lib/python3.10/dist-packages (from nltk) (8.1.6)\n",
            "Requirement already satisfied: joblib in /usr/local/lib/python3.10/dist-packages (from nltk) (1.3.2)\n",
            "Requirement already satisfied: regex>=2021.8.3 in /usr/local/lib/python3.10/dist-packages (from nltk) (2023.6.3)\n",
            "Requirement already satisfied: tqdm in /usr/local/lib/python3.10/dist-packages (from nltk) (4.66.0)\n"
          ]
        }
      ],
      "source": [
        "!pip install --upgrade nltk"
      ]
    },
    {
      "cell_type": "code",
      "execution_count": 17,
      "metadata": {
        "colab": {
          "base_uri": "https://localhost:8080/"
        },
        "id": "6t1MimOl3G1g",
        "outputId": "ccfaff2e-a36c-4e82-8314-51dc7921e9db"
      },
      "outputs": [
        {
          "output_type": "stream",
          "name": "stderr",
          "text": [
            "[nltk_data] Downloading package stopwords to /root/nltk_data...\n",
            "[nltk_data]   Unzipping corpora/stopwords.zip.\n"
          ]
        },
        {
          "output_type": "execute_result",
          "data": {
            "text/plain": [
              "True"
            ]
          },
          "metadata": {},
          "execution_count": 17
        }
      ],
      "source": [
        "import re\n",
        "import nltk\n",
        "from nltk.corpus import stopwords\n",
        "from nltk.stem.porter import PorterStemmer\n",
        "##downloading the stopwords from the nltk\n",
        "nltk.download('stopwords')"
      ]
    },
    {
      "cell_type": "code",
      "execution_count": 18,
      "metadata": {
        "id": "fYH8FXlE3G1h"
      },
      "outputs": [],
      "source": [
        "ps=PorterStemmer()\n",
        "# wordnet=WordNetLemmatizer()"
      ]
    },
    {
      "cell_type": "code",
      "execution_count": 19,
      "metadata": {
        "colab": {
          "base_uri": "https://localhost:8080/"
        },
        "id": "piu2rr3g3G1i",
        "outputId": "dc4bf1ea-fa51-4aad-dcac-440bff3d1707"
      },
      "outputs": [
        {
          "output_type": "execute_result",
          "data": {
            "text/plain": [
              "209527"
            ]
          },
          "metadata": {},
          "execution_count": 19
        }
      ],
      "source": [
        "len(new_df['headline'])"
      ]
    },
    {
      "cell_type": "code",
      "execution_count": 20,
      "metadata": {
        "id": "7MxgYTpy3G1i"
      },
      "outputs": [],
      "source": [
        "# Cleaning the texts\n",
        "corpus_s = []\n",
        "# corpus_l = []\n",
        "for i in range(len(new_df['headline'])):\n",
        "    review = re.sub('[^a-zA-Z]', ' ', new_df['headline'][i])\n",
        "    review = review.lower()\n",
        "    review = review.split()\n",
        "    review = [ps.stem(word) for word in review if not word in set(stopwords.words('english'))]\n",
        "    review = ' '.join(review)\n",
        "    corpus_s.append(review)\n"
      ]
    },
    {
      "cell_type": "code",
      "execution_count": 21,
      "metadata": {
        "colab": {
          "base_uri": "https://localhost:8080/"
        },
        "id": "91jOLgC83G1i",
        "outputId": "6c105724-d269-4c4c-fc55-c5b3c895e7db"
      },
      "outputs": [
        {
          "output_type": "execute_result",
          "data": {
            "text/plain": [
              "['million american roll sleev omicron target covid booster',\n",
              " 'american airlin flyer charg ban life punch flight attend video',\n",
              " 'funniest tweet cat dog week sept',\n",
              " 'funniest tweet parent week sept',\n",
              " 'woman call cop black bird watcher lose lawsuit ex employ',\n",
              " 'cleaner dead belk bathroom day bodi found polic',\n",
              " 'report get ador surpris boyfriend live tv',\n",
              " 'puerto rican desper water hurrican fiona rampag',\n",
              " 'new documentari captur complex child immigr',\n",
              " 'biden un call russian war affront bodi charter']"
            ]
          },
          "metadata": {},
          "execution_count": 21
        }
      ],
      "source": [
        "corpus_s[:10]"
      ]
    },
    {
      "cell_type": "code",
      "execution_count": 22,
      "metadata": {
        "id": "jo1wOfZp3G1i"
      },
      "outputs": [],
      "source": [
        "##creating the Bag Of Words model\n",
        "from sklearn.model_selection import train_test_split\n",
        "from sklearn.preprocessing import LabelEncoder\n",
        "from sklearn.feature_extraction.text import TfidfVectorizer\n",
        "import tensorflow as tf\n",
        "from tensorflow.keras.models import Sequential\n",
        "from tensorflow.keras.layers import Dense, Embedding, GlobalAveragePooling1D\n",
        "from tensorflow.keras.preprocessing.sequence import pad_sequences\n",
        "from tensorflow.keras.preprocessing.text import Tokenizer\n",
        "import matplotlib.pyplot as plt\n",
        "import seaborn as sns\n",
        "from sklearn.metrics import ConfusionMatrixDisplay,confusion_matrix,accuracy_score,classification_report"
      ]
    },
    {
      "cell_type": "code",
      "execution_count": 23,
      "metadata": {
        "id": "bpmJvsiAMLth"
      },
      "outputs": [],
      "source": [
        "# Preprocess data\n",
        "X = new_df['headline']\n",
        "y = new_df['category']"
      ]
    },
    {
      "cell_type": "code",
      "execution_count": 24,
      "metadata": {
        "id": "pKjFiP8_MOPy"
      },
      "outputs": [],
      "source": [
        "# Split dataset into training and testing sets\n",
        "X_train, X_test, y_train, y_test = train_test_split(X, y, test_size=0.3, random_state=42)"
      ]
    },
    {
      "cell_type": "code",
      "execution_count": 25,
      "metadata": {
        "id": "DucQoR4iMV6X"
      },
      "outputs": [],
      "source": [
        "# Tokenize and vectorize text using TF-IDF\n",
        "vectorizer = TfidfVectorizer(max_features=2500)  # Adjust max_features as needed\n",
        "X_train_vec = vectorizer.fit_transform(X_train).toarray()\n",
        "X_test_vec = vectorizer.transform(X_test).toarray()"
      ]
    },
    {
      "cell_type": "code",
      "execution_count": 26,
      "metadata": {
        "id": "l04Q6hKYMYUw"
      },
      "outputs": [],
      "source": [
        "# Encode labels\n",
        "label_encoder = LabelEncoder()\n",
        "y_train_encoded = label_encoder.fit_transform(y_train)\n",
        "y_test_encoded = label_encoder.transform(y_test)"
      ]
    },
    {
      "cell_type": "code",
      "execution_count": 27,
      "metadata": {
        "colab": {
          "base_uri": "https://localhost:8080/"
        },
        "id": "380-khC_OOZc",
        "outputId": "2ffcd0ee-d579-4c06-9a5b-2a95fbd8e763"
      },
      "outputs": [
        {
          "output_type": "execute_result",
          "data": {
            "text/plain": [
              "array([[0., 0., 0., ..., 0., 0., 0.],\n",
              "       [0., 0., 0., ..., 0., 0., 0.],\n",
              "       [0., 0., 0., ..., 0., 0., 0.],\n",
              "       ...,\n",
              "       [0., 0., 0., ..., 0., 0., 0.],\n",
              "       [0., 0., 0., ..., 0., 0., 0.],\n",
              "       [0., 0., 0., ..., 0., 0., 0.]])"
            ]
          },
          "metadata": {},
          "execution_count": 27
        }
      ],
      "source": [
        "X_train_vec"
      ]
    },
    {
      "cell_type": "code",
      "execution_count": 28,
      "metadata": {
        "id": "6OakglH_Mbe9"
      },
      "outputs": [],
      "source": [
        "# Build a basic neural network model\n",
        "model = Sequential()\n",
        "model.add(Dense(128, activation='relu', input_shape=(X_train_vec.shape[1],)))\n",
        "model.add(Dense(64, activation='relu'))\n",
        "model.add(Dense(len(label_encoder.classes_), activation='softmax'))  # Output layer"
      ]
    },
    {
      "cell_type": "code",
      "execution_count": 29,
      "metadata": {
        "id": "Vst_zY6VQO8F"
      },
      "outputs": [],
      "source": [
        "# Compile the model\n",
        "model.compile(loss='sparse_categorical_crossentropy', optimizer='adam', metrics=['accuracy'])"
      ]
    },
    {
      "cell_type": "code",
      "execution_count": 30,
      "metadata": {
        "colab": {
          "base_uri": "https://localhost:8080/"
        },
        "id": "uUmJLijAODlB",
        "outputId": "7f554276-c800-454e-cf52-b47498ad9716"
      },
      "outputs": [
        {
          "output_type": "stream",
          "name": "stdout",
          "text": [
            "Epoch 1/10\n",
            "4584/4584 [==============================] - 44s 9ms/step - loss: 2.1047 - accuracy: 0.4569 - val_loss: 1.8363 - val_accuracy: 0.5101\n",
            "Epoch 2/10\n",
            "4584/4584 [==============================] - 40s 9ms/step - loss: 1.7392 - accuracy: 0.5266 - val_loss: 1.7929 - val_accuracy: 0.5185\n",
            "Epoch 3/10\n",
            "4584/4584 [==============================] - 40s 9ms/step - loss: 1.6263 - accuracy: 0.5470 - val_loss: 1.7834 - val_accuracy: 0.5200\n",
            "Epoch 4/10\n",
            "4584/4584 [==============================] - 43s 9ms/step - loss: 1.5323 - accuracy: 0.5664 - val_loss: 1.7832 - val_accuracy: 0.5227\n",
            "Epoch 5/10\n",
            "4584/4584 [==============================] - 40s 9ms/step - loss: 1.4421 - accuracy: 0.5873 - val_loss: 1.8084 - val_accuracy: 0.5199\n",
            "Epoch 6/10\n",
            "4584/4584 [==============================] - 39s 9ms/step - loss: 1.3546 - accuracy: 0.6086 - val_loss: 1.8476 - val_accuracy: 0.5185\n",
            "Epoch 7/10\n",
            "4584/4584 [==============================] - 40s 9ms/step - loss: 1.2673 - accuracy: 0.6315 - val_loss: 1.9098 - val_accuracy: 0.5097\n",
            "Epoch 8/10\n",
            "4584/4584 [==============================] - 39s 9ms/step - loss: 1.1826 - accuracy: 0.6550 - val_loss: 1.9756 - val_accuracy: 0.5045\n",
            "Epoch 9/10\n",
            "4584/4584 [==============================] - 41s 9ms/step - loss: 1.1011 - accuracy: 0.6769 - val_loss: 2.0683 - val_accuracy: 0.4939\n",
            "Epoch 10/10\n",
            "4584/4584 [==============================] - 40s 9ms/step - loss: 1.0254 - accuracy: 0.6986 - val_loss: 2.1540 - val_accuracy: 0.4944\n"
          ]
        }
      ],
      "source": [
        "history=model.fit(X_train_vec,y_train_encoded,epochs=10,validation_data=(X_test_vec,y_test_encoded),batch_size=32)"
      ]
    },
    {
      "cell_type": "code",
      "execution_count": 31,
      "metadata": {
        "colab": {
          "base_uri": "https://localhost:8080/",
          "height": 452
        },
        "id": "dhCtYv8GQMyZ",
        "outputId": "553752f0-9be9-48cc-c009-50e728fd5de3"
      },
      "outputs": [
        {
          "output_type": "display_data",
          "data": {
            "text/plain": [
              "<Figure size 640x480 with 1 Axes>"
            ],
            "image/png": "[encoded data removed]"
          },
          "metadata": {}
        }
      ],
      "source": [
        "plt.plot(history.history['loss'],label='loss')\n",
        "plt.plot(history.history['val_loss'],label='val_loss')\n",
        "plt.legend()\n",
        "plt.xlabel(\"Epochs\")\n",
        "plt.ylabel(\"loss\")\n",
        "plt.show()"
      ]
    },
    {
      "cell_type": "code",
      "execution_count": 32,
      "metadata": {
        "colab": {
          "base_uri": "https://localhost:8080/",
          "height": 449
        },
        "id": "CrugkDY5STss",
        "outputId": "93830e39-bbec-4f1b-b1d9-a3f35a79a6e4"
      },
      "outputs": [
        {
          "output_type": "display_data",
          "data": {
            "text/plain": [
              "<Figure size 640x480 with 1 Axes>"
            ],
            "image/png": "[encoded data removed]"
          },
          "metadata": {}
        }
      ],
      "source": [
        "plt.plot(history.history['accuracy'],label='Accuracy')\n",
        "plt.plot(history.history['val_accuracy'],label='val_Accuracy')\n",
        "plt.legend()\n",
        "plt.xlabel(\"Epochs\")\n",
        "plt.ylabel(\"Accuracy\")\n",
        "plt.show()"
      ]
    },
    {
      "cell_type": "code",
      "execution_count": 33,
      "metadata": {
        "colab": {
          "base_uri": "https://localhost:8080/"
        },
        "id": "8DxqiLeiWdrB",
        "outputId": "c10fff57-9732-4884-8ea3-0e342a384ff4"
      },
      "outputs": [
        {
          "output_type": "stream",
          "name": "stdout",
          "text": [
            "1965/1965 [==============================] - 6s 3ms/step\n"
          ]
        }
      ],
      "source": [
        "y_pred_ann=model.predict(X_test_vec)"
      ]
    },
    {
      "cell_type": "code",
      "execution_count": 34,
      "metadata": {
        "id": "KxILRSmjWQOp"
      },
      "outputs": [],
      "source": [
        "threshold=0.5\n",
        "y_pred_binary=(y_pred_ann >= threshold).astype(int)"
      ]
    },
    {
      "cell_type": "code",
      "execution_count": 35,
      "metadata": {
        "colab": {
          "base_uri": "https://localhost:8080/"
        },
        "id": "gw4Y3-B7XZ6J",
        "outputId": "4f0dafb7-4bea-4ad2-df70-297fe83dbb0c"
      },
      "outputs": [
        {
          "output_type": "execute_result",
          "data": {
            "text/plain": [
              "(62859, 62859)"
            ]
          },
          "metadata": {},
          "execution_count": 35
        }
      ],
      "source": [
        "len(y_test_encoded),len(y_pred_binary)"
      ]
    },
    {
      "cell_type": "code",
      "execution_count": 36,
      "metadata": {
        "colab": {
          "base_uri": "https://localhost:8080/"
        },
        "id": "jqHCTuRCXMYu",
        "outputId": "683fed10-59d2-4d13-cc8c-4f1113fbe382"
      },
      "outputs": [
        {
          "output_type": "stream",
          "name": "stdout",
          "text": [
            "Test Accuracy: 0.4944\n"
          ]
        }
      ],
      "source": [
        "# Convert one-hot encoded predictions to integer-encoded predictions\n",
        "y_pred_int = tf.argmax(y_pred_ann, axis=1)\n",
        "\n",
        "# Convert integer-encoded predictions back to original labels\n",
        "y_pred_labels = label_encoder.inverse_transform(y_pred_int)\n",
        "\n",
        "# Calculate accuracy using scikit-learn's accuracy_score\n",
        "accuracy = accuracy_score(y_test, y_pred_labels)\n",
        "print(f\"Test Accuracy: {accuracy:.4f}\")"
      ]
    },
    {
      "cell_type": "markdown",
      "metadata": {
        "id": "Cil2Z7OG6RUt"
      },
      "source": [
        "#### **Testing on some sample text**"
      ]
    },
    {
      "cell_type": "code",
      "execution_count": 38,
      "metadata": {
        "colab": {
          "base_uri": "https://localhost:8080/"
        },
        "id": "ubK22Xy96PHC",
        "outputId": "4b852b79-9303-463c-cda2-44e1f8893dcb"
      },
      "outputs": [
        {
          "output_type": "stream",
          "name": "stdout",
          "text": [
            "1/1 [==============================] - 0s 27ms/step\n",
            "['MEDIA' 'BUSINESS']\n"
          ]
        }
      ],
      "source": [
        "# Make predictions (same as before)\n",
        "sample_headlines = [\"Breaking news: New discovery in space\", \"Stock market reaches all-time high\"]\n",
        "sample_headlines_vec = vectorizer.transform(sample_headlines).toarray()\n",
        "predictions = model.predict(sample_headlines_vec)\n",
        "predicted_categories = label_encoder.inverse_transform(predictions.argmax(axis=-1))\n",
        "print(predicted_categories)"
      ]
    },
    {
      "cell_type": "code",
      "execution_count": 39,
      "metadata": {
        "id": "oExCuQBfZoh-"
      },
      "outputs": [],
      "source": [
        "from tensorflow.keras.layers import Dropout\n",
        "\n",
        "# Build a neural network model with regularization and dropout\n",
        "model1 = Sequential()\n",
        "model1.add(Dense(128, activation='relu', input_shape=(X_train_vec.shape[1],)))\n",
        "model1.add(Dropout(0.3))  # Add dropout layer\n",
        "model1.add(Dense(64, activation='relu', kernel_regularizer=tf.keras.regularizers.l2(0.01)))  # Add L2 regularization\n",
        "model1.add(Dropout(0.3))  # Add dropout layer\n",
        "model1.add(Dense(len(label_encoder.classes_), activation='softmax'))"
      ]
    },
    {
      "cell_type": "code",
      "execution_count": 40,
      "metadata": {
        "id": "8-FHiF5baji6"
      },
      "outputs": [],
      "source": [
        "# Compile the model\n",
        "model1.compile(loss='sparse_categorical_crossentropy', optimizer='adam', metrics=['accuracy'])"
      ]
    },
    {
      "cell_type": "code",
      "execution_count": 41,
      "metadata": {
        "colab": {
          "base_uri": "https://localhost:8080/"
        },
        "id": "3kIgjn2yar-d",
        "outputId": "e0ea173f-7951-4758-b960-f8f2788c670b"
      },
      "outputs": [
        {
          "output_type": "stream",
          "name": "stdout",
          "text": [
            "Epoch 1/50\n",
            "4584/4584 [==============================] - 44s 9ms/step - loss: 2.7281 - accuracy: 0.3316 - val_loss: 2.3139 - val_accuracy: 0.4312\n",
            "Epoch 2/50\n",
            "4584/4584 [==============================] - 48s 10ms/step - loss: 2.3118 - accuracy: 0.4336 - val_loss: 2.1560 - val_accuracy: 0.4662\n",
            "Epoch 3/50\n",
            "4584/4584 [==============================] - 42s 9ms/step - loss: 2.1904 - accuracy: 0.4587 - val_loss: 2.0779 - val_accuracy: 0.4785\n",
            "Epoch 4/50\n",
            "4584/4584 [==============================] - 48s 11ms/step - loss: 2.1231 - accuracy: 0.4702 - val_loss: 2.0434 - val_accuracy: 0.4821\n",
            "Epoch 5/50\n",
            "4584/4584 [==============================] - 43s 9ms/step - loss: 2.0721 - accuracy: 0.4799 - val_loss: 2.0053 - val_accuracy: 0.4932\n",
            "Epoch 6/50\n",
            "4584/4584 [==============================] - 45s 10ms/step - loss: 2.0330 - accuracy: 0.4867 - val_loss: 1.9875 - val_accuracy: 0.4929\n",
            "Epoch 7/50\n",
            "4584/4584 [==============================] - 45s 10ms/step - loss: 2.0034 - accuracy: 0.4940 - val_loss: 1.9754 - val_accuracy: 0.4979\n",
            "Epoch 8/50\n",
            "4584/4584 [==============================] - 44s 10ms/step - loss: 1.9755 - accuracy: 0.4986 - val_loss: 1.9654 - val_accuracy: 0.5020\n",
            "Epoch 9/50\n",
            "4584/4584 [==============================] - 43s 9ms/step - loss: 1.9501 - accuracy: 0.5033 - val_loss: 1.9595 - val_accuracy: 0.5022\n",
            "Epoch 10/50\n",
            "4584/4584 [==============================] - 44s 10ms/step - loss: 1.9312 - accuracy: 0.5076 - val_loss: 1.9597 - val_accuracy: 0.5018\n",
            "Epoch 11/50\n",
            "4584/4584 [==============================] - 50s 11ms/step - loss: 1.9114 - accuracy: 0.5118 - val_loss: 1.9470 - val_accuracy: 0.5057\n",
            "Epoch 12/50\n",
            "4584/4584 [==============================] - 49s 11ms/step - loss: 1.8905 - accuracy: 0.5150 - val_loss: 1.9532 - val_accuracy: 0.5057\n",
            "Epoch 13/50\n",
            "4584/4584 [==============================] - 43s 9ms/step - loss: 1.8733 - accuracy: 0.5189 - val_loss: 1.9452 - val_accuracy: 0.5075\n",
            "Epoch 14/50\n",
            "4584/4584 [==============================] - 44s 10ms/step - loss: 1.8547 - accuracy: 0.5222 - val_loss: 1.9483 - val_accuracy: 0.5082\n",
            "Epoch 15/50\n",
            "4584/4584 [==============================] - 44s 10ms/step - loss: 1.8372 - accuracy: 0.5267 - val_loss: 1.9429 - val_accuracy: 0.5092\n",
            "Epoch 16/50\n",
            "4584/4584 [==============================] - 49s 11ms/step - loss: 1.8224 - accuracy: 0.5296 - val_loss: 1.9384 - val_accuracy: 0.5095\n",
            "Epoch 17/50\n",
            "4584/4584 [==============================] - 43s 9ms/step - loss: 1.8069 - accuracy: 0.5325 - val_loss: 1.9460 - val_accuracy: 0.5104\n",
            "Epoch 18/50\n",
            "4584/4584 [==============================] - 44s 10ms/step - loss: 1.7946 - accuracy: 0.5359 - val_loss: 1.9466 - val_accuracy: 0.5120\n",
            "Epoch 19/50\n",
            "4584/4584 [==============================] - 44s 10ms/step - loss: 1.7816 - accuracy: 0.5376 - val_loss: 1.9427 - val_accuracy: 0.5109\n"
          ]
        }
      ],
      "source": [
        "# Train the model with early stopping\n",
        "early_stopping = tf.keras.callbacks.EarlyStopping(monitor='val_loss', patience=3, restore_best_weights=True)\n",
        "history1=model1.fit(X_train_vec, y_train_encoded, epochs=50, batch_size=32, validation_data=(X_test_vec, y_test_encoded), callbacks=[early_stopping])"
      ]
    },
    {
      "cell_type": "code",
      "execution_count": 42,
      "metadata": {
        "colab": {
          "base_uri": "https://localhost:8080/",
          "height": 449
        },
        "id": "Z3W7BOW-a9eR",
        "outputId": "abc4b585-fcdd-4ba0-e8d2-46b0f9464f3c"
      },
      "outputs": [
        {
          "output_type": "display_data",
          "data": {
            "text/plain": [
              "<Figure size 640x480 with 1 Axes>"
            ],
            "image/png": "[encoded data removed]"
          },
          "metadata": {}
        }
      ],
      "source": [
        "plt.plot(history1.history['loss'],label='loss')\n",
        "plt.plot(history1.history['val_loss'],label='val_loss')\n",
        "plt.legend()\n",
        "plt.xlabel(\"Epochs\")\n",
        "plt.ylabel(\"loss\")\n",
        "plt.show()"
      ]
    },
    {
      "cell_type": "code",
      "execution_count": 43,
      "metadata": {
        "colab": {
          "base_uri": "https://localhost:8080/",
          "height": 449
        },
        "id": "EqZt20Y0cpWC",
        "outputId": "7d557d0e-b362-43b2-d4d0-9f31d1465baa"
      },
      "outputs": [
        {
          "output_type": "display_data",
          "data": {
            "text/plain": [
              "<Figure size 640x480 with 1 Axes>"
            ],
            "image/png": "[encoded data removed]"
          },
          "metadata": {}
        }
      ],
      "source": [
        "plt.plot(history1.history['accuracy'],label='Accuracy')\n",
        "plt.plot(history1.history['val_accuracy'],label='val_Accuracy')\n",
        "plt.legend()\n",
        "plt.xlabel(\"Epochs\")\n",
        "plt.ylabel(\"Accuracy\")\n",
        "plt.show()"
      ]
    },
    {
      "cell_type": "markdown",
      "metadata": {
        "id": "KBX5lV6L5-nu"
      },
      "source": [
        "#### **Testing on some sample text**"
      ]
    },
    {
      "cell_type": "code",
      "execution_count": 44,
      "metadata": {
        "colab": {
          "base_uri": "https://localhost:8080/"
        },
        "id": "H5zciK9Tcq25",
        "outputId": "1c6958b0-e459-467b-a9c9-f1ecc79ca3d3"
      },
      "outputs": [
        {
          "output_type": "stream",
          "name": "stdout",
          "text": [
            "1/1 [==============================] - 0s 76ms/step\n",
            "['SCIENCE' 'BUSINESS']\n"
          ]
        }
      ],
      "source": [
        "# Make predictions (same as before)\n",
        "sample_headlines = [\"Breaking news: New discovery in space\", \"Stock market reaches all-time high\"]\n",
        "sample_headlines_vec = vectorizer.transform(sample_headlines).toarray()\n",
        "predictions = model1.predict(sample_headlines_vec)\n",
        "predicted_categories = label_encoder.inverse_transform(predictions.argmax(axis=-1))\n",
        "print(predicted_categories)"
      ]
    },
    {
      "cell_type": "code",
      "execution_count": 45,
      "metadata": {
        "colab": {
          "base_uri": "https://localhost:8080/"
        },
        "id": "yfIsxssijgmT",
        "outputId": "4777dd48-0777-40e3-a8a5-7cfff701eb8b"
      },
      "outputs": [
        {
          "output_type": "stream",
          "name": "stdout",
          "text": [
            "1/1 [==============================] - 0s 28ms/step\n",
            "['BUSINESS' 'WELLNESS']\n"
          ]
        }
      ],
      "source": [
        "# Make predictions (same as before)\n",
        "sample_headlines = [\"Economists predict steady growth in job market for 2023\",\"New study reveals surprising health benefits of chocolate\"]\n",
        "sample_headlines_vec = vectorizer.transform(sample_headlines).toarray()\n",
        "predictions = model1.predict(sample_headlines_vec)\n",
        "predicted_categories = label_encoder.inverse_transform(predictions.argmax(axis=-1))\n",
        "print(predicted_categories)"
      ]
    },
    {
      "cell_type": "code",
      "execution_count": 45,
      "metadata": {
        "id": "eRS--M37jgXr"
      },
      "outputs": [],
      "source": []
    },
    {
      "cell_type": "code",
      "execution_count": 46,
      "metadata": {
        "id": "yeanzLz8mkIe"
      },
      "outputs": [],
      "source": [
        "from tensorflow.keras.models import Sequential\n",
        "from tensorflow.keras.layers import Dense,LSTM,Bidirectional,BatchNormalization,Dropout\n",
        "from tensorflow.keras.preprocessing.text import one_hot\n",
        "from tensorflow.keras.preprocessing.sequence import pad_sequences"
      ]
    },
    {
      "cell_type": "code",
      "execution_count": 47,
      "metadata": {
        "id": "TlRKLvzfrhtY"
      },
      "outputs": [],
      "source": [
        "##initilazition of voc. size\n",
        "voc_size=5000\n",
        "\n",
        "one_hot_rep=[one_hot(word, voc_size) for word in corpus_s]"
      ]
    },
    {
      "cell_type": "code",
      "execution_count": 48,
      "metadata": {
        "colab": {
          "base_uri": "https://localhost:8080/"
        },
        "id": "sMXTIB9Erhp3",
        "outputId": "4b46163d-f5ce-469c-ba01-302120fe0bc9"
      },
      "outputs": [
        {
          "output_type": "execute_result",
          "data": {
            "text/plain": [
              "[[1351, 4825, 4868, 3564, 4470, 965, 4244, 3614],\n",
              " [4825, 2826, 543, 3097, 674, 2209, 2705, 2554, 1835, 1054],\n",
              " [2685, 2318, 1054, 4251, 1605, 1713],\n",
              " [2685, 2318, 4149, 1605, 1713],\n",
              " [3514, 570, 2915, 1190, 51, 1772, 4855, 3000, 2435, 156],\n",
              " [4300, 4054, 4779, 1136, 4125, 1007, 1215, 1614],\n",
              " [4036, 3574, 2665, 3763, 4660, 2894, 2818],\n",
              " [1102, 2324, 650, 468, 2715, 2906, 3259],\n",
              " [2046, 710, 3366, 2312, 3164, 1296],\n",
              " [180, 512, 570, 455, 4556, 4063, 1007, 2557]]"
            ]
          },
          "metadata": {},
          "execution_count": 48
        }
      ],
      "source": [
        "one_hot_rep[:10]"
      ]
    },
    {
      "cell_type": "code",
      "execution_count": 49,
      "metadata": {
        "id": "jerP_JWHsS5Q"
      },
      "outputs": [],
      "source": [
        "sent_length=50\n",
        "embedd_doc=pad_sequences(one_hot_rep,padding='pre',maxlen=sent_length)"
      ]
    },
    {
      "cell_type": "code",
      "execution_count": 50,
      "metadata": {
        "colab": {
          "base_uri": "https://localhost:8080/"
        },
        "id": "XjLhjWTLsSsp",
        "outputId": "3b524db2-d280-4274-f009-8d0c57680e50"
      },
      "outputs": [
        {
          "output_type": "stream",
          "name": "stdout",
          "text": [
            "[[   0    0    0 ...  965 4244 3614]\n",
            " [   0    0    0 ... 2554 1835 1054]\n",
            " [   0    0    0 ... 4251 1605 1713]\n",
            " ...\n",
            " [   0    0    0 ...  390 1944 1054]\n",
            " [   0    0    0 ... 2306  129 3054]\n",
            " [   0    0    0 ...  343 1120  399]] (209527, 50)\n"
          ]
        }
      ],
      "source": [
        "print(embedd_doc,embedd_doc.shape)"
      ]
    },
    {
      "cell_type": "code",
      "execution_count": 51,
      "metadata": {
        "id": "h6XRzv7Cjc8-"
      },
      "outputs": [],
      "source": [
        "# Build an RNN model\n",
        "##declaring the embedding features\n",
        "embedding_vector_features=50\n",
        "\n",
        "##model initilization\n",
        "model3=Sequential()\n",
        "\n",
        "model3.add(Embedding(voc_size,embedding_vector_features,input_length=sent_length))\n",
        "model3.add(LSTM(100))\n",
        "\n",
        "model3.add(Dense(len(label_encoder.classes_), activation='softmax'))"
      ]
    },
    {
      "cell_type": "code",
      "execution_count": 52,
      "metadata": {
        "colab": {
          "base_uri": "https://localhost:8080/"
        },
        "id": "i1ZSm8FlmJd5",
        "outputId": "ecead9c5-c948-428d-c4bc-74db8af714bf"
      },
      "outputs": [
        {
          "output_type": "execute_result",
          "data": {
            "text/plain": [
              "array(['000', '10', '100', ..., 'youtube', 'zika', 'zoo'], dtype=object)"
            ]
          },
          "metadata": {},
          "execution_count": 52
        }
      ],
      "source": [
        "vectorizer.get_feature_names_out()"
      ]
    },
    {
      "cell_type": "code",
      "execution_count": 53,
      "metadata": {
        "id": "pjWRrun5mPI4"
      },
      "outputs": [],
      "source": [
        "# Compile the model\n",
        "model3.compile(loss='sparse_categorical_crossentropy', optimizer='adam', metrics=['accuracy'])"
      ]
    },
    {
      "cell_type": "code",
      "execution_count": 54,
      "metadata": {
        "colab": {
          "base_uri": "https://localhost:8080/"
        },
        "id": "MJ2mVMGBts05",
        "outputId": "51aeb63d-0843-4fdc-93ca-6e6029da81a0"
      },
      "outputs": [
        {
          "output_type": "execute_result",
          "data": {
            "text/plain": [
              "array(['U.S. NEWS', 'U.S. NEWS', 'COMEDY', ..., 'SPORTS', 'SPORTS',\n",
              "       'SPORTS'], dtype=object)"
            ]
          },
          "metadata": {},
          "execution_count": 54
        }
      ],
      "source": [
        "X_final=embedd_doc\n",
        "y_final=np.array(y)\n",
        "y_final"
      ]
    },
    {
      "cell_type": "code",
      "execution_count": 55,
      "metadata": {
        "colab": {
          "base_uri": "https://localhost:8080/"
        },
        "id": "rzjClTIot2uX",
        "outputId": "7315f03b-d536-4b5a-fdbd-ad79912dd436"
      },
      "outputs": [
        {
          "output_type": "stream",
          "name": "stdout",
          "text": [
            "(209527, 50) (209527,) <class 'numpy.ndarray'> <class 'numpy.ndarray'>\n"
          ]
        }
      ],
      "source": [
        "print(X_final.shape,y_final.shape,type(y_final),type(X_final))"
      ]
    },
    {
      "cell_type": "code",
      "execution_count": 56,
      "metadata": {
        "id": "cupNsVy_tzZi"
      },
      "outputs": [],
      "source": [
        "X_train,X_test,y_train,y_test=train_test_split(X_final,y_final,test_size=0.33,random_state=42)"
      ]
    },
    {
      "cell_type": "code",
      "execution_count": 57,
      "metadata": {
        "id": "tOwAgLphuUrd"
      },
      "outputs": [],
      "source": [
        "y_train=label_encoder.fit_transform(y_train)\n",
        "y_test=label_encoder.fit_transform(y_test)"
      ]
    },
    {
      "cell_type": "code",
      "execution_count": 58,
      "metadata": {
        "id": "H8HLJWcmm3T6",
        "colab": {
          "base_uri": "https://localhost:8080/"
        },
        "outputId": "93bfb6f1-79c8-4d96-d0e8-3bbe0ff85592"
      },
      "outputs": [
        {
          "output_type": "stream",
          "name": "stdout",
          "text": [
            "Epoch 1/50\n",
            "4387/4387 [==============================] - 330s 75ms/step - loss: 2.2615 - accuracy: 0.4178 - val_loss: 1.9104 - val_accuracy: 0.4877\n",
            "Epoch 2/50\n",
            "4387/4387 [==============================] - 318s 73ms/step - loss: 1.7663 - accuracy: 0.5209 - val_loss: 1.7897 - val_accuracy: 0.5120\n",
            "Epoch 3/50\n",
            "4387/4387 [==============================] - 314s 72ms/step - loss: 1.6131 - accuracy: 0.5513 - val_loss: 1.7592 - val_accuracy: 0.5184\n",
            "Epoch 4/50\n",
            "4387/4387 [==============================] - 328s 75ms/step - loss: 1.5111 - accuracy: 0.5734 - val_loss: 1.7461 - val_accuracy: 0.5239\n",
            "Epoch 5/50\n",
            "4387/4387 [==============================] - 315s 72ms/step - loss: 1.4222 - accuracy: 0.5949 - val_loss: 1.7519 - val_accuracy: 0.5245\n",
            "Epoch 6/50\n",
            "4387/4387 [==============================] - 316s 72ms/step - loss: 1.3429 - accuracy: 0.6147 - val_loss: 1.7886 - val_accuracy: 0.5224\n",
            "Epoch 7/50\n",
            "4387/4387 [==============================] - 314s 71ms/step - loss: 1.2687 - accuracy: 0.6339 - val_loss: 1.8287 - val_accuracy: 0.5191\n"
          ]
        }
      ],
      "source": [
        "# Train the model with early stopping\n",
        "early_stopping = tf.keras.callbacks.EarlyStopping(monitor='val_loss', patience=3, restore_best_weights=True)\n",
        "histroy2=model3.fit(X_train, y_train, epochs=50, batch_size=32, validation_data=(X_test, y_test), callbacks=[early_stopping])"
      ]
    },
    {
      "cell_type": "code",
      "execution_count": 59,
      "metadata": {
        "id": "7CPTZxCtnKhV",
        "colab": {
          "base_uri": "https://localhost:8080/"
        },
        "outputId": "b78ade59-7c98-43cc-dbd2-cafe130e4f52"
      },
      "outputs": [
        {
          "output_type": "stream",
          "name": "stdout",
          "text": [
            "2161/2161 [==============================] - 39s 18ms/step\n"
          ]
        }
      ],
      "source": [
        "y_pred_lstm=model3.predict(X_test)"
      ]
    },
    {
      "cell_type": "code",
      "execution_count": 60,
      "metadata": {
        "id": "ycBKKtSg4sn0",
        "colab": {
          "base_uri": "https://localhost:8080/",
          "height": 449
        },
        "outputId": "7395097b-34a1-4f32-f34b-2e28df98bd38"
      },
      "outputs": [
        {
          "output_type": "display_data",
          "data": {
            "text/plain": [
              "<Figure size 640x480 with 1 Axes>"
            ],
            "image/png": "[encoded data removed]"
          },
          "metadata": {}
        }
      ],
      "source": [
        "plt.plot(histroy2.history['accuracy'],label='Accuracy')\n",
        "plt.plot(histroy2.history['val_accuracy'],label='val_Accuracy')\n",
        "plt.legend()\n",
        "plt.xlabel(\"Epochs\")\n",
        "plt.ylabel(\"Accuracy\")\n",
        "plt.show()"
      ]
    },
    {
      "cell_type": "code",
      "execution_count": 61,
      "metadata": {
        "id": "JhS-Ur6mc4IJ",
        "colab": {
          "base_uri": "https://localhost:8080/",
          "height": 449
        },
        "outputId": "b2f650bb-afe4-4fa5-fa42-84ffafc9c91c"
      },
      "outputs": [
        {
          "output_type": "display_data",
          "data": {
            "text/plain": [
              "<Figure size 640x480 with 1 Axes>"
            ],
            "image/png": "[encoded data removed]"
          },
          "metadata": {}
        }
      ],
      "source": [
        "plt.plot(histroy2.history['loss'],label='loss')\n",
        "plt.plot(histroy2.history['val_loss'],label='val_loss')\n",
        "plt.legend()\n",
        "plt.xlabel(\"Epochs\")\n",
        "plt.ylabel(\"loss\")\n",
        "plt.show()"
      ]
    },
    {
      "cell_type": "markdown",
      "metadata": {
        "id": "qrlIxvh4dJTQ"
      },
      "source": [
        "#### **Testing on some sample Texts**"
      ]
    },
    {
      "cell_type": "code",
      "execution_count": 62,
      "metadata": {
        "id": "-1hB1KGwdD0n",
        "colab": {
          "base_uri": "https://localhost:8080/"
        },
        "outputId": "88484bcb-ffbd-4eed-d326-9733587d49d1"
      },
      "outputs": [
        {
          "output_type": "stream",
          "name": "stdout",
          "text": [
            "1/1 [==============================] - 0s 31ms/step\n",
            "['SCIENCE' 'BUSINESS']\n"
          ]
        }
      ],
      "source": [
        "# Make predictions (same as before)\n",
        "sample_headlines = [\"Breaking news: New discovery in space\", \"Stock market reaches all-time high\"]\n",
        "sample_headlines_vec = vectorizer.transform(sample_headlines).toarray()\n",
        "predictions = model1.predict(sample_headlines_vec)\n",
        "predicted_categories = label_encoder.inverse_transform(predictions.argmax(axis=-1))\n",
        "print(predicted_categories)"
      ]
    },
    {
      "cell_type": "code",
      "execution_count": 63,
      "metadata": {
        "id": "qSTQL6wsdPkQ",
        "colab": {
          "base_uri": "https://localhost:8080/"
        },
        "outputId": "e9348969-d268-4c12-d9b2-456b46c9efdd"
      },
      "outputs": [
        {
          "output_type": "stream",
          "name": "stdout",
          "text": [
            "1/1 [==============================] - 0s 32ms/step\n",
            "['STYLE & BEAUTY' 'ENTERTAINMENT']\n"
          ]
        }
      ],
      "source": [
        "from tensorflow.keras.preprocessing.text import Tokenizer\n",
        "\n",
        "sample_headlines = [\"Economists predict steady growth in job market for 2023\", \"New study reveals surprising health benefits of chocolate\"]\n",
        "\n",
        "tokenizer = Tokenizer(num_words=5000)  # Adjust num_words as needed\n",
        "tokenizer.fit_on_texts(sample_headlines)  # Assuming train_headlines is your training data\n",
        "\n",
        "# Tokenize the sample headlines using the same tokenizer\n",
        "sample_sequences = tokenizer.texts_to_sequences(sample_headlines)\n",
        "sample_sequences_padded = pad_sequences(sample_sequences, maxlen=50)\n",
        "\n",
        "# Make predictions\n",
        "predictions = model3.predict(sample_sequences_padded)\n",
        "predicted_categories = label_encoder.inverse_transform(predictions.argmax(axis=1))\n",
        "print(predicted_categories)"
      ]
    },
    {
      "cell_type": "code",
      "execution_count": 63,
      "metadata": {
        "id": "l4hicSfZdxvL"
      },
      "outputs": [],
      "source": []
    }
  ],
  "metadata": {
    "colab": {
      "provenance": [],
      "include_colab_link": true
    },
    "kernelspec": {
      "display_name": "Python 3",
      "name": "python3"
    },
    "language_info": {
      "codemirror_mode": {
        "name": "ipython",
        "version": 3
      },
      "file_extension": ".py",
      "mimetype": "text/x-python",
      "name": "python",
      "nbconvert_exporter": "python",
      "pygments_lexer": "ipython3",
      "version": "3.10.12"
    }
  },
  "nbformat": 4,
  "nbformat_minor": 0
}